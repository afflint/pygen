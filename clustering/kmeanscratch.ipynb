{
 "cells": [
  {
   "cell_type": "markdown",
   "metadata": {},
   "source": [
    "# KMeans from scratch\n",
    "Simple Python exercise in which we implement a naive version of KMeans by exploiting <code>numpy</code>."
   ]
  },
  {
   "cell_type": "markdown",
   "metadata": {},
   "source": [
    "## STEP 1: getting 2-dimensional data from the traffic sample "
   ]
  },
  {
   "cell_type": "code",
   "execution_count": 1,
   "metadata": {},
   "outputs": [],
   "source": [
    "import pandas as pd\n",
    "import numpy as np\n",
    "import matplotlib.pyplot as plt\n",
    "from scipy.spatial import distance\n",
    "import time"
   ]
  },
  {
   "cell_type": "code",
   "execution_count": null,
   "metadata": {},
   "outputs": [],
   "source": [
    "accidents = '../data/trafficsample.csv'\n",
    "A = pd.read_csv(accidents, low_memory=False, index_col=0)\n",
    "L = A[['Longitude', 'Latitude']]\n",
    "sample = np.random.choice(L.index, 50)\n",
    "S = L.loc[sample]"
   ]
  },
  {
   "cell_type": "markdown",
   "metadata": {},
   "source": [
    "## STEP 2: visualize data and select K"
   ]
  },
  {
   "cell_type": "code",
   "execution_count": null,
   "metadata": {},
   "outputs": [],
   "source": [
    "fig, axes = plt.subplots(nrows=1, ncols=1, figsize=(4, 4))\n",
    "axes.scatter(S.Longitude, S.Latitude, alpha=0.4)\n",
    "plt.show()"
   ]
  },
  {
   "cell_type": "code",
   "execution_count": null,
   "metadata": {},
   "outputs": [],
   "source": [
    "k = 3\n",
    "colors = ['#FF9900', '#FF0000', '#009900']"
   ]
  },
  {
   "cell_type": "code",
   "execution_count": null,
   "metadata": {},
   "outputs": [],
   "source": [
    "executions = []"
   ]
  },
  {
   "cell_type": "markdown",
   "metadata": {},
   "source": [
    "## STEP 3: create random clusters"
   ]
  },
  {
   "cell_type": "code",
   "execution_count": null,
   "metadata": {},
   "outputs": [],
   "source": [
    "centroids, clusters = [], {}\n",
    "xmn, xmx = S.Longitude.min(), S.Longitude.max()\n",
    "ymn, ymx = S.Latitude.min(), S.Latitude.max()\n",
    "for x in range(0, k):\n",
    "    centroids.append(np.array([np.random.uniform(xmn, xmx), np.random.uniform(ymn, ymx)]))\n",
    "    clusters[x] = []"
   ]
  },
  {
   "cell_type": "markdown",
   "metadata": {},
   "source": [
    "### Centroid visualization"
   ]
  },
  {
   "cell_type": "code",
   "execution_count": null,
   "metadata": {},
   "outputs": [],
   "source": [
    "fig, axes = plt.subplots(nrows=1, ncols=1, figsize=(4, 4))\n",
    "axes.scatter(S.Longitude, S.Latitude, alpha=0.4)\n",
    "for i, centroid in enumerate(centroids):\n",
    "    axes.scatter(centroid[0], centroid[1], \n",
    "                 c=colors[i], label=\"cluster {}\".format(i), marker='x', s=150)\n",
    "plt.legend()\n",
    "plt.show()"
   ]
  },
  {
   "cell_type": "markdown",
   "metadata": {},
   "source": [
    "## STEP 4: assignment\n",
    "Assign each point to the cluster corresponding to the nearest centroid"
   ]
  },
  {
   "cell_type": "code",
   "execution_count": null,
   "metadata": {},
   "outputs": [],
   "source": [
    "new_clusters = dict([(k, []) for k, v in clusters.items()])\n",
    "for i, row in S.iterrows():\n",
    "    point = np.array(row)\n",
    "    distances = [distance.euclidean(point, x) for x in centroids]\n",
    "    nearest = np.argmin(distances)\n",
    "    new_clusters[nearest].append(point)\n",
    "clusters = new_clusters"
   ]
  },
  {
   "cell_type": "markdown",
   "metadata": {},
   "source": [
    "### Assignment visualization"
   ]
  },
  {
   "cell_type": "code",
   "execution_count": null,
   "metadata": {},
   "outputs": [],
   "source": [
    "fig, axes = plt.subplots(nrows=1, ncols=1, figsize=(4, 4))\n",
    "for cluster, points in clusters.items():\n",
    "    pts = np.array(points)\n",
    "    if len(pts) > 0:\n",
    "        axes.scatter(pts[:,0], pts[:,1], alpha=0.4, c=colors[cluster])\n",
    "for i, centroid in enumerate(centroids):\n",
    "    axes.scatter(centroid[0], centroid[1], c=colors[i], label=\"cluster {}\".format(i), marker='x', s=150)\n",
    "plt.legend()\n",
    "plt.show()"
   ]
  },
  {
   "cell_type": "markdown",
   "metadata": {},
   "source": [
    "## STEP 5: calculate RSV and recompute centroids\n",
    "Calculate:\n",
    "$$\n",
    "\\sum\\limits_{i}^{k}\\sum\\limits_{x}^{C_i} \\mid\\mid \\vec{x} - \\vec{\\mu_i}\\mid\\mid^2\n",
    "$$"
   ]
  },
  {
   "cell_type": "code",
   "execution_count": null,
   "metadata": {},
   "outputs": [],
   "source": [
    "s = 0\n",
    "for i, (k, cluster) in enumerate(clusters.items()):\n",
    "    distances = np.array([distance.euclidean(centroids[i], x) for x in cluster])\n",
    "    s += distances.sum()\n",
    "for i, (k, cluster) in enumerate(clusters.items()):\n",
    "    centroids[i] = np.mean(cluster, axis=0)"
   ]
  },
  {
   "cell_type": "markdown",
   "metadata": {},
   "source": [
    "## STEP 6: monitor executions"
   ]
  },
  {
   "cell_type": "code",
   "execution_count": null,
   "metadata": {},
   "outputs": [],
   "source": [
    "executions.append(s)"
   ]
  },
  {
   "cell_type": "code",
   "execution_count": null,
   "metadata": {},
   "outputs": [],
   "source": [
    "fig, axes = plt.subplots(nrows=1, ncols=1, figsize=(14, 6))\n",
    "axes.bar(range(0, len(executions)), executions)\n",
    "plt.show()"
   ]
  },
  {
   "cell_type": "markdown",
   "metadata": {},
   "source": [
    "# Put all together"
   ]
  },
  {
   "cell_type": "code",
   "execution_count": 2,
   "metadata": {},
   "outputs": [],
   "source": [
    "from IPython.display import clear_output\n",
    "\n",
    "def kmeans(data, k, colors, fsize=(14, 4)):\n",
    "    executions = []\n",
    "    fig, axes = plt.subplots(nrows=1, ncols=2, figsize=fsize)\n",
    "    centroids, clusters = [], {}\n",
    "    xmn, xmx = data.iloc[:,0].min(), data.iloc[:,0].max()\n",
    "    ymn, ymx = data.iloc[:,1].min(), data.iloc[:,1].max()\n",
    "    for x in range(0, k):\n",
    "        centroids.append(np.array([np.random.uniform(xmn, xmx), np.random.uniform(ymn, ymx)]))\n",
    "        clusters[x] = []\n",
    "    axes[0].scatter(data.iloc[:,0], data.iloc[:,1], alpha=0.4)\n",
    "    for i, centroid in enumerate(centroids):\n",
    "        axes[0].scatter(centroid[0], centroid[1], \n",
    "                     c=colors[i], label=\"cluster {}\".format(i), \n",
    "                        marker='x', s=150)\n",
    "    plt.show()\n",
    "    run = True\n",
    "    while(run):\n",
    "        time.sleep(0.8)\n",
    "        clear_output(wait=True)\n",
    "        fig, axes = plt.subplots(nrows=1, ncols=2, figsize=fsize)\n",
    "        axes[0].clear()\n",
    "        axes[1].clear()\n",
    "        new_clusters = dict([(k, []) for k, v in clusters.items()])\n",
    "        for i, row in data.iterrows():\n",
    "            point = np.array(row)\n",
    "            distances = [distance.euclidean(point, x) for x in centroids]\n",
    "            nearest = np.argmin(distances)\n",
    "            new_clusters[nearest].append(point)\n",
    "        clusters = new_clusters\n",
    "        for cluster, points in clusters.items():\n",
    "            pts = np.array(points)\n",
    "            if len(pts) > 0:\n",
    "                axes[0].scatter(pts[:,0], pts[:,1], alpha=0.1, c=colors[cluster])\n",
    "            for i, centroid in enumerate(centroids):\n",
    "                axes[0].scatter(centroid[0], centroid[1], c=colors[i], \n",
    "                                    label=\"cluster {}\".format(i), marker='x', s=150)\n",
    "        s = 0\n",
    "        for i, (k, cluster) in enumerate(clusters.items()):\n",
    "            distances = np.array([distance.euclidean(centroids[i], x) for x in cluster])\n",
    "            s += distances.sum()\n",
    "        for i, (k, cluster) in enumerate(clusters.items()):\n",
    "            centroids[i] = np.mean(cluster, axis=0)\n",
    "        executions.append(s)\n",
    "        axes[1].bar(range(0, len(executions)), executions)\n",
    "        plt.show()\n",
    "        if len(executions) > 1 and executions[-1] == executions[-2]:\n",
    "            run = False"
   ]
  },
  {
   "cell_type": "code",
   "execution_count": 3,
   "metadata": {},
   "outputs": [
    {
     "data": {
      "image/png": "[encoded data removed]",
      "text/plain": [
       "<Figure size 1152x288 with 2 Axes>"
      ]
     },
     "metadata": {
      "needs_background": "light"
     },
     "output_type": "display_data"
    }
   ],
   "source": [
    "accidents = '../data/trafficsample.csv'\n",
    "A = pd.read_csv(accidents, low_memory=False, index_col=0)\n",
    "L = A[['Longitude', 'Latitude']]\n",
    "sample = np.random.choice(L.index, 500)\n",
    "data = L.loc[sample]\n",
    "kmeans(data, k=6, colors=['#FF9900', '#FF0000', '#009900', \n",
    "                          '#00FFFF', '#0000FF', '#0099FF', \n",
    "                          '#00CCFF', '#FF99FF'], fsize=(16, 4))"
   ]
  },
  {
   "cell_type": "code",
   "execution_count": null,
   "metadata": {},
   "outputs": [],
   "source": []
  },
  {
   "cell_type": "code",
   "execution_count": null,
   "metadata": {},
   "outputs": [],
   "source": []
  }
 ],
 "metadata": {
  "kernelspec": {
   "display_name": "Python 3",
   "language": "python",
   "name": "python3"
  },
  "language_info": {
   "codemirror_mode": {
    "name": "ipython",
    "version": 3
   },
   "file_extension": ".py",
   "mimetype": "text/x-python",
   "name": "python",
   "nbconvert_exporter": "python",
   "pygments_lexer": "ipython3",
   "version": "3.7.1"
  }
 },
 "nbformat": 4,
 "nbformat_minor": 2
}
