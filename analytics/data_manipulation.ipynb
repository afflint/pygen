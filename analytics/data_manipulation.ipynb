{
 "cells": [
  {
   "cell_type": "markdown",
   "metadata": {},
   "source": [
    "# Prepare data for the pipeline"
   ]
  },
  {
   "cell_type": "code",
   "execution_count": 2,
   "metadata": {},
   "outputs": [],
   "source": [
    "%%capture\n",
    "import nbimporter\n",
    "import pandas as pd\n",
    "from utils import TrainingSet, DataCleaner, CategoricalData\n",
    "import matplotlib.pyplot as plt"
   ]
  },
  {
   "cell_type": "code",
   "execution_count": 3,
   "metadata": {},
   "outputs": [],
   "source": [
    "df = pd.read_csv('../data/housing/housing.csv')\n",
    "dt = TrainingSet(df, test_size=0.25)"
   ]
  },
  {
   "cell_type": "code",
   "execution_count": 4,
   "metadata": {},
   "outputs": [
    {
     "data": {
      "text/html": [
       "<div>\n",
       "<style scoped>\n",
       "    .dataframe tbody tr th:only-of-type {\n",
       "        vertical-align: middle;\n",
       "    }\n",
       "\n",
       "    .dataframe tbody tr th {\n",
       "        vertical-align: top;\n",
       "    }\n",
       "\n",
       "    .dataframe thead th {\n",
       "        text-align: right;\n",
       "    }\n",
       "</style>\n",
       "<table border=\"1\" class=\"dataframe\">\n",
       "  <thead>\n",
       "    <tr style=\"text-align: right;\">\n",
       "      <th></th>\n",
       "      <th>longitude</th>\n",
       "      <th>latitude</th>\n",
       "      <th>housing_median_age</th>\n",
       "      <th>total_rooms</th>\n",
       "      <th>total_bedrooms</th>\n",
       "      <th>population</th>\n",
       "      <th>households</th>\n",
       "      <th>median_income</th>\n",
       "      <th>median_house_value</th>\n",
       "      <th>ocean_proximity</th>\n",
       "    </tr>\n",
       "  </thead>\n",
       "  <tbody>\n",
       "    <tr>\n",
       "      <th>0</th>\n",
       "      <td>-122.23</td>\n",
       "      <td>37.88</td>\n",
       "      <td>41.0</td>\n",
       "      <td>880.0</td>\n",
       "      <td>129.0</td>\n",
       "      <td>322.0</td>\n",
       "      <td>126.0</td>\n",
       "      <td>8.3252</td>\n",
       "      <td>452600.0</td>\n",
       "      <td>NEAR BAY</td>\n",
       "    </tr>\n",
       "    <tr>\n",
       "      <th>1</th>\n",
       "      <td>-122.22</td>\n",
       "      <td>37.86</td>\n",
       "      <td>21.0</td>\n",
       "      <td>7099.0</td>\n",
       "      <td>1106.0</td>\n",
       "      <td>2401.0</td>\n",
       "      <td>1138.0</td>\n",
       "      <td>8.3014</td>\n",
       "      <td>358500.0</td>\n",
       "      <td>NEAR BAY</td>\n",
       "    </tr>\n",
       "    <tr>\n",
       "      <th>2</th>\n",
       "      <td>-122.24</td>\n",
       "      <td>37.85</td>\n",
       "      <td>52.0</td>\n",
       "      <td>1467.0</td>\n",
       "      <td>190.0</td>\n",
       "      <td>496.0</td>\n",
       "      <td>177.0</td>\n",
       "      <td>7.2574</td>\n",
       "      <td>352100.0</td>\n",
       "      <td>NEAR BAY</td>\n",
       "    </tr>\n",
       "    <tr>\n",
       "      <th>3</th>\n",
       "      <td>-122.25</td>\n",
       "      <td>37.85</td>\n",
       "      <td>52.0</td>\n",
       "      <td>1274.0</td>\n",
       "      <td>235.0</td>\n",
       "      <td>558.0</td>\n",
       "      <td>219.0</td>\n",
       "      <td>5.6431</td>\n",
       "      <td>341300.0</td>\n",
       "      <td>NEAR BAY</td>\n",
       "    </tr>\n",
       "    <tr>\n",
       "      <th>4</th>\n",
       "      <td>-122.25</td>\n",
       "      <td>37.85</td>\n",
       "      <td>52.0</td>\n",
       "      <td>1627.0</td>\n",
       "      <td>280.0</td>\n",
       "      <td>565.0</td>\n",
       "      <td>259.0</td>\n",
       "      <td>3.8462</td>\n",
       "      <td>342200.0</td>\n",
       "      <td>NEAR BAY</td>\n",
       "    </tr>\n",
       "  </tbody>\n",
       "</table>\n",
       "</div>"
      ],
      "text/plain": [
       "   longitude  latitude  housing_median_age  total_rooms  total_bedrooms  \\\n",
       "0    -122.23     37.88                41.0        880.0           129.0   \n",
       "1    -122.22     37.86                21.0       7099.0          1106.0   \n",
       "2    -122.24     37.85                52.0       1467.0           190.0   \n",
       "3    -122.25     37.85                52.0       1274.0           235.0   \n",
       "4    -122.25     37.85                52.0       1627.0           280.0   \n",
       "\n",
       "   population  households  median_income  median_house_value ocean_proximity  \n",
       "0       322.0       126.0         8.3252            452600.0        NEAR BAY  \n",
       "1      2401.0      1138.0         8.3014            358500.0        NEAR BAY  \n",
       "2       496.0       177.0         7.2574            352100.0        NEAR BAY  \n",
       "3       558.0       219.0         5.6431            341300.0        NEAR BAY  \n",
       "4       565.0       259.0         3.8462            342200.0        NEAR BAY  "
      ]
     },
     "execution_count": 4,
     "metadata": {},
     "output_type": "execute_result"
    }
   ],
   "source": [
    "df.head()"
   ]
  },
  {
   "cell_type": "code",
   "execution_count": 6,
   "metadata": {},
   "outputs": [],
   "source": [
    "Tr, Xr = dt.random_test()\n",
    "Th, Xh = dt.hash_test()\n",
    "Ts, Xs = dt.stratified_test(column='median_house_value', strata=5)"
   ]
  },
  {
   "cell_type": "code",
   "execution_count": 7,
   "metadata": {},
   "outputs": [
    {
     "name": "stdout",
     "output_type": "stream",
     "text": [
      "(5160, 10) (5219, 10) (5160, 10)\n"
     ]
    }
   ],
   "source": [
    "print (Xr.shape, Xh.shape, Xs.shape)"
   ]
  },
  {
   "cell_type": "code",
   "execution_count": 10,
   "metadata": {},
   "outputs": [
    {
     "data": {
      "image/png": "[encoded data removed]",
      "text/plain": [
       "<Figure size 1152x288 with 4 Axes>"
      ]
     },
     "metadata": {},
     "output_type": "display_data"
    }
   ],
   "source": [
    "column = 'median_house_value'\n",
    "fig, axes = plt.subplots(nrows=1, ncols=4, figsize=(16, 4))\n",
    "df[column].hist(bins=50, ax=axes[0])\n",
    "axes[0].set_title('Real - {}'.format(column))\n",
    "Xr[column].hist(bins=50, ax=axes[1])\n",
    "axes[1].set_title('Random - {}'.format(column))\n",
    "Xh[column].hist(bins=50, ax=axes[2])\n",
    "axes[2].set_title('Hash - {}'.format(column))\n",
    "Xs[column].hist(bins=50, ax=axes[3])\n",
    "axes[3].set_title('Stratified - {}'.format(column))\n",
    "plt.show()"
   ]
  },
  {
   "cell_type": "markdown",
   "metadata": {},
   "source": [
    "## Separate training attributes from target labels"
   ]
  },
  {
   "cell_type": "code",
   "execution_count": 11,
   "metadata": {},
   "outputs": [],
   "source": [
    "X, L = TrainingSet.training_labels(Ts, ['median_house_value'])"
   ]
  },
  {
   "cell_type": "code",
   "execution_count": 17,
   "metadata": {},
   "outputs": [
    {
     "data": {
      "text/plain": [
       "143"
      ]
     },
     "execution_count": 17,
     "metadata": {},
     "output_type": "execute_result"
    }
   ],
   "source": [
    "X.total_bedrooms.isnull().sum()"
   ]
  },
  {
   "cell_type": "code",
   "execution_count": 13,
   "metadata": {},
   "outputs": [
    {
     "data": {
      "text/html": [
       "<div>\n",
       "<style scoped>\n",
       "    .dataframe tbody tr th:only-of-type {\n",
       "        vertical-align: middle;\n",
       "    }\n",
       "\n",
       "    .dataframe tbody tr th {\n",
       "        vertical-align: top;\n",
       "    }\n",
       "\n",
       "    .dataframe thead th {\n",
       "        text-align: right;\n",
       "    }\n",
       "</style>\n",
       "<table border=\"1\" class=\"dataframe\">\n",
       "  <thead>\n",
       "    <tr style=\"text-align: right;\">\n",
       "      <th></th>\n",
       "      <th>longitude</th>\n",
       "      <th>latitude</th>\n",
       "      <th>housing_median_age</th>\n",
       "      <th>total_rooms</th>\n",
       "      <th>total_bedrooms</th>\n",
       "      <th>population</th>\n",
       "      <th>households</th>\n",
       "      <th>median_income</th>\n",
       "      <th>ocean_proximity</th>\n",
       "    </tr>\n",
       "  </thead>\n",
       "  <tbody>\n",
       "    <tr>\n",
       "      <th>16822</th>\n",
       "      <td>-122.53</td>\n",
       "      <td>37.65</td>\n",
       "      <td>20.0</td>\n",
       "      <td>4582.0</td>\n",
       "      <td>1124.0</td>\n",
       "      <td>2325.0</td>\n",
       "      <td>1040.0</td>\n",
       "      <td>4.0556</td>\n",
       "      <td>NEAR OCEAN</td>\n",
       "    </tr>\n",
       "    <tr>\n",
       "      <th>1733</th>\n",
       "      <td>-122.35</td>\n",
       "      <td>37.97</td>\n",
       "      <td>43.0</td>\n",
       "      <td>2178.0</td>\n",
       "      <td>482.0</td>\n",
       "      <td>1545.0</td>\n",
       "      <td>471.0</td>\n",
       "      <td>2.5863</td>\n",
       "      <td>NEAR BAY</td>\n",
       "    </tr>\n",
       "    <tr>\n",
       "      <th>1326</th>\n",
       "      <td>-121.89</td>\n",
       "      <td>38.02</td>\n",
       "      <td>36.0</td>\n",
       "      <td>2707.0</td>\n",
       "      <td>550.0</td>\n",
       "      <td>1827.0</td>\n",
       "      <td>545.0</td>\n",
       "      <td>3.3371</td>\n",
       "      <td>INLAND</td>\n",
       "    </tr>\n",
       "    <tr>\n",
       "      <th>6646</th>\n",
       "      <td>-118.13</td>\n",
       "      <td>34.17</td>\n",
       "      <td>49.0</td>\n",
       "      <td>1962.0</td>\n",
       "      <td>435.0</td>\n",
       "      <td>1329.0</td>\n",
       "      <td>457.0</td>\n",
       "      <td>3.2898</td>\n",
       "      <td>&lt;1H OCEAN</td>\n",
       "    </tr>\n",
       "    <tr>\n",
       "      <th>18330</th>\n",
       "      <td>-122.14</td>\n",
       "      <td>37.45</td>\n",
       "      <td>48.0</td>\n",
       "      <td>2074.0</td>\n",
       "      <td>297.0</td>\n",
       "      <td>700.0</td>\n",
       "      <td>279.0</td>\n",
       "      <td>8.7051</td>\n",
       "      <td>NEAR BAY</td>\n",
       "    </tr>\n",
       "  </tbody>\n",
       "</table>\n",
       "</div>"
      ],
      "text/plain": [
       "       longitude  latitude  housing_median_age  total_rooms  total_bedrooms  \\\n",
       "16822    -122.53     37.65                20.0       4582.0          1124.0   \n",
       "1733     -122.35     37.97                43.0       2178.0           482.0   \n",
       "1326     -121.89     38.02                36.0       2707.0           550.0   \n",
       "6646     -118.13     34.17                49.0       1962.0           435.0   \n",
       "18330    -122.14     37.45                48.0       2074.0           297.0   \n",
       "\n",
       "       population  households  median_income ocean_proximity  \n",
       "16822      2325.0      1040.0         4.0556      NEAR OCEAN  \n",
       "1733       1545.0       471.0         2.5863        NEAR BAY  \n",
       "1326       1827.0       545.0         3.3371          INLAND  \n",
       "6646       1329.0       457.0         3.2898       <1H OCEAN  \n",
       "18330       700.0       279.0         8.7051        NEAR BAY  "
      ]
     },
     "execution_count": 13,
     "metadata": {},
     "output_type": "execute_result"
    }
   ],
   "source": [
    "X.head()"
   ]
  },
  {
   "cell_type": "markdown",
   "metadata": {},
   "source": [
    "## Data cleaning"
   ]
  },
  {
   "cell_type": "code",
   "execution_count": 18,
   "metadata": {},
   "outputs": [],
   "source": [
    "cleaner = DataCleaner(text_attributes=['ocean_proximity'])"
   ]
  },
  {
   "cell_type": "code",
   "execution_count": 19,
   "metadata": {},
   "outputs": [],
   "source": [
    "Xc = cleaner.fit_transform(X)"
   ]
  },
  {
   "cell_type": "code",
   "execution_count": 20,
   "metadata": {},
   "outputs": [
    {
     "data": {
      "text/plain": [
       "0"
      ]
     },
     "execution_count": 20,
     "metadata": {},
     "output_type": "execute_result"
    }
   ],
   "source": [
    "Xc.total_bedrooms.isnull().sum()"
   ]
  },
  {
   "cell_type": "code",
   "execution_count": 21,
   "metadata": {},
   "outputs": [
    {
     "data": {
      "text/html": [
       "<div>\n",
       "<style scoped>\n",
       "    .dataframe tbody tr th:only-of-type {\n",
       "        vertical-align: middle;\n",
       "    }\n",
       "\n",
       "    .dataframe tbody tr th {\n",
       "        vertical-align: top;\n",
       "    }\n",
       "\n",
       "    .dataframe thead th {\n",
       "        text-align: right;\n",
       "    }\n",
       "</style>\n",
       "<table border=\"1\" class=\"dataframe\">\n",
       "  <thead>\n",
       "    <tr style=\"text-align: right;\">\n",
       "      <th></th>\n",
       "      <th>longitude</th>\n",
       "      <th>latitude</th>\n",
       "      <th>housing_median_age</th>\n",
       "      <th>total_rooms</th>\n",
       "      <th>total_bedrooms</th>\n",
       "      <th>population</th>\n",
       "      <th>households</th>\n",
       "      <th>median_income</th>\n",
       "      <th>ocean_proximity</th>\n",
       "    </tr>\n",
       "  </thead>\n",
       "  <tbody>\n",
       "    <tr>\n",
       "      <th>16822</th>\n",
       "      <td>-122.53</td>\n",
       "      <td>37.65</td>\n",
       "      <td>20.0</td>\n",
       "      <td>4582.0</td>\n",
       "      <td>1124.0</td>\n",
       "      <td>2325.0</td>\n",
       "      <td>1040.0</td>\n",
       "      <td>4.0556</td>\n",
       "      <td>NEAR OCEAN</td>\n",
       "    </tr>\n",
       "    <tr>\n",
       "      <th>1733</th>\n",
       "      <td>-122.35</td>\n",
       "      <td>37.97</td>\n",
       "      <td>43.0</td>\n",
       "      <td>2178.0</td>\n",
       "      <td>482.0</td>\n",
       "      <td>1545.0</td>\n",
       "      <td>471.0</td>\n",
       "      <td>2.5863</td>\n",
       "      <td>NEAR BAY</td>\n",
       "    </tr>\n",
       "    <tr>\n",
       "      <th>1326</th>\n",
       "      <td>-121.89</td>\n",
       "      <td>38.02</td>\n",
       "      <td>36.0</td>\n",
       "      <td>2707.0</td>\n",
       "      <td>550.0</td>\n",
       "      <td>1827.0</td>\n",
       "      <td>545.0</td>\n",
       "      <td>3.3371</td>\n",
       "      <td>INLAND</td>\n",
       "    </tr>\n",
       "    <tr>\n",
       "      <th>6646</th>\n",
       "      <td>-118.13</td>\n",
       "      <td>34.17</td>\n",
       "      <td>49.0</td>\n",
       "      <td>1962.0</td>\n",
       "      <td>435.0</td>\n",
       "      <td>1329.0</td>\n",
       "      <td>457.0</td>\n",
       "      <td>3.2898</td>\n",
       "      <td>&lt;1H OCEAN</td>\n",
       "    </tr>\n",
       "    <tr>\n",
       "      <th>18330</th>\n",
       "      <td>-122.14</td>\n",
       "      <td>37.45</td>\n",
       "      <td>48.0</td>\n",
       "      <td>2074.0</td>\n",
       "      <td>297.0</td>\n",
       "      <td>700.0</td>\n",
       "      <td>279.0</td>\n",
       "      <td>8.7051</td>\n",
       "      <td>NEAR BAY</td>\n",
       "    </tr>\n",
       "  </tbody>\n",
       "</table>\n",
       "</div>"
      ],
      "text/plain": [
       "       longitude  latitude  housing_median_age  total_rooms  total_bedrooms  \\\n",
       "16822    -122.53     37.65                20.0       4582.0          1124.0   \n",
       "1733     -122.35     37.97                43.0       2178.0           482.0   \n",
       "1326     -121.89     38.02                36.0       2707.0           550.0   \n",
       "6646     -118.13     34.17                49.0       1962.0           435.0   \n",
       "18330    -122.14     37.45                48.0       2074.0           297.0   \n",
       "\n",
       "       population  households  median_income ocean_proximity  \n",
       "16822      2325.0      1040.0         4.0556      NEAR OCEAN  \n",
       "1733       1545.0       471.0         2.5863        NEAR BAY  \n",
       "1326       1827.0       545.0         3.3371          INLAND  \n",
       "6646       1329.0       457.0         3.2898       <1H OCEAN  \n",
       "18330       700.0       279.0         8.7051        NEAR BAY  "
      ]
     },
     "execution_count": 21,
     "metadata": {},
     "output_type": "execute_result"
    }
   ],
   "source": [
    "Xc.head()"
   ]
  },
  {
   "cell_type": "markdown",
   "metadata": {},
   "source": [
    "## Text and categorical attributes"
   ]
  },
  {
   "cell_type": "code",
   "execution_count": 22,
   "metadata": {},
   "outputs": [],
   "source": [
    "cat = CategoricalData(text_attribute='ocean_proximity')"
   ]
  },
  {
   "cell_type": "code",
   "execution_count": 23,
   "metadata": {},
   "outputs": [],
   "source": [
    "Xk = cat.fit_transform(Xc)"
   ]
  },
  {
   "cell_type": "code",
   "execution_count": 24,
   "metadata": {},
   "outputs": [
    {
     "data": {
      "text/html": [
       "<div>\n",
       "<style scoped>\n",
       "    .dataframe tbody tr th:only-of-type {\n",
       "        vertical-align: middle;\n",
       "    }\n",
       "\n",
       "    .dataframe tbody tr th {\n",
       "        vertical-align: top;\n",
       "    }\n",
       "\n",
       "    .dataframe thead th {\n",
       "        text-align: right;\n",
       "    }\n",
       "</style>\n",
       "<table border=\"1\" class=\"dataframe\">\n",
       "  <thead>\n",
       "    <tr style=\"text-align: right;\">\n",
       "      <th></th>\n",
       "      <th>longitude</th>\n",
       "      <th>latitude</th>\n",
       "      <th>housing_median_age</th>\n",
       "      <th>total_rooms</th>\n",
       "      <th>total_bedrooms</th>\n",
       "      <th>population</th>\n",
       "      <th>households</th>\n",
       "      <th>median_income</th>\n",
       "      <th>&lt;1H OCEAN</th>\n",
       "      <th>INLAND</th>\n",
       "      <th>ISLAND</th>\n",
       "      <th>NEAR BAY</th>\n",
       "      <th>NEAR OCEAN</th>\n",
       "    </tr>\n",
       "  </thead>\n",
       "  <tbody>\n",
       "    <tr>\n",
       "      <th>16822</th>\n",
       "      <td>-122.53</td>\n",
       "      <td>37.65</td>\n",
       "      <td>20.0</td>\n",
       "      <td>4582.0</td>\n",
       "      <td>1124.0</td>\n",
       "      <td>2325.0</td>\n",
       "      <td>1040.0</td>\n",
       "      <td>4.0556</td>\n",
       "      <td>0</td>\n",
       "      <td>0</td>\n",
       "      <td>0</td>\n",
       "      <td>0</td>\n",
       "      <td>1</td>\n",
       "    </tr>\n",
       "    <tr>\n",
       "      <th>1733</th>\n",
       "      <td>-122.35</td>\n",
       "      <td>37.97</td>\n",
       "      <td>43.0</td>\n",
       "      <td>2178.0</td>\n",
       "      <td>482.0</td>\n",
       "      <td>1545.0</td>\n",
       "      <td>471.0</td>\n",
       "      <td>2.5863</td>\n",
       "      <td>0</td>\n",
       "      <td>0</td>\n",
       "      <td>0</td>\n",
       "      <td>1</td>\n",
       "      <td>0</td>\n",
       "    </tr>\n",
       "    <tr>\n",
       "      <th>1326</th>\n",
       "      <td>-121.89</td>\n",
       "      <td>38.02</td>\n",
       "      <td>36.0</td>\n",
       "      <td>2707.0</td>\n",
       "      <td>550.0</td>\n",
       "      <td>1827.0</td>\n",
       "      <td>545.0</td>\n",
       "      <td>3.3371</td>\n",
       "      <td>0</td>\n",
       "      <td>1</td>\n",
       "      <td>0</td>\n",
       "      <td>0</td>\n",
       "      <td>0</td>\n",
       "    </tr>\n",
       "    <tr>\n",
       "      <th>6646</th>\n",
       "      <td>-118.13</td>\n",
       "      <td>34.17</td>\n",
       "      <td>49.0</td>\n",
       "      <td>1962.0</td>\n",
       "      <td>435.0</td>\n",
       "      <td>1329.0</td>\n",
       "      <td>457.0</td>\n",
       "      <td>3.2898</td>\n",
       "      <td>1</td>\n",
       "      <td>0</td>\n",
       "      <td>0</td>\n",
       "      <td>0</td>\n",
       "      <td>0</td>\n",
       "    </tr>\n",
       "    <tr>\n",
       "      <th>18330</th>\n",
       "      <td>-122.14</td>\n",
       "      <td>37.45</td>\n",
       "      <td>48.0</td>\n",
       "      <td>2074.0</td>\n",
       "      <td>297.0</td>\n",
       "      <td>700.0</td>\n",
       "      <td>279.0</td>\n",
       "      <td>8.7051</td>\n",
       "      <td>0</td>\n",
       "      <td>0</td>\n",
       "      <td>0</td>\n",
       "      <td>1</td>\n",
       "      <td>0</td>\n",
       "    </tr>\n",
       "  </tbody>\n",
       "</table>\n",
       "</div>"
      ],
      "text/plain": [
       "       longitude  latitude  housing_median_age  total_rooms  total_bedrooms  \\\n",
       "16822    -122.53     37.65                20.0       4582.0          1124.0   \n",
       "1733     -122.35     37.97                43.0       2178.0           482.0   \n",
       "1326     -121.89     38.02                36.0       2707.0           550.0   \n",
       "6646     -118.13     34.17                49.0       1962.0           435.0   \n",
       "18330    -122.14     37.45                48.0       2074.0           297.0   \n",
       "\n",
       "       population  households  median_income  <1H OCEAN  INLAND  ISLAND  \\\n",
       "16822      2325.0      1040.0         4.0556          0       0       0   \n",
       "1733       1545.0       471.0         2.5863          0       0       0   \n",
       "1326       1827.0       545.0         3.3371          0       1       0   \n",
       "6646       1329.0       457.0         3.2898          1       0       0   \n",
       "18330       700.0       279.0         8.7051          0       0       0   \n",
       "\n",
       "       NEAR BAY  NEAR OCEAN  \n",
       "16822         0           1  \n",
       "1733          1           0  \n",
       "1326          0           0  \n",
       "6646          0           0  \n",
       "18330         1           0  "
      ]
     },
     "execution_count": 24,
     "metadata": {},
     "output_type": "execute_result"
    }
   ],
   "source": [
    "Xk.head()"
   ]
  },
  {
   "cell_type": "code",
   "execution_count": null,
   "metadata": {},
   "outputs": [],
   "source": []
  },
  {
   "cell_type": "code",
   "execution_count": null,
   "metadata": {},
   "outputs": [],
   "source": []
  }
 ],
 "metadata": {
  "kernelspec": {
   "display_name": "Python 3",
   "language": "python",
   "name": "python3"
  },
  "language_info": {
   "codemirror_mode": {
    "name": "ipython",
    "version": 3
   },
   "file_extension": ".py",
   "mimetype": "text/x-python",
   "name": "python",
   "nbconvert_exporter": "python",
   "pygments_lexer": "ipython3",
   "version": "3.7.1"
  }
 },
 "nbformat": 4,
 "nbformat_minor": 2
}
