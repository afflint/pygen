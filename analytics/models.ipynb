{
 "cells": [
  {
   "cell_type": "markdown",
   "metadata": {},
   "source": [
    "# Classes for data analytics\n",
    "Provides an abstract class for training models and vlidate results."
   ]
  },
  {
   "cell_type": "code",
   "execution_count": null,
   "metadata": {},
   "outputs": [],
   "source": [
    "from sklearn.tree import DecisionTreeRegressor\n",
    "from sklearn.metrics import mean_squared_error, confusion_matrix\n",
    "from sklearn.model_selection import cross_val_score\n",
    "import numpy as np\n",
    "import matplotlib.pyplot as plt\n",
    "from mpl_toolkits.axes_grid1 import make_axes_locatable\n",
    "import itertools\n",
    "\n",
    "\n",
    "class Predictor(object):\n",
    "    \n",
    "    def __init__(self, model, training_set, labels):\n",
    "        \"\"\"\n",
    "        :param object model: a sklearn predictive model\n",
    "        :param nparray training_set: data for training\n",
    "        :labels string-like: list of expeced labels for data\n",
    "        \"\"\"\n",
    "        self.model = model\n",
    "        self.T = training_set\n",
    "        self.L = labels\n",
    "        self.model.fit(self.T, self.L)\n",
    "    \n",
    "    def mse(self):\n",
    "        p = self.model.predict(self.T)\n",
    "        return np.sqrt(mean_squared_error(self.L, p))\n",
    "    \n",
    "    def cross_validate(self):\n",
    "        scores = cross_val_score(self.model, self.T, self.L, \n",
    "                                scoring='neg_mean_squared_error', cv=10)\n",
    "        return np.sqrt(-scores)\n",
    "    \n",
    "    def confusion_matrix(self):\n",
    "        p = self.model.predict(self.T)\n",
    "        cms = confusion_matrix(self.L, p, labels=list(set(self.L)))\n",
    "        return cms\n",
    "    \n",
    "    @staticmethod\n",
    "    def cm_plot(ax, classes, CM, title, figure):\n",
    "        im = ax.imshow(CM, interpolation='nearest', cmap=plt.cm.Blues)\n",
    "        divider = make_axes_locatable(ax)\n",
    "        cax = divider.append_axes('right', size='5%', pad=0.05)\n",
    "        figure.colorbar(im, cax=cax, orientation='vertical')\n",
    "        tick_marks = np.arange(len(classes))\n",
    "        ax.set_xticks(tick_marks)\n",
    "        ax.set_xticklabels(classes, rotation=90, fontsize=12)\n",
    "        ax.set_yticks(tick_marks)\n",
    "        ax.set_yticklabels(classes, rotation=0, fontsize=12)\n",
    "        ax.set_title(title, fontsize=16)\n",
    "        thresh = CM.max() / 2.\n",
    "        for i, j in itertools.product(range(CM.shape[0]), range(CM.shape[1])):\n",
    "            ax.text(j, i, CM[i, j], horizontalalignment=\"center\",\n",
    "                     color=\"white\" if CM[i, j] > thresh else \"black\", fontsize=12)\n",
    "        ax.set_ylabel('True label', fontsize=16)\n",
    "        ax.set_xlabel('Predicted label', fontsize=16)"
   ]
  }
 ],
 "metadata": {
  "kernelspec": {
   "display_name": "Python 3",
   "language": "python",
   "name": "python3"
  },
  "language_info": {
   "codemirror_mode": {
    "name": "ipython",
    "version": 3
   },
   "file_extension": ".py",
   "mimetype": "text/x-python",
   "name": "python",
   "nbconvert_exporter": "python",
   "pygments_lexer": "ipython3",
   "version": "3.7.1"
  }
 },
 "nbformat": 4,
 "nbformat_minor": 2
}
