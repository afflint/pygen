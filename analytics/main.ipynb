{
 "cells": [
  {
   "cell_type": "markdown",
   "metadata": {},
   "source": [
    "# Preprocessing data"
   ]
  },
  {
   "cell_type": "code",
   "execution_count": null,
   "metadata": {},
   "outputs": [],
   "source": [
    "%%capture\n",
    "import nbimporter\n",
    "import pandas as pd\n",
    "from utils import TrainingSet, DataCleaner, CategoricalData\n",
    "import matplotlib.pyplot as plt\n",
    "import warnings\n",
    "\n",
    "warnings.filterwarnings(action=\"ignore\", module=\"scipy\", message=\"^internal gelsd\")"
   ]
  },
  {
   "cell_type": "code",
   "execution_count": null,
   "metadata": {},
   "outputs": [],
   "source": [
    "df = pd.read_csv('../data/housing/housing.csv')\n",
    "dt = TrainingSet(df, test_size=0.25)\n",
    "Ts, Xs = dt.stratified_test(column='median_house_value', strata=5)\n",
    "X, L = TrainingSet.training_labels(Ts, ['median_house_value'])"
   ]
  },
  {
   "cell_type": "code",
   "execution_count": null,
   "metadata": {},
   "outputs": [],
   "source": [
    "from sklearn.pipeline import Pipeline\n",
    "from sklearn.preprocessing import StandardScaler"
   ]
  },
  {
   "cell_type": "code",
   "execution_count": null,
   "metadata": {},
   "outputs": [],
   "source": [
    "tr_pipeline = Pipeline([\n",
    "    ('cleaning', DataCleaner(text_attributes=['ocean_proximity'])),\n",
    "    ('categorical', CategoricalData(text_attribute='ocean_proximity')),\n",
    "    ('scaling', StandardScaler())\n",
    "])"
   ]
  },
  {
   "cell_type": "code",
   "execution_count": null,
   "metadata": {},
   "outputs": [],
   "source": [
    "T = tr_pipeline.fit_transform(X)"
   ]
  },
  {
   "cell_type": "markdown",
   "metadata": {},
   "source": [
    "# Fit model"
   ]
  },
  {
   "cell_type": "code",
   "execution_count": null,
   "metadata": {},
   "outputs": [],
   "source": [
    "from sklearn.linear_model import LinearRegression\n",
    "from sklearn.tree import DecisionTreeRegressor\n",
    "from sklearn.ensemble import RandomForestRegressor\n",
    "from models import Predictor"
   ]
  },
  {
   "cell_type": "code",
   "execution_count": null,
   "metadata": {},
   "outputs": [],
   "source": [
    "A = Predictor(LinearRegression(), T, L.values.ravel())\n",
    "B = Predictor(DecisionTreeRegressor(), T, L.values.ravel())\n",
    "C = Predictor(RandomForestRegressor(), T, L.values.ravel())"
   ]
  },
  {
   "cell_type": "code",
   "execution_count": null,
   "metadata": {},
   "outputs": [],
   "source": [
    "print (A.mse(), B.mse(), C.mse())"
   ]
  },
  {
   "cell_type": "markdown",
   "metadata": {},
   "source": [
    "### Cross validation"
   ]
  },
  {
   "cell_type": "code",
   "execution_count": null,
   "metadata": {},
   "outputs": [],
   "source": [
    "scoreA, scoreB, scoreC = A.cross_validate(), B.cross_validate(), C.cross_validate()"
   ]
  },
  {
   "cell_type": "code",
   "execution_count": null,
   "metadata": {},
   "outputs": [],
   "source": [
    "print (scoreA.mean(), scoreA.std())\n",
    "print (scoreB.mean(), scoreB.std())\n",
    "print (scoreC.mean(), scoreC.std())"
   ]
  },
  {
   "cell_type": "markdown",
   "metadata": {},
   "source": [
    "# Classification"
   ]
  },
  {
   "cell_type": "code",
   "execution_count": null,
   "metadata": {},
   "outputs": [],
   "source": [
    "from sklearn.naive_bayes import GaussianNB\n",
    "from sklearn.svm import SVC\n",
    "from sklearn.neighbors import KNeighborsClassifier"
   ]
  },
  {
   "cell_type": "code",
   "execution_count": null,
   "metadata": {},
   "outputs": [],
   "source": [
    "methods = [\n",
    "    ('Gaussian NB', GaussianNB()),\n",
    "    ('Support Vector Machine', SVC()),\n",
    "    ('KNN', KNeighborsClassifier(n_neighbors=20))\n",
    "]\n",
    "kr_pipeline = Pipeline([\n",
    "    ('cleaning', DataCleaner(text_attributes=None)),\n",
    "    ('scaling', StandardScaler())\n",
    "])"
   ]
  },
  {
   "cell_type": "code",
   "execution_count": null,
   "metadata": {},
   "outputs": [],
   "source": [
    "Ks, O = TrainingSet.training_labels(Ts, ['ocean_proximity'])\n",
    "K = kr_pipeline.fit_transform(Ks)"
   ]
  },
  {
   "cell_type": "code",
   "execution_count": null,
   "metadata": {},
   "outputs": [],
   "source": [
    "predictors = []\n",
    "for m, model in methods:\n",
    "    predictors.append(Predictor(model, K, O.values.ravel()))"
   ]
  },
  {
   "cell_type": "code",
   "execution_count": null,
   "metadata": {},
   "outputs": [],
   "source": [
    "cms = [p.confusion_matrix() for p in predictors]\n",
    "labels = list(set(O.values.ravel()))"
   ]
  },
  {
   "cell_type": "code",
   "execution_count": null,
   "metadata": {},
   "outputs": [],
   "source": [
    "fig, axes = plt.subplots(nrows=3, ncols=1, figsize=(12, 20))\n",
    "Predictor.cm_plot(axes[0], labels, cms[0], 'Gaussian NB', fig)\n",
    "Predictor.cm_plot(axes[1], labels, cms[1], 'Support Vector Machine', fig)\n",
    "Predictor.cm_plot(axes[2], labels, cms[2], 'KNN', fig)\n",
    "plt.tight_layout()\n",
    "plt.show()"
   ]
  },
  {
   "cell_type": "code",
   "execution_count": null,
   "metadata": {},
   "outputs": [],
   "source": []
  }
 ],
 "metadata": {
  "kernelspec": {
   "display_name": "Python 3",
   "language": "python",
   "name": "python3"
  },
  "language_info": {
   "codemirror_mode": {
    "name": "ipython",
    "version": 3
   },
   "file_extension": ".py",
   "mimetype": "text/x-python",
   "name": "python",
   "nbconvert_exporter": "python",
   "pygments_lexer": "ipython3",
   "version": "3.6.5"
  }
 },
 "nbformat": 4,
 "nbformat_minor": 2
}
