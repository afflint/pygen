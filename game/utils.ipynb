{
 "cells": [
  {
   "cell_type": "markdown",
   "metadata": {},
   "source": [
    "# Utility class for working with FIFA data"
   ]
  },
  {
   "cell_type": "code",
   "execution_count": 1,
   "metadata": {},
   "outputs": [],
   "source": [
    "import pandas as pd"
   ]
  },
  {
   "cell_type": "code",
   "execution_count": null,
   "metadata": {},
   "outputs": [],
   "source": [
    "class FIFA(object):\n",
    "    \n",
    "    @staticmethod\n",
    "    def load(data_file):\n",
    "        \"\"\"\n",
    "        Reads the csv file and apply several transformations to provide\n",
    "        a dataframe\n",
    "        \"\"\"\n",
    "        F = pd.read_csv(data_file, low_memory=False)\n",
    "        selected_cols = [\n",
    "            'ID', 'name', 'club', 'league', 'height_cm', 'weight_kg', \n",
    "            'nationality', 'eur_value', 'overall',\n",
    "            'short_passing', 'long_passing', 'finishing', \n",
    "            'shot_power', 'marking', 'standing_tackle',\n",
    "            'sliding_tackle', 'gk_diving', 'gk_handling', \n",
    "            'gk_kicking', 'gk_positioning', 'gk_reflexes'\n",
    "        ]\n",
    "        positions = ['rs', 'rw', 'rf', 'ram', 'rcm', 'rm', 'rdm', \n",
    "                     'rcb', 'rb', 'rwb', 'st', 'lw', 'cf', 'cam',\n",
    "                     'cm', 'lm', 'cdm', 'cb', 'lb', 'lwb', 'ls', \n",
    "                     'lf', 'lam', 'lcm', 'ldm', 'lcb', 'gk']\n",
    "        selected_cols += positions\n",
    "        S = F[selected_cols].copy()\n",
    "        new_columns = {\n",
    "            'atk': ['finishing', 'shot_power'],\n",
    "            'dfs': ['marking', 'standing_tackle', 'sliding_tackle'],\n",
    "            'psg': ['short_passing', 'long_passing'],\n",
    "            'gkv': ['gk_diving', 'gk_handling', 'gk_kicking', \n",
    "                    'gk_positioning', 'gk_reflexes']}\n",
    "        for k, v in new_columns.items():\n",
    "            S[k] = F[v].mean(axis=1) / 100\n",
    "            S = S.drop(v, axis=1)\n",
    "        S['role'] = S[positions].idxmax(axis=1)\n",
    "        S = S.drop(positions, axis=1)\n",
    "        return S"
   ]
  }
 ],
 "metadata": {
  "kernelspec": {
   "display_name": "Python 3 (ipykernel)",
   "language": "python",
   "name": "python3"
  },
  "language_info": {
   "codemirror_mode": {
    "name": "ipython",
    "version": 3
   },
   "file_extension": ".py",
   "mimetype": "text/x-python",
   "name": "python",
   "nbconvert_exporter": "python",
   "pygments_lexer": "ipython3",
   "version": "3.8.8"
  }
 },
 "nbformat": 4,
 "nbformat_minor": 2
}
