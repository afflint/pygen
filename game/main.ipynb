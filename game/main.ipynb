{
 "cells": [
  {
   "cell_type": "markdown",
   "metadata": {},
   "source": [
    "# Blackboard for objects"
   ]
  },
  {
   "cell_type": "code",
   "execution_count": 1,
   "metadata": {},
   "outputs": [],
   "source": [
    "import nbimporter\n",
    "from teams import Team, Match\n",
    "from players import Player\n",
    "from utils import FIFA\n",
    "from collections import defaultdict\n",
    "import numpy as np"
   ]
  },
  {
   "cell_type": "code",
   "execution_count": 4,
   "metadata": {},
   "outputs": [],
   "source": [
    "import pandas as pd\n",
    "import numpy as np\n",
    "from tqdm.notebook import tqdm"
   ]
  },
  {
   "cell_type": "code",
   "execution_count": 6,
   "metadata": {},
   "outputs": [],
   "source": [
    "football = '../data/fifa/CompleteDataset.csv'\n",
    "df = pd.read_csv(football, low_memory=False)"
   ]
  },
  {
   "cell_type": "code",
   "execution_count": 8,
   "metadata": {},
   "outputs": [
    {
     "name": "stdout",
     "output_type": "stream",
     "text": [
      "<class 'pandas.core.frame.DataFrame'>\n",
      "RangeIndex: 17981 entries, 0 to 17980\n",
      "Data columns (total 75 columns):\n",
      " #   Column               Non-Null Count  Dtype  \n",
      "---  ------               --------------  -----  \n",
      " 0   Unnamed: 0           17981 non-null  int64  \n",
      " 1   Name                 17981 non-null  object \n",
      " 2   Age                  17981 non-null  int64  \n",
      " 3   Photo                17981 non-null  object \n",
      " 4   Nationality          17981 non-null  object \n",
      " 5   Flag                 17981 non-null  object \n",
      " 6   Overall              17981 non-null  int64  \n",
      " 7   Potential            17981 non-null  int64  \n",
      " 8   Club                 17733 non-null  object \n",
      " 9   Club Logo            17981 non-null  object \n",
      " 10  Value                17981 non-null  object \n",
      " 11  Wage                 17981 non-null  object \n",
      " 12  Special              17981 non-null  int64  \n",
      " 13  Acceleration         17981 non-null  object \n",
      " 14  Aggression           17981 non-null  object \n",
      " 15  Agility              17981 non-null  object \n",
      " 16  Balance              17981 non-null  object \n",
      " 17  Ball control         17981 non-null  object \n",
      " 18  Composure            17981 non-null  object \n",
      " 19  Crossing             17981 non-null  object \n",
      " 20  Curve                17981 non-null  object \n",
      " 21  Dribbling            17981 non-null  object \n",
      " 22  Finishing            17981 non-null  object \n",
      " 23  Free kick accuracy   17981 non-null  object \n",
      " 24  GK diving            17981 non-null  object \n",
      " 25  GK handling          17981 non-null  object \n",
      " 26  GK kicking           17981 non-null  object \n",
      " 27  GK positioning       17981 non-null  object \n",
      " 28  GK reflexes          17981 non-null  object \n",
      " 29  Heading accuracy     17981 non-null  object \n",
      " 30  Interceptions        17981 non-null  object \n",
      " 31  Jumping              17981 non-null  object \n",
      " 32  Long passing         17981 non-null  object \n",
      " 33  Long shots           17981 non-null  object \n",
      " 34  Marking              17981 non-null  object \n",
      " 35  Penalties            17981 non-null  object \n",
      " 36  Positioning          17981 non-null  object \n",
      " 37  Reactions            17981 non-null  object \n",
      " 38  Short passing        17981 non-null  object \n",
      " 39  Shot power           17981 non-null  object \n",
      " 40  Sliding tackle       17981 non-null  object \n",
      " 41  Sprint speed         17981 non-null  object \n",
      " 42  Stamina              17981 non-null  object \n",
      " 43  Standing tackle      17981 non-null  object \n",
      " 44  Strength             17981 non-null  object \n",
      " 45  Vision               17981 non-null  object \n",
      " 46  Volleys              17981 non-null  object \n",
      " 47  CAM                  15952 non-null  float64\n",
      " 48  CB                   15952 non-null  float64\n",
      " 49  CDM                  15952 non-null  float64\n",
      " 50  CF                   15952 non-null  float64\n",
      " 51  CM                   15952 non-null  float64\n",
      " 52  ID                   17981 non-null  int64  \n",
      " 53  LAM                  15952 non-null  float64\n",
      " 54  LB                   15952 non-null  float64\n",
      " 55  LCB                  15952 non-null  float64\n",
      " 56  LCM                  15952 non-null  float64\n",
      " 57  LDM                  15952 non-null  float64\n",
      " 58  LF                   15952 non-null  float64\n",
      " 59  LM                   15952 non-null  float64\n",
      " 60  LS                   15952 non-null  float64\n",
      " 61  LW                   15952 non-null  float64\n",
      " 62  LWB                  15952 non-null  float64\n",
      " 63  Preferred Positions  17981 non-null  object \n",
      " 64  RAM                  15952 non-null  float64\n",
      " 65  RB                   15952 non-null  float64\n",
      " 66  RCB                  15952 non-null  float64\n",
      " 67  RCM                  15952 non-null  float64\n",
      " 68  RDM                  15952 non-null  float64\n",
      " 69  RF                   15952 non-null  float64\n",
      " 70  RM                   15952 non-null  float64\n",
      " 71  RS                   15952 non-null  float64\n",
      " 72  RW                   15952 non-null  float64\n",
      " 73  RWB                  15952 non-null  float64\n",
      " 74  ST                   15952 non-null  float64\n",
      "dtypes: float64(26), int64(6), object(43)\n",
      "memory usage: 10.3+ MB\n"
     ]
    }
   ],
   "source": [
    "df.info()"
   ]
  },
  {
   "cell_type": "code",
   "execution_count": 3,
   "metadata": {},
   "outputs": [
    {
     "name": "stderr",
     "output_type": "stream",
     "text": [
      "utils.ipynb:9: DtypeWarning: Columns (23,35) have mixed types. Specify dtype option on import or set low_memory=False.\n",
      "  },\n"
     ]
    },
    {
     "ename": "KeyError",
     "evalue": "\"['name', 'club', 'league', 'height_cm', 'weight_kg', 'nationality', 'eur_value', 'overall', 'short_passing', 'long_passing', 'finishing', 'shot_power', 'marking', 'standing_tackle', 'sliding_tackle', 'gk_diving', 'gk_handling', 'gk_kicking', 'gk_positioning', 'gk_reflexes', 'rs', 'rw', 'rf', 'ram', 'rcm', 'rm', 'rdm', 'rcb', 'rb', 'rwb', 'st', 'lw', 'cf', 'cam', 'cm', 'lm', 'cdm', 'cb', 'lb', 'lwb', 'ls', 'lf', 'lam', 'lcm', 'ldm', 'lcb', 'gk'] not in index\"",
     "output_type": "error",
     "traceback": [
      "\u001b[0;31m---------------------------------------------------------------------------\u001b[0m",
      "\u001b[0;31mKeyError\u001b[0m                                  Traceback (most recent call last)",
      "\u001b[0;32m/var/folders/cn/1cnswmps6xsbv3x70vr8z3v80000gn/T/ipykernel_713/2729061117.py\u001b[0m in \u001b[0;36m<module>\u001b[0;34m\u001b[0m\n\u001b[1;32m      1\u001b[0m \u001b[0mfootball\u001b[0m \u001b[0;34m=\u001b[0m \u001b[0;34m'../data/fifa/CompleteDataset.csv'\u001b[0m\u001b[0;34m\u001b[0m\u001b[0;34m\u001b[0m\u001b[0m\n\u001b[0;32m----> 2\u001b[0;31m \u001b[0mdata\u001b[0m \u001b[0;34m=\u001b[0m \u001b[0mFIFA\u001b[0m\u001b[0;34m.\u001b[0m\u001b[0mload\u001b[0m\u001b[0;34m(\u001b[0m\u001b[0mfootball\u001b[0m\u001b[0;34m)\u001b[0m\u001b[0;34m\u001b[0m\u001b[0;34m\u001b[0m\u001b[0m\n\u001b[0m",
      "\u001b[0;32m~/GitHub/pygen/game/utils.ipynb\u001b[0m in \u001b[0;36mload\u001b[0;34m(data_file)\u001b[0m\n\u001b[1;32m     21\u001b[0m    \u001b[0;34m\"execution_count\"\u001b[0m\u001b[0;34m:\u001b[0m \u001b[0mnull\u001b[0m\u001b[0;34m,\u001b[0m\u001b[0;34m\u001b[0m\u001b[0;34m\u001b[0m\u001b[0m\n\u001b[1;32m     22\u001b[0m    \u001b[0;34m\"metadata\"\u001b[0m\u001b[0;34m:\u001b[0m \u001b[0;34m{\u001b[0m\u001b[0;34m}\u001b[0m\u001b[0;34m,\u001b[0m\u001b[0;34m\u001b[0m\u001b[0;34m\u001b[0m\u001b[0m\n\u001b[0;32m---> 23\u001b[0;31m    \u001b[0;34m\"outputs\"\u001b[0m\u001b[0;34m:\u001b[0m \u001b[0;34m[\u001b[0m\u001b[0;34m]\u001b[0m\u001b[0;34m,\u001b[0m\u001b[0;34m\u001b[0m\u001b[0;34m\u001b[0m\u001b[0m\n\u001b[0m\u001b[1;32m     24\u001b[0m    \"source\": [\n\u001b[1;32m     25\u001b[0m     \u001b[0;34m\"class FIFA(object):\\n\"\u001b[0m\u001b[0;34m,\u001b[0m\u001b[0;34m\u001b[0m\u001b[0;34m\u001b[0m\u001b[0m\n",
      "\u001b[0;32m~/Anaconda/anaconda3/lib/python3.8/site-packages/pandas/core/frame.py\u001b[0m in \u001b[0;36m__getitem__\u001b[0;34m(self, key)\u001b[0m\n\u001b[1;32m   3509\u001b[0m             \u001b[0;32mif\u001b[0m \u001b[0mis_iterator\u001b[0m\u001b[0;34m(\u001b[0m\u001b[0mkey\u001b[0m\u001b[0;34m)\u001b[0m\u001b[0;34m:\u001b[0m\u001b[0;34m\u001b[0m\u001b[0;34m\u001b[0m\u001b[0m\n\u001b[1;32m   3510\u001b[0m                 \u001b[0mkey\u001b[0m \u001b[0;34m=\u001b[0m \u001b[0mlist\u001b[0m\u001b[0;34m(\u001b[0m\u001b[0mkey\u001b[0m\u001b[0;34m)\u001b[0m\u001b[0;34m\u001b[0m\u001b[0;34m\u001b[0m\u001b[0m\n\u001b[0;32m-> 3511\u001b[0;31m             \u001b[0mindexer\u001b[0m \u001b[0;34m=\u001b[0m \u001b[0mself\u001b[0m\u001b[0;34m.\u001b[0m\u001b[0mcolumns\u001b[0m\u001b[0;34m.\u001b[0m\u001b[0m_get_indexer_strict\u001b[0m\u001b[0;34m(\u001b[0m\u001b[0mkey\u001b[0m\u001b[0;34m,\u001b[0m \u001b[0;34m\"columns\"\u001b[0m\u001b[0;34m)\u001b[0m\u001b[0;34m[\u001b[0m\u001b[0;36m1\u001b[0m\u001b[0;34m]\u001b[0m\u001b[0;34m\u001b[0m\u001b[0;34m\u001b[0m\u001b[0m\n\u001b[0m\u001b[1;32m   3512\u001b[0m \u001b[0;34m\u001b[0m\u001b[0m\n\u001b[1;32m   3513\u001b[0m         \u001b[0;31m# take() does not accept boolean indexers\u001b[0m\u001b[0;34m\u001b[0m\u001b[0;34m\u001b[0m\u001b[0;34m\u001b[0m\u001b[0m\n",
      "\u001b[0;32m~/Anaconda/anaconda3/lib/python3.8/site-packages/pandas/core/indexes/base.py\u001b[0m in \u001b[0;36m_get_indexer_strict\u001b[0;34m(self, key, axis_name)\u001b[0m\n\u001b[1;32m   5780\u001b[0m             \u001b[0mkeyarr\u001b[0m\u001b[0;34m,\u001b[0m \u001b[0mindexer\u001b[0m\u001b[0;34m,\u001b[0m \u001b[0mnew_indexer\u001b[0m \u001b[0;34m=\u001b[0m \u001b[0mself\u001b[0m\u001b[0;34m.\u001b[0m\u001b[0m_reindex_non_unique\u001b[0m\u001b[0;34m(\u001b[0m\u001b[0mkeyarr\u001b[0m\u001b[0;34m)\u001b[0m\u001b[0;34m\u001b[0m\u001b[0;34m\u001b[0m\u001b[0m\n\u001b[1;32m   5781\u001b[0m \u001b[0;34m\u001b[0m\u001b[0m\n\u001b[0;32m-> 5782\u001b[0;31m         \u001b[0mself\u001b[0m\u001b[0;34m.\u001b[0m\u001b[0m_raise_if_missing\u001b[0m\u001b[0;34m(\u001b[0m\u001b[0mkeyarr\u001b[0m\u001b[0;34m,\u001b[0m \u001b[0mindexer\u001b[0m\u001b[0;34m,\u001b[0m \u001b[0maxis_name\u001b[0m\u001b[0;34m)\u001b[0m\u001b[0;34m\u001b[0m\u001b[0;34m\u001b[0m\u001b[0m\n\u001b[0m\u001b[1;32m   5783\u001b[0m \u001b[0;34m\u001b[0m\u001b[0m\n\u001b[1;32m   5784\u001b[0m         \u001b[0mkeyarr\u001b[0m \u001b[0;34m=\u001b[0m \u001b[0mself\u001b[0m\u001b[0;34m.\u001b[0m\u001b[0mtake\u001b[0m\u001b[0;34m(\u001b[0m\u001b[0mindexer\u001b[0m\u001b[0;34m)\u001b[0m\u001b[0;34m\u001b[0m\u001b[0;34m\u001b[0m\u001b[0m\n",
      "\u001b[0;32m~/Anaconda/anaconda3/lib/python3.8/site-packages/pandas/core/indexes/base.py\u001b[0m in \u001b[0;36m_raise_if_missing\u001b[0;34m(self, key, indexer, axis_name)\u001b[0m\n\u001b[1;32m   5843\u001b[0m \u001b[0;34m\u001b[0m\u001b[0m\n\u001b[1;32m   5844\u001b[0m             \u001b[0mnot_found\u001b[0m \u001b[0;34m=\u001b[0m \u001b[0mlist\u001b[0m\u001b[0;34m(\u001b[0m\u001b[0mensure_index\u001b[0m\u001b[0;34m(\u001b[0m\u001b[0mkey\u001b[0m\u001b[0;34m)\u001b[0m\u001b[0;34m[\u001b[0m\u001b[0mmissing_mask\u001b[0m\u001b[0;34m.\u001b[0m\u001b[0mnonzero\u001b[0m\u001b[0;34m(\u001b[0m\u001b[0;34m)\u001b[0m\u001b[0;34m[\u001b[0m\u001b[0;36m0\u001b[0m\u001b[0;34m]\u001b[0m\u001b[0;34m]\u001b[0m\u001b[0;34m.\u001b[0m\u001b[0munique\u001b[0m\u001b[0;34m(\u001b[0m\u001b[0;34m)\u001b[0m\u001b[0;34m)\u001b[0m\u001b[0;34m\u001b[0m\u001b[0;34m\u001b[0m\u001b[0m\n\u001b[0;32m-> 5845\u001b[0;31m             \u001b[0;32mraise\u001b[0m \u001b[0mKeyError\u001b[0m\u001b[0;34m(\u001b[0m\u001b[0;34mf\"{not_found} not in index\"\u001b[0m\u001b[0;34m)\u001b[0m\u001b[0;34m\u001b[0m\u001b[0;34m\u001b[0m\u001b[0m\n\u001b[0m\u001b[1;32m   5846\u001b[0m \u001b[0;34m\u001b[0m\u001b[0m\n\u001b[1;32m   5847\u001b[0m     \u001b[0;34m@\u001b[0m\u001b[0moverload\u001b[0m\u001b[0;34m\u001b[0m\u001b[0;34m\u001b[0m\u001b[0m\n",
      "\u001b[0;31mKeyError\u001b[0m: \"['name', 'club', 'league', 'height_cm', 'weight_kg', 'nationality', 'eur_value', 'overall', 'short_passing', 'long_passing', 'finishing', 'shot_power', 'marking', 'standing_tackle', 'sliding_tackle', 'gk_diving', 'gk_handling', 'gk_kicking', 'gk_positioning', 'gk_reflexes', 'rs', 'rw', 'rf', 'ram', 'rcm', 'rm', 'rdm', 'rcb', 'rb', 'rwb', 'st', 'lw', 'cf', 'cam', 'cm', 'lm', 'cdm', 'cb', 'lb', 'lwb', 'ls', 'lf', 'lam', 'lcm', 'ldm', 'lcb', 'gk'] not in index\""
     ]
    }
   ],
   "source": [
    "data = FIFA.load(football)"
   ]
  },
  {
   "cell_type": "code",
   "execution_count": null,
   "metadata": {},
   "outputs": [],
   "source": [
    "H = Team('Juventus', data)\n",
    "A = Team('Roma', data)"
   ]
  },
  {
   "cell_type": "code",
   "execution_count": null,
   "metadata": {},
   "outputs": [],
   "source": [
    "H.selection(module={Player.DEF: 4, Player.MID: 3, Player.ATT: 3})"
   ]
  },
  {
   "cell_type": "code",
   "execution_count": null,
   "metadata": {},
   "outputs": [],
   "source": [
    "A.selection(module={Player.DEF: 4, Player.MID: 3, Player.ATT: 3})"
   ]
  },
  {
   "cell_type": "code",
   "execution_count": null,
   "metadata": {},
   "outputs": [],
   "source": [
    "match = Match(H, A, duration=90)"
   ]
  },
  {
   "cell_type": "code",
   "execution_count": null,
   "metadata": {},
   "outputs": [],
   "source": [
    "match.kickoff(verbose=True, sleep=0)"
   ]
  },
  {
   "cell_type": "code",
   "execution_count": null,
   "metadata": {},
   "outputs": [],
   "source": [
    "print (match.score)\n",
    "print ([\"{} ({}')\".format(p.name, m) for m, p in match.scorers])"
   ]
  },
  {
   "cell_type": "markdown",
   "metadata": {},
   "source": [
    "## Stats"
   ]
  },
  {
   "cell_type": "code",
   "execution_count": null,
   "metadata": {},
   "outputs": [],
   "source": [
    "H = Team('Juventus', data)\n",
    "A = Team('FC Barcelona', data)\n",
    "H.selection(module={Player.DEF: 4, Player.MID: 3, Player.ATT: 3})\n",
    "A.selection(module={Player.DEF: 4, Player.MID: 3, Player.ATT: 3})\n",
    "\n",
    "winners = {H.name: 0, A.name: 0, 'X': 0}\n",
    "scorers = defaultdict(lambda: 0)\n",
    "for m in range(100):\n",
    "    match = Match(H, A, duration=90)\n",
    "    match.kickoff(verbose=False, sleep=0)\n",
    "    if match.score[H.name] > match.score[A.name]:\n",
    "        winners[H.name] += 1\n",
    "    elif match.score[A.name] > match.score[H.name]:\n",
    "        winners[A.name] += 1\n",
    "    else:\n",
    "        winners['X'] += 1\n",
    "    for m, p in match.scorers:\n",
    "        scorers[p.name] += 1"
   ]
  },
  {
   "cell_type": "code",
   "execution_count": null,
   "metadata": {},
   "outputs": [],
   "source": [
    "print (winners)"
   ]
  },
  {
   "cell_type": "code",
   "execution_count": null,
   "metadata": {},
   "outputs": [],
   "source": [
    "for k, v in sorted(scorers.items(), key=lambda x: -x[1]):\n",
    "    print (k, v)"
   ]
  },
  {
   "cell_type": "markdown",
   "metadata": {},
   "source": [
    "# Visualization"
   ]
  },
  {
   "cell_type": "code",
   "execution_count": null,
   "metadata": {},
   "outputs": [],
   "source": [
    "football = '../data/fifa/fifa_2018.csv'\n",
    "data = FIFA.load(football)\n",
    "H = Team('Juventus', data)\n",
    "A = Team('Napoli', data)\n",
    "H.selection(module={Player.DEF: 4, Player.MID: 4, Player.ATT: 2})\n",
    "A.selection(module={Player.DEF: 4, Player.MID: 3, Player.ATT: 3})"
   ]
  },
  {
   "cell_type": "code",
   "execution_count": null,
   "metadata": {},
   "outputs": [],
   "source": [
    "match = Match(H, A, duration=90)"
   ]
  },
  {
   "cell_type": "code",
   "execution_count": null,
   "metadata": {},
   "outputs": [],
   "source": [
    "match.kickoff(show=True, sleep=1, verbose=True)"
   ]
  },
  {
   "cell_type": "code",
   "execution_count": null,
   "metadata": {},
   "outputs": [],
   "source": [
    "print (match.score)"
   ]
  },
  {
   "cell_type": "code",
   "execution_count": null,
   "metadata": {},
   "outputs": [],
   "source": [
    "print (match.scorers)"
   ]
  },
  {
   "cell_type": "code",
   "execution_count": null,
   "metadata": {},
   "outputs": [],
   "source": []
  }
 ],
 "metadata": {
  "kernelspec": {
   "display_name": "Python 3 (ipykernel)",
   "language": "python",
   "name": "python3"
  },
  "language_info": {
   "codemirror_mode": {
    "name": "ipython",
    "version": 3
   },
   "file_extension": ".py",
   "mimetype": "text/x-python",
   "name": "python",
   "nbconvert_exporter": "python",
   "pygments_lexer": "ipython3",
   "version": "3.8.8"
  },
  "toc": {
   "base_numbering": 1,
   "nav_menu": {},
   "number_sections": true,
   "sideBar": true,
   "skip_h1_title": false,
   "title_cell": "Table of Contents",
   "title_sidebar": "Contents",
   "toc_cell": false,
   "toc_position": {},
   "toc_section_display": true,
   "toc_window_display": false
  }
 },
 "nbformat": 4,
 "nbformat_minor": 2
}
