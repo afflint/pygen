{
 "cells": [
  {
   "cell_type": "markdown",
   "metadata": {},
   "source": [
    "# Blackboard for objects"
   ]
  },
  {
   "cell_type": "code",
   "execution_count": null,
   "metadata": {},
   "outputs": [],
   "source": [
    "import nbimporter\n",
    "from teams import Team, Match\n",
    "from players import Player\n",
    "from utils import FIFA\n",
    "from collections import defaultdict\n",
    "import numpy as np"
   ]
  },
  {
   "cell_type": "code",
   "execution_count": null,
   "metadata": {},
   "outputs": [],
   "source": [
    "football = '../data/fifa/fifa_2018.csv'\n",
    "data = FIFA.load(football)"
   ]
  },
  {
   "cell_type": "code",
   "execution_count": null,
   "metadata": {},
   "outputs": [],
   "source": [
    "H = Team('Juventus', data)\n",
    "A = Team('Roma', data)"
   ]
  },
  {
   "cell_type": "code",
   "execution_count": null,
   "metadata": {},
   "outputs": [],
   "source": [
    "H.selection(module={Player.DEF: 4, Player.MID: 3, Player.ATT: 3})"
   ]
  },
  {
   "cell_type": "code",
   "execution_count": null,
   "metadata": {},
   "outputs": [],
   "source": [
    "A.selection(module={Player.DEF: 4, Player.MID: 3, Player.ATT: 3})"
   ]
  },
  {
   "cell_type": "code",
   "execution_count": null,
   "metadata": {},
   "outputs": [],
   "source": [
    "match = Match(H, A, duration=90)"
   ]
  },
  {
   "cell_type": "code",
   "execution_count": null,
   "metadata": {},
   "outputs": [],
   "source": [
    "match.kickoff(verbose=True, sleep=0)"
   ]
  },
  {
   "cell_type": "code",
   "execution_count": null,
   "metadata": {},
   "outputs": [],
   "source": [
    "print (match.score)\n",
    "print ([\"{} ({}')\".format(p.name, m) for m, p in match.scorers])"
   ]
  },
  {
   "cell_type": "markdown",
   "metadata": {},
   "source": [
    "## Stats"
   ]
  },
  {
   "cell_type": "code",
   "execution_count": null,
   "metadata": {},
   "outputs": [],
   "source": [
    "H = Team('Juventus', data)\n",
    "A = Team('FC Barcelona', data)\n",
    "H.selection(module={Player.DEF: 4, Player.MID: 3, Player.ATT: 3})\n",
    "A.selection(module={Player.DEF: 4, Player.MID: 3, Player.ATT: 3})\n",
    "\n",
    "winners = {H.name: 0, A.name: 0, 'X': 0}\n",
    "scorers = defaultdict(lambda: 0)\n",
    "for m in range(100):\n",
    "    match = Match(H, A, duration=90)\n",
    "    match.kickoff(verbose=False, sleep=0)\n",
    "    if match.score[H.name] > match.score[A.name]:\n",
    "        winners[H.name] += 1\n",
    "    elif match.score[A.name] > match.score[H.name]:\n",
    "        winners[A.name] += 1\n",
    "    else:\n",
    "        winners['X'] += 1\n",
    "    for m, p in match.scorers:\n",
    "        scorers[p.name] += 1"
   ]
  },
  {
   "cell_type": "code",
   "execution_count": null,
   "metadata": {},
   "outputs": [],
   "source": [
    "print (winners)"
   ]
  },
  {
   "cell_type": "code",
   "execution_count": null,
   "metadata": {},
   "outputs": [],
   "source": [
    "for k, v in sorted(scorers.items(), key=lambda x: -x[1]):\n",
    "    print (k, v)"
   ]
  },
  {
   "cell_type": "markdown",
   "metadata": {},
   "source": [
    "# Visualization"
   ]
  },
  {
   "cell_type": "code",
   "execution_count": null,
   "metadata": {},
   "outputs": [],
   "source": [
    "football = '../data/fifa/fifa_2018.csv'\n",
    "data = FIFA.load(football)\n",
    "H = Team('Juventus', data)\n",
    "A = Team('Napoli', data)\n",
    "H.selection(module={Player.DEF: 4, Player.MID: 4, Player.ATT: 2})\n",
    "A.selection(module={Player.DEF: 4, Player.MID: 3, Player.ATT: 3})"
   ]
  },
  {
   "cell_type": "code",
   "execution_count": null,
   "metadata": {},
   "outputs": [],
   "source": [
    "match = Match(H, A, duration=90)"
   ]
  },
  {
   "cell_type": "code",
   "execution_count": null,
   "metadata": {},
   "outputs": [],
   "source": [
    "match.kickoff(show=True, sleep=1, verbose=True)"
   ]
  },
  {
   "cell_type": "code",
   "execution_count": null,
   "metadata": {},
   "outputs": [],
   "source": [
    "print (match.score)"
   ]
  },
  {
   "cell_type": "code",
   "execution_count": null,
   "metadata": {},
   "outputs": [],
   "source": [
    "print (match.scorers)"
   ]
  },
  {
   "cell_type": "code",
   "execution_count": null,
   "metadata": {},
   "outputs": [],
   "source": []
  }
 ],
 "metadata": {
  "kernelspec": {
   "display_name": "Python 3 (ipykernel)",
   "language": "python",
   "name": "python3"
  },
  "language_info": {
   "codemirror_mode": {
    "name": "ipython",
    "version": 3
   },
   "file_extension": ".py",
   "mimetype": "text/x-python",
   "name": "python",
   "nbconvert_exporter": "python",
   "pygments_lexer": "ipython3",
   "version": "3.8.8"
  },
  "toc": {
   "base_numbering": 1,
   "nav_menu": {},
   "number_sections": true,
   "sideBar": true,
   "skip_h1_title": false,
   "title_cell": "Table of Contents",
   "title_sidebar": "Contents",
   "toc_cell": false,
   "toc_position": {},
   "toc_section_display": true,
   "toc_window_display": false
  }
 },
 "nbformat": 4,
 "nbformat_minor": 2
}
