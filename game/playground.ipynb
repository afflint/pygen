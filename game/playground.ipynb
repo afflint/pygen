{
 "cells": [
  {
   "cell_type": "markdown",
   "metadata": {},
   "source": [
    "# Blackboard for objects"
   ]
  },
  {
   "cell_type": "code",
   "execution_count": 1,
   "metadata": {},
   "outputs": [
    {
     "name": "stdout",
     "output_type": "stream",
     "text": [
      "Importing Jupyter notebook from teams.ipynb\n",
      "Importing Jupyter notebook from players.ipynb\n",
      "Importing Jupyter notebook from utils.ipynb\n"
     ]
    }
   ],
   "source": [
    "import nbimporter\n",
    "from teams import Team, Match\n",
    "from players import Player\n",
    "from utils import FIFA\n",
    "from collections import defaultdict\n",
    "import numpy as np"
   ]
  },
  {
   "cell_type": "code",
   "execution_count": 12,
   "metadata": {},
   "outputs": [],
   "source": [
    "football = '../data/fifa/fifa_2018.csv'\n",
    "data = FIFA.load(football)"
   ]
  },
  {
   "cell_type": "code",
   "execution_count": 13,
   "metadata": {},
   "outputs": [],
   "source": [
    "H = Team('Juventus', data)\n",
    "A = Team('Genoa', data)"
   ]
  },
  {
   "cell_type": "code",
   "execution_count": 14,
   "metadata": {},
   "outputs": [],
   "source": [
    "H.selection(module={Player.DEF: 4, Player.MID: 3, Player.ATT: 3})"
   ]
  },
  {
   "cell_type": "code",
   "execution_count": 15,
   "metadata": {},
   "outputs": [],
   "source": [
    "A.selection(module={Player.DEF: 4, Player.MID: 3, Player.ATT: 3})"
   ]
  },
  {
   "cell_type": "code",
   "execution_count": 31,
   "metadata": {},
   "outputs": [],
   "source": [
    "match = Match(H, A, duration=90)"
   ]
  },
  {
   "cell_type": "code",
   "execution_count": 32,
   "metadata": {},
   "outputs": [],
   "source": [
    "match.kickoff(verbose=False, sleep=0)"
   ]
  },
  {
   "cell_type": "code",
   "execution_count": 33,
   "metadata": {},
   "outputs": [
    {
     "name": "stdout",
     "output_type": "stream",
     "text": [
      "{'Juventus': 2, 'Genoa': 1}\n",
      "[\"G. Higuaín (24')\", \"S. Gentiletti (35')\", \"P. Dybala (81')\"]\n"
     ]
    }
   ],
   "source": [
    "print (match.score)\n",
    "print ([\"{} ({}')\".format(p.name, m) for m, p in match.scorers])"
   ]
  },
  {
   "cell_type": "markdown",
   "metadata": {},
   "source": [
    "## Stats"
   ]
  },
  {
   "cell_type": "code",
   "execution_count": 48,
   "metadata": {},
   "outputs": [],
   "source": [
    "H = Team('Juventus', data)\n",
    "A = Team('FC Barcelona', data)\n",
    "H.selection(module={Player.DEF: 4, Player.MID: 3, Player.ATT: 3})\n",
    "A.selection(module={Player.DEF: 4, Player.MID: 3, Player.ATT: 3})\n",
    "\n",
    "winners = {H.name: 0, A.name: 0, 'X': 0}\n",
    "scorers = defaultdict(lambda: 0)\n",
    "for m in range(100):\n",
    "    match = Match(H, A, duration=90)\n",
    "    match.kickoff(verbose=False, sleep=0)\n",
    "    if match.score[H.name] > match.score[A.name]:\n",
    "        winners[H.name] += 1\n",
    "    elif match.score[A.name] > match.score[H.name]:\n",
    "        winners[A.name] += 1\n",
    "    else:\n",
    "        winners['X'] += 1\n",
    "    for m, p in match.scorers:\n",
    "        scorers[p.name] += 1"
   ]
  },
  {
   "cell_type": "code",
   "execution_count": 49,
   "metadata": {},
   "outputs": [
    {
     "name": "stdout",
     "output_type": "stream",
     "text": [
      "{'Juventus': 33, 'FC Barcelona': 44, 'X': 23}\n"
     ]
    }
   ],
   "source": [
    "print (winners)"
   ]
  },
  {
   "cell_type": "code",
   "execution_count": 50,
   "metadata": {},
   "outputs": [
    {
     "name": "stdout",
     "output_type": "stream",
     "text": [
      "O. Dembélé 46\n",
      "L. Suárez 35\n",
      "G. Higuaín 34\n",
      "M. Mandžukić 32\n",
      "L. Messi 26\n",
      "P. Dybala 21\n",
      "I. Rakitić 10\n",
      "M. Pjanić 7\n",
      "B. Matuidi 7\n",
      "Iniesta 7\n",
      "C. Marchisio 5\n",
      "Nélson Semedo 5\n",
      "Alex Sandro 3\n",
      "Sergio Busquets 3\n",
      "Jordi Alba 3\n",
      "S. Umtiti 2\n",
      "G. Chiellini 2\n",
      "M. Benatia 2\n",
      "Piqué 1\n"
     ]
    }
   ],
   "source": [
    "for k, v in sorted(scorers.items(), key=lambda x: -x[1]):\n",
    "    print (k, v)"
   ]
  },
  {
   "cell_type": "code",
   "execution_count": null,
   "metadata": {},
   "outputs": [],
   "source": []
  }
 ],
 "metadata": {
  "kernelspec": {
   "display_name": "Python 3",
   "language": "python",
   "name": "python3"
  },
  "language_info": {
   "codemirror_mode": {
    "name": "ipython",
    "version": 3
   },
   "file_extension": ".py",
   "mimetype": "text/x-python",
   "name": "python",
   "nbconvert_exporter": "python",
   "pygments_lexer": "ipython3",
   "version": "3.6.5"
  }
 },
 "nbformat": 4,
 "nbformat_minor": 2
}
