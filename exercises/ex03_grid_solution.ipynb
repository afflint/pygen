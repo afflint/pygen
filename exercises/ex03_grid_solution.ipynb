{
 "cells": [
  {
   "cell_type": "markdown",
   "metadata": {},
   "source": [
    "# GRID MOVEMENT\n",
    "Given a $n \\times n$ square grid, containing a randomly placed resource $r$, implement as python classes a set of agents moving over the grid with different movement strategies.\n",
    "\n",
    "The agents do not know the position of the resource. All the agents starts from the very same position on the grid. The exercize requires to:\n",
    "- Play several research quests in which the agents search for the resource by moving on the grid\n",
    "- Maintain a statistics of how they perform the search (i.e., how many moves are needed to find the resource) according to the distance of the resource from the starting point.\n",
    "- Plot the grid, the agents, and the resource during play\n",
    "- Plot the statistical performances"
   ]
  },
  {
   "cell_type": "code",
   "execution_count": 9,
   "metadata": {},
   "outputs": [],
   "source": [
    "import numpy as np\n",
    "import matplotlib.pyplot as plt\n",
    "from IPython.display import clear_output\n",
    "import time\n",
    "import pandas as pd\n",
    "\n",
    "\n",
    "class Grid(object):\n",
    "    \n",
    "    def __init__(self, n):\n",
    "        self.n = n\n",
    "        self.r = (np.random.randint(n), np.random.randint(n))\n",
    "    \n",
    "    def plot(self, ax):\n",
    "        X, Y = [], []\n",
    "        for x in range(self.n):\n",
    "            for y in range(self.n):\n",
    "                X.append(x)\n",
    "                Y.append(y)\n",
    "        ax.scatter(X, Y, marker='s', s=800, facecolors='none', edgecolors='#666666')\n",
    "        ax.scatter(self.r[0], self.r[1], marker='s', s=800, c='#FF0000')\n",
    "\n",
    "\n",
    "class Agent(object):\n",
    "    \n",
    "    def __init__(self, grid):\n",
    "        self.pos = (0, 0)\n",
    "        self.grid = grid\n",
    "        self.trials = 0\n",
    "        self.res = False\n",
    "        \n",
    "    def plot(self, ax):\n",
    "        ax.scatter(self.pos[0], self.pos[1], alpha=0.4)\n",
    "    \n",
    "    def search(self):\n",
    "        self.trials += 1\n",
    "        if self.pos == self.grid.r:\n",
    "            self.res = True\n",
    "    \n",
    "    def move(self):\n",
    "        pass\n",
    "\n",
    "class Linear(Agent):\n",
    "    \n",
    "    name = 'linear'\n",
    "\n",
    "    def __init__(self, grid):\n",
    "        self.name = Linear.name\n",
    "        super(Linear, self).__init__(grid)\n",
    "    \n",
    "    def move(self):\n",
    "        if self.pos[0] + 1 < self.grid.n:\n",
    "            self.pos = (self.pos[0] + 1, self.pos[1])\n",
    "        elif self.pos[1] + 1 < self.grid.n:\n",
    "            self.pos = (0, self.pos[1] + 1)\n",
    "        else:\n",
    "            self.pos = (0, 0)\n",
    "            \n",
    "class Random(Agent):\n",
    "    \n",
    "    name = 'random'\n",
    "\n",
    "    def __init__(self, grid):\n",
    "        self.name = Random.name\n",
    "        super(Random, self).__init__(grid)\n",
    "    \n",
    "    def move(self):\n",
    "        self.pos = ((np.random.randint(self.grid.n), np.random.randint(self.grid.n)))\n",
    "\n",
    "class SemiRandom(Agent):\n",
    "    \n",
    "    name = 'semirandom'\n",
    "    \n",
    "    def __init__(self, grid, seed=0.2):\n",
    "        self.seed = seed\n",
    "        self.name = SemiRandom.name\n",
    "        super(SemiRandom, self).__init__(grid)\n",
    "    \n",
    "    def move(self):\n",
    "        if np.random.uniform() < self.seed:\n",
    "            self.pos = ((np.random.randint(self.grid.n), np.random.randint(self.grid.n)))\n",
    "        else:\n",
    "            if self.pos[0] + 1 < self.grid.n:\n",
    "                self.pos = (self.pos[0] + 1, self.pos[1])\n",
    "            elif self.pos[1] + 1 < self.grid.n:\n",
    "                self.pos = (0, self.pos[1] + 1)\n",
    "            else:\n",
    "                self.pos = (0, 0)"
   ]
  },
  {
   "cell_type": "code",
   "execution_count": null,
   "metadata": {},
   "outputs": [],
   "source": [
    "g = Grid(8)\n",
    "l = Linear(g)\n",
    "r = Random(g)\n",
    "agents = [l, r]"
   ]
  },
  {
   "cell_type": "code",
   "execution_count": null,
   "metadata": {},
   "outputs": [],
   "source": [
    "for iteration in range(10):\n",
    "    fig, ax = plt.subplots(figsize=(6, 6))\n",
    "    g.plot(ax)\n",
    "    moves = len(agents)\n",
    "    for agent in agents:\n",
    "        agent.plot(ax)\n",
    "        if not agent.res:\n",
    "            agent.search()\n",
    "            agent.move()\n",
    "            moves -= 1\n",
    "    plt.axis('off')\n",
    "    plt.show()\n",
    "    clear_output(wait=True)\n",
    "    time.sleep(0.5)\n",
    "    if moves == len(agents):\n",
    "        break"
   ]
  },
  {
   "cell_type": "code",
   "execution_count": 10,
   "metadata": {},
   "outputs": [],
   "source": [
    "def play(g, agents, max_it=1000):\n",
    "    for iteration in range(max_it):\n",
    "        moves = len(agents)\n",
    "        for agent in agents:\n",
    "            if not agent.res:\n",
    "                agent.search()\n",
    "                agent.move()\n",
    "                moves -= 1\n",
    "        if moves == len(agents):\n",
    "            break\n",
    "    return np.sqrt(g.r[0]**2 + g.r[1]**2), [(x.name, x.trials) for x in agents] "
   ]
  },
  {
   "cell_type": "code",
   "execution_count": null,
   "metadata": {},
   "outputs": [],
   "source": [
    "play(g, agents)"
   ]
  },
  {
   "cell_type": "code",
   "execution_count": 11,
   "metadata": {},
   "outputs": [],
   "source": [
    "def multiple(size, plays, agentclasses):\n",
    "    P = {'distance': []}\n",
    "    for a in agentclasses:\n",
    "        P[a.name] = []\n",
    "    for p in range(plays):\n",
    "        g = Grid(size)\n",
    "        agents = []\n",
    "        for a in agentclasses:\n",
    "            agent = a(g)\n",
    "            agents.append(agent)\n",
    "        d, outcomes = play(g, agents)\n",
    "        P['distance'].append(d)\n",
    "        for n, v in outcomes:\n",
    "            P[n].append(v)\n",
    "    return P"
   ]
  },
  {
   "cell_type": "code",
   "execution_count": 12,
   "metadata": {},
   "outputs": [],
   "source": [
    "ac = [Linear, SemiRandom, Random]\n",
    "data = multiple(20, 200, ac)"
   ]
  },
  {
   "cell_type": "code",
   "execution_count": 13,
   "metadata": {},
   "outputs": [],
   "source": [
    "D = pd.DataFrame(data)"
   ]
  },
  {
   "cell_type": "code",
   "execution_count": 14,
   "metadata": {},
   "outputs": [
    {
     "data": {
      "text/html": [
       "<div>\n",
       "<style scoped>\n",
       "    .dataframe tbody tr th:only-of-type {\n",
       "        vertical-align: middle;\n",
       "    }\n",
       "\n",
       "    .dataframe tbody tr th {\n",
       "        vertical-align: top;\n",
       "    }\n",
       "\n",
       "    .dataframe thead th {\n",
       "        text-align: right;\n",
       "    }\n",
       "</style>\n",
       "<table border=\"1\" class=\"dataframe\">\n",
       "  <thead>\n",
       "    <tr style=\"text-align: right;\">\n",
       "      <th></th>\n",
       "      <th>distance</th>\n",
       "      <th>linear</th>\n",
       "      <th>semirandom</th>\n",
       "      <th>random</th>\n",
       "    </tr>\n",
       "  </thead>\n",
       "  <tbody>\n",
       "    <tr>\n",
       "      <th>distance</th>\n",
       "      <td>1.000000</td>\n",
       "      <td>0.722549</td>\n",
       "      <td>0.070919</td>\n",
       "      <td>0.023634</td>\n",
       "    </tr>\n",
       "    <tr>\n",
       "      <th>linear</th>\n",
       "      <td>0.722549</td>\n",
       "      <td>1.000000</td>\n",
       "      <td>0.060930</td>\n",
       "      <td>0.068835</td>\n",
       "    </tr>\n",
       "    <tr>\n",
       "      <th>semirandom</th>\n",
       "      <td>0.070919</td>\n",
       "      <td>0.060930</td>\n",
       "      <td>1.000000</td>\n",
       "      <td>0.041800</td>\n",
       "    </tr>\n",
       "    <tr>\n",
       "      <th>random</th>\n",
       "      <td>0.023634</td>\n",
       "      <td>0.068835</td>\n",
       "      <td>0.041800</td>\n",
       "      <td>1.000000</td>\n",
       "    </tr>\n",
       "  </tbody>\n",
       "</table>\n",
       "</div>"
      ],
      "text/plain": [
       "            distance    linear  semirandom    random\n",
       "distance    1.000000  0.722549    0.070919  0.023634\n",
       "linear      0.722549  1.000000    0.060930  0.068835\n",
       "semirandom  0.070919  0.060930    1.000000  0.041800\n",
       "random      0.023634  0.068835    0.041800  1.000000"
      ]
     },
     "execution_count": 14,
     "metadata": {},
     "output_type": "execute_result"
    }
   ],
   "source": [
    "D.corr()"
   ]
  },
  {
   "cell_type": "code",
   "execution_count": 15,
   "metadata": {},
   "outputs": [
    {
     "data": {
      "text/plain": [
       "distance       14.205383\n",
       "linear        194.720000\n",
       "semirandom    390.555000\n",
       "random        339.485000\n",
       "dtype: float64"
      ]
     },
     "execution_count": 15,
     "metadata": {},
     "output_type": "execute_result"
    }
   ],
   "source": [
    "D.mean()"
   ]
  },
  {
   "cell_type": "code",
   "execution_count": 16,
   "metadata": {},
   "outputs": [
    {
     "data": {
      "image/png": "[encoded data removed]",
      "text/plain": [
       "<Figure size 432x288 with 1 Axes>"
      ]
     },
     "metadata": {
      "needs_background": "light"
     },
     "output_type": "display_data"
    }
   ],
   "source": [
    "D.boxplot()\n",
    "plt.show()"
   ]
  },
  {
   "cell_type": "code",
   "execution_count": 17,
   "metadata": {},
   "outputs": [
    {
     "data": {
      "image/png": "[encoded data removed]",
      "text/plain": [
       "<Figure size 432x288 with 4 Axes>"
      ]
     },
     "metadata": {
      "needs_background": "light"
     },
     "output_type": "display_data"
    }
   ],
   "source": [
    "D.hist()\n",
    "plt.show()"
   ]
  },
  {
   "cell_type": "code",
   "execution_count": 19,
   "metadata": {},
   "outputs": [
    {
     "data": {
      "image/png": "[encoded data removed]",
      "text/plain": [
       "<Figure size 720x720 with 1 Axes>"
      ]
     },
     "metadata": {
      "needs_background": "light"
     },
     "output_type": "display_data"
    }
   ],
   "source": [
    "fig, ax = plt.subplots(figsize=(10, 10))\n",
    "for agentclass in ac:\n",
    "    ax.scatter(D.distance.values, D[agentclass.name].values, \n",
    "                alpha=0.4, label=agentclass.name)\n",
    "ax.legend()\n",
    "plt.show()"
   ]
  },
  {
   "cell_type": "code",
   "execution_count": null,
   "metadata": {},
   "outputs": [],
   "source": []
  }
 ],
 "metadata": {
  "kernelspec": {
   "display_name": "Python 3",
   "language": "python",
   "name": "python3"
  },
  "language_info": {
   "codemirror_mode": {
    "name": "ipython",
    "version": 3
   },
   "file_extension": ".py",
   "mimetype": "text/x-python",
   "name": "python",
   "nbconvert_exporter": "python",
   "pygments_lexer": "ipython3",
   "version": "3.7.1"
  }
 },
 "nbformat": 4,
 "nbformat_minor": 2
}
