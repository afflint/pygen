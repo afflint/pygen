{
 "cells": [
  {
   "cell_type": "code",
   "execution_count": 1,
   "metadata": {},
   "outputs": [],
   "source": [
    "import numpy as np\n",
    "import pandas as pd\n",
    "import pycountry\n",
    "import Geohash"
   ]
  },
  {
   "cell_type": "markdown",
   "metadata": {},
   "source": [
    "# TASK 1"
   ]
  },
  {
   "cell_type": "code",
   "execution_count": 42,
   "metadata": {},
   "outputs": [],
   "source": [
    "city_file = '../../downloads/countries/worldcitiespop.csv'\n",
    "city_names = pd.read_csv(city_file, dtype={\n",
    "    'Country': str, 'City': str, 'AccentCity': str, 'Region': object, \n",
    "    'Population': np.float64,\n",
    "    'Latitude': np.float64, 'Longitude': np.float64\n",
    "})"
   ]
  },
  {
   "cell_type": "code",
   "execution_count": 43,
   "metadata": {},
   "outputs": [],
   "source": [
    "city_names['ID'] = [Geohash.encode(k, v) for k, v in zip(\n",
    "    city_names['Latitude'], city_names['Longitude'])]"
   ]
  },
  {
   "cell_type": "code",
   "execution_count": 44,
   "metadata": {},
   "outputs": [],
   "source": [
    "cities = city_names.drop_duplicates(subset='ID', keep='first')"
   ]
  },
  {
   "cell_type": "code",
   "execution_count": 45,
   "metadata": {},
   "outputs": [],
   "source": [
    "c_codes = cities['Country'].str.upper()\n",
    "cities = cities.assign(Country=c_codes)"
   ]
  },
  {
   "cell_type": "code",
   "execution_count": 46,
   "metadata": {},
   "outputs": [
    {
     "data": {
      "text/html": [
       "<div>\n",
       "<style scoped>\n",
       "    .dataframe tbody tr th:only-of-type {\n",
       "        vertical-align: middle;\n",
       "    }\n",
       "\n",
       "    .dataframe tbody tr th {\n",
       "        vertical-align: top;\n",
       "    }\n",
       "\n",
       "    .dataframe thead th {\n",
       "        text-align: right;\n",
       "    }\n",
       "</style>\n",
       "<table border=\"1\" class=\"dataframe\">\n",
       "  <thead>\n",
       "    <tr style=\"text-align: right;\">\n",
       "      <th></th>\n",
       "      <th>Country</th>\n",
       "      <th>City</th>\n",
       "      <th>AccentCity</th>\n",
       "      <th>Region</th>\n",
       "      <th>Population</th>\n",
       "      <th>Latitude</th>\n",
       "      <th>Longitude</th>\n",
       "      <th>ID</th>\n",
       "    </tr>\n",
       "  </thead>\n",
       "  <tbody>\n",
       "    <tr>\n",
       "      <th>0</th>\n",
       "      <td>AD</td>\n",
       "      <td>aixas</td>\n",
       "      <td>Aixàs</td>\n",
       "      <td>06</td>\n",
       "      <td>NaN</td>\n",
       "      <td>42.483333</td>\n",
       "      <td>1.466667</td>\n",
       "      <td>sp919mggrg3f</td>\n",
       "    </tr>\n",
       "    <tr>\n",
       "      <th>1</th>\n",
       "      <td>AD</td>\n",
       "      <td>aixirivali</td>\n",
       "      <td>Aixirivali</td>\n",
       "      <td>06</td>\n",
       "      <td>NaN</td>\n",
       "      <td>42.466667</td>\n",
       "      <td>1.500000</td>\n",
       "      <td>sp91d4u6283n</td>\n",
       "    </tr>\n",
       "    <tr>\n",
       "      <th>4</th>\n",
       "      <td>AD</td>\n",
       "      <td>aixovall</td>\n",
       "      <td>Aixovall</td>\n",
       "      <td>06</td>\n",
       "      <td>NaN</td>\n",
       "      <td>42.466667</td>\n",
       "      <td>1.483333</td>\n",
       "      <td>sp919fb4k0mq</td>\n",
       "    </tr>\n",
       "    <tr>\n",
       "      <th>5</th>\n",
       "      <td>AD</td>\n",
       "      <td>andorra</td>\n",
       "      <td>Andorra</td>\n",
       "      <td>07</td>\n",
       "      <td>NaN</td>\n",
       "      <td>42.500000</td>\n",
       "      <td>1.516667</td>\n",
       "      <td>sp91f8bkkyhx</td>\n",
       "    </tr>\n",
       "    <tr>\n",
       "      <th>11</th>\n",
       "      <td>AD</td>\n",
       "      <td>ansalonga</td>\n",
       "      <td>Ansalonga</td>\n",
       "      <td>04</td>\n",
       "      <td>NaN</td>\n",
       "      <td>42.566667</td>\n",
       "      <td>1.516667</td>\n",
       "      <td>sp944t02ucu9</td>\n",
       "    </tr>\n",
       "  </tbody>\n",
       "</table>\n",
       "</div>"
      ],
      "text/plain": [
       "   Country        City  AccentCity Region  Population   Latitude  Longitude  \\\n",
       "0       AD       aixas       Aixàs     06         NaN  42.483333   1.466667   \n",
       "1       AD  aixirivali  Aixirivali     06         NaN  42.466667   1.500000   \n",
       "4       AD    aixovall    Aixovall     06         NaN  42.466667   1.483333   \n",
       "5       AD     andorra     Andorra     07         NaN  42.500000   1.516667   \n",
       "11      AD   ansalonga   Ansalonga     04         NaN  42.566667   1.516667   \n",
       "\n",
       "              ID  \n",
       "0   sp919mggrg3f  \n",
       "1   sp91d4u6283n  \n",
       "4   sp919fb4k0mq  \n",
       "5   sp91f8bkkyhx  \n",
       "11  sp944t02ucu9  "
      ]
     },
     "execution_count": 46,
     "metadata": {},
     "output_type": "execute_result"
    }
   ],
   "source": [
    "cities.head()"
   ]
  },
  {
   "cell_type": "markdown",
   "metadata": {},
   "source": [
    "# TASK 2"
   ]
  },
  {
   "cell_type": "code",
   "execution_count": 72,
   "metadata": {},
   "outputs": [],
   "source": [
    "stats_files = {\n",
    "    2015: '../../downloads/countries/2015.csv',\n",
    "    2016: '../../downloads/countries/2015.csv',\n",
    "    2017: '../../downloads/countries/2015.csv',\n",
    "}\n",
    "dfs = []\n",
    "\n",
    "for year, file in stats_files.items():\n",
    "    df = pd.read_csv(file)\n",
    "    df['Year'] = year\n",
    "    dfs.append(df)"
   ]
  },
  {
   "cell_type": "code",
   "execution_count": 73,
   "metadata": {},
   "outputs": [],
   "source": [
    "stats = pd.concat(dfs)"
   ]
  },
  {
   "cell_type": "code",
   "execution_count": 74,
   "metadata": {},
   "outputs": [],
   "source": [
    "def get_iso(country):\n",
    "    try:\n",
    "        c = pycountry.countries.get(name=country)\n",
    "        iso = c.alpha_2\n",
    "    except KeyError:\n",
    "        iso = None\n",
    "    return iso"
   ]
  },
  {
   "cell_type": "code",
   "execution_count": 75,
   "metadata": {},
   "outputs": [],
   "source": [
    "codes = [get_iso(x) for x in stats['Country']]\n",
    "stats['ISO'] = codes"
   ]
  },
  {
   "cell_type": "code",
   "execution_count": null,
   "metadata": {},
   "outputs": [],
   "source": [
    "stats.head()"
   ]
  },
  {
   "cell_type": "markdown",
   "metadata": {},
   "source": [
    "# TASK 3\n",
    "\n",
    "## DB Schema\n",
    "\n",
    "<code>country(**iso2**, iso3, name, numeric, official_name)</code>\n",
    "\n",
    "<code>subdiv(**code**, *country_code*, name, *parent*, type)</code>\n",
    "\n",
    "<code>city(**id**, *country*, city, complete_name, region, population, latitude, longitude)</code>\n",
    "\n",
    "<code>stats(**country, year**, country_name, region, happiness_rank, happiness, std_errror, gdp_pc, family, health, freedom, trust, generosity, dystopia)</code>\n"
   ]
  },
  {
   "cell_type": "markdown",
   "metadata": {},
   "source": [
    "### SQL\n",
    "\n",
    "<pre><code>\n",
    "CREATE TABLE countries.country (\n",
    "  iso2 CHAR(2) NOT NULL,\n",
    "  iso3 CHAR(3) NULL,\n",
    "  name VARCHAR(45) NOT NULL,\n",
    "  numeric INT NULL,\n",
    "  official_name VARCHAR(200) NULL,\n",
    "  PRIMARY KEY (iso2),\n",
    "  UNIQUE (iso3)\n",
    ");\n",
    "\n",
    "CREATE TABLE countries.subdiv (\n",
    "  code VARCHAR(8) NOT NULL,\n",
    "  country_code CHAR(2) NOT NULL,\n",
    "  name VARCHAR(200) NOT NULL,\n",
    "  parent VARCHAR(8) NULL,\n",
    "  type VARCHAR(45) NULL,\n",
    "  PRIMARY KEY (code),\n",
    "  CONSTRAINT country_code_fk\n",
    "    FOREIGN KEY (country_code)\n",
    "    REFERENCES countries.country (iso2)\n",
    "    ON DELETE CASCADE\n",
    "    ON UPDATE CASCADE\n",
    ");\n",
    "\n",
    "ALTER TABLE countries.subdiv \n",
    "ADD CONSTRAINT parent_fk\n",
    "  FOREIGN KEY (parent)\n",
    "  REFERENCES countries.subdiv (code)\n",
    "  ON DELETE SET NULL\n",
    "  ON UPDATE CASCADE;\n",
    "  \n",
    "CREATE TABLE countries.city (\n",
    "  id CHAR(12) NOT NULL,\n",
    "  country CHAR(2) NULL,\n",
    "  city_name VARCHAR(200) NOT NULL,\n",
    "  complete_name VARCHAR(200) NULL,\n",
    "  region CHAR(2) NULL,\n",
    "  population FLOAT NULL,\n",
    "  lat FLOAT NULL,\n",
    "  lon FLOAT NULL,\n",
    "  PRIMARY KEY (id),\n",
    "  CONSTRAINT country_fk\n",
    "    FOREIGN KEY (country)\n",
    "    REFERENCES countries.country (iso2)\n",
    "    ON DELETE SET NULL\n",
    "    ON UPDATE CASCADE\n",
    ");\n",
    "\n",
    "CREATE TABLE countries.stats (\n",
    "  country CHAR(2) NOT NULL,\n",
    "  year INT NOT NULL,\n",
    "  country_name VARCHAR(200) NULL,\n",
    "  region VARCHAR(200) NULL,\n",
    "  happiness_rank INT NULL,\n",
    "  happiness FLOAT NULL,\n",
    "  std_error FLOAT NULL,\n",
    "  gdp_pc FLOAT NULL,\n",
    "  family FLOAT NULL,\n",
    "  health FLOAT NULL,\n",
    "  freedom FLOAT NULL,\n",
    "  trust FLOAT NULL,\n",
    "  generosity FLOAT NULL,\n",
    "  dystopia FLOAT NULL,\n",
    "  PRIMARY KEY (country, year),\n",
    "  CONSTRAINT country_fk\n",
    "    FOREIGN KEY (country)\n",
    "    REFERENCES countries.country (iso2)\n",
    "    ON DELETE CASCADE\n",
    "    ON UPDATE CASCADE\n",
    ");\n",
    "      \n",
    "</code></pre>\n",
    "\n"
   ]
  },
  {
   "cell_type": "markdown",
   "metadata": {},
   "source": [
    "## DB population\n",
    "We will use pandas for interacting with the DB (the example is based on PostgreSQL).\n",
    "\n",
    "<code>pip install psycopg2</code>"
   ]
  },
  {
   "cell_type": "code",
   "execution_count": 2,
   "metadata": {},
   "outputs": [],
   "source": [
    "from pandas.io import sql\n",
    "import psycopg2"
   ]
  },
  {
   "cell_type": "code",
   "execution_count": 14,
   "metadata": {},
   "outputs": [],
   "source": [
    "class DB(object):\n",
    "    \n",
    "    def __init__(self, host, user, password, db, schema=None, charset='utf8mb4'):\n",
    "        self.host = host\n",
    "        self.user = user\n",
    "        self.password = password\n",
    "        self.db = db\n",
    "        self.charset = charset\n",
    "        self.schema = schema\n",
    "    \n",
    "    def connect(self):\n",
    "        return psycopg2.connect(\n",
    "            \"dbname='{}' user='{}' host='{}' password='{}'\".format(\n",
    "                self.db, self.user, self.host, self.password\n",
    "            ))\n",
    "    \n",
    "    @staticmethod\n",
    "    def as_params(df, attribute_map=None):\n",
    "        tuples, attributes = [], [attribute_map[x] if \n",
    "                                  attribute_map is not None else x for x in df.columns]\n",
    "        for i, row in df.iterrows():\n",
    "            v = [v if not pd.isnull(v) else None for v in row.values]\n",
    "            tuples.append(tuple(v))\n",
    "        return attributes, tuples \n",
    "    \n",
    "    def insert(self, table, df, attribute_map=None):\n",
    "        if self.schema is not None:\n",
    "            table = \".\".join([self.schema, table])\n",
    "        attributes, tuples = DB.as_params(df, attribute_map=attribute_map)\n",
    "        colstr = \", \".join([\"{}\".format(a) for a in attributes])\n",
    "        valstr = \", \".join([\"%s\" for a in attributes])\n",
    "        sql = \"INSERT INTO \" + table + \" (\" + colstr + \") VALUES (\" + valstr + \");\"\n",
    "        conn = self.connect()\n",
    "        cur = conn.cursor()\n",
    "        cur.executemany(sql, tuples)\n",
    "        conn.commit()\n",
    "        cur.close()\n",
    "        conn.close()"
   ]
  },
  {
   "cell_type": "markdown",
   "metadata": {},
   "source": [
    "### Create a dataframe for pycountries data"
   ]
  },
  {
   "cell_type": "code",
   "execution_count": 4,
   "metadata": {},
   "outputs": [],
   "source": [
    "countries = []\n",
    "for country in pycountry.countries:\n",
    "    countries.append(country.__dict__['_fields'])\n",
    "cdf = pd.DataFrame(countries)"
   ]
  },
  {
   "cell_type": "code",
   "execution_count": 5,
   "metadata": {},
   "outputs": [
    {
     "data": {
      "text/html": [
       "<div>\n",
       "<style scoped>\n",
       "    .dataframe tbody tr th:only-of-type {\n",
       "        vertical-align: middle;\n",
       "    }\n",
       "\n",
       "    .dataframe tbody tr th {\n",
       "        vertical-align: top;\n",
       "    }\n",
       "\n",
       "    .dataframe thead th {\n",
       "        text-align: right;\n",
       "    }\n",
       "</style>\n",
       "<table border=\"1\" class=\"dataframe\">\n",
       "  <thead>\n",
       "    <tr style=\"text-align: right;\">\n",
       "      <th></th>\n",
       "      <th>alpha_2</th>\n",
       "      <th>alpha_3</th>\n",
       "      <th>common_name</th>\n",
       "      <th>name</th>\n",
       "      <th>numeric</th>\n",
       "      <th>official_name</th>\n",
       "    </tr>\n",
       "  </thead>\n",
       "  <tbody>\n",
       "    <tr>\n",
       "      <th>0</th>\n",
       "      <td>AW</td>\n",
       "      <td>ABW</td>\n",
       "      <td>NaN</td>\n",
       "      <td>Aruba</td>\n",
       "      <td>533</td>\n",
       "      <td>NaN</td>\n",
       "    </tr>\n",
       "    <tr>\n",
       "      <th>1</th>\n",
       "      <td>AF</td>\n",
       "      <td>AFG</td>\n",
       "      <td>NaN</td>\n",
       "      <td>Afghanistan</td>\n",
       "      <td>004</td>\n",
       "      <td>Islamic Republic of Afghanistan</td>\n",
       "    </tr>\n",
       "    <tr>\n",
       "      <th>2</th>\n",
       "      <td>AO</td>\n",
       "      <td>AGO</td>\n",
       "      <td>NaN</td>\n",
       "      <td>Angola</td>\n",
       "      <td>024</td>\n",
       "      <td>Republic of Angola</td>\n",
       "    </tr>\n",
       "    <tr>\n",
       "      <th>3</th>\n",
       "      <td>AI</td>\n",
       "      <td>AIA</td>\n",
       "      <td>NaN</td>\n",
       "      <td>Anguilla</td>\n",
       "      <td>660</td>\n",
       "      <td>NaN</td>\n",
       "    </tr>\n",
       "    <tr>\n",
       "      <th>4</th>\n",
       "      <td>AX</td>\n",
       "      <td>ALA</td>\n",
       "      <td>NaN</td>\n",
       "      <td>Åland Islands</td>\n",
       "      <td>248</td>\n",
       "      <td>NaN</td>\n",
       "    </tr>\n",
       "  </tbody>\n",
       "</table>\n",
       "</div>"
      ],
      "text/plain": [
       "  alpha_2 alpha_3 common_name           name numeric  \\\n",
       "0      AW     ABW         NaN          Aruba     533   \n",
       "1      AF     AFG         NaN    Afghanistan     004   \n",
       "2      AO     AGO         NaN         Angola     024   \n",
       "3      AI     AIA         NaN       Anguilla     660   \n",
       "4      AX     ALA         NaN  Åland Islands     248   \n",
       "\n",
       "                     official_name  \n",
       "0                              NaN  \n",
       "1  Islamic Republic of Afghanistan  \n",
       "2               Republic of Angola  \n",
       "3                              NaN  \n",
       "4                              NaN  "
      ]
     },
     "execution_count": 5,
     "metadata": {},
     "output_type": "execute_result"
    }
   ],
   "source": [
    "cdf.head()"
   ]
  },
  {
   "cell_type": "code",
   "execution_count": 15,
   "metadata": {},
   "outputs": [],
   "source": [
    "db = DB(host='localhost', user='postgres', password='flintpsql', db='bdlab', \n",
    "        schema='countries')\n",
    "a_map = {'alpha_2': 'iso2', 'alpha_3': 'iso3', 'name': 'name', \n",
    "         'numeric': 'numeric', 'official_name': 'official_name'}"
   ]
  },
  {
   "cell_type": "code",
   "execution_count": 16,
   "metadata": {},
   "outputs": [],
   "source": [
    "db.insert('country', cdf[cdf.columns.difference(['common_name'])], attribute_map=a_map)"
   ]
  },
  {
   "cell_type": "markdown",
   "metadata": {},
   "source": [
    "### pycountries subdivs"
   ]
  },
  {
   "cell_type": "code",
   "execution_count": 41,
   "metadata": {},
   "outputs": [],
   "source": [
    "s_map = {'code': 'code', 'country_code': 'country_code', 'name': 'name', \n",
    "         'parent_code': 'parent', 'type': 'type'}\n",
    "for i, country in cdf.iterrows():\n",
    "    s = pycountry.subdivisions.get(country_code=country.alpha_2)\n",
    "    subdivs = [x.__dict__['_fields'] for x in s]\n",
    "    if len(subdivs) > 0:\n",
    "        sdf = pd.DataFrame(subdivs)\n",
    "        try:\n",
    "            db.insert('subdiv', \n",
    "                      sdf[sdf.columns.difference(['parent'])].sort_values(\n",
    "                          'parent_code', na_position='first'), \n",
    "                      attribute_map=s_map)\n",
    "        except psycopg2.DataError:\n",
    "            print (sdf.code.unique())\n",
    "            print (sdf.parent_code.unique())\n",
    "        except KeyError:\n",
    "            print (sdf.columns)"
   ]
  },
  {
   "cell_type": "markdown",
   "metadata": {},
   "source": [
    "### Cities\n",
    "Use the code for TASK 1 above"
   ]
  },
  {
   "cell_type": "code",
   "execution_count": 47,
   "metadata": {},
   "outputs": [
    {
     "data": {
      "text/html": [
       "<div>\n",
       "<style scoped>\n",
       "    .dataframe tbody tr th:only-of-type {\n",
       "        vertical-align: middle;\n",
       "    }\n",
       "\n",
       "    .dataframe tbody tr th {\n",
       "        vertical-align: top;\n",
       "    }\n",
       "\n",
       "    .dataframe thead th {\n",
       "        text-align: right;\n",
       "    }\n",
       "</style>\n",
       "<table border=\"1\" class=\"dataframe\">\n",
       "  <thead>\n",
       "    <tr style=\"text-align: right;\">\n",
       "      <th></th>\n",
       "      <th>Country</th>\n",
       "      <th>City</th>\n",
       "      <th>AccentCity</th>\n",
       "      <th>Region</th>\n",
       "      <th>Population</th>\n",
       "      <th>Latitude</th>\n",
       "      <th>Longitude</th>\n",
       "      <th>ID</th>\n",
       "    </tr>\n",
       "  </thead>\n",
       "  <tbody>\n",
       "    <tr>\n",
       "      <th>0</th>\n",
       "      <td>AD</td>\n",
       "      <td>aixas</td>\n",
       "      <td>Aixàs</td>\n",
       "      <td>06</td>\n",
       "      <td>NaN</td>\n",
       "      <td>42.483333</td>\n",
       "      <td>1.466667</td>\n",
       "      <td>sp919mggrg3f</td>\n",
       "    </tr>\n",
       "    <tr>\n",
       "      <th>1</th>\n",
       "      <td>AD</td>\n",
       "      <td>aixirivali</td>\n",
       "      <td>Aixirivali</td>\n",
       "      <td>06</td>\n",
       "      <td>NaN</td>\n",
       "      <td>42.466667</td>\n",
       "      <td>1.500000</td>\n",
       "      <td>sp91d4u6283n</td>\n",
       "    </tr>\n",
       "    <tr>\n",
       "      <th>4</th>\n",
       "      <td>AD</td>\n",
       "      <td>aixovall</td>\n",
       "      <td>Aixovall</td>\n",
       "      <td>06</td>\n",
       "      <td>NaN</td>\n",
       "      <td>42.466667</td>\n",
       "      <td>1.483333</td>\n",
       "      <td>sp919fb4k0mq</td>\n",
       "    </tr>\n",
       "    <tr>\n",
       "      <th>5</th>\n",
       "      <td>AD</td>\n",
       "      <td>andorra</td>\n",
       "      <td>Andorra</td>\n",
       "      <td>07</td>\n",
       "      <td>NaN</td>\n",
       "      <td>42.500000</td>\n",
       "      <td>1.516667</td>\n",
       "      <td>sp91f8bkkyhx</td>\n",
       "    </tr>\n",
       "    <tr>\n",
       "      <th>11</th>\n",
       "      <td>AD</td>\n",
       "      <td>ansalonga</td>\n",
       "      <td>Ansalonga</td>\n",
       "      <td>04</td>\n",
       "      <td>NaN</td>\n",
       "      <td>42.566667</td>\n",
       "      <td>1.516667</td>\n",
       "      <td>sp944t02ucu9</td>\n",
       "    </tr>\n",
       "  </tbody>\n",
       "</table>\n",
       "</div>"
      ],
      "text/plain": [
       "   Country        City  AccentCity Region  Population   Latitude  Longitude  \\\n",
       "0       AD       aixas       Aixàs     06         NaN  42.483333   1.466667   \n",
       "1       AD  aixirivali  Aixirivali     06         NaN  42.466667   1.500000   \n",
       "4       AD    aixovall    Aixovall     06         NaN  42.466667   1.483333   \n",
       "5       AD     andorra     Andorra     07         NaN  42.500000   1.516667   \n",
       "11      AD   ansalonga   Ansalonga     04         NaN  42.566667   1.516667   \n",
       "\n",
       "              ID  \n",
       "0   sp919mggrg3f  \n",
       "1   sp91d4u6283n  \n",
       "4   sp919fb4k0mq  \n",
       "5   sp91f8bkkyhx  \n",
       "11  sp944t02ucu9  "
      ]
     },
     "execution_count": 47,
     "metadata": {},
     "output_type": "execute_result"
    }
   ],
   "source": [
    "cities.head()"
   ]
  },
  {
   "cell_type": "code",
   "execution_count": 48,
   "metadata": {},
   "outputs": [],
   "source": [
    "y_map = {'Country': 'country', 'City': 'city_name', 'AccentCity': 'complete_name', \n",
    "         'Region': 'region', 'Population': 'population', 'Latitude': 'lat',\n",
    "        'Longitude': 'lon', 'ID': 'id'}"
   ]
  },
  {
   "cell_type": "markdown",
   "metadata": {},
   "source": [
    "<code>cities</code> is a large dataframe. We would like to partitioning it before inserting.\n",
    "Skip also countries not in the country table."
   ]
  },
  {
   "cell_type": "code",
   "execution_count": 70,
   "metadata": {},
   "outputs": [],
   "source": [
    "i, chunk = 0, 100000\n",
    "chunks = []\n",
    "cni = cdf.alpha_2.unique()\n",
    "while chunk < cities.shape[0]:\n",
    "    df = cities.iloc[i:chunk]\n",
    "    df1 = df[df.Country.isin(cni)]\n",
    "    df2 = df[~df.City.isnull()]\n",
    "    chunks.append(df2)\n",
    "    i = chunk\n",
    "    chunk += 100000"
   ]
  },
  {
   "cell_type": "code",
   "execution_count": 71,
   "metadata": {},
   "outputs": [
    {
     "name": "stdout",
     "output_type": "stream",
     "text": [
      "Inserting 0 of 22\n",
      "Inserting 1 of 22\n",
      "Inserting 2 of 22\n",
      "Inserting 3 of 22\n",
      "Inserting 4 of 22\n",
      "Inserting 5 of 22\n",
      "Inserting 6 of 22\n",
      "Inserting 7 of 22\n",
      "Inserting 8 of 22\n",
      "Inserting 9 of 22\n",
      "Inserting 10 of 22\n",
      "Inserting 11 of 22\n",
      "Inserting 12 of 22\n",
      "Inserting 13 of 22\n",
      "Inserting 14 of 22\n",
      "Inserting 15 of 22\n"
     ]
    }
   ],
   "source": [
    "for i, c in enumerate(chunks[6:]):\n",
    "    print ('Inserting', i, 'of', len(chunks))\n",
    "    db.insert('city', c, attribute_map=y_map)"
   ]
  },
  {
   "cell_type": "markdown",
   "metadata": {},
   "source": [
    "### Stats\n",
    "Use the code for TASK 2 above"
   ]
  },
  {
   "cell_type": "code",
   "execution_count": 77,
   "metadata": {},
   "outputs": [],
   "source": [
    "t_map = {'ISO': 'country', 'Year': 'year', 'Country': 'country_name', \n",
    "         'Region': 'region', 'Happiness Rank': 'happiness_rank', \n",
    "         'Happiness Score': 'happiness',\n",
    "         'Standard Error': 'std_error', 'Economy (GDP per Capita)': 'gdp_pc', \n",
    "         'Family': 'family', 'Health (Life Expectancy)': 'health', \n",
    "         'Freedom': 'freedom', 'Trust (Government Corruption)': 'trust', \n",
    "         'Generosity': 'generosity', 'Dystopia Residual': 'dystopia'}"
   ]
  },
  {
   "cell_type": "code",
   "execution_count": 80,
   "metadata": {},
   "outputs": [],
   "source": [
    "db.insert('stats', stats[~stats.ISO.isnull()], attribute_map=t_map)"
   ]
  },
  {
   "cell_type": "code",
   "execution_count": null,
   "metadata": {},
   "outputs": [],
   "source": []
  }
 ],
 "metadata": {
  "kernelspec": {
   "display_name": "Python 3",
   "language": "python",
   "name": "python3"
  },
  "language_info": {
   "codemirror_mode": {
    "name": "ipython",
    "version": 3
   },
   "file_extension": ".py",
   "mimetype": "text/x-python",
   "name": "python",
   "nbconvert_exporter": "python",
   "pygments_lexer": "ipython3",
   "version": "3.6.5"
  }
 },
 "nbformat": 4,
 "nbformat_minor": 2
}
