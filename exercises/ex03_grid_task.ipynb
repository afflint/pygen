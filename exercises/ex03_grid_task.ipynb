{
 "cells": [
  {
   "cell_type": "markdown",
   "metadata": {},
   "source": [
    "# GRID MOVEMENT\n",
    "Given a $n \\times n$ square grid, containing a randomly placed resource $r$, implement as python classes a set of agents moving over the grid with different movement strategies.\n",
    "\n",
    "The agents do not know the position of the resource. All the agents starts from the very same position on the grid. The exercize requires to:\n",
    "- Play several research quests in which the agents search for the resource by moving on the grid\n",
    "- Maintain a statistics of how they perform the search (i.e., how many moves are needed to find the resource) according to the distance of the resource from the starting point.\n",
    "- Plot the grid, the agents, and the resource during play\n",
    "- Plot the statistical performances"
   ]
  },
  {
   "cell_type": "code",
   "execution_count": null,
   "metadata": {},
   "outputs": [],
   "source": []
  }
 ],
 "metadata": {
  "kernelspec": {
   "display_name": "Python 3",
   "language": "python",
   "name": "python3"
  },
  "language_info": {
   "codemirror_mode": {
    "name": "ipython",
    "version": 3
   },
   "file_extension": ".py",
   "mimetype": "text/x-python",
   "name": "python",
   "nbconvert_exporter": "python",
   "pygments_lexer": "ipython3",
   "version": "3.7.1"
  }
 },
 "nbformat": 4,
 "nbformat_minor": 2
}
