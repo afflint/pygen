{
 "cells": [
  {
   "cell_type": "markdown",
   "metadata": {},
   "source": [
    "# RISK!"
   ]
  },
  {
   "cell_type": "code",
   "execution_count": null,
   "metadata": {},
   "outputs": [],
   "source": [
    "import numpy as np\n",
    "import geopandas as gpd\n",
    "import matplotlib.pyplot as plt"
   ]
  },
  {
   "cell_type": "code",
   "execution_count": null,
   "metadata": {},
   "outputs": [],
   "source": [
    "class Country(object):\n",
    "    \n",
    "    def __init__(self, country_series):\n",
    "        self.iso = country_series['iso_a3']\n",
    "        self.name = country_series['name']\n",
    "        self.population = country_series['pop_est']\n",
    "        self.gdp = country_series['gdp_md_est']\n",
    "        self.geo = country_series['geometry']\n",
    "    \n",
    "    def neighbours(self, candidates):\n",
    "        return [c for c in candidates if not self.geo.disjoint(c.geo) and self.iso != c.iso]\n",
    "    \n",
    "    @property\n",
    "    def power(self):\n",
    "        return np.min([self.gdp*20 / self.population, 1.0])\n",
    "    \n",
    "    def attack(self, opponent):\n",
    "        return np.random.uniform() <= self.power and not np.random.uniform() <= opponent.power\n",
    "    \n",
    "    def conquer(self, target):\n",
    "        self.population += target.population\n",
    "        self.gdp += target.gdp\n",
    "        self.geo = self.geo.union(target.geo)\n",
    "    \n",
    "    def __repr__(self):\n",
    "        return self.name\n",
    "    \n",
    "    def _to_dict(self):\n",
    "        return {\n",
    "            'iso': self.iso, 'name': self.name, 'population': self.population, 'gdp': self.gdp, \n",
    "            'geometry': self.geo\n",
    "        }\n",
    "    \n",
    "class Game(object):\n",
    "    \n",
    "    def __init__(self, countries):\n",
    "        self.map = dict( (c.iso, c) for c in countries )\n",
    "        \n",
    "    def to_df(self):\n",
    "        return gpd.GeoDataFrame([c._to_dict() for c in self.map.values()])\n",
    "    \n",
    "    def turn(self, verbose=True):\n",
    "        conquered, available = set(), self.map.values()\n",
    "        for c_id, c in self.map.items():\n",
    "            if c_id not in conquered:\n",
    "                n = c.neighbours(available)\n",
    "                if len(n) > 0:\n",
    "                    target = np.random.choice(n)\n",
    "                    if c.attack(target):\n",
    "                        c.conquer(target)\n",
    "                        conquered.add(target.iso)\n",
    "                        if verbose:\n",
    "                            print (\"{} conquered {}\".format(c.name, target.name))\n",
    "                available = [v for k, v in self.map.items() if k not in conquered]\n",
    "        for i in conquered:\n",
    "            del self.map[i]"
   ]
  },
  {
   "cell_type": "markdown",
   "metadata": {},
   "source": [
    "## MAIN"
   ]
  },
  {
   "cell_type": "code",
   "execution_count": null,
   "metadata": {},
   "outputs": [],
   "source": [
    "world = gpd.read_file(gpd.datasets.get_path('naturalearth_lowres'))\n",
    "world = world[world.name!=\"Antarctica\"]"
   ]
  },
  {
   "cell_type": "code",
   "execution_count": null,
   "metadata": {},
   "outputs": [],
   "source": [
    "countries = []\n",
    "for index, country in world.iterrows():\n",
    "    countries.append(Country(country))"
   ]
  },
  {
   "cell_type": "code",
   "execution_count": null,
   "metadata": {},
   "outputs": [],
   "source": [
    "game = Game(countries)"
   ]
  },
  {
   "cell_type": "code",
   "execution_count": null,
   "metadata": {},
   "outputs": [],
   "source": [
    "for i in range(10):\n",
    "    game.to_df().plot(figsize=(18,9), column='iso')\n",
    "    plt.show()\n",
    "    print ([c.name for c in sorted(game.map.values(), key=lambda x: -x.population)][:10])\n",
    "    game.turn(verbose=False)"
   ]
  },
  {
   "cell_type": "code",
   "execution_count": null,
   "metadata": {},
   "outputs": [],
   "source": []
  }
 ],
 "metadata": {
  "kernelspec": {
   "display_name": "Python 3",
   "language": "python",
   "name": "python3"
  },
  "language_info": {
   "codemirror_mode": {
    "name": "ipython",
    "version": 3
   },
   "file_extension": ".py",
   "mimetype": "text/x-python",
   "name": "python",
   "nbconvert_exporter": "python",
   "pygments_lexer": "ipython3",
   "version": "3.6.5"
  }
 },
 "nbformat": 4,
 "nbformat_minor": 2
}
