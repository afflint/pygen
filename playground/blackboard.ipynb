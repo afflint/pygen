{
 "cells": [
  {
   "cell_type": "markdown",
   "metadata": {},
   "source": [
    "# Blackboard\n",
    "Provides a sandbox where to test the main Python features. For a complete introduction to Python, see the <a href=\"https://docs.python.org/3/tutorial/\">Python tutorial</a>"
   ]
  },
  {
   "cell_type": "markdown",
   "metadata": {},
   "source": [
    "## Introduction to the main data structures\n",
    "- loosely typed languages\n",
    "- type casting\n",
    "- tuples and unpacking\n",
    "- lists\n",
    "- list slicing\n",
    "- list comprehension\n",
    "- strings as lists\n",
    "- <code>if</code> statements\n",
    "- <code>for</code> statements\n",
    "- enumerate\n",
    "- functions"
   ]
  },
  {
   "cell_type": "code",
   "execution_count": null,
   "metadata": {},
   "outputs": [],
   "source": []
  },
  {
   "cell_type": "markdown",
   "metadata": {},
   "source": [
    "## Example 1: recursive edit distance\n",
    "Problem: measure the distance between two strings in terms of the minimum number of operations required to transform a string into the other. Available operations are:\n",
    "- char addition: <code>casa</code> $\\rightarrow$ <code>add t</code> $=$ <code>casta</code>\n",
    "- char delete: <code>cassa</code> $\\rightarrow$ <code>del s</code> $=$ <code>casa</code>\n",
    "- char substitute: <code>cassa</code> $\\rightarrow$ <code>sub s with t</code> $=$ <code>casta</code>"
   ]
  },
  {
   "cell_type": "markdown",
   "metadata": {},
   "source": [
    "## Numpy\n",
    "For a complete introduction to numpy see the <a href=\"http://www.numpy.org/\">NumPy website</a>.\n",
    "- arrays\n",
    "- matrices and elements of linear algebra"
   ]
  },
  {
   "cell_type": "code",
   "execution_count": null,
   "metadata": {},
   "outputs": [],
   "source": []
  },
  {
   "cell_type": "markdown",
   "metadata": {},
   "source": [
    "## Example 2: iterative edit distance"
   ]
  },
  {
   "cell_type": "code",
   "execution_count": null,
   "metadata": {},
   "outputs": [],
   "source": []
  },
  {
   "cell_type": "markdown",
   "metadata": {},
   "source": [
    "## Files, dictionaries and default dictionaries\n",
    "- open and read files\n",
    "- sets\n",
    "- dictionaries\n",
    "- <code>try</code>-<code>except</code> statements\n",
    "- defaultdict"
   ]
  },
  {
   "cell_type": "code",
   "execution_count": null,
   "metadata": {},
   "outputs": [],
   "source": []
  },
  {
   "cell_type": "markdown",
   "metadata": {},
   "source": [
    "## Example 3: read words from files and search\n",
    "Define a function for searching words in a list using:\n",
    "- linear search\n",
    "- binary search\n",
    "\n",
    "Keep a track of search performances using a dictionary of experiments in which we increase the number of elements to search. Visualize statistics using Matplotlib (see the <a href=\"https://matplotlib.org/\">Matplotlib website</a>)."
   ]
  },
  {
   "cell_type": "code",
   "execution_count": null,
   "metadata": {},
   "outputs": [],
   "source": []
  },
  {
   "cell_type": "markdown",
   "metadata": {},
   "source": [
    "## Object programming in Python\n",
    "- Short introduction to classes and objects\n",
    "- Static and dynamic methods"
   ]
  },
  {
   "cell_type": "code",
   "execution_count": null,
   "metadata": {},
   "outputs": [],
   "source": []
  },
  {
   "cell_type": "markdown",
   "metadata": {},
   "source": [
    "## Example 4: movement on map\n",
    "Create two classes of agents capable of moving on a map."
   ]
  },
  {
   "cell_type": "code",
   "execution_count": null,
   "metadata": {},
   "outputs": [],
   "source": []
  }
 ],
 "metadata": {
  "kernelspec": {
   "display_name": "Python 3",
   "language": "python",
   "name": "python3"
  },
  "language_info": {
   "codemirror_mode": {
    "name": "ipython",
    "version": 3
   },
   "file_extension": ".py",
   "mimetype": "text/x-python",
   "name": "python",
   "nbconvert_exporter": "python",
   "pygments_lexer": "ipython3",
   "version": "3.7.1"
  }
 },
 "nbformat": 4,
 "nbformat_minor": 2
}
