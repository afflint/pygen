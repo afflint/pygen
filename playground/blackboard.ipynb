{
 "cells": [
  {
   "cell_type": "code",
   "execution_count": 1,
   "metadata": {},
   "outputs": [],
   "source": [
    "import numpy as np"
   ]
  },
  {
   "cell_type": "markdown",
   "metadata": {},
   "source": [
    "# Blackboard\n",
    "Provides a sandbox where to test the main Python features. For a complete introduction to Python, see the <a href=\"https://docs.python.org/3/tutorial/\">Python tutorial</a>"
   ]
  },
  {
   "cell_type": "markdown",
   "metadata": {},
   "source": [
    "## Introduction to the main data structures\n",
    "- loosely typed languages\n",
    "- type casting\n",
    "- tuples and unpacking\n",
    "- lists\n",
    "- list slicing\n",
    "- list comprehension\n",
    "- strings as lists\n",
    "- <code>if</code> statements\n",
    "- <code>for</code> statements\n",
    "- enumerate\n",
    "- functions"
   ]
  },
  {
   "cell_type": "code",
   "execution_count": null,
   "metadata": {},
   "outputs": [],
   "source": []
  },
  {
   "cell_type": "markdown",
   "metadata": {},
   "source": [
    "## Example 1: recursive edit distance\n",
    "Problem: measure the distance between two strings in terms of the minimum number of operations required to transform a string into the other. Available operations are:\n",
    "- char addition: <code>casa</code> $\\rightarrow$ <code>add t</code> $=$ <code>casta</code>\n",
    "- char delete: <code>cassa</code> $\\rightarrow$ <code>del s</code> $=$ <code>casa</code>\n",
    "- char substitute: <code>cassa</code> $\\rightarrow$ <code>sub s with t</code> $=$ <code>casta</code>"
   ]
  },
  {
   "cell_type": "code",
   "execution_count": null,
   "metadata": {},
   "outputs": [],
   "source": [
    "def D(a, b):\n",
    "    if len(a) == 0:\n",
    "        return len(b)\n",
    "    elif len(b) == 0:\n",
    "        return len(a)\n",
    "    elif a[-1] == b[-1]:\n",
    "        return D(a[:-1], b[:-1])\n",
    "    else:\n",
    "        return 1 + min([\n",
    "            D(a[:-1], b),\n",
    "            D(a[:-1], b[:-1]),\n",
    "            D(a, b[:-1])\n",
    "        ])"
   ]
  },
  {
   "cell_type": "code",
   "execution_count": null,
   "metadata": {},
   "outputs": [],
   "source": [
    "print(D('casata', 'casto'))"
   ]
  },
  {
   "cell_type": "markdown",
   "metadata": {},
   "source": [
    "## Numpy\n",
    "For a complete introduction to numpy see the <a href=\"http://www.numpy.org/\">NumPy website</a>.\n",
    "- arrays\n",
    "- matrices and elements of linear algebra"
   ]
  },
  {
   "cell_type": "code",
   "execution_count": 21,
   "metadata": {},
   "outputs": [],
   "source": []
  },
  {
   "cell_type": "code",
   "execution_count": 22,
   "metadata": {},
   "outputs": [],
   "source": []
  },
  {
   "cell_type": "markdown",
   "metadata": {},
   "source": [
    "## Example 2: iterative edit distance"
   ]
  },
  {
   "cell_type": "code",
   "execution_count": 31,
   "metadata": {},
   "outputs": [],
   "source": [
    "def edd(a, b):\n",
    "    M = np.zeros((len(a)+1, len(b)+1))\n",
    "    M[0,:] = list(range(0, len(b)+1))\n",
    "    M[:,0] = list(range(0, len(a)+1))\n",
    "    for i, x in enumerate(a):\n",
    "        iM = i + 1\n",
    "        for j, y in enumerate(b):\n",
    "            jM = j + 1\n",
    "            w = min([M[iM-1,jM-1], \n",
    "                     M[iM,jM-1],\n",
    "                     M[iM-1,jM]\n",
    "            ])\n",
    "            if x != y:\n",
    "                w += 1\n",
    "            M[iM,jM] = w\n",
    "    return M"
   ]
  },
  {
   "cell_type": "code",
   "execution_count": 32,
   "metadata": {},
   "outputs": [],
   "source": [
    "m = edd('abxaswefsojojasasdawq', 'aasdasdqqscbesswefewd')"
   ]
  },
  {
   "cell_type": "code",
   "execution_count": 33,
   "metadata": {},
   "outputs": [],
   "source": [
    "N = m.ravel()"
   ]
  },
  {
   "cell_type": "code",
   "execution_count": 35,
   "metadata": {},
   "outputs": [],
   "source": [
    "N = set(N)"
   ]
  },
  {
   "cell_type": "markdown",
   "metadata": {},
   "source": [
    "## Files, dictionaries and default dictionaries\n",
    "- open and read files\n",
    "- sets\n",
    "- dictionaries\n",
    "- <code>try</code>-<code>except</code> statements\n",
    "- defaultdict"
   ]
  },
  {
   "cell_type": "code",
   "execution_count": 60,
   "metadata": {},
   "outputs": [],
   "source": [
    "I = {}\n",
    "N = list(range(0, 1000))\n",
    "for i, x in enumerate(N):\n",
    "    k = sum(N[:i]) % 6\n",
    "    try:\n",
    "        I[k] += 1\n",
    "    except KeyError:\n",
    "        I[k] = 1"
   ]
  },
  {
   "cell_type": "code",
   "execution_count": 62,
   "metadata": {},
   "outputs": [
    {
     "data": {
      "text/plain": [
       "0.167"
      ]
     },
     "execution_count": 62,
     "metadata": {},
     "output_type": "execute_result"
    }
   ],
   "source": [
    "I[1] / sum(I.values())"
   ]
  },
  {
   "cell_type": "markdown",
   "metadata": {},
   "source": [
    "## Example 3: read words from files and search\n",
    "Define a function for searching words in a list using:\n",
    "- linear search\n",
    "- binary search\n",
    "\n",
    "Keep a track of search performances using a dictionary of experiments in which we increase the number of elements to search. Visualize statistics using Matplotlib (see the <a href=\"https://matplotlib.org/\">Matplotlib website</a>)."
   ]
  },
  {
   "cell_type": "code",
   "execution_count": null,
   "metadata": {},
   "outputs": [],
   "source": []
  },
  {
   "cell_type": "markdown",
   "metadata": {},
   "source": [
    "## Object programming in Python\n",
    "- Short introduction to classes and objects\n",
    "- Static and dynamic methods"
   ]
  },
  {
   "cell_type": "code",
   "execution_count": null,
   "metadata": {},
   "outputs": [],
   "source": []
  },
  {
   "cell_type": "markdown",
   "metadata": {},
   "source": [
    "## Example 4: movement on map\n",
    "Create two classes of agents capable of moving on a map."
   ]
  },
  {
   "cell_type": "code",
   "execution_count": null,
   "metadata": {},
   "outputs": [],
   "source": []
  }
 ],
 "metadata": {
  "kernelspec": {
   "display_name": "Python 3",
   "language": "python",
   "name": "python3"
  },
  "language_info": {
   "codemirror_mode": {
    "name": "ipython",
    "version": 3
   },
   "file_extension": ".py",
   "mimetype": "text/x-python",
   "name": "python",
   "nbconvert_exporter": "python",
   "pygments_lexer": "ipython3",
   "version": "3.7.1"
  }
 },
 "nbformat": 4,
 "nbformat_minor": 2
}
