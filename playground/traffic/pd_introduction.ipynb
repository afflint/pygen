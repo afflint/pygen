{
 "cells": [
  {
   "cell_type": "markdown",
   "metadata": {},
   "source": [
    "# High-level introduction to <code>pandas</code>\n",
    "For a more complete introduction to <code>pandas</code>, see [https://pandas.pydata.org/](https://pandas.pydata.org/)."
   ]
  },
  {
   "cell_type": "code",
   "execution_count": 1,
   "metadata": {},
   "outputs": [],
   "source": [
    "import pandas as pd\n",
    "import numpy as np\n",
    "import matplotlib.pyplot as plt"
   ]
  },
  {
   "cell_type": "markdown",
   "metadata": {},
   "source": [
    "## Series\n",
    "Series is a one-dimensional labeled array capable of holding any data type (integers, strings, floating point numbers, Python objects, etc.)."
   ]
  },
  {
   "cell_type": "code",
   "execution_count": 2,
   "metadata": {},
   "outputs": [],
   "source": [
    "data = np.random.randn(20)\n",
    "index = range(1990, 2010)"
   ]
  },
  {
   "cell_type": "code",
   "execution_count": 3,
   "metadata": {},
   "outputs": [
    {
     "name": "stdout",
     "output_type": "stream",
     "text": [
      "[-0.2196044  -0.15966019 -1.00769185  0.76921341  0.41199323 -0.72913889\n",
      " -1.32219441  0.67646282 -0.75369589 -0.91411636  1.03885204 -0.67724518\n",
      "  0.6196653   1.67062038  1.33618315  0.606179    0.25826454 -0.59867337\n",
      " -1.71565242 -0.99890934]\n",
      "range(1990, 2010)\n"
     ]
    }
   ],
   "source": [
    "print (data)\n",
    "print (index)"
   ]
  },
  {
   "cell_type": "code",
   "execution_count": 4,
   "metadata": {},
   "outputs": [],
   "source": [
    "y = pd.Series(data, index=index)"
   ]
  },
  {
   "cell_type": "code",
   "execution_count": 7,
   "metadata": {},
   "outputs": [
    {
     "name": "stdout",
     "output_type": "stream",
     "text": [
      "1990   -0.219604\n",
      "1991   -0.159660\n",
      "1992   -1.007692\n",
      "1993    0.769213\n",
      "1994    0.411993\n",
      "1995   -0.729139\n",
      "1996   -1.322194\n",
      "1997    0.676463\n",
      "1998   -0.753696\n",
      "1999   -0.914116\n",
      "2000    1.038852\n",
      "2001   -0.677245\n",
      "2002    0.619665\n",
      "2003    1.670620\n",
      "2004    1.336183\n",
      "2005    0.606179\n",
      "2006    0.258265\n",
      "2007   -0.598673\n",
      "2008   -1.715652\n",
      "2009   -0.998909\n",
      "dtype: float64\n"
     ]
    }
   ],
   "source": [
    "print (y)"
   ]
  },
  {
   "cell_type": "code",
   "execution_count": 14,
   "metadata": {},
   "outputs": [],
   "source": [
    "salaries = {\n",
    "    'gino': 1500, 'maria': 2560.34, 'luca': None, 'federico': 2451\n",
    "}"
   ]
  },
  {
   "cell_type": "code",
   "execution_count": 15,
   "metadata": {},
   "outputs": [],
   "source": [
    "s = pd.Series(salaries)"
   ]
  },
  {
   "cell_type": "code",
   "execution_count": 16,
   "metadata": {},
   "outputs": [
    {
     "name": "stdout",
     "output_type": "stream",
     "text": [
      "gino        1500.00\n",
      "maria       2560.34\n",
      "luca            NaN\n",
      "federico    2451.00\n",
      "dtype: float64\n"
     ]
    }
   ],
   "source": [
    "print (s)"
   ]
  },
  {
   "cell_type": "code",
   "execution_count": 17,
   "metadata": {},
   "outputs": [],
   "source": [
    "k = pd.Series({\n",
    "    'a': 'v', 'b': None\n",
    "})"
   ]
  },
  {
   "cell_type": "code",
   "execution_count": 18,
   "metadata": {},
   "outputs": [
    {
     "name": "stdout",
     "output_type": "stream",
     "text": [
      "a       v\n",
      "b    None\n",
      "dtype: object\n"
     ]
    }
   ],
   "source": [
    "print (k)"
   ]
  },
  {
   "cell_type": "markdown",
   "metadata": {},
   "source": [
    "### Access series as arrays"
   ]
  },
  {
   "cell_type": "code",
   "execution_count": 19,
   "metadata": {},
   "outputs": [
    {
     "name": "stdout",
     "output_type": "stream",
     "text": [
      "gino     1500.00\n",
      "maria    2560.34\n",
      "dtype: float64 \n",
      "\n",
      "maria    2560.34\n",
      "dtype: float64 \n",
      "\n",
      "gino        7.313220\n",
      "maria       7.847895\n",
      "luca             NaN\n",
      "federico    7.804251\n",
      "dtype: float64 \n",
      "\n",
      "gino        3000.00\n",
      "maria       5120.68\n",
      "luca            NaN\n",
      "federico    4902.00\n",
      "dtype: float64 \n",
      "\n",
      "gino        4500.00\n",
      "maria       7681.02\n",
      "luca            NaN\n",
      "federico    7353.00\n",
      "dtype: float64 \n",
      "\n",
      "1994    0.823986\n",
      "1995   -1.458278\n",
      "1996   -2.644389\n",
      "1997    1.352926\n",
      "1998         NaN\n",
      "1999         NaN\n",
      "dtype: float64\n"
     ]
    }
   ],
   "source": [
    "print (s[:2], '\\n')\n",
    "print (s[s > s.median()], '\\n')\n",
    "print (np.log(s), '\\n')\n",
    "print (s + s, '\\n')\n",
    "print (s * 3, '\\n')\n",
    "print (y[4:8] + y[4:10])"
   ]
  },
  {
   "cell_type": "markdown",
   "metadata": {},
   "source": [
    "### Access series as dictionaries"
   ]
  },
  {
   "cell_type": "code",
   "execution_count": null,
   "metadata": {},
   "outputs": [],
   "source": []
  },
  {
   "cell_type": "markdown",
   "metadata": {},
   "source": [
    "# Data Frames\n",
    "From [http://pandas.pydata.org/pandas-docs/stable/dsintro.html#dataframe](http://pandas.pydata.org/pandas-docs/stable/dsintro.html#dataframe)\n",
    "\n",
    "DataFrame is a 2-dimensional labeled data structure with columns of potentially different types. You can think of it like a spreadsheet or SQL table, or a dict of Series objects. It is generally the most commonly used pandas object. Like Series, DataFrame accepts many different kinds of input:\n",
    "\n",
    "- Dict of 1D ndarrays, lists, dicts, or Series\n",
    "- 2-D numpy.ndarray\n",
    "- Structured or record ndarray\n",
    "- A Series\n",
    "- Another DataFrame\n",
    "\n",
    "Along with the data, you can optionally pass index (row labels) and columns (column labels) arguments. If you pass an index and / or columns, you are guaranteeing the index and / or columns of the resulting DataFrame. Thus, a dict of Series plus a specific index will discard all data not matching up to the passed index.\n",
    "\n",
    "If axis labels are not passed, they will be constructed from the input data based on common sense rules."
   ]
  },
  {
   "cell_type": "code",
   "execution_count": 20,
   "metadata": {},
   "outputs": [
    {
     "name": "stderr",
     "output_type": "stream",
     "text": [
      "/anaconda3/lib/python3.7/site-packages/pandas/core/indexes/range.py:465: RuntimeWarning: '<' not supported between instances of 'int' and 'str', sort order is undefined for incomparable objects\n",
      "  return self._int64index.union(other)\n"
     ]
    }
   ],
   "source": [
    "k = {'years': y, 'salaries': s}\n",
    "df = pd.DataFrame(k)"
   ]
  },
  {
   "cell_type": "code",
   "execution_count": 21,
   "metadata": {},
   "outputs": [
    {
     "name": "stdout",
     "output_type": "stream",
     "text": [
      "             years  salaries\n",
      "1990     -0.219604       NaN\n",
      "1991     -0.159660       NaN\n",
      "1992     -1.007692       NaN\n",
      "1993      0.769213       NaN\n",
      "1994      0.411993       NaN\n",
      "1995     -0.729139       NaN\n",
      "1996     -1.322194       NaN\n",
      "1997      0.676463       NaN\n",
      "1998     -0.753696       NaN\n",
      "1999     -0.914116       NaN\n",
      "2000      1.038852       NaN\n",
      "2001     -0.677245       NaN\n",
      "2002      0.619665       NaN\n",
      "2003      1.670620       NaN\n",
      "2004      1.336183       NaN\n",
      "2005      0.606179       NaN\n",
      "2006      0.258265       NaN\n",
      "2007     -0.598673       NaN\n",
      "2008     -1.715652       NaN\n",
      "2009     -0.998909       NaN\n",
      "gino           NaN   1500.00\n",
      "maria          NaN   2560.34\n",
      "luca           NaN       NaN\n",
      "federico       NaN   2451.00\n"
     ]
    }
   ],
   "source": [
    "print (df)"
   ]
  },
  {
   "cell_type": "code",
   "execution_count": 22,
   "metadata": {},
   "outputs": [],
   "source": [
    "data = {}\n",
    "for k, v in s.items():\n",
    "    data[k] = {}\n",
    "    for d, w in y.items():\n",
    "        data[k][d] = v + (v*w)"
   ]
  },
  {
   "cell_type": "code",
   "execution_count": 24,
   "metadata": {},
   "outputs": [],
   "source": [
    "ydf = pd.DataFrame(data)"
   ]
  },
  {
   "cell_type": "code",
   "execution_count": 25,
   "metadata": {},
   "outputs": [
    {
     "name": "stdout",
     "output_type": "stream",
     "text": [
      "             gino        maria  luca     federico\n",
      "1990  1170.593407  1998.078083   NaN  1912.749627\n",
      "1991  1260.509710  2151.555621   NaN  2059.672866\n",
      "1992   -11.537772   -19.693746   NaN   -18.852719\n",
      "1993  2653.820112  4529.787857   NaN  4336.342063\n",
      "1994  2117.989851  3615.182756   NaN  3460.795416\n",
      "1995   406.291665   693.496535   NaN   663.880581\n",
      "1996  -483.291619  -824.927242   NaN  -789.698505\n",
      "1997  2514.694228  4292.314813   NaN  4109.010368\n",
      "1998   369.456170   630.622273   NaN   603.691382\n",
      "1999   128.825464   219.891325   NaN   210.500808\n",
      "2000  3058.278055  5220.154423   NaN  4997.226341\n",
      "2001   484.132234   826.362083   NaN   791.072071\n",
      "2002  2429.497953  4146.893859   NaN  3969.799655\n",
      "2003  4005.930563  6837.696172   NaN  6545.690540\n",
      "2004  3504.274727  5981.423170   NaN  5725.984904\n",
      "2005  2409.268506  4112.364352   NaN  3936.744740\n",
      "2006  1887.396805  3221.585024   NaN  3084.006380\n",
      "2007   601.989941  1027.532616   NaN   983.651563\n",
      "2008 -1073.478633 -1832.313523   NaN -1754.064087\n",
      "2009     1.635984     2.792451   NaN     2.673198\n"
     ]
    }
   ],
   "source": [
    "print (ydf)"
   ]
  },
  {
   "cell_type": "code",
   "execution_count": 26,
   "metadata": {},
   "outputs": [
    {
     "data": {
      "text/html": [
       "<div>\n",
       "<style scoped>\n",
       "    .dataframe tbody tr th:only-of-type {\n",
       "        vertical-align: middle;\n",
       "    }\n",
       "\n",
       "    .dataframe tbody tr th {\n",
       "        vertical-align: top;\n",
       "    }\n",
       "\n",
       "    .dataframe thead th {\n",
       "        text-align: right;\n",
       "    }\n",
       "</style>\n",
       "<table border=\"1\" class=\"dataframe\">\n",
       "  <thead>\n",
       "    <tr style=\"text-align: right;\">\n",
       "      <th></th>\n",
       "      <th>gino</th>\n",
       "      <th>maria</th>\n",
       "      <th>luca</th>\n",
       "      <th>federico</th>\n",
       "    </tr>\n",
       "  </thead>\n",
       "  <tbody>\n",
       "    <tr>\n",
       "      <th>1990</th>\n",
       "      <td>1170.593407</td>\n",
       "      <td>1998.078083</td>\n",
       "      <td>NaN</td>\n",
       "      <td>1912.749627</td>\n",
       "    </tr>\n",
       "    <tr>\n",
       "      <th>1991</th>\n",
       "      <td>1260.509710</td>\n",
       "      <td>2151.555621</td>\n",
       "      <td>NaN</td>\n",
       "      <td>2059.672866</td>\n",
       "    </tr>\n",
       "    <tr>\n",
       "      <th>1992</th>\n",
       "      <td>-11.537772</td>\n",
       "      <td>-19.693746</td>\n",
       "      <td>NaN</td>\n",
       "      <td>-18.852719</td>\n",
       "    </tr>\n",
       "    <tr>\n",
       "      <th>1993</th>\n",
       "      <td>2653.820112</td>\n",
       "      <td>4529.787857</td>\n",
       "      <td>NaN</td>\n",
       "      <td>4336.342063</td>\n",
       "    </tr>\n",
       "    <tr>\n",
       "      <th>1994</th>\n",
       "      <td>2117.989851</td>\n",
       "      <td>3615.182756</td>\n",
       "      <td>NaN</td>\n",
       "      <td>3460.795416</td>\n",
       "    </tr>\n",
       "  </tbody>\n",
       "</table>\n",
       "</div>"
      ],
      "text/plain": [
       "             gino        maria  luca     federico\n",
       "1990  1170.593407  1998.078083   NaN  1912.749627\n",
       "1991  1260.509710  2151.555621   NaN  2059.672866\n",
       "1992   -11.537772   -19.693746   NaN   -18.852719\n",
       "1993  2653.820112  4529.787857   NaN  4336.342063\n",
       "1994  2117.989851  3615.182756   NaN  3460.795416"
      ]
     },
     "execution_count": 26,
     "metadata": {},
     "output_type": "execute_result"
    }
   ],
   "source": [
    "ydf.head()"
   ]
  },
  {
   "cell_type": "code",
   "execution_count": 27,
   "metadata": {},
   "outputs": [
    {
     "data": {
      "text/html": [
       "<div>\n",
       "<style scoped>\n",
       "    .dataframe tbody tr th:only-of-type {\n",
       "        vertical-align: middle;\n",
       "    }\n",
       "\n",
       "    .dataframe tbody tr th {\n",
       "        vertical-align: top;\n",
       "    }\n",
       "\n",
       "    .dataframe thead th {\n",
       "        text-align: right;\n",
       "    }\n",
       "</style>\n",
       "<table border=\"1\" class=\"dataframe\">\n",
       "  <thead>\n",
       "    <tr style=\"text-align: right;\">\n",
       "      <th></th>\n",
       "      <th>1990</th>\n",
       "      <th>1991</th>\n",
       "      <th>1992</th>\n",
       "      <th>1993</th>\n",
       "      <th>1994</th>\n",
       "      <th>1995</th>\n",
       "      <th>1996</th>\n",
       "      <th>1997</th>\n",
       "      <th>1998</th>\n",
       "      <th>1999</th>\n",
       "      <th>2000</th>\n",
       "      <th>2001</th>\n",
       "      <th>2002</th>\n",
       "      <th>2003</th>\n",
       "      <th>2004</th>\n",
       "      <th>2005</th>\n",
       "      <th>2006</th>\n",
       "      <th>2007</th>\n",
       "      <th>2008</th>\n",
       "      <th>2009</th>\n",
       "    </tr>\n",
       "  </thead>\n",
       "  <tbody>\n",
       "    <tr>\n",
       "      <th>federico</th>\n",
       "      <td>1912.749627</td>\n",
       "      <td>2059.672866</td>\n",
       "      <td>-18.852719</td>\n",
       "      <td>4336.342063</td>\n",
       "      <td>3460.795416</td>\n",
       "      <td>663.880581</td>\n",
       "      <td>-789.698505</td>\n",
       "      <td>4109.010368</td>\n",
       "      <td>603.691382</td>\n",
       "      <td>210.500808</td>\n",
       "      <td>4997.226341</td>\n",
       "      <td>791.072071</td>\n",
       "      <td>3969.799655</td>\n",
       "      <td>6545.690540</td>\n",
       "      <td>5725.984904</td>\n",
       "      <td>3936.744740</td>\n",
       "      <td>3084.006380</td>\n",
       "      <td>983.651563</td>\n",
       "      <td>-1754.064087</td>\n",
       "      <td>2.673198</td>\n",
       "    </tr>\n",
       "    <tr>\n",
       "      <th>gino</th>\n",
       "      <td>1170.593407</td>\n",
       "      <td>1260.509710</td>\n",
       "      <td>-11.537772</td>\n",
       "      <td>2653.820112</td>\n",
       "      <td>2117.989851</td>\n",
       "      <td>406.291665</td>\n",
       "      <td>-483.291619</td>\n",
       "      <td>2514.694228</td>\n",
       "      <td>369.456170</td>\n",
       "      <td>128.825464</td>\n",
       "      <td>3058.278055</td>\n",
       "      <td>484.132234</td>\n",
       "      <td>2429.497953</td>\n",
       "      <td>4005.930563</td>\n",
       "      <td>3504.274727</td>\n",
       "      <td>2409.268506</td>\n",
       "      <td>1887.396805</td>\n",
       "      <td>601.989941</td>\n",
       "      <td>-1073.478633</td>\n",
       "      <td>1.635984</td>\n",
       "    </tr>\n",
       "    <tr>\n",
       "      <th>luca</th>\n",
       "      <td>NaN</td>\n",
       "      <td>NaN</td>\n",
       "      <td>NaN</td>\n",
       "      <td>NaN</td>\n",
       "      <td>NaN</td>\n",
       "      <td>NaN</td>\n",
       "      <td>NaN</td>\n",
       "      <td>NaN</td>\n",
       "      <td>NaN</td>\n",
       "      <td>NaN</td>\n",
       "      <td>NaN</td>\n",
       "      <td>NaN</td>\n",
       "      <td>NaN</td>\n",
       "      <td>NaN</td>\n",
       "      <td>NaN</td>\n",
       "      <td>NaN</td>\n",
       "      <td>NaN</td>\n",
       "      <td>NaN</td>\n",
       "      <td>NaN</td>\n",
       "      <td>NaN</td>\n",
       "    </tr>\n",
       "    <tr>\n",
       "      <th>maria</th>\n",
       "      <td>1998.078083</td>\n",
       "      <td>2151.555621</td>\n",
       "      <td>-19.693746</td>\n",
       "      <td>4529.787857</td>\n",
       "      <td>3615.182756</td>\n",
       "      <td>693.496535</td>\n",
       "      <td>-824.927242</td>\n",
       "      <td>4292.314813</td>\n",
       "      <td>630.622273</td>\n",
       "      <td>219.891325</td>\n",
       "      <td>5220.154423</td>\n",
       "      <td>826.362083</td>\n",
       "      <td>4146.893859</td>\n",
       "      <td>6837.696172</td>\n",
       "      <td>5981.423170</td>\n",
       "      <td>4112.364352</td>\n",
       "      <td>3221.585024</td>\n",
       "      <td>1027.532616</td>\n",
       "      <td>-1832.313523</td>\n",
       "      <td>2.792451</td>\n",
       "    </tr>\n",
       "  </tbody>\n",
       "</table>\n",
       "</div>"
      ],
      "text/plain": [
       "                 1990         1991       1992         1993         1994  \\\n",
       "federico  1912.749627  2059.672866 -18.852719  4336.342063  3460.795416   \n",
       "gino      1170.593407  1260.509710 -11.537772  2653.820112  2117.989851   \n",
       "luca              NaN          NaN        NaN          NaN          NaN   \n",
       "maria     1998.078083  2151.555621 -19.693746  4529.787857  3615.182756   \n",
       "\n",
       "                1995        1996         1997        1998        1999  \\\n",
       "federico  663.880581 -789.698505  4109.010368  603.691382  210.500808   \n",
       "gino      406.291665 -483.291619  2514.694228  369.456170  128.825464   \n",
       "luca             NaN         NaN          NaN         NaN         NaN   \n",
       "maria     693.496535 -824.927242  4292.314813  630.622273  219.891325   \n",
       "\n",
       "                 2000        2001         2002         2003         2004  \\\n",
       "federico  4997.226341  791.072071  3969.799655  6545.690540  5725.984904   \n",
       "gino      3058.278055  484.132234  2429.497953  4005.930563  3504.274727   \n",
       "luca              NaN         NaN          NaN          NaN          NaN   \n",
       "maria     5220.154423  826.362083  4146.893859  6837.696172  5981.423170   \n",
       "\n",
       "                 2005         2006         2007         2008      2009  \n",
       "federico  3936.744740  3084.006380   983.651563 -1754.064087  2.673198  \n",
       "gino      2409.268506  1887.396805   601.989941 -1073.478633  1.635984  \n",
       "luca              NaN          NaN          NaN          NaN       NaN  \n",
       "maria     4112.364352  3221.585024  1027.532616 -1832.313523  2.792451  "
      ]
     },
     "execution_count": 27,
     "metadata": {},
     "output_type": "execute_result"
    }
   ],
   "source": [
    "pd.DataFrame.from_dict(data, orient='index').head()"
   ]
  },
  {
   "cell_type": "markdown",
   "metadata": {},
   "source": [
    "## Loading and manipulating data\n",
    "Retrieve the complete local dataset from <a href=\"https://www.kaggle.com/daveianhickey/2000-16-traffic-flow-england-scotland-wales\">Kaggle website</a>."
   ]
  },
  {
   "cell_type": "code",
   "execution_count": 28,
   "metadata": {},
   "outputs": [],
   "source": [
    "accidents = '../../data/trafficsample.csv'\n",
    "A = pd.read_csv(accidents, low_memory=False, index_col=0)"
   ]
  },
  {
   "cell_type": "code",
   "execution_count": 29,
   "metadata": {},
   "outputs": [
    {
     "data": {
      "text/html": [
       "<div>\n",
       "<style scoped>\n",
       "    .dataframe tbody tr th:only-of-type {\n",
       "        vertical-align: middle;\n",
       "    }\n",
       "\n",
       "    .dataframe tbody tr th {\n",
       "        vertical-align: top;\n",
       "    }\n",
       "\n",
       "    .dataframe thead th {\n",
       "        text-align: right;\n",
       "    }\n",
       "</style>\n",
       "<table border=\"1\" class=\"dataframe\">\n",
       "  <thead>\n",
       "    <tr style=\"text-align: right;\">\n",
       "      <th></th>\n",
       "      <th>Accident_Index</th>\n",
       "      <th>Location_Easting_OSGR</th>\n",
       "      <th>Location_Northing_OSGR</th>\n",
       "      <th>Longitude</th>\n",
       "      <th>Latitude</th>\n",
       "      <th>Police_Force</th>\n",
       "      <th>Accident_Severity</th>\n",
       "      <th>Number_of_Vehicles</th>\n",
       "      <th>Number_of_Casualties</th>\n",
       "      <th>Date</th>\n",
       "      <th>...</th>\n",
       "      <th>Pedestrian_Crossing-Physical_Facilities</th>\n",
       "      <th>Light_Conditions</th>\n",
       "      <th>Weather_Conditions</th>\n",
       "      <th>Road_Surface_Conditions</th>\n",
       "      <th>Special_Conditions_at_Site</th>\n",
       "      <th>Carriageway_Hazards</th>\n",
       "      <th>Urban_or_Rural_Area</th>\n",
       "      <th>Did_Police_Officer_Attend_Scene_of_Accident</th>\n",
       "      <th>LSOA_of_Accident_Location</th>\n",
       "      <th>Year</th>\n",
       "    </tr>\n",
       "  </thead>\n",
       "  <tbody>\n",
       "    <tr>\n",
       "      <th>175309</th>\n",
       "      <td>201243N075042</td>\n",
       "      <td>497930</td>\n",
       "      <td>188010</td>\n",
       "      <td>-0.588005</td>\n",
       "      <td>51.582399</td>\n",
       "      <td>43</td>\n",
       "      <td>3</td>\n",
       "      <td>2</td>\n",
       "      <td>1</td>\n",
       "      <td>04/04/2012</td>\n",
       "      <td>...</td>\n",
       "      <td>No physical crossing within 50 meters</td>\n",
       "      <td>Darkness: Street lights present and lit</td>\n",
       "      <td>Fine without high winds</td>\n",
       "      <td>Dry</td>\n",
       "      <td>None</td>\n",
       "      <td>None</td>\n",
       "      <td>2</td>\n",
       "      <td>Yes</td>\n",
       "      <td>E01017821</td>\n",
       "      <td>2012</td>\n",
       "    </tr>\n",
       "    <tr>\n",
       "      <th>53367</th>\n",
       "      <td>2.01E+12</td>\n",
       "      <td>621820</td>\n",
       "      <td>309050</td>\n",
       "      <td>1.276633</td>\n",
       "      <td>52.633805</td>\n",
       "      <td>36</td>\n",
       "      <td>3</td>\n",
       "      <td>2</td>\n",
       "      <td>1</td>\n",
       "      <td>23/12/2013</td>\n",
       "      <td>...</td>\n",
       "      <td>No physical crossing within 50 meters</td>\n",
       "      <td>Daylight: Street light present</td>\n",
       "      <td>Fine without high winds</td>\n",
       "      <td>Wet/Damp</td>\n",
       "      <td>None</td>\n",
       "      <td>None</td>\n",
       "      <td>1</td>\n",
       "      <td>Yes</td>\n",
       "      <td>E01026840</td>\n",
       "      <td>2013</td>\n",
       "    </tr>\n",
       "    <tr>\n",
       "      <th>85873</th>\n",
       "      <td>201305DD03109</td>\n",
       "      <td>352450</td>\n",
       "      <td>397563</td>\n",
       "      <td>-2.717854</td>\n",
       "      <td>53.472632</td>\n",
       "      <td>5</td>\n",
       "      <td>2</td>\n",
       "      <td>5</td>\n",
       "      <td>3</td>\n",
       "      <td>14/06/2013</td>\n",
       "      <td>...</td>\n",
       "      <td>No physical crossing within 50 meters</td>\n",
       "      <td>Daylight: Street light present</td>\n",
       "      <td>Raining with high winds</td>\n",
       "      <td>Wet/Damp</td>\n",
       "      <td>None</td>\n",
       "      <td>None</td>\n",
       "      <td>1</td>\n",
       "      <td>Yes</td>\n",
       "      <td>E01006852</td>\n",
       "      <td>2013</td>\n",
       "    </tr>\n",
       "    <tr>\n",
       "      <th>359233</th>\n",
       "      <td>201243N210022</td>\n",
       "      <td>479520</td>\n",
       "      <td>194780</td>\n",
       "      <td>-0.852115</td>\n",
       "      <td>51.646155</td>\n",
       "      <td>43</td>\n",
       "      <td>3</td>\n",
       "      <td>1</td>\n",
       "      <td>1</td>\n",
       "      <td>21/02/2012</td>\n",
       "      <td>...</td>\n",
       "      <td>No physical crossing within 50 meters</td>\n",
       "      <td>Daylight: Street light present</td>\n",
       "      <td>Fine without high winds</td>\n",
       "      <td>Dry</td>\n",
       "      <td>None</td>\n",
       "      <td>None</td>\n",
       "      <td>2</td>\n",
       "      <td>Yes</td>\n",
       "      <td>E01017916</td>\n",
       "      <td>2012</td>\n",
       "    </tr>\n",
       "    <tr>\n",
       "      <th>340672</th>\n",
       "      <td>201401GD11000</td>\n",
       "      <td>535170</td>\n",
       "      <td>185350</td>\n",
       "      <td>-0.051837</td>\n",
       "      <td>51.550802</td>\n",
       "      <td>1</td>\n",
       "      <td>3</td>\n",
       "      <td>2</td>\n",
       "      <td>1</td>\n",
       "      <td>09/12/2014</td>\n",
       "      <td>...</td>\n",
       "      <td>Pedestrian phase at traffic signal junction</td>\n",
       "      <td>Daylight: Street light present</td>\n",
       "      <td>Fine without high winds</td>\n",
       "      <td>Dry</td>\n",
       "      <td>None</td>\n",
       "      <td>Pedestrian in carriageway (not injured)</td>\n",
       "      <td>1</td>\n",
       "      <td>Yes</td>\n",
       "      <td>E01001734</td>\n",
       "      <td>2014</td>\n",
       "    </tr>\n",
       "  </tbody>\n",
       "</table>\n",
       "<p>5 rows × 33 columns</p>\n",
       "</div>"
      ],
      "text/plain": [
       "       Accident_Index  Location_Easting_OSGR  Location_Northing_OSGR  \\\n",
       "175309  201243N075042                 497930                  188010   \n",
       "53367        2.01E+12                 621820                  309050   \n",
       "85873   201305DD03109                 352450                  397563   \n",
       "359233  201243N210022                 479520                  194780   \n",
       "340672  201401GD11000                 535170                  185350   \n",
       "\n",
       "        Longitude   Latitude  Police_Force  Accident_Severity  \\\n",
       "175309  -0.588005  51.582399            43                  3   \n",
       "53367    1.276633  52.633805            36                  3   \n",
       "85873   -2.717854  53.472632             5                  2   \n",
       "359233  -0.852115  51.646155            43                  3   \n",
       "340672  -0.051837  51.550802             1                  3   \n",
       "\n",
       "        Number_of_Vehicles  Number_of_Casualties        Date  ...   \\\n",
       "175309                   2                     1  04/04/2012  ...    \n",
       "53367                    2                     1  23/12/2013  ...    \n",
       "85873                    5                     3  14/06/2013  ...    \n",
       "359233                   1                     1  21/02/2012  ...    \n",
       "340672                   2                     1  09/12/2014  ...    \n",
       "\n",
       "            Pedestrian_Crossing-Physical_Facilities  \\\n",
       "175309        No physical crossing within 50 meters   \n",
       "53367         No physical crossing within 50 meters   \n",
       "85873         No physical crossing within 50 meters   \n",
       "359233        No physical crossing within 50 meters   \n",
       "340672  Pedestrian phase at traffic signal junction   \n",
       "\n",
       "                               Light_Conditions       Weather_Conditions  \\\n",
       "175309  Darkness: Street lights present and lit  Fine without high winds   \n",
       "53367            Daylight: Street light present  Fine without high winds   \n",
       "85873            Daylight: Street light present  Raining with high winds   \n",
       "359233           Daylight: Street light present  Fine without high winds   \n",
       "340672           Daylight: Street light present  Fine without high winds   \n",
       "\n",
       "       Road_Surface_Conditions  Special_Conditions_at_Site  \\\n",
       "175309                     Dry                        None   \n",
       "53367                 Wet/Damp                        None   \n",
       "85873                 Wet/Damp                        None   \n",
       "359233                     Dry                        None   \n",
       "340672                     Dry                        None   \n",
       "\n",
       "                            Carriageway_Hazards Urban_or_Rural_Area  \\\n",
       "175309                                     None                   2   \n",
       "53367                                      None                   1   \n",
       "85873                                      None                   1   \n",
       "359233                                     None                   2   \n",
       "340672  Pedestrian in carriageway (not injured)                   1   \n",
       "\n",
       "        Did_Police_Officer_Attend_Scene_of_Accident  \\\n",
       "175309                                          Yes   \n",
       "53367                                           Yes   \n",
       "85873                                           Yes   \n",
       "359233                                          Yes   \n",
       "340672                                          Yes   \n",
       "\n",
       "        LSOA_of_Accident_Location  Year  \n",
       "175309                  E01017821  2012  \n",
       "53367                   E01026840  2013  \n",
       "85873                   E01006852  2013  \n",
       "359233                  E01017916  2012  \n",
       "340672                  E01001734  2014  \n",
       "\n",
       "[5 rows x 33 columns]"
      ]
     },
     "execution_count": 29,
     "metadata": {},
     "output_type": "execute_result"
    }
   ],
   "source": [
    "A.head()"
   ]
  },
  {
   "cell_type": "code",
   "execution_count": 30,
   "metadata": {},
   "outputs": [
    {
     "data": {
      "text/html": [
       "<div>\n",
       "<style scoped>\n",
       "    .dataframe tbody tr th:only-of-type {\n",
       "        vertical-align: middle;\n",
       "    }\n",
       "\n",
       "    .dataframe tbody tr th {\n",
       "        vertical-align: top;\n",
       "    }\n",
       "\n",
       "    .dataframe thead th {\n",
       "        text-align: right;\n",
       "    }\n",
       "</style>\n",
       "<table border=\"1\" class=\"dataframe\">\n",
       "  <thead>\n",
       "    <tr style=\"text-align: right;\">\n",
       "      <th></th>\n",
       "      <th>Date</th>\n",
       "      <th>Time</th>\n",
       "    </tr>\n",
       "  </thead>\n",
       "  <tbody>\n",
       "    <tr>\n",
       "      <th>175309</th>\n",
       "      <td>04/04/2012</td>\n",
       "      <td>20:49</td>\n",
       "    </tr>\n",
       "    <tr>\n",
       "      <th>53367</th>\n",
       "      <td>23/12/2013</td>\n",
       "      <td>12:40</td>\n",
       "    </tr>\n",
       "    <tr>\n",
       "      <th>85873</th>\n",
       "      <td>14/06/2013</td>\n",
       "      <td>16:48</td>\n",
       "    </tr>\n",
       "    <tr>\n",
       "      <th>359233</th>\n",
       "      <td>21/02/2012</td>\n",
       "      <td>07:39</td>\n",
       "    </tr>\n",
       "    <tr>\n",
       "      <th>340672</th>\n",
       "      <td>09/12/2014</td>\n",
       "      <td>14:30</td>\n",
       "    </tr>\n",
       "  </tbody>\n",
       "</table>\n",
       "</div>"
      ],
      "text/plain": [
       "              Date   Time\n",
       "175309  04/04/2012  20:49\n",
       "53367   23/12/2013  12:40\n",
       "85873   14/06/2013  16:48\n",
       "359233  21/02/2012  07:39\n",
       "340672  09/12/2014  14:30"
      ]
     },
     "execution_count": 30,
     "metadata": {},
     "output_type": "execute_result"
    }
   ],
   "source": [
    "A[['Date', 'Time']].head()"
   ]
  },
  {
   "cell_type": "code",
   "execution_count": 31,
   "metadata": {},
   "outputs": [
    {
     "data": {
      "text/plain": [
       "Accident_Index                                  object\n",
       "Location_Easting_OSGR                            int64\n",
       "Location_Northing_OSGR                           int64\n",
       "Longitude                                      float64\n",
       "Latitude                                       float64\n",
       "Police_Force                                     int64\n",
       "Accident_Severity                                int64\n",
       "Number_of_Vehicles                               int64\n",
       "Number_of_Casualties                             int64\n",
       "Date                                            object\n",
       "Day_of_Week                                      int64\n",
       "Time                                            object\n",
       "Local_Authority_(District)                       int64\n",
       "Local_Authority_(Highway)                       object\n",
       "1st_Road_Class                                   int64\n",
       "1st_Road_Number                                  int64\n",
       "Road_Type                                       object\n",
       "Speed_limit                                      int64\n",
       "Junction_Detail                                float64\n",
       "Junction_Control                                object\n",
       "2nd_Road_Class                                   int64\n",
       "2nd_Road_Number                                  int64\n",
       "Pedestrian_Crossing-Human_Control               object\n",
       "Pedestrian_Crossing-Physical_Facilities         object\n",
       "Light_Conditions                                object\n",
       "Weather_Conditions                              object\n",
       "Road_Surface_Conditions                         object\n",
       "Special_Conditions_at_Site                      object\n",
       "Carriageway_Hazards                             object\n",
       "Urban_or_Rural_Area                              int64\n",
       "Did_Police_Officer_Attend_Scene_of_Accident     object\n",
       "LSOA_of_Accident_Location                       object\n",
       "Year                                             int64\n",
       "dtype: object"
      ]
     },
     "execution_count": 31,
     "metadata": {},
     "output_type": "execute_result"
    }
   ],
   "source": [
    "A.dtypes"
   ]
  },
  {
   "cell_type": "code",
   "execution_count": 32,
   "metadata": {},
   "outputs": [],
   "source": [
    "from datetime import datetime\n",
    "\n",
    "def todate(d, t):\n",
    "    try:\n",
    "        dt = datetime.strptime(\" \".join([d, t]), '%d/%m/%Y %H:%M')\n",
    "    except TypeError:\n",
    "        dt = np.nan\n",
    "    return dt"
   ]
  },
  {
   "cell_type": "code",
   "execution_count": 33,
   "metadata": {},
   "outputs": [],
   "source": [
    "A['Datetime'] = [todate(x.Date, x.Time) for i, x in A.iterrows()]"
   ]
  },
  {
   "cell_type": "code",
   "execution_count": 34,
   "metadata": {},
   "outputs": [
    {
     "data": {
      "text/plain": [
       "(10000, 34)"
      ]
     },
     "execution_count": 34,
     "metadata": {},
     "output_type": "execute_result"
    }
   ],
   "source": [
    "A.shape"
   ]
  },
  {
   "cell_type": "code",
   "execution_count": 36,
   "metadata": {},
   "outputs": [
    {
     "data": {
      "text/plain": [
       "Accident_Index                                         object\n",
       "Location_Easting_OSGR                                   int64\n",
       "Location_Northing_OSGR                                  int64\n",
       "Longitude                                             float64\n",
       "Latitude                                              float64\n",
       "Police_Force                                            int64\n",
       "Accident_Severity                                       int64\n",
       "Number_of_Vehicles                                      int64\n",
       "Number_of_Casualties                                    int64\n",
       "Date                                                   object\n",
       "Day_of_Week                                             int64\n",
       "Time                                                   object\n",
       "Local_Authority_(District)                              int64\n",
       "Local_Authority_(Highway)                              object\n",
       "1st_Road_Class                                          int64\n",
       "1st_Road_Number                                         int64\n",
       "Road_Type                                              object\n",
       "Speed_limit                                             int64\n",
       "Junction_Detail                                       float64\n",
       "Junction_Control                                       object\n",
       "2nd_Road_Class                                          int64\n",
       "2nd_Road_Number                                         int64\n",
       "Pedestrian_Crossing-Human_Control                      object\n",
       "Pedestrian_Crossing-Physical_Facilities                object\n",
       "Light_Conditions                                       object\n",
       "Weather_Conditions                                     object\n",
       "Road_Surface_Conditions                                object\n",
       "Special_Conditions_at_Site                             object\n",
       "Carriageway_Hazards                                    object\n",
       "Urban_or_Rural_Area                                     int64\n",
       "Did_Police_Officer_Attend_Scene_of_Accident            object\n",
       "LSOA_of_Accident_Location                              object\n",
       "Year                                                    int64\n",
       "Datetime                                       datetime64[ns]\n",
       "dtype: object"
      ]
     },
     "execution_count": 36,
     "metadata": {},
     "output_type": "execute_result"
    }
   ],
   "source": [
    "A.dtypes"
   ]
  },
  {
   "cell_type": "markdown",
   "metadata": {},
   "source": [
    "## Access dataframe by index and col"
   ]
  },
  {
   "cell_type": "code",
   "execution_count": 37,
   "metadata": {},
   "outputs": [
    {
     "data": {
      "text/html": [
       "<div>\n",
       "<style scoped>\n",
       "    .dataframe tbody tr th:only-of-type {\n",
       "        vertical-align: middle;\n",
       "    }\n",
       "\n",
       "    .dataframe tbody tr th {\n",
       "        vertical-align: top;\n",
       "    }\n",
       "\n",
       "    .dataframe thead th {\n",
       "        text-align: right;\n",
       "    }\n",
       "</style>\n",
       "<table border=\"1\" class=\"dataframe\">\n",
       "  <thead>\n",
       "    <tr style=\"text-align: right;\">\n",
       "      <th></th>\n",
       "      <th>Accident_Index</th>\n",
       "      <th>Location_Easting_OSGR</th>\n",
       "      <th>Location_Northing_OSGR</th>\n",
       "      <th>Longitude</th>\n",
       "      <th>Latitude</th>\n",
       "      <th>Police_Force</th>\n",
       "      <th>Accident_Severity</th>\n",
       "      <th>Number_of_Vehicles</th>\n",
       "      <th>Number_of_Casualties</th>\n",
       "      <th>Date</th>\n",
       "      <th>...</th>\n",
       "      <th>Light_Conditions</th>\n",
       "      <th>Weather_Conditions</th>\n",
       "      <th>Road_Surface_Conditions</th>\n",
       "      <th>Special_Conditions_at_Site</th>\n",
       "      <th>Carriageway_Hazards</th>\n",
       "      <th>Urban_or_Rural_Area</th>\n",
       "      <th>Did_Police_Officer_Attend_Scene_of_Accident</th>\n",
       "      <th>LSOA_of_Accident_Location</th>\n",
       "      <th>Year</th>\n",
       "      <th>Datetime</th>\n",
       "    </tr>\n",
       "  </thead>\n",
       "  <tbody>\n",
       "    <tr>\n",
       "      <th>85873</th>\n",
       "      <td>201305DD03109</td>\n",
       "      <td>352450</td>\n",
       "      <td>397563</td>\n",
       "      <td>-2.717854</td>\n",
       "      <td>53.472632</td>\n",
       "      <td>5</td>\n",
       "      <td>2</td>\n",
       "      <td>5</td>\n",
       "      <td>3</td>\n",
       "      <td>14/06/2013</td>\n",
       "      <td>...</td>\n",
       "      <td>Daylight: Street light present</td>\n",
       "      <td>Raining with high winds</td>\n",
       "      <td>Wet/Damp</td>\n",
       "      <td>None</td>\n",
       "      <td>None</td>\n",
       "      <td>1</td>\n",
       "      <td>Yes</td>\n",
       "      <td>E01006852</td>\n",
       "      <td>2013</td>\n",
       "      <td>2013-06-14 16:48:00</td>\n",
       "    </tr>\n",
       "    <tr>\n",
       "      <th>359233</th>\n",
       "      <td>201243N210022</td>\n",
       "      <td>479520</td>\n",
       "      <td>194780</td>\n",
       "      <td>-0.852115</td>\n",
       "      <td>51.646155</td>\n",
       "      <td>43</td>\n",
       "      <td>3</td>\n",
       "      <td>1</td>\n",
       "      <td>1</td>\n",
       "      <td>21/02/2012</td>\n",
       "      <td>...</td>\n",
       "      <td>Daylight: Street light present</td>\n",
       "      <td>Fine without high winds</td>\n",
       "      <td>Dry</td>\n",
       "      <td>None</td>\n",
       "      <td>None</td>\n",
       "      <td>2</td>\n",
       "      <td>Yes</td>\n",
       "      <td>E01017916</td>\n",
       "      <td>2012</td>\n",
       "      <td>2012-02-21 07:39:00</td>\n",
       "    </tr>\n",
       "    <tr>\n",
       "      <th>340672</th>\n",
       "      <td>201401GD11000</td>\n",
       "      <td>535170</td>\n",
       "      <td>185350</td>\n",
       "      <td>-0.051837</td>\n",
       "      <td>51.550802</td>\n",
       "      <td>1</td>\n",
       "      <td>3</td>\n",
       "      <td>2</td>\n",
       "      <td>1</td>\n",
       "      <td>09/12/2014</td>\n",
       "      <td>...</td>\n",
       "      <td>Daylight: Street light present</td>\n",
       "      <td>Fine without high winds</td>\n",
       "      <td>Dry</td>\n",
       "      <td>None</td>\n",
       "      <td>Pedestrian in carriageway (not injured)</td>\n",
       "      <td>1</td>\n",
       "      <td>Yes</td>\n",
       "      <td>E01001734</td>\n",
       "      <td>2014</td>\n",
       "      <td>2014-12-09 14:30:00</td>\n",
       "    </tr>\n",
       "    <tr>\n",
       "      <th>369203</th>\n",
       "      <td>201342I202807</td>\n",
       "      <td>550055</td>\n",
       "      <td>223249</td>\n",
       "      <td>0.179006</td>\n",
       "      <td>51.887560</td>\n",
       "      <td>42</td>\n",
       "      <td>3</td>\n",
       "      <td>3</td>\n",
       "      <td>2</td>\n",
       "      <td>15/07/2013</td>\n",
       "      <td>...</td>\n",
       "      <td>Daylight: Street light present</td>\n",
       "      <td>Fine without high winds</td>\n",
       "      <td>Dry</td>\n",
       "      <td>None</td>\n",
       "      <td>None</td>\n",
       "      <td>2</td>\n",
       "      <td>Yes</td>\n",
       "      <td>E01022087</td>\n",
       "      <td>2013</td>\n",
       "      <td>2013-07-15 11:20:00</td>\n",
       "    </tr>\n",
       "  </tbody>\n",
       "</table>\n",
       "<p>4 rows × 34 columns</p>\n",
       "</div>"
      ],
      "text/plain": [
       "       Accident_Index  Location_Easting_OSGR  Location_Northing_OSGR  \\\n",
       "85873   201305DD03109                 352450                  397563   \n",
       "359233  201243N210022                 479520                  194780   \n",
       "340672  201401GD11000                 535170                  185350   \n",
       "369203  201342I202807                 550055                  223249   \n",
       "\n",
       "        Longitude   Latitude  Police_Force  Accident_Severity  \\\n",
       "85873   -2.717854  53.472632             5                  2   \n",
       "359233  -0.852115  51.646155            43                  3   \n",
       "340672  -0.051837  51.550802             1                  3   \n",
       "369203   0.179006  51.887560            42                  3   \n",
       "\n",
       "        Number_of_Vehicles  Number_of_Casualties        Date  \\\n",
       "85873                    5                     3  14/06/2013   \n",
       "359233                   1                     1  21/02/2012   \n",
       "340672                   2                     1  09/12/2014   \n",
       "369203                   3                     2  15/07/2013   \n",
       "\n",
       "               ...                        Light_Conditions  \\\n",
       "85873          ...          Daylight: Street light present   \n",
       "359233         ...          Daylight: Street light present   \n",
       "340672         ...          Daylight: Street light present   \n",
       "369203         ...          Daylight: Street light present   \n",
       "\n",
       "             Weather_Conditions  Road_Surface_Conditions  \\\n",
       "85873   Raining with high winds                 Wet/Damp   \n",
       "359233  Fine without high winds                      Dry   \n",
       "340672  Fine without high winds                      Dry   \n",
       "369203  Fine without high winds                      Dry   \n",
       "\n",
       "       Special_Conditions_at_Site                      Carriageway_Hazards  \\\n",
       "85873                        None                                     None   \n",
       "359233                       None                                     None   \n",
       "340672                       None  Pedestrian in carriageway (not injured)   \n",
       "369203                       None                                     None   \n",
       "\n",
       "        Urban_or_Rural_Area Did_Police_Officer_Attend_Scene_of_Accident  \\\n",
       "85873                     1                                         Yes   \n",
       "359233                    2                                         Yes   \n",
       "340672                    1                                         Yes   \n",
       "369203                    2                                         Yes   \n",
       "\n",
       "        LSOA_of_Accident_Location  Year            Datetime  \n",
       "85873                   E01006852  2013 2013-06-14 16:48:00  \n",
       "359233                  E01017916  2012 2012-02-21 07:39:00  \n",
       "340672                  E01001734  2014 2014-12-09 14:30:00  \n",
       "369203                  E01022087  2013 2013-07-15 11:20:00  \n",
       "\n",
       "[4 rows x 34 columns]"
      ]
     },
     "execution_count": 37,
     "metadata": {},
     "output_type": "execute_result"
    }
   ],
   "source": [
    "A.iloc[2:6] # gets rows (or columns) at particular positions in the index (so it only takes integers)."
   ]
  },
  {
   "cell_type": "code",
   "execution_count": 38,
   "metadata": {},
   "outputs": [
    {
     "data": {
      "text/html": [
       "<div>\n",
       "<style scoped>\n",
       "    .dataframe tbody tr th:only-of-type {\n",
       "        vertical-align: middle;\n",
       "    }\n",
       "\n",
       "    .dataframe tbody tr th {\n",
       "        vertical-align: top;\n",
       "    }\n",
       "\n",
       "    .dataframe thead th {\n",
       "        text-align: right;\n",
       "    }\n",
       "</style>\n",
       "<table border=\"1\" class=\"dataframe\">\n",
       "  <thead>\n",
       "    <tr style=\"text-align: right;\">\n",
       "      <th></th>\n",
       "      <th>Accident_Index</th>\n",
       "      <th>Location_Easting_OSGR</th>\n",
       "      <th>Location_Northing_OSGR</th>\n",
       "      <th>Longitude</th>\n",
       "      <th>Latitude</th>\n",
       "      <th>Police_Force</th>\n",
       "      <th>Accident_Severity</th>\n",
       "      <th>Number_of_Vehicles</th>\n",
       "      <th>Number_of_Casualties</th>\n",
       "      <th>Date</th>\n",
       "      <th>...</th>\n",
       "      <th>Light_Conditions</th>\n",
       "      <th>Weather_Conditions</th>\n",
       "      <th>Road_Surface_Conditions</th>\n",
       "      <th>Special_Conditions_at_Site</th>\n",
       "      <th>Carriageway_Hazards</th>\n",
       "      <th>Urban_or_Rural_Area</th>\n",
       "      <th>Did_Police_Officer_Attend_Scene_of_Accident</th>\n",
       "      <th>LSOA_of_Accident_Location</th>\n",
       "      <th>Year</th>\n",
       "      <th>Datetime</th>\n",
       "    </tr>\n",
       "  </thead>\n",
       "  <tbody>\n",
       "    <tr>\n",
       "      <th>85873</th>\n",
       "      <td>201305DD03109</td>\n",
       "      <td>352450</td>\n",
       "      <td>397563</td>\n",
       "      <td>-2.717854</td>\n",
       "      <td>53.472632</td>\n",
       "      <td>5</td>\n",
       "      <td>2</td>\n",
       "      <td>5</td>\n",
       "      <td>3</td>\n",
       "      <td>14/06/2013</td>\n",
       "      <td>...</td>\n",
       "      <td>Daylight: Street light present</td>\n",
       "      <td>Raining with high winds</td>\n",
       "      <td>Wet/Damp</td>\n",
       "      <td>None</td>\n",
       "      <td>None</td>\n",
       "      <td>1</td>\n",
       "      <td>Yes</td>\n",
       "      <td>E01006852</td>\n",
       "      <td>2013</td>\n",
       "      <td>2013-06-14 16:48:00</td>\n",
       "    </tr>\n",
       "    <tr>\n",
       "      <th>340672</th>\n",
       "      <td>201401GD11000</td>\n",
       "      <td>535170</td>\n",
       "      <td>185350</td>\n",
       "      <td>-0.051837</td>\n",
       "      <td>51.550802</td>\n",
       "      <td>1</td>\n",
       "      <td>3</td>\n",
       "      <td>2</td>\n",
       "      <td>1</td>\n",
       "      <td>09/12/2014</td>\n",
       "      <td>...</td>\n",
       "      <td>Daylight: Street light present</td>\n",
       "      <td>Fine without high winds</td>\n",
       "      <td>Dry</td>\n",
       "      <td>None</td>\n",
       "      <td>Pedestrian in carriageway (not injured)</td>\n",
       "      <td>1</td>\n",
       "      <td>Yes</td>\n",
       "      <td>E01001734</td>\n",
       "      <td>2014</td>\n",
       "      <td>2014-12-09 14:30:00</td>\n",
       "    </tr>\n",
       "  </tbody>\n",
       "</table>\n",
       "<p>2 rows × 34 columns</p>\n",
       "</div>"
      ],
      "text/plain": [
       "       Accident_Index  Location_Easting_OSGR  Location_Northing_OSGR  \\\n",
       "85873   201305DD03109                 352450                  397563   \n",
       "340672  201401GD11000                 535170                  185350   \n",
       "\n",
       "        Longitude   Latitude  Police_Force  Accident_Severity  \\\n",
       "85873   -2.717854  53.472632             5                  2   \n",
       "340672  -0.051837  51.550802             1                  3   \n",
       "\n",
       "        Number_of_Vehicles  Number_of_Casualties        Date  \\\n",
       "85873                    5                     3  14/06/2013   \n",
       "340672                   2                     1  09/12/2014   \n",
       "\n",
       "               ...                        Light_Conditions  \\\n",
       "85873          ...          Daylight: Street light present   \n",
       "340672         ...          Daylight: Street light present   \n",
       "\n",
       "             Weather_Conditions  Road_Surface_Conditions  \\\n",
       "85873   Raining with high winds                 Wet/Damp   \n",
       "340672  Fine without high winds                      Dry   \n",
       "\n",
       "       Special_Conditions_at_Site                      Carriageway_Hazards  \\\n",
       "85873                        None                                     None   \n",
       "340672                       None  Pedestrian in carriageway (not injured)   \n",
       "\n",
       "        Urban_or_Rural_Area Did_Police_Officer_Attend_Scene_of_Accident  \\\n",
       "85873                     1                                         Yes   \n",
       "340672                    1                                         Yes   \n",
       "\n",
       "        LSOA_of_Accident_Location  Year            Datetime  \n",
       "85873                   E01006852  2013 2013-06-14 16:48:00  \n",
       "340672                  E01001734  2014 2014-12-09 14:30:00  \n",
       "\n",
       "[2 rows x 34 columns]"
      ]
     },
     "execution_count": 38,
     "metadata": {},
     "output_type": "execute_result"
    }
   ],
   "source": [
    "A.loc[[85873, 340672]] # gets rows (or columns) with particular labels from the index"
   ]
  },
  {
   "cell_type": "code",
   "execution_count": 39,
   "metadata": {},
   "outputs": [
    {
     "data": {
      "text/html": [
       "<div>\n",
       "<style scoped>\n",
       "    .dataframe tbody tr th:only-of-type {\n",
       "        vertical-align: middle;\n",
       "    }\n",
       "\n",
       "    .dataframe tbody tr th {\n",
       "        vertical-align: top;\n",
       "    }\n",
       "\n",
       "    .dataframe thead th {\n",
       "        text-align: right;\n",
       "    }\n",
       "</style>\n",
       "<table border=\"1\" class=\"dataframe\">\n",
       "  <thead>\n",
       "    <tr style=\"text-align: right;\">\n",
       "      <th></th>\n",
       "      <th>Weather_Conditions</th>\n",
       "      <th>Police_Force</th>\n",
       "      <th>Accident_Severity</th>\n",
       "      <th>Number_of_Vehicles</th>\n",
       "      <th>Number_of_Casualties</th>\n",
       "    </tr>\n",
       "  </thead>\n",
       "  <tbody>\n",
       "    <tr>\n",
       "      <th>342377</th>\n",
       "      <td>Fine without high winds</td>\n",
       "      <td>61</td>\n",
       "      <td>3</td>\n",
       "      <td>2</td>\n",
       "      <td>21</td>\n",
       "    </tr>\n",
       "    <tr>\n",
       "      <th>21228</th>\n",
       "      <td>Fine without high winds</td>\n",
       "      <td>50</td>\n",
       "      <td>3</td>\n",
       "      <td>2</td>\n",
       "      <td>10</td>\n",
       "    </tr>\n",
       "    <tr>\n",
       "      <th>47734</th>\n",
       "      <td>Fine without high winds</td>\n",
       "      <td>44</td>\n",
       "      <td>2</td>\n",
       "      <td>1</td>\n",
       "      <td>10</td>\n",
       "    </tr>\n",
       "    <tr>\n",
       "      <th>387706</th>\n",
       "      <td>Fine without high winds</td>\n",
       "      <td>5</td>\n",
       "      <td>3</td>\n",
       "      <td>5</td>\n",
       "      <td>9</td>\n",
       "    </tr>\n",
       "    <tr>\n",
       "      <th>301798</th>\n",
       "      <td>Unknown</td>\n",
       "      <td>6</td>\n",
       "      <td>3</td>\n",
       "      <td>2</td>\n",
       "      <td>9</td>\n",
       "    </tr>\n",
       "  </tbody>\n",
       "</table>\n",
       "</div>"
      ],
      "text/plain": [
       "             Weather_Conditions  Police_Force  Accident_Severity  \\\n",
       "342377  Fine without high winds            61                  3   \n",
       "21228   Fine without high winds            50                  3   \n",
       "47734   Fine without high winds            44                  2   \n",
       "387706  Fine without high winds             5                  3   \n",
       "301798                  Unknown             6                  3   \n",
       "\n",
       "        Number_of_Vehicles  Number_of_Casualties  \n",
       "342377                   2                    21  \n",
       "21228                    2                    10  \n",
       "47734                    1                    10  \n",
       "387706                   5                     9  \n",
       "301798                   2                     9  "
      ]
     },
     "execution_count": 39,
     "metadata": {},
     "output_type": "execute_result"
    }
   ],
   "source": [
    "selection = A[A['Road_Surface_Conditions'] == 'Dry'].sort_values(\n",
    "    'Number_of_Casualties', ascending=False)\n",
    "selection[['Weather_Conditions', 'Police_Force', \n",
    "           'Accident_Severity', 'Number_of_Vehicles', 'Number_of_Casualties']].head()"
   ]
  },
  {
   "cell_type": "code",
   "execution_count": null,
   "metadata": {},
   "outputs": [],
   "source": [
    "selection[['Weather_Conditions', 'Police_Force', 'Accident_Severity', \n",
    "           'Number_of_Vehicles', 'Number_of_Casualties']].groupby('Weather_Conditions').mean()"
   ]
  },
  {
   "cell_type": "code",
   "execution_count": 40,
   "metadata": {},
   "outputs": [],
   "source": [
    "sel = selection[['Weather_Conditions', 'Police_Force', 'Accident_Severity', \n",
    "           'Number_of_Vehicles', 'Number_of_Casualties', 'Datetime']]"
   ]
  },
  {
   "cell_type": "code",
   "execution_count": 41,
   "metadata": {},
   "outputs": [
    {
     "data": {
      "image/png": "[encoded data removed]",
      "text/plain": [
       "<Figure size 432x288 with 4 Axes>"
      ]
     },
     "metadata": {
      "needs_background": "light"
     },
     "output_type": "display_data"
    }
   ],
   "source": [
    "sel.hist()\n",
    "plt.tight_layout()\n",
    "plt.show()"
   ]
  },
  {
   "cell_type": "code",
   "execution_count": 42,
   "metadata": {},
   "outputs": [],
   "source": [
    "minutes = []\n",
    "for i, row in sel.iterrows():\n",
    "    h, m = row['Datetime'].hour, row['Datetime'].minute\n",
    "    minutes.append(h*60 + m)\n",
    "sel = sel.copy()\n",
    "sel['Minutes'] = minutes"
   ]
  },
  {
   "cell_type": "code",
   "execution_count": 43,
   "metadata": {},
   "outputs": [
    {
     "data": {
      "image/png": "[encoded data removed]",
      "text/plain": [
       "<Figure size 432x288 with 6 Axes>"
      ]
     },
     "metadata": {
      "needs_background": "light"
     },
     "output_type": "display_data"
    }
   ],
   "source": [
    "sel.hist()\n",
    "plt.tight_layout()\n",
    "plt.show()"
   ]
  },
  {
   "cell_type": "code",
   "execution_count": 44,
   "metadata": {},
   "outputs": [
    {
     "data": {
      "image/png": "[encoded data removed]",
      "text/plain": [
       "<Figure size 720x288 with 1 Axes>"
      ]
     },
     "metadata": {
      "needs_background": "light"
     },
     "output_type": "display_data"
    }
   ],
   "source": [
    "fig, axes = plt.subplots(nrows=1, ncols=1, figsize=(10, 4), sharey=True)\n",
    "sel.boxplot(ax=axes)\n",
    "plt.tight_layout()\n",
    "plt.show()"
   ]
  },
  {
   "cell_type": "code",
   "execution_count": 45,
   "metadata": {},
   "outputs": [
    {
     "data": {
      "image/png": "[encoded data removed]",
      "text/plain": [
       "<Figure size 720x720 with 1 Axes>"
      ]
     },
     "metadata": {
      "needs_background": "light"
     },
     "output_type": "display_data"
    }
   ],
   "source": [
    "fig, axes = plt.subplots(nrows=1, ncols=1, figsize=(10, 10), sharey=True)\n",
    "axes.scatter(selection.Longitude.values, selection.Latitude.values, alpha=0.2)\n",
    "plt.show()"
   ]
  },
  {
   "cell_type": "code",
   "execution_count": 46,
   "metadata": {},
   "outputs": [],
   "source": [
    "import geopandas as gpd"
   ]
  },
  {
   "cell_type": "code",
   "execution_count": 47,
   "metadata": {},
   "outputs": [],
   "source": [
    "world = gpd.read_file(gpd.datasets.get_path('naturalearth_lowres'))"
   ]
  },
  {
   "cell_type": "code",
   "execution_count": 48,
   "metadata": {},
   "outputs": [],
   "source": [
    "UK = world[world['iso_a3']=='GBR']"
   ]
  },
  {
   "cell_type": "code",
   "execution_count": 49,
   "metadata": {},
   "outputs": [
    {
     "data": {
      "image/png": "[encoded data removed]",
      "text/plain": [
       "<Figure size 720x720 with 1 Axes>"
      ]
     },
     "metadata": {
      "needs_background": "light"
     },
     "output_type": "display_data"
    }
   ],
   "source": [
    "limit = 2000\n",
    "fig, axes = plt.subplots(nrows=1, ncols=1, figsize=(10, 10), sharey=True)\n",
    "UK.plot(ax=axes, color='#CCCCCC')\n",
    "axes.scatter(selection.Longitude.values[:limit], selection.Latitude.values[:limit], alpha=0.2)\n",
    "plt.show()"
   ]
  },
  {
   "cell_type": "markdown",
   "metadata": {},
   "source": [
    "# Example 1: k-means\n",
    "Implement k-means using <code>NumPy</code> and functions"
   ]
  },
  {
   "cell_type": "code",
   "execution_count": null,
   "metadata": {},
   "outputs": [],
   "source": []
  }
 ],
 "metadata": {
  "kernelspec": {
   "display_name": "Python 3",
   "language": "python",
   "name": "python3"
  },
  "language_info": {
   "codemirror_mode": {
    "name": "ipython",
    "version": 3
   },
   "file_extension": ".py",
   "mimetype": "text/x-python",
   "name": "python",
   "nbconvert_exporter": "python",
   "pygments_lexer": "ipython3",
   "version": "3.7.1"
  }
 },
 "nbformat": 4,
 "nbformat_minor": 2
}
