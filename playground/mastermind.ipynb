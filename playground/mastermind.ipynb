{
 "cells": [
  {
   "cell_type": "code",
   "execution_count": 36,
   "metadata": {},
   "outputs": [],
   "source": [
    "import string\n",
    "import numpy as np\n",
    "from collections import Counter, defaultdict"
   ]
  },
  {
   "cell_type": "code",
   "execution_count": 81,
   "metadata": {},
   "outputs": [],
   "source": [
    "def generate(n=6):\n",
    "    if isinstance(n, int) and n > 0:\n",
    "        base = string.ascii_uppercase\n",
    "        w = np.random.choice(list(base), size=n)\n",
    "    elif isinstance(n, str) and len(n) > 0:\n",
    "        w = np.random.choice(list(n), size=len(n))\n",
    "    else:\n",
    "        return None\n",
    "    return \"\".join(w)\n",
    "\n",
    "def check(target, guess, counter):\n",
    "    if len(target) != len(guess):\n",
    "        return counter, 'Try again'\n",
    "    else:\n",
    "        I = dict(Counter(target).most_common())\n",
    "        output = ['X']*len(target)\n",
    "        to_check = []\n",
    "        for i, c in enumerate(guess):\n",
    "            if c == target[i]:\n",
    "                output[i] = '!'\n",
    "                I[c] -= 1\n",
    "            else:\n",
    "                to_check.append(i)\n",
    "            for x in to_check:\n",
    "                c = guess[x]\n",
    "                if c in I.keys() and I[c] > 0:\n",
    "                    output[x] = '?'\n",
    "                    I[c] -= 1\n",
    "        return counter - 1, output"
   ]
  },
  {
   "cell_type": "code",
   "execution_count": 82,
   "metadata": {},
   "outputs": [],
   "source": [
    "w = generate(n=6)"
   ]
  },
  {
   "cell_type": "code",
   "execution_count": 85,
   "metadata": {},
   "outputs": [
    {
     "data": {
      "text/plain": [
       "(5, ['!', '!', '?', 'X', 'X', 'X'])"
      ]
     },
     "execution_count": 85,
     "metadata": {},
     "output_type": "execute_result"
    }
   ],
   "source": [
    "check(w, 'UWUULL', 6)"
   ]
  },
  {
   "cell_type": "code",
   "execution_count": 83,
   "metadata": {},
   "outputs": [
    {
     "data": {
      "text/plain": [
       "'UWMXUZ'"
      ]
     },
     "execution_count": 83,
     "metadata": {},
     "output_type": "execute_result"
    }
   ],
   "source": [
    "w"
   ]
  },
  {
   "cell_type": "code",
   "execution_count": null,
   "metadata": {},
   "outputs": [],
   "source": []
  }
 ],
 "metadata": {
  "kernelspec": {
   "display_name": "Python 3",
   "language": "python",
   "name": "python3"
  },
  "language_info": {
   "codemirror_mode": {
    "name": "ipython",
    "version": 3
   },
   "file_extension": ".py",
   "mimetype": "text/x-python",
   "name": "python",
   "nbconvert_exporter": "python",
   "pygments_lexer": "ipython3",
   "version": "3.7.1"
  }
 },
 "nbformat": 4,
 "nbformat_minor": 2
}
