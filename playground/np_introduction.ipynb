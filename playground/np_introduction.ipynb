{
 "cells": [
  {
   "cell_type": "markdown",
   "metadata": {},
   "source": [
    "# High-level introduction to <code>numpy</code>\n",
    "Provides some examples of core functionalities of numpy for arrays and matrix data. For a complete introduction to <code>numpy</code>, see [http://www.numpy.org/](http://www.numpy.org/)."
   ]
  },
  {
   "cell_type": "code",
   "execution_count": 47,
   "metadata": {},
   "outputs": [],
   "source": [
    "import numpy as np"
   ]
  },
  {
   "cell_type": "markdown",
   "metadata": {},
   "source": [
    "## Arrays and dimensions (axes)"
   ]
  },
  {
   "cell_type": "code",
   "execution_count": 68,
   "metadata": {},
   "outputs": [],
   "source": [
    "people = ['gino', 'maria', 'luca', 'federico', 'andrea', 'stefano']\n",
    "friendliness = [0.4, 0.6, 0.8, 0.3, 0.2, 0.7]"
   ]
  },
  {
   "cell_type": "code",
   "execution_count": 116,
   "metadata": {},
   "outputs": [],
   "source": [
    "F = np.zeros((len(people), len(people)))"
   ]
  },
  {
   "cell_type": "code",
   "execution_count": 117,
   "metadata": {},
   "outputs": [
    {
     "name": "stdout",
     "output_type": "stream",
     "text": [
      "2 (6, 6) 36 float64 8 bytes\n"
     ]
    }
   ],
   "source": [
    "print (F.ndim, F.shape, F.size, F.dtype, F.itemsize, 'bytes')"
   ]
  },
  {
   "cell_type": "code",
   "execution_count": 118,
   "metadata": {},
   "outputs": [],
   "source": [
    "for i, p in enumerate(people):\n",
    "    for j, o in enumerate(people):\n",
    "        if i == j:\n",
    "            F[i][j] = 0.5\n",
    "        else:\n",
    "            if np.random.uniform() <= friendliness[i]:\n",
    "                F[i][j] = round(2 * friendliness[i] * friendliness[j] / (friendliness[i] + friendliness[j]), 2)"
   ]
  },
  {
   "cell_type": "code",
   "execution_count": 119,
   "metadata": {},
   "outputs": [
    {
     "name": "stdout",
     "output_type": "stream",
     "text": [
      "[[ 0.5   0.48  0.    0.34  0.    0.  ]\n",
      " [ 0.48  0.5   0.69  0.    0.3   0.65]\n",
      " [ 0.53  0.69  0.5   0.44  0.32  0.75]\n",
      " [ 0.    0.    0.    0.5   0.24  0.  ]\n",
      " [ 0.    0.    0.32  0.    0.5   0.  ]\n",
      " [ 0.51  0.65  0.    0.42  0.    0.5 ]]\n"
     ]
    }
   ],
   "source": [
    "print (F)"
   ]
  },
  {
   "cell_type": "markdown",
   "metadata": {},
   "source": [
    "## Operations\n",
    "Arithmetic operators on arrays apply elementwise. A new array is created and filled with the result."
   ]
  },
  {
   "cell_type": "code",
   "execution_count": 120,
   "metadata": {},
   "outputs": [],
   "source": [
    "X = F[:2,:2]"
   ]
  },
  {
   "cell_type": "code",
   "execution_count": 121,
   "metadata": {},
   "outputs": [
    {
     "name": "stdout",
     "output_type": "stream",
     "text": [
      "[[ 0.5   0.48]\n",
      " [ 0.48  0.5 ]]\n"
     ]
    }
   ],
   "source": [
    "print (X)"
   ]
  },
  {
   "cell_type": "code",
   "execution_count": 122,
   "metadata": {},
   "outputs": [
    {
     "name": "stdout",
     "output_type": "stream",
     "text": [
      "[[ 2.5   2.48]\n",
      " [ 2.48  2.5 ]]\n"
     ]
    }
   ],
   "source": [
    "print (X + 2)"
   ]
  },
  {
   "cell_type": "code",
   "execution_count": 123,
   "metadata": {},
   "outputs": [
    {
     "name": "stdout",
     "output_type": "stream",
     "text": [
      "[[ 1.    0.96]\n",
      " [ 0.96  1.  ]]\n"
     ]
    }
   ],
   "source": [
    "print (X * 2)"
   ]
  },
  {
   "cell_type": "code",
   "execution_count": 124,
   "metadata": {},
   "outputs": [
    {
     "name": "stdout",
     "output_type": "stream",
     "text": [
      "[[ 1.    1.44]\n",
      " [ 0.96  1.5 ]]\n"
     ]
    }
   ],
   "source": [
    "print (X * np.array([2, 3]))"
   ]
  },
  {
   "cell_type": "markdown",
   "metadata": {},
   "source": [
    "Be carefull with matrix product"
   ]
  },
  {
   "cell_type": "code",
   "execution_count": 125,
   "metadata": {},
   "outputs": [
    {
     "name": "stdout",
     "output_type": "stream",
     "text": [
      "[ 2.44  2.46]\n"
     ]
    }
   ],
   "source": [
    "print (X.dot(np.array([2, 3])))"
   ]
  },
  {
   "cell_type": "code",
   "execution_count": 126,
   "metadata": {},
   "outputs": [
    {
     "name": "stdout",
     "output_type": "stream",
     "text": [
      "[ 2.44  2.46]\n"
     ]
    }
   ],
   "source": [
    "print (X.T.dot(np.array([2, 3])))"
   ]
  },
  {
   "cell_type": "markdown",
   "metadata": {},
   "source": [
    "## Shape operations"
   ]
  },
  {
   "cell_type": "code",
   "execution_count": 127,
   "metadata": {},
   "outputs": [
    {
     "name": "stdout",
     "output_type": "stream",
     "text": [
      "[[ 0.5   0.48  0.    0.34  0.    0.  ]\n",
      " [ 0.48  0.5   0.69  0.    0.3   0.65]\n",
      " [ 0.53  0.69  0.5   0.44  0.32  0.75]\n",
      " [ 0.    0.    0.    0.5   0.24  0.  ]\n",
      " [ 0.    0.    0.32  0.    0.5   0.  ]\n",
      " [ 0.51  0.65  0.    0.42  0.    0.5 ]]\n"
     ]
    }
   ],
   "source": [
    "print (F)"
   ]
  },
  {
   "cell_type": "code",
   "execution_count": 128,
   "metadata": {},
   "outputs": [
    {
     "name": "stdout",
     "output_type": "stream",
     "text": [
      "[ 0.5   0.48  0.    0.34  0.    0.    0.48  0.5   0.69  0.    0.3   0.65\n",
      "  0.53  0.69  0.5   0.44  0.32  0.75  0.    0.    0.    0.5   0.24  0.    0.\n",
      "  0.    0.32  0.    0.5   0.    0.51  0.65  0.    0.42  0.    0.5 ]\n"
     ]
    }
   ],
   "source": [
    "print (F.ravel())"
   ]
  },
  {
   "cell_type": "code",
   "execution_count": 129,
   "metadata": {},
   "outputs": [
    {
     "name": "stdout",
     "output_type": "stream",
     "text": [
      "[[ 0.5   0.48  0.    0.34  0.    0.    0.48  0.5   0.69  0.    0.3   0.65]\n",
      " [ 0.53  0.69  0.5   0.44  0.32  0.75  0.    0.    0.    0.5   0.24  0.  ]\n",
      " [ 0.    0.    0.32  0.    0.5   0.    0.51  0.65  0.    0.42  0.    0.5 ]]\n"
     ]
    }
   ],
   "source": [
    "print (F.reshape(3,12))"
   ]
  },
  {
   "cell_type": "code",
   "execution_count": 130,
   "metadata": {},
   "outputs": [
    {
     "name": "stdout",
     "output_type": "stream",
     "text": [
      "[[ 0.5   0.48  0.    0.34  0.    0.    0.48  0.5   0.69]\n",
      " [ 0.    0.3   0.65  0.53  0.69  0.5   0.44  0.32  0.75]\n",
      " [ 0.    0.    0.    0.5   0.24  0.    0.    0.    0.32]\n",
      " [ 0.    0.5   0.    0.51  0.65  0.    0.42  0.    0.5 ]]\n"
     ]
    }
   ],
   "source": [
    "print (F.reshape(4,-1))"
   ]
  },
  {
   "cell_type": "markdown",
   "metadata": {},
   "source": [
    "### Some usefull functions"
   ]
  },
  {
   "cell_type": "code",
   "execution_count": 131,
   "metadata": {},
   "outputs": [
    {
     "name": "stdout",
     "output_type": "stream",
     "text": [
      "max element in ravel 17\n",
      "max per column [2 2 1 3 4 2]\n",
      "max per row [0 2 5 3 4 1]\n"
     ]
    }
   ],
   "source": [
    "print ('max element in ravel', np.argmax(F))\n",
    "print ('max per column', np.argmax(F, axis=0))\n",
    "print ('max per row', np.argmax(F, axis=1))"
   ]
  },
  {
   "cell_type": "code",
   "execution_count": 133,
   "metadata": {},
   "outputs": [
    {
     "name": "stdout",
     "output_type": "stream",
     "text": [
      "(array([0, 0, 0, 1, 1, 1, 1, 1, 2, 2, 2, 2, 2, 2, 3, 3, 4, 4, 5, 5, 5, 5]), array([0, 1, 3, 0, 1, 2, 4, 5, 0, 1, 2, 3, 4, 5, 3, 4, 2, 4, 0, 1, 3, 5]))\n"
     ]
    }
   ],
   "source": [
    "print (np.where(F > 0.2))"
   ]
  },
  {
   "cell_type": "code",
   "execution_count": 137,
   "metadata": {},
   "outputs": [
    {
     "name": "stdout",
     "output_type": "stream",
     "text": [
      "[[0 0]\n",
      " [0 1]\n",
      " [0 3]\n",
      " [1 0]\n",
      " [1 1]\n",
      " [1 2]\n",
      " [1 4]\n",
      " [1 5]\n",
      " [2 0]\n",
      " [2 1]\n",
      " [2 2]\n",
      " [2 3]\n",
      " [2 4]\n",
      " [2 5]\n",
      " [3 3]\n",
      " [3 4]\n",
      " [4 2]\n",
      " [4 4]\n",
      " [5 0]\n",
      " [5 1]\n",
      " [5 3]\n",
      " [5 5]]\n"
     ]
    }
   ],
   "source": [
    "print (np.transpose(np.where(F > 0.2))) # coordinates of good elements"
   ]
  },
  {
   "cell_type": "code",
   "execution_count": null,
   "metadata": {},
   "outputs": [],
   "source": []
  }
 ],
 "metadata": {
  "kernelspec": {
   "display_name": "Python 3",
   "language": "python",
   "name": "python3"
  },
  "language_info": {
   "codemirror_mode": {
    "name": "ipython",
    "version": 3
   },
   "file_extension": ".py",
   "mimetype": "text/x-python",
   "name": "python",
   "nbconvert_exporter": "python",
   "pygments_lexer": "ipython3",
   "version": "3.6.5"
  }
 },
 "nbformat": 4,
 "nbformat_minor": 2
}
