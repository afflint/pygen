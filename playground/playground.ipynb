{
 "cells": [
  {
   "cell_type": "markdown",
   "metadata": {},
   "source": [
    "# Blackboard"
   ]
  },
  {
   "cell_type": "code",
   "execution_count": 1,
   "metadata": {},
   "outputs": [],
   "source": [
    "import numpy as np\n",
    "from collections import defaultdict, Counter\n",
    "import matplotlib.pyplot as plt"
   ]
  },
  {
   "cell_type": "code",
   "execution_count": 2,
   "metadata": {},
   "outputs": [],
   "source": [
    "class Deck(object):\n",
    "    \n",
    "    def __init__(self, numbers, seeds):\n",
    "        self.n, self.s = numbers, seeds\n",
    "        self.shuffle()\n",
    "        self.counter = defaultdict(lambda: 0)\n",
    "                \n",
    "    def shuffle(self):\n",
    "        self.deck = []\n",
    "        for num in self.n:\n",
    "            for seed in self.s:\n",
    "                self.deck.append((num, seed))\n",
    "    \n",
    "    def serve(self, cards=5, reinsert=True):\n",
    "        hand = [self.deck[x] for x in \n",
    "            np.random.choice(range(len(self.deck)), \n",
    "                             cards, replace=False)]\n",
    "        if not reinsert:\n",
    "            self.deck = [x for x in self.deck if x not in hand]\n",
    "        return hand\n",
    "    \n",
    "    def run_test(self, iterations):\n",
    "        for i in range(iterations):\n",
    "            h = self.serve(reinsert=True)\n",
    "            self.counter[Deck.comb(h)] += 1\n",
    "    \n",
    "    @staticmethod\n",
    "    def comb(hand):\n",
    "        numbers = [x for x, y in hand]\n",
    "        return tuple([y for x, y in Counter(numbers).most_common()])\n"
   ]
  },
  {
   "cell_type": "code",
   "execution_count": 4,
   "metadata": {},
   "outputs": [],
   "source": [
    "n, s = range(1, 14), ['C', 'Q', 'F', 'P']\n",
    "d = Deck(n, s)"
   ]
  },
  {
   "cell_type": "code",
   "execution_count": 5,
   "metadata": {},
   "outputs": [],
   "source": [
    "results = []\n",
    "for i in range(100):\n",
    "    d = Deck(n, s)\n",
    "    d.run_test(5000)\n",
    "    c_map = [(1, 1, 1, 1, 1), (2, 1, 1, 1), (2, 2, 1), (3, 1, 1), (3, 2), \n",
    "             (4, 1)]\n",
    "    res = np.zeros(len(c_map))\n",
    "    for k, v in d.counter.items():\n",
    "        res[c_map.index(k)] = v\n",
    "    results.append(res / res.sum())\n",
    "M = np.array(results)"
   ]
  },
  {
   "cell_type": "code",
   "execution_count": 8,
   "metadata": {},
   "outputs": [],
   "source": [
    "c = (2, 2, 1)\n",
    "i = c_map.index(c)\n",
    "i_r = M[:,i]"
   ]
  },
  {
   "cell_type": "code",
   "execution_count": 13,
   "metadata": {},
   "outputs": [
    {
     "name": "stdout",
     "output_type": "stream",
     "text": [
      "81 0.047850000000000004 0.0032312691005238177\n"
     ]
    },
    {
     "data": {
      "image/png": "[encoded data removed]",
      "text/plain": [
       "<Figure size 432x288 with 1 Axes>"
      ]
     },
     "metadata": {},
     "output_type": "display_data"
    }
   ],
   "source": [
    "print (np.argmax(i_r), i_r.mean(), i_r.std())\n",
    "plt.boxplot(i_r)\n",
    "plt.show()"
   ]
  },
  {
   "cell_type": "code",
   "execution_count": null,
   "metadata": {},
   "outputs": [],
   "source": []
  }
 ],
 "metadata": {
  "kernelspec": {
   "display_name": "Python 3",
   "language": "python",
   "name": "python3"
  },
  "language_info": {
   "codemirror_mode": {
    "name": "ipython",
    "version": 3
   },
   "file_extension": ".py",
   "mimetype": "text/x-python",
   "name": "python",
   "nbconvert_exporter": "python",
   "pygments_lexer": "ipython3",
   "version": "3.6.5"
  }
 },
 "nbformat": 4,
 "nbformat_minor": 2
}
