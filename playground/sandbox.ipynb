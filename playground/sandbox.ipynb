{
 "cells": [
  {
   "cell_type": "code",
   "execution_count": 6,
   "metadata": {},
   "outputs": [],
   "source": [
    "t = ('gino', 'bianchi', 28, 'milano', 'MI')"
   ]
  },
  {
   "cell_type": "code",
   "execution_count": 48,
   "metadata": {},
   "outputs": [],
   "source": [
    "def operations(a, b=6, intdiv=False):\n",
    "    s = a + b\n",
    "    u = a - b\n",
    "    p = a * b\n",
    "    try:\n",
    "        if intdiv:\n",
    "            d = a // b\n",
    "        else:\n",
    "            d = a / b\n",
    "    except ZeroDivisionError:\n",
    "        d = None\n",
    "    return s, u, p, d"
   ]
  },
  {
   "cell_type": "code",
   "execution_count": 92,
   "metadata": {},
   "outputs": [],
   "source": []
  },
  {
   "cell_type": "code",
   "execution_count": 126,
   "metadata": {},
   "outputs": [],
   "source": [
    "t = [0, 1]\n",
    "for i, x in enumerate(t):\n",
    "    if i >= 1:\n",
    "        n = x + t[i-1]\n",
    "        t.append(n)\n",
    "    else:\n",
    "        pass\n",
    "    if i > 500:\n",
    "        break"
   ]
  },
  {
   "cell_type": "code",
   "execution_count": 167,
   "metadata": {},
   "outputs": [],
   "source": [
    "import matplotlib.pyplot as plt\n",
    "import numpy as np\n",
    "from collections import defaultdict"
   ]
  },
  {
   "cell_type": "code",
   "execution_count": 199,
   "metadata": {},
   "outputs": [],
   "source": [
    "d = defaultdict(lambda: 0)\n",
    "e = defaultdict(lambda: 0)\n",
    "\n",
    "for x in range(10000):\n",
    "    n = np.random.uniform(100)\n",
    "    j = np.random.standard_normal()\n",
    "    i = (n*100) // 10\n",
    "    z = (j*100) // 10\n",
    "    d[i] += 1\n",
    "    e[z] += 1"
   ]
  },
  {
   "cell_type": "code",
   "execution_count": 200,
   "metadata": {},
   "outputs": [],
   "source": [
    "l = [v for x, v in sorted(d.items(), key=lambda x: x[0])]\n",
    "f = [v for x, v in sorted(e.items(), key=lambda x: x[0])]"
   ]
  },
  {
   "cell_type": "code",
   "execution_count": 202,
   "metadata": {},
   "outputs": [
    {
     "data": {
      "image/png": "[encoded data removed]",
      "text/plain": [
       "<Figure size 576x288 with 1 Axes>"
      ]
     },
     "metadata": {
      "needs_background": "light"
     },
     "output_type": "display_data"
    }
   ],
   "source": [
    "fig, ax = plt.subplots(figsize=(8, 4))\n",
    "ax.plot(l, marker='x')\n",
    "ax.plot(f, marker='x')\n",
    "ax.set_ylim(0, 500)\n",
    "plt.show()"
   ]
  },
  {
   "cell_type": "code",
   "execution_count": 228,
   "metadata": {},
   "outputs": [],
   "source": [
    "from sklearn.datasets import make_blobs\n",
    "from sklearn.metrics.pairwise import euclidean_distances"
   ]
  },
  {
   "cell_type": "code",
   "execution_count": 267,
   "metadata": {},
   "outputs": [],
   "source": [
    "data, clusters = make_blobs(n_samples=10, n_features=2, \n",
    "                  cluster_std=1.0, \n",
    "                  center_box=(10.0, 20.0))"
   ]
  },
  {
   "cell_type": "code",
   "execution_count": 288,
   "metadata": {},
   "outputs": [
    {
     "data": {
      "image/png": "[encoded data removed]",
      "text/plain": [
       "<Figure size 432x432 with 1 Axes>"
      ]
     },
     "metadata": {
      "needs_background": "light"
     },
     "output_type": "display_data"
    }
   ],
   "source": [
    "fig, ax = plt.subplots(figsize=(6, 6))\n",
    "for i, c in clusters.items():\n",
    "    ax.scatter(data[c,0], data[c,1], label=i)\n",
    "ax.scatter(centroids[:,0], centroids[:,1])\n",
    "ax.set_xlim(5,25)\n",
    "ax.set_ylim(5, 25)\n",
    "ax.legend()\n",
    "plt.show()"
   ]
  },
  {
   "cell_type": "code",
   "execution_count": 269,
   "metadata": {},
   "outputs": [],
   "source": [
    "k = 3"
   ]
  },
  {
   "cell_type": "code",
   "execution_count": 283,
   "metadata": {},
   "outputs": [],
   "source": [
    "centroids = np.random.randint(10, 20, size=(k,2))"
   ]
  },
  {
   "cell_type": "code",
   "execution_count": 284,
   "metadata": {},
   "outputs": [],
   "source": [
    "clusters = dict([(i, []) for i, x in enumerate(centroids)])"
   ]
  },
  {
   "cell_type": "code",
   "execution_count": 285,
   "metadata": {},
   "outputs": [],
   "source": [
    "for i, x in enumerate(euclidean_distances(data, centroids)):\n",
    "    c = np.argmin(x)\n",
    "    clusters[c].append(i)"
   ]
  },
  {
   "cell_type": "code",
   "execution_count": 286,
   "metadata": {},
   "outputs": [],
   "source": [
    "for centroid, cluster in clusters.items():\n",
    "    if len(cluster) > 0:\n",
    "        mu = data[cluster,:].mean(axis=0)\n",
    "        centroids[centroid] = mu\n",
    "    else:\n",
    "        pass"
   ]
  },
  {
   "cell_type": "code",
   "execution_count": 287,
   "metadata": {},
   "outputs": [
    {
     "data": {
      "text/plain": [
       "98.48125831830212"
      ]
     },
     "execution_count": 287,
     "metadata": {},
     "output_type": "execute_result"
    }
   ],
   "source": [
    "euclidean_distances(data, centroids).sum()"
   ]
  },
  {
   "cell_type": "code",
   "execution_count": 281,
   "metadata": {},
   "outputs": [
    {
     "data": {
      "text/plain": [
       "{0: [0, 3, 4, 5, 6, 7, 9], 1: [1, 2, 8]}"
      ]
     },
     "execution_count": 281,
     "metadata": {},
     "output_type": "execute_result"
    }
   ],
   "source": [
    "clusters"
   ]
  },
  {
   "cell_type": "code",
   "execution_count": null,
   "metadata": {},
   "outputs": [],
   "source": []
  }
 ],
 "metadata": {
  "kernelspec": {
   "display_name": "Python 3",
   "language": "python",
   "name": "python3"
  },
  "language_info": {
   "codemirror_mode": {
    "name": "ipython",
    "version": 3
   },
   "file_extension": ".py",
   "mimetype": "text/x-python",
   "name": "python",
   "nbconvert_exporter": "python",
   "pygments_lexer": "ipython3",
   "version": "3.7.1"
  }
 },
 "nbformat": 4,
 "nbformat_minor": 2
}
