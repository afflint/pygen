{
 "cells": [
  {
   "cell_type": "code",
   "execution_count": null,
   "metadata": {},
   "outputs": [],
   "source": [
    "import pandas as pd\n",
    "import numpy as np\n",
    "from mpl_toolkits.axes_grid1 import make_axes_locatable\n",
    "import itertools\n",
    "from IPython.core.display import display, HTML, Image\n",
    "import matplotlib.pyplot as plt\n",
    "from sklearn import metrics"
   ]
  },
  {
   "cell_type": "code",
   "execution_count": null,
   "metadata": {},
   "outputs": [],
   "source": [
    "f = '../data/googleimages.csv'\n",
    "I = pd.read_csv(f, index_col=0)"
   ]
  },
  {
   "cell_type": "code",
   "execution_count": null,
   "metadata": {},
   "outputs": [],
   "source": [
    "I.head()"
   ]
  },
  {
   "cell_type": "markdown",
   "metadata": {},
   "source": [
    "## Naive implementation of Naive Bayes\n",
    "\n",
    "$$\n",
    "P(class \\mid features) = P(class)P(feature \\mid class)\n",
    "$$"
   ]
  },
  {
   "cell_type": "code",
   "execution_count": null,
   "metadata": {},
   "outputs": [],
   "source": [
    "size = int(I.shape[0]*0.8)\n",
    "train, test = I.iloc[:size], I.iloc[size:]"
   ]
  },
  {
   "cell_type": "markdown",
   "metadata": {},
   "source": [
    "### Priors"
   ]
  },
  {
   "cell_type": "code",
   "execution_count": null,
   "metadata": {},
   "outputs": [],
   "source": [
    "categories = train.category.unique()"
   ]
  },
  {
   "cell_type": "code",
   "execution_count": null,
   "metadata": {},
   "outputs": [],
   "source": [
    "categories"
   ]
  },
  {
   "cell_type": "code",
   "execution_count": null,
   "metadata": {},
   "outputs": [],
   "source": [
    "K = {}\n",
    "for c in categories:\n",
    "    K[c] = train[train.category == c]"
   ]
  },
  {
   "cell_type": "code",
   "execution_count": null,
   "metadata": {},
   "outputs": [],
   "source": [
    "priors = np.array([K[c].shape[0] for c in categories])"
   ]
  },
  {
   "cell_type": "code",
   "execution_count": null,
   "metadata": {},
   "outputs": [],
   "source": [
    "priors = priors / priors.sum()"
   ]
  },
  {
   "cell_type": "markdown",
   "metadata": {},
   "source": [
    "### Likelihood"
   ]
  },
  {
   "cell_type": "code",
   "execution_count": null,
   "metadata": {},
   "outputs": [],
   "source": [
    "models = {}\n",
    "for c in categories:\n",
    "    models[c] = K[c][K[c].columns.difference(['doc', 'url', 'category'])].sum() + 1\n",
    "for c, m in models.items():\n",
    "    models[c] = m / m.sum()"
   ]
  },
  {
   "cell_type": "code",
   "execution_count": null,
   "metadata": {},
   "outputs": [],
   "source": [
    "train_true = train.category.values\n",
    "test_true = test.category.values"
   ]
  },
  {
   "cell_type": "code",
   "execution_count": null,
   "metadata": {},
   "outputs": [],
   "source": [
    "train_pred, test_pred = [], []\n",
    "for i, row in train[train.columns.difference([\n",
    "    'doc', 'url', 'category'])].iterrows():\n",
    "    predictions = np.ones(len(categories))\n",
    "    for k, _ in [(x, y) for x, y in row.items() if y > 0]:\n",
    "        for j, z in enumerate(categories):\n",
    "            predictions[j] *= models[z][k]\n",
    "    pred = np.argmax(predictions * priors)\n",
    "    train_pred.append(categories[pred])\n",
    "for i, row in test[test.columns.difference([\n",
    "    'doc', 'url', 'category'])].iterrows():\n",
    "    predictions = np.ones(len(categories))\n",
    "    for k, _ in [(x, y) for x, y in row.items() if y > 0]:\n",
    "        for j, z in enumerate(categories):\n",
    "            predictions[j] *= models[z][k]\n",
    "    pred = np.argmax(predictions * priors)\n",
    "    test_pred.append(categories[pred])"
   ]
  },
  {
   "cell_type": "code",
   "execution_count": null,
   "metadata": {},
   "outputs": [],
   "source": [
    "def cm_plot(ax, classes, CM, title, figure):\n",
    "    im = ax.imshow(CM, interpolation='nearest', cmap=plt.cm.Blues)\n",
    "    divider = make_axes_locatable(ax)\n",
    "    cax = divider.append_axes('right', size='5%', pad=0.05)\n",
    "    figure.colorbar(im, cax=cax, orientation='vertical')\n",
    "    tick_marks = np.arange(len(classes))\n",
    "    ax.set_xticks(tick_marks)\n",
    "    ax.set_xticklabels(classes, rotation=90, fontsize=12)\n",
    "    ax.set_yticks(tick_marks)\n",
    "    ax.set_yticklabels(classes, rotation=0, fontsize=12)\n",
    "    ax.set_title(title, fontsize=16)\n",
    "    thresh = CM.max() / 2.\n",
    "    for i, j in itertools.product(range(CM.shape[0]), range(CM.shape[1])):\n",
    "        ax.text(j, i, CM[i, j], horizontalalignment=\"center\",\n",
    "                 color=\"white\" if CM[i, j] > thresh else \"black\", fontsize=12)\n",
    "    ax.set_ylabel('True label', fontsize=16)\n",
    "    ax.set_xlabel('Predicted label', fontsize=16)"
   ]
  },
  {
   "cell_type": "code",
   "execution_count": null,
   "metadata": {},
   "outputs": [],
   "source": [
    "cm_train = metrics.confusion_matrix(train_true, train_pred, labels=categories)\n",
    "cm_test = metrics.confusion_matrix(test_true, test_pred, labels=categories)"
   ]
  },
  {
   "cell_type": "code",
   "execution_count": null,
   "metadata": {},
   "outputs": [],
   "source": [
    "fig, axes = plt.subplots(nrows=1, ncols=2, figsize=(14, 7))\n",
    "cm_plot(axes[0], categories, cm_train, 'Train set', fig)\n",
    "cm_plot(axes[1], categories, cm_test, 'Test set', fig)\n",
    "plt.tight_layout()\n",
    "plt.show()"
   ]
  },
  {
   "cell_type": "markdown",
   "metadata": {},
   "source": [
    "## Visualize results"
   ]
  },
  {
   "cell_type": "code",
   "execution_count": null,
   "metadata": {},
   "outputs": [],
   "source": [
    "images = {'image': [], 'true': [], 'predicted': [], 'url': []}\n",
    "for j, (i, row) in enumerate(test.iterrows()):\n",
    "    images['image'].append('<img src=\"{}\">'.format(row.url))\n",
    "    images['true'].append(row.category)\n",
    "    images['predicted'].append(test_pred[j])\n",
    "    images['url'].append(row.url)"
   ]
  },
  {
   "cell_type": "code",
   "execution_count": null,
   "metadata": {},
   "outputs": [],
   "source": [
    "rows = []\n",
    "for i, image in enumerate(images['image']):\n",
    "    row = '<tr><td>{}</td><td>{}</td><td>{}</td></tr>'.format(\n",
    "        image, images['true'][i], images['predicted'][i]\n",
    "    )\n",
    "    rows.append(row)"
   ]
  },
  {
   "cell_type": "code",
   "execution_count": null,
   "metadata": {},
   "outputs": [],
   "source": [
    "table = \"<table><tr><th>{}</th><th>{}</th><th>{}</th></tr>{}</table>\".format(\n",
    "    'image', 'true', 'predicted', \"\".join(rows)\n",
    ")"
   ]
  },
  {
   "cell_type": "code",
   "execution_count": null,
   "metadata": {},
   "outputs": [],
   "source": [
    "display(HTML(table))"
   ]
  },
  {
   "cell_type": "code",
   "execution_count": null,
   "metadata": {},
   "outputs": [],
   "source": []
  }
 ],
 "metadata": {
  "kernelspec": {
   "display_name": "Python 3",
   "language": "python",
   "name": "python3"
  },
  "language_info": {
   "codemirror_mode": {
    "name": "ipython",
    "version": 3
   },
   "file_extension": ".py",
   "mimetype": "text/x-python",
   "name": "python",
   "nbconvert_exporter": "python",
   "pygments_lexer": "ipython3",
   "version": "3.7.1"
  }
 },
 "nbformat": 4,
 "nbformat_minor": 2
}
