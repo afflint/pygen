{
 "cells": [
  {
   "cell_type": "markdown",
   "metadata": {},
   "source": [
    "## Toy example for supervised classification\n",
    "\n",
    "<table>\n",
    "    <tr>\n",
    "        <th></th>\n",
    "        <th>DocID</th>\n",
    "        <th>Tokens</th>\n",
    "        <th>E-devices</th>\n",
    "    </tr>\n",
    "    <tr>\n",
    "        <td>Training</td>\n",
    "        <td>0</td>\n",
    "        <td>apple ios mac book</td>\n",
    "        <td>TRUE</td>\n",
    "    </tr>\n",
    "    <tr>\n",
    "        <td>Training</td>\n",
    "        <td>1</td>\n",
    "        <td>apple mac book apple store fruit</td>\n",
    "        <td>TRUE</td>\n",
    "    </tr>\n",
    "    <tr>\n",
    "        <td>Training</td>\n",
    "        <td>2</td>\n",
    "        <td>microsoft ibm apple oracle</td>\n",
    "        <td>TRUE</td>\n",
    "    </tr>\n",
    "    <tr>\n",
    "        <td>Training</td>\n",
    "        <td>3</td>\n",
    "        <td>apple banana mango fruit</td>\n",
    "        <td>FALSE</td>\n",
    "    </tr>\n",
    "    <tr>\n",
    "        <td>Training</td>\n",
    "        <td>4</td>\n",
    "        <td>apple fruit</td>\n",
    "        <td>FALSE</td>\n",
    "    </tr>\n",
    "    <tr style='border-top: double 2px #000000'>\n",
    "        <td style='background-color: #eeee00'>Test</td>\n",
    "        <td style='background-color: #eeee00'>5</td>\n",
    "        <td style='background-color: #eeee00'>apple mac book fruit</td>\n",
    "        <td style='background-color: #eeee00'>?</td>\n",
    "    </tr>\n",
    "    <tr>\n",
    "        <td style='background-color: #eeee00'>Test</td>\n",
    "        <td style='background-color: #eeee00'>6</td>\n",
    "        <td style='background-color: #eeee00'>mac fruit color</td>\n",
    "        <td style='background-color: #eeee00'>?</td>\n",
    "    </tr>\n",
    "</table>"
   ]
  },
  {
   "cell_type": "code",
   "execution_count": 1,
   "metadata": {},
   "outputs": [],
   "source": [
    "train = [\n",
    "    ['apple', 'ios', 'mac', 'book', 'fruit'],\n",
    "    ['apple', 'mac', 'book', 'apple', 'fruit'],\n",
    "    ['microsoft', 'ibm', 'apple', 'oracle'],\n",
    "    ['apple', 'banana', 'mango', 'fruit'],\n",
    "    ['apple', 'fruit']\n",
    "]\n",
    "test = [\n",
    "    ['apple', 'mac', 'book', 'fruit'],\n",
    "    ['mac', 'fruit', 'color']\n",
    "]"
   ]
  },
  {
   "cell_type": "code",
   "execution_count": 2,
   "metadata": {},
   "outputs": [],
   "source": [
    "expected = [1, 1, 1, 0, 0]\n",
    "retrieved = [0, 1, 0, 0, 1]"
   ]
  },
  {
   "cell_type": "code",
   "execution_count": 11,
   "metadata": {},
   "outputs": [],
   "source": [
    "from sklearn.metrics import confusion_matrix\n",
    "from mpl_toolkits.axes_grid1 import make_axes_locatable\n",
    "import itertools\n",
    "import matplotlib.pyplot as plt\n",
    "import numpy as np"
   ]
  },
  {
   "cell_type": "code",
   "execution_count": 5,
   "metadata": {},
   "outputs": [],
   "source": [
    "cm = confusion_matrix(expected, retrieved)\n",
    "tn, fp, fn, tp = cm.ravel()"
   ]
  },
  {
   "cell_type": "code",
   "execution_count": 12,
   "metadata": {},
   "outputs": [],
   "source": [
    "def cm_plot(ax, classes, CM, title, figure):\n",
    "    im = ax.imshow(CM, interpolation='nearest', cmap=plt.cm.Blues)\n",
    "    divider = make_axes_locatable(ax)\n",
    "    cax = divider.append_axes('right', size='5%', pad=0.05)\n",
    "    figure.colorbar(im, cax=cax, orientation='vertical')\n",
    "    tick_marks = np.arange(len(classes))\n",
    "    ax.set_xticks(tick_marks)\n",
    "    ax.set_xticklabels(classes, rotation=90, fontsize=12)\n",
    "    ax.set_yticks(tick_marks)\n",
    "    ax.set_yticklabels(classes, rotation=0, fontsize=12)\n",
    "    ax.set_title(title, fontsize=16)\n",
    "    thresh = CM.max() / 2.\n",
    "    for i, j in itertools.product(range(CM.shape[0]), range(CM.shape[1])):\n",
    "        ax.text(j, i, CM[i, j], horizontalalignment=\"center\",\n",
    "                 color=\"white\" if CM[i, j] > thresh else \"black\", fontsize=12)\n",
    "    ax.set_ylabel('True label', fontsize=16)\n",
    "    ax.set_xlabel('Predicted label', fontsize=16)"
   ]
  },
  {
   "cell_type": "code",
   "execution_count": 13,
   "metadata": {},
   "outputs": [
    {
     "data": {
      "text/plain": [
       "[]"
      ]
     },
     "execution_count": 13,
     "metadata": {},
     "output_type": "execute_result"
    },
    {
     "data": {
      "image/png": "[encoded data removed]",
      "text/plain": [
       "<Figure size 432x288 with 2 Axes>"
      ]
     },
     "metadata": {
      "needs_background": "light"
     },
     "output_type": "display_data"
    }
   ],
   "source": [
    "fig, ax = plt.subplots()\n",
    "cm_plot(ax, [0, 1], cm, 'Conf Matrix', fig)\n",
    "plt.plot()"
   ]
  },
  {
   "cell_type": "code",
   "execution_count": 15,
   "metadata": {},
   "outputs": [],
   "source": [
    "dictionary = set()\n",
    "for doc in train:\n",
    "    for word in doc:\n",
    "        dictionary.add(word)\n",
    "d = list(dictionary)"
   ]
  },
  {
   "cell_type": "code",
   "execution_count": 17,
   "metadata": {},
   "outputs": [],
   "source": [
    "m = np.zeros((len(train), len(d)))"
   ]
  },
  {
   "cell_type": "code",
   "execution_count": 18,
   "metadata": {},
   "outputs": [],
   "source": [
    "for i, doc in enumerate(train):\n",
    "    for w in doc:\n",
    "        j = d.index(w)\n",
    "        m[i,j] = 1"
   ]
  },
  {
   "cell_type": "code",
   "execution_count": 20,
   "metadata": {},
   "outputs": [],
   "source": [
    "import pandas as pd"
   ]
  },
  {
   "cell_type": "code",
   "execution_count": 23,
   "metadata": {},
   "outputs": [],
   "source": [
    "M = pd.DataFrame(m, columns=d)"
   ]
  },
  {
   "cell_type": "code",
   "execution_count": 24,
   "metadata": {},
   "outputs": [
    {
     "data": {
      "text/html": [
       "<div>\n",
       "<style scoped>\n",
       "    .dataframe tbody tr th:only-of-type {\n",
       "        vertical-align: middle;\n",
       "    }\n",
       "\n",
       "    .dataframe tbody tr th {\n",
       "        vertical-align: top;\n",
       "    }\n",
       "\n",
       "    .dataframe thead th {\n",
       "        text-align: right;\n",
       "    }\n",
       "</style>\n",
       "<table border=\"1\" class=\"dataframe\">\n",
       "  <thead>\n",
       "    <tr style=\"text-align: right;\">\n",
       "      <th></th>\n",
       "      <th>ibm</th>\n",
       "      <th>apple</th>\n",
       "      <th>microsoft</th>\n",
       "      <th>banana</th>\n",
       "      <th>mac</th>\n",
       "      <th>oracle</th>\n",
       "      <th>mango</th>\n",
       "      <th>ios</th>\n",
       "      <th>fruit</th>\n",
       "      <th>book</th>\n",
       "    </tr>\n",
       "  </thead>\n",
       "  <tbody>\n",
       "    <tr>\n",
       "      <th>0</th>\n",
       "      <td>0.0</td>\n",
       "      <td>1.0</td>\n",
       "      <td>0.0</td>\n",
       "      <td>0.0</td>\n",
       "      <td>1.0</td>\n",
       "      <td>0.0</td>\n",
       "      <td>0.0</td>\n",
       "      <td>1.0</td>\n",
       "      <td>1.0</td>\n",
       "      <td>1.0</td>\n",
       "    </tr>\n",
       "    <tr>\n",
       "      <th>1</th>\n",
       "      <td>0.0</td>\n",
       "      <td>1.0</td>\n",
       "      <td>0.0</td>\n",
       "      <td>0.0</td>\n",
       "      <td>1.0</td>\n",
       "      <td>0.0</td>\n",
       "      <td>0.0</td>\n",
       "      <td>0.0</td>\n",
       "      <td>1.0</td>\n",
       "      <td>1.0</td>\n",
       "    </tr>\n",
       "    <tr>\n",
       "      <th>2</th>\n",
       "      <td>1.0</td>\n",
       "      <td>1.0</td>\n",
       "      <td>1.0</td>\n",
       "      <td>0.0</td>\n",
       "      <td>0.0</td>\n",
       "      <td>1.0</td>\n",
       "      <td>0.0</td>\n",
       "      <td>0.0</td>\n",
       "      <td>0.0</td>\n",
       "      <td>0.0</td>\n",
       "    </tr>\n",
       "    <tr>\n",
       "      <th>3</th>\n",
       "      <td>0.0</td>\n",
       "      <td>1.0</td>\n",
       "      <td>0.0</td>\n",
       "      <td>1.0</td>\n",
       "      <td>0.0</td>\n",
       "      <td>0.0</td>\n",
       "      <td>1.0</td>\n",
       "      <td>0.0</td>\n",
       "      <td>1.0</td>\n",
       "      <td>0.0</td>\n",
       "    </tr>\n",
       "    <tr>\n",
       "      <th>4</th>\n",
       "      <td>0.0</td>\n",
       "      <td>1.0</td>\n",
       "      <td>0.0</td>\n",
       "      <td>0.0</td>\n",
       "      <td>0.0</td>\n",
       "      <td>0.0</td>\n",
       "      <td>0.0</td>\n",
       "      <td>0.0</td>\n",
       "      <td>1.0</td>\n",
       "      <td>0.0</td>\n",
       "    </tr>\n",
       "  </tbody>\n",
       "</table>\n",
       "</div>"
      ],
      "text/plain": [
       "   ibm  apple  microsoft  banana  mac  oracle  mango  ios  fruit  book\n",
       "0  0.0    1.0        0.0     0.0  1.0     0.0    0.0  1.0    1.0   1.0\n",
       "1  0.0    1.0        0.0     0.0  1.0     0.0    0.0  0.0    1.0   1.0\n",
       "2  1.0    1.0        1.0     0.0  0.0     1.0    0.0  0.0    0.0   0.0\n",
       "3  0.0    1.0        0.0     1.0  0.0     0.0    1.0  0.0    1.0   0.0\n",
       "4  0.0    1.0        0.0     0.0  0.0     0.0    0.0  0.0    1.0   0.0"
      ]
     },
     "execution_count": 24,
     "metadata": {},
     "output_type": "execute_result"
    }
   ],
   "source": [
    "M.head()"
   ]
  },
  {
   "cell_type": "code",
   "execution_count": 25,
   "metadata": {},
   "outputs": [],
   "source": [
    "from sklearn.cluster import KMeans, AgglomerativeClustering"
   ]
  },
  {
   "cell_type": "code",
   "execution_count": 26,
   "metadata": {},
   "outputs": [],
   "source": [
    "K = KMeans(n_clusters=2)\n",
    "K.fit(M)\n",
    "y_pred = K.predict(M)"
   ]
  },
  {
   "cell_type": "code",
   "execution_count": 27,
   "metadata": {},
   "outputs": [
    {
     "data": {
      "text/plain": [
       "array([0, 0, 1, 0, 0], dtype=int32)"
      ]
     },
     "execution_count": 27,
     "metadata": {},
     "output_type": "execute_result"
    }
   ],
   "source": [
    "y_pred"
   ]
  },
  {
   "cell_type": "code",
   "execution_count": 28,
   "metadata": {},
   "outputs": [],
   "source": [
    "cm = confusion_matrix([1, 1, 1, 0, 0], y_pred)"
   ]
  },
  {
   "cell_type": "code",
   "execution_count": 29,
   "metadata": {},
   "outputs": [
    {
     "data": {
      "text/plain": [
       "[]"
      ]
     },
     "execution_count": 29,
     "metadata": {},
     "output_type": "execute_result"
    },
    {
     "data": {
      "image/png": "[encoded data removed]",
      "text/plain": [
       "<Figure size 432x288 with 2 Axes>"
      ]
     },
     "metadata": {
      "needs_background": "light"
     },
     "output_type": "display_data"
    }
   ],
   "source": [
    "fig, ax = plt.subplots()\n",
    "cm_plot(ax, [0, 1], cm, 'Conf Matrix', fig)\n",
    "plt.plot()"
   ]
  },
  {
   "cell_type": "markdown",
   "metadata": {},
   "source": [
    "## Naive Bayes classifier"
   ]
  },
  {
   "cell_type": "code",
   "execution_count": 30,
   "metadata": {},
   "outputs": [
    {
     "data": {
      "text/html": [
       "<div>\n",
       "<style scoped>\n",
       "    .dataframe tbody tr th:only-of-type {\n",
       "        vertical-align: middle;\n",
       "    }\n",
       "\n",
       "    .dataframe tbody tr th {\n",
       "        vertical-align: top;\n",
       "    }\n",
       "\n",
       "    .dataframe thead th {\n",
       "        text-align: right;\n",
       "    }\n",
       "</style>\n",
       "<table border=\"1\" class=\"dataframe\">\n",
       "  <thead>\n",
       "    <tr style=\"text-align: right;\">\n",
       "      <th></th>\n",
       "      <th>ibm</th>\n",
       "      <th>apple</th>\n",
       "      <th>microsoft</th>\n",
       "      <th>banana</th>\n",
       "      <th>mac</th>\n",
       "      <th>oracle</th>\n",
       "      <th>mango</th>\n",
       "      <th>ios</th>\n",
       "      <th>fruit</th>\n",
       "      <th>book</th>\n",
       "    </tr>\n",
       "  </thead>\n",
       "  <tbody>\n",
       "    <tr>\n",
       "      <th>0</th>\n",
       "      <td>0.0</td>\n",
       "      <td>1.0</td>\n",
       "      <td>0.0</td>\n",
       "      <td>0.0</td>\n",
       "      <td>1.0</td>\n",
       "      <td>0.0</td>\n",
       "      <td>0.0</td>\n",
       "      <td>1.0</td>\n",
       "      <td>1.0</td>\n",
       "      <td>1.0</td>\n",
       "    </tr>\n",
       "    <tr>\n",
       "      <th>1</th>\n",
       "      <td>0.0</td>\n",
       "      <td>1.0</td>\n",
       "      <td>0.0</td>\n",
       "      <td>0.0</td>\n",
       "      <td>1.0</td>\n",
       "      <td>0.0</td>\n",
       "      <td>0.0</td>\n",
       "      <td>0.0</td>\n",
       "      <td>1.0</td>\n",
       "      <td>1.0</td>\n",
       "    </tr>\n",
       "    <tr>\n",
       "      <th>2</th>\n",
       "      <td>1.0</td>\n",
       "      <td>1.0</td>\n",
       "      <td>1.0</td>\n",
       "      <td>0.0</td>\n",
       "      <td>0.0</td>\n",
       "      <td>1.0</td>\n",
       "      <td>0.0</td>\n",
       "      <td>0.0</td>\n",
       "      <td>0.0</td>\n",
       "      <td>0.0</td>\n",
       "    </tr>\n",
       "    <tr>\n",
       "      <th>3</th>\n",
       "      <td>0.0</td>\n",
       "      <td>1.0</td>\n",
       "      <td>0.0</td>\n",
       "      <td>1.0</td>\n",
       "      <td>0.0</td>\n",
       "      <td>0.0</td>\n",
       "      <td>1.0</td>\n",
       "      <td>0.0</td>\n",
       "      <td>1.0</td>\n",
       "      <td>0.0</td>\n",
       "    </tr>\n",
       "    <tr>\n",
       "      <th>4</th>\n",
       "      <td>0.0</td>\n",
       "      <td>1.0</td>\n",
       "      <td>0.0</td>\n",
       "      <td>0.0</td>\n",
       "      <td>0.0</td>\n",
       "      <td>0.0</td>\n",
       "      <td>0.0</td>\n",
       "      <td>0.0</td>\n",
       "      <td>1.0</td>\n",
       "      <td>0.0</td>\n",
       "    </tr>\n",
       "  </tbody>\n",
       "</table>\n",
       "</div>"
      ],
      "text/plain": [
       "   ibm  apple  microsoft  banana  mac  oracle  mango  ios  fruit  book\n",
       "0  0.0    1.0        0.0     0.0  1.0     0.0    0.0  1.0    1.0   1.0\n",
       "1  0.0    1.0        0.0     0.0  1.0     0.0    0.0  0.0    1.0   1.0\n",
       "2  1.0    1.0        1.0     0.0  0.0     1.0    0.0  0.0    0.0   0.0\n",
       "3  0.0    1.0        0.0     1.0  0.0     0.0    1.0  0.0    1.0   0.0\n",
       "4  0.0    1.0        0.0     0.0  0.0     0.0    0.0  0.0    1.0   0.0"
      ]
     },
     "execution_count": 30,
     "metadata": {},
     "output_type": "execute_result"
    }
   ],
   "source": [
    "M.head()"
   ]
  },
  {
   "cell_type": "code",
   "execution_count": 49,
   "metadata": {},
   "outputs": [
    {
     "data": {
      "text/plain": [
       "3.0"
      ]
     },
     "execution_count": 49,
     "metadata": {},
     "output_type": "execute_result"
    }
   ],
   "source": [
    "y_true = [1, 1, 1, 0, 0]"
   ]
  },
  {
   "cell_type": "code",
   "execution_count": 38,
   "metadata": {},
   "outputs": [],
   "source": [
    "from collections import defaultdict"
   ]
  },
  {
   "cell_type": "code",
   "execution_count": 78,
   "metadata": {},
   "outputs": [],
   "source": [
    "class BC(object):\n",
    "    \n",
    "    def __init__(self, X, y):\n",
    "        self.X = X\n",
    "        self.y = y\n",
    "        self.priors()\n",
    "        self.likelihood()\n",
    "        \n",
    "    def priors(self):\n",
    "        self.p = defaultdict(lambda: 0)\n",
    "        for x in self.y:\n",
    "            self.p[x] += 1\n",
    "        for k, v in self.p.items():\n",
    "            self.p[k] = self.p[k] / len(self.y)\n",
    "            \n",
    "    def likelihood(self):\n",
    "        self.l = {}\n",
    "        for k in self.p.keys():\n",
    "            rows = [i for i, x in enumerate(self.y) if x == k]\n",
    "            sub_m = self.X.iloc[rows].sum(axis=0) + np.ones(self.X.shape[1])\n",
    "            self.l[k] = sub_m\n",
    "    \n",
    "    def prob(self, cls, feature):\n",
    "        return b.l[cls][feature] / b.l[cls].sum()\n",
    "    \n",
    "    def predict(self, words):\n",
    "        for k in self.p.keys():\n",
    "            prior = self.p[k]\n",
    "            x = 1\n",
    "            for word in words:\n",
    "                x *= self.prob(k, word)\n",
    "            print(k, prior * x)"
   ]
  },
  {
   "cell_type": "code",
   "execution_count": 79,
   "metadata": {},
   "outputs": [],
   "source": [
    "b = BC(M, y_true)"
   ]
  },
  {
   "cell_type": "code",
   "execution_count": 81,
   "metadata": {},
   "outputs": [
    {
     "name": "stdout",
     "output_type": "stream",
     "text": [
      "1 0.0011342155009451795\n",
      "0 0.00625\n"
     ]
    }
   ],
   "source": [
    "b.predict(['mango', 'banana'])"
   ]
  },
  {
   "cell_type": "code",
   "execution_count": null,
   "metadata": {},
   "outputs": [],
   "source": []
  }
 ],
 "metadata": {
  "kernelspec": {
   "display_name": "Python 3",
   "language": "python",
   "name": "python3"
  },
  "language_info": {
   "codemirror_mode": {
    "name": "ipython",
    "version": 3
   },
   "file_extension": ".py",
   "mimetype": "text/x-python",
   "name": "python",
   "nbconvert_exporter": "python",
   "pygments_lexer": "ipython3",
   "version": "3.7.1"
  }
 },
 "nbformat": 4,
 "nbformat_minor": 2
}
