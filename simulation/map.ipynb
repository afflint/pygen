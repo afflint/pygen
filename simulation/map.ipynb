{
 "cells": [
  {
   "cell_type": "code",
   "execution_count": 1,
   "metadata": {},
   "outputs": [],
   "source": [
    "import numpy as np\n",
    "import matplotlib.pyplot as plt\n",
    "from sklearn.metrics.pairwise import euclidean_distances"
   ]
  },
  {
   "cell_type": "code",
   "execution_count": 2,
   "metadata": {},
   "outputs": [],
   "source": [
    "class Map(object):\n",
    "    \n",
    "    def __init__(self, locations, n_random=10, color='#666666'):\n",
    "        lon = np.random.randint(-180, 180, locations)\n",
    "        lat = np.random.randint(-90, 90, locations)\n",
    "        self.color = color\n",
    "        self.map = np.array([lon, lat]).T\n",
    "        self.routes = np.zeros((locations, locations))\n",
    "        d = euclidean_distances(self.map, self.map)\n",
    "        for i, distances in enumerate(d):\n",
    "            for j, _ in sorted(enumerate(distances), \n",
    "                               key=lambda x: x[1]):\n",
    "                if j != i and self.routes[i,j] < 1:\n",
    "                    self.routes[i,j] = 1\n",
    "                    break\n",
    "        for row in np.random.randint(0, locations, size=(n_random, 2)):\n",
    "            self.routes[row[0], row[1]] = 1\n",
    "    \n",
    "    def directions(self, location):\n",
    "        r = np.nonzero(self.routes[location])[0]\n",
    "        c = np.nonzero(self.routes[:,location])[0]\n",
    "        return list(set(list(r) + list(c)))\n",
    "        \n",
    "    def show(self, ax):\n",
    "        rows, cols = np.nonzero(self.routes)\n",
    "        ax.scatter(self.map[:,0], self.map[:,1], c=self.color)\n",
    "        for i, x in enumerate(rows):\n",
    "            y = cols[i]\n",
    "            ax.plot([self.map[x][0], self.map[y][0]], \n",
    "                    [self.map[x][1], self.map[y][1]], \n",
    "                    c=self.color, alpha=0.2)"
   ]
  },
  {
   "cell_type": "code",
   "execution_count": null,
   "metadata": {},
   "outputs": [],
   "source": []
  }
 ],
 "metadata": {
  "kernelspec": {
   "display_name": "Python 3",
   "language": "python",
   "name": "python3"
  },
  "language_info": {
   "codemirror_mode": {
    "name": "ipython",
    "version": 3
   },
   "file_extension": ".py",
   "mimetype": "text/x-python",
   "name": "python",
   "nbconvert_exporter": "python",
   "pygments_lexer": "ipython3",
   "version": "3.7.1"
  }
 },
 "nbformat": 4,
 "nbformat_minor": 2
}
