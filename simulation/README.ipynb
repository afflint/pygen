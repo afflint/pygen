{
 "cells": [
  {
   "cell_type": "markdown",
   "metadata": {},
   "source": [
    "# SIMULATION GAME\n",
    "Si vuole creare un gioco di simulazione su un ecosistema composto da una mappa su cui operano degli organismi in un tempo di gioco fissato per turni.\n",
    "Il gioco deve permettere di eseguire un ciclo di turni, monitorando l'evoluzione della popolazione nella simulazione. Il dataset così costituito sarà poi oggetto di analisi per scopi di classificazione supervisionata e non supervisionata e per scopi di analisi predittiva.\n",
    "\n",
    "## Mappa\n",
    "La mappa è costituita da un numero $L$ di luoghi interconnessi da percorsi casuali.\n",
    "\n",
    "## Organismi\n",
    "Gli organismi si dividono in <code>Plants</code> e <code>Animals</code> modellati come oggetti <code>Python</code>. \n",
    "\n",
    "### Plants\n",
    "Le piante non hanno un termine di vita e non effettuano movimento. Hanno però un tasso di riproduzione $\\gamma$ espresso come una probabilità di riproduzione per turno di gioco. La riproduzione nelle piante genera un'altra pianta il cui tasso di riproduzione è determinato a partire dal tasso di riproduzione della pianta di origine variato casualmente di una quantità $\\delta$. Le piante hanno inoltre una probabilità non nulla $\\mu$ di generare la nuova pianta in un luogo connesso al luogo di origine. \n",
    "\n",
    "### Animals\n",
    "Gli animali sono caratterizzati da una resistenza $\\rho$, una probabilità di movimento $\\mu$ e il tasso di riproduzione $\\gamma$. Ad ogni turno, gli animali consumano una unità di resistenza, si nutrono, si muovono con probabilità $\\mu$ in un luogo connesso al luogo di partenza e generano un nuovo animale con probabilità $\\gamma$. Il successo delle azioni di movimento e/o riproduzione porta al consumo di ulteriori unità di resistenza, una per ogni azione effettuata con successo. La generazione di un nuovo animale colloca un nuovo oggetto sulla mappa nello stesso luogo della generazione. Il nuovo soggetto eredita dal genitore i parametri vitali, variati casualmente di una quantità $\\delta$. L'unico modo per un animale di recuperare resistenza fino al massimo iniziale è il nutrimento. Rispetto al nutrimento, gli animali si dividono in erbivori e carnivori.\n",
    "\n",
    "<strong>Erbivori.</strong> Gli erbivori si nutrono consumando e eliminando di conseguenza una pianta presente nel luogo occupato dall'animale. Ciò porta al recupero di una quantità $\\kappa$ di resistenza. Anche la quantità $\\kappa$ è soggetta a mutamento in fase di riproduzione.\n",
    "\n",
    "<strong>Carnivori.</strong> I carnivori si nutrono tentando di consumare uno degli animali eventualmente presenti nel proprio luogo sulla mappa. Il successo del tentativo di nutrimento è funzione della resistenza del predatore e della preda. il successo di tale attività elimina la preda e porta al recupero di una quantità $\\kappa$ di resistenza. Anche la quantità $\\kappa$ è soggetta a mutamento in fase di riproduzione."
   ]
  },
  {
   "cell_type": "code",
   "execution_count": null,
   "metadata": {},
   "outputs": [],
   "source": []
  }
 ],
 "metadata": {
  "kernelspec": {
   "display_name": "Python 3",
   "language": "python",
   "name": "python3"
  },
  "language_info": {
   "codemirror_mode": {
    "name": "ipython",
    "version": 3
   },
   "file_extension": ".py",
   "mimetype": "text/x-python",
   "name": "python",
   "nbconvert_exporter": "python",
   "pygments_lexer": "ipython3",
   "version": "3.7.1"
  }
 },
 "nbformat": 4,
 "nbformat_minor": 2
}
