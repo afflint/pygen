{
 "cells": [
  {
   "cell_type": "code",
   "execution_count": 1,
   "metadata": {},
   "outputs": [
    {
     "name": "stdout",
     "output_type": "stream",
     "text": [
      "Importing Jupyter notebook from map.ipynb\n",
      "Importing Jupyter notebook from organisms.ipynb\n"
     ]
    }
   ],
   "source": [
    "import nbimporter\n",
    "from map import Map\n",
    "from organisms import Organism, Plant"
   ]
  },
  {
   "cell_type": "code",
   "execution_count": 2,
   "metadata": {},
   "outputs": [],
   "source": [
    "m = Map(20)"
   ]
  },
  {
   "cell_type": "code",
   "execution_count": 3,
   "metadata": {},
   "outputs": [],
   "source": [
    "o = Plant(10, m)"
   ]
  },
  {
   "cell_type": "code",
   "execution_count": 4,
   "metadata": {},
   "outputs": [
    {
     "name": "stdout",
     "output_type": "stream",
     "text": [
      "null\n",
      "null\n",
      "null\n",
      "null\n",
      "null\n",
      "[-6.90000000e+01 -5.60000000e+01  1.98999941e-01  1.00000000e-02\n",
      "  1.00000000e-01]\n",
      "null\n",
      "null\n",
      "null\n",
      "[-6.9000000e+01 -5.6000000e+01  2.0454839e-01  1.0000000e-02\n",
      "  1.0000000e-01]\n",
      "[-6.9000000e+01 -5.6000000e+01  2.0096676e-01  1.0000000e-02\n",
      "  1.0000000e-01]\n",
      "null\n",
      "null\n",
      "null\n",
      "null\n",
      "null\n",
      "null\n",
      "[-6.9000000e+01 -5.6000000e+01  2.0969572e-01  1.0000000e-02\n",
      "  1.0000000e-01]\n",
      "null\n",
      "null\n",
      "null\n",
      "null\n",
      "null\n",
      "[-6.90000000e+01 -5.60000000e+01  2.03152291e-01  1.00000000e-02\n",
      "  1.00000000e-01]\n",
      "[-6.90000000e+01 -5.60000000e+01  1.95242238e-01  1.00000000e-02\n",
      "  1.00000000e-01]\n",
      "null\n",
      "null\n",
      "[-6.90000000e+01 -5.60000000e+01  1.99129993e-01  1.00000000e-02\n",
      "  1.00000000e-01]\n",
      "null\n",
      "null\n",
      "null\n",
      "null\n",
      "null\n",
      "[-6.90000e+01 -5.60000e+01  1.90107e-01  1.00000e-02  1.00000e-01]\n",
      "null\n",
      "null\n",
      "[-6.90000000e+01 -5.60000000e+01  1.92802708e-01  1.00000000e-02\n",
      "  1.00000000e-01]\n",
      "null\n",
      "null\n",
      "null\n",
      "null\n",
      "null\n",
      "null\n",
      "[-6.90000000e+01 -5.60000000e+01  1.92601508e-01  1.00000000e-02\n",
      "  1.00000000e-01]\n",
      "null\n",
      "null\n",
      "null\n",
      "null\n",
      "null\n",
      "null\n",
      "null\n",
      "null\n",
      "null\n",
      "[-6.90000000e+01 -5.60000000e+01  2.01422064e-01  1.00000000e-02\n",
      "  1.00000000e-01]\n",
      "null\n",
      "null\n",
      "null\n",
      "null\n",
      "[-6.90000000e+01 -5.60000000e+01  1.94964837e-01  1.00000000e-02\n",
      "  1.00000000e-01]\n",
      "null\n",
      "null\n",
      "[-6.900000e+01 -5.600000e+01  2.091842e-01  1.000000e-02  1.000000e-01]\n",
      "null\n",
      "null\n",
      "null\n",
      "null\n",
      "[-6.90000000e+01 -5.60000000e+01  2.03555995e-01  1.00000000e-02\n",
      "  1.00000000e-01]\n",
      "null\n",
      "[-6.90000000e+01 -5.60000000e+01  1.98567446e-01  1.00000000e-02\n",
      "  1.00000000e-01]\n",
      "null\n",
      "null\n",
      "null\n",
      "null\n",
      "null\n",
      "[-6.90000000e+01 -5.60000000e+01  2.01926738e-01  1.00000000e-02\n",
      "  1.00000000e-01]\n",
      "[-6.90000000e+01 -5.60000000e+01  2.02508592e-01  1.00000000e-02\n",
      "  1.00000000e-01]\n",
      "null\n",
      "null\n",
      "null\n",
      "null\n",
      "[-6.90000000e+01 -5.60000000e+01  2.09341583e-01  1.00000000e-02\n",
      "  1.00000000e-01]\n",
      "[-6.90000000e+01 -5.60000000e+01  2.01222805e-01  1.00000000e-02\n",
      "  1.00000000e-01]\n",
      "null\n",
      "null\n",
      "[-1.40000000e+01 -3.60000000e+01  2.07783628e-01  1.00000000e-02\n",
      "  1.00000000e-01]\n",
      "null\n",
      "null\n",
      "null\n",
      "null\n",
      "null\n",
      "null\n",
      "[-6.90000000e+01 -5.60000000e+01  2.03661341e-01  1.00000000e-02\n",
      "  1.00000000e-01]\n",
      "null\n",
      "[-6.90000000e+01 -5.60000000e+01  1.99674336e-01  1.00000000e-02\n",
      "  1.00000000e-01]\n",
      "null\n",
      "[-6.90000000e+01 -5.60000000e+01  2.02779593e-01  1.00000000e-02\n",
      "  1.00000000e-01]\n",
      "[-6.90000000e+01 -5.60000000e+01  2.01254579e-01  1.00000000e-02\n",
      "  1.00000000e-01]\n",
      "null\n",
      "null\n",
      "null\n"
     ]
    }
   ],
   "source": [
    "for i in range(100):\n",
    "    c = o.generate()\n",
    "    if c is None:\n",
    "        print('null')\n",
    "    else:\n",
    "        print(c.to_array())"
   ]
  },
  {
   "cell_type": "code",
   "execution_count": null,
   "metadata": {},
   "outputs": [],
   "source": []
  }
 ],
 "metadata": {
  "kernelspec": {
   "display_name": "Python 3",
   "language": "python",
   "name": "python3"
  },
  "language_info": {
   "codemirror_mode": {
    "name": "ipython",
    "version": 3
   },
   "file_extension": ".py",
   "mimetype": "text/x-python",
   "name": "python",
   "nbconvert_exporter": "python",
   "pygments_lexer": "ipython3",
   "version": "3.7.1"
  }
 },
 "nbformat": 4,
 "nbformat_minor": 2
}
