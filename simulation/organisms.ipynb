{
 "cells": [
  {
   "cell_type": "code",
   "execution_count": 1,
   "metadata": {},
   "outputs": [],
   "source": [
    "import numpy as np"
   ]
  },
  {
   "cell_type": "code",
   "execution_count": 2,
   "metadata": {},
   "outputs": [],
   "source": [
    "class Organism(object):\n",
    "    \n",
    "    def __init__(self, location, area, gamma=0.2, \n",
    "                 delta=0.01, mu=0.1):\n",
    "        self.location = location\n",
    "        self.area = area\n",
    "        self.gamma = gamma\n",
    "        self.delta = delta\n",
    "        self.mu = mu\n",
    "        self.countgen = 0\n",
    "        self.gen = 0\n",
    "        \n",
    "    def to_array(self):\n",
    "        l = self.area.map[self.location]\n",
    "        return np.array([l[0], l[1], self.gamma, \n",
    "                         self.delta, self.mu])\n",
    "    \n",
    "class Plant(Organism):\n",
    "    \n",
    "    def generate(self):\n",
    "        self.countgen += 1\n",
    "        if np.random.uniform() < self.gamma:\n",
    "            self.gen += 1\n",
    "            mutation = np.random.uniform(-self.delta, self.delta)\n",
    "            if np.random.uniform() < self.mu:\n",
    "                location = np.random.choice(\n",
    "                    self.area.directions(self.location))\n",
    "            else:\n",
    "                location = self.location\n",
    "            return Plant(location, self.area, self.gamma + mutation)\n",
    "        else:\n",
    "            return None"
   ]
  },
  {
   "cell_type": "code",
   "execution_count": null,
   "metadata": {},
   "outputs": [],
   "source": []
  }
 ],
 "metadata": {
  "kernelspec": {
   "display_name": "Python 3",
   "language": "python",
   "name": "python3"
  },
  "language_info": {
   "codemirror_mode": {
    "name": "ipython",
    "version": 3
   },
   "file_extension": ".py",
   "mimetype": "text/x-python",
   "name": "python",
   "nbconvert_exporter": "python",
   "pygments_lexer": "ipython3",
   "version": "3.7.1"
  }
 },
 "nbformat": 4,
 "nbformat_minor": 2
}
