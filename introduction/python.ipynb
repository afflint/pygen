{
 "cells": [
  {
   "cell_type": "markdown",
   "id": "758e9e1b",
   "metadata": {},
   "source": [
    "# Introduzione a Python\n",
    "Si veda: [https://docs.python.org/3/tutorial](https://docs.python.org/3/tutorial/)"
   ]
  },
  {
   "cell_type": "markdown",
   "id": "60210730",
   "metadata": {},
   "source": [
    "## Principi della programmazione in Python\n",
    "- Variabili e tipizzazione dinamica\n",
    "- Assenza di informazione e valori <i>None</i>"
   ]
  },
  {
   "cell_type": "code",
   "execution_count": null,
   "id": "bd7b1388",
   "metadata": {},
   "outputs": [],
   "source": []
  },
  {
   "cell_type": "markdown",
   "id": "073042a9",
   "metadata": {},
   "source": [
    "## Tipi elementari\n",
    "- Stringhe\n",
    "- Tipi numerici\n",
    "- Date"
   ]
  },
  {
   "cell_type": "code",
   "execution_count": null,
   "id": "4332e388",
   "metadata": {},
   "outputs": [],
   "source": []
  },
  {
   "cell_type": "markdown",
   "id": "007055fb",
   "metadata": {},
   "source": [
    "## Istruzioni condizionali\n",
    "- Flusso di esecuzione delle istruzioni\n",
    "- ``if``, ``elif`` e ``else``"
   ]
  },
  {
   "cell_type": "code",
   "execution_count": null,
   "id": "ee32d8ff",
   "metadata": {},
   "outputs": [],
   "source": []
  },
  {
   "cell_type": "markdown",
   "id": "96ea6dae",
   "metadata": {},
   "source": [
    "### Esercizio 1: Indovina il numero\n",
    "- Modulo ``random``\n",
    "- Istruzioni condizionali\n",
    "- Ciclo ``while``\n",
    "- Istruzione ``input``"
   ]
  },
  {
   "cell_type": "code",
   "execution_count": null,
   "id": "43e6b073",
   "metadata": {},
   "outputs": [],
   "source": [
    "import random"
   ]
  },
  {
   "cell_type": "code",
   "execution_count": null,
   "id": "daa426de",
   "metadata": {},
   "outputs": [],
   "source": [
    "x = 10\n",
    "number = random.randint(1, x)\n",
    "trial = 0\n",
    "while trial != number:\n",
    "    trial = int(input('Indovina il numero fra 1 e {}'.format(x)))\n",
    "    if trial < number:\n",
    "        print('Troppo basso')\n",
    "    elif trial > number:\n",
    "        print('Troppo alto')\n",
    "print('Perfetto, il numero era {}'.format(trial))"
   ]
  },
  {
   "cell_type": "markdown",
   "id": "5b9f10e4",
   "metadata": {},
   "source": [
    "## Gestione dell'errore\n",
    "- Concetto di eccezione\n",
    "- ``try``, ``except``, ``raise``"
   ]
  },
  {
   "cell_type": "code",
   "execution_count": null,
   "id": "d42fbe95",
   "metadata": {},
   "outputs": [],
   "source": []
  },
  {
   "cell_type": "markdown",
   "id": "bdfbff84",
   "metadata": {},
   "source": [
    "## Funzioni\n",
    "- Parametri e valori di default\n",
    "- Valori di ritorno\n",
    "- Visibilità delle variabili"
   ]
  },
  {
   "cell_type": "code",
   "execution_count": null,
   "id": "6e6ebb6e",
   "metadata": {},
   "outputs": [],
   "source": []
  },
  {
   "cell_type": "markdown",
   "id": "1cb5f2a8",
   "metadata": {},
   "source": [
    "## Tipi strutturati\n",
    "- Tuple\n",
    "- Liste\n",
    "- Insiemi\n",
    "- Dizionari"
   ]
  },
  {
   "cell_type": "code",
   "execution_count": null,
   "id": "eeb640b0",
   "metadata": {},
   "outputs": [],
   "source": []
  },
  {
   "cell_type": "markdown",
   "id": "f85f6804",
   "metadata": {},
   "source": [
    "## Cicli\n",
    "- Generatori e iteratori\n",
    "- Ciclo ``for``\n",
    "- Istruzione ``break``\n",
    "- Cicli su liste e dizionari"
   ]
  },
  {
   "cell_type": "code",
   "execution_count": null,
   "id": "5532eae6",
   "metadata": {},
   "outputs": [],
   "source": []
  },
  {
   "cell_type": "markdown",
   "id": "5585fb2b",
   "metadata": {},
   "source": [
    "### Esercizio 2: Gioco dell'impiccato"
   ]
  },
  {
   "cell_type": "code",
   "execution_count": null,
   "id": "6bd92620",
   "metadata": {},
   "outputs": [],
   "source": []
  },
  {
   "cell_type": "markdown",
   "id": "f181fa76",
   "metadata": {},
   "source": [
    "## Uso avanzato di liste e dizionari\n",
    "- _List slice_ e _list comprehension_\n",
    "- Il modulo <i>collections</i>: defaultdict e counter\n",
    "- Iteratori, <i>enumerate</i>, cicli"
   ]
  },
  {
   "cell_type": "code",
   "execution_count": null,
   "id": "8bc429d7",
   "metadata": {},
   "outputs": [],
   "source": []
  },
  {
   "cell_type": "markdown",
   "id": "a33e4ac5",
   "metadata": {},
   "source": [
    "### Esercizio 3: Sasso, carta e forbice e raccolta delle statistiche di gioco con diversi parametri"
   ]
  },
  {
   "cell_type": "code",
   "execution_count": null,
   "id": "53354895",
   "metadata": {},
   "outputs": [],
   "source": []
  },
  {
   "cell_type": "markdown",
   "id": "85eaab5c",
   "metadata": {},
   "source": [
    "## Input e output da file"
   ]
  },
  {
   "cell_type": "code",
   "execution_count": 3,
   "id": "2698beb7",
   "metadata": {
    "scrolled": true
   },
   "outputs": [
    {
     "name": "stdout",
     "output_type": "stream",
     "text": [
      "27346\n"
     ]
    }
   ],
   "source": [
    "with open('/Users/flint/Data/yelp/text-sample/10k-text.txt', 'r') as infile:\n",
    "    lines = [line.strip() for line in infile.readlines() if line != '\\n']\n",
    "print(len(lines))"
   ]
  },
  {
   "cell_type": "markdown",
   "id": "700cf131",
   "metadata": {},
   "source": [
    "### Esercizio 4: Lettura e tokenizzazione delle recensioni di ``yelp``"
   ]
  },
  {
   "cell_type": "code",
   "execution_count": null,
   "id": "db117137",
   "metadata": {},
   "outputs": [],
   "source": []
  },
  {
   "cell_type": "markdown",
   "id": "5f038bbe",
   "metadata": {},
   "source": [
    "### Esercizio 5: Tabelle di frequenza per successioni di caratteri della lingua inglese"
   ]
  },
  {
   "cell_type": "code",
   "execution_count": null,
   "id": "36cc0202",
   "metadata": {},
   "outputs": [],
   "source": []
  },
  {
   "cell_type": "markdown",
   "id": "7f7e5aa9",
   "metadata": {},
   "source": [
    "### Esercizio 6: Generatore di parole con Markov Chain\n",
    "\n",
    "$$\n",
    "P(w_1 w_2 w_3 \\dots w_m) = \\prod\\limits_{i}^{m} P(w_i \\mid w_1, w_2, \\dots, w_{i-1})\n",
    "$$\n",
    "\n",
    "$$\n",
    "P(\\textrm{the taxi drivers are} \\dots) = P(\\textrm{the}) \\times P(\\textrm{taxi} \\mid \\textrm{the}) \\times P(\\textrm{drivers} \\mid \\textrm{the}, \\textrm{taxi}) \\times P(\\textrm{are} \\mid \\textrm{the}, \\textrm{taxi}, \\textrm{drivers}) \\times \\dots\n",
    "$$\n",
    "\n",
    "$$\n",
    "P(w_1 w_2 w_3 \\dots w_m) = \\prod\\limits_{i}^{m} P(w_i \\mid w_{i-n}, \\dots, w_{i-2}, w_{i-1})\n",
    "$$\n",
    "\n",
    "$$\n",
    "with\\ n=2: P(w_1 w_2 w_3 \\dots w_m) = \\prod\\limits_{i}^{m} P(w_i \\mid w_{i-2}, w_{i-1})\n",
    "$$"
   ]
  },
  {
   "cell_type": "code",
   "execution_count": null,
   "id": "d0ad334d",
   "metadata": {},
   "outputs": [],
   "source": []
  }
 ],
 "metadata": {
  "kernelspec": {
   "display_name": "Python 3 (ipykernel)",
   "language": "python",
   "name": "python3"
  },
  "language_info": {
   "codemirror_mode": {
    "name": "ipython",
    "version": 3
   },
   "file_extension": ".py",
   "mimetype": "text/x-python",
   "name": "python",
   "nbconvert_exporter": "python",
   "pygments_lexer": "ipython3",
   "version": "3.8.8"
  },
  "toc": {
   "base_numbering": 1,
   "nav_menu": {},
   "number_sections": true,
   "sideBar": true,
   "skip_h1_title": false,
   "title_cell": "Table of Contents",
   "title_sidebar": "Contents",
   "toc_cell": false,
   "toc_position": {},
   "toc_section_display": true,
   "toc_window_display": false
  }
 },
 "nbformat": 4,
 "nbformat_minor": 5
}
