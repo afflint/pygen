{
 "cells": [
  {
   "cell_type": "markdown",
   "id": "758e9e1b",
   "metadata": {},
   "source": [
    "# Introduzione a Python\n",
    "Si veda: [https://docs.python.org/3/tutorial](https://docs.python.org/3/tutorial/)"
   ]
  },
  {
   "cell_type": "markdown",
   "id": "60210730",
   "metadata": {},
   "source": [
    "## Principi della programmazione in Python\n",
    "- Variabili e tipizzazione dinamica\n",
    "- Assenza di informazione e valori <i>None</i>"
   ]
  },
  {
   "cell_type": "code",
   "execution_count": null,
   "id": "bd7b1388",
   "metadata": {},
   "outputs": [],
   "source": [
    "a = 4\n",
    "b = 'questa è \"una\" stringa'\n",
    "c = '6'"
   ]
  },
  {
   "cell_type": "markdown",
   "id": "073042a9",
   "metadata": {},
   "source": [
    "## Tipi elementari\n",
    "- Stringhe\n",
    "- Tipi numerici\n",
    "- Date"
   ]
  },
  {
   "cell_type": "code",
   "execution_count": null,
   "id": "4332e388",
   "metadata": {},
   "outputs": [],
   "source": [
    "x = None\n",
    "x is not None"
   ]
  },
  {
   "cell_type": "markdown",
   "id": "079960de",
   "metadata": {},
   "source": [
    "## Esempio 1: Indovina un numero\n",
    "\n",
    "- *La macchina pensa un numero*\n",
    "    - *intero e entro un minimo e massimo*\n",
    "- *La macchina chiede all'utente un numero*\n",
    "- *La macchina compara il numero con quello da indovinare*\n",
    "- La macchina fornisce un feedback all'utente\n",
    "- Questa cosa va fatta fino a indovinare"
   ]
  },
  {
   "cell_type": "code",
   "execution_count": 1,
   "id": "ceeeea4f",
   "metadata": {},
   "outputs": [],
   "source": [
    "import numpy.random as rn"
   ]
  },
  {
   "cell_type": "code",
   "execution_count": null,
   "id": "01afa999",
   "metadata": {},
   "outputs": [],
   "source": [
    "def think_number(minn=0, maxn=20):\n",
    "    x = rn.randint(low=minn, high=maxn)\n",
    "    return x"
   ]
  },
  {
   "cell_type": "markdown",
   "id": "007055fb",
   "metadata": {},
   "source": [
    "## Istruzioni condizionali\n",
    "- Flusso di esecuzione delle istruzioni\n",
    "- ``if``, ``elif`` e ``else``"
   ]
  },
  {
   "cell_type": "code",
   "execution_count": null,
   "id": "3c422215",
   "metadata": {},
   "outputs": [],
   "source": [
    "n = think_number()\n",
    "i = input('dimmi un numero: ')\n",
    "try:\n",
    "    trial = int(i)\n",
    "except ValueError:\n",
    "    i = input('HO DETTO UN NUMERO! ')\n",
    "    try:\n",
    "        trial = int(i)\n",
    "    except ValueError:\n",
    "        i = 5\n",
    "if trial == n:\n",
    "    print(\"BRAVO\")\n",
    "elif trial < n:\n",
    "    print(\"Numero troppo basso\")\n",
    "else:\n",
    "    print(\"Numero troppo alto\")\n",
    "print(n)\n"
   ]
  },
  {
   "cell_type": "markdown",
   "id": "9de5fa50",
   "metadata": {},
   "source": [
    "## Cicli\n",
    "- istruzione `while`\n",
    "- istruzione `for`"
   ]
  },
  {
   "cell_type": "code",
   "execution_count": null,
   "id": "cf05f1b5",
   "metadata": {},
   "outputs": [],
   "source": [
    "from IPython.display import clear_output\n",
    "import time"
   ]
  },
  {
   "cell_type": "code",
   "execution_count": null,
   "id": "1a65efef",
   "metadata": {},
   "outputs": [],
   "source": [
    "x = 0\n",
    "while x <= 4:\n",
    "    x = x + 1\n",
    "    print(x)"
   ]
  },
  {
   "cell_type": "code",
   "execution_count": null,
   "id": "75ee6d6d",
   "metadata": {},
   "outputs": [],
   "source": [
    "for x in range(2, 10, 2):\n",
    "    print(x)"
   ]
  },
  {
   "cell_type": "code",
   "execution_count": null,
   "id": "17032bab",
   "metadata": {},
   "outputs": [],
   "source": [
    "n = think_number()\n",
    "m = 6\n",
    "for iteration in range(m):\n",
    "    # clear_output(wait=True)\n",
    "    print('Partita numero ', iteration)\n",
    "    i = input('dimmi un numero: ')\n",
    "    try:\n",
    "        trial = int(i)\n",
    "    except ValueError:\n",
    "        i = input('HO DETTO UN NUMERO! ')\n",
    "        try:\n",
    "            trial = int(i)\n",
    "        except ValueError:\n",
    "            i = 5\n",
    "    if trial == n:\n",
    "        print(\"BRAVO\")\n",
    "        break\n",
    "    elif trial < n:\n",
    "        print(\"Numero troppo basso\")\n",
    "    else:\n",
    "        print(\"Numero troppo alto\")\n",
    "    # time.sleep(10)\n",
    "print(n)"
   ]
  },
  {
   "cell_type": "markdown",
   "id": "c3a0ff24",
   "metadata": {},
   "source": [
    "## Simulatore\n",
    "- modificare `number_game` per prendere input e dare output a un'altra funzione\n",
    "- implementare una funzione per giocare\n",
    "    - più stategie di gioco\n",
    "    - raccolta statistiche (numero di tentativi per partita)"
   ]
  },
  {
   "cell_type": "code",
   "execution_count": 2,
   "id": "a836bbd3",
   "metadata": {},
   "outputs": [],
   "source": [
    "import numpy as np"
   ]
  },
  {
   "cell_type": "code",
   "execution_count": null,
   "id": "b562944a",
   "metadata": {},
   "outputs": [],
   "source": [
    "def init_game(start = 1, end = 10):\n",
    "    n = rn.randint(start, end)\n",
    "    return n\n",
    "\n",
    "def evaluate_guess(trial, correct_number):\n",
    "    return np.sign(trial - correct_number)\n",
    "\n",
    "def random_player(start, end, correct_number, max_iterations):\n",
    "    final = max_iterations\n",
    "    for game in range(max_iterations):\n",
    "        trial = rn.randint(start, end)\n",
    "        feedback = evaluate_guess(trial, correct_number)\n",
    "        if feedback == 0:\n",
    "            final = game\n",
    "            break\n",
    "    return final\n",
    "\n",
    "def one_player(start, end, correct_number, max_iterations):\n",
    "    final = max_iterations\n",
    "    for game in range(max_iterations):\n",
    "        trial = rn.randint(start, end)\n",
    "        feedback = evaluate_guess(trial, correct_number)\n",
    "        if feedback == 0:\n",
    "            final = game\n",
    "            break\n",
    "        if feedback < 0:\n",
    "            start = trial\n",
    "        else:\n",
    "            end = trial\n",
    "    return final"
   ]
  },
  {
   "cell_type": "code",
   "execution_count": null,
   "id": "7be3090c",
   "metadata": {},
   "outputs": [],
   "source": [
    "s, e, i = 0, 100, 500\n",
    "n = init_game(s, e)\n",
    "history_rp = []\n",
    "history_op = []\n",
    "for test in range(1000):\n",
    "    o = random_player(s, e, n, i)\n",
    "    j = one_player(s, e, n, i)\n",
    "    history_rp.append(o)\n",
    "    history_op.append(j)\n",
    "O = np.array([history_rp, history_op]).T"
   ]
  },
  {
   "cell_type": "code",
   "execution_count": null,
   "id": "4895719f",
   "metadata": {},
   "outputs": [],
   "source": [
    "s, e, i = 0, 100, 500\n",
    "n = init_game(s, e)\n",
    "O = np.array([[random_player(s, e, n, i), one_player(s, e, n, i)] for x in range(1000)])"
   ]
  },
  {
   "cell_type": "code",
   "execution_count": null,
   "id": "b03537e6",
   "metadata": {},
   "outputs": [],
   "source": [
    "O"
   ]
  },
  {
   "cell_type": "code",
   "execution_count": null,
   "id": "1e6614b3",
   "metadata": {},
   "outputs": [],
   "source": [
    "O.mean(axis=0)"
   ]
  },
  {
   "cell_type": "code",
   "execution_count": null,
   "id": "200c8887",
   "metadata": {},
   "outputs": [],
   "source": [
    "sum(history_rp) / len(history_rp)"
   ]
  },
  {
   "cell_type": "code",
   "execution_count": null,
   "id": "76782a84",
   "metadata": {},
   "outputs": [],
   "source": [
    "sum(history_op) / len(history_op)"
   ]
  },
  {
   "cell_type": "code",
   "execution_count": 3,
   "id": "a56894c4",
   "metadata": {},
   "outputs": [],
   "source": [
    "import matplotlib.pyplot as plt"
   ]
  },
  {
   "cell_type": "code",
   "execution_count": null,
   "id": "df04c389",
   "metadata": {
    "scrolled": true
   },
   "outputs": [],
   "source": [
    "fig, ax = plt.subplots(figsize=(12, 6), ncols=2)\n",
    "ax[0].plot(np.cumsum(O[:,0]), label='Random player')\n",
    "ax[0].plot(np.cumsum(O[:,1]), label='One player')\n",
    "ax[1].scatter(O[:,0], O[:,1], alpha=0.4)\n",
    "ax[0].legend()\n",
    "plt.show()"
   ]
  },
  {
   "cell_type": "markdown",
   "id": "fd201f67",
   "metadata": {},
   "source": [
    "## Liste"
   ]
  },
  {
   "cell_type": "code",
   "execution_count": null,
   "id": "83ac5b31",
   "metadata": {},
   "outputs": [],
   "source": [
    "s = 0\n",
    "a = [[2, 3, 6], [6, 7, 9]]\n",
    "print(a[1][1])"
   ]
  },
  {
   "cell_type": "code",
   "execution_count": null,
   "id": "abb2bda3",
   "metadata": {},
   "outputs": [],
   "source": [
    "e = [x**2 for x in range(0, 11, 2) if x != 4]\n",
    "e"
   ]
  },
  {
   "cell_type": "code",
   "execution_count": null,
   "id": "bc77c126",
   "metadata": {},
   "outputs": [],
   "source": [
    "b = np.array(a)"
   ]
  },
  {
   "cell_type": "code",
   "execution_count": null,
   "id": "f9697490",
   "metadata": {},
   "outputs": [],
   "source": [
    "print(b)"
   ]
  },
  {
   "cell_type": "code",
   "execution_count": null,
   "id": "2eff93ce",
   "metadata": {},
   "outputs": [],
   "source": [
    "b.shape"
   ]
  },
  {
   "cell_type": "code",
   "execution_count": null,
   "id": "07b0576e",
   "metadata": {},
   "outputs": [],
   "source": [
    "b.dot(b.T)"
   ]
  },
  {
   "cell_type": "code",
   "execution_count": null,
   "id": "18f8a19d",
   "metadata": {},
   "outputs": [],
   "source": [
    "b.mean(axis=1)"
   ]
  },
  {
   "cell_type": "code",
   "execution_count": null,
   "id": "e59cb588",
   "metadata": {},
   "outputs": [],
   "source": [
    "print(b[:,-2:])"
   ]
  },
  {
   "cell_type": "code",
   "execution_count": null,
   "id": "78fd2e54",
   "metadata": {},
   "outputs": [],
   "source": [
    "st = 'obgect does not support'\n",
    "g = list(st)\n",
    "g[2] = 'j'\n",
    "st = \"\".join(g)"
   ]
  },
  {
   "cell_type": "code",
   "execution_count": null,
   "id": "31d42fda",
   "metadata": {},
   "outputs": [],
   "source": [
    "st"
   ]
  },
  {
   "cell_type": "code",
   "execution_count": null,
   "id": "d2784ccd",
   "metadata": {},
   "outputs": [],
   "source": [
    "\";\".join(['e', 'p'])"
   ]
  },
  {
   "cell_type": "markdown",
   "id": "6132e071",
   "metadata": {},
   "source": [
    "# Programmazione a oggetti\n",
    "\n",
    "`super(SubClass,self).__init__( x )`\n",
    "\n",
    "**Banco**\n",
    "- metodi\n",
    "    - genera un numero\n",
    "    - verifica i tentativi\n",
    "- proprietà\n",
    "    - numero da indovinare\n",
    "    - range\n",
    "\n",
    "**Giocatore**\n",
    "- metodi\n",
    "    - tentare (aggiustare il tiro)\n",
    "    - ricevere un feedback\n",
    "- proprietà\n",
    "    - range della partita\n",
    "    - numero dei tentativi (history)"
   ]
  },
  {
   "cell_type": "code",
   "execution_count": 45,
   "id": "fd0b63f4",
   "metadata": {},
   "outputs": [],
   "source": [
    "class Dealer(object):\n",
    "    \n",
    "    def __init__(self, start=0, end=10, players=None):\n",
    "        self.s = start\n",
    "        self.e = end\n",
    "        self.n = None\n",
    "        self.deal()\n",
    "        if players is None:\n",
    "            self.players = []\n",
    "        else:\n",
    "            self.players = players\n",
    "        \n",
    "    def __str__(self):\n",
    "        return \"Dealer with start {} and end {}\".format(self.s, self.e)\n",
    "    \n",
    "    def deal(self):\n",
    "        self.n = rn.randint(self.s, self.e)\n",
    "        \n",
    "    def check(self, trial):\n",
    "        return np.sign(trial - self.n)\n",
    "    \n",
    "    def game(self, max_iterations):\n",
    "        for p in self.players:\n",
    "            p.s, p.e = self.s, self.e\n",
    "        for i in range(max_iterations):\n",
    "            for p in self.players:\n",
    "                if not p.win:\n",
    "                    trial = p.guess()\n",
    "                    feedback = self.check(trial)\n",
    "                    p.get_feedback(feedback, num_trials=i, trial=trial)\n",
    "        for p in self.players:\n",
    "            if not p.win:\n",
    "                p.history.append(max_iterations)\n",
    "    \n",
    "    def simulation(self, max_iterations, num_sim=1000):\n",
    "        for s in range(num_sim):\n",
    "            for p in self.players:\n",
    "                p.win = False\n",
    "                p.current_feedback = None\n",
    "            self.game(max_iterations)\n",
    "    \n",
    "\n",
    "class Player(object):\n",
    "    \n",
    "    def __init__(self):\n",
    "        self.s, self.e = None, None\n",
    "        self.current_feedback = None\n",
    "        self.win = False\n",
    "        self.history = []\n",
    "    \n",
    "    def guess(self):\n",
    "        return rn.randint(self.s, self.e)\n",
    "    \n",
    "    def get_feedback(self, feedback, num_trials, trial):\n",
    "        self.current_feedback = feedback\n",
    "        if self.current_feedback == 0:\n",
    "            self.win = True\n",
    "            self.history.append(num_trials)\n",
    "\n",
    "            \n",
    "class SmartPlayer(Player):\n",
    "    \n",
    "    def __init__(self):\n",
    "        super(SmartPlayer, self).__init__()\n",
    "    \n",
    "    def get_feedback(self, feedback, num_trials, trial):\n",
    "        self.current_feedback = feedback\n",
    "        if self.current_feedback == 0:\n",
    "            self.win = True\n",
    "            self.history.append(num_trials)\n",
    "        elif self.current_feedback < 0:\n",
    "            self.s = trial\n",
    "        else:\n",
    "            self.e= trial\n",
    "\n",
    "\n",
    "class OnePlayer(Player):\n",
    "    \n",
    "    def __init__(self):\n",
    "        super(onePlayer, self).__init__()\n",
    "    "
   ]
  },
  {
   "cell_type": "code",
   "execution_count": 46,
   "id": "1fa63f76",
   "metadata": {},
   "outputs": [
    {
     "name": "stdout",
     "output_type": "stream",
     "text": [
      "None False None False\n",
      "-1 False 0 True\n"
     ]
    }
   ],
   "source": [
    "start, end = 0, 100\n",
    "p = Player()\n",
    "s = SmartPlayer()\n",
    "x = Player()\n",
    "y = SmartPlayer()\n",
    "print(p.current_feedback, p.win, s.current_feedback, s.win)\n",
    "d = Dealer(start, end, players=[p, s, x, y])\n",
    "d.simulation(max_iterations=100, num_sim=1000)\n",
    "print(p.current_feedback, p.win, s.current_feedback, s.win)"
   ]
  },
  {
   "cell_type": "code",
   "execution_count": 47,
   "id": "09311278",
   "metadata": {},
   "outputs": [
    {
     "name": "stdout",
     "output_type": "stream",
     "text": [
      "62.067\n",
      "7.783\n",
      "62.614\n",
      "7.772\n"
     ]
    }
   ],
   "source": [
    "for k in [p, s, x, y]:\n",
    "    print(np.array(k.history).mean())"
   ]
  },
  {
   "cell_type": "code",
   "execution_count": 44,
   "id": "77d43a92",
   "metadata": {},
   "outputs": [
    {
     "data": {
      "text/plain": [
       "True"
      ]
     },
     "execution_count": 44,
     "metadata": {},
     "output_type": "execute_result"
    }
   ],
   "source": [
    "isinstance(s, SmartPlayer)"
   ]
  },
  {
   "cell_type": "markdown",
   "id": "f83b7198",
   "metadata": {},
   "source": [
    "## Filesystem e salvataggio file\n",
    "- creare una cartella superiore che si chiama `stats_data`\n",
    "- salvare in `stats_data` il file con i risultati che si chiamerà `guess_number`"
   ]
  },
  {
   "cell_type": "code",
   "execution_count": null,
   "id": "8e747372",
   "metadata": {},
   "outputs": [],
   "source": [
    "import os\n",
    "import json"
   ]
  },
  {
   "cell_type": "code",
   "execution_count": null,
   "id": "5ee4612c",
   "metadata": {},
   "outputs": [],
   "source": []
  },
  {
   "cell_type": "code",
   "execution_count": null,
   "id": "9283f1ce",
   "metadata": {},
   "outputs": [],
   "source": []
  },
  {
   "cell_type": "markdown",
   "id": "5bae75ab",
   "metadata": {},
   "source": [
    "## Dictionary"
   ]
  },
  {
   "cell_type": "markdown",
   "id": "5b9f10e4",
   "metadata": {},
   "source": [
    "## Gestione dell'errore\n",
    "- Concetto di eccezione\n",
    "- ``try``, ``except``, ``raise``"
   ]
  },
  {
   "cell_type": "code",
   "execution_count": null,
   "id": "6bd92620",
   "metadata": {},
   "outputs": [],
   "source": []
  },
  {
   "cell_type": "markdown",
   "id": "f181fa76",
   "metadata": {},
   "source": [
    "# Uso avanzato di liste e dizionari\n",
    "- _List slice_ e _list comprehension_\n",
    "- Il modulo <i>collections</i>: defaultdict e counter\n",
    "- Iteratori, <i>enumerate</i>, cicli"
   ]
  },
  {
   "cell_type": "code",
   "execution_count": null,
   "id": "8bc429d7",
   "metadata": {},
   "outputs": [],
   "source": []
  },
  {
   "cell_type": "markdown",
   "id": "85eaab5c",
   "metadata": {},
   "source": [
    "## Input e output da file"
   ]
  },
  {
   "cell_type": "code",
   "execution_count": null,
   "id": "2698beb7",
   "metadata": {
    "scrolled": true
   },
   "outputs": [],
   "source": []
  },
  {
   "cell_type": "code",
   "execution_count": null,
   "id": "36cc0202",
   "metadata": {},
   "outputs": [],
   "source": []
  }
 ],
 "metadata": {
  "kernelspec": {
   "display_name": "Python 3 (ipykernel)",
   "language": "python",
   "name": "python3"
  },
  "language_info": {
   "codemirror_mode": {
    "name": "ipython",
    "version": 3
   },
   "file_extension": ".py",
   "mimetype": "text/x-python",
   "name": "python",
   "nbconvert_exporter": "python",
   "pygments_lexer": "ipython3",
   "version": "3.8.8"
  },
  "toc": {
   "base_numbering": 1,
   "nav_menu": {},
   "number_sections": true,
   "sideBar": true,
   "skip_h1_title": false,
   "title_cell": "Table of Contents",
   "title_sidebar": "Contents",
   "toc_cell": false,
   "toc_position": {},
   "toc_section_display": true,
   "toc_window_display": false
  }
 },
 "nbformat": 4,
 "nbformat_minor": 5
}
