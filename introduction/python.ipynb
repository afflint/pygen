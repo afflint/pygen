{
 "cells": [
  {
   "cell_type": "markdown",
   "id": "758e9e1b",
   "metadata": {},
   "source": [
    "# Introduzione a Python\n",
    "Si veda: [https://docs.python.org/3/tutorial](https://docs.python.org/3/tutorial/)"
   ]
  },
  {
   "cell_type": "markdown",
   "id": "60210730",
   "metadata": {},
   "source": [
    "## Principi della programmazione in Python\n",
    "- Variabili e tipizzazione dinamica\n",
    "- Assenza di informazione e valori <i>None</i>"
   ]
  },
  {
   "cell_type": "code",
   "execution_count": null,
   "id": "bd7b1388",
   "metadata": {},
   "outputs": [],
   "source": [
    "a = 4\n",
    "b = 'questa è \"una\" stringa'\n",
    "c = '6'"
   ]
  },
  {
   "cell_type": "markdown",
   "id": "073042a9",
   "metadata": {},
   "source": [
    "## Tipi elementari\n",
    "- Stringhe\n",
    "- Tipi numerici\n",
    "- Date"
   ]
  },
  {
   "cell_type": "code",
   "execution_count": null,
   "id": "4332e388",
   "metadata": {},
   "outputs": [],
   "source": [
    "x = None\n",
    "x is not None"
   ]
  },
  {
   "cell_type": "markdown",
   "id": "079960de",
   "metadata": {},
   "source": [
    "## Esempio 1: Indovina un numero\n",
    "\n",
    "- *La macchina pensa un numero*\n",
    "    - *intero e entro un minimo e massimo*\n",
    "- *La macchina chiede all'utente un numero*\n",
    "- *La macchina compara il numero con quello da indovinare*\n",
    "- La macchina fornisce un feedback all'utente\n",
    "- Questa cosa va fatta fino a indovinare"
   ]
  },
  {
   "cell_type": "code",
   "execution_count": 1,
   "id": "ceeeea4f",
   "metadata": {},
   "outputs": [],
   "source": [
    "import numpy.random as rn"
   ]
  },
  {
   "cell_type": "code",
   "execution_count": 2,
   "id": "01afa999",
   "metadata": {},
   "outputs": [],
   "source": [
    "def think_number(minn=0, maxn=20):\n",
    "    x = rn.randint(low=minn, high=maxn)\n",
    "    return x"
   ]
  },
  {
   "cell_type": "markdown",
   "id": "007055fb",
   "metadata": {},
   "source": [
    "## Istruzioni condizionali\n",
    "- Flusso di esecuzione delle istruzioni\n",
    "- ``if``, ``elif`` e ``else``"
   ]
  },
  {
   "cell_type": "code",
   "execution_count": null,
   "id": "3c422215",
   "metadata": {},
   "outputs": [],
   "source": [
    "n = think_number()\n",
    "i = input('dimmi un numero: ')\n",
    "try:\n",
    "    trial = int(i)\n",
    "except ValueError:\n",
    "    i = input('HO DETTO UN NUMERO! ')\n",
    "    try:\n",
    "        trial = int(i)\n",
    "    except ValueError:\n",
    "        i = 5\n",
    "if trial == n:\n",
    "    print(\"BRAVO\")\n",
    "elif trial < n:\n",
    "    print(\"Numero troppo basso\")\n",
    "else:\n",
    "    print(\"Numero troppo alto\")\n",
    "print(n)\n"
   ]
  },
  {
   "cell_type": "markdown",
   "id": "ef216313",
   "metadata": {},
   "source": [
    "## Cicli\n",
    "- istruzione `while`\n",
    "- istruzione `for`"
   ]
  },
  {
   "cell_type": "code",
   "execution_count": 3,
   "id": "5662b017",
   "metadata": {},
   "outputs": [],
   "source": [
    "from IPython.display import clear_output\n",
    "import time"
   ]
  },
  {
   "cell_type": "code",
   "execution_count": 4,
   "id": "dbeee53c",
   "metadata": {},
   "outputs": [
    {
     "name": "stdout",
     "output_type": "stream",
     "text": [
      "1\n",
      "2\n",
      "3\n",
      "4\n",
      "5\n"
     ]
    }
   ],
   "source": [
    "x = 0\n",
    "while x <= 4:\n",
    "    x = x + 1\n",
    "    print(x)"
   ]
  },
  {
   "cell_type": "code",
   "execution_count": 10,
   "id": "9f791aa4",
   "metadata": {},
   "outputs": [
    {
     "name": "stdout",
     "output_type": "stream",
     "text": [
      "2\n",
      "4\n",
      "6\n",
      "8\n"
     ]
    }
   ],
   "source": [
    "for x in range(2, 10, 2):\n",
    "    print(x)"
   ]
  },
  {
   "cell_type": "code",
   "execution_count": 12,
   "id": "83c89a69",
   "metadata": {},
   "outputs": [
    {
     "name": "stdout",
     "output_type": "stream",
     "text": [
      "Partita numero  0\n",
      "dimmi un numero: 6\n",
      "Numero troppo alto\n",
      "Partita numero  1\n",
      "dimmi un numero: 6\n",
      "Numero troppo alto\n",
      "Partita numero  2\n",
      "dimmi un numero: 6\n",
      "Numero troppo alto\n",
      "Partita numero  3\n",
      "dimmi un numero: 6\n",
      "Numero troppo alto\n",
      "Partita numero  4\n",
      "dimmi un numero: 6\n",
      "Numero troppo alto\n",
      "Partita numero  5\n",
      "dimmi un numero: 6\n",
      "Numero troppo alto\n",
      "1\n"
     ]
    }
   ],
   "source": [
    "n = think_number()\n",
    "m = 6\n",
    "for iteration in range(m):\n",
    "    # clear_output(wait=True)\n",
    "    print('Partita numero ', iteration)\n",
    "    i = input('dimmi un numero: ')\n",
    "    try:\n",
    "        trial = int(i)\n",
    "    except ValueError:\n",
    "        i = input('HO DETTO UN NUMERO! ')\n",
    "        try:\n",
    "            trial = int(i)\n",
    "        except ValueError:\n",
    "            i = 5\n",
    "    if trial == n:\n",
    "        print(\"BRAVO\")\n",
    "        break\n",
    "    elif trial < n:\n",
    "        print(\"Numero troppo basso\")\n",
    "    else:\n",
    "        print(\"Numero troppo alto\")\n",
    "    # time.sleep(10)\n",
    "print(n)"
   ]
  },
  {
   "cell_type": "markdown",
   "id": "c3a0ff24",
   "metadata": {},
   "source": [
    "## Simulatore\n",
    "- modificare `number_game` per prendere input e dare output a un'altra funzione\n",
    "- implementare una funzione per giocare\n",
    "    - più stategie di gioco\n",
    "    - raccolta statistiche (numero di tentativi per partita)"
   ]
  },
  {
   "cell_type": "code",
   "execution_count": 17,
   "id": "a36e1606",
   "metadata": {},
   "outputs": [],
   "source": [
    "import numpy as np"
   ]
  },
  {
   "cell_type": "code",
   "execution_count": 93,
   "id": "b562944a",
   "metadata": {},
   "outputs": [],
   "source": [
    "def init_game(start = 1, end = 10):\n",
    "    n = rn.randint(start, end)\n",
    "    return n\n",
    "\n",
    "def evaluate_guess(trial, correct_number):\n",
    "    return np.sign(trial - correct_number)\n",
    "\n",
    "def random_player(start, end, correct_number, max_iterations):\n",
    "    final = max_iterations\n",
    "    for game in range(max_iterations):\n",
    "        trial = rn.randint(start, end)\n",
    "        feedback = evaluate_guess(trial, correct_number)\n",
    "        if feedback == 0:\n",
    "            final = game\n",
    "            break\n",
    "    return final\n",
    "\n",
    "def one_player(start, end, correct_number, max_iterations):\n",
    "    final = max_iterations\n",
    "    for game in range(max_iterations):\n",
    "        trial = rn.randint(start, end)\n",
    "        feedback = evaluate_guess(trial, correct_number)\n",
    "        if feedback == 0:\n",
    "            final = game\n",
    "            break\n",
    "        if feedback < 0:\n",
    "            start = trial\n",
    "        else:\n",
    "            end = trial\n",
    "    return final"
   ]
  },
  {
   "cell_type": "code",
   "execution_count": 94,
   "id": "413594c5",
   "metadata": {},
   "outputs": [],
   "source": [
    "s, e, i = 0, 100, 500\n",
    "n = init_game(s, e)\n",
    "history_rp = []\n",
    "history_op = []\n",
    "for test in range(1000):\n",
    "    o = random_player(s, e, n, i)\n",
    "    j = one_player(s, e, n, i)\n",
    "    history_rp.append(o)\n",
    "    history_op.append(j)    "
   ]
  },
  {
   "cell_type": "code",
   "execution_count": 95,
   "id": "050c9f67",
   "metadata": {},
   "outputs": [
    {
     "data": {
      "text/plain": [
       "96.337"
      ]
     },
     "execution_count": 95,
     "metadata": {},
     "output_type": "execute_result"
    }
   ],
   "source": [
    "sum(history_rp) / len(history_rp)"
   ]
  },
  {
   "cell_type": "code",
   "execution_count": 96,
   "id": "23d06d1f",
   "metadata": {},
   "outputs": [
    {
     "data": {
      "text/plain": [
       "7.724"
      ]
     },
     "execution_count": 96,
     "metadata": {},
     "output_type": "execute_result"
    }
   ],
   "source": [
    "sum(history_op) / len(history_op)"
   ]
  },
  {
   "cell_type": "markdown",
   "id": "51c38588",
   "metadata": {},
   "source": [
    "## Liste"
   ]
  },
  {
   "cell_type": "code",
   "execution_count": 58,
   "id": "6c913f89",
   "metadata": {},
   "outputs": [
    {
     "name": "stdout",
     "output_type": "stream",
     "text": [
      "44\n"
     ]
    }
   ],
   "source": [
    "s = 0\n",
    "a = [2, 3, 6]\n",
    "for i, n in enumerate(a):\n",
    "    for j, k in enumerate(a[i:]):\n",
    "        s = s + n + k\n",
    "print(s)"
   ]
  },
  {
   "cell_type": "code",
   "execution_count": 84,
   "id": "e10c5f11",
   "metadata": {},
   "outputs": [],
   "source": [
    "st = 'obgect does not support'\n",
    "g = list(st)\n",
    "g[2] = 'j'\n",
    "st = \"\".join(g)"
   ]
  },
  {
   "cell_type": "code",
   "execution_count": 85,
   "id": "2078bd5e",
   "metadata": {},
   "outputs": [
    {
     "data": {
      "text/plain": [
       "'object does not support'"
      ]
     },
     "execution_count": 85,
     "metadata": {},
     "output_type": "execute_result"
    }
   ],
   "source": [
    "st"
   ]
  },
  {
   "cell_type": "code",
   "execution_count": 92,
   "id": "393de96e",
   "metadata": {},
   "outputs": [
    {
     "data": {
      "text/plain": [
       "'e;p'"
      ]
     },
     "execution_count": 92,
     "metadata": {},
     "output_type": "execute_result"
    }
   ],
   "source": [
    "\";\".join(['e', 'p'])"
   ]
  },
  {
   "cell_type": "markdown",
   "id": "6132e071",
   "metadata": {},
   "source": [
    "# Programmazione a oggetti"
   ]
  },
  {
   "cell_type": "code",
   "execution_count": null,
   "id": "fd0b63f4",
   "metadata": {},
   "outputs": [],
   "source": []
  },
  {
   "cell_type": "markdown",
   "id": "f83b7198",
   "metadata": {},
   "source": [
    "## Filesystem e salvataggio file\n",
    "- creare una cartella superiore che si chiama `stats_data`\n",
    "- salvare in `stats_data` il file con i risultati che si chiamerà `guess_number`"
   ]
  },
  {
   "cell_type": "code",
   "execution_count": null,
   "id": "8e747372",
   "metadata": {},
   "outputs": [],
   "source": [
    "import os\n",
    "import json"
   ]
  },
  {
   "cell_type": "code",
   "execution_count": null,
   "id": "5ee4612c",
   "metadata": {},
   "outputs": [],
   "source": []
  },
  {
   "cell_type": "code",
   "execution_count": null,
   "id": "9283f1ce",
   "metadata": {},
   "outputs": [],
   "source": []
  },
  {
   "cell_type": "markdown",
   "id": "5bae75ab",
   "metadata": {},
   "source": [
    "## Dictionary"
   ]
  },
  {
   "cell_type": "markdown",
   "id": "5b9f10e4",
   "metadata": {},
   "source": [
    "## Gestione dell'errore\n",
    "- Concetto di eccezione\n",
    "- ``try``, ``except``, ``raise``"
   ]
  },
  {
   "cell_type": "code",
   "execution_count": null,
   "id": "6bd92620",
   "metadata": {},
   "outputs": [],
   "source": []
  },
  {
   "cell_type": "markdown",
   "id": "f181fa76",
   "metadata": {},
   "source": [
    "# Uso avanzato di liste e dizionari\n",
    "- _List slice_ e _list comprehension_\n",
    "- Il modulo <i>collections</i>: defaultdict e counter\n",
    "- Iteratori, <i>enumerate</i>, cicli"
   ]
  },
  {
   "cell_type": "code",
   "execution_count": null,
   "id": "8bc429d7",
   "metadata": {},
   "outputs": [],
   "source": []
  },
  {
   "cell_type": "markdown",
   "id": "85eaab5c",
   "metadata": {},
   "source": [
    "## Input e output da file"
   ]
  },
  {
   "cell_type": "code",
   "execution_count": null,
   "id": "2698beb7",
   "metadata": {
    "scrolled": true
   },
   "outputs": [],
   "source": []
  },
  {
   "cell_type": "code",
   "execution_count": null,
   "id": "36cc0202",
   "metadata": {},
   "outputs": [],
   "source": []
  }
 ],
 "metadata": {
  "kernelspec": {
   "display_name": "Python 3 (ipykernel)",
   "language": "python",
   "name": "python3"
  },
  "language_info": {
   "codemirror_mode": {
    "name": "ipython",
    "version": 3
   },
   "file_extension": ".py",
   "mimetype": "text/x-python",
   "name": "python",
   "nbconvert_exporter": "python",
   "pygments_lexer": "ipython3",
   "version": "3.8.8"
  },
  "toc": {
   "base_numbering": 1,
   "nav_menu": {},
   "number_sections": true,
   "sideBar": true,
   "skip_h1_title": false,
   "title_cell": "Table of Contents",
   "title_sidebar": "Contents",
   "toc_cell": false,
   "toc_position": {},
   "toc_section_display": true,
   "toc_window_display": false
  }
 },
 "nbformat": 4,
 "nbformat_minor": 5
}
