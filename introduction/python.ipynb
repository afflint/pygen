{
 "cells": [
  {
   "cell_type": "markdown",
   "id": "758e9e1b",
   "metadata": {},
   "source": [
    "# Introduzione a Python\n",
    "Si veda: [https://docs.python.org/3/tutorial](https://docs.python.org/3/tutorial/)"
   ]
  },
  {
   "cell_type": "markdown",
   "id": "60210730",
   "metadata": {},
   "source": [
    "## Principi della programmazione in Python\n",
    "- Variabili e tipizzazione dinamica\n",
    "- Assenza di informazione e valori <i>None</i>"
   ]
  },
  {
   "cell_type": "code",
   "execution_count": 7,
   "id": "bd7b1388",
   "metadata": {},
   "outputs": [],
   "source": [
    "a = 4\n",
    "b = 'questa è \"una\" stringa'\n",
    "c = '6'"
   ]
  },
  {
   "cell_type": "markdown",
   "id": "073042a9",
   "metadata": {},
   "source": [
    "## Tipi elementari\n",
    "- Stringhe\n",
    "- Tipi numerici\n",
    "- Date"
   ]
  },
  {
   "cell_type": "code",
   "execution_count": 18,
   "id": "4332e388",
   "metadata": {},
   "outputs": [
    {
     "data": {
      "text/plain": [
       "False"
      ]
     },
     "execution_count": 18,
     "metadata": {},
     "output_type": "execute_result"
    }
   ],
   "source": [
    "x = None\n",
    "x is not None"
   ]
  },
  {
   "cell_type": "markdown",
   "id": "079960de",
   "metadata": {},
   "source": [
    "## Esempio 1: Indovina un numero\n",
    "\n",
    "- *La macchina pensa un numero*\n",
    "    - *intero e entro un minimo e massimo*\n",
    "- *La macchina chiede all'utente un numero*\n",
    "- *La macchina compara il numero con quello da indovinare*\n",
    "- La macchina fornisce un feedback all'utente\n",
    "- Questa cosa va fatta fino a indovinare"
   ]
  },
  {
   "cell_type": "code",
   "execution_count": 24,
   "id": "ceeeea4f",
   "metadata": {},
   "outputs": [],
   "source": [
    "import numpy.random as rn"
   ]
  },
  {
   "cell_type": "code",
   "execution_count": 53,
   "id": "01afa999",
   "metadata": {},
   "outputs": [],
   "source": [
    "def think_number(minn=0, maxn=20):\n",
    "    x = rn.randint(low=minn, high=maxn)\n",
    "    return x"
   ]
  },
  {
   "cell_type": "code",
   "execution_count": 64,
   "id": "3c422215",
   "metadata": {},
   "outputs": [
    {
     "name": "stdout",
     "output_type": "stream",
     "text": [
      "dimmi un numero: 6\n",
      "Numero troppo alto\n",
      "4\n"
     ]
    }
   ],
   "source": [
    "n = think_number()\n",
    "i = input('dimmi un numero: ')\n",
    "try:\n",
    "    trial = int(i)\n",
    "except ValueError:\n",
    "    i = input('HO DETTO UN NUMERO! ')\n",
    "    try:\n",
    "        trial = int(i)\n",
    "    except ValueError:\n",
    "        i = 5\n",
    "if trial == n:\n",
    "    print(\"BRAVO\")\n",
    "elif trial < n:\n",
    "    print(\"Numero troppo basso\")\n",
    "else:\n",
    "    print(\"Numero troppo alto\")\n",
    "print(n)\n",
    "# commento"
   ]
  },
  {
   "cell_type": "markdown",
   "id": "007055fb",
   "metadata": {},
   "source": [
    "## Istruzioni condizionali\n",
    "- Flusso di esecuzione delle istruzioni\n",
    "- ``if``, ``elif`` e ``else``"
   ]
  },
  {
   "cell_type": "code",
   "execution_count": 4,
   "id": "99819b92",
   "metadata": {},
   "outputs": [],
   "source": [
    "import random as rdn"
   ]
  },
  {
   "cell_type": "code",
   "execution_count": 5,
   "id": "ee32d8ff",
   "metadata": {},
   "outputs": [],
   "source": [
    "def number_game(start = 1, end = 10):\n",
    "    pass"
   ]
  },
  {
   "cell_type": "markdown",
   "id": "96ea6dae",
   "metadata": {},
   "source": [
    "### Esercizio 1: Indovina il numero\n",
    "- Modulo ``random``\n",
    "- Istruzioni condizionali\n",
    "- Ciclo ``while``\n",
    "- Istruzione ``input``"
   ]
  },
  {
   "cell_type": "code",
   "execution_count": 6,
   "id": "43e6b073",
   "metadata": {},
   "outputs": [],
   "source": [
    "import random"
   ]
  },
  {
   "cell_type": "code",
   "execution_count": null,
   "id": "daa426de",
   "metadata": {},
   "outputs": [],
   "source": []
  },
  {
   "cell_type": "markdown",
   "id": "c3a0ff24",
   "metadata": {},
   "source": [
    "## Simulatore\n",
    "- modificare `number_game` per prendere input e dare output a un'altra funzione\n",
    "- implementare una funzione per giocare\n",
    "    - più stategie di gioco\n",
    "    - raccolta statistiche (numero di tentativi per partita)"
   ]
  },
  {
   "cell_type": "code",
   "execution_count": 7,
   "id": "9c410017",
   "metadata": {},
   "outputs": [],
   "source": []
  },
  {
   "cell_type": "code",
   "execution_count": 8,
   "id": "b562944a",
   "metadata": {},
   "outputs": [],
   "source": [
    "def init_game(start = 1, end = 10):\n",
    "    pass\n",
    "\n",
    "def evaluate_guess(trial, correct_number):\n",
    "    pass\n",
    "\n",
    "def random_player(start, end, correct_number, max_iterations):\n",
    "    pass\n",
    "\n",
    "def one_player(start, end, correct_number, max_iterations):\n",
    "    pass"
   ]
  },
  {
   "cell_type": "markdown",
   "id": "6132e071",
   "metadata": {},
   "source": [
    "# Programmazione a oggetti"
   ]
  },
  {
   "cell_type": "code",
   "execution_count": 15,
   "id": "fd0b63f4",
   "metadata": {},
   "outputs": [],
   "source": []
  },
  {
   "cell_type": "markdown",
   "id": "f83b7198",
   "metadata": {},
   "source": [
    "## Filesystem e salvataggio file\n",
    "- creare una cartella superiore che si chiama `stats_data`\n",
    "- salvare in `stats_data` il file con i risultati che si chiamerà `guess_number`"
   ]
  },
  {
   "cell_type": "code",
   "execution_count": 114,
   "id": "8e747372",
   "metadata": {},
   "outputs": [],
   "source": [
    "import os\n",
    "import json"
   ]
  },
  {
   "cell_type": "code",
   "execution_count": 116,
   "id": "5ee4612c",
   "metadata": {},
   "outputs": [],
   "source": []
  },
  {
   "cell_type": "code",
   "execution_count": 118,
   "id": "9283f1ce",
   "metadata": {},
   "outputs": [],
   "source": []
  },
  {
   "cell_type": "markdown",
   "id": "5bae75ab",
   "metadata": {},
   "source": [
    "## Dictionary"
   ]
  },
  {
   "cell_type": "markdown",
   "id": "5b9f10e4",
   "metadata": {},
   "source": [
    "## Gestione dell'errore\n",
    "- Concetto di eccezione\n",
    "- ``try``, ``except``, ``raise``"
   ]
  },
  {
   "cell_type": "code",
   "execution_count": null,
   "id": "6bd92620",
   "metadata": {},
   "outputs": [],
   "source": []
  },
  {
   "cell_type": "markdown",
   "id": "f181fa76",
   "metadata": {},
   "source": [
    "# Uso avanzato di liste e dizionari\n",
    "- _List slice_ e _list comprehension_\n",
    "- Il modulo <i>collections</i>: defaultdict e counter\n",
    "- Iteratori, <i>enumerate</i>, cicli"
   ]
  },
  {
   "cell_type": "code",
   "execution_count": null,
   "id": "8bc429d7",
   "metadata": {},
   "outputs": [],
   "source": []
  },
  {
   "cell_type": "markdown",
   "id": "85eaab5c",
   "metadata": {},
   "source": [
    "## Input e output da file"
   ]
  },
  {
   "cell_type": "code",
   "execution_count": null,
   "id": "2698beb7",
   "metadata": {
    "scrolled": true
   },
   "outputs": [],
   "source": []
  },
  {
   "cell_type": "code",
   "execution_count": null,
   "id": "36cc0202",
   "metadata": {},
   "outputs": [],
   "source": []
  }
 ],
 "metadata": {
  "kernelspec": {
   "display_name": "Python 3 (ipykernel)",
   "language": "python",
   "name": "python3"
  },
  "language_info": {
   "codemirror_mode": {
    "name": "ipython",
    "version": 3
   },
   "file_extension": ".py",
   "mimetype": "text/x-python",
   "name": "python",
   "nbconvert_exporter": "python",
   "pygments_lexer": "ipython3",
   "version": "3.8.8"
  },
  "toc": {
   "base_numbering": 1,
   "nav_menu": {},
   "number_sections": true,
   "sideBar": true,
   "skip_h1_title": false,
   "title_cell": "Table of Contents",
   "title_sidebar": "Contents",
   "toc_cell": false,
   "toc_position": {},
   "toc_section_display": true,
   "toc_window_display": false
  }
 },
 "nbformat": 4,
 "nbformat_minor": 5
}
