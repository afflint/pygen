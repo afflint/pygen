{
 "cells": [
  {
   "cell_type": "markdown",
   "id": "758e9e1b",
   "metadata": {},
   "source": [
    "# Introduzione a Python\n",
    "Si veda: [https://docs.python.org/3/tutorial](https://docs.python.org/3/tutorial/)"
   ]
  },
  {
   "cell_type": "markdown",
   "id": "60210730",
   "metadata": {},
   "source": [
    "## Principi della programmazione in Python\n",
    "- Variabili e tipizzazione dinamica\n",
    "- Assenza di informazione e valori <i>None</i>"
   ]
  },
  {
   "cell_type": "code",
   "execution_count": 1,
   "id": "bd7b1388",
   "metadata": {},
   "outputs": [
    {
     "name": "stdout",
     "output_type": "stream",
     "text": [
      "10\n"
     ]
    }
   ],
   "source": [
    "a = 4\n",
    "b = \"6\"\n",
    "c = int(b)\n",
    "print(a + c)"
   ]
  },
  {
   "cell_type": "markdown",
   "id": "073042a9",
   "metadata": {},
   "source": [
    "## Tipi elementari\n",
    "- Stringhe\n",
    "- Tipi numerici\n",
    "- Date"
   ]
  },
  {
   "cell_type": "code",
   "execution_count": 2,
   "id": "4332e388",
   "metadata": {},
   "outputs": [],
   "source": [
    "a = 'Tipi elementari'\n",
    "c = list(a)\n",
    "c[4] = \"_\""
   ]
  },
  {
   "cell_type": "code",
   "execution_count": 3,
   "id": "7a437282",
   "metadata": {},
   "outputs": [],
   "source": [
    "c = \"\".join(c)"
   ]
  },
  {
   "cell_type": "markdown",
   "id": "6a66348e",
   "metadata": {},
   "source": [
    "### Requisiti di 'Indovina un numero'\n",
    "- variabile per il numero da individuare\n",
    "- funzione che genera un numero casuale\n",
    "- variabile in cui mettiamo il tentativo\n",
    "- ciclo\n",
    "- funzione di output\n",
    "- funzione di input\n",
    "- istruzioni condizionali"
   ]
  },
  {
   "cell_type": "markdown",
   "id": "007055fb",
   "metadata": {},
   "source": [
    "## Istruzioni condizionali\n",
    "- Flusso di esecuzione delle istruzioni\n",
    "- ``if``, ``elif`` e ``else``"
   ]
  },
  {
   "cell_type": "code",
   "execution_count": 4,
   "id": "99819b92",
   "metadata": {},
   "outputs": [],
   "source": [
    "import random as rdn"
   ]
  },
  {
   "cell_type": "code",
   "execution_count": 5,
   "id": "ee32d8ff",
   "metadata": {},
   "outputs": [],
   "source": [
    "def number_game(start = 1, end = 10):\n",
    "    number = rdn.randint(start, end)\n",
    "    guess = start - 1\n",
    "    trials = 0\n",
    "    while guess != number:\n",
    "        trials += 1\n",
    "        guess = int(input(\"Prova a indovinare\"))\n",
    "        if guess < number:\n",
    "            print('troppo basso')\n",
    "        elif guess > number:\n",
    "            print('troppo alto')\n",
    "    print('hai indovinato')\n",
    "    print('qui abbiamo finito')\n",
    "    return trials"
   ]
  },
  {
   "cell_type": "code",
   "execution_count": null,
   "id": "810fd025",
   "metadata": {},
   "outputs": [],
   "source": [
    "trials = number_game(end=6)"
   ]
  },
  {
   "cell_type": "code",
   "execution_count": null,
   "id": "4a54083b",
   "metadata": {},
   "outputs": [],
   "source": [
    "trials"
   ]
  },
  {
   "cell_type": "markdown",
   "id": "96ea6dae",
   "metadata": {},
   "source": [
    "### Esercizio 1: Indovina il numero\n",
    "- Modulo ``random``\n",
    "- Istruzioni condizionali\n",
    "- Ciclo ``while``\n",
    "- Istruzione ``input``"
   ]
  },
  {
   "cell_type": "code",
   "execution_count": 6,
   "id": "43e6b073",
   "metadata": {},
   "outputs": [],
   "source": [
    "import random"
   ]
  },
  {
   "cell_type": "code",
   "execution_count": null,
   "id": "daa426de",
   "metadata": {},
   "outputs": [],
   "source": [
    "x = 10\n",
    "number = random.randint(1, x)\n",
    "trial = 0\n",
    "while trial != number:\n",
    "    trial = int(input('Indovina il numero fra 1 e {}'.format(x)))\n",
    "    if trial < number:\n",
    "        print('Troppo basso')\n",
    "    elif trial > number:\n",
    "        print('Troppo alto')\n",
    "print('Perfetto, il numero era {}'.format(trial))"
   ]
  },
  {
   "cell_type": "markdown",
   "id": "c3a0ff24",
   "metadata": {},
   "source": [
    "## Simulatore\n",
    "- modificare `number_game` per prendere input e dare output a un'altra funzione\n",
    "- implementare una funzione per giocare\n",
    "    - più stategie di gioco\n",
    "    - raccolta statistiche (numero di tentativi per partita)"
   ]
  },
  {
   "cell_type": "code",
   "execution_count": 7,
   "id": "9c410017",
   "metadata": {},
   "outputs": [],
   "source": [
    "from tqdm.notebook import tqdm\n",
    "import time"
   ]
  },
  {
   "cell_type": "code",
   "execution_count": 8,
   "id": "b562944a",
   "metadata": {},
   "outputs": [],
   "source": [
    "def init_game(start = 1, end = 10):\n",
    "    number = rdn.randint(start, end)\n",
    "    return number\n",
    "\n",
    "def evaluate_guess(trial, correct_number):\n",
    "    return trial - correct_number\n",
    "\n",
    "def random_player(start, end, correct_number, max_iterations):\n",
    "    for iteration in range(max_iterations):\n",
    "        trial = rdn.randint(start, end)\n",
    "        feedback = evaluate_guess(trial, correct_number)\n",
    "        if feedback == 0:\n",
    "            break\n",
    "    return iteration + 1, (iteration + 1) / max_iterations\n",
    "\n",
    "def one_player(start, end, correct_number, max_iterations):\n",
    "    trial = rdn.randint(start, end)\n",
    "    for iteration in range(max_iterations):\n",
    "        feedback = evaluate_guess(trial, correct_number)\n",
    "        if feedback == 0:\n",
    "            break\n",
    "        elif feedback > 0:\n",
    "            trial = trial - 1\n",
    "        else:\n",
    "            trial += 1\n",
    "    return iteration + 1, (iteration + 1) / max_iterations"
   ]
  },
  {
   "cell_type": "code",
   "execution_count": 9,
   "id": "0a7690d7",
   "metadata": {},
   "outputs": [
    {
     "data": {
      "application/vnd.jupyter.widget-view+json": {
       "model_id": "02e18a737ed24fd29d14390ec8432705",
       "version_major": 2,
       "version_minor": 0
      },
      "text/plain": [
       "  0%|          | 0/1000 [00:00<?, ?it/s]"
      ]
     },
     "metadata": {},
     "output_type": "display_data"
    }
   ],
   "source": [
    "start, end = 1, 20\n",
    "history_rp = []\n",
    "history_op = []\n",
    "for game in tqdm(range(1000)):\n",
    "    n = init_game(start=start, end=end)\n",
    "    num_trials_rp, _ = random_player(correct_number=n, start=start, end=end, max_iterations=100)\n",
    "    history_rp.append(num_trials_rp)\n",
    "    num_trials_op, _ = one_player(correct_number=n, start=start, end=end, max_iterations=100)\n",
    "    history_op.append(num_trials_op)"
   ]
  },
  {
   "cell_type": "code",
   "execution_count": null,
   "id": "752fe2d8",
   "metadata": {},
   "outputs": [],
   "source": [
    "sum(history_rp) / len(history_rp), sum(history_op) / len(history_op)"
   ]
  },
  {
   "cell_type": "markdown",
   "id": "6132e071",
   "metadata": {},
   "source": [
    "# Programmazione a oggetti"
   ]
  },
  {
   "cell_type": "code",
   "execution_count": 15,
   "id": "fd0b63f4",
   "metadata": {},
   "outputs": [],
   "source": [
    "class Emul(object):\n",
    "    \n",
    "    def __init__(self, start=1, end=10):\n",
    "        self.start = start\n",
    "        self.end = end\n",
    "        self._n = rdn.randint(start, end)\n",
    "        \n",
    "    def print_parameters(self):\n",
    "        print(self.start, self.end)\n",
    "        \n",
    "    def evaluate_guess(self, trial):\n",
    "        return trial - self._n\n",
    "        \n",
    "    def __str__(self):\n",
    "        return \"emulator with start={} and end={}\".format(self.start, self.end)\n",
    "    \n",
    "    def __repr__(self):\n",
    "        return self.__str__()\n",
    "    \n",
    "    \n",
    "class Player(object):\n",
    "    \n",
    "    def __init__(self, emulator: Emul, max_trials: int):\n",
    "        self.e = emulator\n",
    "        self.max_trials = max_trials\n",
    "        self.trial = rdn.randint(self.e.start, self.e.end)\n",
    "        self.name = 'Generic Player'\n",
    "    \n",
    "    def play(self):\n",
    "        for t in range(self.max_trials):\n",
    "            feedback = self.e.evaluate_guess(self.trial)\n",
    "            if feedback == 0:\n",
    "                break\n",
    "            else:\n",
    "                self._next_trial(feedback=feedback)\n",
    "        return t\n",
    "    \n",
    "    def _next_trial(self, feedback=None):\n",
    "        pass\n",
    "\n",
    "\n",
    "class RandomPlayer(Player):\n",
    "    \n",
    "    def __init__(self, emulator: Emul, max_trials: int):\n",
    "        super(RandomPlayer, self).__init__(emulator=emulator, max_trials=max_trials)\n",
    "        self.name = 'RandomPlayer'\n",
    "        \n",
    "    def _next_trial(self, feedback=None):\n",
    "        self.trial = rdn.randint(self.e.start, self.e.end)\n",
    "\n",
    "        \n",
    "class OnePlayer(Player):\n",
    "    \n",
    "    def __init__(self, emulator: Emul, max_trials: int):\n",
    "        super(OnePlayer, self).__init__(emulator=emulator, max_trials=max_trials)\n",
    "        self.name = 'OnePlayer'\n",
    "        \n",
    "    def _next_trial(self, feedback=None):\n",
    "        if feedback > 0:\n",
    "            self.trial = self.trial - 1\n",
    "        else:\n",
    "            self.trial = self.trial + 1"
   ]
  },
  {
   "cell_type": "code",
   "execution_count": 16,
   "id": "7985188d",
   "metadata": {},
   "outputs": [],
   "source": [
    "martina = Emul(start=1, end=200)\n",
    "alfio_random = RandomPlayer(martina, max_trials=1000)\n",
    "alfio_one = OnePlayer(martina, max_trials=1000)"
   ]
  },
  {
   "cell_type": "code",
   "execution_count": 89,
   "id": "b1f0e3f6",
   "metadata": {},
   "outputs": [],
   "source": [
    "from collections import defaultdict"
   ]
  },
  {
   "cell_type": "code",
   "execution_count": 112,
   "id": "ed140255",
   "metadata": {},
   "outputs": [],
   "source": [
    "stats = defaultdict(list)\n",
    "start, end = 1, 20\n",
    "max_trials = 100\n",
    "number_experiments = 5000\n",
    "rp2 = RandomPlayer(experiments[0], max_trials)\n",
    "rp2.name = 'Random2'\n",
    "experiments = [Emul(start=start, end=end) for x in range(number_experiments)]\n",
    "players = [RandomPlayer(experiments[0], max_trials), rp2,\n",
    "           OnePlayer(experiments[0], max_trials)]\n",
    "\n",
    "for e in experiments:\n",
    "    for player in players:\n",
    "        player.e = e\n",
    "        n = player.play()\n",
    "        stats[player.name].append(n)"
   ]
  },
  {
   "cell_type": "code",
   "execution_count": 113,
   "id": "d8fbbe16",
   "metadata": {},
   "outputs": [
    {
     "name": "stdout",
     "output_type": "stream",
     "text": [
      "RandomPlayer 5000\n",
      "Random2 5000\n",
      "OnePlayer 5000\n"
     ]
    }
   ],
   "source": [
    "for k, v in stats.items():\n",
    "    print(k, len(v))"
   ]
  },
  {
   "cell_type": "markdown",
   "id": "f83b7198",
   "metadata": {},
   "source": [
    "## Filesystem e salvataggio file\n",
    "- creare una cartella superiore che si chiama `stats_data`\n",
    "- salvare in `stats_data` il file con i risultati che si chiamerà `guess_number`"
   ]
  },
  {
   "cell_type": "code",
   "execution_count": 114,
   "id": "8e747372",
   "metadata": {},
   "outputs": [],
   "source": [
    "import os\n",
    "import json"
   ]
  },
  {
   "cell_type": "code",
   "execution_count": 116,
   "id": "5ee4612c",
   "metadata": {},
   "outputs": [],
   "source": [
    "stats = dict(stats)"
   ]
  },
  {
   "cell_type": "code",
   "execution_count": 118,
   "id": "9283f1ce",
   "metadata": {},
   "outputs": [],
   "source": [
    "folder = '../stats_data'\n",
    "if os.path.isdir(folder):\n",
    "    pass\n",
    "else:\n",
    "    os.mkdir(folder)\n",
    "with open(folder + os.sep + 'guess_number.json', 'w') as outfile:\n",
    "    json.dump(stats, outfile)"
   ]
  },
  {
   "cell_type": "markdown",
   "id": "5bae75ab",
   "metadata": {},
   "source": [
    "## Dictionary"
   ]
  },
  {
   "cell_type": "code",
   "execution_count": 20,
   "id": "ba0ff49d",
   "metadata": {},
   "outputs": [
    {
     "name": "stdout",
     "output_type": "stream",
     "text": [
      "ferrara\n",
      "bianchi\n"
     ]
    }
   ],
   "source": [
    "a = {'name': 'alfio', 'cognome': 'ferrara', 'eta': 47}\n",
    "print(a['cognome'])\n",
    "a['cognome'] = 'bianchi'\n",
    "print(a['cognome'])\n",
    "a['residenza'] = 'milano'"
   ]
  },
  {
   "cell_type": "code",
   "execution_count": 22,
   "id": "11082484",
   "metadata": {},
   "outputs": [
    {
     "ename": "KeyError",
     "evalue": "'indirizzo'",
     "output_type": "error",
     "traceback": [
      "\u001b[0;31m---------------------------------------------------------------------------\u001b[0m",
      "\u001b[0;31mKeyError\u001b[0m                                  Traceback (most recent call last)",
      "\u001b[0;32m/var/folders/cn/1cnswmps6xsbv3x70vr8z3v80000gn/T/ipykernel_1190/2357410798.py\u001b[0m in \u001b[0;36m<module>\u001b[0;34m\u001b[0m\n\u001b[0;32m----> 1\u001b[0;31m \u001b[0ma\u001b[0m\u001b[0;34m[\u001b[0m\u001b[0;34m'indirizzo'\u001b[0m\u001b[0;34m]\u001b[0m\u001b[0;34m\u001b[0m\u001b[0;34m\u001b[0m\u001b[0m\n\u001b[0m",
      "\u001b[0;31mKeyError\u001b[0m: 'indirizzo'"
     ]
    }
   ],
   "source": [
    "a['indirizzo']"
   ]
  },
  {
   "cell_type": "code",
   "execution_count": 27,
   "id": "474aad6e",
   "metadata": {},
   "outputs": [
    {
     "data": {
      "text/plain": [
       "{0: 23, 1: 4, 2: 6, 3: 0, 4: 10}"
      ]
     },
     "execution_count": 27,
     "metadata": {},
     "output_type": "execute_result"
    }
   ],
   "source": []
  },
  {
   "cell_type": "markdown",
   "id": "5b9f10e4",
   "metadata": {},
   "source": [
    "## Gestione dell'errore\n",
    "- Concetto di eccezione\n",
    "- ``try``, ``except``, ``raise``"
   ]
  },
  {
   "cell_type": "code",
   "execution_count": 66,
   "id": "7bac7844",
   "metadata": {},
   "outputs": [],
   "source": [
    "from collections import defaultdict"
   ]
  },
  {
   "cell_type": "code",
   "execution_count": 86,
   "id": "d42fbe95",
   "metadata": {},
   "outputs": [],
   "source": [
    "d = defaultdict(lambda: 0)\n",
    "for n in range(100):\n",
    "    d['sum'] = d['sum'] + n"
   ]
  },
  {
   "cell_type": "code",
   "execution_count": 88,
   "id": "585d8e87",
   "metadata": {},
   "outputs": [
    {
     "data": {
      "text/plain": [
       "4950"
      ]
     },
     "execution_count": 88,
     "metadata": {},
     "output_type": "execute_result"
    }
   ],
   "source": [
    "d['sum']"
   ]
  },
  {
   "cell_type": "markdown",
   "id": "5585fb2b",
   "metadata": {},
   "source": [
    "### Esercizio 2: Gioco dell'impiccato"
   ]
  },
  {
   "cell_type": "code",
   "execution_count": null,
   "id": "6bd92620",
   "metadata": {},
   "outputs": [],
   "source": []
  },
  {
   "cell_type": "markdown",
   "id": "f181fa76",
   "metadata": {},
   "source": [
    "# Uso avanzato di liste e dizionari\n",
    "- _List slice_ e _list comprehension_\n",
    "- Il modulo <i>collections</i>: defaultdict e counter\n",
    "- Iteratori, <i>enumerate</i>, cicli"
   ]
  },
  {
   "cell_type": "code",
   "execution_count": null,
   "id": "8bc429d7",
   "metadata": {},
   "outputs": [],
   "source": []
  },
  {
   "cell_type": "markdown",
   "id": "85eaab5c",
   "metadata": {},
   "source": [
    "## Input e output da file"
   ]
  },
  {
   "cell_type": "code",
   "execution_count": null,
   "id": "2698beb7",
   "metadata": {
    "scrolled": true
   },
   "outputs": [],
   "source": [
    "with open('/Users/flint/Data/yelp/text-sample/10k-text.txt', 'r') as infile:\n",
    "    lines = [line.strip() for line in infile.readlines() if line != '\\n']\n",
    "print(len(lines))"
   ]
  },
  {
   "cell_type": "markdown",
   "id": "700cf131",
   "metadata": {},
   "source": [
    "### Esercizio 4: Lettura e tokenizzazione delle recensioni di ``yelp``"
   ]
  },
  {
   "cell_type": "code",
   "execution_count": null,
   "id": "db117137",
   "metadata": {},
   "outputs": [],
   "source": []
  },
  {
   "cell_type": "markdown",
   "id": "5f038bbe",
   "metadata": {},
   "source": [
    "### Esercizio 5: Tabelle di frequenza per successioni di caratteri della lingua inglese"
   ]
  },
  {
   "cell_type": "code",
   "execution_count": null,
   "id": "36cc0202",
   "metadata": {},
   "outputs": [],
   "source": []
  },
  {
   "cell_type": "markdown",
   "id": "7f7e5aa9",
   "metadata": {},
   "source": [
    "### Esercizio 6: Generatore di parole con Markov Chain\n",
    "\n",
    "$$\n",
    "P(w_1 w_2 w_3 \\dots w_m) = \\prod\\limits_{i}^{m} P(w_i \\mid w_1, w_2, \\dots, w_{i-1})\n",
    "$$\n",
    "\n",
    "$$\n",
    "P(\\textrm{the taxi drivers are} \\dots) = P(\\textrm{the}) \\times P(\\textrm{taxi} \\mid \\textrm{the}) \\times P(\\textrm{drivers} \\mid \\textrm{the}, \\textrm{taxi}) \\times P(\\textrm{are} \\mid \\textrm{the}, \\textrm{taxi}, \\textrm{drivers}) \\times \\dots\n",
    "$$\n",
    "\n",
    "$$\n",
    "P(w_1 w_2 w_3 \\dots w_m) = \\prod\\limits_{i}^{m} P(w_i \\mid w_{i-n}, \\dots, w_{i-2}, w_{i-1})\n",
    "$$\n",
    "\n",
    "$$\n",
    "with\\ n=2: P(w_1 w_2 w_3 \\dots w_m) = \\prod\\limits_{i}^{m} P(w_i \\mid w_{i-2}, w_{i-1})\n",
    "$$"
   ]
  },
  {
   "cell_type": "code",
   "execution_count": null,
   "id": "d0ad334d",
   "metadata": {},
   "outputs": [],
   "source": []
  }
 ],
 "metadata": {
  "kernelspec": {
   "display_name": "Python 3 (ipykernel)",
   "language": "python",
   "name": "python3"
  },
  "language_info": {
   "codemirror_mode": {
    "name": "ipython",
    "version": 3
   },
   "file_extension": ".py",
   "mimetype": "text/x-python",
   "name": "python",
   "nbconvert_exporter": "python",
   "pygments_lexer": "ipython3",
   "version": "3.8.8"
  },
  "toc": {
   "base_numbering": 1,
   "nav_menu": {},
   "number_sections": true,
   "sideBar": true,
   "skip_h1_title": false,
   "title_cell": "Table of Contents",
   "title_sidebar": "Contents",
   "toc_cell": false,
   "toc_position": {},
   "toc_section_display": true,
   "toc_window_display": false
  }
 },
 "nbformat": 4,
 "nbformat_minor": 5
}
