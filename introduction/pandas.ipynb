{
 "cells": [
  {
   "cell_type": "markdown",
   "id": "087d5e32",
   "metadata": {},
   "source": [
    "# Introduction to pandas"
   ]
  },
  {
   "cell_type": "code",
   "execution_count": 2,
   "id": "27b1b7ec",
   "metadata": {},
   "outputs": [],
   "source": [
    "import pandas as pd\n",
    "import numpy as np\n",
    "from tqdm.notebook import tqdm"
   ]
  },
  {
   "cell_type": "markdown",
   "id": "119005a2",
   "metadata": {},
   "source": [
    "## Metodo dinamico"
   ]
  },
  {
   "cell_type": "code",
   "execution_count": 29,
   "id": "68bf0f51",
   "metadata": {},
   "outputs": [],
   "source": [
    "dfl = pd.DataFrame([[1.2, 2], [9, 10]], \n",
    "                  index=['riga_1', 'riga_2'],\n",
    "                  columns=['col_1', 'col_2']\n",
    "                 )"
   ]
  },
  {
   "cell_type": "code",
   "execution_count": 30,
   "id": "6145f549",
   "metadata": {},
   "outputs": [
    {
     "data": {
      "text/plain": [
       "col_1    float64\n",
       "col_2      int64\n",
       "dtype: object"
      ]
     },
     "execution_count": 30,
     "metadata": {},
     "output_type": "execute_result"
    }
   ],
   "source": [
    "dfl.dtypes"
   ]
  },
  {
   "cell_type": "code",
   "execution_count": 43,
   "id": "8cd12221",
   "metadata": {},
   "outputs": [],
   "source": [
    "dfd = pd.DataFrame([\n",
    "    {'nome': 'alfio', 'cognome': 'ferrara', 'eta': 47},\n",
    "    {'nome': 'diego', 'cognome': 'ciccone', 'eta': 41},\n",
    "])"
   ]
  },
  {
   "cell_type": "code",
   "execution_count": 45,
   "id": "bf4e7347",
   "metadata": {},
   "outputs": [
    {
     "data": {
      "text/plain": [
       "nome       object\n",
       "cognome    object\n",
       "eta         int64\n",
       "dtype: object"
      ]
     },
     "execution_count": 45,
     "metadata": {},
     "output_type": "execute_result"
    }
   ],
   "source": [
    "dfd.dtypes"
   ]
  },
  {
   "cell_type": "markdown",
   "id": "30d2b82e",
   "metadata": {},
   "source": [
    "## Metodo statico"
   ]
  },
  {
   "cell_type": "markdown",
   "id": "9918d38e",
   "metadata": {},
   "source": [
    "### Esempio Titanic\n",
    "[https://www.kaggle.com/competitions/titanic/data?select=test.csv](https://www.kaggle.com/competitions/titanic/data?select=test.csv)"
   ]
  },
  {
   "cell_type": "code",
   "execution_count": 51,
   "id": "fc957814",
   "metadata": {},
   "outputs": [],
   "source": [
    "titanic_file = '/Users/flint/Data/kaggle/titanic/train.csv'"
   ]
  },
  {
   "cell_type": "code",
   "execution_count": 52,
   "id": "6f1e3eb2",
   "metadata": {},
   "outputs": [],
   "source": [
    "def sex_conv(x):\n",
    "    if x == 'male':\n",
    "        return 'M'\n",
    "    elif x == 'female':\n",
    "        return 'F'\n",
    "    else:\n",
    "        return np.nan\n",
    "\n",
    "converter = {\n",
    "    'Sex': sex_conv\n",
    "}"
   ]
  },
  {
   "cell_type": "code",
   "execution_count": 53,
   "id": "7e6af263",
   "metadata": {},
   "outputs": [],
   "source": [
    "dft = pd.read_csv(titanic_file, converters=converter)"
   ]
  },
  {
   "cell_type": "code",
   "execution_count": 57,
   "id": "a0fc6fa7",
   "metadata": {},
   "outputs": [
    {
     "data": {
      "text/html": [
       "<div>\n",
       "<style scoped>\n",
       "    .dataframe tbody tr th:only-of-type {\n",
       "        vertical-align: middle;\n",
       "    }\n",
       "\n",
       "    .dataframe tbody tr th {\n",
       "        vertical-align: top;\n",
       "    }\n",
       "\n",
       "    .dataframe thead th {\n",
       "        text-align: right;\n",
       "    }\n",
       "</style>\n",
       "<table border=\"1\" class=\"dataframe\">\n",
       "  <thead>\n",
       "    <tr style=\"text-align: right;\">\n",
       "      <th></th>\n",
       "      <th>PassengerId</th>\n",
       "      <th>Survived</th>\n",
       "      <th>Pclass</th>\n",
       "      <th>Name</th>\n",
       "      <th>Sex</th>\n",
       "      <th>Age</th>\n",
       "      <th>SibSp</th>\n",
       "      <th>Parch</th>\n",
       "      <th>Ticket</th>\n",
       "      <th>Fare</th>\n",
       "      <th>Cabin</th>\n",
       "      <th>Embarked</th>\n",
       "    </tr>\n",
       "  </thead>\n",
       "  <tbody>\n",
       "    <tr>\n",
       "      <th>889</th>\n",
       "      <td>890</td>\n",
       "      <td>1</td>\n",
       "      <td>1</td>\n",
       "      <td>Behr, Mr. Karl Howell</td>\n",
       "      <td>M</td>\n",
       "      <td>26.0</td>\n",
       "      <td>0</td>\n",
       "      <td>0</td>\n",
       "      <td>111369</td>\n",
       "      <td>30.00</td>\n",
       "      <td>C148</td>\n",
       "      <td>C</td>\n",
       "    </tr>\n",
       "    <tr>\n",
       "      <th>890</th>\n",
       "      <td>891</td>\n",
       "      <td>0</td>\n",
       "      <td>3</td>\n",
       "      <td>Dooley, Mr. Patrick</td>\n",
       "      <td>M</td>\n",
       "      <td>32.0</td>\n",
       "      <td>0</td>\n",
       "      <td>0</td>\n",
       "      <td>370376</td>\n",
       "      <td>7.75</td>\n",
       "      <td>NaN</td>\n",
       "      <td>Q</td>\n",
       "    </tr>\n",
       "  </tbody>\n",
       "</table>\n",
       "</div>"
      ],
      "text/plain": [
       "     PassengerId  Survived  Pclass                   Name Sex   Age  SibSp  \\\n",
       "889          890         1       1  Behr, Mr. Karl Howell   M  26.0      0   \n",
       "890          891         0       3    Dooley, Mr. Patrick   M  32.0      0   \n",
       "\n",
       "     Parch  Ticket   Fare Cabin Embarked  \n",
       "889      0  111369  30.00  C148        C  \n",
       "890      0  370376   7.75   NaN        Q  "
      ]
     },
     "execution_count": 57,
     "metadata": {},
     "output_type": "execute_result"
    }
   ],
   "source": [
    "dft.tail(2)"
   ]
  },
  {
   "cell_type": "markdown",
   "id": "20b71111",
   "metadata": {},
   "source": [
    "### Read from SQL"
   ]
  },
  {
   "cell_type": "code",
   "execution_count": 58,
   "id": "5207014a",
   "metadata": {},
   "outputs": [],
   "source": [
    "from sqlalchemy import create_engine\n",
    "import json\n",
    "\n",
    "with open('/Users/flint/Data/postgresql/conf.json', 'r') as inj:\n",
    "    conf = json.load(inj)\n",
    "\n",
    "db = 'nlp'\n",
    "schema = 'yelp'\n",
    "psw = conf['psw'] \n",
    "engine = create_engine(\n",
    "    \"postgresql://flint:{}@localhost:5432/{}\".format(psw, db),\n",
    "                       connect_args={'options': '-csearch_path={}'.format(schema)})"
   ]
  },
  {
   "cell_type": "code",
   "execution_count": 77,
   "id": "725f83f6",
   "metadata": {},
   "outputs": [],
   "source": [
    "def neigh(x):\n",
    "    if x is None:\n",
    "        return np.nan\n",
    "    else:\n",
    "        return x"
   ]
  },
  {
   "cell_type": "code",
   "execution_count": 85,
   "id": "f3c8cf99",
   "metadata": {},
   "outputs": [],
   "source": [
    "sql = \"\"\"\n",
    "SELECT B.id AS bid, B.name, B.stars, B.lon, B.lat, C.*\n",
    "FROM yelp.business AS B \n",
    "JOIN yelp.city AS C ON B.location = C.id\n",
    "\"\"\"\n",
    "\n",
    "dfs = pd.read_sql(sql, \n",
    "                  engine, index_col='bid')"
   ]
  },
  {
   "cell_type": "markdown",
   "id": "4350a4cf",
   "metadata": {},
   "source": [
    "### Pseudo SQL"
   ]
  },
  {
   "cell_type": "markdown",
   "id": "fac41c0d",
   "metadata": {},
   "source": [
    "#### Select"
   ]
  },
  {
   "cell_type": "code",
   "execution_count": 95,
   "id": "8898632b",
   "metadata": {},
   "outputs": [
    {
     "data": {
      "text/html": [
       "<div>\n",
       "<style scoped>\n",
       "    .dataframe tbody tr th:only-of-type {\n",
       "        vertical-align: middle;\n",
       "    }\n",
       "\n",
       "    .dataframe tbody tr th {\n",
       "        vertical-align: top;\n",
       "    }\n",
       "\n",
       "    .dataframe thead th {\n",
       "        text-align: right;\n",
       "    }\n",
       "</style>\n",
       "<table border=\"1\" class=\"dataframe\">\n",
       "  <thead>\n",
       "    <tr style=\"text-align: right;\">\n",
       "      <th></th>\n",
       "      <th>name</th>\n",
       "      <th>stars</th>\n",
       "      <th>lon</th>\n",
       "      <th>lat</th>\n",
       "      <th>id</th>\n",
       "      <th>name</th>\n",
       "      <th>state</th>\n",
       "    </tr>\n",
       "    <tr>\n",
       "      <th>bid</th>\n",
       "      <th></th>\n",
       "      <th></th>\n",
       "      <th></th>\n",
       "      <th></th>\n",
       "      <th></th>\n",
       "      <th></th>\n",
       "      <th></th>\n",
       "    </tr>\n",
       "  </thead>\n",
       "  <tbody>\n",
       "    <tr>\n",
       "      <th>FYWN1wneV18bWNgQjJ2GNg</th>\n",
       "      <td>Dental by Design</td>\n",
       "      <td>4.0</td>\n",
       "      <td>-111.978599</td>\n",
       "      <td>33.330690</td>\n",
       "      <td>D66C6A</td>\n",
       "      <td>Ahwatukee</td>\n",
       "      <td>AZ</td>\n",
       "    </tr>\n",
       "    <tr>\n",
       "      <th>KQPW8lFf1y5BT2MxiSZ3QA</th>\n",
       "      <td>Western Motor Vehicle</td>\n",
       "      <td>1.5</td>\n",
       "      <td>-112.115310</td>\n",
       "      <td>33.524903</td>\n",
       "      <td>185B21</td>\n",
       "      <td>Phoenix</td>\n",
       "      <td>AZ</td>\n",
       "    </tr>\n",
       "  </tbody>\n",
       "</table>\n",
       "</div>"
      ],
      "text/plain": [
       "                                         name  stars         lon        lat  \\\n",
       "bid                                                                           \n",
       "FYWN1wneV18bWNgQjJ2GNg       Dental by Design    4.0 -111.978599  33.330690   \n",
       "KQPW8lFf1y5BT2MxiSZ3QA  Western Motor Vehicle    1.5 -112.115310  33.524903   \n",
       "\n",
       "                            id       name state  \n",
       "bid                                              \n",
       "FYWN1wneV18bWNgQjJ2GNg  D66C6A  Ahwatukee    AZ  \n",
       "KQPW8lFf1y5BT2MxiSZ3QA  185B21    Phoenix    AZ  "
      ]
     },
     "execution_count": 95,
     "metadata": {},
     "output_type": "execute_result"
    }
   ],
   "source": [
    "dfs[(dfs['state'] == 'AZ') | (dfs['stars'] > 3)].head(2)"
   ]
  },
  {
   "cell_type": "markdown",
   "id": "f0667777",
   "metadata": {},
   "source": [
    "#### Projection"
   ]
  },
  {
   "cell_type": "code",
   "execution_count": 98,
   "id": "126ac8d9",
   "metadata": {},
   "outputs": [
    {
     "data": {
      "text/html": [
       "<div>\n",
       "<style scoped>\n",
       "    .dataframe tbody tr th:only-of-type {\n",
       "        vertical-align: middle;\n",
       "    }\n",
       "\n",
       "    .dataframe tbody tr th {\n",
       "        vertical-align: top;\n",
       "    }\n",
       "\n",
       "    .dataframe thead th {\n",
       "        text-align: right;\n",
       "    }\n",
       "</style>\n",
       "<table border=\"1\" class=\"dataframe\">\n",
       "  <thead>\n",
       "    <tr style=\"text-align: right;\">\n",
       "      <th></th>\n",
       "      <th>lon</th>\n",
       "      <th>lat</th>\n",
       "    </tr>\n",
       "    <tr>\n",
       "      <th>bid</th>\n",
       "      <th></th>\n",
       "      <th></th>\n",
       "    </tr>\n",
       "  </thead>\n",
       "  <tbody>\n",
       "    <tr>\n",
       "      <th>FYWN1wneV18bWNgQjJ2GNg</th>\n",
       "      <td>-111.978599</td>\n",
       "      <td>33.330690</td>\n",
       "    </tr>\n",
       "    <tr>\n",
       "      <th>KQPW8lFf1y5BT2MxiSZ3QA</th>\n",
       "      <td>-112.115310</td>\n",
       "      <td>33.524903</td>\n",
       "    </tr>\n",
       "  </tbody>\n",
       "</table>\n",
       "</div>"
      ],
      "text/plain": [
       "                               lon        lat\n",
       "bid                                          \n",
       "FYWN1wneV18bWNgQjJ2GNg -111.978599  33.330690\n",
       "KQPW8lFf1y5BT2MxiSZ3QA -112.115310  33.524903"
      ]
     },
     "execution_count": 98,
     "metadata": {},
     "output_type": "execute_result"
    }
   ],
   "source": [
    "dfs[(dfs['state'] == 'AZ') | (dfs['stars'] > 3)][['lon', 'lat']].head(2)"
   ]
  },
  {
   "cell_type": "markdown",
   "id": "4ad523b5",
   "metadata": {},
   "source": [
    "#### Group by and sort"
   ]
  },
  {
   "cell_type": "code",
   "execution_count": 105,
   "id": "66abe547",
   "metadata": {},
   "outputs": [
    {
     "data": {
      "text/html": [
       "<div>\n",
       "<style scoped>\n",
       "    .dataframe tbody tr th:only-of-type {\n",
       "        vertical-align: middle;\n",
       "    }\n",
       "\n",
       "    .dataframe tbody tr th {\n",
       "        vertical-align: top;\n",
       "    }\n",
       "\n",
       "    .dataframe thead th {\n",
       "        text-align: right;\n",
       "    }\n",
       "</style>\n",
       "<table border=\"1\" class=\"dataframe\">\n",
       "  <thead>\n",
       "    <tr style=\"text-align: right;\">\n",
       "      <th></th>\n",
       "      <th>stars</th>\n",
       "      <th>lon</th>\n",
       "      <th>lat</th>\n",
       "    </tr>\n",
       "    <tr>\n",
       "      <th>state</th>\n",
       "      <th></th>\n",
       "      <th></th>\n",
       "      <th></th>\n",
       "    </tr>\n",
       "  </thead>\n",
       "  <tbody>\n",
       "    <tr>\n",
       "      <th>AR</th>\n",
       "      <td>2.474874</td>\n",
       "      <td>0.220792</td>\n",
       "      <td>0.072705</td>\n",
       "    </tr>\n",
       "    <tr>\n",
       "      <th>NTH</th>\n",
       "      <td>2.121320</td>\n",
       "      <td>0.496785</td>\n",
       "      <td>3.375282</td>\n",
       "    </tr>\n",
       "    <tr>\n",
       "      <th>NY</th>\n",
       "      <td>1.202190</td>\n",
       "      <td>9.837088</td>\n",
       "      <td>2.060925</td>\n",
       "    </tr>\n",
       "    <tr>\n",
       "      <th>6</th>\n",
       "      <td>1.154701</td>\n",
       "      <td>0.010478</td>\n",
       "      <td>0.005159</td>\n",
       "    </tr>\n",
       "    <tr>\n",
       "      <th>VT</th>\n",
       "      <td>1.060660</td>\n",
       "      <td>0.021282</td>\n",
       "      <td>0.014514</td>\n",
       "    </tr>\n",
       "    <tr>\n",
       "      <th>...</th>\n",
       "      <td>...</td>\n",
       "      <td>...</td>\n",
       "      <td>...</td>\n",
       "    </tr>\n",
       "    <tr>\n",
       "      <th>TAM</th>\n",
       "      <td>NaN</td>\n",
       "      <td>NaN</td>\n",
       "      <td>NaN</td>\n",
       "    </tr>\n",
       "    <tr>\n",
       "      <th>VA</th>\n",
       "      <td>NaN</td>\n",
       "      <td>NaN</td>\n",
       "      <td>NaN</td>\n",
       "    </tr>\n",
       "    <tr>\n",
       "      <th>WA</th>\n",
       "      <td>NaN</td>\n",
       "      <td>NaN</td>\n",
       "      <td>NaN</td>\n",
       "    </tr>\n",
       "    <tr>\n",
       "      <th>WHT</th>\n",
       "      <td>NaN</td>\n",
       "      <td>NaN</td>\n",
       "      <td>NaN</td>\n",
       "    </tr>\n",
       "    <tr>\n",
       "      <th>ZET</th>\n",
       "      <td>NaN</td>\n",
       "      <td>NaN</td>\n",
       "      <td>NaN</td>\n",
       "    </tr>\n",
       "  </tbody>\n",
       "</table>\n",
       "<p>68 rows × 3 columns</p>\n",
       "</div>"
      ],
      "text/plain": [
       "          stars       lon       lat\n",
       "state                              \n",
       "AR     2.474874  0.220792  0.072705\n",
       "NTH    2.121320  0.496785  3.375282\n",
       "NY     1.202190  9.837088  2.060925\n",
       "6      1.154701  0.010478  0.005159\n",
       "VT     1.060660  0.021282  0.014514\n",
       "...         ...       ...       ...\n",
       "TAM         NaN       NaN       NaN\n",
       "VA          NaN       NaN       NaN\n",
       "WA          NaN       NaN       NaN\n",
       "WHT         NaN       NaN       NaN\n",
       "ZET         NaN       NaN       NaN\n",
       "\n",
       "[68 rows x 3 columns]"
      ]
     },
     "execution_count": 105,
     "metadata": {},
     "output_type": "execute_result"
    }
   ],
   "source": [
    "dfs.groupby('state').std().sort_values('stars', ascending=False)"
   ]
  },
  {
   "cell_type": "code",
   "execution_count": null,
   "id": "7c164867",
   "metadata": {},
   "outputs": [],
   "source": []
  }
 ],
 "metadata": {
  "kernelspec": {
   "display_name": "Python 3 (ipykernel)",
   "language": "python",
   "name": "python3"
  },
  "language_info": {
   "codemirror_mode": {
    "name": "ipython",
    "version": 3
   },
   "file_extension": ".py",
   "mimetype": "text/x-python",
   "name": "python",
   "nbconvert_exporter": "python",
   "pygments_lexer": "ipython3",
   "version": "3.8.8"
  },
  "toc": {
   "base_numbering": 1,
   "nav_menu": {},
   "number_sections": true,
   "sideBar": true,
   "skip_h1_title": false,
   "title_cell": "Table of Contents",
   "title_sidebar": "Contents",
   "toc_cell": false,
   "toc_position": {},
   "toc_section_display": true,
   "toc_window_display": false
  }
 },
 "nbformat": 4,
 "nbformat_minor": 5
}
