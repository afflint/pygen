{
 "cells": [
  {
   "cell_type": "markdown",
   "id": "cc19fec5",
   "metadata": {},
   "source": [
    "# Scope\n",
    "[scope notebook](https://nbviewer.org/github/rasbt/python_reference/blob/master/tutorials/scope_resolution_legb_rule.ipynb)"
   ]
  },
  {
   "cell_type": "code",
   "execution_count": 1,
   "id": "ff188ddd",
   "metadata": {},
   "outputs": [
    {
     "name": "stdout",
     "output_type": "stream",
     "text": [
      "6\n",
      "6\n"
     ]
    }
   ],
   "source": [
    "a = 6\n",
    "print(locals()['a'])\n",
    "print(globals()['a'])"
   ]
  },
  {
   "cell_type": "code",
   "execution_count": 6,
   "id": "925c5957",
   "metadata": {},
   "outputs": [],
   "source": [
    "def fun():\n",
    "    a = 10\n",
    "    def p():\n",
    "        print(locals()['a'])\n",
    "        print(a)\n",
    "    p()"
   ]
  },
  {
   "cell_type": "code",
   "execution_count": 7,
   "id": "895fe457",
   "metadata": {},
   "outputs": [
    {
     "name": "stdout",
     "output_type": "stream",
     "text": [
      "10\n",
      "10\n"
     ]
    }
   ],
   "source": [
    "fun()"
   ]
  },
  {
   "cell_type": "code",
   "execution_count": null,
   "id": "dc2b7235",
   "metadata": {},
   "outputs": [],
   "source": []
  }
 ],
 "metadata": {
  "kernelspec": {
   "display_name": "Python 3 (ipykernel)",
   "language": "python",
   "name": "python3"
  },
  "language_info": {
   "codemirror_mode": {
    "name": "ipython",
    "version": 3
   },
   "file_extension": ".py",
   "mimetype": "text/x-python",
   "name": "python",
   "nbconvert_exporter": "python",
   "pygments_lexer": "ipython3",
   "version": "3.8.8"
  },
  "toc": {
   "base_numbering": 1,
   "nav_menu": {},
   "number_sections": true,
   "sideBar": true,
   "skip_h1_title": false,
   "title_cell": "Table of Contents",
   "title_sidebar": "Contents",
   "toc_cell": false,
   "toc_position": {},
   "toc_section_display": true,
   "toc_window_display": false
  }
 },
 "nbformat": 4,
 "nbformat_minor": 5
}
