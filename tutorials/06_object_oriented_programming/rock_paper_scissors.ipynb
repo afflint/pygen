{
 "cells": [
  {
   "cell_type": "markdown",
   "id": "647e3a26",
   "metadata": {},
   "source": [
    "## Rock, Paper, Scissors\n",
    "\n",
    "Write a 'Rock, Paper, Scissors' game in which you play against the computer."
   ]
  },
  {
   "cell_type": "markdown",
   "id": "895c6d3a",
   "metadata": {},
   "source": [
    "### Define the three possible moves"
   ]
  },
  {
   "cell_type": "code",
   "execution_count": 1,
   "id": "094a5bac",
   "metadata": {},
   "outputs": [],
   "source": [
    "moves = ['rock', 'paper', 'scissors']"
   ]
  },
  {
   "cell_type": "markdown",
   "id": "40d7fbbb",
   "metadata": {},
   "source": [
    "### Let the computer make its move"
   ]
  },
  {
   "cell_type": "code",
   "execution_count": 2,
   "id": "e2a415bb",
   "metadata": {},
   "outputs": [],
   "source": [
    "import random\n",
    "\n",
    "computer_move = random.choice(moves)"
   ]
  },
  {
   "cell_type": "markdown",
   "id": "8e5bf199",
   "metadata": {},
   "source": [
    "### Enter player's move and check if it is valid"
   ]
  },
  {
   "cell_type": "code",
   "execution_count": 5,
   "id": "b6fcbee6",
   "metadata": {},
   "outputs": [
    {
     "name": "stdout",
     "output_type": "stream",
     "text": [
      "Make your move: pape\n",
      "Invalid move.\n",
      "Make your move: paper\n"
     ]
    }
   ],
   "source": [
    "while True:\n",
    "    player_move = input('Make your move: ')\n",
    "    if player_move in moves:\n",
    "        break\n",
    "    print('Invalid move.')"
   ]
  },
  {
   "cell_type": "markdown",
   "id": "cbad7fc7",
   "metadata": {},
   "source": [
    "### Define game rules"
   ]
  },
  {
   "cell_type": "code",
   "execution_count": 9,
   "id": "6b4da5bf",
   "metadata": {},
   "outputs": [
    {
     "name": "stdout",
     "output_type": "stream",
     "text": [
      "It is a draw.\n"
     ]
    }
   ],
   "source": [
    "if computer_move == player_move:\n",
    "        print('It is a draw.')\n",
    "elif computer_move == 'rock':\n",
    "    if player_move == 'paper':\n",
    "        print('Player wins!')\n",
    "    else:\n",
    "        print('Computer wins!')\n",
    "elif computer_move == 'paper':\n",
    "    if player_move == 'scissors':\n",
    "        print('Player wins!')\n",
    "    else:\n",
    "        print('Computer wins!')\n",
    "elif computer_move == 'scissors':\n",
    "    if player_move == 'rock':\n",
    "        print('Player wins!')\n",
    "    else:\n",
    "        print('Computer wins!')"
   ]
  },
  {
   "cell_type": "markdown",
   "id": "d0bc2614",
   "metadata": {},
   "source": [
    "### Play a best of 3"
   ]
  },
  {
   "cell_type": "code",
   "execution_count": 10,
   "id": "d61ed5ef",
   "metadata": {},
   "outputs": [
    {
     "name": "stdout",
     "output_type": "stream",
     "text": [
      "Make your move: paper\n",
      "Player wins!\n",
      "Make your move: rock\n",
      "Computer wins!\n",
      "Make your move: scissors\n",
      "Computer wins!\n"
     ]
    }
   ],
   "source": [
    "for i in range(3):\n",
    "    \n",
    "    computer_move = random.choice(moves)\n",
    "    while True:\n",
    "        player_move = input('Make your move: ')\n",
    "        if player_move in moves:\n",
    "            break\n",
    "        print('Invalid move.')\n",
    "    \n",
    "    if computer_move == player_move:\n",
    "        print('It is a draw.')\n",
    "    elif computer_move == 'rock':\n",
    "        if player_move == 'paper':\n",
    "            print('Player wins!')\n",
    "        else:\n",
    "            print('Computer wins!')\n",
    "    elif computer_move == 'paper':\n",
    "        if player_move == 'scissors':\n",
    "            print('Player wins!')\n",
    "        else:\n",
    "            print('Computer wins!')\n",
    "    elif computer_move == 'scissors':\n",
    "        if player_move == 'rock':\n",
    "            print('Player wins!')\n",
    "        else:\n",
    "            print('Computer wins!')"
   ]
  },
  {
   "cell_type": "markdown",
   "id": "3704613f",
   "metadata": {},
   "source": [
    "### Keep track of the score"
   ]
  },
  {
   "cell_type": "code",
   "execution_count": 11,
   "id": "287ff635",
   "metadata": {},
   "outputs": [
    {
     "name": "stdout",
     "output_type": "stream",
     "text": [
      "Make your move: paper\n",
      "Player wins!\n",
      "Make your move: paper\n",
      "Computer wins!\n",
      "Make your move: scissors\n",
      "Player wins!\n",
      "Computer:  1\n",
      "Player:  2\n"
     ]
    }
   ],
   "source": [
    "player_score = 0\n",
    "computer_score = 0\n",
    "\n",
    "for i in range(3):\n",
    "    \n",
    "    computer_move = random.choice(moves)\n",
    "    while True:\n",
    "        player_move = input('Make your move: ')\n",
    "        if player_move in moves:\n",
    "            break\n",
    "        print('Invalid move.')\n",
    "    \n",
    "    if computer_move == player_move:\n",
    "        print('It is a draw.')\n",
    "    elif computer_move == 'rock':\n",
    "        if player_move == 'paper':\n",
    "            print('Player wins!')\n",
    "            player_score += 1\n",
    "        else:\n",
    "            print('Computer wins!')\n",
    "            computer_score += 1\n",
    "    elif computer_move == 'paper':\n",
    "        if player_move == 'scissors':\n",
    "            print('Player wins!')\n",
    "            player_score += 1\n",
    "        else:\n",
    "            print('Computer wins!')\n",
    "            computer_score += 1\n",
    "    elif computer_move == 'scissors':\n",
    "        if player_move == 'rock':\n",
    "            print('Player wins!')\n",
    "            player_score += 1\n",
    "        else:\n",
    "            print('Computer wins!')\n",
    "            computer_score += 1\n",
    "            \n",
    "print('Computer:', computer_score)\n",
    "print('Player:', player_score)"
   ]
  },
  {
   "cell_type": "markdown",
   "id": "9361baac",
   "metadata": {},
   "source": [
    "### Identify the winner"
   ]
  },
  {
   "cell_type": "code",
   "execution_count": 12,
   "id": "de6a6b76",
   "metadata": {},
   "outputs": [
    {
     "name": "stdout",
     "output_type": "stream",
     "text": [
      "Player wins!\n"
     ]
    }
   ],
   "source": [
    "if player_score == computer_score:\n",
    "    print('The game ends with a draw.')\n",
    "elif player_score > computer_score:\n",
    "    print('Player wins!')\n",
    "else:\n",
    "    print('Computer wins!')"
   ]
  },
  {
   "cell_type": "markdown",
   "id": "377abab8",
   "metadata": {},
   "source": [
    "### Define a class"
   ]
  },
  {
   "cell_type": "code",
   "execution_count": 25,
   "id": "944ac9a8",
   "metadata": {},
   "outputs": [],
   "source": [
    "import random\n",
    "\n",
    "class RockPaperScissors:\n",
    "    \n",
    "    def __init__(self, player_name):\n",
    "        self.player_name = player_name\n",
    "        print(f'Hello, {player_name}. Welcome to Rock, Paper, Scissors!')\n",
    "        \n",
    "    moves = ['rock', 'paper', 'scissors']\n",
    "    \n",
    "    def __choose_moves__(self):\n",
    "        computer_move = random.choice(moves)\n",
    "        while True:\n",
    "            player_move = input('Make your move: ')\n",
    "            if player_move in moves:\n",
    "                break\n",
    "            print('Invalid move.')\n",
    "        return computer_move, player_move\n",
    "    \n",
    "    def __game_rules__(self, computer_move, player_move):\n",
    "        if computer_move == player_move:\n",
    "            print('It is a draw.\\n')\n",
    "            return 'draw'\n",
    "        elif computer_move == 'rock':\n",
    "            if player_move == 'paper':\n",
    "                print('Player wins!\\n')\n",
    "                return 'player'\n",
    "            else:\n",
    "                print('Computer wins!\\n')\n",
    "                return 'computer'\n",
    "        elif computer_move == 'paper':\n",
    "            if player_move == 'scissors':\n",
    "                print('Player wins!\\n')\n",
    "                return 'player'\n",
    "            else:\n",
    "                print('Computer wins!\\n')\n",
    "                return 'computer'\n",
    "        elif computer_move == 'scissors':\n",
    "            if player_move == 'rock':\n",
    "                print('Player wins!\\n')\n",
    "                return 'player'\n",
    "            else:\n",
    "                print('Computer wins!\\n')\n",
    "                return 'computer'\n",
    "                            \n",
    "    def play_game(self):\n",
    "        moves = self.__choose_moves__()\n",
    "        result = self.__game_rules__(*moves)\n",
    "        \n",
    "    def play_best_of(self, n_games=3):\n",
    "        computer_score = 0\n",
    "        player_score = 0\n",
    "        \n",
    "        for g in range(n_games):\n",
    "            moves = self.__choose_moves__()\n",
    "            result = self.__game_rules__(*moves)\n",
    "            if result == 'player':\n",
    "                player_score += 1\n",
    "            elif result == 'computer':\n",
    "                computer_score += 1\n",
    "        \n",
    "        if player_score == computer_score:\n",
    "            print('The game ends with a draw.')\n",
    "        elif player_score > computer_score:\n",
    "            print('Player wins!')\n",
    "        else:\n",
    "            print('Computer wins!')"
   ]
  },
  {
   "cell_type": "code",
   "execution_count": 26,
   "id": "302b7b77",
   "metadata": {},
   "outputs": [
    {
     "name": "stdout",
     "output_type": "stream",
     "text": [
      "Hello, John. Welcome to Rock, Paper, Scissors!\n"
     ]
    }
   ],
   "source": [
    "game = RockPaperScissors('John')"
   ]
  },
  {
   "cell_type": "code",
   "execution_count": 27,
   "id": "9dbc6d3b",
   "metadata": {},
   "outputs": [
    {
     "name": "stdout",
     "output_type": "stream",
     "text": [
      "Make your move: paper\n",
      "It is a draw.\n",
      "\n"
     ]
    }
   ],
   "source": [
    "game.play_game()"
   ]
  },
  {
   "cell_type": "code",
   "execution_count": 28,
   "id": "89178707",
   "metadata": {},
   "outputs": [
    {
     "name": "stdout",
     "output_type": "stream",
     "text": [
      "Make your move: paper\n",
      "Player wins!\n",
      "\n",
      "Make your move: scissors\n",
      "Player wins!\n",
      "\n",
      "Player wins!\n"
     ]
    }
   ],
   "source": [
    "game.play_best_of(2)"
   ]
  },
  {
   "cell_type": "code",
   "execution_count": null,
   "id": "1b15ffd5",
   "metadata": {},
   "outputs": [],
   "source": []
  }
 ],
 "metadata": {
  "kernelspec": {
   "display_name": "Python 3 (ipykernel)",
   "language": "python",
   "name": "python3"
  },
  "language_info": {
   "codemirror_mode": {
    "name": "ipython",
    "version": 3
   },
   "file_extension": ".py",
   "mimetype": "text/x-python",
   "name": "python",
   "nbconvert_exporter": "python",
   "pygments_lexer": "ipython3",
   "version": "3.8.13"
  }
 },
 "nbformat": 4,
 "nbformat_minor": 5
}
