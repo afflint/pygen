{
 "cells": [
  {
   "cell_type": "markdown",
   "id": "b8ad3cde",
   "metadata": {},
   "source": [
    "# Object Oriented Programming\n",
    "\n",
    "**Object oriented programming** (OOP) is a programming paradigm that relies on the concept of classes and objects. It is used to structure a software program into simple, reusable pieces of code blueprints (usually called classes), which are used to create individual instances of objects.\n",
    "\n",
    "## Class\n",
    "A **class** is a blueprint for how something should be defined. It doesn’t actually contain any data.\n",
    "\n",
    "## Object\n",
    "An **object** is the instance of a class. Almost everything in Python is an object, with its properties and methods.\n",
    "\n",
    "### `isinstance(object, classinfo)`\n",
    "\n",
    "The `isinstance()` function returns `True` if the *object* argument is an instance of the *classinfo* argument."
   ]
  },
  {
   "cell_type": "code",
   "execution_count": null,
   "id": "4b3a0841",
   "metadata": {},
   "outputs": [],
   "source": []
  },
  {
   "cell_type": "markdown",
   "id": "ae14549f",
   "metadata": {},
   "source": [
    "The simplest form of class definition looks like this:\n",
    "\n",
    "```\n",
    "class ClassName:\n",
    "    <statement1>\n",
    "    ...\n",
    "    <statementN>\n",
    "```\n",
    "\n",
    "Class names should normally use the CapWords convention."
   ]
  },
  {
   "cell_type": "code",
   "execution_count": null,
   "id": "5b107ccf",
   "metadata": {},
   "outputs": [],
   "source": []
  },
  {
   "cell_type": "markdown",
   "id": "8909e9b4",
   "metadata": {},
   "source": [
    "*Class instantiation* uses function notation. Just pretend that the class object is a parameterless function that returns a new instance of the class.\n",
    "\n",
    "Note: `__main__` is the name of the environment where top-level code is run. “Top-level code” is the first user-specified Python module that starts running. It’s “top-level” because it imports all other modules that the program needs."
   ]
  },
  {
   "cell_type": "code",
   "execution_count": null,
   "id": "92f8b6a6",
   "metadata": {},
   "outputs": [],
   "source": []
  },
  {
   "cell_type": "markdown",
   "id": "c9f126c4",
   "metadata": {},
   "source": [
    "### Attributes\n",
    "\n",
    "*Class attributes* are the variables defined directly in the class that are shared by all objects of the class. *Instance attributes* are attributes or properties attached to an instance of a class. Instance attributes are defined in the **constructor**.\n",
    "\n",
    "A class constructor is a special member function of a class that is executed whenever we create new objects of that class.\n",
    "\n",
    "The `self` parameter is a reference to the current instance of the class, and is used to access variables that belongs to the class."
   ]
  },
  {
   "cell_type": "code",
   "execution_count": null,
   "id": "fdf631ca",
   "metadata": {},
   "outputs": [],
   "source": []
  },
  {
   "cell_type": "markdown",
   "id": "14568dda",
   "metadata": {},
   "source": [
    "### Methods\n",
    "\n",
    "Instance methods are functions that are defined inside a class and can only be called from an instance of that class. Just like `.__init__()`, an instance method’s first parameter is always `self`."
   ]
  },
  {
   "cell_type": "code",
   "execution_count": null,
   "id": "e1370385",
   "metadata": {},
   "outputs": [],
   "source": []
  },
  {
   "cell_type": "markdown",
   "id": "b912dbcd",
   "metadata": {},
   "source": [
    "*Magic methods* in Python are the special methods that start and end with the double underscores. They are also called dunder methods. Magic methods are not meant to be invoked directly by you, but the invocation happens internally from the class on a certain action."
   ]
  },
  {
   "cell_type": "code",
   "execution_count": null,
   "id": "db8993f3",
   "metadata": {},
   "outputs": [],
   "source": []
  },
  {
   "cell_type": "markdown",
   "id": "1b84fef9",
   "metadata": {},
   "source": [
    "## Inheritance\n",
    "\n",
    "**Inheritance** allows us to define a class that inherits all the methods and properties from another class. *Parent class* is the class being inherited from, also called base class. *Child class* is the class that inherits from another class, also called derived class."
   ]
  },
  {
   "cell_type": "code",
   "execution_count": null,
   "id": "758ff9f6",
   "metadata": {},
   "outputs": [],
   "source": []
  }
 ],
 "metadata": {
  "kernelspec": {
   "display_name": "Python 3 (ipykernel)",
   "language": "python",
   "name": "python3"
  },
  "language_info": {
   "codemirror_mode": {
    "name": "ipython",
    "version": 3
   },
   "file_extension": ".py",
   "mimetype": "text/x-python",
   "name": "python",
   "nbconvert_exporter": "python",
   "pygments_lexer": "ipython3",
   "version": "3.8.8"
  },
  "toc": {
   "base_numbering": 1,
   "nav_menu": {},
   "number_sections": true,
   "sideBar": true,
   "skip_h1_title": false,
   "title_cell": "Table of Contents",
   "title_sidebar": "Contents",
   "toc_cell": false,
   "toc_position": {},
   "toc_section_display": true,
   "toc_window_display": false
  }
 },
 "nbformat": 4,
 "nbformat_minor": 5
}
