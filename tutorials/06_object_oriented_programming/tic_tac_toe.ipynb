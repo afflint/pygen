{
 "cells": [
  {
   "cell_type": "markdown",
   "id": "5ba3207e",
   "metadata": {},
   "source": [
    "## Tic Tac Toe\n",
    "\n",
    "Build a Tic Tac Toe game in which you play against the computer."
   ]
  },
  {
   "cell_type": "markdown",
   "id": "e1b495b6",
   "metadata": {},
   "source": [
    "### Draw the board"
   ]
  },
  {
   "cell_type": "code",
   "execution_count": 10,
   "id": "c62faade",
   "metadata": {},
   "outputs": [
    {
     "name": "stdout",
     "output_type": "stream",
     "text": [
      "[['' '' '']\n",
      " ['' '' '']\n",
      " ['' '' '']]\n"
     ]
    }
   ],
   "source": [
    "import numpy as np\n",
    "\n",
    "board = np.full((3, 3), '')\n",
    "print(board)"
   ]
  },
  {
   "cell_type": "markdown",
   "id": "e71f7889",
   "metadata": {},
   "source": [
    "### Draw a fake board"
   ]
  },
  {
   "cell_type": "code",
   "execution_count": 74,
   "id": "5d45dd6e",
   "metadata": {},
   "outputs": [
    {
     "name": "stdout",
     "output_type": "stream",
     "text": [
      "[['x' '' '']\n",
      " ['x' 'x' 'o']\n",
      " ['o' 'o' 'x']]\n"
     ]
    }
   ],
   "source": [
    "# x is symbol for player 1, o for player 2\n",
    "fake_board = np.array([\n",
    "    ['x', '', ''],\n",
    "    ['x', 'x', 'o'],\n",
    "    ['o', 'o', 'x']\n",
    "])\n",
    "\n",
    "print(fake_board)"
   ]
  },
  {
   "cell_type": "markdown",
   "id": "1301846c",
   "metadata": {},
   "source": [
    "### Iterate over all the possible lines"
   ]
  },
  {
   "cell_type": "code",
   "execution_count": 75,
   "id": "8fa64445",
   "metadata": {},
   "outputs": [
    {
     "name": "stdout",
     "output_type": "stream",
     "text": [
      "Row 1: ['x' '' '']\n",
      "Row 2: ['x' 'x' 'o']\n",
      "Row 3: ['o' 'o' 'x']\n",
      "Column 1: ['x' 'x' 'o']\n",
      "Column 2: ['' 'x' 'o']\n",
      "Column 3: ['' 'o' 'x']\n",
      "Diagonal 1: ['x' 'x' 'x']\n",
      "Diagonal 2: ['' 'x' 'o']\n"
     ]
    }
   ],
   "source": [
    "# Rows\n",
    "for i in range(3):\n",
    "    print(f'Row {i+1}:', fake_board[i])\n",
    "    \n",
    "# Columns\n",
    "for i in range(3):\n",
    "    print(f'Column {i+1}:', fake_board.T[i])\n",
    "    \n",
    "# Diagonals\n",
    "print('Diagonal 1:', np.diag(fake_board))\n",
    "print('Diagonal 2:', np.diag(np.fliplr(fake_board)))"
   ]
  },
  {
   "cell_type": "markdown",
   "id": "c0c63ac0",
   "metadata": {},
   "source": [
    "### Check if player has won (single line)"
   ]
  },
  {
   "cell_type": "code",
   "execution_count": 76,
   "id": "125f68aa",
   "metadata": {},
   "outputs": [
    {
     "name": "stdout",
     "output_type": "stream",
     "text": [
      "xxx\n"
     ]
    }
   ],
   "source": [
    "line = ''.join(np.diag(fake_board))\n",
    "print(line)"
   ]
  },
  {
   "cell_type": "code",
   "execution_count": 77,
   "id": "a00c0324",
   "metadata": {},
   "outputs": [
    {
     "name": "stdout",
     "output_type": "stream",
     "text": [
      "game ends\n"
     ]
    }
   ],
   "source": [
    "if len(line) == 3: # check if there are three symbols written in the line\n",
    "    if len(set(line)) == 1: # check if the written symbols are all the same\n",
    "        print('game ends')"
   ]
  },
  {
   "cell_type": "markdown",
   "id": "e5f1bfee",
   "metadata": {},
   "source": [
    "### Check if player has won (entire board)"
   ]
  },
  {
   "cell_type": "code",
   "execution_count": 113,
   "id": "7a72e5a8",
   "metadata": {},
   "outputs": [],
   "source": [
    "def line_checker(line):\n",
    "    line = ''.join(line)\n",
    "    if len(line) == 3: # check if there are three symbols written in the line\n",
    "        if len(set(line)) == 1: # check if the written symbols are all the same\n",
    "            print(f'Player \"{set(line).pop()}\" wins!')\n",
    "            return True"
   ]
  },
  {
   "cell_type": "code",
   "execution_count": 114,
   "id": "c1a4e7c5",
   "metadata": {},
   "outputs": [
    {
     "name": "stdout",
     "output_type": "stream",
     "text": [
      "Player \"x\" wins!\n"
     ]
    }
   ],
   "source": [
    "for i in range(3):\n",
    "    # Check for rows\n",
    "    if line_checker(fake_board[i]):\n",
    "        break\n",
    "    # Check for columns\n",
    "    if line_checker(fake_board.T[i]):\n",
    "        break\n",
    "# executes only if for loop does not break\n",
    "else:\n",
    "    if line_checker(np.diag(fake_board)):\n",
    "        pass\n",
    "    elif line_checker(np.diag(np.fliplr(fake_board))):\n",
    "        pass"
   ]
  },
  {
   "cell_type": "markdown",
   "id": "7f17dfdb",
   "metadata": {},
   "source": [
    "### Retrieve the set of allowed moves"
   ]
  },
  {
   "cell_type": "code",
   "execution_count": 86,
   "id": "005ac405",
   "metadata": {},
   "outputs": [],
   "source": [
    "empty_spots = np.where(fake_board == '')\n",
    "allowed_moves = []\n",
    "\n",
    "for i in range(len(empty_spots[0])):\n",
    "    row = empty_spots[0][i]\n",
    "    column = empty_spots[1][i]\n",
    "    \n",
    "    allowed_moves.append((row, column))"
   ]
  },
  {
   "cell_type": "code",
   "execution_count": 87,
   "id": "61d55b3d",
   "metadata": {},
   "outputs": [
    {
     "data": {
      "text/plain": [
       "[(0, 1), (0, 2)]"
      ]
     },
     "execution_count": 87,
     "metadata": {},
     "output_type": "execute_result"
    }
   ],
   "source": [
    "allowed_moves"
   ]
  },
  {
   "cell_type": "markdown",
   "id": "89a518c0",
   "metadata": {},
   "source": [
    "### Get moves from computer and player"
   ]
  },
  {
   "cell_type": "code",
   "execution_count": 88,
   "id": "5e59e5dd",
   "metadata": {},
   "outputs": [],
   "source": [
    "import random\n",
    "\n",
    "# Get computer move\n",
    "row, column = random.choice(allowed_moves)\n",
    "fake_board[row][column] = 'o'"
   ]
  },
  {
   "cell_type": "code",
   "execution_count": 89,
   "id": "be7eb650",
   "metadata": {},
   "outputs": [
    {
     "data": {
      "text/plain": [
       "array([['x', 'o', ''],\n",
       "       ['x', 'x', 'o'],\n",
       "       ['o', 'o', 'x']], dtype='<U1')"
      ]
     },
     "execution_count": 89,
     "metadata": {},
     "output_type": "execute_result"
    }
   ],
   "source": [
    "fake_board"
   ]
  },
  {
   "cell_type": "code",
   "execution_count": 90,
   "id": "91939844",
   "metadata": {},
   "outputs": [],
   "source": [
    "# Check again for allowed moves\n",
    "empty_spots = np.where(fake_board == '')\n",
    "allowed_moves = []\n",
    "\n",
    "for i in range(len(empty_spots[0])):\n",
    "    row = empty_spots[0][i]\n",
    "    column = empty_spots[1][i]\n",
    "    \n",
    "    allowed_moves.append((row, column))"
   ]
  },
  {
   "cell_type": "code",
   "execution_count": 103,
   "id": "fe319875",
   "metadata": {},
   "outputs": [
    {
     "name": "stdout",
     "output_type": "stream",
     "text": [
      "Declare indexes of: row column 1 2\n",
      "Invalid move.\n",
      "Declare indexes of: row column 0 2\n"
     ]
    }
   ],
   "source": [
    "# Get player move\n",
    "while True:\n",
    "    row, column = input('Declare indexes of: row column ').split()\n",
    "    if (int(row), int(column)) in allowed_moves:\n",
    "        fake_board[int(row)][int(column)] = 'x'\n",
    "        break\n",
    "    else:\n",
    "        print('Invalid move.')"
   ]
  },
  {
   "cell_type": "code",
   "execution_count": 105,
   "id": "68cebd4e",
   "metadata": {},
   "outputs": [
    {
     "name": "stdout",
     "output_type": "stream",
     "text": [
      "[['x' 'o' 'x']\n",
      " ['x' 'x' 'o']\n",
      " ['o' 'o' 'x']]\n"
     ]
    }
   ],
   "source": [
    "print(fake_board)"
   ]
  },
  {
   "cell_type": "markdown",
   "id": "c5bc33e8",
   "metadata": {},
   "source": [
    "### Put everything inside a class"
   ]
  },
  {
   "cell_type": "code",
   "execution_count": 121,
   "id": "e17f2b27",
   "metadata": {},
   "outputs": [],
   "source": [
    "import numpy as np\n",
    "import random\n",
    "\n",
    "class TicTacToe:\n",
    "    \n",
    "    def __init__(self):\n",
    "        self.board = np.full((3, 3), '')\n",
    "        \n",
    "    def __line_checker__(self, line):\n",
    "        line = ''.join(line)\n",
    "        if len(line) == 3:\n",
    "            if len(set(line)) == 1:\n",
    "                print(f'Player \"{set(line).pop()}\" wins!')\n",
    "                return True\n",
    "            \n",
    "    def __board_checker__(self):\n",
    "        game_ends = False\n",
    "        \n",
    "        for i in range(3):\n",
    "            # Check for rows\n",
    "            if line_checker(self.board[i]):\n",
    "                game_ends = True\n",
    "                break\n",
    "            # Check for columns\n",
    "            if line_checker(self.board.T[i]):\n",
    "                game_ends = True\n",
    "                break\n",
    "        # executes only if for loop does not break\n",
    "        else:\n",
    "            if line_checker(np.diag(self.board)):\n",
    "                game_ends = True\n",
    "            elif line_checker(np.diag(np.fliplr(self.board))):\n",
    "                game_ends = True\n",
    "            \n",
    "        return game_ends\n",
    "    \n",
    "    def __moves_checker__(self):\n",
    "        empty_spots = np.where(self.board == '')\n",
    "        allowed_moves = []\n",
    "\n",
    "        for i in range(len(empty_spots[0])):\n",
    "            row = empty_spots[0][i]\n",
    "            column = empty_spots[1][i]\n",
    "\n",
    "            allowed_moves.append((row, column))\n",
    "            \n",
    "        return allowed_moves\n",
    "            \n",
    "    def play(self):\n",
    "        print(self.board, '\\n')\n",
    "        \n",
    "        while True:\n",
    "            allowed_moves = self.__moves_checker__()\n",
    "            \n",
    "            # Computer move\n",
    "            row, column = random.choice(allowed_moves)\n",
    "            self.board[row][column] = 'o'\n",
    "            print(self.board, '\\n')\n",
    "            \n",
    "            if self.__board_checker__():\n",
    "                break\n",
    "                \n",
    "            allowed_moves = self.__moves_checker__()\n",
    "                \n",
    "            # Player move\n",
    "            while True:\n",
    "                row, column = input('Declare indexes of: row column ').split()\n",
    "                if (int(row), int(column)) in allowed_moves:\n",
    "                    self.board[int(row)][int(column)] = 'x'\n",
    "                    break\n",
    "                else:\n",
    "                    print('Invalid move.')\n",
    "            print(self.board, '\\n')\n",
    "        \n",
    "            if self.__board_checker__():\n",
    "                break\n",
    "        \n",
    "        self.__init__()"
   ]
  },
  {
   "cell_type": "code",
   "execution_count": 122,
   "id": "c0ab5c40",
   "metadata": {},
   "outputs": [],
   "source": [
    "game = TicTacToe()"
   ]
  },
  {
   "cell_type": "code",
   "execution_count": 123,
   "id": "b0ac1f29",
   "metadata": {},
   "outputs": [
    {
     "name": "stdout",
     "output_type": "stream",
     "text": [
      "[['' '' '']\n",
      " ['' '' '']\n",
      " ['' '' '']] \n",
      "\n",
      "[['' '' 'o']\n",
      " ['' '' '']\n",
      " ['' '' '']] \n",
      "\n",
      "Declare indexes of: row column 1 1\n",
      "[['' '' 'o']\n",
      " ['' 'x' '']\n",
      " ['' '' '']] \n",
      "\n",
      "[['' 'o' 'o']\n",
      " ['' 'x' '']\n",
      " ['' '' '']] \n",
      "\n",
      "Declare indexes of: row column 0 0\n",
      "[['x' 'o' 'o']\n",
      " ['' 'x' '']\n",
      " ['' '' '']] \n",
      "\n",
      "[['x' 'o' 'o']\n",
      " ['' 'x' 'o']\n",
      " ['' '' '']] \n",
      "\n",
      "Declare indexes of: row column 2 2\n",
      "[['x' 'o' 'o']\n",
      " ['' 'x' 'o']\n",
      " ['' '' 'x']] \n",
      "\n",
      "Player \"x\" wins!\n"
     ]
    }
   ],
   "source": [
    "game.play()"
   ]
  },
  {
   "cell_type": "code",
   "execution_count": null,
   "id": "3141141b",
   "metadata": {},
   "outputs": [],
   "source": []
  }
 ],
 "metadata": {
  "kernelspec": {
   "display_name": "Python 3 (ipykernel)",
   "language": "python",
   "name": "python3"
  },
  "language_info": {
   "codemirror_mode": {
    "name": "ipython",
    "version": 3
   },
   "file_extension": ".py",
   "mimetype": "text/x-python",
   "name": "python",
   "nbconvert_exporter": "python",
   "pygments_lexer": "ipython3",
   "version": "3.8.13"
  }
 },
 "nbformat": 4,
 "nbformat_minor": 5
}
