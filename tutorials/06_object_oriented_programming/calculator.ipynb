{
 "cells": [
  {
   "cell_type": "markdown",
   "id": "93f29d54",
   "metadata": {},
   "source": [
    "## Calculator\n",
    "\n",
    "Define a class `Calculator` that performs the four basic mathematical operations."
   ]
  },
  {
   "cell_type": "markdown",
   "id": "d5f15311",
   "metadata": {},
   "source": [
    "### Define addition"
   ]
  },
  {
   "cell_type": "code",
   "execution_count": 1,
   "id": "63931cf5",
   "metadata": {},
   "outputs": [],
   "source": [
    "def add(n, m):\n",
    "    return n + m"
   ]
  },
  {
   "cell_type": "code",
   "execution_count": 2,
   "id": "74223ed4",
   "metadata": {},
   "outputs": [
    {
     "data": {
      "text/plain": [
       "15"
      ]
     },
     "execution_count": 2,
     "metadata": {},
     "output_type": "execute_result"
    }
   ],
   "source": [
    "add(10, 5)"
   ]
  },
  {
   "cell_type": "markdown",
   "id": "108c12f5",
   "metadata": {},
   "source": [
    "### Define subtraction"
   ]
  },
  {
   "cell_type": "code",
   "execution_count": 3,
   "id": "26b5b37b",
   "metadata": {},
   "outputs": [],
   "source": [
    "def subtract(n, m):\n",
    "    return n - m"
   ]
  },
  {
   "cell_type": "code",
   "execution_count": 4,
   "id": "83bf71f2",
   "metadata": {
    "scrolled": true
   },
   "outputs": [
    {
     "data": {
      "text/plain": [
       "5"
      ]
     },
     "execution_count": 4,
     "metadata": {},
     "output_type": "execute_result"
    }
   ],
   "source": [
    "subtract(10, 5)"
   ]
  },
  {
   "cell_type": "markdown",
   "id": "812f93d4",
   "metadata": {},
   "source": [
    "### Define multiplication"
   ]
  },
  {
   "cell_type": "code",
   "execution_count": 5,
   "id": "ed9e4ead",
   "metadata": {},
   "outputs": [],
   "source": [
    "def multiply(n, m):\n",
    "    return n * m"
   ]
  },
  {
   "cell_type": "code",
   "execution_count": 6,
   "id": "6736eecc",
   "metadata": {
    "scrolled": false
   },
   "outputs": [
    {
     "data": {
      "text/plain": [
       "50"
      ]
     },
     "execution_count": 6,
     "metadata": {},
     "output_type": "execute_result"
    }
   ],
   "source": [
    "multiply(10, 5)"
   ]
  },
  {
   "cell_type": "markdown",
   "id": "caabeb29",
   "metadata": {},
   "source": [
    "### Define division"
   ]
  },
  {
   "cell_type": "code",
   "execution_count": 7,
   "id": "9b2cf8ed",
   "metadata": {},
   "outputs": [],
   "source": [
    "def divide(n, m):\n",
    "    return n / m"
   ]
  },
  {
   "cell_type": "code",
   "execution_count": 8,
   "id": "e3411264",
   "metadata": {
    "scrolled": true
   },
   "outputs": [
    {
     "data": {
      "text/plain": [
       "2.0"
      ]
     },
     "execution_count": 8,
     "metadata": {},
     "output_type": "execute_result"
    }
   ],
   "source": [
    "divide(10, 5)"
   ]
  },
  {
   "cell_type": "markdown",
   "id": "99321e4e",
   "metadata": {},
   "source": [
    "### Define the class"
   ]
  },
  {
   "cell_type": "code",
   "execution_count": 12,
   "id": "2a38ad48",
   "metadata": {},
   "outputs": [],
   "source": [
    "class Calculator:\n",
    "    \n",
    "    def __init__(self):\n",
    "        pass\n",
    "    \n",
    "    def add(self, n, m):\n",
    "        return n + m\n",
    "    \n",
    "    def subtract(self, n, m):\n",
    "        return n - m\n",
    "    \n",
    "    def multiply(self, n, m):\n",
    "        return n * m\n",
    "\n",
    "    def divide(self, n, m):\n",
    "        return n / m"
   ]
  },
  {
   "cell_type": "code",
   "execution_count": 13,
   "id": "a3b33812",
   "metadata": {},
   "outputs": [],
   "source": [
    "calculator = Calculator()"
   ]
  },
  {
   "cell_type": "code",
   "execution_count": 15,
   "id": "15079c7b",
   "metadata": {},
   "outputs": [
    {
     "data": {
      "text/plain": [
       "15"
      ]
     },
     "execution_count": 15,
     "metadata": {},
     "output_type": "execute_result"
    }
   ],
   "source": [
    "calculator.add(10, 5)"
   ]
  },
  {
   "cell_type": "code",
   "execution_count": null,
   "id": "dfc1770c",
   "metadata": {},
   "outputs": [],
   "source": []
  }
 ],
 "metadata": {
  "kernelspec": {
   "display_name": "Python 3 (ipykernel)",
   "language": "python",
   "name": "python3"
  },
  "language_info": {
   "codemirror_mode": {
    "name": "ipython",
    "version": 3
   },
   "file_extension": ".py",
   "mimetype": "text/x-python",
   "name": "python",
   "nbconvert_exporter": "python",
   "pygments_lexer": "ipython3",
   "version": "3.8.8"
  },
  "toc": {
   "base_numbering": 1,
   "nav_menu": {},
   "number_sections": true,
   "sideBar": true,
   "skip_h1_title": false,
   "title_cell": "Table of Contents",
   "title_sidebar": "Contents",
   "toc_cell": false,
   "toc_position": {},
   "toc_section_display": true,
   "toc_window_display": false
  }
 },
 "nbformat": 4,
 "nbformat_minor": 5
}
