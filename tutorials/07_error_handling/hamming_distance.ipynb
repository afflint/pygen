{
 "cells": [
  {
   "cell_type": "markdown",
   "id": "54946848",
   "metadata": {},
   "source": [
    "## Hamming Distance\n",
    "\n",
    "Compute the Hamming distance between two strings of equal length, which is the number of positions at which the corresponding characters are different."
   ]
  },
  {
   "cell_type": "markdown",
   "id": "5d36d996",
   "metadata": {},
   "source": [
    "### Check if the two strings have equal length"
   ]
  },
  {
   "cell_type": "code",
   "execution_count": 1,
   "id": "daa98e3f",
   "metadata": {},
   "outputs": [
    {
     "data": {
      "text/plain": [
       "True"
      ]
     },
     "execution_count": 1,
     "metadata": {},
     "output_type": "execute_result"
    }
   ],
   "source": [
    "s1 = 'abcde'\n",
    "s2 = 'bdcae'\n",
    "\n",
    "len(s1) == len(s2)"
   ]
  },
  {
   "cell_type": "markdown",
   "id": "46b11de6",
   "metadata": {},
   "source": [
    "### Iterate over string indexes"
   ]
  },
  {
   "cell_type": "code",
   "execution_count": 2,
   "id": "a95c4711",
   "metadata": {},
   "outputs": [
    {
     "name": "stdout",
     "output_type": "stream",
     "text": [
      "a\n",
      "b\n",
      "c\n",
      "d\n",
      "e\n"
     ]
    }
   ],
   "source": [
    "for i in range(len(s1)):\n",
    "    print(s1[i])"
   ]
  },
  {
   "cell_type": "markdown",
   "id": "08eaa91c",
   "metadata": {},
   "source": [
    "### Check when the characters in the two strings are different"
   ]
  },
  {
   "cell_type": "code",
   "execution_count": 4,
   "id": "96257c77",
   "metadata": {},
   "outputs": [
    {
     "name": "stdout",
     "output_type": "stream",
     "text": [
      "0 a b\n",
      "1 b d\n",
      "3 d a\n"
     ]
    }
   ],
   "source": [
    "for i in range(len(s1)):\n",
    "    if s1[i] != s2[i]:\n",
    "        print(i, s1[i], s2[i])"
   ]
  },
  {
   "cell_type": "markdown",
   "id": "cf14eca2",
   "metadata": {},
   "source": [
    "### Count how many times the characters differ"
   ]
  },
  {
   "cell_type": "code",
   "execution_count": 7,
   "id": "9ba8628a",
   "metadata": {},
   "outputs": [
    {
     "name": "stdout",
     "output_type": "stream",
     "text": [
      "3\n"
     ]
    }
   ],
   "source": [
    "distance = 0\n",
    "\n",
    "for i in range(len(s1)):\n",
    "    if s1[i] != s2[i]:\n",
    "        distance += 1\n",
    "        \n",
    "print(distance)"
   ]
  },
  {
   "cell_type": "markdown",
   "id": "88e23eda",
   "metadata": {},
   "source": [
    "### Define a function"
   ]
  },
  {
   "cell_type": "code",
   "execution_count": 8,
   "id": "4bc77df1",
   "metadata": {},
   "outputs": [],
   "source": [
    "def hamming_distance(s1, s2):\n",
    "    if len(s1) == len(s2):\n",
    "        distance = 0\n",
    "\n",
    "        for i in range(len(s1)):\n",
    "            if s1[i] != s2[i]:\n",
    "                distance += 1\n",
    "                \n",
    "        return distance"
   ]
  },
  {
   "cell_type": "code",
   "execution_count": 9,
   "id": "7e0e44b8",
   "metadata": {},
   "outputs": [
    {
     "data": {
      "text/plain": [
       "3"
      ]
     },
     "execution_count": 9,
     "metadata": {},
     "output_type": "execute_result"
    }
   ],
   "source": [
    "hamming_distance('abcde', 'bdcae')"
   ]
  },
  {
   "cell_type": "markdown",
   "id": "1b16c231",
   "metadata": {},
   "source": [
    "### Address for strings of different lengths"
   ]
  },
  {
   "cell_type": "code",
   "execution_count": 10,
   "id": "428c4985",
   "metadata": {},
   "outputs": [],
   "source": [
    "def hamming_distance(s1, s2):\n",
    "    if len(s1) == len(s2):\n",
    "        distance = 0\n",
    "\n",
    "        for i in range(len(s1)):\n",
    "            if s1[i] != s2[i]:\n",
    "                distance += 1\n",
    "                \n",
    "        return distance\n",
    "    else:\n",
    "        raise ValueError(\"Undefined for sequences of unequal length.\")"
   ]
  },
  {
   "cell_type": "code",
   "execution_count": 11,
   "id": "c68cfd00",
   "metadata": {},
   "outputs": [
    {
     "ename": "ValueError",
     "evalue": "Undefined for sequences of unequal length.",
     "output_type": "error",
     "traceback": [
      "\u001b[0;31m---------------------------------------------------------------------------\u001b[0m",
      "\u001b[0;31mValueError\u001b[0m                                Traceback (most recent call last)",
      "Input \u001b[0;32mIn [11]\u001b[0m, in \u001b[0;36m<cell line: 1>\u001b[0;34m()\u001b[0m\n\u001b[0;32m----> 1\u001b[0m \u001b[43mhamming_distance\u001b[49m\u001b[43m(\u001b[49m\u001b[38;5;124;43m'\u001b[39;49m\u001b[38;5;124;43mabcde\u001b[39;49m\u001b[38;5;124;43m'\u001b[39;49m\u001b[43m,\u001b[49m\u001b[43m \u001b[49m\u001b[38;5;124;43m'\u001b[39;49m\u001b[38;5;124;43mdce\u001b[39;49m\u001b[38;5;124;43m'\u001b[39;49m\u001b[43m)\u001b[49m\n",
      "Input \u001b[0;32mIn [10]\u001b[0m, in \u001b[0;36mhamming_distance\u001b[0;34m(s1, s2)\u001b[0m\n\u001b[1;32m      9\u001b[0m     \u001b[38;5;28;01mreturn\u001b[39;00m distance\n\u001b[1;32m     10\u001b[0m \u001b[38;5;28;01melse\u001b[39;00m:\n\u001b[0;32m---> 11\u001b[0m     \u001b[38;5;28;01mraise\u001b[39;00m \u001b[38;5;167;01mValueError\u001b[39;00m(\u001b[38;5;124m\"\u001b[39m\u001b[38;5;124mUndefined for sequences of unequal length.\u001b[39m\u001b[38;5;124m\"\u001b[39m)\n",
      "\u001b[0;31mValueError\u001b[0m: Undefined for sequences of unequal length."
     ]
    }
   ],
   "source": [
    "hamming_distance('abcde', 'dce')"
   ]
  },
  {
   "cell_type": "code",
   "execution_count": null,
   "id": "ffd63af3",
   "metadata": {},
   "outputs": [],
   "source": []
  }
 ],
 "metadata": {
  "kernelspec": {
   "display_name": "Python 3 (ipykernel)",
   "language": "python",
   "name": "python3"
  },
  "language_info": {
   "codemirror_mode": {
    "name": "ipython",
    "version": 3
   },
   "file_extension": ".py",
   "mimetype": "text/x-python",
   "name": "python",
   "nbconvert_exporter": "python",
   "pygments_lexer": "ipython3",
   "version": "3.8.8"
  },
  "toc": {
   "base_numbering": 1,
   "nav_menu": {},
   "number_sections": true,
   "sideBar": true,
   "skip_h1_title": false,
   "title_cell": "Table of Contents",
   "title_sidebar": "Contents",
   "toc_cell": false,
   "toc_position": {},
   "toc_section_display": true,
   "toc_window_display": false
  }
 },
 "nbformat": 4,
 "nbformat_minor": 5
}
