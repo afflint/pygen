{
 "cells": [
  {
   "cell_type": "markdown",
   "id": "c660b1fe",
   "metadata": {},
   "source": [
    "# Errors\n",
    "\n",
    "There are (at least) two distinguishable kinds of errors: syntax errors and exceptions.\n",
    "\n",
    "**Syntax errors** are caused by a wrong syntax in the code and they lead to the termination of the program. The parser repeats the offending line and displays a little ‘arrow’ pointing at the earliest point in the line where the error was detected. The error is caused by (or at least detected at) the token preceding the arrow"
   ]
  },
  {
   "cell_type": "code",
   "execution_count": 1,
   "id": "7297b9f8",
   "metadata": {},
   "outputs": [],
   "source": [
    "# SyntaxError\n"
   ]
  },
  {
   "cell_type": "markdown",
   "id": "57d014bb",
   "metadata": {},
   "source": [
    "Even if a statement or expression is syntactically correct, it may cause an error when an attempt is made to execute it. Errors detected during execution are called **exceptions** and are not unconditionally fatal. Most exceptions are not handled by programs, however, and result in error messages."
   ]
  },
  {
   "cell_type": "code",
   "execution_count": 2,
   "id": "6c090e65",
   "metadata": {},
   "outputs": [],
   "source": [
    "# ZeroDivisionError\n"
   ]
  },
  {
   "cell_type": "code",
   "execution_count": 3,
   "id": "1534d782",
   "metadata": {},
   "outputs": [],
   "source": [
    "# NameError\n"
   ]
  },
  {
   "cell_type": "code",
   "execution_count": 4,
   "id": "42431f28",
   "metadata": {},
   "outputs": [],
   "source": [
    "# TypeError\n"
   ]
  },
  {
   "cell_type": "code",
   "execution_count": 5,
   "id": "7b3c4283",
   "metadata": {},
   "outputs": [],
   "source": [
    "# IndexError\n"
   ]
  },
  {
   "cell_type": "markdown",
   "id": "b0bc6bc2",
   "metadata": {},
   "source": [
    "## Handling Exceptions\n",
    "\n",
    "### `try ... else`\n",
    "\n",
    "The `try` statement specifies exception handlers and/or cleanup code for a group of statements. The `except` clause(s) specify one or more exception handlers. When no exception occurs in the `try` clause, no exception handler is executed. When an exception occurs in the `try` suite, a search for an exception handler is started. This search inspects the `except` clauses in turn until one is found that matches the exception."
   ]
  },
  {
   "cell_type": "code",
   "execution_count": null,
   "id": "0fbe11d3",
   "metadata": {},
   "outputs": [],
   "source": []
  },
  {
   "cell_type": "markdown",
   "id": "58d9fefa",
   "metadata": {},
   "source": [
    "### `else` \n",
    "\n",
    "The use of the `else` clause is better than adding additional code to the `try` clause because it avoids accidentally catching an exception that wasn’t raised by the code being protected by the `try ... except` statement."
   ]
  },
  {
   "cell_type": "code",
   "execution_count": null,
   "id": "b3aac71f",
   "metadata": {},
   "outputs": [],
   "source": []
  },
  {
   "cell_type": "markdown",
   "id": "eea18577",
   "metadata": {},
   "source": [
    "### `finally`\n",
    "\n",
    "If a `finally` clause is present, the finally clause will execute as the last task before the try statement completes. The finally clause runs whether or not the try statement produces an exception. "
   ]
  },
  {
   "cell_type": "code",
   "execution_count": null,
   "id": "456b0788",
   "metadata": {},
   "outputs": [],
   "source": []
  },
  {
   "cell_type": "markdown",
   "id": "34ef551f",
   "metadata": {},
   "source": [
    "### `raise`\n",
    "\n",
    "The `raise` statement allows the programmer to force a specified exception to occur."
   ]
  },
  {
   "cell_type": "code",
   "execution_count": null,
   "id": "d7c5ae31",
   "metadata": {},
   "outputs": [],
   "source": []
  },
  {
   "cell_type": "markdown",
   "id": "e4629dd3",
   "metadata": {},
   "source": [
    "### `assert`\n",
    "\n",
    "The `assert` keyword lets you test if a condition in your code returns `True`, if not, the program will raise an `AssertionError`."
   ]
  },
  {
   "cell_type": "code",
   "execution_count": null,
   "id": "12044f18",
   "metadata": {},
   "outputs": [],
   "source": []
  }
 ],
 "metadata": {
  "kernelspec": {
   "display_name": "Python 3 (ipykernel)",
   "language": "python",
   "name": "python3"
  },
  "language_info": {
   "codemirror_mode": {
    "name": "ipython",
    "version": 3
   },
   "file_extension": ".py",
   "mimetype": "text/x-python",
   "name": "python",
   "nbconvert_exporter": "python",
   "pygments_lexer": "ipython3",
   "version": "3.8.13"
  }
 },
 "nbformat": 4,
 "nbformat_minor": 5
}
