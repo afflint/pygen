{
 "cells": [
  {
   "cell_type": "markdown",
   "id": "090f91fd",
   "metadata": {},
   "source": [
    "## Password Generator\n",
    "\n",
    "Define a function which generates a password given length and complexity."
   ]
  },
  {
   "cell_type": "markdown",
   "id": "bfe0b294",
   "metadata": {},
   "source": [
    "### Import required modules"
   ]
  },
  {
   "cell_type": "code",
   "execution_count": 1,
   "id": "f2e2b185",
   "metadata": {},
   "outputs": [],
   "source": [
    "import random\n",
    "import string"
   ]
  },
  {
   "cell_type": "markdown",
   "id": "c0b8ef70",
   "metadata": {},
   "source": [
    "### Define a random password made of letters"
   ]
  },
  {
   "cell_type": "code",
   "execution_count": 12,
   "id": "4be4bc3a",
   "metadata": {},
   "outputs": [
    {
     "name": "stdout",
     "output_type": "stream",
     "text": [
      "['o', 'q', 'q', 'k', 'g', 'c', 'z', 'u', 'q', 'w']\n"
     ]
    }
   ],
   "source": [
    "characters = random.choices(string.ascii_lowercase, k=10)\n",
    "print(characters)"
   ]
  },
  {
   "cell_type": "code",
   "execution_count": 14,
   "id": "40705a13",
   "metadata": {},
   "outputs": [
    {
     "name": "stdout",
     "output_type": "stream",
     "text": [
      "oqqkgczuqw\n"
     ]
    }
   ],
   "source": [
    "password = ''.join(characters)\n",
    "print(password)"
   ]
  },
  {
   "cell_type": "markdown",
   "id": "fc986599",
   "metadata": {},
   "source": [
    "### Define the function taking length as input"
   ]
  },
  {
   "cell_type": "code",
   "execution_count": 15,
   "id": "c8193961",
   "metadata": {},
   "outputs": [],
   "source": [
    "def password_generator(length):\n",
    "    characters = random.choices(string.ascii_lowercase, k=length)\n",
    "    return ''.join(characters)"
   ]
  },
  {
   "cell_type": "code",
   "execution_count": 16,
   "id": "fb8f798f",
   "metadata": {},
   "outputs": [
    {
     "data": {
      "text/plain": [
       "'dcvgzqdhodcv'"
      ]
     },
     "execution_count": 16,
     "metadata": {},
     "output_type": "execute_result"
    }
   ],
   "source": [
    "password_generator(12)"
   ]
  },
  {
   "cell_type": "markdown",
   "id": "879251f3",
   "metadata": {},
   "source": [
    "### Consider also upper case letters"
   ]
  },
  {
   "cell_type": "code",
   "execution_count": 17,
   "id": "6882cbf8",
   "metadata": {},
   "outputs": [
    {
     "data": {
      "text/plain": [
       "'sWCjtFuToRAk'"
      ]
     },
     "execution_count": 17,
     "metadata": {},
     "output_type": "execute_result"
    }
   ],
   "source": [
    "def password_generator(length):\n",
    "    characters = random.choices(string.ascii_letters, k=length)\n",
    "    return ''.join(characters)\n",
    "\n",
    "password_generator(12)"
   ]
  },
  {
   "cell_type": "markdown",
   "id": "bc7fef12",
   "metadata": {},
   "source": [
    "### Add special characters based on complexity"
   ]
  },
  {
   "cell_type": "code",
   "execution_count": 20,
   "id": "92db67ae",
   "metadata": {},
   "outputs": [],
   "source": [
    "def password_generator(length, complexity=0):\n",
    "    \n",
    "    available_chars = string.ascii_letters\n",
    "    \n",
    "    if complexity >= 1:\n",
    "        available_chars += string.digits\n",
    "        \n",
    "    if complexity >= 2:\n",
    "        available_chars += string.punctuation\n",
    "        \n",
    "    characters = random.choices(available_chars, k=length)\n",
    "\n",
    "    return ''.join(characters)"
   ]
  },
  {
   "cell_type": "code",
   "execution_count": 21,
   "id": "9b258504",
   "metadata": {},
   "outputs": [
    {
     "data": {
      "text/plain": [
       "'U/OSI&T:Ev!?'"
      ]
     },
     "execution_count": 21,
     "metadata": {},
     "output_type": "execute_result"
    }
   ],
   "source": [
    "password_generator(12, complexity=2)"
   ]
  },
  {
   "cell_type": "code",
   "execution_count": null,
   "id": "c8c11a7f",
   "metadata": {},
   "outputs": [],
   "source": []
  }
 ],
 "metadata": {
  "kernelspec": {
   "display_name": "Python 3 (ipykernel)",
   "language": "python",
   "name": "python3"
  },
  "language_info": {
   "codemirror_mode": {
    "name": "ipython",
    "version": 3
   },
   "file_extension": ".py",
   "mimetype": "text/x-python",
   "name": "python",
   "nbconvert_exporter": "python",
   "pygments_lexer": "ipython3",
   "version": "3.8.13"
  }
 },
 "nbformat": 4,
 "nbformat_minor": 5
}
