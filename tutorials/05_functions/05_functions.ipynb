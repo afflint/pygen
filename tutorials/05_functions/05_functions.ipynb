{
 "cells": [
  {
   "cell_type": "markdown",
   "id": "33918036",
   "metadata": {},
   "source": [
    "# Functions\n",
    "\n",
    "A **function** is a group of related statements that performs a specific task: it avoids repetition and makes the code reusable. A function is defined in Python using the following syntax:\n",
    "\n",
    "```\n",
    "def function(parameters):\n",
    "    <statement>\n",
    "```"
   ]
  },
  {
   "cell_type": "code",
   "execution_count": 1,
   "id": "164e81bd",
   "metadata": {},
   "outputs": [],
   "source": [
    "# Function definition\n"
   ]
  },
  {
   "cell_type": "markdown",
   "id": "e10e0c5d",
   "metadata": {},
   "source": [
    "To call a function we simply type the function name with appropriate parameters."
   ]
  },
  {
   "cell_type": "code",
   "execution_count": 2,
   "id": "2db46119",
   "metadata": {},
   "outputs": [
    {
     "name": "stdout",
     "output_type": "stream",
     "text": [
      "Hello!\n"
     ]
    }
   ],
   "source": [
    "# Function calling\n"
   ]
  },
  {
   "cell_type": "markdown",
   "id": "77ce250a",
   "metadata": {},
   "source": [
    "Information can be passed into functions as **parameters**. Parameters are specified after the function name, inside the parentheses. You can add as many parameters as you want, just separate them with a comma."
   ]
  },
  {
   "cell_type": "code",
   "execution_count": 15,
   "id": "7799311e",
   "metadata": {},
   "outputs": [],
   "source": [
    "# Function w/ parameters\n"
   ]
  },
  {
   "cell_type": "code",
   "execution_count": 16,
   "id": "f3e9e1b1",
   "metadata": {},
   "outputs": [
    {
     "name": "stdout",
     "output_type": "stream",
     "text": [
      "Hello Sergio!\n"
     ]
    }
   ],
   "source": []
  },
  {
   "cell_type": "markdown",
   "id": "977f193a",
   "metadata": {},
   "source": [
    "*Default values* indicate that the function argument will take that value if no argument value is passed during the function call. The default value is assigned by using the assignment(=) operator of the form `key=value`."
   ]
  },
  {
   "cell_type": "code",
   "execution_count": 28,
   "id": "d4b064fb",
   "metadata": {},
   "outputs": [],
   "source": [
    "# Function w/ default parameters\n"
   ]
  },
  {
   "cell_type": "code",
   "execution_count": 29,
   "id": "a72dacc3",
   "metadata": {},
   "outputs": [
    {
     "name": "stdout",
     "output_type": "stream",
     "text": [
      "Good morning Sergio!\n"
     ]
    }
   ],
   "source": []
  },
  {
   "cell_type": "markdown",
   "id": "5f4a462b",
   "metadata": {},
   "source": [
    "`*args` allows to pass a variable number of non keyword arguments in the function."
   ]
  },
  {
   "cell_type": "code",
   "execution_count": 40,
   "id": "0ce829f7",
   "metadata": {},
   "outputs": [],
   "source": [
    "# Usage of *args\n"
   ]
  },
  {
   "cell_type": "code",
   "execution_count": 41,
   "id": "3dd14c2e",
   "metadata": {},
   "outputs": [
    {
     "name": "stdout",
     "output_type": "stream",
     "text": [
      "Hello Alice!\n",
      "Hello Bob!\n",
      "Hello Charlie!\n"
     ]
    }
   ],
   "source": []
  },
  {
   "cell_type": "markdown",
   "id": "90b580ec",
   "metadata": {},
   "source": [
    "`**kwargs` allows to pass a variable number of non keyword arguments in the function."
   ]
  },
  {
   "cell_type": "code",
   "execution_count": 47,
   "id": "61b50e7c",
   "metadata": {},
   "outputs": [],
   "source": [
    "# Usage of **kargs\n"
   ]
  },
  {
   "cell_type": "code",
   "execution_count": 50,
   "id": "0a7cfcbb",
   "metadata": {},
   "outputs": [
    {
     "name": "stdout",
     "output_type": "stream",
     "text": [
      "Hi Alice!\n",
      "Hello Bob!\n",
      "Good morning Charlie!\n"
     ]
    }
   ],
   "source": []
  },
  {
   "cell_type": "markdown",
   "id": "5649a463",
   "metadata": {},
   "source": [
    "## `return`\n",
    "\n",
    "The `return` statement is used inside a function to send the function's result back to the caller. "
   ]
  },
  {
   "cell_type": "code",
   "execution_count": 58,
   "id": "bc3fb8dc",
   "metadata": {},
   "outputs": [],
   "source": [
    "# Square function"
   ]
  },
  {
   "cell_type": "code",
   "execution_count": null,
   "id": "f5b196ad",
   "metadata": {},
   "outputs": [],
   "source": [
    "# Email generator"
   ]
  },
  {
   "cell_type": "markdown",
   "id": "2549dcc8",
   "metadata": {},
   "source": [
    "## Recursion\n",
    "\n",
    "The process in which a function calls itself directly or indirectly is called **recursion** and the corresponding function is called a *recursive function*.\n",
    "\n",
    "- Performing the same operations multiple times with different inputs.\n",
    "- In every step, we try smaller inputs to make the problem smaller.\n",
    "- Base condition is needed to stop the recursion otherwise infinite loop will occur."
   ]
  },
  {
   "cell_type": "code",
   "execution_count": 70,
   "id": "a73f1310",
   "metadata": {},
   "outputs": [],
   "source": [
    "# Countdown\n"
   ]
  },
  {
   "cell_type": "code",
   "execution_count": 79,
   "id": "c37ca183",
   "metadata": {},
   "outputs": [],
   "source": [
    "# Factorial\n"
   ]
  },
  {
   "cell_type": "code",
   "execution_count": 87,
   "id": "edf2d6ec",
   "metadata": {},
   "outputs": [],
   "source": [
    "# Fibonacci sequence\n"
   ]
  },
  {
   "cell_type": "markdown",
   "id": "c58f90d6",
   "metadata": {},
   "source": [
    "## `lambda` functions\n",
    "\n",
    "A **lambda function** is a small anonymous function, which can have many parameters but only one expression.\n",
    "\n",
    "```\n",
    "lambda parameter(s): expression\n",
    "```"
   ]
  },
  {
   "cell_type": "code",
   "execution_count": null,
   "id": "80264ab5",
   "metadata": {},
   "outputs": [],
   "source": []
  },
  {
   "cell_type": "markdown",
   "id": "4371e116",
   "metadata": {},
   "source": [
    "# Variable Scope\n",
    "\n",
    "Not all variables can be accessed from anywhere in a program. The part of a program where a variable is accessible is called its **scope**. There are four major types of variable scope and is the basis for the *LEGB rule*: Local, Enclosing, Global, Built-in."
   ]
  },
  {
   "cell_type": "code",
   "execution_count": 117,
   "id": "52a9a88a",
   "metadata": {},
   "outputs": [],
   "source": [
    "# Local scope\n"
   ]
  },
  {
   "cell_type": "code",
   "execution_count": 123,
   "id": "005fdd88",
   "metadata": {},
   "outputs": [
    {
     "name": "stdout",
     "output_type": "stream",
     "text": [
      "This is printed in the outer function: 5\n",
      "This is printed in the inner function: 8\n",
      "This is printed in the inner function: 5\n"
     ]
    }
   ],
   "source": [
    "# Enclosing scope\n"
   ]
  },
  {
   "cell_type": "code",
   "execution_count": 125,
   "id": "b53e4eb6",
   "metadata": {},
   "outputs": [],
   "source": [
    "# Global scope\n"
   ]
  },
  {
   "cell_type": "code",
   "execution_count": 136,
   "id": "c8039c0f",
   "metadata": {},
   "outputs": [],
   "source": [
    "# global keyword\n"
   ]
  },
  {
   "cell_type": "code",
   "execution_count": 149,
   "id": "371e6ab5",
   "metadata": {},
   "outputs": [
    {
     "name": "stdout",
     "output_type": "stream",
     "text": [
      "This is printed in the outer function: 5\n",
      "This is printed in the inner function: 8\n",
      "This is printed in the inner function: 6\n",
      "This is printed in the outer function: 6\n"
     ]
    }
   ],
   "source": [
    "# nonlocal keyword\n"
   ]
  },
  {
   "cell_type": "markdown",
   "id": "9c9f45a2",
   "metadata": {},
   "source": [
    "# Exercises\n",
    "\n",
    "1. Write a function that returns even numbers from a given list."
   ]
  },
  {
   "cell_type": "code",
   "execution_count": null,
   "id": "8db1a452",
   "metadata": {},
   "outputs": [],
   "source": []
  },
  {
   "cell_type": "markdown",
   "id": "16560107",
   "metadata": {},
   "source": [
    "2. Write a function that counts the occurrences of each vowel inside a given string."
   ]
  },
  {
   "cell_type": "code",
   "execution_count": null,
   "id": "bc75f400",
   "metadata": {},
   "outputs": [],
   "source": []
  }
 ],
 "metadata": {
  "kernelspec": {
   "display_name": "Python 3 (ipykernel)",
   "language": "python",
   "name": "python3"
  },
  "language_info": {
   "codemirror_mode": {
    "name": "ipython",
    "version": 3
   },
   "file_extension": ".py",
   "mimetype": "text/x-python",
   "name": "python",
   "nbconvert_exporter": "python",
   "pygments_lexer": "ipython3",
   "version": "3.8.13"
  }
 },
 "nbformat": 4,
 "nbformat_minor": 5
}
