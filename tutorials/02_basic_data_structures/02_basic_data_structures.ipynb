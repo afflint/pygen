{
 "cells": [
  {
   "cell_type": "markdown",
   "id": "86dcd382",
   "metadata": {},
   "source": [
    "# Data Structures\n",
    "\n",
    "A **data structure** is a specialized format for organizing, processing, retrieving and storing data. There are several basic and advanced types of data structures, all designed to arrange data to suit a specific purpose. Data structures make it easy for users to access and work with the data they need in appropriate ways.\n",
    "\n",
    "## Lists\n",
    "\n",
    "**Lists** are used to store multiple items in a single variable and are created using square brackets, `[...]`."
   ]
  },
  {
   "cell_type": "code",
   "execution_count": null,
   "id": "1471eefd",
   "metadata": {},
   "outputs": [],
   "source": [
    "\n"
   ]
  },
  {
   "cell_type": "markdown",
   "id": "786e26de",
   "metadata": {},
   "source": [
    "A list can contain different data types."
   ]
  },
  {
   "cell_type": "code",
   "execution_count": null,
   "id": "7a07b537",
   "metadata": {},
   "outputs": [],
   "source": [
    "\n"
   ]
  },
  {
   "cell_type": "markdown",
   "id": "408f2811",
   "metadata": {},
   "source": [
    "Like all the other built-in sequence types, such as strings, lists can be indexed and sliced."
   ]
  },
  {
   "cell_type": "code",
   "execution_count": null,
   "id": "10e0c90f",
   "metadata": {},
   "outputs": [],
   "source": [
    "\n"
   ]
  },
  {
   "cell_type": "markdown",
   "id": "4df71c54",
   "metadata": {},
   "source": [
    "Unlike strings, which are *immutable*, lists are a *mutable* type, thus it is possible to change their content."
   ]
  },
  {
   "cell_type": "code",
   "execution_count": null,
   "id": "c998d5fc",
   "metadata": {},
   "outputs": [],
   "source": [
    "\n"
   ]
  },
  {
   "cell_type": "markdown",
   "id": "39098447",
   "metadata": {},
   "source": [
    "It is also possible to use the `list()` constructor to make a list."
   ]
  },
  {
   "cell_type": "code",
   "execution_count": null,
   "id": "157c888a",
   "metadata": {},
   "outputs": [],
   "source": [
    "\n"
   ]
  },
  {
   "cell_type": "markdown",
   "id": "8d0f6a57",
   "metadata": {},
   "source": [
    "### `len(object)`\n",
    "\n",
    "The `len()` function returns the length (the number of items) of an object. The argument may be a sequence (such as a string, bytes, tuple, list, or range) or a collection (such as a dictionary, set, or frozen set)."
   ]
  },
  {
   "cell_type": "code",
   "execution_count": null,
   "id": "37b23791",
   "metadata": {},
   "outputs": [],
   "source": []
  },
  {
   "cell_type": "markdown",
   "id": "b13f8cbb",
   "metadata": {},
   "source": [
    "### `list` Methods\n",
    "\n",
    "Lists are ordered, meaning that the items have a defined order, and that order will not change. If you add new items to a list, the new items will be placed at the end of the it.\n",
    "\n",
    "`list.append(x)` adds an item to the end of the list."
   ]
  },
  {
   "cell_type": "code",
   "execution_count": null,
   "id": "7ecc7a49",
   "metadata": {},
   "outputs": [],
   "source": [
    "\n"
   ]
  },
  {
   "cell_type": "markdown",
   "id": "0391460d",
   "metadata": {},
   "source": [
    "`list.pop([i])` removes the item at the given position in the list, and return it. If no index is specified, it removes and returns the last item in the list."
   ]
  },
  {
   "cell_type": "code",
   "execution_count": null,
   "id": "b0ae20a7",
   "metadata": {},
   "outputs": [],
   "source": [
    "\n"
   ]
  },
  {
   "cell_type": "markdown",
   "id": "ebf1371e",
   "metadata": {},
   "source": [
    "## Tuples\n",
    "\n",
    "**Tuples** are used to store multiple items in a single variable. They are written with round brackets, `(...)`, and their items are ordered, unchangeable, and allow duplicate values."
   ]
  },
  {
   "cell_type": "code",
   "execution_count": null,
   "id": "c917909b",
   "metadata": {},
   "outputs": [],
   "source": []
  },
  {
   "cell_type": "markdown",
   "id": "94d7bbf9",
   "metadata": {},
   "source": [
    "To create a tuple with only one item, you have to add a comma after the item, otherwise Python will not recognize it as a tuple."
   ]
  },
  {
   "cell_type": "code",
   "execution_count": null,
   "id": "4c68aa91",
   "metadata": {},
   "outputs": [],
   "source": [
    "\n"
   ]
  },
  {
   "cell_type": "markdown",
   "id": "f60bf056",
   "metadata": {},
   "source": [
    "It is also possible to use the `tuple()` constructor to make a tuple."
   ]
  },
  {
   "cell_type": "code",
   "execution_count": null,
   "id": "3c595ef3",
   "metadata": {},
   "outputs": [],
   "source": [
    "\n"
   ]
  },
  {
   "cell_type": "markdown",
   "id": "1c21c4b8",
   "metadata": {},
   "source": [
    "Though tuples may seem similar to lists, they are often used in different situations and for different purposes. Tuples are immutable, and usually contain a heterogeneous sequence of elements that are accessed via unpacking or indexing. Lists are mutable, and their elements are usually homogeneous and are accessed by iterating over the list."
   ]
  },
  {
   "cell_type": "code",
   "execution_count": null,
   "id": "4a94269a",
   "metadata": {},
   "outputs": [],
   "source": [
    "\n"
   ]
  },
  {
   "cell_type": "code",
   "execution_count": null,
   "id": "beed195e",
   "metadata": {},
   "outputs": [],
   "source": [
    "\n"
   ]
  },
  {
   "cell_type": "markdown",
   "id": "6511e559",
   "metadata": {},
   "source": [
    "### `zip(*iterable)`\n",
    "\n",
    "The built-in `zip()` function iterates over several iterables in parallel, producing tuples with an item from each one."
   ]
  },
  {
   "cell_type": "code",
   "execution_count": null,
   "id": "f63bba91",
   "metadata": {},
   "outputs": [],
   "source": [
    "\n"
   ]
  },
  {
   "cell_type": "code",
   "execution_count": null,
   "id": "d4a8d8e7",
   "metadata": {},
   "outputs": [],
   "source": []
  },
  {
   "cell_type": "markdown",
   "id": "eca01cf5",
   "metadata": {},
   "source": [
    "## Sets\n",
    "\n",
    "A **set** is an unordered, unindexed and unchangeable collection with no duplicate elements. Basic uses include membership testing and eliminating duplicate entries. Set objects also support mathematical operations like union, intersection, difference, and symmetric difference. Sets are written with curly brackets, `{...}`."
   ]
  },
  {
   "cell_type": "code",
   "execution_count": null,
   "id": "7e71bb84",
   "metadata": {},
   "outputs": [],
   "source": [
    "\n"
   ]
  },
  {
   "cell_type": "markdown",
   "id": "9e623e6d",
   "metadata": {},
   "source": [
    "It is also possible to use the `set()` constructor to make a set."
   ]
  },
  {
   "cell_type": "code",
   "execution_count": null,
   "id": "42cb2356",
   "metadata": {},
   "outputs": [],
   "source": [
    "\n"
   ]
  },
  {
   "cell_type": "markdown",
   "id": "49e59e33",
   "metadata": {},
   "source": [
    "### Operations on Sets\n",
    "\n",
    "The *union* is performed using the `|` operator or the `set.union()` method."
   ]
  },
  {
   "cell_type": "code",
   "execution_count": 1,
   "id": "a7e5cf80",
   "metadata": {},
   "outputs": [],
   "source": [
    "# Union\n",
    "\n"
   ]
  },
  {
   "cell_type": "markdown",
   "id": "972c6a70",
   "metadata": {},
   "source": [
    "The *intersection* is performed using the `&` operator or the `set.intersection()` method."
   ]
  },
  {
   "cell_type": "code",
   "execution_count": 2,
   "id": "845e52d8",
   "metadata": {},
   "outputs": [],
   "source": [
    "# Intersection\n",
    "\n"
   ]
  },
  {
   "cell_type": "markdown",
   "id": "8f9f8500",
   "metadata": {},
   "source": [
    "The *difference* is performed using the `-` operator or the `set.difference()` method."
   ]
  },
  {
   "cell_type": "code",
   "execution_count": 3,
   "id": "9def198e",
   "metadata": {},
   "outputs": [],
   "source": [
    "# Difference\n",
    "\n"
   ]
  },
  {
   "cell_type": "code",
   "execution_count": null,
   "id": "a6591ac1",
   "metadata": {},
   "outputs": [],
   "source": []
  },
  {
   "cell_type": "markdown",
   "id": "58621684",
   "metadata": {},
   "source": [
    "The *symmetric difference* is performed using the `^` operator or the `set.symmetric_difference()` method."
   ]
  },
  {
   "cell_type": "code",
   "execution_count": 4,
   "id": "3522945f",
   "metadata": {},
   "outputs": [],
   "source": [
    "# Symmetric Difference\n",
    "\n"
   ]
  },
  {
   "cell_type": "markdown",
   "id": "0d1300c8",
   "metadata": {},
   "source": [
    "### Membership Tests\n",
    "\n",
    "A **membership test** checks whether a specific element is contained in a sequence, such as strings, lists, tuples, or sets. One of the main advantages of using sets in Python is that they are highly optimized for membership tests.\n",
    "\n",
    "The `in` operator works with iterable types, such as lists or strings, in Python. It is used to check if an element is found in the iterable. The in operator returns True if an element is found. It returns False if not."
   ]
  },
  {
   "cell_type": "code",
   "execution_count": null,
   "id": "05e93228",
   "metadata": {},
   "outputs": [],
   "source": []
  },
  {
   "cell_type": "markdown",
   "id": "60a30e2a",
   "metadata": {},
   "source": [
    "## Dictionaries\n",
    "\n",
    "A **dictionary** is used to store values in *key: value* format and it is defined using curly brackets, `{key:value}`. Unlike sequences, which are indexed by a range of numbers, dictionaries are indexed by keys, which can be any immutable type, with the requirement that the keys are unique. "
   ]
  },
  {
   "cell_type": "code",
   "execution_count": null,
   "id": "a2e77a38",
   "metadata": {},
   "outputs": [],
   "source": []
  },
  {
   "cell_type": "markdown",
   "id": "f6ed620f",
   "metadata": {},
   "source": [
    "It is also possible to use the `dict()` constructor to make a dictionary."
   ]
  },
  {
   "cell_type": "code",
   "execution_count": null,
   "id": "a2ee447c",
   "metadata": {},
   "outputs": [],
   "source": []
  },
  {
   "cell_type": "markdown",
   "id": "1d89d6be",
   "metadata": {},
   "source": [
    "You can access the items of a dictionary by referring to its key name, inside square brackets."
   ]
  },
  {
   "cell_type": "code",
   "execution_count": null,
   "id": "d5a52109",
   "metadata": {},
   "outputs": [],
   "source": []
  },
  {
   "cell_type": "markdown",
   "id": "28b17773",
   "metadata": {},
   "source": [
    "### `dict` methods"
   ]
  },
  {
   "cell_type": "markdown",
   "id": "506ca426",
   "metadata": {},
   "source": [
    "`dict.keys()` returns a list containing the dictionary's keys."
   ]
  },
  {
   "cell_type": "code",
   "execution_count": null,
   "id": "6132c30f",
   "metadata": {},
   "outputs": [],
   "source": []
  },
  {
   "cell_type": "markdown",
   "id": "0defe017",
   "metadata": {},
   "source": [
    "`dict.values()` returns a list of all the values in the dictionary."
   ]
  },
  {
   "cell_type": "code",
   "execution_count": null,
   "id": "649306d1",
   "metadata": {},
   "outputs": [],
   "source": []
  },
  {
   "cell_type": "markdown",
   "id": "acee6877",
   "metadata": {},
   "source": [
    "`dict.items()` returns a list containing a tuple for each key value pair."
   ]
  },
  {
   "cell_type": "code",
   "execution_count": null,
   "id": "18a4cfe6",
   "metadata": {},
   "outputs": [],
   "source": []
  },
  {
   "cell_type": "markdown",
   "id": "85498376",
   "metadata": {},
   "source": [
    "# Reading and Writing Files\n",
    "\n",
    "A **module** is a file containing a set of functions you want to include in your application. In order to gain access to the code inside a module we use the `import` statement.\n",
    "\n",
    "##  `os` module\n",
    "\n",
    "The `os` module provides a portable way of using operating system dependent functionality."
   ]
  },
  {
   "cell_type": "code",
   "execution_count": null,
   "id": "89793d28",
   "metadata": {},
   "outputs": [],
   "source": []
  },
  {
   "cell_type": "markdown",
   "id": "72d8b7d5",
   "metadata": {},
   "source": [
    "`os.getcwd()` returns a string representing the current working directory."
   ]
  },
  {
   "cell_type": "code",
   "execution_count": null,
   "id": "6095ba4c",
   "metadata": {},
   "outputs": [],
   "source": []
  },
  {
   "cell_type": "markdown",
   "id": "f56b9363",
   "metadata": {},
   "source": [
    "`os.listdir(path='.')` returns a list containing the names of the entries in the directory given by path."
   ]
  },
  {
   "cell_type": "code",
   "execution_count": null,
   "id": "fd266a46",
   "metadata": {},
   "outputs": [],
   "source": []
  },
  {
   "cell_type": "markdown",
   "id": "79f7d143",
   "metadata": {},
   "source": [
    "## `open(file, mode)`\n",
    "\n",
    "The `open()` built-in function opens a file and returns a corresponding file object."
   ]
  },
  {
   "cell_type": "code",
   "execution_count": null,
   "id": "91ec050d",
   "metadata": {},
   "outputs": [],
   "source": []
  },
  {
   "cell_type": "markdown",
   "id": "ab21a197",
   "metadata": {},
   "source": [
    "The `read()` method reads up bytes from the object and return them. The `readline()` method reads and returns one line from the stream."
   ]
  },
  {
   "cell_type": "code",
   "execution_count": null,
   "id": "1fda5fd1",
   "metadata": {},
   "outputs": [],
   "source": []
  },
  {
   "cell_type": "markdown",
   "id": "d5138a9a",
   "metadata": {},
   "source": [
    "The `close()` method flushes and closes the stream."
   ]
  },
  {
   "cell_type": "code",
   "execution_count": null,
   "id": "d7a0d780",
   "metadata": {},
   "outputs": [],
   "source": []
  },
  {
   "cell_type": "markdown",
   "id": "93370709",
   "metadata": {},
   "source": [
    "The `with` statement is used to wrap the execution of a block with methods defined by a context manager. It ensures you don’t accidentally leave any resources open. "
   ]
  },
  {
   "cell_type": "code",
   "execution_count": null,
   "id": "00f91d99",
   "metadata": {},
   "outputs": [],
   "source": [
    "\n"
   ]
  },
  {
   "cell_type": "code",
   "execution_count": null,
   "id": "4c5ad3d8",
   "metadata": {},
   "outputs": [],
   "source": []
  },
  {
   "cell_type": "markdown",
   "id": "d44977ca",
   "metadata": {},
   "source": [
    "The `write()` method writes the given bytes-like object to the underlying raw stream. The `writelines()` method writes a list of lines to the stream; line separators are not added, so it is usual for each of the lines provided to have a line separator at the end."
   ]
  },
  {
   "cell_type": "markdown",
   "id": "0cc828b8",
   "metadata": {},
   "source": [
    "## `json` module\n",
    "\n",
    "**JSON** (JavaScript Object Notation) is a lightweight data-interchange format. It is easy for humans to read and write. It is easy for machines to parse and generate. JSON is built on two structures: a collection of name/value pairs and an ordered list of values.\n",
    "\n",
    "In Python, the `json` module makes it easy to parse JSON strings and files containing JSON object. To load a .json file, we use the `json.load()` method."
   ]
  },
  {
   "cell_type": "code",
   "execution_count": null,
   "id": "fcb95ca8",
   "metadata": {},
   "outputs": [],
   "source": [
    "\n",
    "\n",
    "\n"
   ]
  },
  {
   "cell_type": "code",
   "execution_count": null,
   "id": "4924b0c3",
   "metadata": {},
   "outputs": [],
   "source": [
    "\n"
   ]
  },
  {
   "cell_type": "markdown",
   "id": "df2bd64a",
   "metadata": {},
   "source": [
    "# Exercises\n",
    "\n",
    "1. Generate a list containing only the names of the capitals from the following dictionary: `{'Italy': 'Rome', 'France': 'Paris', 'Spain': 'Madrid'}`."
   ]
  },
  {
   "cell_type": "code",
   "execution_count": null,
   "id": "9906105b",
   "metadata": {},
   "outputs": [],
   "source": []
  },
  {
   "cell_type": "markdown",
   "id": "e8f3d665",
   "metadata": {},
   "source": [
    "2. Create a .json file containing data about three stocks of your choice: for each of them indicate name, symbol, industry and last closing price."
   ]
  },
  {
   "cell_type": "code",
   "execution_count": null,
   "id": "baeb9598",
   "metadata": {},
   "outputs": [],
   "source": []
  }
 ],
 "metadata": {
  "kernelspec": {
   "display_name": "Python 3 (ipykernel)",
   "language": "python",
   "name": "python3"
  },
  "language_info": {
   "codemirror_mode": {
    "name": "ipython",
    "version": 3
   },
   "file_extension": ".py",
   "mimetype": "text/x-python",
   "name": "python",
   "nbconvert_exporter": "python",
   "pygments_lexer": "ipython3",
   "version": "3.8.8"
  },
  "toc": {
   "base_numbering": 1,
   "nav_menu": {},
   "number_sections": true,
   "sideBar": true,
   "skip_h1_title": false,
   "title_cell": "Table of Contents",
   "title_sidebar": "Contents",
   "toc_cell": false,
   "toc_position": {},
   "toc_section_display": true,
   "toc_window_display": false
  }
 },
 "nbformat": 4,
 "nbformat_minor": 5
}
