{
 "cells": [
  {
   "cell_type": "markdown",
   "id": "46f6922d",
   "metadata": {},
   "source": [
    "## Grade Book\n",
    "\n",
    "*[conditional statements, logical operators, numpy mean]*\n",
    "\n",
    "Write the function so that it finds the average of the three scores passed to it and returns the letter value associated with that grade.\n",
    "\n",
    "- A: >=90\n",
    "- B: 80-89\n",
    "- C: 70-79\n",
    "- D: 60-69\n",
    "- F: <60"
   ]
  },
  {
   "cell_type": "markdown",
   "id": "0af6d00d",
   "metadata": {},
   "source": [
    "### Define the three grades"
   ]
  },
  {
   "cell_type": "code",
   "execution_count": 1,
   "id": "0dcce2bb",
   "metadata": {},
   "outputs": [],
   "source": [
    "grade_1 = 90\n",
    "grade_2 = 84\n",
    "grade_3 = 82"
   ]
  },
  {
   "cell_type": "markdown",
   "id": "665f5b03",
   "metadata": {},
   "source": [
    "### Compute their mean"
   ]
  },
  {
   "cell_type": "code",
   "execution_count": 2,
   "id": "6e98089a",
   "metadata": {},
   "outputs": [
    {
     "name": "stdout",
     "output_type": "stream",
     "text": [
      "85.33333333333333\n"
     ]
    }
   ],
   "source": [
    "grades = [grade_1, grade_2, grade_3]\n",
    "\n",
    "average_grade = sum(grades)/len(grades) # sum of values divided by number of values\n",
    "print(average_grade)"
   ]
  },
  {
   "cell_type": "markdown",
   "id": "5f592644",
   "metadata": {},
   "source": [
    "### Compute their mean (w/ numpy)"
   ]
  },
  {
   "cell_type": "code",
   "execution_count": 3,
   "id": "8e37690a",
   "metadata": {},
   "outputs": [
    {
     "name": "stdout",
     "output_type": "stream",
     "text": [
      "85.33333333333333\n"
     ]
    }
   ],
   "source": [
    "import numpy as np\n",
    "\n",
    "average_grade = np.mean(grades)\n",
    "print(average_grade)"
   ]
  },
  {
   "cell_type": "markdown",
   "id": "6732250a",
   "metadata": {},
   "source": [
    "### Check the first condition"
   ]
  },
  {
   "cell_type": "code",
   "execution_count": 4,
   "id": "04b60e36",
   "metadata": {},
   "outputs": [
    {
     "data": {
      "text/plain": [
       "False"
      ]
     },
     "execution_count": 4,
     "metadata": {},
     "output_type": "execute_result"
    }
   ],
   "source": [
    "average_grade > 90"
   ]
  },
  {
   "cell_type": "markdown",
   "id": "1f80eec4",
   "metadata": {},
   "source": [
    "### Introduce conditionals"
   ]
  },
  {
   "cell_type": "code",
   "execution_count": 5,
   "id": "74be83f6",
   "metadata": {},
   "outputs": [
    {
     "name": "stdout",
     "output_type": "stream",
     "text": [
      "Other Marks\n"
     ]
    }
   ],
   "source": [
    "if average_grade > 90:\n",
    "    print('A')\n",
    "else:\n",
    "    print('Other Marks')"
   ]
  },
  {
   "cell_type": "markdown",
   "id": "a128207e",
   "metadata": {},
   "source": [
    "### Include the second condition"
   ]
  },
  {
   "cell_type": "code",
   "execution_count": 6,
   "id": "399c6c7d",
   "metadata": {},
   "outputs": [
    {
     "name": "stdout",
     "output_type": "stream",
     "text": [
      "B\n"
     ]
    }
   ],
   "source": [
    "if average_grade >= 90:\n",
    "    print('A')\n",
    "# use the and operator to check if both conditions are True\n",
    "elif average_grade >= 80 and average_grade < 90:\n",
    "    print('B')\n",
    "else:\n",
    "    print('Other Marks')"
   ]
  },
  {
   "cell_type": "markdown",
   "id": "3cf3230e",
   "metadata": {},
   "source": [
    "### Include the remaining conditions"
   ]
  },
  {
   "cell_type": "code",
   "execution_count": 7,
   "id": "63b655bf",
   "metadata": {},
   "outputs": [
    {
     "name": "stdout",
     "output_type": "stream",
     "text": [
      "B\n"
     ]
    }
   ],
   "source": [
    "if average_grade >= 90:\n",
    "    print('A')\n",
    "elif average_grade >= 80:\n",
    "    print('B')\n",
    "elif average_grade >= 70:\n",
    "    print('C')\n",
    "elif average_grade >= 60:\n",
    "    print('D')\n",
    "else:\n",
    "    print('F')"
   ]
  },
  {
   "cell_type": "markdown",
   "id": "a3faa5da",
   "metadata": {},
   "source": [
    "### Define the function"
   ]
  },
  {
   "cell_type": "code",
   "execution_count": 8,
   "id": "0b749837",
   "metadata": {},
   "outputs": [],
   "source": [
    "def get_grades(g1, g2, g3):\n",
    "    avg = np.mean([g1, g2, g3])\n",
    "    \n",
    "    if avg >= 90:\n",
    "        return 'A'\n",
    "    elif avg >= 80:\n",
    "        return 'B'\n",
    "    elif avg >= 70:\n",
    "        return 'C'\n",
    "    elif avg >= 60:\n",
    "        return 'D'\n",
    "    else:\n",
    "        return 'F'"
   ]
  },
  {
   "cell_type": "code",
   "execution_count": 9,
   "id": "2be0cbe5",
   "metadata": {
    "scrolled": true
   },
   "outputs": [
    {
     "data": {
      "text/plain": [
       "'B'"
      ]
     },
     "execution_count": 9,
     "metadata": {},
     "output_type": "execute_result"
    }
   ],
   "source": [
    "get_grades(grade_1, grade_2, grade_3)"
   ]
  },
  {
   "cell_type": "markdown",
   "id": "54469cd5",
   "metadata": {},
   "source": [
    "### Usage of `*args` "
   ]
  },
  {
   "cell_type": "code",
   "execution_count": 10,
   "id": "26911598",
   "metadata": {},
   "outputs": [],
   "source": [
    "def get_grades(*args):\n",
    "    avg = np.mean(args)\n",
    "    \n",
    "    if avg >= 90:\n",
    "        return 'A'\n",
    "    elif avg >= 80:\n",
    "        return 'B'\n",
    "    elif avg >= 70:\n",
    "        return 'C'\n",
    "    elif avg >= 60:\n",
    "        return 'D'\n",
    "    else:\n",
    "        return 'F'"
   ]
  },
  {
   "cell_type": "code",
   "execution_count": 11,
   "id": "eb03c266",
   "metadata": {},
   "outputs": [
    {
     "data": {
      "text/plain": [
       "'B'"
      ]
     },
     "execution_count": 11,
     "metadata": {},
     "output_type": "execute_result"
    }
   ],
   "source": [
    "get_grades(grade_1, grade_2)"
   ]
  },
  {
   "cell_type": "code",
   "execution_count": null,
   "id": "274a0f95",
   "metadata": {},
   "outputs": [],
   "source": []
  }
 ],
 "metadata": {
  "kernelspec": {
   "display_name": "Python 3 (ipykernel)",
   "language": "python",
   "name": "python3"
  },
  "language_info": {
   "codemirror_mode": {
    "name": "ipython",
    "version": 3
   },
   "file_extension": ".py",
   "mimetype": "text/x-python",
   "name": "python",
   "nbconvert_exporter": "python",
   "pygments_lexer": "ipython3",
   "version": "3.8.8"
  },
  "toc": {
   "base_numbering": 1,
   "nav_menu": {},
   "number_sections": true,
   "sideBar": true,
   "skip_h1_title": false,
   "title_cell": "Table of Contents",
   "title_sidebar": "Contents",
   "toc_cell": false,
   "toc_position": {},
   "toc_section_display": true,
   "toc_window_display": false
  }
 },
 "nbformat": 4,
 "nbformat_minor": 5
}
