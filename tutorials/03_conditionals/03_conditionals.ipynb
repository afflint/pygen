{
 "cells": [
  {
   "cell_type": "markdown",
   "id": "0ac9bd8e",
   "metadata": {},
   "source": [
    "# Boolean Type\n",
    "\n",
    "**Boolean values** are the two constant objects `False` and `True`. They are used to represent truth values (although other values can also be considered false or true). In numeric contexts (for example when used as the argument to an arithmetic operator), they behave like the integers 0 and 1, respectively."
   ]
  },
  {
   "cell_type": "code",
   "execution_count": null,
   "id": "9c1b5f29",
   "metadata": {},
   "outputs": [],
   "source": [
    "\n"
   ]
  },
  {
   "cell_type": "markdown",
   "id": "481863bd",
   "metadata": {},
   "source": [
    "The built-in function `bool()` can be used to convert any value to a Boolean, if the value can be interpreted as a truth value."
   ]
  },
  {
   "cell_type": "code",
   "execution_count": null,
   "id": "1428e279",
   "metadata": {},
   "outputs": [],
   "source": [
    "\n"
   ]
  },
  {
   "cell_type": "markdown",
   "id": "90f6bd48",
   "metadata": {},
   "source": [
    "## Boolean Algebra\n",
    "\n",
    "**Boolean algebra** is the branch of algebra in which the values of the variables are the truth values *true* and *false*, usually denoted *1* and *0*, respectively. Instead of elementary algebra, where the values of the variables are numbers and the prime operations are addition and multiplication, the main operations of Boolean algebra are the *conjunction* (and) denoted as ∧, the *disjunction* (or) denoted as ∨, and the *negation* (not) denoted as ¬.\n",
    "\n",
    "## Logical Operators\n",
    "\n",
    "In Python, **logical operators** are those that take boolean inputs and return boolean results.\n",
    "\n",
    "The logical operator `and` returns `True` if and only if both statements are true."
   ]
  },
  {
   "cell_type": "code",
   "execution_count": null,
   "id": "81794cf1",
   "metadata": {},
   "outputs": [],
   "source": [
    "\n",
    "\n",
    "\n"
   ]
  },
  {
   "cell_type": "markdown",
   "id": "79b8e9c3",
   "metadata": {},
   "source": [
    "The logical operator `or` returns `True` if at least one of the statements is true."
   ]
  },
  {
   "cell_type": "code",
   "execution_count": null,
   "id": "a0eb9955",
   "metadata": {},
   "outputs": [],
   "source": [
    "\n",
    "\n",
    "\n"
   ]
  },
  {
   "cell_type": "markdown",
   "id": "2e61140e",
   "metadata": {},
   "source": [
    "The logical operator `not` reverses the result, returning `False` if the result is true."
   ]
  },
  {
   "cell_type": "code",
   "execution_count": null,
   "id": "38fc99d1",
   "metadata": {},
   "outputs": [],
   "source": [
    "\n"
   ]
  },
  {
   "cell_type": "markdown",
   "id": "9f3ddaa6",
   "metadata": {},
   "source": [
    "## Comparison Operators\n",
    "\n",
    "**Comparison operators** compare the values on either sides of them and decide the relation among them.\n",
    "\n",
    "The comparison operator `==` checks if the values of two operands are equal."
   ]
  },
  {
   "cell_type": "code",
   "execution_count": null,
   "id": "db7b6c2a",
   "metadata": {},
   "outputs": [],
   "source": [
    "\n",
    "\n"
   ]
  },
  {
   "cell_type": "markdown",
   "id": "d38d066a",
   "metadata": {},
   "source": [
    "The comparison operator `!=` checks if the values of two operands are not equal."
   ]
  },
  {
   "cell_type": "code",
   "execution_count": null,
   "id": "491cdb9d",
   "metadata": {},
   "outputs": [],
   "source": []
  },
  {
   "cell_type": "markdown",
   "id": "d77e94a7",
   "metadata": {},
   "source": [
    "The comparison operator `>` checks if the value of left operand is greater than the value of right operand, while `>=` checks if the value of left operand is greater or equal than the value of right operand."
   ]
  },
  {
   "cell_type": "code",
   "execution_count": null,
   "id": "55ef8393",
   "metadata": {},
   "outputs": [],
   "source": []
  },
  {
   "cell_type": "markdown",
   "id": "c1078f57",
   "metadata": {},
   "source": [
    "The comparison operator `<` checks if the value of left operand is greater than the value of right operand, while `<=` checks if the value of left operand is greater or equal than the value of right operand."
   ]
  },
  {
   "cell_type": "code",
   "execution_count": null,
   "id": "f258099c",
   "metadata": {},
   "outputs": [],
   "source": []
  },
  {
   "cell_type": "markdown",
   "id": "48172c70",
   "metadata": {},
   "source": [
    "## Other Operators\n",
    "\n",
    "Python’s **membership operators** test for membership in a sequence, such as strings, lists, or tuples. The `in` operator evaluates to true if it finds a variable in the specified sequence and false otherwise; the `not in` operator evaluates to true if it does not finds a variable in the specified sequence and false otherwise."
   ]
  },
  {
   "cell_type": "code",
   "execution_count": null,
   "id": "50e9d002",
   "metadata": {},
   "outputs": [],
   "source": [
    "\n"
   ]
  },
  {
   "cell_type": "markdown",
   "id": "eb3e688d",
   "metadata": {},
   "source": [
    "**Identity operators** compare the memory locations of two objects. The `is` operator evaluates to true if the variables on either side of the operator point to the same object and false otherwise; the `is not` operator evaluates to false if the variables on either side of the operator point to the same object and true otherwise. "
   ]
  },
  {
   "cell_type": "code",
   "execution_count": null,
   "id": "6977f7c4",
   "metadata": {},
   "outputs": [],
   "source": [
    "\n",
    "\n",
    "\n"
   ]
  },
  {
   "cell_type": "markdown",
   "id": "eb9c5bd9",
   "metadata": {},
   "source": [
    "# Indentation\n",
    "\n",
    "**Indentation** refers to the spaces at the beginning of a code line. While in other programming languages the indentation in code is for readability only, it is very important in Python since it is used to indicate a block of code. One level of indentation equals 4 blank spaces or a tab."
   ]
  },
  {
   "cell_type": "code",
   "execution_count": null,
   "id": "608cb5e3",
   "metadata": {},
   "outputs": [],
   "source": [
    "\n"
   ]
  },
  {
   "cell_type": "markdown",
   "id": "cbcec1b9",
   "metadata": {},
   "source": [
    "# Conditional Statements\n",
    "\n",
    "Decision-making in a programming language is automated using **conditional statements**, in which the machine evaluates the code to see if it meets the specified conditions. The conditions are evaluated and processed as true or false values. If this is found to be true, the program is run as needed. If the condition is found to be false, the statement following the conditional statement is executed."
   ]
  },
  {
   "cell_type": "code",
   "execution_count": null,
   "id": "3c08bae8",
   "metadata": {},
   "outputs": [],
   "source": [
    "\n",
    "\n",
    "\n",
    "\n"
   ]
  },
  {
   "cell_type": "markdown",
   "id": "4382dbce",
   "metadata": {},
   "source": [
    "## `if`\n",
    "\n",
    "The `if` statement is the most fundamental decision-making statement, in which the code is executed based on whether it meets the specified condition. It has a code body that only executes if the condition in the if statement is true.\n",
    "\n",
    "```\n",
    "if <expr>:\n",
    "    <statement>\n",
    "```"
   ]
  },
  {
   "cell_type": "code",
   "execution_count": null,
   "id": "0cb9eac0",
   "metadata": {},
   "outputs": [],
   "source": [
    "\n",
    "\n",
    "\n",
    "\n"
   ]
  },
  {
   "cell_type": "code",
   "execution_count": null,
   "id": "2c554fed",
   "metadata": {},
   "outputs": [],
   "source": [
    "\n",
    "\n",
    "\n",
    "\n"
   ]
  },
  {
   "cell_type": "markdown",
   "id": "82610545",
   "metadata": {},
   "source": [
    "## `if-else`\n",
    "\n",
    "The `if-else` statement is used when both the true and false parts of a given condition are specified to be executed. When the condition is true, the statement inside the `if` block is executed; if the condition is false, the statement inside the `else` block is executed.\n",
    "\n",
    "\n",
    "```\n",
    "if <expr>:\n",
    "    <statement>\n",
    "else:\n",
    "    <statement>\n",
    "```"
   ]
  },
  {
   "cell_type": "code",
   "execution_count": null,
   "id": "4a1fae6b",
   "metadata": {},
   "outputs": [],
   "source": [
    "\n",
    "\n",
    "\n",
    "\n",
    "\n"
   ]
  },
  {
   "cell_type": "markdown",
   "id": "cb4af676",
   "metadata": {},
   "source": [
    "## `if-elif-else`\n",
    "\n",
    "In this case, the `if` condition is evaluated first. If it is false, the `elif` statement(s) will be evaluated; if it also comes false, the `else` statement will be executed.\n",
    "\n",
    "```\n",
    "if <expr>:\n",
    "    <statement>\n",
    "elif <expr>:\n",
    "    <statement>\n",
    "else:\n",
    "    <statement>\n",
    "```"
   ]
  },
  {
   "cell_type": "code",
   "execution_count": null,
   "id": "de53dff0",
   "metadata": {},
   "outputs": [],
   "source": [
    "\n",
    "\n",
    "\n",
    "\n",
    "\n",
    "\n",
    "\n",
    "\n",
    "\n"
   ]
  },
  {
   "cell_type": "markdown",
   "id": "169f8fa4",
   "metadata": {},
   "source": [
    "## Nested `if` Statements\n",
    "\n",
    "A Nested `if` statement is one in which an `if` statement is nested inside another `if` statement.\n",
    "\n",
    "```\n",
    "if <expr>:\n",
    "    if <expr>:\n",
    "        <statement>\n",
    "    else:\n",
    "        <statement>\n",
    "else:\n",
    "    <statement>\n",
    "```"
   ]
  },
  {
   "cell_type": "code",
   "execution_count": null,
   "id": "7b69b8f4",
   "metadata": {},
   "outputs": [],
   "source": [
    "\n",
    "\n",
    "\n",
    "\n",
    "\n",
    "\n",
    "\n",
    "\n",
    "\n",
    "\n"
   ]
  },
  {
   "cell_type": "markdown",
   "id": "35b08b17",
   "metadata": {},
   "source": [
    "## One-Line `if` Statement\n",
    "\n",
    "One-line `if` statement is used when only one expression needs to be evaluated. The statement(s) can then be mentioned in the same line which holds the `if` statement.\n",
    "\n",
    "```\n",
    "if <expr>: <statement>\n",
    "```"
   ]
  },
  {
   "cell_type": "code",
   "execution_count": null,
   "id": "f07665f2",
   "metadata": {},
   "outputs": [],
   "source": [
    "\n",
    "\n"
   ]
  },
  {
   "cell_type": "markdown",
   "id": "2d8d5fa5",
   "metadata": {},
   "source": [
    "## Ternary Operator\n",
    "\n",
    "A ternary operator is used to mention on the same line `if-else` statements in which there is only one expression to evaluate.\n",
    "\n",
    "```\n",
    "<statement> if <expr> else <statement>\n",
    "```"
   ]
  },
  {
   "cell_type": "code",
   "execution_count": null,
   "id": "0b25468d",
   "metadata": {},
   "outputs": [],
   "source": [
    "\n",
    "\n"
   ]
  },
  {
   "cell_type": "code",
   "execution_count": null,
   "id": "ce1a799b",
   "metadata": {},
   "outputs": [],
   "source": []
  },
  {
   "cell_type": "markdown",
   "id": "284c0376",
   "metadata": {},
   "source": [
    "# Exercises\n",
    "\n",
    "1. Write a program that converts a given temperature according to its unit of measure, i.e. from Celsius to Fahrenheit or viceversa."
   ]
  },
  {
   "cell_type": "code",
   "execution_count": null,
   "id": "bc5babb9",
   "metadata": {},
   "outputs": [],
   "source": []
  },
  {
   "cell_type": "markdown",
   "id": "6e360038",
   "metadata": {},
   "source": [
    "2. Write a program that prints the number of days depending on the given month and, in case it is February, it also checks if the given year is leap."
   ]
  },
  {
   "cell_type": "code",
   "execution_count": null,
   "id": "489ed65e",
   "metadata": {},
   "outputs": [],
   "source": []
  }
 ],
 "metadata": {
  "kernelspec": {
   "display_name": "Python 3 (ipykernel)",
   "language": "python",
   "name": "python3"
  },
  "language_info": {
   "codemirror_mode": {
    "name": "ipython",
    "version": 3
   },
   "file_extension": ".py",
   "mimetype": "text/x-python",
   "name": "python",
   "nbconvert_exporter": "python",
   "pygments_lexer": "ipython3",
   "version": "3.8.13"
  }
 },
 "nbformat": 4,
 "nbformat_minor": 5
}
