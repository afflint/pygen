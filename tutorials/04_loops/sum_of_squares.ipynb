{
 "cells": [
  {
   "cell_type": "markdown",
   "id": "b2feea25",
   "metadata": {},
   "source": [
    "## Sum of Squares\n",
    "\n",
    "*[lists, for loops, sum function]*\n",
    "\n",
    "Write the `square_sum` function so that it squares each number passed into it and then sums the results together.\n",
    "\n",
    "For example, for `[1, 2, 3]` it should return `14` because `1^2 + 2^2 + 2^3 = 14`."
   ]
  },
  {
   "cell_type": "markdown",
   "id": "b64267ff",
   "metadata": {},
   "source": [
    "### List definition"
   ]
  },
  {
   "cell_type": "code",
   "execution_count": 1,
   "id": "65f991c1",
   "metadata": {},
   "outputs": [],
   "source": [
    "numbers = [1, 2, 3]"
   ]
  },
  {
   "cell_type": "markdown",
   "id": "64b0c728",
   "metadata": {},
   "source": [
    "### Iterate over a list"
   ]
  },
  {
   "cell_type": "code",
   "execution_count": 2,
   "id": "ba64b9ac",
   "metadata": {},
   "outputs": [
    {
     "name": "stdout",
     "output_type": "stream",
     "text": [
      "1\n",
      "2\n",
      "3\n"
     ]
    }
   ],
   "source": [
    "for n in numbers:\n",
    "    print(n)"
   ]
  },
  {
   "cell_type": "markdown",
   "id": "ec0d88aa",
   "metadata": {},
   "source": [
    "### Square the numbers"
   ]
  },
  {
   "cell_type": "code",
   "execution_count": 3,
   "id": "13c3848b",
   "metadata": {},
   "outputs": [
    {
     "name": "stdout",
     "output_type": "stream",
     "text": [
      "1\n",
      "4\n",
      "9\n"
     ]
    }
   ],
   "source": [
    "for n in numbers:\n",
    "    print(n**2)"
   ]
  },
  {
   "cell_type": "markdown",
   "id": "47b41993",
   "metadata": {},
   "source": [
    "### Sum the squares"
   ]
  },
  {
   "cell_type": "code",
   "execution_count": 4,
   "id": "73ec07d5",
   "metadata": {},
   "outputs": [
    {
     "name": "stdout",
     "output_type": "stream",
     "text": [
      "14\n"
     ]
    }
   ],
   "source": [
    "count = 0\n",
    "\n",
    "for n in numbers:\n",
    "    count += n**2 # this is equal to: count = count + n**2\n",
    "    \n",
    "print(count)"
   ]
  },
  {
   "cell_type": "markdown",
   "id": "c971fabe",
   "metadata": {},
   "source": [
    "### Define the function"
   ]
  },
  {
   "cell_type": "code",
   "execution_count": 5,
   "id": "51c88ba1",
   "metadata": {},
   "outputs": [],
   "source": [
    "def square_sum(numbers):\n",
    "    count = 0\n",
    "    for n in numbers:\n",
    "        count += n**2\n",
    "    \n",
    "    return count"
   ]
  },
  {
   "cell_type": "code",
   "execution_count": 6,
   "id": "02bceb29",
   "metadata": {},
   "outputs": [
    {
     "data": {
      "text/plain": [
       "14"
      ]
     },
     "execution_count": 6,
     "metadata": {},
     "output_type": "execute_result"
    }
   ],
   "source": [
    "square_sum(numbers)"
   ]
  },
  {
   "cell_type": "markdown",
   "id": "1a752221",
   "metadata": {},
   "source": [
    "### Usage of the built-in `sum` function"
   ]
  },
  {
   "cell_type": "code",
   "execution_count": 7,
   "id": "5fe789d7",
   "metadata": {},
   "outputs": [],
   "source": [
    "def square_sum(numbers):\n",
    "    return sum(x ** 2 for x in numbers)"
   ]
  },
  {
   "cell_type": "code",
   "execution_count": 8,
   "id": "3e7d268d",
   "metadata": {},
   "outputs": [
    {
     "data": {
      "text/plain": [
       "14"
      ]
     },
     "execution_count": 8,
     "metadata": {},
     "output_type": "execute_result"
    }
   ],
   "source": [
    "square_sum(numbers)"
   ]
  },
  {
   "cell_type": "code",
   "execution_count": null,
   "id": "befb109f",
   "metadata": {},
   "outputs": [],
   "source": []
  }
 ],
 "metadata": {
  "kernelspec": {
   "display_name": "Python 3 (ipykernel)",
   "language": "python",
   "name": "python3"
  },
  "language_info": {
   "codemirror_mode": {
    "name": "ipython",
    "version": 3
   },
   "file_extension": ".py",
   "mimetype": "text/x-python",
   "name": "python",
   "nbconvert_exporter": "python",
   "pygments_lexer": "ipython3",
   "version": "3.8.13"
  }
 },
 "nbformat": 4,
 "nbformat_minor": 5
}
