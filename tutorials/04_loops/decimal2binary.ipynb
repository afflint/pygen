{
 "cells": [
  {
   "cell_type": "markdown",
   "id": "d6fab35d",
   "metadata": {},
   "source": [
    "## Decimal to Binary Conversion\n",
    "\n",
    "Write a function that converts a given decimal number to its binary version."
   ]
  },
  {
   "cell_type": "markdown",
   "id": "2aa27723",
   "metadata": {},
   "source": [
    "### Convert 'manually'"
   ]
  },
  {
   "cell_type": "code",
   "execution_count": 13,
   "id": "35eb3cf1",
   "metadata": {},
   "outputs": [
    {
     "name": "stdout",
     "output_type": "stream",
     "text": [
      "10110\n"
     ]
    }
   ],
   "source": [
    "decimal = 22\n",
    "binary = ''\n",
    "\n",
    "binary = str(decimal % 2) + binary\n",
    "decimal = decimal // 2\n",
    "\n",
    "binary = str(decimal % 2) + binary\n",
    "decimal = decimal // 2\n",
    "\n",
    "binary = str(decimal % 2) + binary\n",
    "decimal = decimal // 2\n",
    "\n",
    "binary = str(decimal % 2) + binary\n",
    "decimal = decimal // 2\n",
    "\n",
    "binary = str(decimal % 2) + binary\n",
    "\n",
    "print(binary)"
   ]
  },
  {
   "cell_type": "markdown",
   "id": "445dead5",
   "metadata": {},
   "source": [
    "### Convert iterating"
   ]
  },
  {
   "cell_type": "code",
   "execution_count": 33,
   "id": "fab86711",
   "metadata": {},
   "outputs": [],
   "source": [
    "decimal = 22\n",
    "binary = ''\n",
    "\n",
    "while True:\n",
    "    binary = str(decimal % 2) + binary\n",
    "    decimal = decimal // 2\n",
    "    if decimal == 0:\n",
    "        break"
   ]
  },
  {
   "cell_type": "code",
   "execution_count": 34,
   "id": "148c96f8",
   "metadata": {},
   "outputs": [
    {
     "data": {
      "text/plain": [
       "'10110'"
      ]
     },
     "execution_count": 34,
     "metadata": {},
     "output_type": "execute_result"
    }
   ],
   "source": [
    "binary"
   ]
  },
  {
   "cell_type": "markdown",
   "id": "23a8bf1b",
   "metadata": {},
   "source": [
    "### Define the function"
   ]
  },
  {
   "cell_type": "code",
   "execution_count": 36,
   "id": "b60a9374",
   "metadata": {},
   "outputs": [],
   "source": [
    "def dec2bin(decimal):\n",
    "    binary = ''\n",
    "    \n",
    "    while True:\n",
    "        binary = str(decimal % 2) + binary\n",
    "        decimal = decimal // 2\n",
    "        if decimal == 0:\n",
    "            break\n",
    "        \n",
    "    return binary"
   ]
  },
  {
   "cell_type": "code",
   "execution_count": 37,
   "id": "5a21a39b",
   "metadata": {},
   "outputs": [
    {
     "data": {
      "text/plain": [
       "'10110'"
      ]
     },
     "execution_count": 37,
     "metadata": {},
     "output_type": "execute_result"
    }
   ],
   "source": [
    "dec2bin(22)"
   ]
  },
  {
   "cell_type": "code",
   "execution_count": null,
   "id": "2177b795",
   "metadata": {},
   "outputs": [],
   "source": []
  }
 ],
 "metadata": {
  "kernelspec": {
   "display_name": "Python 3 (ipykernel)",
   "language": "python",
   "name": "python3"
  },
  "language_info": {
   "codemirror_mode": {
    "name": "ipython",
    "version": 3
   },
   "file_extension": ".py",
   "mimetype": "text/x-python",
   "name": "python",
   "nbconvert_exporter": "python",
   "pygments_lexer": "ipython3",
   "version": "3.8.13"
  }
 },
 "nbformat": 4,
 "nbformat_minor": 5
}
