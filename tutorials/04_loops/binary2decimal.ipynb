{
 "cells": [
  {
   "cell_type": "markdown",
   "id": "b7131cee",
   "metadata": {},
   "source": [
    "## Binary to Decimal Conversion\n",
    "\n",
    "Write a function that converts a given binary number to its decimal version."
   ]
  },
  {
   "cell_type": "markdown",
   "id": "de5e3e89",
   "metadata": {},
   "source": [
    "### Convert 'manually'"
   ]
  },
  {
   "cell_type": "code",
   "execution_count": 1,
   "id": "c05ce200",
   "metadata": {},
   "outputs": [
    {
     "name": "stdout",
     "output_type": "stream",
     "text": [
      "9\n"
     ]
    }
   ],
   "source": [
    "binary = '1001'\n",
    "\n",
    "decimal = 0\n",
    "\n",
    "decimal += int(binary[0]) * 2**3\n",
    "decimal += int(binary[1]) * 2**2\n",
    "decimal += int(binary[2]) * 2**1\n",
    "decimal += int(binary[3]) * 2**0\n",
    "\n",
    "print(decimal)"
   ]
  },
  {
   "cell_type": "markdown",
   "id": "e680fcff",
   "metadata": {},
   "source": [
    "### Convert iterating"
   ]
  },
  {
   "cell_type": "code",
   "execution_count": 4,
   "id": "82ef3d4b",
   "metadata": {},
   "outputs": [
    {
     "name": "stdout",
     "output_type": "stream",
     "text": [
      "9\n"
     ]
    }
   ],
   "source": [
    "decimal = 0\n",
    "\n",
    "for i in range(len(binary)):\n",
    "    decimal += int(binary[i]) * 2**(len(binary)-1-i)\n",
    "    \n",
    "print(decimal)"
   ]
  },
  {
   "cell_type": "markdown",
   "id": "cad3799e",
   "metadata": {},
   "source": [
    "### Define the function"
   ]
  },
  {
   "cell_type": "code",
   "execution_count": 5,
   "id": "fe8df0ed",
   "metadata": {},
   "outputs": [],
   "source": [
    "def bin2dec(binary):\n",
    "    decimal = 0\n",
    "\n",
    "    for i in range(len(binary)):\n",
    "        decimal += int(binary[i]) * 2**(len(binary)-1-i)\n",
    "        \n",
    "    return decimal"
   ]
  },
  {
   "cell_type": "code",
   "execution_count": 6,
   "id": "1131f4b0",
   "metadata": {},
   "outputs": [
    {
     "data": {
      "text/plain": [
       "15"
      ]
     },
     "execution_count": 6,
     "metadata": {},
     "output_type": "execute_result"
    }
   ],
   "source": [
    "bin2dec('1111')"
   ]
  },
  {
   "cell_type": "code",
   "execution_count": 8,
   "id": "aaff2af0",
   "metadata": {},
   "outputs": [
    {
     "data": {
      "text/plain": [
       "173"
      ]
     },
     "execution_count": 8,
     "metadata": {},
     "output_type": "execute_result"
    }
   ],
   "source": [
    "bin2dec('10101101')"
   ]
  },
  {
   "cell_type": "code",
   "execution_count": null,
   "id": "28de952e",
   "metadata": {},
   "outputs": [],
   "source": []
  }
 ],
 "metadata": {
  "kernelspec": {
   "display_name": "Python 3 (ipykernel)",
   "language": "python",
   "name": "python3"
  },
  "language_info": {
   "codemirror_mode": {
    "name": "ipython",
    "version": 3
   },
   "file_extension": ".py",
   "mimetype": "text/x-python",
   "name": "python",
   "nbconvert_exporter": "python",
   "pygments_lexer": "ipython3",
   "version": "3.8.13"
  }
 },
 "nbformat": 4,
 "nbformat_minor": 5
}
