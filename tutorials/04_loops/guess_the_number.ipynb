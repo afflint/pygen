{
 "cells": [
  {
   "cell_type": "markdown",
   "id": "3d3b3b17",
   "metadata": {},
   "source": [
    "## Guess the Number!\n",
    "\n",
    "Build a game in which the computer 'thinks' of a number between 1 and 10 and the player has to guess which one it is."
   ]
  },
  {
   "cell_type": "markdown",
   "id": "eecf3b4e",
   "metadata": {},
   "source": [
    "### Generate a random number using `random`"
   ]
  },
  {
   "cell_type": "code",
   "execution_count": 10,
   "id": "27b0e284",
   "metadata": {},
   "outputs": [],
   "source": [
    "import random\n",
    "\n",
    "n = random.randint(1, 10)"
   ]
  },
  {
   "cell_type": "markdown",
   "id": "97e1c104",
   "metadata": {},
   "source": [
    "###  Try guessing the number using `input`"
   ]
  },
  {
   "cell_type": "code",
   "execution_count": 11,
   "id": "ba96b834",
   "metadata": {},
   "outputs": [
    {
     "name": "stdout",
     "output_type": "stream",
     "text": [
      "Enter your guess: 3\n"
     ]
    }
   ],
   "source": [
    "g = int(input('Enter your guess: '))"
   ]
  },
  {
   "cell_type": "markdown",
   "id": "eead88a5",
   "metadata": {},
   "source": [
    "### Check if the two numbers are the same"
   ]
  },
  {
   "cell_type": "code",
   "execution_count": 12,
   "id": "670c4f2e",
   "metadata": {},
   "outputs": [
    {
     "data": {
      "text/plain": [
       "False"
      ]
     },
     "execution_count": 12,
     "metadata": {},
     "output_type": "execute_result"
    }
   ],
   "source": [
    "n == g"
   ]
  },
  {
   "cell_type": "markdown",
   "id": "728ae804",
   "metadata": {},
   "source": [
    "### Repeat until you guess the correct number"
   ]
  },
  {
   "cell_type": "code",
   "execution_count": 13,
   "id": "b3ed8f47",
   "metadata": {},
   "outputs": [
    {
     "name": "stdout",
     "output_type": "stream",
     "text": [
      "Enter your guess: 1\n",
      "Enter your guess: 5\n",
      "Enter your guess: 7\n"
     ]
    }
   ],
   "source": [
    "while True:\n",
    "    g = int(input('Enter your guess: '))\n",
    "    if n == g:\n",
    "        break"
   ]
  },
  {
   "cell_type": "markdown",
   "id": "8ff448b6",
   "metadata": {},
   "source": [
    "### Add some interaction"
   ]
  },
  {
   "cell_type": "code",
   "execution_count": 19,
   "id": "aa2b7451",
   "metadata": {},
   "outputs": [
    {
     "name": "stdout",
     "output_type": "stream",
     "text": [
      "Welcome to \"Guess the Number\"!!!\n",
      "\n",
      "What is your name?\n",
      "John\n",
      "Hello, John! Let\"s start!\n",
      "\n",
      "Enter your guess: 1\n",
      "1 is not correct. Try again!\n",
      "\n",
      "Enter your guess: 2\n",
      "2 is not correct. Try again!\n",
      "\n",
      "Enter your guess: 3\n",
      "Congratulations, John. 3 is correct!\n",
      "See you next time!\n"
     ]
    }
   ],
   "source": [
    "print('Welcome to \"Guess the Number\"!!!\\n')\n",
    "player_name = input('What is your name?\\n')\n",
    "print('Hello, {}! Let\"s start!\\n'.format(player_name))\n",
    "\n",
    "n = random.randint(1, 10)\n",
    "\n",
    "while True:\n",
    "    g = int(input('Enter your guess: '))\n",
    "    if n == g:\n",
    "        print('Congratulations, {0}. {1} is correct!'.format(player_name, g))\n",
    "        break\n",
    "    print('{} is not correct. Try again!\\n'.format(g))\n",
    "    \n",
    "print('See you next time!')"
   ]
  },
  {
   "cell_type": "markdown",
   "id": "828c08d5",
   "metadata": {},
   "source": [
    "### Count the number of attempts"
   ]
  },
  {
   "cell_type": "code",
   "execution_count": 23,
   "id": "f72beb2b",
   "metadata": {},
   "outputs": [
    {
     "name": "stdout",
     "output_type": "stream",
     "text": [
      "Welcome to \"Guess the Number\"!!!\n",
      "\n",
      "What is your name?\n",
      "John\n",
      "Hello, John! Let\"s start!\n",
      "\n",
      "Enter your guess: 3\n",
      "3 is not correct. Try again!\n",
      "\n",
      "Enter your guess: 6\n",
      "Congratulations, John. 6 is correct!\n",
      "It took 2 you attempts.\n",
      "\n",
      "See you next time!\n"
     ]
    }
   ],
   "source": [
    "print('Welcome to \"Guess the Number\"!!!\\n')\n",
    "player_name = input('What is your name?\\n')\n",
    "print('Hello, {}! Let\"s start!\\n'.format(player_name))\n",
    "\n",
    "n = random.randint(1, 10)\n",
    "attempts = 0\n",
    "\n",
    "while True:\n",
    "    attempts += 1\n",
    "    g = int(input('Enter your guess: '))\n",
    "    if n == g:\n",
    "        print('Congratulations, {0}. {1} is correct!'.format(player_name, g))\n",
    "        break\n",
    "    print('{} is not correct. Try again!\\n'.format(g))\n",
    "    \n",
    "print('It took {} you attempts.\\n'.format(attempts))\n",
    "print('See you next time!')"
   ]
  },
  {
   "cell_type": "code",
   "execution_count": null,
   "id": "f9adba87",
   "metadata": {},
   "outputs": [],
   "source": []
  }
 ],
 "metadata": {
  "kernelspec": {
   "display_name": "Python 3 (ipykernel)",
   "language": "python",
   "name": "python3"
  },
  "language_info": {
   "codemirror_mode": {
    "name": "ipython",
    "version": 3
   },
   "file_extension": ".py",
   "mimetype": "text/x-python",
   "name": "python",
   "nbconvert_exporter": "python",
   "pygments_lexer": "ipython3",
   "version": "3.8.13"
  }
 },
 "nbformat": 4,
 "nbformat_minor": 5
}
