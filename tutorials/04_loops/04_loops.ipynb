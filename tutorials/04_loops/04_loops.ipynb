{
 "cells": [
  {
   "cell_type": "markdown",
   "id": "ad762ad6",
   "metadata": {},
   "source": [
    "# Loops\n",
    "\n",
    "A **loop** in a computer program is an instruction that repeats until a specified condition is reached.\n",
    "\n",
    "## `for`\n",
    "\n",
    "A `for` loop is used for iterating over a sequence, either a list, a tuple, a dictionary, a set, or a string, and execute a set of statements, once for each item in the sequence.\n",
    "\n",
    "```\n",
    "for <var> in <iterable>:\n",
    "    <statement>\n",
    "```\n",
    "\n",
    "An **iterable** is any Python object capable of returning its members one at a time, permitting it to be iterated over in a for-loop."
   ]
  },
  {
   "cell_type": "code",
   "execution_count": null,
   "id": "d7b602b3",
   "metadata": {},
   "outputs": [],
   "source": []
  },
  {
   "cell_type": "markdown",
   "id": "db5f2c45",
   "metadata": {},
   "source": [
    "## List Comprehension\n",
    "\n",
    "**List comprehension** offers a shorter syntax when you want to create a new list based on the values of an existing list.\n",
    "\n",
    "```\n",
    "[<statement> for <var> in <iterable>]\n",
    "```"
   ]
  },
  {
   "cell_type": "code",
   "execution_count": 1,
   "id": "0fbc5725",
   "metadata": {},
   "outputs": [],
   "source": [
    "# List comprehension"
   ]
  },
  {
   "cell_type": "code",
   "execution_count": null,
   "id": "8586bc2b",
   "metadata": {},
   "outputs": [],
   "source": [
    "# Dict comprehension"
   ]
  },
  {
   "cell_type": "code",
   "execution_count": null,
   "id": "d2dc4036",
   "metadata": {},
   "outputs": [],
   "source": [
    "# List comprehension with conditional"
   ]
  },
  {
   "cell_type": "markdown",
   "id": "ea50225b",
   "metadata": {},
   "source": [
    "## `while`\n",
    "\n",
    "The `while` loop is used to iterate over a block of code as long as the condition is true.\n",
    "\n",
    "```\n",
    "while <expr>:\n",
    "    <statement>\n",
    "```"
   ]
  },
  {
   "cell_type": "code",
   "execution_count": null,
   "id": "f8f0353e",
   "metadata": {},
   "outputs": [],
   "source": []
  },
  {
   "cell_type": "markdown",
   "id": "240902fe",
   "metadata": {},
   "source": [
    "## `break`\n",
    "\n",
    "The `break` statement terminates the current loop and resumes execution at the next statement."
   ]
  },
  {
   "cell_type": "code",
   "execution_count": null,
   "id": "062ea024",
   "metadata": {},
   "outputs": [],
   "source": []
  },
  {
   "cell_type": "markdown",
   "id": "78aa1f1c",
   "metadata": {},
   "source": [
    "## `continue`\n",
    "\n",
    "The `continue` statement rejects all the remaining statements in the current iteration of the loop and moves the control back to the top of the loop."
   ]
  },
  {
   "cell_type": "code",
   "execution_count": null,
   "id": "88cc48da",
   "metadata": {},
   "outputs": [],
   "source": []
  },
  {
   "cell_type": "markdown",
   "id": "79300cdb",
   "metadata": {},
   "source": [
    "## `pass`\n",
    "\n",
    "The `pass` statement is used when a statement is required syntactically but you do not want any command or code to execute."
   ]
  },
  {
   "cell_type": "code",
   "execution_count": null,
   "id": "b8043bb4",
   "metadata": {},
   "outputs": [],
   "source": []
  },
  {
   "cell_type": "markdown",
   "id": "e23091af",
   "metadata": {},
   "source": [
    "## `else`\n",
    "\n",
    "The `else` clause executes after the loop completes normally. This means that the loop did not encounter a `break` statement."
   ]
  },
  {
   "cell_type": "code",
   "execution_count": null,
   "id": "6156b96a",
   "metadata": {},
   "outputs": [],
   "source": []
  },
  {
   "cell_type": "markdown",
   "id": "98864818",
   "metadata": {},
   "source": [
    "# Built-In Functions\n",
    "\n",
    "**Built-in functions** are pre-defined in the programming language’s library, for the programming to directly call the functions wherever required in the program for achieving certain functional operations.\n",
    "\n",
    "## `range(start, stop, step)`\n",
    "\n",
    "The `range()` function returns a sequence of numbers, starting from 0 by default, and increments by 1 (by default), and stops before a specified number."
   ]
  },
  {
   "cell_type": "code",
   "execution_count": null,
   "id": "7995e1c0",
   "metadata": {},
   "outputs": [],
   "source": []
  },
  {
   "cell_type": "markdown",
   "id": "9eca5ace",
   "metadata": {},
   "source": [
    "## `enumerate(iterable)`\n",
    "\n",
    "The `enumerate()` function adds a counter to an iterable and returns it."
   ]
  },
  {
   "cell_type": "code",
   "execution_count": null,
   "id": "f6602cde",
   "metadata": {},
   "outputs": [],
   "source": []
  },
  {
   "cell_type": "markdown",
   "id": "adb18256",
   "metadata": {},
   "source": [
    "# Guess the Number!"
   ]
  },
  {
   "cell_type": "code",
   "execution_count": null,
   "id": "56f35aeb",
   "metadata": {},
   "outputs": [],
   "source": []
  },
  {
   "cell_type": "markdown",
   "id": "5ce72696",
   "metadata": {},
   "source": [
    "# Exercise\n",
    "\n",
    "Write a 'Rock, Paper, Scissors' game in which you play against the computer.  \n",
    "    *Optional*: make it a best of three! Play for three consecutive times and keep track of the scores.  \n",
    "    *Hint*: in order to let the computer make its choice, you want to use `random.choice(['rock', 'paper', 'scissors'])`."
   ]
  },
  {
   "cell_type": "code",
   "execution_count": null,
   "id": "f66dba85",
   "metadata": {},
   "outputs": [],
   "source": []
  }
 ],
 "metadata": {
  "kernelspec": {
   "display_name": "Python 3 (ipykernel)",
   "language": "python",
   "name": "python3"
  },
  "language_info": {
   "codemirror_mode": {
    "name": "ipython",
    "version": 3
   },
   "file_extension": ".py",
   "mimetype": "text/x-python",
   "name": "python",
   "nbconvert_exporter": "python",
   "pygments_lexer": "ipython3",
   "version": "3.8.13"
  }
 },
 "nbformat": 4,
 "nbformat_minor": 5
}
