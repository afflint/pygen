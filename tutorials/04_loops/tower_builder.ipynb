{
 "cells": [
  {
   "cell_type": "markdown",
   "id": "3922301c",
   "metadata": {},
   "source": [
    "## Build Tower\n",
    "\n",
    "Build a pyramid-shaped tower, as an list of strings, given a positive integer number of floors. A tower block is represented with `*` character.\n",
    "\n",
    "For example, a tower with 3 floors looks like this:\n",
    "```\n",
    "[\n",
    "  \"  *  \",\n",
    "  \" *** \", \n",
    "  \"*****\"\n",
    "]\n",
    "```"
   ]
  },
  {
   "cell_type": "markdown",
   "id": "9a8ce6dc",
   "metadata": {},
   "source": [
    "### Define an empty list"
   ]
  },
  {
   "cell_type": "code",
   "execution_count": 1,
   "id": "43fea000",
   "metadata": {},
   "outputs": [],
   "source": [
    "tower = []"
   ]
  },
  {
   "cell_type": "markdown",
   "id": "8c7b72db",
   "metadata": {},
   "source": [
    "### 1st Case: one floor (usage of `str.append`)"
   ]
  },
  {
   "cell_type": "code",
   "execution_count": 2,
   "id": "e982e3a9",
   "metadata": {},
   "outputs": [
    {
     "name": "stdout",
     "output_type": "stream",
     "text": [
      "['*']\n"
     ]
    }
   ],
   "source": [
    "floor = \"*\"\n",
    "tower.append(floor)\n",
    "print(tower)"
   ]
  },
  {
   "cell_type": "markdown",
   "id": "6814eb0d",
   "metadata": {},
   "source": [
    "### 2nd Case: two floors (usage of `str.extend`)"
   ]
  },
  {
   "cell_type": "code",
   "execution_count": 3,
   "id": "1da8e2d3",
   "metadata": {},
   "outputs": [
    {
     "name": "stdout",
     "output_type": "stream",
     "text": [
      "[' * ', '***']\n"
     ]
    }
   ],
   "source": [
    "tower = []\n",
    "\n",
    "floor_1 = ' * '\n",
    "floor_2 = '***'\n",
    "\n",
    "tower.extend([floor_1, floor_2])\n",
    "print(tower)"
   ]
  },
  {
   "cell_type": "markdown",
   "id": "a15f90f1",
   "metadata": {},
   "source": [
    "### Generalize the process (usage of `range`)"
   ]
  },
  {
   "cell_type": "code",
   "execution_count": 4,
   "id": "ee27573f",
   "metadata": {},
   "outputs": [],
   "source": [
    "n_floors = 3\n",
    "tower = []\n",
    "\n",
    "spaces = n_floors - 1\n",
    "stars = 1\n",
    "\n",
    "for n in range(n_floors):\n",
    "    # str-int multiplication\n",
    "    floor = ' '*spaces + '*'*stars + ' '*spaces\n",
    "    tower.append(floor)\n",
    "    \n",
    "    spaces -= 1\n",
    "    stars += 2"
   ]
  },
  {
   "cell_type": "markdown",
   "id": "90fd11ad",
   "metadata": {},
   "source": [
    "### Display the tower properly"
   ]
  },
  {
   "cell_type": "code",
   "execution_count": 5,
   "id": "b422c066",
   "metadata": {},
   "outputs": [
    {
     "name": "stdout",
     "output_type": "stream",
     "text": [
      "  *  \n",
      " *** \n",
      "*****\n"
     ]
    }
   ],
   "source": [
    "for f in tower:\n",
    "    print(f)"
   ]
  },
  {
   "cell_type": "markdown",
   "id": "bc7bbb4d",
   "metadata": {},
   "source": [
    "### Define a function"
   ]
  },
  {
   "cell_type": "code",
   "execution_count": 6,
   "id": "4fdba140",
   "metadata": {},
   "outputs": [],
   "source": [
    "def tower_builder(n_floors):\n",
    "    tower = []\n",
    "\n",
    "    spaces = n_floors - 1\n",
    "    stars = 1\n",
    "\n",
    "    for n in range(n_floors):\n",
    "        floor = ' '*spaces + '*'*stars + ' '*spaces\n",
    "        tower.append(floor)\n",
    "\n",
    "        spaces -= 1\n",
    "        stars += 2\n",
    "        \n",
    "    for f in tower:\n",
    "        print(f)"
   ]
  },
  {
   "cell_type": "code",
   "execution_count": 7,
   "id": "783c9cc3",
   "metadata": {},
   "outputs": [
    {
     "name": "stdout",
     "output_type": "stream",
     "text": [
      "       *       \n",
      "      ***      \n",
      "     *****     \n",
      "    *******    \n",
      "   *********   \n",
      "  ***********  \n",
      " ************* \n",
      "***************\n"
     ]
    }
   ],
   "source": [
    "tower_builder(8)"
   ]
  },
  {
   "cell_type": "code",
   "execution_count": null,
   "id": "4b282fac",
   "metadata": {},
   "outputs": [],
   "source": []
  }
 ],
 "metadata": {
  "kernelspec": {
   "display_name": "Python 3 (ipykernel)",
   "language": "python",
   "name": "python3"
  },
  "language_info": {
   "codemirror_mode": {
    "name": "ipython",
    "version": 3
   },
   "file_extension": ".py",
   "mimetype": "text/x-python",
   "name": "python",
   "nbconvert_exporter": "python",
   "pygments_lexer": "ipython3",
   "version": "3.8.13"
  }
 },
 "nbformat": 4,
 "nbformat_minor": 5
}
