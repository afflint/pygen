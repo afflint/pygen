{
 "cells": [
  {
   "cell_type": "markdown",
   "id": "3551f63a",
   "metadata": {},
   "source": [
    "## Email Generator\n",
    "\n",
    "Generate the email address given name and surname."
   ]
  },
  {
   "cell_type": "markdown",
   "id": "f92cdedb",
   "metadata": {},
   "source": [
    "### Generate full name from `name` and `surname`"
   ]
  },
  {
   "cell_type": "code",
   "execution_count": 1,
   "id": "b926d39b",
   "metadata": {},
   "outputs": [
    {
     "name": "stdout",
     "output_type": "stream",
     "text": [
      "John Smith\n"
     ]
    }
   ],
   "source": [
    "name = 'John'\n",
    "surname = 'Smith'\n",
    "\n",
    "fullname = ' '.join([name, surname])\n",
    "print(fullname)"
   ]
  },
  {
   "cell_type": "markdown",
   "id": "abf1ef0b",
   "metadata": {},
   "source": [
    "### Email address from fullname"
   ]
  },
  {
   "cell_type": "code",
   "execution_count": 3,
   "id": "748bb137",
   "metadata": {},
   "outputs": [
    {
     "name": "stdout",
     "output_type": "stream",
     "text": [
      "john.smith@company.com\n"
     ]
    }
   ],
   "source": [
    "email = fullname.lower().replace(' ', '.') + '@company.com'\n",
    "print(email)"
   ]
  },
  {
   "cell_type": "markdown",
   "id": "636b27c4",
   "metadata": {},
   "source": [
    "### Insert company name"
   ]
  },
  {
   "cell_type": "code",
   "execution_count": 4,
   "id": "79f576e4",
   "metadata": {},
   "outputs": [
    {
     "name": "stdout",
     "output_type": "stream",
     "text": [
      "john.smith@google.com\n"
     ]
    }
   ],
   "source": [
    "company = 'Google'\n",
    "\n",
    "email = fullname.lower().replace(' ', '.') + f'@{company.lower()}.com'\n",
    "print(email)"
   ]
  },
  {
   "cell_type": "markdown",
   "id": "e0f0b249",
   "metadata": {},
   "source": [
    "### Define the function"
   ]
  },
  {
   "cell_type": "code",
   "execution_count": 7,
   "id": "65c7ac71",
   "metadata": {},
   "outputs": [],
   "source": [
    "def email_generator(name, surname, company):\n",
    "    fullname = ' '.join([name, surname])\n",
    "    email = fullname.lower().replace(' ', '.') + f'@{company.lower()}.com'\n",
    "\n",
    "    return email"
   ]
  },
  {
   "cell_type": "code",
   "execution_count": 8,
   "id": "226cbb2c",
   "metadata": {},
   "outputs": [
    {
     "data": {
      "text/plain": [
       "'john.smith@google.com'"
      ]
     },
     "execution_count": 8,
     "metadata": {},
     "output_type": "execute_result"
    }
   ],
   "source": [
    "email_generator('John', 'Smith', 'Google')"
   ]
  },
  {
   "cell_type": "code",
   "execution_count": null,
   "id": "013264a5",
   "metadata": {},
   "outputs": [],
   "source": []
  }
 ],
 "metadata": {
  "kernelspec": {
   "display_name": "Python 3 (ipykernel)",
   "language": "python",
   "name": "python3"
  },
  "language_info": {
   "codemirror_mode": {
    "name": "ipython",
    "version": 3
   },
   "file_extension": ".py",
   "mimetype": "text/x-python",
   "name": "python",
   "nbconvert_exporter": "python",
   "pygments_lexer": "ipython3",
   "version": "3.8.13"
  }
 },
 "nbformat": 4,
 "nbformat_minor": 5
}
