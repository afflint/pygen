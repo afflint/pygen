{
 "cells": [
  {
   "cell_type": "markdown",
   "id": "5e8ae19a",
   "metadata": {},
   "source": [
    "# Load and work with csv files\n",
    "See [https://www.kaggle.com/datasets/yelp-dataset/yelp-dataset](https://www.kaggle.com/datasets/yelp-dataset/yelp-dataset)"
   ]
  },
  {
   "cell_type": "code",
   "execution_count": 1,
   "id": "12ceba3c",
   "metadata": {},
   "outputs": [],
   "source": [
    "import pandas as pd\n",
    "import numpy as np\n",
    "from tqdm.notebook import tqdm"
   ]
  },
  {
   "cell_type": "code",
   "execution_count": 2,
   "id": "b2ed7706",
   "metadata": {},
   "outputs": [],
   "source": [
    "B_all = pd.read_csv('/Users/flint/Data/yelp/csv/business.csv', header=0)"
   ]
  },
  {
   "cell_type": "code",
   "execution_count": 3,
   "id": "366bed0c",
   "metadata": {},
   "outputs": [
    {
     "data": {
      "text/plain": [
       "(174567, 12)"
      ]
     },
     "execution_count": 3,
     "metadata": {},
     "output_type": "execute_result"
    }
   ],
   "source": [
    "B_all.shape"
   ]
  },
  {
   "cell_type": "code",
   "execution_count": 4,
   "id": "64c1bb59",
   "metadata": {},
   "outputs": [
    {
     "data": {
      "text/html": [
       "<div>\n",
       "<style scoped>\n",
       "    .dataframe tbody tr th:only-of-type {\n",
       "        vertical-align: middle;\n",
       "    }\n",
       "\n",
       "    .dataframe tbody tr th {\n",
       "        vertical-align: top;\n",
       "    }\n",
       "\n",
       "    .dataframe thead th {\n",
       "        text-align: right;\n",
       "    }\n",
       "</style>\n",
       "<table border=\"1\" class=\"dataframe\">\n",
       "  <thead>\n",
       "    <tr style=\"text-align: right;\">\n",
       "      <th></th>\n",
       "      <th>id</th>\n",
       "      <th>name</th>\n",
       "      <th>postal</th>\n",
       "      <th>street</th>\n",
       "      <th>lat</th>\n",
       "      <th>lon</th>\n",
       "      <th>stars</th>\n",
       "      <th>review</th>\n",
       "      <th>is_open</th>\n",
       "      <th>city_id</th>\n",
       "      <th>city_name</th>\n",
       "      <th>state</th>\n",
       "    </tr>\n",
       "  </thead>\n",
       "  <tbody>\n",
       "    <tr>\n",
       "      <th>0</th>\n",
       "      <td>FYWN1wneV18bWNgQjJ2GNg</td>\n",
       "      <td>Dental by Design</td>\n",
       "      <td>85044</td>\n",
       "      <td>4855 E Warner Rd, Ste B9</td>\n",
       "      <td>33.330690</td>\n",
       "      <td>-111.978599</td>\n",
       "      <td>4.0</td>\n",
       "      <td>22</td>\n",
       "      <td>True</td>\n",
       "      <td>D66C6A</td>\n",
       "      <td>Ahwatukee</td>\n",
       "      <td>AZ</td>\n",
       "    </tr>\n",
       "    <tr>\n",
       "      <th>1</th>\n",
       "      <td>He-G7vWjzVUysIKrfNbPUQ</td>\n",
       "      <td>Stephen Szabo Salon</td>\n",
       "      <td>15317</td>\n",
       "      <td>3101 Washington Rd</td>\n",
       "      <td>40.291685</td>\n",
       "      <td>-80.104900</td>\n",
       "      <td>3.0</td>\n",
       "      <td>11</td>\n",
       "      <td>True</td>\n",
       "      <td>60618F</td>\n",
       "      <td>McMurray</td>\n",
       "      <td>PA</td>\n",
       "    </tr>\n",
       "  </tbody>\n",
       "</table>\n",
       "</div>"
      ],
      "text/plain": [
       "                       id                 name postal  \\\n",
       "0  FYWN1wneV18bWNgQjJ2GNg     Dental by Design  85044   \n",
       "1  He-G7vWjzVUysIKrfNbPUQ  Stephen Szabo Salon  15317   \n",
       "\n",
       "                     street        lat         lon  stars  review  is_open  \\\n",
       "0  4855 E Warner Rd, Ste B9  33.330690 -111.978599    4.0      22     True   \n",
       "1        3101 Washington Rd  40.291685  -80.104900    3.0      11     True   \n",
       "\n",
       "  city_id  city_name state  \n",
       "0  D66C6A  Ahwatukee    AZ  \n",
       "1  60618F   McMurray    PA  "
      ]
     },
     "execution_count": 4,
     "metadata": {},
     "output_type": "execute_result"
    }
   ],
   "source": [
    "B_all.head(2)"
   ]
  },
  {
   "cell_type": "code",
   "execution_count": 5,
   "id": "1eabf6b4",
   "metadata": {},
   "outputs": [],
   "source": [
    "C_all = pd.read_csv('/Users/flint/Data/yelp/csv/yelp_incat.csv')"
   ]
  },
  {
   "cell_type": "code",
   "execution_count": 6,
   "id": "01346c9a",
   "metadata": {},
   "outputs": [
    {
     "data": {
      "text/plain": [
       "(668022, 2)"
      ]
     },
     "execution_count": 6,
     "metadata": {},
     "output_type": "execute_result"
    }
   ],
   "source": [
    "C_all.shape"
   ]
  },
  {
   "cell_type": "code",
   "execution_count": 7,
   "id": "79ae74ae",
   "metadata": {},
   "outputs": [
    {
     "data": {
      "text/html": [
       "<div>\n",
       "<style scoped>\n",
       "    .dataframe tbody tr th:only-of-type {\n",
       "        vertical-align: middle;\n",
       "    }\n",
       "\n",
       "    .dataframe tbody tr th {\n",
       "        vertical-align: top;\n",
       "    }\n",
       "\n",
       "    .dataframe thead th {\n",
       "        text-align: right;\n",
       "    }\n",
       "</style>\n",
       "<table border=\"1\" class=\"dataframe\">\n",
       "  <thead>\n",
       "    <tr style=\"text-align: right;\">\n",
       "      <th></th>\n",
       "      <th>business</th>\n",
       "      <th>category</th>\n",
       "    </tr>\n",
       "  </thead>\n",
       "  <tbody>\n",
       "    <tr>\n",
       "      <th>0</th>\n",
       "      <td>mmazCP1ZH0QsUqDS6OivFA</td>\n",
       "      <td>Seafood</td>\n",
       "    </tr>\n",
       "    <tr>\n",
       "      <th>1</th>\n",
       "      <td>Zh7k_33xMSPwm0UU7LsEIw</td>\n",
       "      <td>Education</td>\n",
       "    </tr>\n",
       "    <tr>\n",
       "      <th>2</th>\n",
       "      <td>EBa7-48XiJMmbbZ7VDhrjg</td>\n",
       "      <td>Shopping</td>\n",
       "    </tr>\n",
       "    <tr>\n",
       "      <th>3</th>\n",
       "      <td>IsUuk4HqkQaMPwpLGCHAtQ</td>\n",
       "      <td>Hair Extensions</td>\n",
       "    </tr>\n",
       "    <tr>\n",
       "      <th>4</th>\n",
       "      <td>WrBArrXMBdQHcdfudhneGw</td>\n",
       "      <td>Home Services</td>\n",
       "    </tr>\n",
       "  </tbody>\n",
       "</table>\n",
       "</div>"
      ],
      "text/plain": [
       "                 business         category\n",
       "0  mmazCP1ZH0QsUqDS6OivFA          Seafood\n",
       "1  Zh7k_33xMSPwm0UU7LsEIw        Education\n",
       "2  EBa7-48XiJMmbbZ7VDhrjg         Shopping\n",
       "3  IsUuk4HqkQaMPwpLGCHAtQ  Hair Extensions\n",
       "4  WrBArrXMBdQHcdfudhneGw    Home Services"
      ]
     },
     "execution_count": 7,
     "metadata": {},
     "output_type": "execute_result"
    }
   ],
   "source": [
    "C_all.head()"
   ]
  },
  {
   "cell_type": "markdown",
   "id": "11652ba1",
   "metadata": {},
   "source": [
    "## Explore data with pandas and matplotlib"
   ]
  },
  {
   "cell_type": "markdown",
   "id": "ccfa35ed",
   "metadata": {},
   "source": [
    "## Compute a ranking of business per category\n",
    "See [https://en.wikipedia.org/wiki/Bayesian_average](https://en.wikipedia.org/wiki/Bayesian_average)\n",
    "\n",
    "See also [datetime conversion](https://docs.python.org/3/library/datetime.html#strftime-and-strptime-behavior)"
   ]
  },
  {
   "cell_type": "code",
   "execution_count": 17,
   "id": "e45b40da",
   "metadata": {},
   "outputs": [],
   "source": [
    "import matplotlib.pyplot as plt"
   ]
  },
  {
   "cell_type": "code",
   "execution_count": 8,
   "id": "2c032abd",
   "metadata": {},
   "outputs": [],
   "source": [
    "R_all = pd.read_csv('/Users/flint/Data/yelp/csv/review.csv')"
   ]
  },
  {
   "cell_type": "code",
   "execution_count": 9,
   "id": "c52aed58",
   "metadata": {},
   "outputs": [
    {
     "data": {
      "text/plain": [
       "(307602, 4)"
      ]
     },
     "execution_count": 9,
     "metadata": {},
     "output_type": "execute_result"
    }
   ],
   "source": [
    "R_all.shape"
   ]
  },
  {
   "cell_type": "code",
   "execution_count": 10,
   "id": "aec2cee5",
   "metadata": {},
   "outputs": [
    {
     "data": {
      "text/html": [
       "<div>\n",
       "<style scoped>\n",
       "    .dataframe tbody tr th:only-of-type {\n",
       "        vertical-align: middle;\n",
       "    }\n",
       "\n",
       "    .dataframe tbody tr th {\n",
       "        vertical-align: top;\n",
       "    }\n",
       "\n",
       "    .dataframe thead th {\n",
       "        text-align: right;\n",
       "    }\n",
       "</style>\n",
       "<table border=\"1\" class=\"dataframe\">\n",
       "  <thead>\n",
       "    <tr style=\"text-align: right;\">\n",
       "      <th></th>\n",
       "      <th>business</th>\n",
       "      <th>date</th>\n",
       "      <th>author</th>\n",
       "      <th>stars</th>\n",
       "    </tr>\n",
       "  </thead>\n",
       "  <tbody>\n",
       "    <tr>\n",
       "      <th>0</th>\n",
       "      <td>ym5FOqL6tGbgynzwKMHZuw</td>\n",
       "      <td>2017-07-23</td>\n",
       "      <td>tKv1UeWDyEABNBrGhCfzUA</td>\n",
       "      <td>5</td>\n",
       "    </tr>\n",
       "    <tr>\n",
       "      <th>1</th>\n",
       "      <td>LCb2moBNkcBto_32rmZJ5A</td>\n",
       "      <td>2017-02-21</td>\n",
       "      <td>y2hYhjQECJG813jwNLnfKQ</td>\n",
       "      <td>3</td>\n",
       "    </tr>\n",
       "    <tr>\n",
       "      <th>2</th>\n",
       "      <td>ipFobdM6X_4SNMA9ZBfdAQ</td>\n",
       "      <td>2017-01-25</td>\n",
       "      <td>oZsYFsP7xBfcbO3CCmsNgQ</td>\n",
       "      <td>5</td>\n",
       "    </tr>\n",
       "    <tr>\n",
       "      <th>3</th>\n",
       "      <td>rnBm2hD9Y_RQ7LFo9S9AFA</td>\n",
       "      <td>2012-10-16</td>\n",
       "      <td>CWpVhVAzbkrHJK9_-KwIFQ</td>\n",
       "      <td>5</td>\n",
       "    </tr>\n",
       "    <tr>\n",
       "      <th>4</th>\n",
       "      <td>SAae44V24aD7y_HpgxjhPA</td>\n",
       "      <td>2017-06-10</td>\n",
       "      <td>DDMrvgE2Wz1IxStRtL5CYQ</td>\n",
       "      <td>3</td>\n",
       "    </tr>\n",
       "  </tbody>\n",
       "</table>\n",
       "</div>"
      ],
      "text/plain": [
       "                 business        date                  author  stars\n",
       "0  ym5FOqL6tGbgynzwKMHZuw  2017-07-23  tKv1UeWDyEABNBrGhCfzUA      5\n",
       "1  LCb2moBNkcBto_32rmZJ5A  2017-02-21  y2hYhjQECJG813jwNLnfKQ      3\n",
       "2  ipFobdM6X_4SNMA9ZBfdAQ  2017-01-25  oZsYFsP7xBfcbO3CCmsNgQ      5\n",
       "3  rnBm2hD9Y_RQ7LFo9S9AFA  2012-10-16  CWpVhVAzbkrHJK9_-KwIFQ      5\n",
       "4  SAae44V24aD7y_HpgxjhPA  2017-06-10  DDMrvgE2Wz1IxStRtL5CYQ      3"
      ]
     },
     "execution_count": 10,
     "metadata": {},
     "output_type": "execute_result"
    }
   ],
   "source": [
    "R_all.head()"
   ]
  },
  {
   "cell_type": "markdown",
   "id": "f0728770",
   "metadata": {},
   "source": [
    "## Count votes per business"
   ]
  },
  {
   "cell_type": "code",
   "execution_count": 15,
   "id": "4e5b8d9f",
   "metadata": {},
   "outputs": [],
   "source": [
    "A = R_all.groupby('business').agg({'stars': ['mean', 'count']})"
   ]
  },
  {
   "cell_type": "code",
   "execution_count": 16,
   "id": "ced28692",
   "metadata": {},
   "outputs": [
    {
     "data": {
      "text/html": [
       "<div>\n",
       "<style scoped>\n",
       "    .dataframe tbody tr th:only-of-type {\n",
       "        vertical-align: middle;\n",
       "    }\n",
       "\n",
       "    .dataframe tbody tr th {\n",
       "        vertical-align: top;\n",
       "    }\n",
       "\n",
       "    .dataframe thead tr th {\n",
       "        text-align: left;\n",
       "    }\n",
       "\n",
       "    .dataframe thead tr:last-of-type th {\n",
       "        text-align: right;\n",
       "    }\n",
       "</style>\n",
       "<table border=\"1\" class=\"dataframe\">\n",
       "  <thead>\n",
       "    <tr>\n",
       "      <th></th>\n",
       "      <th colspan=\"2\" halign=\"left\">stars</th>\n",
       "    </tr>\n",
       "    <tr>\n",
       "      <th></th>\n",
       "      <th>mean</th>\n",
       "      <th>count</th>\n",
       "    </tr>\n",
       "    <tr>\n",
       "      <th>business</th>\n",
       "      <th></th>\n",
       "      <th></th>\n",
       "    </tr>\n",
       "  </thead>\n",
       "  <tbody>\n",
       "    <tr>\n",
       "      <th>--DaPTJW3-tB1vP-PfdTEg</th>\n",
       "      <td>3.666667</td>\n",
       "      <td>39</td>\n",
       "    </tr>\n",
       "    <tr>\n",
       "      <th>--KCl2FvVQpvjzmZSPyviA</th>\n",
       "      <td>2.916667</td>\n",
       "      <td>12</td>\n",
       "    </tr>\n",
       "    <tr>\n",
       "      <th>--Y7NhBKzLTbNliMUX_wfg</th>\n",
       "      <td>4.875000</td>\n",
       "      <td>8</td>\n",
       "    </tr>\n",
       "    <tr>\n",
       "      <th>-0ZO00Vm2ADchytlEkoXmg</th>\n",
       "      <td>5.000000</td>\n",
       "      <td>68</td>\n",
       "    </tr>\n",
       "    <tr>\n",
       "      <th>-0dWjxaPKrXAn8urSnkSLA</th>\n",
       "      <td>2.937500</td>\n",
       "      <td>32</td>\n",
       "    </tr>\n",
       "  </tbody>\n",
       "</table>\n",
       "</div>"
      ],
      "text/plain": [
       "                           stars      \n",
       "                            mean count\n",
       "business                              \n",
       "--DaPTJW3-tB1vP-PfdTEg  3.666667    39\n",
       "--KCl2FvVQpvjzmZSPyviA  2.916667    12\n",
       "--Y7NhBKzLTbNliMUX_wfg  4.875000     8\n",
       "-0ZO00Vm2ADchytlEkoXmg  5.000000    68\n",
       "-0dWjxaPKrXAn8urSnkSLA  2.937500    32"
      ]
     },
     "execution_count": 16,
     "metadata": {},
     "output_type": "execute_result"
    }
   ],
   "source": [
    "A.head()"
   ]
  },
  {
   "cell_type": "code",
   "execution_count": 22,
   "id": "cf1ee2ca",
   "metadata": {},
   "outputs": [],
   "source": [
    "idx = pd.IndexSlice\n",
    "stars_mean = A.loc[:,idx[:,'mean']]\n",
    "stars_count = A.loc[:,idx[:,'count']]"
   ]
  },
  {
   "cell_type": "code",
   "execution_count": 49,
   "id": "0d3fcaa0",
   "metadata": {},
   "outputs": [
    {
     "data": {
      "image/png": "[encoded data removed]",
      "text/plain": [
       "<Figure size 720x288 with 1 Axes>"
      ]
     },
     "metadata": {
      "needs_background": "light"
     },
     "output_type": "display_data"
    }
   ],
   "source": [
    "fig, ax = plt.subplots(figsize=(10, 4))\n",
    "ax.scatter(stars_count, stars_mean, alpha=0.8, s=5)\n",
    "ax.plot([0, SC.max()], [SM.mean() + SM.std(), SM.mean() + SM.std()], color='#cccccc', linestyle='dashed')\n",
    "ax.plot([0, SC.max()], [SM.mean(), SM.mean()], color='#ff0000', linestyle='dashed')\n",
    "ax.plot([0, SC.max()], [SM.mean() - SM.std(), SM.mean() - SM.std()], color='#cccccc', linestyle='dashed')\n",
    "plt.tight_layout()\n",
    "plt.show()"
   ]
  },
  {
   "cell_type": "code",
   "execution_count": 32,
   "id": "010ae7d3",
   "metadata": {},
   "outputs": [
    {
     "data": {
      "text/plain": [
       "array([[39],\n",
       "       [12],\n",
       "       [ 8],\n",
       "       ...,\n",
       "       [ 5],\n",
       "       [ 3],\n",
       "       [ 9]])"
      ]
     },
     "execution_count": 32,
     "metadata": {},
     "output_type": "execute_result"
    }
   ],
   "source": [
    "stars_count.values"
   ]
  },
  {
   "cell_type": "code",
   "execution_count": 33,
   "id": "b28d4365",
   "metadata": {},
   "outputs": [],
   "source": [
    "SC = stars_count.values.ravel()\n",
    "SM = stars_mean.values.ravel()"
   ]
  },
  {
   "cell_type": "markdown",
   "id": "4682c343",
   "metadata": {},
   "source": [
    "## Distribution of votes and number of votes"
   ]
  },
  {
   "cell_type": "code",
   "execution_count": 42,
   "id": "47cdb1e5",
   "metadata": {},
   "outputs": [],
   "source": [
    "SCs, SMs = [], []\n",
    "thr = 200\n",
    "for i, x in enumerate(SC):\n",
    "    if x >= thr:\n",
    "        SCs.append(x)\n",
    "        SMs.append(SM[i])"
   ]
  },
  {
   "cell_type": "code",
   "execution_count": 43,
   "id": "2b7b1b43",
   "metadata": {},
   "outputs": [
    {
     "data": {
      "image/png": "[encoded data removed]",
      "text/plain": [
       "<Figure size 864x432 with 4 Axes>"
      ]
     },
     "metadata": {
      "needs_background": "light"
     },
     "output_type": "display_data"
    }
   ],
   "source": [
    "fig, ax = plt.subplots(figsize=(12, 6), ncols=2, nrows=2)\n",
    "ax[0,0].hist(SC, bins=200)\n",
    "ax[0,0].set_title('Number of votes')\n",
    "ax[0,1].hist(SM, bins=200)\n",
    "ax[0,1].set_title('Votes')\n",
    "ax[1,0].hist(SCs, bins=200)\n",
    "ax[1,0].set_title('Number of votes')\n",
    "ax[1,1].hist(SMs, bins=200)\n",
    "ax[1,1].set_title('Votes')\n",
    "plt.tight_layout()\n",
    "plt.show()"
   ]
  },
  {
   "cell_type": "markdown",
   "id": "318000de",
   "metadata": {},
   "source": [
    "## Working with Pandas multindex"
   ]
  },
  {
   "cell_type": "code",
   "execution_count": 63,
   "id": "e75ff2c2",
   "metadata": {},
   "outputs": [
    {
     "data": {
      "text/plain": [
       "MultiIndex([('stars',  'mean'),\n",
       "            ('stars', 'count')],\n",
       "           )"
      ]
     },
     "execution_count": 63,
     "metadata": {},
     "output_type": "execute_result"
    }
   ],
   "source": [
    "A.columns"
   ]
  },
  {
   "cell_type": "code",
   "execution_count": 64,
   "id": "88fddaf9",
   "metadata": {},
   "outputs": [],
   "source": [
    "A.columns = A.columns.set_names(['l0', 'l1'])"
   ]
  },
  {
   "cell_type": "code",
   "execution_count": 65,
   "id": "4240c8ef",
   "metadata": {},
   "outputs": [],
   "source": [
    "X = A.droplevel('l0', axis=1)"
   ]
  },
  {
   "cell_type": "code",
   "execution_count": 67,
   "id": "4165984e",
   "metadata": {},
   "outputs": [
    {
     "data": {
      "text/html": [
       "<div>\n",
       "<style scoped>\n",
       "    .dataframe tbody tr th:only-of-type {\n",
       "        vertical-align: middle;\n",
       "    }\n",
       "\n",
       "    .dataframe tbody tr th {\n",
       "        vertical-align: top;\n",
       "    }\n",
       "\n",
       "    .dataframe thead th {\n",
       "        text-align: right;\n",
       "    }\n",
       "</style>\n",
       "<table border=\"1\" class=\"dataframe\">\n",
       "  <thead>\n",
       "    <tr style=\"text-align: right;\">\n",
       "      <th>l1</th>\n",
       "      <th>mean</th>\n",
       "      <th>count</th>\n",
       "    </tr>\n",
       "    <tr>\n",
       "      <th>business</th>\n",
       "      <th></th>\n",
       "      <th></th>\n",
       "    </tr>\n",
       "  </thead>\n",
       "  <tbody>\n",
       "    <tr>\n",
       "      <th>--DaPTJW3-tB1vP-PfdTEg</th>\n",
       "      <td>3.666667</td>\n",
       "      <td>39</td>\n",
       "    </tr>\n",
       "    <tr>\n",
       "      <th>--KCl2FvVQpvjzmZSPyviA</th>\n",
       "      <td>2.916667</td>\n",
       "      <td>12</td>\n",
       "    </tr>\n",
       "    <tr>\n",
       "      <th>--Y7NhBKzLTbNliMUX_wfg</th>\n",
       "      <td>4.875000</td>\n",
       "      <td>8</td>\n",
       "    </tr>\n",
       "    <tr>\n",
       "      <th>-0ZO00Vm2ADchytlEkoXmg</th>\n",
       "      <td>5.000000</td>\n",
       "      <td>68</td>\n",
       "    </tr>\n",
       "    <tr>\n",
       "      <th>-0dWjxaPKrXAn8urSnkSLA</th>\n",
       "      <td>2.937500</td>\n",
       "      <td>32</td>\n",
       "    </tr>\n",
       "  </tbody>\n",
       "</table>\n",
       "</div>"
      ],
      "text/plain": [
       "l1                          mean  count\n",
       "business                               \n",
       "--DaPTJW3-tB1vP-PfdTEg  3.666667     39\n",
       "--KCl2FvVQpvjzmZSPyviA  2.916667     12\n",
       "--Y7NhBKzLTbNliMUX_wfg  4.875000      8\n",
       "-0ZO00Vm2ADchytlEkoXmg  5.000000     68\n",
       "-0dWjxaPKrXAn8urSnkSLA  2.937500     32"
      ]
     },
     "execution_count": 67,
     "metadata": {},
     "output_type": "execute_result"
    }
   ],
   "source": [
    "X.head()"
   ]
  },
  {
   "cell_type": "code",
   "execution_count": 72,
   "id": "48590bdd",
   "metadata": {},
   "outputs": [
    {
     "data": {
      "image/png": "[encoded data removed]",
      "text/plain": [
       "<Figure size 864x432 with 4 Axes>"
      ]
     },
     "metadata": {
      "needs_background": "light"
     },
     "output_type": "display_data"
    }
   ],
   "source": [
    "fig, ax = plt.subplots(figsize=(12, 6), ncols=2, nrows=2)\n",
    "X.boxplot(column='mean', ax=ax[0,0])\n",
    "X.boxplot(column='count', ax=ax[0,1])\n",
    "X[X['count'] >= thr].boxplot(column='mean', ax=ax[1,0])\n",
    "X[X['count'] >= thr].boxplot(column='count', ax=ax[1,1])\n",
    "plt.tight_layout()\n",
    "plt.show()"
   ]
  },
  {
   "cell_type": "markdown",
   "id": "3db2cefc",
   "metadata": {},
   "source": [
    "## Bayesian average\n",
    "\n",
    "$$\n",
    "\\overline{x} = \\frac{Cm + \\sum\\limits_{i=1}^{n} x_i}{C + n}\n",
    "$$\n",
    "\n",
    "with $C$ being a costant and $m$ a prior mean."
   ]
  },
  {
   "cell_type": "code",
   "execution_count": 95,
   "id": "c2cff15e",
   "metadata": {},
   "outputs": [],
   "source": [
    "from collections import defaultdict"
   ]
  },
  {
   "cell_type": "code",
   "execution_count": 96,
   "id": "ef3bfb6d",
   "metadata": {},
   "outputs": [],
   "source": [
    "data = defaultdict(list)\n",
    "for i, row in R_all.iterrows():\n",
    "    data[row['business']].append(row['stars'])"
   ]
  },
  {
   "cell_type": "code",
   "execution_count": 97,
   "id": "fcd6677e",
   "metadata": {},
   "outputs": [],
   "source": [
    "C, m = 30, R_all.stars.values.mean()\n",
    "means = {}\n",
    "for business, scores in data.items():\n",
    "    x_ = (C * m + sum(scores)) / (C + len(scores))\n",
    "    means[business] = x_"
   ]
  },
  {
   "cell_type": "code",
   "execution_count": 98,
   "id": "2f01ae8b",
   "metadata": {},
   "outputs": [],
   "source": [
    "X['bayesian'] = [means[x] for x in X.index.values]"
   ]
  },
  {
   "cell_type": "code",
   "execution_count": 99,
   "id": "4bbd186a",
   "metadata": {},
   "outputs": [
    {
     "data": {
      "text/html": [
       "<div>\n",
       "<style scoped>\n",
       "    .dataframe tbody tr th:only-of-type {\n",
       "        vertical-align: middle;\n",
       "    }\n",
       "\n",
       "    .dataframe tbody tr th {\n",
       "        vertical-align: top;\n",
       "    }\n",
       "\n",
       "    .dataframe thead th {\n",
       "        text-align: right;\n",
       "    }\n",
       "</style>\n",
       "<table border=\"1\" class=\"dataframe\">\n",
       "  <thead>\n",
       "    <tr style=\"text-align: right;\">\n",
       "      <th>l1</th>\n",
       "      <th>mean</th>\n",
       "      <th>count</th>\n",
       "      <th>bayesian</th>\n",
       "    </tr>\n",
       "    <tr>\n",
       "      <th>business</th>\n",
       "      <th></th>\n",
       "      <th></th>\n",
       "      <th></th>\n",
       "    </tr>\n",
       "  </thead>\n",
       "  <tbody>\n",
       "    <tr>\n",
       "      <th>--DaPTJW3-tB1vP-PfdTEg</th>\n",
       "      <td>3.666667</td>\n",
       "      <td>39</td>\n",
       "      <td>3.676011</td>\n",
       "    </tr>\n",
       "    <tr>\n",
       "      <th>--KCl2FvVQpvjzmZSPyviA</th>\n",
       "      <td>2.916667</td>\n",
       "      <td>12</td>\n",
       "      <td>3.467732</td>\n",
       "    </tr>\n",
       "    <tr>\n",
       "      <th>--Y7NhBKzLTbNliMUX_wfg</th>\n",
       "      <td>4.875000</td>\n",
       "      <td>8</td>\n",
       "      <td>3.938020</td>\n",
       "    </tr>\n",
       "    <tr>\n",
       "      <th>-0ZO00Vm2ADchytlEkoXmg</th>\n",
       "      <td>5.000000</td>\n",
       "      <td>68</td>\n",
       "      <td>4.598416</td>\n",
       "    </tr>\n",
       "    <tr>\n",
       "      <th>-0dWjxaPKrXAn8urSnkSLA</th>\n",
       "      <td>2.937500</td>\n",
       "      <td>32</td>\n",
       "      <td>3.300722</td>\n",
       "    </tr>\n",
       "  </tbody>\n",
       "</table>\n",
       "</div>"
      ],
      "text/plain": [
       "l1                          mean  count  bayesian\n",
       "business                                         \n",
       "--DaPTJW3-tB1vP-PfdTEg  3.666667     39  3.676011\n",
       "--KCl2FvVQpvjzmZSPyviA  2.916667     12  3.467732\n",
       "--Y7NhBKzLTbNliMUX_wfg  4.875000      8  3.938020\n",
       "-0ZO00Vm2ADchytlEkoXmg  5.000000     68  4.598416\n",
       "-0dWjxaPKrXAn8urSnkSLA  2.937500     32  3.300722"
      ]
     },
     "execution_count": 99,
     "metadata": {},
     "output_type": "execute_result"
    }
   ],
   "source": [
    "X.head()"
   ]
  },
  {
   "cell_type": "code",
   "execution_count": 100,
   "id": "006c9071",
   "metadata": {},
   "outputs": [
    {
     "data": {
      "image/png": "[encoded data removed]",
      "text/plain": [
       "<Figure size 1008x288 with 2 Axes>"
      ]
     },
     "metadata": {
      "needs_background": "light"
     },
     "output_type": "display_data"
    }
   ],
   "source": [
    "fig, ax = plt.subplots(figsize=(14, 4), ncols=2)\n",
    "ax[0].scatter(stars_count, stars_mean, alpha=0.8, s=5)\n",
    "ax[0].plot([0, SC.max()], [SM.mean() + SM.std(), SM.mean() + SM.std()], color='#cccccc', linestyle='dashed')\n",
    "ax[0].plot([0, SC.max()], [SM.mean(), SM.mean()], color='#ff0000', linestyle='dashed')\n",
    "ax[0].plot([0, SC.max()], [SM.mean() - SM.std(), SM.mean() - SM.std()], color='#cccccc', linestyle='dashed')\n",
    "ax[1].scatter(X['count'], X.bayesian, alpha=0.8, s=5)\n",
    "ax[1].plot([0, X['count'].max()], \n",
    "        [X.bayesian.mean() + X.bayesian.std(), X.bayesian.mean() + X.bayesian.std()], \n",
    "        color='#cccccc', linestyle='dashed')\n",
    "ax[1].plot([0, X['count'].max()], [X.bayesian.mean(), X.bayesian.mean()], color='#ff0000', linestyle='dashed')\n",
    "ax[1].plot([0, X['count'].max()], \n",
    "        [X.bayesian.mean() - X.bayesian.std(), X.bayesian.mean() - X.bayesian.std()], \n",
    "        color='#cccccc', linestyle='dashed')\n",
    "plt.tight_layout()\n",
    "plt.show()"
   ]
  },
  {
   "cell_type": "code",
   "execution_count": null,
   "id": "2cdacdbc",
   "metadata": {},
   "outputs": [],
   "source": []
  }
 ],
 "metadata": {
  "kernelspec": {
   "display_name": "Python 3 (ipykernel)",
   "language": "python",
   "name": "python3"
  },
  "language_info": {
   "codemirror_mode": {
    "name": "ipython",
    "version": 3
   },
   "file_extension": ".py",
   "mimetype": "text/x-python",
   "name": "python",
   "nbconvert_exporter": "python",
   "pygments_lexer": "ipython3",
   "version": "3.8.8"
  },
  "toc": {
   "base_numbering": 1,
   "nav_menu": {},
   "number_sections": true,
   "sideBar": true,
   "skip_h1_title": false,
   "title_cell": "Table of Contents",
   "title_sidebar": "Contents",
   "toc_cell": false,
   "toc_position": {},
   "toc_section_display": true,
   "toc_window_display": false
  }
 },
 "nbformat": 4,
 "nbformat_minor": 5
}
