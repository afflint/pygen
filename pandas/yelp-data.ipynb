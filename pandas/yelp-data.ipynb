{
 "cells": [
  {
   "cell_type": "markdown",
   "id": "5e8ae19a",
   "metadata": {},
   "source": [
    "# Load and work with csv files\n",
    "See [https://www.kaggle.com/datasets/yelp-dataset/yelp-dataset](https://www.kaggle.com/datasets/yelp-dataset/yelp-dataset)"
   ]
  },
  {
   "cell_type": "code",
   "execution_count": 17,
   "id": "12ceba3c",
   "metadata": {},
   "outputs": [],
   "source": [
    "import pandas as pd\n",
    "import numpy as np\n",
    "from tqdm.notebook import tqdm"
   ]
  },
  {
   "cell_type": "code",
   "execution_count": 21,
   "id": "b2ed7706",
   "metadata": {},
   "outputs": [],
   "source": [
    "B_all = pd.read_csv('/Users/flint/Data/yelp/csv/business.csv', header=0)"
   ]
  },
  {
   "cell_type": "code",
   "execution_count": 22,
   "id": "366bed0c",
   "metadata": {},
   "outputs": [
    {
     "data": {
      "text/plain": [
       "(174567, 12)"
      ]
     },
     "execution_count": 22,
     "metadata": {},
     "output_type": "execute_result"
    }
   ],
   "source": [
    "B_all.shape"
   ]
  },
  {
   "cell_type": "code",
   "execution_count": 23,
   "id": "64c1bb59",
   "metadata": {},
   "outputs": [
    {
     "data": {
      "text/html": [
       "<div>\n",
       "<style scoped>\n",
       "    .dataframe tbody tr th:only-of-type {\n",
       "        vertical-align: middle;\n",
       "    }\n",
       "\n",
       "    .dataframe tbody tr th {\n",
       "        vertical-align: top;\n",
       "    }\n",
       "\n",
       "    .dataframe thead th {\n",
       "        text-align: right;\n",
       "    }\n",
       "</style>\n",
       "<table border=\"1\" class=\"dataframe\">\n",
       "  <thead>\n",
       "    <tr style=\"text-align: right;\">\n",
       "      <th></th>\n",
       "      <th>id</th>\n",
       "      <th>name</th>\n",
       "      <th>postal</th>\n",
       "      <th>street</th>\n",
       "      <th>lat</th>\n",
       "      <th>lon</th>\n",
       "      <th>stars</th>\n",
       "      <th>review</th>\n",
       "      <th>is_open</th>\n",
       "      <th>city_id</th>\n",
       "      <th>city_name</th>\n",
       "      <th>state</th>\n",
       "    </tr>\n",
       "  </thead>\n",
       "  <tbody>\n",
       "    <tr>\n",
       "      <th>0</th>\n",
       "      <td>FYWN1wneV18bWNgQjJ2GNg</td>\n",
       "      <td>Dental by Design</td>\n",
       "      <td>85044</td>\n",
       "      <td>4855 E Warner Rd, Ste B9</td>\n",
       "      <td>33.330690</td>\n",
       "      <td>-111.978599</td>\n",
       "      <td>4.0</td>\n",
       "      <td>22</td>\n",
       "      <td>True</td>\n",
       "      <td>D66C6A</td>\n",
       "      <td>Ahwatukee</td>\n",
       "      <td>AZ</td>\n",
       "    </tr>\n",
       "    <tr>\n",
       "      <th>1</th>\n",
       "      <td>He-G7vWjzVUysIKrfNbPUQ</td>\n",
       "      <td>Stephen Szabo Salon</td>\n",
       "      <td>15317</td>\n",
       "      <td>3101 Washington Rd</td>\n",
       "      <td>40.291685</td>\n",
       "      <td>-80.104900</td>\n",
       "      <td>3.0</td>\n",
       "      <td>11</td>\n",
       "      <td>True</td>\n",
       "      <td>60618F</td>\n",
       "      <td>McMurray</td>\n",
       "      <td>PA</td>\n",
       "    </tr>\n",
       "  </tbody>\n",
       "</table>\n",
       "</div>"
      ],
      "text/plain": [
       "                       id                 name postal  \\\n",
       "0  FYWN1wneV18bWNgQjJ2GNg     Dental by Design  85044   \n",
       "1  He-G7vWjzVUysIKrfNbPUQ  Stephen Szabo Salon  15317   \n",
       "\n",
       "                     street        lat         lon  stars  review  is_open  \\\n",
       "0  4855 E Warner Rd, Ste B9  33.330690 -111.978599    4.0      22     True   \n",
       "1        3101 Washington Rd  40.291685  -80.104900    3.0      11     True   \n",
       "\n",
       "  city_id  city_name state  \n",
       "0  D66C6A  Ahwatukee    AZ  \n",
       "1  60618F   McMurray    PA  "
      ]
     },
     "execution_count": 23,
     "metadata": {},
     "output_type": "execute_result"
    }
   ],
   "source": [
    "B_all.head(2)"
   ]
  },
  {
   "cell_type": "code",
   "execution_count": 24,
   "id": "1eabf6b4",
   "metadata": {},
   "outputs": [],
   "source": [
    "C_all = pd.read_csv('/Users/flint/Data/yelp/csv/yelp_incat.csv')"
   ]
  },
  {
   "cell_type": "code",
   "execution_count": 25,
   "id": "01346c9a",
   "metadata": {},
   "outputs": [
    {
     "data": {
      "text/plain": [
       "(668022, 2)"
      ]
     },
     "execution_count": 25,
     "metadata": {},
     "output_type": "execute_result"
    }
   ],
   "source": [
    "C_all.shape"
   ]
  },
  {
   "cell_type": "code",
   "execution_count": 26,
   "id": "79ae74ae",
   "metadata": {},
   "outputs": [
    {
     "data": {
      "text/html": [
       "<div>\n",
       "<style scoped>\n",
       "    .dataframe tbody tr th:only-of-type {\n",
       "        vertical-align: middle;\n",
       "    }\n",
       "\n",
       "    .dataframe tbody tr th {\n",
       "        vertical-align: top;\n",
       "    }\n",
       "\n",
       "    .dataframe thead th {\n",
       "        text-align: right;\n",
       "    }\n",
       "</style>\n",
       "<table border=\"1\" class=\"dataframe\">\n",
       "  <thead>\n",
       "    <tr style=\"text-align: right;\">\n",
       "      <th></th>\n",
       "      <th>business</th>\n",
       "      <th>category</th>\n",
       "    </tr>\n",
       "  </thead>\n",
       "  <tbody>\n",
       "    <tr>\n",
       "      <th>0</th>\n",
       "      <td>mmazCP1ZH0QsUqDS6OivFA</td>\n",
       "      <td>Seafood</td>\n",
       "    </tr>\n",
       "    <tr>\n",
       "      <th>1</th>\n",
       "      <td>Zh7k_33xMSPwm0UU7LsEIw</td>\n",
       "      <td>Education</td>\n",
       "    </tr>\n",
       "    <tr>\n",
       "      <th>2</th>\n",
       "      <td>EBa7-48XiJMmbbZ7VDhrjg</td>\n",
       "      <td>Shopping</td>\n",
       "    </tr>\n",
       "    <tr>\n",
       "      <th>3</th>\n",
       "      <td>IsUuk4HqkQaMPwpLGCHAtQ</td>\n",
       "      <td>Hair Extensions</td>\n",
       "    </tr>\n",
       "    <tr>\n",
       "      <th>4</th>\n",
       "      <td>WrBArrXMBdQHcdfudhneGw</td>\n",
       "      <td>Home Services</td>\n",
       "    </tr>\n",
       "  </tbody>\n",
       "</table>\n",
       "</div>"
      ],
      "text/plain": [
       "                 business         category\n",
       "0  mmazCP1ZH0QsUqDS6OivFA          Seafood\n",
       "1  Zh7k_33xMSPwm0UU7LsEIw        Education\n",
       "2  EBa7-48XiJMmbbZ7VDhrjg         Shopping\n",
       "3  IsUuk4HqkQaMPwpLGCHAtQ  Hair Extensions\n",
       "4  WrBArrXMBdQHcdfudhneGw    Home Services"
      ]
     },
     "execution_count": 26,
     "metadata": {},
     "output_type": "execute_result"
    }
   ],
   "source": [
    "C_all.head()"
   ]
  },
  {
   "cell_type": "markdown",
   "id": "11652ba1",
   "metadata": {},
   "source": [
    "## Explore data with pandas and matplotlib"
   ]
  },
  {
   "cell_type": "markdown",
   "id": "ccfa35ed",
   "metadata": {},
   "source": [
    "## Compute a ranking of business per category\n",
    "See [https://en.wikipedia.org/wiki/Bayesian_average](https://en.wikipedia.org/wiki/Bayesian_average)\n",
    "\n",
    "See also [datetime conversion](https://docs.python.org/3/library/datetime.html#strftime-and-strptime-behavior)"
   ]
  },
  {
   "cell_type": "code",
   "execution_count": 27,
   "id": "2c032abd",
   "metadata": {},
   "outputs": [],
   "source": [
    "R_all = pd.read_csv('/Users/flint/Data/yelp/csv/review.csv')"
   ]
  },
  {
   "cell_type": "code",
   "execution_count": 29,
   "id": "c52aed58",
   "metadata": {},
   "outputs": [
    {
     "data": {
      "text/plain": [
       "(307602, 4)"
      ]
     },
     "execution_count": 29,
     "metadata": {},
     "output_type": "execute_result"
    }
   ],
   "source": [
    "R_all.shape"
   ]
  },
  {
   "cell_type": "code",
   "execution_count": 31,
   "id": "aec2cee5",
   "metadata": {},
   "outputs": [
    {
     "data": {
      "text/html": [
       "<div>\n",
       "<style scoped>\n",
       "    .dataframe tbody tr th:only-of-type {\n",
       "        vertical-align: middle;\n",
       "    }\n",
       "\n",
       "    .dataframe tbody tr th {\n",
       "        vertical-align: top;\n",
       "    }\n",
       "\n",
       "    .dataframe thead th {\n",
       "        text-align: right;\n",
       "    }\n",
       "</style>\n",
       "<table border=\"1\" class=\"dataframe\">\n",
       "  <thead>\n",
       "    <tr style=\"text-align: right;\">\n",
       "      <th></th>\n",
       "      <th>business</th>\n",
       "      <th>date</th>\n",
       "      <th>author</th>\n",
       "      <th>stars</th>\n",
       "    </tr>\n",
       "  </thead>\n",
       "  <tbody>\n",
       "    <tr>\n",
       "      <th>0</th>\n",
       "      <td>ym5FOqL6tGbgynzwKMHZuw</td>\n",
       "      <td>2017-07-23</td>\n",
       "      <td>tKv1UeWDyEABNBrGhCfzUA</td>\n",
       "      <td>5</td>\n",
       "    </tr>\n",
       "    <tr>\n",
       "      <th>1</th>\n",
       "      <td>LCb2moBNkcBto_32rmZJ5A</td>\n",
       "      <td>2017-02-21</td>\n",
       "      <td>y2hYhjQECJG813jwNLnfKQ</td>\n",
       "      <td>3</td>\n",
       "    </tr>\n",
       "    <tr>\n",
       "      <th>2</th>\n",
       "      <td>ipFobdM6X_4SNMA9ZBfdAQ</td>\n",
       "      <td>2017-01-25</td>\n",
       "      <td>oZsYFsP7xBfcbO3CCmsNgQ</td>\n",
       "      <td>5</td>\n",
       "    </tr>\n",
       "    <tr>\n",
       "      <th>3</th>\n",
       "      <td>rnBm2hD9Y_RQ7LFo9S9AFA</td>\n",
       "      <td>2012-10-16</td>\n",
       "      <td>CWpVhVAzbkrHJK9_-KwIFQ</td>\n",
       "      <td>5</td>\n",
       "    </tr>\n",
       "    <tr>\n",
       "      <th>4</th>\n",
       "      <td>SAae44V24aD7y_HpgxjhPA</td>\n",
       "      <td>2017-06-10</td>\n",
       "      <td>DDMrvgE2Wz1IxStRtL5CYQ</td>\n",
       "      <td>3</td>\n",
       "    </tr>\n",
       "  </tbody>\n",
       "</table>\n",
       "</div>"
      ],
      "text/plain": [
       "                 business        date                  author  stars\n",
       "0  ym5FOqL6tGbgynzwKMHZuw  2017-07-23  tKv1UeWDyEABNBrGhCfzUA      5\n",
       "1  LCb2moBNkcBto_32rmZJ5A  2017-02-21  y2hYhjQECJG813jwNLnfKQ      3\n",
       "2  ipFobdM6X_4SNMA9ZBfdAQ  2017-01-25  oZsYFsP7xBfcbO3CCmsNgQ      5\n",
       "3  rnBm2hD9Y_RQ7LFo9S9AFA  2012-10-16  CWpVhVAzbkrHJK9_-KwIFQ      5\n",
       "4  SAae44V24aD7y_HpgxjhPA  2017-06-10  DDMrvgE2Wz1IxStRtL5CYQ      3"
      ]
     },
     "execution_count": 31,
     "metadata": {},
     "output_type": "execute_result"
    }
   ],
   "source": [
    "R_all.head()"
   ]
  },
  {
   "cell_type": "code",
   "execution_count": null,
   "id": "cc819cbf",
   "metadata": {},
   "outputs": [],
   "source": []
  }
 ],
 "metadata": {
  "kernelspec": {
   "display_name": "Python 3 (ipykernel)",
   "language": "python",
   "name": "python3"
  },
  "language_info": {
   "codemirror_mode": {
    "name": "ipython",
    "version": 3
   },
   "file_extension": ".py",
   "mimetype": "text/x-python",
   "name": "python",
   "nbconvert_exporter": "python",
   "pygments_lexer": "ipython3",
   "version": "3.8.8"
  },
  "toc": {
   "base_numbering": 1,
   "nav_menu": {},
   "number_sections": true,
   "sideBar": true,
   "skip_h1_title": false,
   "title_cell": "Table of Contents",
   "title_sidebar": "Contents",
   "toc_cell": false,
   "toc_position": {},
   "toc_section_display": true,
   "toc_window_display": false
  }
 },
 "nbformat": 4,
 "nbformat_minor": 5
}
