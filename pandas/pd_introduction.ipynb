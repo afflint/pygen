{
 "cells": [
  {
   "cell_type": "markdown",
   "metadata": {},
   "source": [
    "# High-level introduction to <code>pandas</code>\n",
    "For a more complete introduction to <code>pandas</code>, see [https://pandas.pydata.org/](https://pandas.pydata.org/)."
   ]
  },
  {
   "cell_type": "code",
   "execution_count": 1,
   "metadata": {},
   "outputs": [],
   "source": [
    "import pandas as pd\n",
    "import numpy as np\n",
    "import matplotlib.pyplot as plt"
   ]
  },
  {
   "cell_type": "code",
   "execution_count": null,
   "metadata": {},
   "outputs": [],
   "source": [
    "s = {'a1': 'gino', 'a2': 'mario'}"
   ]
  },
  {
   "cell_type": "code",
   "execution_count": null,
   "metadata": {},
   "outputs": [],
   "source": []
  },
  {
   "cell_type": "markdown",
   "metadata": {},
   "source": [
    "## Series\n",
    "Series is a one-dimensional labeled array capable of holding any data type (integers, strings, floating point numbers, Python objects, etc.)."
   ]
  },
  {
   "cell_type": "code",
   "execution_count": 2,
   "metadata": {},
   "outputs": [],
   "source": [
    "data = np.random.randn(20)\n",
    "index = range(1990, 2010)"
   ]
  },
  {
   "cell_type": "code",
   "execution_count": 3,
   "metadata": {},
   "outputs": [
    {
     "name": "stdout",
     "output_type": "stream",
     "text": [
      "[-0.16493848  0.64337628 -0.66503497 -0.20091948  0.16603028 -0.624519\n",
      " -0.65906297 -0.30310653  0.12116521  0.00299463  1.63370778  0.7856198\n",
      "  1.24933059 -0.55087697  0.40873503  0.73009808  0.16168177  0.71547607\n",
      "  0.14130865  1.34938204]\n",
      "[1990, 1991, 1992, 1993, 1994, 1995, 1996, 1997, 1998, 1999, 2000, 2001, 2002, 2003, 2004, 2005, 2006, 2007, 2008, 2009]\n"
     ]
    }
   ],
   "source": [
    "print (data)\n",
    "print (list(index))"
   ]
  },
  {
   "cell_type": "code",
   "execution_count": 4,
   "metadata": {},
   "outputs": [],
   "source": [
    "y = pd.Series(data, index=index)"
   ]
  },
  {
   "cell_type": "code",
   "execution_count": 5,
   "metadata": {},
   "outputs": [
    {
     "name": "stdout",
     "output_type": "stream",
     "text": [
      "1990   -0.164938\n",
      "1991    0.643376\n",
      "1992   -0.665035\n",
      "1993   -0.200919\n",
      "1994    0.166030\n",
      "1995   -0.624519\n",
      "1996   -0.659063\n",
      "1997   -0.303107\n",
      "1998    0.121165\n",
      "1999    0.002995\n",
      "2000    1.633708\n",
      "2001    0.785620\n",
      "2002    1.249331\n",
      "2003   -0.550877\n",
      "2004    0.408735\n",
      "2005    0.730098\n",
      "2006    0.161682\n",
      "2007    0.715476\n",
      "2008    0.141309\n",
      "2009    1.349382\n",
      "dtype: float64\n"
     ]
    }
   ],
   "source": [
    "print (y)"
   ]
  },
  {
   "cell_type": "code",
   "execution_count": 8,
   "metadata": {},
   "outputs": [
    {
     "data": {
      "text/plain": [
       "-0.6650349714057472"
      ]
     },
     "execution_count": 8,
     "metadata": {},
     "output_type": "execute_result"
    }
   ],
   "source": [
    "y.loc[1992]"
   ]
  },
  {
   "cell_type": "code",
   "execution_count": 10,
   "metadata": {},
   "outputs": [],
   "source": [
    "salaries = {\n",
    "    'gino': 1500, 'maria': 2560.34, 'luca': None, 'federico': 2451\n",
    "}"
   ]
  },
  {
   "cell_type": "code",
   "execution_count": 11,
   "metadata": {},
   "outputs": [],
   "source": [
    "s = pd.Series(salaries)"
   ]
  },
  {
   "cell_type": "code",
   "execution_count": 12,
   "metadata": {},
   "outputs": [
    {
     "name": "stdout",
     "output_type": "stream",
     "text": [
      "gino        1500.00\n",
      "maria       2560.34\n",
      "luca            NaN\n",
      "federico    2451.00\n",
      "dtype: float64\n"
     ]
    }
   ],
   "source": [
    "print (s)"
   ]
  },
  {
   "cell_type": "markdown",
   "metadata": {},
   "source": [
    "### Access series as arrays"
   ]
  },
  {
   "cell_type": "code",
   "execution_count": 13,
   "metadata": {},
   "outputs": [
    {
     "name": "stdout",
     "output_type": "stream",
     "text": [
      "gino     1500.00\n",
      "maria    2560.34\n",
      "dtype: float64 \n",
      "\n",
      "maria    2560.34\n",
      "dtype: float64 \n",
      "\n",
      "gino        7.313220\n",
      "maria       7.847895\n",
      "luca             NaN\n",
      "federico    7.804251\n",
      "dtype: float64 \n",
      "\n",
      "gino        3000.00\n",
      "maria       5120.68\n",
      "luca            NaN\n",
      "federico    4902.00\n",
      "dtype: float64 \n",
      "\n",
      "gino        4500.00\n",
      "maria       7681.02\n",
      "luca            NaN\n",
      "federico    7353.00\n",
      "dtype: float64 \n",
      "\n"
     ]
    }
   ],
   "source": [
    "print (s[:2], '\\n')\n",
    "print (s[s > s.median()], '\\n')\n",
    "print (np.log(s), '\\n')\n",
    "print (s + s, '\\n')\n",
    "print (s * 3, '\\n')"
   ]
  },
  {
   "cell_type": "code",
   "execution_count": 14,
   "metadata": {},
   "outputs": [
    {
     "name": "stdout",
     "output_type": "stream",
     "text": [
      "1994    0.332061\n",
      "1995   -1.249038\n",
      "1996   -1.318126\n",
      "1997   -0.606213\n",
      "1998         NaN\n",
      "1999         NaN\n",
      "dtype: float64\n"
     ]
    }
   ],
   "source": [
    "print (y[4:8] + y[4:10])"
   ]
  },
  {
   "cell_type": "markdown",
   "metadata": {},
   "source": [
    "### Access series as dictionaries"
   ]
  },
  {
   "cell_type": "code",
   "execution_count": 15,
   "metadata": {},
   "outputs": [
    {
     "data": {
      "text/plain": [
       "-0.16493848229378008"
      ]
     },
     "execution_count": 15,
     "metadata": {},
     "output_type": "execute_result"
    }
   ],
   "source": [
    "y[1990]"
   ]
  },
  {
   "cell_type": "markdown",
   "metadata": {},
   "source": [
    "# Data Frames\n",
    "From [http://pandas.pydata.org/pandas-docs/stable/dsintro.html#dataframe](http://pandas.pydata.org/pandas-docs/stable/dsintro.html#dataframe)\n",
    "\n",
    "DataFrame is a 2-dimensional labeled data structure with columns of potentially different types. You can think of it like a spreadsheet or SQL table, or a dict of Series objects. It is generally the most commonly used pandas object. Like Series, DataFrame accepts many different kinds of input:\n",
    "\n",
    "- Dict of 1D ndarrays, lists, dicts, or Series\n",
    "- 2-D numpy.ndarray\n",
    "- Structured or record ndarray\n",
    "- A Series\n",
    "- Another DataFrame\n",
    "\n",
    "Along with the data, you can optionally pass index (row labels) and columns (column labels) arguments. If you pass an index and / or columns, you are guaranteeing the index and / or columns of the resulting DataFrame. Thus, a dict of Series plus a specific index will discard all data not matching up to the passed index.\n",
    "\n",
    "If axis labels are not passed, they will be constructed from the input data based on common sense rules."
   ]
  },
  {
   "cell_type": "code",
   "execution_count": 16,
   "metadata": {},
   "outputs": [
    {
     "name": "stderr",
     "output_type": "stream",
     "text": [
      "/anaconda3/lib/python3.7/site-packages/pandas/core/indexes/range.py:465: RuntimeWarning: '<' not supported between instances of 'int' and 'str', sort order is undefined for incomparable objects\n",
      "  return self._int64index.union(other)\n"
     ]
    }
   ],
   "source": [
    "k = {'years': y, 'salaries': s}\n",
    "df = pd.DataFrame(k)"
   ]
  },
  {
   "cell_type": "code",
   "execution_count": 17,
   "metadata": {},
   "outputs": [
    {
     "name": "stdout",
     "output_type": "stream",
     "text": [
      "             years  salaries\n",
      "1990     -0.164938       NaN\n",
      "1991      0.643376       NaN\n",
      "1992     -0.665035       NaN\n",
      "1993     -0.200919       NaN\n",
      "1994      0.166030       NaN\n",
      "1995     -0.624519       NaN\n",
      "1996     -0.659063       NaN\n",
      "1997     -0.303107       NaN\n",
      "1998      0.121165       NaN\n",
      "1999      0.002995       NaN\n",
      "2000      1.633708       NaN\n",
      "2001      0.785620       NaN\n",
      "2002      1.249331       NaN\n",
      "2003     -0.550877       NaN\n",
      "2004      0.408735       NaN\n",
      "2005      0.730098       NaN\n",
      "2006      0.161682       NaN\n",
      "2007      0.715476       NaN\n",
      "2008      0.141309       NaN\n",
      "2009      1.349382       NaN\n",
      "gino           NaN   1500.00\n",
      "maria          NaN   2560.34\n",
      "luca           NaN       NaN\n",
      "federico       NaN   2451.00\n"
     ]
    }
   ],
   "source": [
    "print (df)"
   ]
  },
  {
   "cell_type": "code",
   "execution_count": 18,
   "metadata": {},
   "outputs": [],
   "source": [
    "data = {}\n",
    "for k, v in s.items():\n",
    "    data[k] = {}\n",
    "    for d, w in y.items():\n",
    "        data[k][d] = v + (v*w)"
   ]
  },
  {
   "cell_type": "code",
   "execution_count": null,
   "metadata": {},
   "outputs": [],
   "source": []
  },
  {
   "cell_type": "code",
   "execution_count": 20,
   "metadata": {},
   "outputs": [],
   "source": [
    "ydf = pd.DataFrame(data)"
   ]
  },
  {
   "cell_type": "code",
   "execution_count": 21,
   "metadata": {},
   "outputs": [
    {
     "name": "stdout",
     "output_type": "stream",
     "text": [
      "             gino        maria  luca     federico\n",
      "1990  1252.592277  2138.041406   NaN  2046.735780\n",
      "1991  2465.064413  4207.602013   NaN  4027.915251\n",
      "1992   502.447543   857.624361   NaN   820.999285\n",
      "1993  1198.620785  2045.917827   NaN  1958.546363\n",
      "1994  1749.045417  2985.433962   NaN  2857.940211\n",
      "1995   563.221504   961.359031   NaN   920.303938\n",
      "1996   511.405552   872.914728   NaN   835.636673\n",
      "1997  1045.340200  1784.284219   NaN  1708.085887\n",
      "1998  1681.747820  2870.564142   NaN  2747.975938\n",
      "1999  1504.491952  2568.007283   NaN  2458.339850\n",
      "2000  3950.561663  6743.187365   NaN  6455.217757\n",
      "2001  2678.429695  4571.793791   NaN  4376.554122\n",
      "2002  3373.995892  5759.051095   NaN  5513.109288\n",
      "2003   673.684552  1149.907671   NaN  1100.800558\n",
      "2004  2113.102541  3606.840639   NaN  3452.809552\n",
      "2005  2595.147127  4429.639331   NaN  4240.470406\n",
      "2006  1742.522655  2974.300302   NaN  2847.282018\n",
      "2007  2573.214100  4392.201993   NaN  4204.631840\n",
      "2008  1711.962980  2922.138198   NaN  2797.347510\n",
      "2009  3524.073055  6015.216804   NaN  5758.335372\n"
     ]
    }
   ],
   "source": [
    "print (ydf)"
   ]
  },
  {
   "cell_type": "code",
   "execution_count": 22,
   "metadata": {},
   "outputs": [
    {
     "data": {
      "text/html": [
       "<div>\n",
       "<style scoped>\n",
       "    .dataframe tbody tr th:only-of-type {\n",
       "        vertical-align: middle;\n",
       "    }\n",
       "\n",
       "    .dataframe tbody tr th {\n",
       "        vertical-align: top;\n",
       "    }\n",
       "\n",
       "    .dataframe thead th {\n",
       "        text-align: right;\n",
       "    }\n",
       "</style>\n",
       "<table border=\"1\" class=\"dataframe\">\n",
       "  <thead>\n",
       "    <tr style=\"text-align: right;\">\n",
       "      <th></th>\n",
       "      <th>gino</th>\n",
       "      <th>maria</th>\n",
       "      <th>luca</th>\n",
       "      <th>federico</th>\n",
       "    </tr>\n",
       "  </thead>\n",
       "  <tbody>\n",
       "    <tr>\n",
       "      <th>1990</th>\n",
       "      <td>1252.592277</td>\n",
       "      <td>2138.041406</td>\n",
       "      <td>NaN</td>\n",
       "      <td>2046.735780</td>\n",
       "    </tr>\n",
       "    <tr>\n",
       "      <th>1991</th>\n",
       "      <td>2465.064413</td>\n",
       "      <td>4207.602013</td>\n",
       "      <td>NaN</td>\n",
       "      <td>4027.915251</td>\n",
       "    </tr>\n",
       "  </tbody>\n",
       "</table>\n",
       "</div>"
      ],
      "text/plain": [
       "             gino        maria  luca     federico\n",
       "1990  1252.592277  2138.041406   NaN  2046.735780\n",
       "1991  2465.064413  4207.602013   NaN  4027.915251"
      ]
     },
     "execution_count": 22,
     "metadata": {},
     "output_type": "execute_result"
    }
   ],
   "source": [
    "ydf.head(n=2)"
   ]
  },
  {
   "cell_type": "code",
   "execution_count": 23,
   "metadata": {},
   "outputs": [
    {
     "data": {
      "text/plain": [
       "(20, 4)"
      ]
     },
     "execution_count": 23,
     "metadata": {},
     "output_type": "execute_result"
    }
   ],
   "source": [
    "ydf.shape"
   ]
  },
  {
   "cell_type": "code",
   "execution_count": 26,
   "metadata": {},
   "outputs": [
    {
     "data": {
      "text/html": [
       "<div>\n",
       "<style scoped>\n",
       "    .dataframe tbody tr th:only-of-type {\n",
       "        vertical-align: middle;\n",
       "    }\n",
       "\n",
       "    .dataframe tbody tr th {\n",
       "        vertical-align: top;\n",
       "    }\n",
       "\n",
       "    .dataframe thead th {\n",
       "        text-align: right;\n",
       "    }\n",
       "</style>\n",
       "<table border=\"1\" class=\"dataframe\">\n",
       "  <thead>\n",
       "    <tr style=\"text-align: right;\">\n",
       "      <th></th>\n",
       "      <th>1990</th>\n",
       "      <th>1991</th>\n",
       "      <th>1992</th>\n",
       "      <th>1993</th>\n",
       "      <th>1994</th>\n",
       "      <th>1995</th>\n",
       "      <th>1996</th>\n",
       "      <th>1997</th>\n",
       "      <th>1998</th>\n",
       "      <th>1999</th>\n",
       "      <th>2000</th>\n",
       "      <th>2001</th>\n",
       "      <th>2002</th>\n",
       "      <th>2003</th>\n",
       "      <th>2004</th>\n",
       "      <th>2005</th>\n",
       "      <th>2006</th>\n",
       "      <th>2007</th>\n",
       "      <th>2008</th>\n",
       "      <th>2009</th>\n",
       "    </tr>\n",
       "  </thead>\n",
       "  <tbody>\n",
       "    <tr>\n",
       "      <th>federico</th>\n",
       "      <td>2046.735780</td>\n",
       "      <td>4027.915251</td>\n",
       "      <td>820.999285</td>\n",
       "      <td>1958.546363</td>\n",
       "      <td>2857.940211</td>\n",
       "      <td>920.303938</td>\n",
       "      <td>835.636673</td>\n",
       "      <td>1708.085887</td>\n",
       "      <td>2747.975938</td>\n",
       "      <td>2458.339850</td>\n",
       "      <td>6455.217757</td>\n",
       "      <td>4376.554122</td>\n",
       "      <td>5513.109288</td>\n",
       "      <td>1100.800558</td>\n",
       "      <td>3452.809552</td>\n",
       "      <td>4240.470406</td>\n",
       "      <td>2847.282018</td>\n",
       "      <td>4204.631840</td>\n",
       "      <td>2797.347510</td>\n",
       "      <td>5758.335372</td>\n",
       "    </tr>\n",
       "    <tr>\n",
       "      <th>gino</th>\n",
       "      <td>1252.592277</td>\n",
       "      <td>2465.064413</td>\n",
       "      <td>502.447543</td>\n",
       "      <td>1198.620785</td>\n",
       "      <td>1749.045417</td>\n",
       "      <td>563.221504</td>\n",
       "      <td>511.405552</td>\n",
       "      <td>1045.340200</td>\n",
       "      <td>1681.747820</td>\n",
       "      <td>1504.491952</td>\n",
       "      <td>3950.561663</td>\n",
       "      <td>2678.429695</td>\n",
       "      <td>3373.995892</td>\n",
       "      <td>673.684552</td>\n",
       "      <td>2113.102541</td>\n",
       "      <td>2595.147127</td>\n",
       "      <td>1742.522655</td>\n",
       "      <td>2573.214100</td>\n",
       "      <td>1711.962980</td>\n",
       "      <td>3524.073055</td>\n",
       "    </tr>\n",
       "    <tr>\n",
       "      <th>luca</th>\n",
       "      <td>NaN</td>\n",
       "      <td>NaN</td>\n",
       "      <td>NaN</td>\n",
       "      <td>NaN</td>\n",
       "      <td>NaN</td>\n",
       "      <td>NaN</td>\n",
       "      <td>NaN</td>\n",
       "      <td>NaN</td>\n",
       "      <td>NaN</td>\n",
       "      <td>NaN</td>\n",
       "      <td>NaN</td>\n",
       "      <td>NaN</td>\n",
       "      <td>NaN</td>\n",
       "      <td>NaN</td>\n",
       "      <td>NaN</td>\n",
       "      <td>NaN</td>\n",
       "      <td>NaN</td>\n",
       "      <td>NaN</td>\n",
       "      <td>NaN</td>\n",
       "      <td>NaN</td>\n",
       "    </tr>\n",
       "    <tr>\n",
       "      <th>maria</th>\n",
       "      <td>2138.041406</td>\n",
       "      <td>4207.602013</td>\n",
       "      <td>857.624361</td>\n",
       "      <td>2045.917827</td>\n",
       "      <td>2985.433962</td>\n",
       "      <td>961.359031</td>\n",
       "      <td>872.914728</td>\n",
       "      <td>1784.284219</td>\n",
       "      <td>2870.564142</td>\n",
       "      <td>2568.007283</td>\n",
       "      <td>6743.187365</td>\n",
       "      <td>4571.793791</td>\n",
       "      <td>5759.051095</td>\n",
       "      <td>1149.907671</td>\n",
       "      <td>3606.840639</td>\n",
       "      <td>4429.639331</td>\n",
       "      <td>2974.300302</td>\n",
       "      <td>4392.201993</td>\n",
       "      <td>2922.138198</td>\n",
       "      <td>6015.216804</td>\n",
       "    </tr>\n",
       "  </tbody>\n",
       "</table>\n",
       "</div>"
      ],
      "text/plain": [
       "                 1990         1991        1992         1993         1994  \\\n",
       "federico  2046.735780  4027.915251  820.999285  1958.546363  2857.940211   \n",
       "gino      1252.592277  2465.064413  502.447543  1198.620785  1749.045417   \n",
       "luca              NaN          NaN         NaN          NaN          NaN   \n",
       "maria     2138.041406  4207.602013  857.624361  2045.917827  2985.433962   \n",
       "\n",
       "                1995        1996         1997         1998         1999  \\\n",
       "federico  920.303938  835.636673  1708.085887  2747.975938  2458.339850   \n",
       "gino      563.221504  511.405552  1045.340200  1681.747820  1504.491952   \n",
       "luca             NaN         NaN          NaN          NaN          NaN   \n",
       "maria     961.359031  872.914728  1784.284219  2870.564142  2568.007283   \n",
       "\n",
       "                 2000         2001         2002         2003         2004  \\\n",
       "federico  6455.217757  4376.554122  5513.109288  1100.800558  3452.809552   \n",
       "gino      3950.561663  2678.429695  3373.995892   673.684552  2113.102541   \n",
       "luca              NaN          NaN          NaN          NaN          NaN   \n",
       "maria     6743.187365  4571.793791  5759.051095  1149.907671  3606.840639   \n",
       "\n",
       "                 2005         2006         2007         2008         2009  \n",
       "federico  4240.470406  2847.282018  4204.631840  2797.347510  5758.335372  \n",
       "gino      2595.147127  1742.522655  2573.214100  1711.962980  3524.073055  \n",
       "luca              NaN          NaN          NaN          NaN          NaN  \n",
       "maria     4429.639331  2974.300302  4392.201993  2922.138198  6015.216804  "
      ]
     },
     "execution_count": 26,
     "metadata": {},
     "output_type": "execute_result"
    }
   ],
   "source": [
    "pd.DataFrame.from_dict(data, orient='index').head()"
   ]
  },
  {
   "cell_type": "markdown",
   "metadata": {},
   "source": [
    "## Loading and manipulating data\n",
    "Retrieve the complete local dataset from <a href=\"https://www.kaggle.com/daveianhickey/2000-16-traffic-flow-england-scotland-wales\">Kaggle website</a>."
   ]
  },
  {
   "cell_type": "code",
   "execution_count": 27,
   "metadata": {},
   "outputs": [],
   "source": [
    "accidents = '/Users/alfio/Teaching/2018-19/generali/torino/pygen/data/trafficsample.csv'\n",
    "A = pd.read_csv(accidents, low_memory=False, index_col=0)"
   ]
  },
  {
   "cell_type": "code",
   "execution_count": 28,
   "metadata": {},
   "outputs": [
    {
     "data": {
      "text/html": [
       "<div>\n",
       "<style scoped>\n",
       "    .dataframe tbody tr th:only-of-type {\n",
       "        vertical-align: middle;\n",
       "    }\n",
       "\n",
       "    .dataframe tbody tr th {\n",
       "        vertical-align: top;\n",
       "    }\n",
       "\n",
       "    .dataframe thead th {\n",
       "        text-align: right;\n",
       "    }\n",
       "</style>\n",
       "<table border=\"1\" class=\"dataframe\">\n",
       "  <thead>\n",
       "    <tr style=\"text-align: right;\">\n",
       "      <th></th>\n",
       "      <th>Accident_Index</th>\n",
       "      <th>Location_Easting_OSGR</th>\n",
       "      <th>Location_Northing_OSGR</th>\n",
       "      <th>Longitude</th>\n",
       "      <th>Latitude</th>\n",
       "      <th>Police_Force</th>\n",
       "      <th>Accident_Severity</th>\n",
       "      <th>Number_of_Vehicles</th>\n",
       "      <th>Number_of_Casualties</th>\n",
       "      <th>Date</th>\n",
       "      <th>...</th>\n",
       "      <th>Pedestrian_Crossing-Physical_Facilities</th>\n",
       "      <th>Light_Conditions</th>\n",
       "      <th>Weather_Conditions</th>\n",
       "      <th>Road_Surface_Conditions</th>\n",
       "      <th>Special_Conditions_at_Site</th>\n",
       "      <th>Carriageway_Hazards</th>\n",
       "      <th>Urban_or_Rural_Area</th>\n",
       "      <th>Did_Police_Officer_Attend_Scene_of_Accident</th>\n",
       "      <th>LSOA_of_Accident_Location</th>\n",
       "      <th>Year</th>\n",
       "    </tr>\n",
       "  </thead>\n",
       "  <tbody>\n",
       "    <tr>\n",
       "      <th>175309</th>\n",
       "      <td>201243N075042</td>\n",
       "      <td>497930</td>\n",
       "      <td>188010</td>\n",
       "      <td>-0.588005</td>\n",
       "      <td>51.582399</td>\n",
       "      <td>43</td>\n",
       "      <td>3</td>\n",
       "      <td>2</td>\n",
       "      <td>1</td>\n",
       "      <td>04/04/2012</td>\n",
       "      <td>...</td>\n",
       "      <td>No physical crossing within 50 meters</td>\n",
       "      <td>Darkness: Street lights present and lit</td>\n",
       "      <td>Fine without high winds</td>\n",
       "      <td>Dry</td>\n",
       "      <td>None</td>\n",
       "      <td>None</td>\n",
       "      <td>2</td>\n",
       "      <td>Yes</td>\n",
       "      <td>E01017821</td>\n",
       "      <td>2012</td>\n",
       "    </tr>\n",
       "    <tr>\n",
       "      <th>53367</th>\n",
       "      <td>2.01E+12</td>\n",
       "      <td>621820</td>\n",
       "      <td>309050</td>\n",
       "      <td>1.276633</td>\n",
       "      <td>52.633805</td>\n",
       "      <td>36</td>\n",
       "      <td>3</td>\n",
       "      <td>2</td>\n",
       "      <td>1</td>\n",
       "      <td>23/12/2013</td>\n",
       "      <td>...</td>\n",
       "      <td>No physical crossing within 50 meters</td>\n",
       "      <td>Daylight: Street light present</td>\n",
       "      <td>Fine without high winds</td>\n",
       "      <td>Wet/Damp</td>\n",
       "      <td>None</td>\n",
       "      <td>None</td>\n",
       "      <td>1</td>\n",
       "      <td>Yes</td>\n",
       "      <td>E01026840</td>\n",
       "      <td>2013</td>\n",
       "    </tr>\n",
       "    <tr>\n",
       "      <th>85873</th>\n",
       "      <td>201305DD03109</td>\n",
       "      <td>352450</td>\n",
       "      <td>397563</td>\n",
       "      <td>-2.717854</td>\n",
       "      <td>53.472632</td>\n",
       "      <td>5</td>\n",
       "      <td>2</td>\n",
       "      <td>5</td>\n",
       "      <td>3</td>\n",
       "      <td>14/06/2013</td>\n",
       "      <td>...</td>\n",
       "      <td>No physical crossing within 50 meters</td>\n",
       "      <td>Daylight: Street light present</td>\n",
       "      <td>Raining with high winds</td>\n",
       "      <td>Wet/Damp</td>\n",
       "      <td>None</td>\n",
       "      <td>None</td>\n",
       "      <td>1</td>\n",
       "      <td>Yes</td>\n",
       "      <td>E01006852</td>\n",
       "      <td>2013</td>\n",
       "    </tr>\n",
       "    <tr>\n",
       "      <th>359233</th>\n",
       "      <td>201243N210022</td>\n",
       "      <td>479520</td>\n",
       "      <td>194780</td>\n",
       "      <td>-0.852115</td>\n",
       "      <td>51.646155</td>\n",
       "      <td>43</td>\n",
       "      <td>3</td>\n",
       "      <td>1</td>\n",
       "      <td>1</td>\n",
       "      <td>21/02/2012</td>\n",
       "      <td>...</td>\n",
       "      <td>No physical crossing within 50 meters</td>\n",
       "      <td>Daylight: Street light present</td>\n",
       "      <td>Fine without high winds</td>\n",
       "      <td>Dry</td>\n",
       "      <td>None</td>\n",
       "      <td>None</td>\n",
       "      <td>2</td>\n",
       "      <td>Yes</td>\n",
       "      <td>E01017916</td>\n",
       "      <td>2012</td>\n",
       "    </tr>\n",
       "    <tr>\n",
       "      <th>340672</th>\n",
       "      <td>201401GD11000</td>\n",
       "      <td>535170</td>\n",
       "      <td>185350</td>\n",
       "      <td>-0.051837</td>\n",
       "      <td>51.550802</td>\n",
       "      <td>1</td>\n",
       "      <td>3</td>\n",
       "      <td>2</td>\n",
       "      <td>1</td>\n",
       "      <td>09/12/2014</td>\n",
       "      <td>...</td>\n",
       "      <td>Pedestrian phase at traffic signal junction</td>\n",
       "      <td>Daylight: Street light present</td>\n",
       "      <td>Fine without high winds</td>\n",
       "      <td>Dry</td>\n",
       "      <td>None</td>\n",
       "      <td>Pedestrian in carriageway (not injured)</td>\n",
       "      <td>1</td>\n",
       "      <td>Yes</td>\n",
       "      <td>E01001734</td>\n",
       "      <td>2014</td>\n",
       "    </tr>\n",
       "  </tbody>\n",
       "</table>\n",
       "<p>5 rows × 33 columns</p>\n",
       "</div>"
      ],
      "text/plain": [
       "       Accident_Index  Location_Easting_OSGR  Location_Northing_OSGR  \\\n",
       "175309  201243N075042                 497930                  188010   \n",
       "53367        2.01E+12                 621820                  309050   \n",
       "85873   201305DD03109                 352450                  397563   \n",
       "359233  201243N210022                 479520                  194780   \n",
       "340672  201401GD11000                 535170                  185350   \n",
       "\n",
       "        Longitude   Latitude  Police_Force  Accident_Severity  \\\n",
       "175309  -0.588005  51.582399            43                  3   \n",
       "53367    1.276633  52.633805            36                  3   \n",
       "85873   -2.717854  53.472632             5                  2   \n",
       "359233  -0.852115  51.646155            43                  3   \n",
       "340672  -0.051837  51.550802             1                  3   \n",
       "\n",
       "        Number_of_Vehicles  Number_of_Casualties        Date  ...   \\\n",
       "175309                   2                     1  04/04/2012  ...    \n",
       "53367                    2                     1  23/12/2013  ...    \n",
       "85873                    5                     3  14/06/2013  ...    \n",
       "359233                   1                     1  21/02/2012  ...    \n",
       "340672                   2                     1  09/12/2014  ...    \n",
       "\n",
       "            Pedestrian_Crossing-Physical_Facilities  \\\n",
       "175309        No physical crossing within 50 meters   \n",
       "53367         No physical crossing within 50 meters   \n",
       "85873         No physical crossing within 50 meters   \n",
       "359233        No physical crossing within 50 meters   \n",
       "340672  Pedestrian phase at traffic signal junction   \n",
       "\n",
       "                               Light_Conditions       Weather_Conditions  \\\n",
       "175309  Darkness: Street lights present and lit  Fine without high winds   \n",
       "53367            Daylight: Street light present  Fine without high winds   \n",
       "85873            Daylight: Street light present  Raining with high winds   \n",
       "359233           Daylight: Street light present  Fine without high winds   \n",
       "340672           Daylight: Street light present  Fine without high winds   \n",
       "\n",
       "       Road_Surface_Conditions  Special_Conditions_at_Site  \\\n",
       "175309                     Dry                        None   \n",
       "53367                 Wet/Damp                        None   \n",
       "85873                 Wet/Damp                        None   \n",
       "359233                     Dry                        None   \n",
       "340672                     Dry                        None   \n",
       "\n",
       "                            Carriageway_Hazards Urban_or_Rural_Area  \\\n",
       "175309                                     None                   2   \n",
       "53367                                      None                   1   \n",
       "85873                                      None                   1   \n",
       "359233                                     None                   2   \n",
       "340672  Pedestrian in carriageway (not injured)                   1   \n",
       "\n",
       "        Did_Police_Officer_Attend_Scene_of_Accident  \\\n",
       "175309                                          Yes   \n",
       "53367                                           Yes   \n",
       "85873                                           Yes   \n",
       "359233                                          Yes   \n",
       "340672                                          Yes   \n",
       "\n",
       "        LSOA_of_Accident_Location  Year  \n",
       "175309                  E01017821  2012  \n",
       "53367                   E01026840  2013  \n",
       "85873                   E01006852  2013  \n",
       "359233                  E01017916  2012  \n",
       "340672                  E01001734  2014  \n",
       "\n",
       "[5 rows x 33 columns]"
      ]
     },
     "execution_count": 28,
     "metadata": {},
     "output_type": "execute_result"
    }
   ],
   "source": [
    "A.head()"
   ]
  },
  {
   "cell_type": "code",
   "execution_count": 29,
   "metadata": {},
   "outputs": [
    {
     "data": {
      "text/plain": [
       "Accident_Index                                  object\n",
       "Location_Easting_OSGR                            int64\n",
       "Location_Northing_OSGR                           int64\n",
       "Longitude                                      float64\n",
       "Latitude                                       float64\n",
       "Police_Force                                     int64\n",
       "Accident_Severity                                int64\n",
       "Number_of_Vehicles                               int64\n",
       "Number_of_Casualties                             int64\n",
       "Date                                            object\n",
       "Day_of_Week                                      int64\n",
       "Time                                            object\n",
       "Local_Authority_(District)                       int64\n",
       "Local_Authority_(Highway)                       object\n",
       "1st_Road_Class                                   int64\n",
       "1st_Road_Number                                  int64\n",
       "Road_Type                                       object\n",
       "Speed_limit                                      int64\n",
       "Junction_Detail                                float64\n",
       "Junction_Control                                object\n",
       "2nd_Road_Class                                   int64\n",
       "2nd_Road_Number                                  int64\n",
       "Pedestrian_Crossing-Human_Control               object\n",
       "Pedestrian_Crossing-Physical_Facilities         object\n",
       "Light_Conditions                                object\n",
       "Weather_Conditions                              object\n",
       "Road_Surface_Conditions                         object\n",
       "Special_Conditions_at_Site                      object\n",
       "Carriageway_Hazards                             object\n",
       "Urban_or_Rural_Area                              int64\n",
       "Did_Police_Officer_Attend_Scene_of_Accident     object\n",
       "LSOA_of_Accident_Location                       object\n",
       "Year                                             int64\n",
       "dtype: object"
      ]
     },
     "execution_count": 29,
     "metadata": {},
     "output_type": "execute_result"
    }
   ],
   "source": [
    "A.dtypes"
   ]
  },
  {
   "cell_type": "code",
   "execution_count": 36,
   "metadata": {},
   "outputs": [
    {
     "data": {
      "text/html": [
       "<div>\n",
       "<style scoped>\n",
       "    .dataframe tbody tr th:only-of-type {\n",
       "        vertical-align: middle;\n",
       "    }\n",
       "\n",
       "    .dataframe tbody tr th {\n",
       "        vertical-align: top;\n",
       "    }\n",
       "\n",
       "    .dataframe thead th {\n",
       "        text-align: right;\n",
       "    }\n",
       "</style>\n",
       "<table border=\"1\" class=\"dataframe\">\n",
       "  <thead>\n",
       "    <tr style=\"text-align: right;\">\n",
       "      <th></th>\n",
       "      <th>Date</th>\n",
       "      <th>Time</th>\n",
       "    </tr>\n",
       "  </thead>\n",
       "  <tbody>\n",
       "    <tr>\n",
       "      <th>175309</th>\n",
       "      <td>04/04/2012</td>\n",
       "      <td>20:49</td>\n",
       "    </tr>\n",
       "    <tr>\n",
       "      <th>53367</th>\n",
       "      <td>23/12/2013</td>\n",
       "      <td>12:40</td>\n",
       "    </tr>\n",
       "    <tr>\n",
       "      <th>85873</th>\n",
       "      <td>14/06/2013</td>\n",
       "      <td>16:48</td>\n",
       "    </tr>\n",
       "    <tr>\n",
       "      <th>359233</th>\n",
       "      <td>21/02/2012</td>\n",
       "      <td>07:39</td>\n",
       "    </tr>\n",
       "    <tr>\n",
       "      <th>340672</th>\n",
       "      <td>09/12/2014</td>\n",
       "      <td>14:30</td>\n",
       "    </tr>\n",
       "  </tbody>\n",
       "</table>\n",
       "</div>"
      ],
      "text/plain": [
       "              Date   Time\n",
       "175309  04/04/2012  20:49\n",
       "53367   23/12/2013  12:40\n",
       "85873   14/06/2013  16:48\n",
       "359233  21/02/2012  07:39\n",
       "340672  09/12/2014  14:30"
      ]
     },
     "execution_count": 36,
     "metadata": {},
     "output_type": "execute_result"
    }
   ],
   "source": [
    "A[['Date', 'Time']].head()"
   ]
  },
  {
   "cell_type": "code",
   "execution_count": 37,
   "metadata": {},
   "outputs": [],
   "source": [
    "from datetime import datetime\n",
    "\n",
    "def todate(d, t):\n",
    "    try:\n",
    "        dt = datetime.strptime(\" \".join([d, t]), '%d/%m/%Y %H:%M')\n",
    "    except TypeError:\n",
    "        dt = np.nan\n",
    "    return dt"
   ]
  },
  {
   "cell_type": "code",
   "execution_count": 38,
   "metadata": {},
   "outputs": [],
   "source": [
    "A['Datetime'] = [todate(x.Date, x.Time) for i, x in A.iterrows()]"
   ]
  },
  {
   "cell_type": "code",
   "execution_count": 39,
   "metadata": {},
   "outputs": [
    {
     "data": {
      "text/plain": [
       "(10000, 34)"
      ]
     },
     "execution_count": 39,
     "metadata": {},
     "output_type": "execute_result"
    }
   ],
   "source": [
    "A.shape"
   ]
  },
  {
   "cell_type": "code",
   "execution_count": 40,
   "metadata": {},
   "outputs": [
    {
     "data": {
      "text/plain": [
       "Accident_Index                                         object\n",
       "Location_Easting_OSGR                                   int64\n",
       "Location_Northing_OSGR                                  int64\n",
       "Longitude                                             float64\n",
       "Latitude                                              float64\n",
       "Police_Force                                            int64\n",
       "Accident_Severity                                       int64\n",
       "Number_of_Vehicles                                      int64\n",
       "Number_of_Casualties                                    int64\n",
       "Date                                                   object\n",
       "Day_of_Week                                             int64\n",
       "Time                                                   object\n",
       "Local_Authority_(District)                              int64\n",
       "Local_Authority_(Highway)                              object\n",
       "1st_Road_Class                                          int64\n",
       "1st_Road_Number                                         int64\n",
       "Road_Type                                              object\n",
       "Speed_limit                                             int64\n",
       "Junction_Detail                                       float64\n",
       "Junction_Control                                       object\n",
       "2nd_Road_Class                                          int64\n",
       "2nd_Road_Number                                         int64\n",
       "Pedestrian_Crossing-Human_Control                      object\n",
       "Pedestrian_Crossing-Physical_Facilities                object\n",
       "Light_Conditions                                       object\n",
       "Weather_Conditions                                     object\n",
       "Road_Surface_Conditions                                object\n",
       "Special_Conditions_at_Site                             object\n",
       "Carriageway_Hazards                                    object\n",
       "Urban_or_Rural_Area                                     int64\n",
       "Did_Police_Officer_Attend_Scene_of_Accident            object\n",
       "LSOA_of_Accident_Location                              object\n",
       "Year                                                    int64\n",
       "Datetime                                       datetime64[ns]\n",
       "dtype: object"
      ]
     },
     "execution_count": 40,
     "metadata": {},
     "output_type": "execute_result"
    }
   ],
   "source": [
    "A.dtypes"
   ]
  },
  {
   "cell_type": "markdown",
   "metadata": {},
   "source": [
    "## Access dataframe by index and col"
   ]
  },
  {
   "cell_type": "code",
   "execution_count": 41,
   "metadata": {},
   "outputs": [
    {
     "data": {
      "text/html": [
       "<div>\n",
       "<style scoped>\n",
       "    .dataframe tbody tr th:only-of-type {\n",
       "        vertical-align: middle;\n",
       "    }\n",
       "\n",
       "    .dataframe tbody tr th {\n",
       "        vertical-align: top;\n",
       "    }\n",
       "\n",
       "    .dataframe thead th {\n",
       "        text-align: right;\n",
       "    }\n",
       "</style>\n",
       "<table border=\"1\" class=\"dataframe\">\n",
       "  <thead>\n",
       "    <tr style=\"text-align: right;\">\n",
       "      <th></th>\n",
       "      <th>Accident_Index</th>\n",
       "      <th>Location_Easting_OSGR</th>\n",
       "      <th>Location_Northing_OSGR</th>\n",
       "      <th>Longitude</th>\n",
       "      <th>Latitude</th>\n",
       "      <th>Police_Force</th>\n",
       "      <th>Accident_Severity</th>\n",
       "      <th>Number_of_Vehicles</th>\n",
       "      <th>Number_of_Casualties</th>\n",
       "      <th>Date</th>\n",
       "      <th>...</th>\n",
       "      <th>Light_Conditions</th>\n",
       "      <th>Weather_Conditions</th>\n",
       "      <th>Road_Surface_Conditions</th>\n",
       "      <th>Special_Conditions_at_Site</th>\n",
       "      <th>Carriageway_Hazards</th>\n",
       "      <th>Urban_or_Rural_Area</th>\n",
       "      <th>Did_Police_Officer_Attend_Scene_of_Accident</th>\n",
       "      <th>LSOA_of_Accident_Location</th>\n",
       "      <th>Year</th>\n",
       "      <th>Datetime</th>\n",
       "    </tr>\n",
       "  </thead>\n",
       "  <tbody>\n",
       "    <tr>\n",
       "      <th>85873</th>\n",
       "      <td>201305DD03109</td>\n",
       "      <td>352450</td>\n",
       "      <td>397563</td>\n",
       "      <td>-2.717854</td>\n",
       "      <td>53.472632</td>\n",
       "      <td>5</td>\n",
       "      <td>2</td>\n",
       "      <td>5</td>\n",
       "      <td>3</td>\n",
       "      <td>14/06/2013</td>\n",
       "      <td>...</td>\n",
       "      <td>Daylight: Street light present</td>\n",
       "      <td>Raining with high winds</td>\n",
       "      <td>Wet/Damp</td>\n",
       "      <td>None</td>\n",
       "      <td>None</td>\n",
       "      <td>1</td>\n",
       "      <td>Yes</td>\n",
       "      <td>E01006852</td>\n",
       "      <td>2013</td>\n",
       "      <td>2013-06-14 16:48:00</td>\n",
       "    </tr>\n",
       "    <tr>\n",
       "      <th>359233</th>\n",
       "      <td>201243N210022</td>\n",
       "      <td>479520</td>\n",
       "      <td>194780</td>\n",
       "      <td>-0.852115</td>\n",
       "      <td>51.646155</td>\n",
       "      <td>43</td>\n",
       "      <td>3</td>\n",
       "      <td>1</td>\n",
       "      <td>1</td>\n",
       "      <td>21/02/2012</td>\n",
       "      <td>...</td>\n",
       "      <td>Daylight: Street light present</td>\n",
       "      <td>Fine without high winds</td>\n",
       "      <td>Dry</td>\n",
       "      <td>None</td>\n",
       "      <td>None</td>\n",
       "      <td>2</td>\n",
       "      <td>Yes</td>\n",
       "      <td>E01017916</td>\n",
       "      <td>2012</td>\n",
       "      <td>2012-02-21 07:39:00</td>\n",
       "    </tr>\n",
       "    <tr>\n",
       "      <th>340672</th>\n",
       "      <td>201401GD11000</td>\n",
       "      <td>535170</td>\n",
       "      <td>185350</td>\n",
       "      <td>-0.051837</td>\n",
       "      <td>51.550802</td>\n",
       "      <td>1</td>\n",
       "      <td>3</td>\n",
       "      <td>2</td>\n",
       "      <td>1</td>\n",
       "      <td>09/12/2014</td>\n",
       "      <td>...</td>\n",
       "      <td>Daylight: Street light present</td>\n",
       "      <td>Fine without high winds</td>\n",
       "      <td>Dry</td>\n",
       "      <td>None</td>\n",
       "      <td>Pedestrian in carriageway (not injured)</td>\n",
       "      <td>1</td>\n",
       "      <td>Yes</td>\n",
       "      <td>E01001734</td>\n",
       "      <td>2014</td>\n",
       "      <td>2014-12-09 14:30:00</td>\n",
       "    </tr>\n",
       "    <tr>\n",
       "      <th>369203</th>\n",
       "      <td>201342I202807</td>\n",
       "      <td>550055</td>\n",
       "      <td>223249</td>\n",
       "      <td>0.179006</td>\n",
       "      <td>51.887560</td>\n",
       "      <td>42</td>\n",
       "      <td>3</td>\n",
       "      <td>3</td>\n",
       "      <td>2</td>\n",
       "      <td>15/07/2013</td>\n",
       "      <td>...</td>\n",
       "      <td>Daylight: Street light present</td>\n",
       "      <td>Fine without high winds</td>\n",
       "      <td>Dry</td>\n",
       "      <td>None</td>\n",
       "      <td>None</td>\n",
       "      <td>2</td>\n",
       "      <td>Yes</td>\n",
       "      <td>E01022087</td>\n",
       "      <td>2013</td>\n",
       "      <td>2013-07-15 11:20:00</td>\n",
       "    </tr>\n",
       "  </tbody>\n",
       "</table>\n",
       "<p>4 rows × 34 columns</p>\n",
       "</div>"
      ],
      "text/plain": [
       "       Accident_Index  Location_Easting_OSGR  Location_Northing_OSGR  \\\n",
       "85873   201305DD03109                 352450                  397563   \n",
       "359233  201243N210022                 479520                  194780   \n",
       "340672  201401GD11000                 535170                  185350   \n",
       "369203  201342I202807                 550055                  223249   \n",
       "\n",
       "        Longitude   Latitude  Police_Force  Accident_Severity  \\\n",
       "85873   -2.717854  53.472632             5                  2   \n",
       "359233  -0.852115  51.646155            43                  3   \n",
       "340672  -0.051837  51.550802             1                  3   \n",
       "369203   0.179006  51.887560            42                  3   \n",
       "\n",
       "        Number_of_Vehicles  Number_of_Casualties        Date  \\\n",
       "85873                    5                     3  14/06/2013   \n",
       "359233                   1                     1  21/02/2012   \n",
       "340672                   2                     1  09/12/2014   \n",
       "369203                   3                     2  15/07/2013   \n",
       "\n",
       "               ...                        Light_Conditions  \\\n",
       "85873          ...          Daylight: Street light present   \n",
       "359233         ...          Daylight: Street light present   \n",
       "340672         ...          Daylight: Street light present   \n",
       "369203         ...          Daylight: Street light present   \n",
       "\n",
       "             Weather_Conditions  Road_Surface_Conditions  \\\n",
       "85873   Raining with high winds                 Wet/Damp   \n",
       "359233  Fine without high winds                      Dry   \n",
       "340672  Fine without high winds                      Dry   \n",
       "369203  Fine without high winds                      Dry   \n",
       "\n",
       "       Special_Conditions_at_Site                      Carriageway_Hazards  \\\n",
       "85873                        None                                     None   \n",
       "359233                       None                                     None   \n",
       "340672                       None  Pedestrian in carriageway (not injured)   \n",
       "369203                       None                                     None   \n",
       "\n",
       "        Urban_or_Rural_Area Did_Police_Officer_Attend_Scene_of_Accident  \\\n",
       "85873                     1                                         Yes   \n",
       "359233                    2                                         Yes   \n",
       "340672                    1                                         Yes   \n",
       "369203                    2                                         Yes   \n",
       "\n",
       "        LSOA_of_Accident_Location  Year            Datetime  \n",
       "85873                   E01006852  2013 2013-06-14 16:48:00  \n",
       "359233                  E01017916  2012 2012-02-21 07:39:00  \n",
       "340672                  E01001734  2014 2014-12-09 14:30:00  \n",
       "369203                  E01022087  2013 2013-07-15 11:20:00  \n",
       "\n",
       "[4 rows x 34 columns]"
      ]
     },
     "execution_count": 41,
     "metadata": {},
     "output_type": "execute_result"
    }
   ],
   "source": [
    "A.iloc[2:6] # gets rows (or columns) at particular positions in the index (so it only takes integers)."
   ]
  },
  {
   "cell_type": "code",
   "execution_count": 42,
   "metadata": {},
   "outputs": [
    {
     "data": {
      "text/html": [
       "<div>\n",
       "<style scoped>\n",
       "    .dataframe tbody tr th:only-of-type {\n",
       "        vertical-align: middle;\n",
       "    }\n",
       "\n",
       "    .dataframe tbody tr th {\n",
       "        vertical-align: top;\n",
       "    }\n",
       "\n",
       "    .dataframe thead th {\n",
       "        text-align: right;\n",
       "    }\n",
       "</style>\n",
       "<table border=\"1\" class=\"dataframe\">\n",
       "  <thead>\n",
       "    <tr style=\"text-align: right;\">\n",
       "      <th></th>\n",
       "      <th>Accident_Index</th>\n",
       "      <th>Location_Easting_OSGR</th>\n",
       "      <th>Location_Northing_OSGR</th>\n",
       "      <th>Longitude</th>\n",
       "      <th>Latitude</th>\n",
       "      <th>Police_Force</th>\n",
       "      <th>Accident_Severity</th>\n",
       "      <th>Number_of_Vehicles</th>\n",
       "      <th>Number_of_Casualties</th>\n",
       "      <th>Date</th>\n",
       "      <th>...</th>\n",
       "      <th>Light_Conditions</th>\n",
       "      <th>Weather_Conditions</th>\n",
       "      <th>Road_Surface_Conditions</th>\n",
       "      <th>Special_Conditions_at_Site</th>\n",
       "      <th>Carriageway_Hazards</th>\n",
       "      <th>Urban_or_Rural_Area</th>\n",
       "      <th>Did_Police_Officer_Attend_Scene_of_Accident</th>\n",
       "      <th>LSOA_of_Accident_Location</th>\n",
       "      <th>Year</th>\n",
       "      <th>Datetime</th>\n",
       "    </tr>\n",
       "  </thead>\n",
       "  <tbody>\n",
       "    <tr>\n",
       "      <th>85873</th>\n",
       "      <td>201305DD03109</td>\n",
       "      <td>352450</td>\n",
       "      <td>397563</td>\n",
       "      <td>-2.717854</td>\n",
       "      <td>53.472632</td>\n",
       "      <td>5</td>\n",
       "      <td>2</td>\n",
       "      <td>5</td>\n",
       "      <td>3</td>\n",
       "      <td>14/06/2013</td>\n",
       "      <td>...</td>\n",
       "      <td>Daylight: Street light present</td>\n",
       "      <td>Raining with high winds</td>\n",
       "      <td>Wet/Damp</td>\n",
       "      <td>None</td>\n",
       "      <td>None</td>\n",
       "      <td>1</td>\n",
       "      <td>Yes</td>\n",
       "      <td>E01006852</td>\n",
       "      <td>2013</td>\n",
       "      <td>2013-06-14 16:48:00</td>\n",
       "    </tr>\n",
       "    <tr>\n",
       "      <th>340672</th>\n",
       "      <td>201401GD11000</td>\n",
       "      <td>535170</td>\n",
       "      <td>185350</td>\n",
       "      <td>-0.051837</td>\n",
       "      <td>51.550802</td>\n",
       "      <td>1</td>\n",
       "      <td>3</td>\n",
       "      <td>2</td>\n",
       "      <td>1</td>\n",
       "      <td>09/12/2014</td>\n",
       "      <td>...</td>\n",
       "      <td>Daylight: Street light present</td>\n",
       "      <td>Fine without high winds</td>\n",
       "      <td>Dry</td>\n",
       "      <td>None</td>\n",
       "      <td>Pedestrian in carriageway (not injured)</td>\n",
       "      <td>1</td>\n",
       "      <td>Yes</td>\n",
       "      <td>E01001734</td>\n",
       "      <td>2014</td>\n",
       "      <td>2014-12-09 14:30:00</td>\n",
       "    </tr>\n",
       "  </tbody>\n",
       "</table>\n",
       "<p>2 rows × 34 columns</p>\n",
       "</div>"
      ],
      "text/plain": [
       "       Accident_Index  Location_Easting_OSGR  Location_Northing_OSGR  \\\n",
       "85873   201305DD03109                 352450                  397563   \n",
       "340672  201401GD11000                 535170                  185350   \n",
       "\n",
       "        Longitude   Latitude  Police_Force  Accident_Severity  \\\n",
       "85873   -2.717854  53.472632             5                  2   \n",
       "340672  -0.051837  51.550802             1                  3   \n",
       "\n",
       "        Number_of_Vehicles  Number_of_Casualties        Date  \\\n",
       "85873                    5                     3  14/06/2013   \n",
       "340672                   2                     1  09/12/2014   \n",
       "\n",
       "               ...                        Light_Conditions  \\\n",
       "85873          ...          Daylight: Street light present   \n",
       "340672         ...          Daylight: Street light present   \n",
       "\n",
       "             Weather_Conditions  Road_Surface_Conditions  \\\n",
       "85873   Raining with high winds                 Wet/Damp   \n",
       "340672  Fine without high winds                      Dry   \n",
       "\n",
       "       Special_Conditions_at_Site                      Carriageway_Hazards  \\\n",
       "85873                        None                                     None   \n",
       "340672                       None  Pedestrian in carriageway (not injured)   \n",
       "\n",
       "        Urban_or_Rural_Area Did_Police_Officer_Attend_Scene_of_Accident  \\\n",
       "85873                     1                                         Yes   \n",
       "340672                    1                                         Yes   \n",
       "\n",
       "        LSOA_of_Accident_Location  Year            Datetime  \n",
       "85873                   E01006852  2013 2013-06-14 16:48:00  \n",
       "340672                  E01001734  2014 2014-12-09 14:30:00  \n",
       "\n",
       "[2 rows x 34 columns]"
      ]
     },
     "execution_count": 42,
     "metadata": {},
     "output_type": "execute_result"
    }
   ],
   "source": [
    "A.loc[[85873, 340672]] # gets rows (or columns) with particular labels from the index"
   ]
  },
  {
   "cell_type": "code",
   "execution_count": 43,
   "metadata": {},
   "outputs": [],
   "source": [
    "selection = A[A['Road_Surface_Conditions'] == 'Dry'].sort_values(\n",
    "    'Number_of_Casualties', ascending=False)"
   ]
  },
  {
   "cell_type": "code",
   "execution_count": 45,
   "metadata": {},
   "outputs": [
    {
     "data": {
      "text/html": [
       "<div>\n",
       "<style scoped>\n",
       "    .dataframe tbody tr th:only-of-type {\n",
       "        vertical-align: middle;\n",
       "    }\n",
       "\n",
       "    .dataframe tbody tr th {\n",
       "        vertical-align: top;\n",
       "    }\n",
       "\n",
       "    .dataframe thead th {\n",
       "        text-align: right;\n",
       "    }\n",
       "</style>\n",
       "<table border=\"1\" class=\"dataframe\">\n",
       "  <thead>\n",
       "    <tr style=\"text-align: right;\">\n",
       "      <th></th>\n",
       "      <th>Road_Surface_Conditions</th>\n",
       "      <th>Number_of_Casualties</th>\n",
       "    </tr>\n",
       "  </thead>\n",
       "  <tbody>\n",
       "    <tr>\n",
       "      <th>342377</th>\n",
       "      <td>Dry</td>\n",
       "      <td>21</td>\n",
       "    </tr>\n",
       "    <tr>\n",
       "      <th>21228</th>\n",
       "      <td>Dry</td>\n",
       "      <td>10</td>\n",
       "    </tr>\n",
       "    <tr>\n",
       "      <th>47734</th>\n",
       "      <td>Dry</td>\n",
       "      <td>10</td>\n",
       "    </tr>\n",
       "    <tr>\n",
       "      <th>387706</th>\n",
       "      <td>Dry</td>\n",
       "      <td>9</td>\n",
       "    </tr>\n",
       "    <tr>\n",
       "      <th>301798</th>\n",
       "      <td>Dry</td>\n",
       "      <td>9</td>\n",
       "    </tr>\n",
       "  </tbody>\n",
       "</table>\n",
       "</div>"
      ],
      "text/plain": [
       "       Road_Surface_Conditions  Number_of_Casualties\n",
       "342377                     Dry                    21\n",
       "21228                      Dry                    10\n",
       "47734                      Dry                    10\n",
       "387706                     Dry                     9\n",
       "301798                     Dry                     9"
      ]
     },
     "execution_count": 45,
     "metadata": {},
     "output_type": "execute_result"
    }
   ],
   "source": [
    "selection[['Road_Surface_Conditions', 'Number_of_Casualties']].head()"
   ]
  },
  {
   "cell_type": "code",
   "execution_count": 46,
   "metadata": {},
   "outputs": [
    {
     "data": {
      "text/html": [
       "<div>\n",
       "<style scoped>\n",
       "    .dataframe tbody tr th:only-of-type {\n",
       "        vertical-align: middle;\n",
       "    }\n",
       "\n",
       "    .dataframe tbody tr th {\n",
       "        vertical-align: top;\n",
       "    }\n",
       "\n",
       "    .dataframe thead th {\n",
       "        text-align: right;\n",
       "    }\n",
       "</style>\n",
       "<table border=\"1\" class=\"dataframe\">\n",
       "  <thead>\n",
       "    <tr style=\"text-align: right;\">\n",
       "      <th></th>\n",
       "      <th>Weather_Conditions</th>\n",
       "      <th>Accident_Severity</th>\n",
       "      <th>Number_of_Vehicles</th>\n",
       "      <th>Number_of_Casualties</th>\n",
       "    </tr>\n",
       "  </thead>\n",
       "  <tbody>\n",
       "    <tr>\n",
       "      <th>342377</th>\n",
       "      <td>Fine without high winds</td>\n",
       "      <td>3</td>\n",
       "      <td>2</td>\n",
       "      <td>21</td>\n",
       "    </tr>\n",
       "    <tr>\n",
       "      <th>21228</th>\n",
       "      <td>Fine without high winds</td>\n",
       "      <td>3</td>\n",
       "      <td>2</td>\n",
       "      <td>10</td>\n",
       "    </tr>\n",
       "    <tr>\n",
       "      <th>47734</th>\n",
       "      <td>Fine without high winds</td>\n",
       "      <td>2</td>\n",
       "      <td>1</td>\n",
       "      <td>10</td>\n",
       "    </tr>\n",
       "    <tr>\n",
       "      <th>387706</th>\n",
       "      <td>Fine without high winds</td>\n",
       "      <td>3</td>\n",
       "      <td>5</td>\n",
       "      <td>9</td>\n",
       "    </tr>\n",
       "    <tr>\n",
       "      <th>301798</th>\n",
       "      <td>Unknown</td>\n",
       "      <td>3</td>\n",
       "      <td>2</td>\n",
       "      <td>9</td>\n",
       "    </tr>\n",
       "  </tbody>\n",
       "</table>\n",
       "</div>"
      ],
      "text/plain": [
       "             Weather_Conditions  Accident_Severity  Number_of_Vehicles  \\\n",
       "342377  Fine without high winds                  3                   2   \n",
       "21228   Fine without high winds                  3                   2   \n",
       "47734   Fine without high winds                  2                   1   \n",
       "387706  Fine without high winds                  3                   5   \n",
       "301798                  Unknown                  3                   2   \n",
       "\n",
       "        Number_of_Casualties  \n",
       "342377                    21  \n",
       "21228                     10  \n",
       "47734                     10  \n",
       "387706                     9  \n",
       "301798                     9  "
      ]
     },
     "execution_count": 46,
     "metadata": {},
     "output_type": "execute_result"
    }
   ],
   "source": [
    "selection[['Weather_Conditions', 'Accident_Severity', \n",
    "           'Number_of_Vehicles', 'Number_of_Casualties']].head()"
   ]
  },
  {
   "cell_type": "code",
   "execution_count": 47,
   "metadata": {},
   "outputs": [
    {
     "data": {
      "text/plain": [
       "(6821, 34)"
      ]
     },
     "execution_count": 47,
     "metadata": {},
     "output_type": "execute_result"
    }
   ],
   "source": [
    "selection.shape"
   ]
  },
  {
   "cell_type": "code",
   "execution_count": 48,
   "metadata": {},
   "outputs": [
    {
     "data": {
      "text/html": [
       "<div>\n",
       "<style scoped>\n",
       "    .dataframe tbody tr th:only-of-type {\n",
       "        vertical-align: middle;\n",
       "    }\n",
       "\n",
       "    .dataframe tbody tr th {\n",
       "        vertical-align: top;\n",
       "    }\n",
       "\n",
       "    .dataframe thead th {\n",
       "        text-align: right;\n",
       "    }\n",
       "</style>\n",
       "<table border=\"1\" class=\"dataframe\">\n",
       "  <thead>\n",
       "    <tr style=\"text-align: right;\">\n",
       "      <th></th>\n",
       "      <th>Accident_Severity</th>\n",
       "      <th>Number_of_Vehicles</th>\n",
       "      <th>Number_of_Casualties</th>\n",
       "    </tr>\n",
       "    <tr>\n",
       "      <th>Weather_Conditions</th>\n",
       "      <th></th>\n",
       "      <th></th>\n",
       "      <th></th>\n",
       "    </tr>\n",
       "  </thead>\n",
       "  <tbody>\n",
       "    <tr>\n",
       "      <th>Fine with high winds</th>\n",
       "      <td>2.780000</td>\n",
       "      <td>1.720000</td>\n",
       "      <td>1.300000</td>\n",
       "    </tr>\n",
       "    <tr>\n",
       "      <th>Fine without high winds</th>\n",
       "      <td>2.832725</td>\n",
       "      <td>1.844444</td>\n",
       "      <td>1.328767</td>\n",
       "    </tr>\n",
       "    <tr>\n",
       "      <th>Fog or mist</th>\n",
       "      <td>2.818182</td>\n",
       "      <td>1.636364</td>\n",
       "      <td>1.090909</td>\n",
       "    </tr>\n",
       "    <tr>\n",
       "      <th>Other</th>\n",
       "      <td>2.800000</td>\n",
       "      <td>1.900000</td>\n",
       "      <td>1.233333</td>\n",
       "    </tr>\n",
       "    <tr>\n",
       "      <th>Raining with high winds</th>\n",
       "      <td>2.500000</td>\n",
       "      <td>2.000000</td>\n",
       "      <td>1.000000</td>\n",
       "    </tr>\n",
       "    <tr>\n",
       "      <th>Raining without high winds</th>\n",
       "      <td>2.700000</td>\n",
       "      <td>1.900000</td>\n",
       "      <td>1.200000</td>\n",
       "    </tr>\n",
       "    <tr>\n",
       "      <th>Unknown</th>\n",
       "      <td>2.883562</td>\n",
       "      <td>1.787671</td>\n",
       "      <td>1.267123</td>\n",
       "    </tr>\n",
       "  </tbody>\n",
       "</table>\n",
       "</div>"
      ],
      "text/plain": [
       "                            Accident_Severity  Number_of_Vehicles  \\\n",
       "Weather_Conditions                                                  \n",
       "Fine with high winds                 2.780000            1.720000   \n",
       "Fine without high winds              2.832725            1.844444   \n",
       "Fog or mist                          2.818182            1.636364   \n",
       "Other                                2.800000            1.900000   \n",
       "Raining with high winds              2.500000            2.000000   \n",
       "Raining without high winds           2.700000            1.900000   \n",
       "Unknown                              2.883562            1.787671   \n",
       "\n",
       "                            Number_of_Casualties  \n",
       "Weather_Conditions                                \n",
       "Fine with high winds                    1.300000  \n",
       "Fine without high winds                 1.328767  \n",
       "Fog or mist                             1.090909  \n",
       "Other                                   1.233333  \n",
       "Raining with high winds                 1.000000  \n",
       "Raining without high winds              1.200000  \n",
       "Unknown                                 1.267123  "
      ]
     },
     "execution_count": 48,
     "metadata": {},
     "output_type": "execute_result"
    }
   ],
   "source": [
    "selection[['Weather_Conditions', 'Accident_Severity', \n",
    "           'Number_of_Vehicles', 'Number_of_Casualties']].groupby(\n",
    "    'Weather_Conditions').mean()"
   ]
  },
  {
   "cell_type": "code",
   "execution_count": 49,
   "metadata": {},
   "outputs": [],
   "source": [
    "sel = selection[['Weather_Conditions', 'Accident_Severity', \n",
    "           'Number_of_Vehicles', 'Number_of_Casualties', 'Datetime']]"
   ]
  },
  {
   "cell_type": "code",
   "execution_count": 51,
   "metadata": {},
   "outputs": [
    {
     "data": {
      "image/png": "[encoded data removed]",
      "text/plain": [
       "<Figure size 432x288 with 1 Axes>"
      ]
     },
     "metadata": {
      "needs_background": "light"
     },
     "output_type": "display_data"
    }
   ],
   "source": [
    "sel.boxplot()\n",
    "plt.tight_layout()\n",
    "plt.show()"
   ]
  },
  {
   "cell_type": "code",
   "execution_count": 52,
   "metadata": {},
   "outputs": [],
   "source": [
    "minutes = []\n",
    "for i, row in sel.iterrows():\n",
    "    h, m = row['Datetime'].hour, row['Datetime'].minute\n",
    "    minutes.append(h*60 + m)\n",
    "sel = sel.copy()\n",
    "sel['Minutes'] = minutes"
   ]
  },
  {
   "cell_type": "code",
   "execution_count": 53,
   "metadata": {},
   "outputs": [
    {
     "data": {
      "image/png": "[encoded data removed]",
      "text/plain": [
       "<Figure size 432x288 with 4 Axes>"
      ]
     },
     "metadata": {
      "needs_background": "light"
     },
     "output_type": "display_data"
    }
   ],
   "source": [
    "sel.hist()\n",
    "plt.tight_layout()\n",
    "plt.show()"
   ]
  },
  {
   "cell_type": "code",
   "execution_count": 54,
   "metadata": {},
   "outputs": [
    {
     "data": {
      "image/png": "[encoded data removed]",
      "text/plain": [
       "<Figure size 720x288 with 1 Axes>"
      ]
     },
     "metadata": {
      "needs_background": "light"
     },
     "output_type": "display_data"
    }
   ],
   "source": [
    "fig, axes = plt.subplots(nrows=1, ncols=1, figsize=(10, 4), sharey=True)\n",
    "sel.boxplot(ax=axes)\n",
    "plt.tight_layout()\n",
    "plt.show()"
   ]
  },
  {
   "cell_type": "code",
   "execution_count": 55,
   "metadata": {},
   "outputs": [
    {
     "data": {
      "image/png": "[encoded data removed]",
      "text/plain": [
       "<Figure size 720x720 with 1 Axes>"
      ]
     },
     "metadata": {
      "needs_background": "light"
     },
     "output_type": "display_data"
    }
   ],
   "source": [
    "fig, axes = plt.subplots(nrows=1, ncols=1, figsize=(10, 10), sharey=True)\n",
    "axes.scatter(selection.Longitude.values, selection.Latitude.values, \n",
    "             c=selection.Number_of_Casualties, alpha=0.2)\n",
    "plt.show()"
   ]
  },
  {
   "cell_type": "code",
   "execution_count": 56,
   "metadata": {},
   "outputs": [],
   "source": [
    "import geopandas as gpd"
   ]
  },
  {
   "cell_type": "code",
   "execution_count": 57,
   "metadata": {},
   "outputs": [],
   "source": [
    "world = gpd.read_file(gpd.datasets.get_path('naturalearth_lowres'))"
   ]
  },
  {
   "cell_type": "code",
   "execution_count": 58,
   "metadata": {},
   "outputs": [],
   "source": [
    "UK = world[world['iso_a3']=='GBR']"
   ]
  },
  {
   "cell_type": "code",
   "execution_count": 59,
   "metadata": {},
   "outputs": [
    {
     "data": {
      "image/png": "[encoded data removed]",
      "text/plain": [
       "<Figure size 720x720 with 1 Axes>"
      ]
     },
     "metadata": {
      "needs_background": "light"
     },
     "output_type": "display_data"
    }
   ],
   "source": [
    "limit = 2000\n",
    "fig, axes = plt.subplots(nrows=1, ncols=1, figsize=(10, 10), sharey=True)\n",
    "UK.plot(ax=axes, color='#CCCCCC')\n",
    "axes.scatter(selection.Longitude.values[:limit], selection.Latitude.values[:limit], alpha=0.2)\n",
    "plt.show()"
   ]
  },
  {
   "cell_type": "markdown",
   "metadata": {},
   "source": [
    "# Example 1: k-means\n",
    "Implement k-means using <code>NumPy</code> and functions"
   ]
  },
  {
   "cell_type": "code",
   "execution_count": null,
   "metadata": {},
   "outputs": [],
   "source": []
  }
 ],
 "metadata": {
  "kernelspec": {
   "display_name": "Python 3",
   "language": "python",
   "name": "python3"
  },
  "language_info": {
   "codemirror_mode": {
    "name": "ipython",
    "version": 3
   },
   "file_extension": ".py",
   "mimetype": "text/x-python",
   "name": "python",
   "nbconvert_exporter": "python",
   "pygments_lexer": "ipython3",
   "version": "3.7.1"
  }
 },
 "nbformat": 4,
 "nbformat_minor": 2
}
