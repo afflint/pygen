{
 "cells": [
  {
   "cell_type": "code",
   "execution_count": 1,
   "metadata": {},
   "outputs": [],
   "source": [
    "import pandas as pd"
   ]
  },
  {
   "cell_type": "code",
   "execution_count": 2,
   "metadata": {},
   "outputs": [],
   "source": [
    "f = '/Users/alfio/Dati/epicurious/epi_r.csv'"
   ]
  },
  {
   "cell_type": "markdown",
   "metadata": {},
   "source": [
    "The epicurious dataset is also available at <a href=\"https://www.kaggle.com/hugodarwood/epirecipes\">the kaggle website</a>."
   ]
  },
  {
   "cell_type": "code",
   "execution_count": 3,
   "metadata": {},
   "outputs": [],
   "source": [
    "D = pd.read_csv(f)"
   ]
  },
  {
   "cell_type": "code",
   "execution_count": 47,
   "metadata": {},
   "outputs": [],
   "source": [
    "r_cols = list(D.columns[:12])\n",
    "i_cols = list(D.columns[12:])"
   ]
  },
  {
   "cell_type": "code",
   "execution_count": 43,
   "metadata": {},
   "outputs": [],
   "source": [
    "dR = dict([(x, []) for x in r_cols])"
   ]
  },
  {
   "cell_type": "code",
   "execution_count": 48,
   "metadata": {},
   "outputs": [],
   "source": [
    "dI = {'recipe': [], 'ingredient': [], 'quantity': []}"
   ]
  },
  {
   "cell_type": "code",
   "execution_count": 49,
   "metadata": {},
   "outputs": [],
   "source": [
    "for i, row in D.iterrows():\n",
    "    for k in dR.keys():\n",
    "        dR[k].append(row[k])\n",
    "    for field in i_cols:\n",
    "        qta = row[field]\n",
    "        if qta > 0:\n",
    "            dI['recipe'].append(i)\n",
    "            dI['ingredient'].append(field)\n",
    "            dI['quantity'].append(qta)"
   ]
  },
  {
   "cell_type": "code",
   "execution_count": null,
   "metadata": {},
   "outputs": [],
   "source": []
  },
  {
   "cell_type": "code",
   "execution_count": 51,
   "metadata": {},
   "outputs": [],
   "source": [
    "R = pd.DataFrame.from_dict(dR)\n",
    "I = pd.DataFrame.from_dict(dI)"
   ]
  },
  {
   "cell_type": "code",
   "execution_count": 75,
   "metadata": {},
   "outputs": [],
   "source": [
    "pairs_r0 = dict(zip(list(I[I.recipe == 0].ingredient.values), \n",
    "    list(I[I.recipe == 0].quantity.values)))\n",
    "pairs_r25 = dict(zip(list(I[I.recipe == 44].ingredient.values), \n",
    "    list(I[I.recipe == 44].quantity.values)))"
   ]
  },
  {
   "cell_type": "code",
   "execution_count": 76,
   "metadata": {},
   "outputs": [
    {
     "data": {
      "text/plain": [
       "{'apple': 1.0,\n",
       " 'backyard bbq': 1.0,\n",
       " 'beef': 1.0,\n",
       " 'dairy free': 1.0,\n",
       " 'dinner': 1.0,\n",
       " 'healthy': 1.0,\n",
       " 'kosher': 1.0,\n",
       " 'soy free': 1.0,\n",
       " 'steak': 1.0,\n",
       " 'summer': 1.0,\n",
       " 'tree nut free': 1.0,\n",
       " 'vegetable': 1.0,\n",
       " 'wheat/gluten-free': 1.0}"
      ]
     },
     "execution_count": 76,
     "metadata": {},
     "output_type": "execute_result"
    }
   ],
   "source": [
    "pairs_r25"
   ]
  },
  {
   "cell_type": "code",
   "execution_count": 70,
   "metadata": {},
   "outputs": [
    {
     "data": {
      "text/plain": [
       "{'apple': 1.0,\n",
       " 'bean': 1.0,\n",
       " 'cookie': 1.0,\n",
       " 'fruit': 1.0,\n",
       " 'kid-friendly': 1.0,\n",
       " 'lentil': 1.0,\n",
       " 'lettuce': 1.0,\n",
       " 'sandwich': 1.0,\n",
       " 'tomato': 1.0,\n",
       " 'vegetable': 1.0,\n",
       " 'turkey': 1.0}"
      ]
     },
     "execution_count": 70,
     "metadata": {},
     "output_type": "execute_result"
    }
   ],
   "source": [
    "pairs_r0"
   ]
  },
  {
   "cell_type": "code",
   "execution_count": 77,
   "metadata": {},
   "outputs": [],
   "source": [
    "common = [x for x in pairs_r0.keys() if x in pairs_r25.keys()]"
   ]
  },
  {
   "cell_type": "code",
   "execution_count": 80,
   "metadata": {},
   "outputs": [],
   "source": [
    "import numpy as np"
   ]
  },
  {
   "cell_type": "code",
   "execution_count": 81,
   "metadata": {},
   "outputs": [],
   "source": [
    "W = 0\n",
    "for i in common:\n",
    "    W += np.power(pairs_r0[i] - pairs_r25[i], 2)"
   ]
  },
  {
   "cell_type": "code",
   "execution_count": 83,
   "metadata": {},
   "outputs": [],
   "source": [
    "for k, v in pairs_r0.items():\n",
    "    if k not in common:\n",
    "        W += np.power(v, 2)\n",
    "for k, v in pairs_r25.items():\n",
    "    if k not in common:\n",
    "        W += np.power(v, 2)"
   ]
  },
  {
   "cell_type": "code",
   "execution_count": 85,
   "metadata": {},
   "outputs": [
    {
     "data": {
      "text/plain": [
       "4.47213595499958"
      ]
     },
     "execution_count": 85,
     "metadata": {},
     "output_type": "execute_result"
    }
   ],
   "source": [
    "np.sqrt(W)"
   ]
  },
  {
   "cell_type": "code",
   "execution_count": null,
   "metadata": {},
   "outputs": [],
   "source": []
  }
 ],
 "metadata": {
  "kernelspec": {
   "display_name": "Python 3",
   "language": "python",
   "name": "python3"
  },
  "language_info": {
   "codemirror_mode": {
    "name": "ipython",
    "version": 3
   },
   "file_extension": ".py",
   "mimetype": "text/x-python",
   "name": "python",
   "nbconvert_exporter": "python",
   "pygments_lexer": "ipython3",
   "version": "3.7.1"
  }
 },
 "nbformat": 4,
 "nbformat_minor": 2
}
