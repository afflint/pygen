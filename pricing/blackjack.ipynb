{
 "cells": [
  {
   "cell_type": "markdown",
   "id": "df65d4fb",
   "metadata": {},
   "source": [
    "# Blackjack\n",
    "- mazzo carte\n",
    "    - mappare valore della carta su valore numerico e viversa\n",
    "- mescolare e estrarre\n",
    "- mostrare carte all'utente\n",
    "- interazione con l'utente\n",
    "- gestire l'uscita dal gioco\n",
    "- gestire il banco\n",
    "- decidere il vincitore"
   ]
  },
  {
   "cell_type": "markdown",
   "id": "738d2b32",
   "metadata": {},
   "source": [
    "## Deck"
   ]
  },
  {
   "cell_type": "code",
   "execution_count": 61,
   "id": "3dd1e413",
   "metadata": {},
   "outputs": [],
   "source": [
    "seeds = \"CQFP\"\n",
    "values = tuple(\"A,2,3,4,5,6,7,8,9,10,J,Q,K\".split(\",\"))"
   ]
  },
  {
   "cell_type": "code",
   "execution_count": 56,
   "id": "3626b07a",
   "metadata": {},
   "outputs": [
    {
     "data": {
      "text/plain": [
       "('A', 'P')"
      ]
     },
     "execution_count": 56,
     "metadata": {},
     "output_type": "execute_result"
    }
   ],
   "source": [
    "card"
   ]
  },
  {
   "cell_type": "markdown",
   "id": "c263366b",
   "metadata": {},
   "source": [
    "### Deck with `while`"
   ]
  },
  {
   "cell_type": "code",
   "execution_count": 69,
   "id": "5b987338",
   "metadata": {},
   "outputs": [],
   "source": [
    "i = 0\n",
    "deck = []\n",
    "while i < len(values):\n",
    "    j = 0\n",
    "    value = values[i]\n",
    "    while j < len(seeds):\n",
    "        seed = seeds[j]\n",
    "        j += 1\n",
    "        card = (value, seed)\n",
    "        deck.append(card)\n",
    "    i += 1"
   ]
  },
  {
   "cell_type": "markdown",
   "id": "102b88ec",
   "metadata": {},
   "source": [
    "### Deck with `for`"
   ]
  },
  {
   "cell_type": "code",
   "execution_count": 72,
   "id": "51ce6fc7",
   "metadata": {},
   "outputs": [],
   "source": [
    "deck = []\n",
    "for value in values:\n",
    "    for seed in seeds:\n",
    "        deck.append((value, seed))"
   ]
  },
  {
   "cell_type": "code",
   "execution_count": 73,
   "id": "1dbe1aee",
   "metadata": {},
   "outputs": [
    {
     "data": {
      "text/plain": [
       "[('A', 'C'),\n",
       " ('A', 'Q'),\n",
       " ('A', 'F'),\n",
       " ('A', 'P'),\n",
       " ('2', 'C'),\n",
       " ('2', 'Q'),\n",
       " ('2', 'F'),\n",
       " ('2', 'P'),\n",
       " ('3', 'C'),\n",
       " ('3', 'Q'),\n",
       " ('3', 'F'),\n",
       " ('3', 'P'),\n",
       " ('4', 'C'),\n",
       " ('4', 'Q'),\n",
       " ('4', 'F'),\n",
       " ('4', 'P'),\n",
       " ('5', 'C'),\n",
       " ('5', 'Q'),\n",
       " ('5', 'F'),\n",
       " ('5', 'P'),\n",
       " ('6', 'C'),\n",
       " ('6', 'Q'),\n",
       " ('6', 'F'),\n",
       " ('6', 'P'),\n",
       " ('7', 'C'),\n",
       " ('7', 'Q'),\n",
       " ('7', 'F'),\n",
       " ('7', 'P'),\n",
       " ('8', 'C'),\n",
       " ('8', 'Q'),\n",
       " ('8', 'F'),\n",
       " ('8', 'P'),\n",
       " ('9', 'C'),\n",
       " ('9', 'Q'),\n",
       " ('9', 'F'),\n",
       " ('9', 'P'),\n",
       " ('10', 'C'),\n",
       " ('10', 'Q'),\n",
       " ('10', 'F'),\n",
       " ('10', 'P'),\n",
       " ('J', 'C'),\n",
       " ('J', 'Q'),\n",
       " ('J', 'F'),\n",
       " ('J', 'P'),\n",
       " ('Q', 'C'),\n",
       " ('Q', 'Q'),\n",
       " ('Q', 'F'),\n",
       " ('Q', 'P'),\n",
       " ('K', 'C'),\n",
       " ('K', 'Q'),\n",
       " ('K', 'F'),\n",
       " ('K', 'P')]"
      ]
     },
     "execution_count": 73,
     "metadata": {},
     "output_type": "execute_result"
    }
   ],
   "source": [
    "deck"
   ]
  },
  {
   "cell_type": "code",
   "execution_count": null,
   "id": "32734677",
   "metadata": {},
   "outputs": [],
   "source": []
  }
 ],
 "metadata": {
  "kernelspec": {
   "display_name": "Python 3 (ipykernel)",
   "language": "python",
   "name": "python3"
  },
  "language_info": {
   "codemirror_mode": {
    "name": "ipython",
    "version": 3
   },
   "file_extension": ".py",
   "mimetype": "text/x-python",
   "name": "python",
   "nbconvert_exporter": "python",
   "pygments_lexer": "ipython3",
   "version": "3.8.8"
  },
  "toc": {
   "base_numbering": 1,
   "nav_menu": {},
   "number_sections": true,
   "sideBar": true,
   "skip_h1_title": false,
   "title_cell": "Table of Contents",
   "title_sidebar": "Contents",
   "toc_cell": false,
   "toc_position": {},
   "toc_section_display": true,
   "toc_window_display": false
  }
 },
 "nbformat": 4,
 "nbformat_minor": 5
}
