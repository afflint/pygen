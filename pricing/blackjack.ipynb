{
 "cells": [
  {
   "cell_type": "markdown",
   "id": "df65d4fb",
   "metadata": {},
   "source": [
    "# Blackjack\n",
    "- mazzo carte\n",
    "    - mappare valore della carta su valore numerico e viversa\n",
    "- mescolare e estrarre\n",
    "- mostrare carte all'utente\n",
    "- interazione con l'utente\n",
    "- gestire l'uscita dal gioco\n",
    "- gestire il banco\n",
    "- decidere il vincitore"
   ]
  },
  {
   "cell_type": "markdown",
   "id": "738d2b32",
   "metadata": {},
   "source": [
    "## Deck\n",
    "\n",
    "- carta $\\rightarrow$ `tuple`\n",
    "    - simbolo\n",
    "    - seme\n",
    "- mazzo $\\rightarrow$ `list`\n",
    "- valore $\\rightarrow$ `dict`\n",
    "    - corrispondenza fra simbolo e valore"
   ]
  },
  {
   "cell_type": "code",
   "execution_count": null,
   "id": "32734677",
   "metadata": {},
   "outputs": [],
   "source": [
    "import blackjack.utils as ut\n",
    "import blackjack.game as gm\n",
    "from blackjack.deck import Deck, BJCard"
   ]
  },
  {
   "cell_type": "code",
   "execution_count": null,
   "id": "d1558119",
   "metadata": {},
   "outputs": [],
   "source": [
    "d1 = Deck(num=2)"
   ]
  },
  {
   "cell_type": "code",
   "execution_count": null,
   "id": "c41be300",
   "metadata": {},
   "outputs": [],
   "source": [
    "hand = d1.draw(num=1)\n",
    "hand[0].value"
   ]
  },
  {
   "cell_type": "markdown",
   "id": "6de7e0cf",
   "metadata": {},
   "source": [
    "## Blackjack design\n",
    "- Table\n",
    "    - Deck\n",
    "    - list of players\n",
    "    - dealer\n",
    "    - ask players actions\n",
    "    - pay revenue\n",
    "- Player\n",
    " - hand\n",
    " - status\n",
    " - compute value\n",
    "- Dealer\n",
    " - act\n",
    "     - hit\n",
    "     - stay\n",
    "- HumanPlayer (one or more)\n",
    "    - capital\n",
    "    - bet\n",
    "    - act\n",
    "        - hit\n",
    "        - stay\n",
    "- Deck\n",
    "    - shuffle\n",
    "    - draw\n",
    "    - BJCard\n",
    "     - symbol, seed\n",
    "     - value"
   ]
  },
  {
   "cell_type": "markdown",
   "id": "e90057ce",
   "metadata": {},
   "source": [
    "# Blackjack implementation"
   ]
  },
  {
   "cell_type": "code",
   "execution_count": 1,
   "id": "4c4afe0d",
   "metadata": {},
   "outputs": [],
   "source": [
    "from blackjack.game import Table, HumanPlayer"
   ]
  },
  {
   "cell_type": "code",
   "execution_count": 2,
   "id": "1a10dc86",
   "metadata": {},
   "outputs": [],
   "source": [
    "table = Table()\n",
    "p1 = HumanPlayer(name='Player1', capital=100.00, bet_rate=10.00)\n",
    "p2 = HumanPlayer(name='Player2', capital=100.00, bet_rate=5.00)\n",
    "table.add_player(p1)\n",
    "table.add_player(p2)"
   ]
  },
  {
   "cell_type": "markdown",
   "id": "4f3a779b",
   "metadata": {},
   "source": [
    "## Receive bets"
   ]
  },
  {
   "cell_type": "code",
   "execution_count": 3,
   "id": "4c59a075",
   "metadata": {},
   "outputs": [],
   "source": [
    "table.receive_bets(money=[p1.bet_rate])"
   ]
  },
  {
   "cell_type": "code",
   "execution_count": 4,
   "id": "51754779",
   "metadata": {},
   "outputs": [
    {
     "data": {
      "text/plain": [
       "{'Player1': 10.0, 'Player2': 5.0}"
      ]
     },
     "execution_count": 4,
     "metadata": {},
     "output_type": "execute_result"
    }
   ],
   "source": [
    "table.bets"
   ]
  },
  {
   "cell_type": "markdown",
   "id": "8c87bf14",
   "metadata": {},
   "source": [
    "## Serve players"
   ]
  },
  {
   "cell_type": "code",
   "execution_count": 5,
   "id": "afa179d7",
   "metadata": {},
   "outputs": [],
   "source": [
    "table.serve_players()"
   ]
  },
  {
   "cell_type": "code",
   "execution_count": 6,
   "id": "dee9206a",
   "metadata": {},
   "outputs": [
    {
     "data": {
      "text/plain": [
       "[5|C, 8|Q]"
      ]
     },
     "execution_count": 6,
     "metadata": {},
     "output_type": "execute_result"
    }
   ],
   "source": [
    "table.dealer.hand"
   ]
  },
  {
   "cell_type": "code",
   "execution_count": 7,
   "id": "0f709859",
   "metadata": {},
   "outputs": [
    {
     "name": "stdout",
     "output_type": "stream",
     "text": [
      "[10|Q, Q|Q] 20\n",
      "[8|C, J|C] 18\n"
     ]
    }
   ],
   "source": [
    "for player in table.players:\n",
    "    print(player.hand, player.hand_value)"
   ]
  },
  {
   "cell_type": "markdown",
   "id": "cfcb2a68",
   "metadata": {},
   "source": [
    "## Play"
   ]
  },
  {
   "cell_type": "code",
   "execution_count": 8,
   "id": "67b05265",
   "metadata": {},
   "outputs": [
    {
     "name": "stdout",
     "output_type": "stream",
     "text": [
      "Player1: 20 - hit or staystay\n",
      "Player2: 18 - hit or stayhit\n"
     ]
    }
   ],
   "source": [
    "table.play()"
   ]
  },
  {
   "cell_type": "code",
   "execution_count": 9,
   "id": "219eb4d4",
   "metadata": {},
   "outputs": [
    {
     "data": {
      "text/plain": [
       "([5|C, 8|Q, 3|Q, J|P], 26)"
      ]
     },
     "execution_count": 9,
     "metadata": {},
     "output_type": "execute_result"
    }
   ],
   "source": [
    "table.dealer.hand, table.dealer.hand_value"
   ]
  },
  {
   "cell_type": "code",
   "execution_count": 10,
   "id": "45350a86",
   "metadata": {},
   "outputs": [
    {
     "name": "stdout",
     "output_type": "stream",
     "text": [
      "[10|Q, Q|Q] 20\n",
      "[8|C, J|C, A|C] 29\n"
     ]
    }
   ],
   "source": [
    "for player in table.players:\n",
    "    print(player.hand, player.hand_value)"
   ]
  },
  {
   "cell_type": "markdown",
   "id": "1a4030f6",
   "metadata": {},
   "source": [
    "## Pay"
   ]
  },
  {
   "cell_type": "code",
   "execution_count": 11,
   "id": "50aac91f",
   "metadata": {},
   "outputs": [],
   "source": [
    "table.pay()"
   ]
  },
  {
   "cell_type": "code",
   "execution_count": 12,
   "id": "6eb81c96",
   "metadata": {},
   "outputs": [
    {
     "name": "stdout",
     "output_type": "stream",
     "text": [
      "110.0\n",
      "95.0\n"
     ]
    }
   ],
   "source": [
    "for player in table.players:\n",
    "    print(player.capital)"
   ]
  },
  {
   "cell_type": "markdown",
   "id": "426f9def",
   "metadata": {},
   "source": [
    "# Exercise\n",
    "\n",
    "Implement an automatic player with a simple strategy and test it by running multiple episodes and recording the capital"
   ]
  },
  {
   "cell_type": "code",
   "execution_count": null,
   "id": "0f9a56a8",
   "metadata": {},
   "outputs": [],
   "source": []
  }
 ],
 "metadata": {
  "kernelspec": {
   "display_name": "Python 3 (ipykernel)",
   "language": "python",
   "name": "python3"
  },
  "language_info": {
   "codemirror_mode": {
    "name": "ipython",
    "version": 3
   },
   "file_extension": ".py",
   "mimetype": "text/x-python",
   "name": "python",
   "nbconvert_exporter": "python",
   "pygments_lexer": "ipython3",
   "version": "3.8.8"
  },
  "toc": {
   "base_numbering": 1,
   "nav_menu": {},
   "number_sections": true,
   "sideBar": true,
   "skip_h1_title": false,
   "title_cell": "Table of Contents",
   "title_sidebar": "Contents",
   "toc_cell": false,
   "toc_position": {},
   "toc_section_display": true,
   "toc_window_display": false
  }
 },
 "nbformat": 4,
 "nbformat_minor": 5
}
