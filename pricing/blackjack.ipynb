{
 "cells": [
  {
   "cell_type": "markdown",
   "id": "df65d4fb",
   "metadata": {},
   "source": [
    "# Blackjack\n",
    "- mazzo carte\n",
    "    - mappare valore della carta su valore numerico e viversa\n",
    "- mescolare e estrarre\n",
    "- mostrare carte all'utente\n",
    "- interazione con l'utente\n",
    "- gestire l'uscita dal gioco\n",
    "- gestire il banco\n",
    "- decidere il vincitore"
   ]
  },
  {
   "cell_type": "markdown",
   "id": "738d2b32",
   "metadata": {},
   "source": [
    "## Deck\n",
    "\n",
    "- carta $\\rightarrow$ `tuple`\n",
    "    - simbolo\n",
    "    - seme\n",
    "- mazzo $\\rightarrow$ `list`\n",
    "- valore $\\rightarrow$ `dict`\n",
    "    - corrispondenza fra simbolo e valore"
   ]
  },
  {
   "cell_type": "code",
   "execution_count": 4,
   "id": "32734677",
   "metadata": {},
   "outputs": [],
   "source": [
    "import blackjack.utils as ut"
   ]
  },
  {
   "cell_type": "code",
   "execution_count": 5,
   "id": "01946c6d",
   "metadata": {},
   "outputs": [],
   "source": [
    "sym = ['A', 'J', 'Q', 'K'] + [str(x) for x in range(2, 11)]\n",
    "n = 1"
   ]
  },
  {
   "cell_type": "code",
   "execution_count": 7,
   "id": "0805cc87",
   "metadata": {},
   "outputs": [],
   "source": [
    "deck1 = ut.create_decks(symbols=sym, num=2, how_to=ut.create_deck)"
   ]
  },
  {
   "cell_type": "code",
   "execution_count": null,
   "id": "cd3623e9",
   "metadata": {},
   "outputs": [],
   "source": []
  }
 ],
 "metadata": {
  "kernelspec": {
   "display_name": "Python 3 (ipykernel)",
   "language": "python",
   "name": "python3"
  },
  "language_info": {
   "codemirror_mode": {
    "name": "ipython",
    "version": 3
   },
   "file_extension": ".py",
   "mimetype": "text/x-python",
   "name": "python",
   "nbconvert_exporter": "python",
   "pygments_lexer": "ipython3",
   "version": "3.8.8"
  },
  "toc": {
   "base_numbering": 1,
   "nav_menu": {},
   "number_sections": true,
   "sideBar": true,
   "skip_h1_title": false,
   "title_cell": "Table of Contents",
   "title_sidebar": "Contents",
   "toc_cell": false,
   "toc_position": {},
   "toc_section_display": true,
   "toc_window_display": false
  }
 },
 "nbformat": 4,
 "nbformat_minor": 5
}
