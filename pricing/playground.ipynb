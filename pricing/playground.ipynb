{
 "cells": [
  {
   "cell_type": "markdown",
   "id": "b5311a83",
   "metadata": {},
   "source": [
    "# Data structures\n",
    "\n",
    "- `tuple`\n",
    "- `list`\n",
    "- `set`\n",
    "- `dict`"
   ]
  },
  {
   "cell_type": "code",
   "execution_count": 67,
   "id": "d0bd142b",
   "metadata": {},
   "outputs": [],
   "source": [
    "import numpy as np"
   ]
  },
  {
   "cell_type": "markdown",
   "id": "b3dbee75",
   "metadata": {},
   "source": [
    "## Tuple"
   ]
  },
  {
   "cell_type": "code",
   "execution_count": 4,
   "id": "6d25dbc8",
   "metadata": {},
   "outputs": [],
   "source": [
    "a = (3, \"a\", 4, (3, 4), 5)"
   ]
  },
  {
   "cell_type": "code",
   "execution_count": 5,
   "id": "e4c954ab",
   "metadata": {},
   "outputs": [
    {
     "data": {
      "text/plain": [
       "4"
      ]
     },
     "execution_count": 5,
     "metadata": {},
     "output_type": "execute_result"
    }
   ],
   "source": [
    "len(a)-1"
   ]
  },
  {
   "cell_type": "code",
   "execution_count": 16,
   "id": "f9cf6d48",
   "metadata": {},
   "outputs": [
    {
     "name": "stdout",
     "output_type": "stream",
     "text": [
      "('a', 4)\n",
      "(3, 'a', 4)\n",
      "('a', 4, (3, 4), 5)\n",
      "(4, (3, 4))\n",
      "()\n",
      "(3, 'a', 4, (3, 4), 5)\n"
     ]
    }
   ],
   "source": [
    "print(a[1:3])\n",
    "print(a[:3])\n",
    "print(a[1:])\n",
    "print(a[2:-1])\n",
    "print(a[-1:2])\n",
    "print(a[:122])"
   ]
  },
  {
   "cell_type": "code",
   "execution_count": 32,
   "id": "6ae91aca",
   "metadata": {},
   "outputs": [],
   "source": [
    "b = a[2:4]"
   ]
  },
  {
   "cell_type": "code",
   "execution_count": 35,
   "id": "2d47b157",
   "metadata": {},
   "outputs": [],
   "source": [
    "c, (x, y) = b"
   ]
  },
  {
   "cell_type": "code",
   "execution_count": 36,
   "id": "6a11a67f",
   "metadata": {},
   "outputs": [
    {
     "data": {
      "text/plain": [
       "(3, 4)"
      ]
     },
     "execution_count": 36,
     "metadata": {},
     "output_type": "execute_result"
    }
   ],
   "source": [
    "x, y"
   ]
  },
  {
   "cell_type": "markdown",
   "id": "564796e5",
   "metadata": {},
   "source": [
    "## String"
   ]
  },
  {
   "cell_type": "code",
   "execution_count": 37,
   "id": "75717066",
   "metadata": {},
   "outputs": [],
   "source": [
    "a = \"questa è una stringa di testo\""
   ]
  },
  {
   "cell_type": "code",
   "execution_count": 38,
   "id": "c9c96d84",
   "metadata": {},
   "outputs": [
    {
     "data": {
      "text/plain": [
       "29"
      ]
     },
     "execution_count": 38,
     "metadata": {},
     "output_type": "execute_result"
    }
   ],
   "source": [
    "len(a)"
   ]
  },
  {
   "cell_type": "code",
   "execution_count": 42,
   "id": "d46784b7",
   "metadata": {},
   "outputs": [],
   "source": [
    "a += \"!\""
   ]
  },
  {
   "cell_type": "code",
   "execution_count": 45,
   "id": "78403f80",
   "metadata": {},
   "outputs": [
    {
     "data": {
      "text/plain": [
       "'queXta è una stringa di testo!'"
      ]
     },
     "execution_count": 45,
     "metadata": {},
     "output_type": "execute_result"
    }
   ],
   "source": [
    "a[:3] + \"X\" + a[4:]"
   ]
  },
  {
   "cell_type": "markdown",
   "id": "4a94be9d",
   "metadata": {},
   "source": [
    "## List"
   ]
  },
  {
   "cell_type": "code",
   "execution_count": 46,
   "id": "a353b578",
   "metadata": {},
   "outputs": [],
   "source": [
    "c = [3, \"a\", 4, (3, 4), 5]"
   ]
  },
  {
   "cell_type": "code",
   "execution_count": 48,
   "id": "a7f059e3",
   "metadata": {},
   "outputs": [],
   "source": [
    "c[3] = ['X', 'Y']"
   ]
  },
  {
   "cell_type": "code",
   "execution_count": 50,
   "id": "3af569ee",
   "metadata": {},
   "outputs": [],
   "source": [
    "del(c[3])"
   ]
  },
  {
   "cell_type": "code",
   "execution_count": 54,
   "id": "be93a195",
   "metadata": {},
   "outputs": [
    {
     "data": {
      "text/plain": [
       "5"
      ]
     },
     "execution_count": 54,
     "metadata": {},
     "output_type": "execute_result"
    }
   ],
   "source": [
    "len(c)"
   ]
  },
  {
   "cell_type": "code",
   "execution_count": 52,
   "id": "39acd51a",
   "metadata": {},
   "outputs": [],
   "source": [
    "c.append(10)"
   ]
  },
  {
   "cell_type": "code",
   "execution_count": 55,
   "id": "277ac028",
   "metadata": {},
   "outputs": [],
   "source": [
    "c.append([8, 9, 10])"
   ]
  },
  {
   "cell_type": "code",
   "execution_count": 57,
   "id": "6491e77c",
   "metadata": {},
   "outputs": [],
   "source": [
    "c.extend([8, 9, 10])"
   ]
  },
  {
   "cell_type": "code",
   "execution_count": 58,
   "id": "730d1525",
   "metadata": {},
   "outputs": [
    {
     "data": {
      "text/plain": [
       "[3, 'a', 4, 5, 10, [8, 9, 10], 8, 9, 10]"
      ]
     },
     "execution_count": 58,
     "metadata": {},
     "output_type": "execute_result"
    }
   ],
   "source": [
    "c"
   ]
  },
  {
   "cell_type": "code",
   "execution_count": 59,
   "id": "e6620dc1",
   "metadata": {},
   "outputs": [],
   "source": [
    "t = (1, 2, 3, 4)"
   ]
  },
  {
   "cell_type": "code",
   "execution_count": 62,
   "id": "a9132c59",
   "metadata": {},
   "outputs": [],
   "source": [
    "x = list(t)"
   ]
  },
  {
   "cell_type": "code",
   "execution_count": 68,
   "id": "882d548e",
   "metadata": {},
   "outputs": [],
   "source": [
    "x = list(np.random.uniform(size=10000))"
   ]
  },
  {
   "cell_type": "code",
   "execution_count": 70,
   "id": "a9221a3f",
   "metadata": {},
   "outputs": [
    {
     "data": {
      "text/plain": [
       "[0.14417961682389102,\n",
       " 0.2413258638913779,\n",
       " 0.26785015123821077,\n",
       " 0.6023962400801867]"
      ]
     },
     "execution_count": 70,
     "metadata": {},
     "output_type": "execute_result"
    }
   ],
   "source": [
    "x[:4]"
   ]
  },
  {
   "cell_type": "code",
   "execution_count": 73,
   "id": "6d638467",
   "metadata": {},
   "outputs": [],
   "source": [
    "y = [i**2 for i in x if i > 0.2]"
   ]
  },
  {
   "cell_type": "code",
   "execution_count": 74,
   "id": "343e1ded",
   "metadata": {},
   "outputs": [
    {
     "data": {
      "text/plain": [
       "7995"
      ]
     },
     "execution_count": 74,
     "metadata": {},
     "output_type": "execute_result"
    }
   ],
   "source": [
    "len(y)"
   ]
  },
  {
   "cell_type": "markdown",
   "id": "428ea788",
   "metadata": {},
   "source": [
    "## Set"
   ]
  },
  {
   "cell_type": "code",
   "execution_count": 81,
   "id": "aeef50ca",
   "metadata": {},
   "outputs": [],
   "source": [
    "k = [round(j, 1) for j in x]"
   ]
  },
  {
   "cell_type": "code",
   "execution_count": 82,
   "id": "880c4290",
   "metadata": {},
   "outputs": [],
   "source": [
    "k = set(k)"
   ]
  },
  {
   "cell_type": "code",
   "execution_count": 83,
   "id": "71c7e4ea",
   "metadata": {},
   "outputs": [
    {
     "data": {
      "text/plain": [
       "11"
      ]
     },
     "execution_count": 83,
     "metadata": {},
     "output_type": "execute_result"
    }
   ],
   "source": [
    "len(k)"
   ]
  },
  {
   "cell_type": "code",
   "execution_count": 85,
   "id": "6d1e31cb",
   "metadata": {},
   "outputs": [
    {
     "name": "stdout",
     "output_type": "stream",
     "text": [
      "{2, 3, 4}\n"
     ]
    }
   ],
   "source": [
    "s = {2, 3, 4, 3}\n",
    "print(s)"
   ]
  },
  {
   "cell_type": "code",
   "execution_count": 91,
   "id": "1892c745",
   "metadata": {},
   "outputs": [
    {
     "data": {
      "text/plain": [
       "{0.0, 0.1, 0.2, 0.3, 0.4, 0.5, 0.6, 0.7, 0.8, 0.9, 1.0, 1.1, 2}"
      ]
     },
     "execution_count": 91,
     "metadata": {},
     "output_type": "execute_result"
    }
   ],
   "source": [
    "k.add(2)\n",
    "k"
   ]
  },
  {
   "cell_type": "code",
   "execution_count": 92,
   "id": "d75caf3e",
   "metadata": {},
   "outputs": [
    {
     "name": "stdout",
     "output_type": "stream",
     "text": [
      "{0.1, 0.6, 0.3, 0.2, 0.5, 0.9, 0.4, 0.8, 0.7, 0.0, 1.0, 1.1, 2}\n",
      "{2, 3, 4}\n"
     ]
    }
   ],
   "source": [
    "print(k)\n",
    "print(s)"
   ]
  },
  {
   "cell_type": "code",
   "execution_count": 95,
   "id": "f736f6c8",
   "metadata": {},
   "outputs": [
    {
     "name": "stdout",
     "output_type": "stream",
     "text": [
      "{2}\n",
      "{0.1, 0.6, 0.3, 0.2, 0.5, 0.9, 0.4, 0.8, 0.7, 0.0, 1.0, 1.1, 2, 4, 3}\n",
      "{0.1, 0.6, 0.2, 0.3, 0.5, 0.9, 0.4, 0.8, 0.7, 0.0, 1.0, 1.1}\n"
     ]
    }
   ],
   "source": [
    "print(k.intersection(s))\n",
    "print(k.union(s))\n",
    "print(k.difference(s))"
   ]
  },
  {
   "cell_type": "markdown",
   "id": "aa3fdbd5",
   "metadata": {},
   "source": [
    "## Dict"
   ]
  },
  {
   "cell_type": "code",
   "execution_count": 96,
   "id": "5d706bef",
   "metadata": {},
   "outputs": [],
   "source": [
    "m = {\n",
    "    'MI': 'lombardia',\n",
    "    'BG': 'lombardia',\n",
    "    'TO': 'piemonte',\n",
    "    'BA': 'puglia'\n",
    "}"
   ]
  },
  {
   "cell_type": "code",
   "execution_count": 102,
   "id": "7bd5f6eb",
   "metadata": {},
   "outputs": [],
   "source": [
    "m['PA'] = 'sicilia'"
   ]
  },
  {
   "cell_type": "code",
   "execution_count": 103,
   "id": "8935b0a8",
   "metadata": {},
   "outputs": [
    {
     "data": {
      "text/plain": [
       "{'MI': 'lombardia',\n",
       " 'BG': 'lombardia',\n",
       " 'TO': 'piemonte',\n",
       " 'BA': 'puglia',\n",
       " 'PA': 'sicilia'}"
      ]
     },
     "execution_count": 103,
     "metadata": {},
     "output_type": "execute_result"
    }
   ],
   "source": [
    "m"
   ]
  },
  {
   "cell_type": "code",
   "execution_count": 105,
   "id": "c57a6270",
   "metadata": {},
   "outputs": [
    {
     "data": {
      "text/plain": [
       "'sicilia'"
      ]
     },
     "execution_count": 105,
     "metadata": {},
     "output_type": "execute_result"
    }
   ],
   "source": [
    "m.get('CT', 'sicilia')"
   ]
  },
  {
   "cell_type": "code",
   "execution_count": 110,
   "id": "cf7729df",
   "metadata": {},
   "outputs": [
    {
     "data": {
      "text/plain": [
       "[('MI', 'lombardia'),\n",
       " ('BG', 'lombardia'),\n",
       " ('TO', 'piemonte'),\n",
       " ('BA', 'puglia'),\n",
       " ('PA', 'sicilia')]"
      ]
     },
     "execution_count": 110,
     "metadata": {},
     "output_type": "execute_result"
    }
   ],
   "source": [
    "list(m.items())"
   ]
  },
  {
   "cell_type": "markdown",
   "id": "fb1ed4d3",
   "metadata": {},
   "source": [
    "## Cicli e controllo"
   ]
  },
  {
   "cell_type": "code",
   "execution_count": 136,
   "id": "22a53a57",
   "metadata": {},
   "outputs": [],
   "source": [
    "from collections import namedtuple"
   ]
  },
  {
   "cell_type": "code",
   "execution_count": 130,
   "id": "c4b7408c",
   "metadata": {},
   "outputs": [
    {
     "name": "stdout",
     "output_type": "stream",
     "text": [
      "0 0\n",
      "1 1\n",
      "2 2\n",
      "3 3\n",
      "4 4\n",
      "5 5\n"
     ]
    }
   ],
   "source": [
    "for i, y in enumerate(range(22)):\n",
    "    if i < 6:\n",
    "        print(i, y)"
   ]
  },
  {
   "cell_type": "code",
   "execution_count": 135,
   "id": "c6fba7fe",
   "metadata": {},
   "outputs": [
    {
     "name": "stdout",
     "output_type": "stream",
     "text": [
      "0 MI lombardia\n",
      "1 BG lombardia\n",
      "2 TO piemonte\n",
      "3 BA puglia\n",
      "4 PA sicilia\n"
     ]
    }
   ],
   "source": [
    "for k, (z, j) in enumerate(m.items()):\n",
    "    print(k, z, j)"
   ]
  },
  {
   "cell_type": "markdown",
   "id": "c8fb0508",
   "metadata": {},
   "source": [
    "### Nametuple"
   ]
  },
  {
   "cell_type": "code",
   "execution_count": 141,
   "id": "a6da8678",
   "metadata": {},
   "outputs": [],
   "source": [
    "P = namedtuple('Person', ['name', 'age', 'profession'])"
   ]
  },
  {
   "cell_type": "code",
   "execution_count": 142,
   "id": "4af87cf4",
   "metadata": {},
   "outputs": [],
   "source": [
    "p = P('mario', 34, 'insegnante')"
   ]
  },
  {
   "cell_type": "code",
   "execution_count": 146,
   "id": "e92394b6",
   "metadata": {},
   "outputs": [
    {
     "data": {
      "text/plain": [
       "34"
      ]
     },
     "execution_count": 146,
     "metadata": {},
     "output_type": "execute_result"
    }
   ],
   "source": [
    "p.age"
   ]
  },
  {
   "cell_type": "code",
   "execution_count": 147,
   "id": "bfdeb97c",
   "metadata": {},
   "outputs": [],
   "source": [
    "p1 = {\n",
    "    'name': 'mario',\n",
    "    'age': 34,\n",
    "    'profession': 'insegnante'\n",
    "}"
   ]
  },
  {
   "cell_type": "code",
   "execution_count": 148,
   "id": "5ce1e5f7",
   "metadata": {},
   "outputs": [
    {
     "data": {
      "text/plain": [
       "34"
      ]
     },
     "execution_count": 148,
     "metadata": {},
     "output_type": "execute_result"
    }
   ],
   "source": [
    "p1['age']"
   ]
  },
  {
   "cell_type": "markdown",
   "id": "847f62de",
   "metadata": {},
   "source": [
    "## Passing function as arguments"
   ]
  },
  {
   "cell_type": "code",
   "execution_count": 149,
   "id": "60a6f87e",
   "metadata": {},
   "outputs": [],
   "source": [
    "def sum_num(values):\n",
    "    s = 0\n",
    "    for n in values:\n",
    "        s += n\n",
    "    return s\n",
    "\n",
    "def prod_num(values):\n",
    "    s = 1\n",
    "    for n in values:\n",
    "        s *= n\n",
    "    return s\n",
    "\n",
    "def aggregate(values, agg):\n",
    "    return agg(values)"
   ]
  },
  {
   "cell_type": "code",
   "execution_count": null,
   "id": "fe00c9b9",
   "metadata": {},
   "outputs": [],
   "source": []
  }
 ],
 "metadata": {
  "kernelspec": {
   "display_name": "Python 3 (ipykernel)",
   "language": "python",
   "name": "python3"
  },
  "language_info": {
   "codemirror_mode": {
    "name": "ipython",
    "version": 3
   },
   "file_extension": ".py",
   "mimetype": "text/x-python",
   "name": "python",
   "nbconvert_exporter": "python",
   "pygments_lexer": "ipython3",
   "version": "3.8.8"
  },
  "toc": {
   "base_numbering": 1,
   "nav_menu": {},
   "number_sections": true,
   "sideBar": true,
   "skip_h1_title": false,
   "title_cell": "Table of Contents",
   "title_sidebar": "Contents",
   "toc_cell": false,
   "toc_position": {},
   "toc_section_display": true,
   "toc_window_display": false
  }
 },
 "nbformat": 4,
 "nbformat_minor": 5
}
