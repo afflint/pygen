{
 "cells": [
  {
   "cell_type": "code",
   "execution_count": 20,
   "metadata": {},
   "outputs": [],
   "source": [
    "import pandas as pd\n",
    "import numpy as np"
   ]
  },
  {
   "cell_type": "code",
   "execution_count": 2,
   "metadata": {},
   "outputs": [],
   "source": [
    "D = pd.read_excel('data/players.xlsx', index_col=0)"
   ]
  },
  {
   "cell_type": "code",
   "execution_count": 3,
   "metadata": {},
   "outputs": [
    {
     "data": {
      "text/html": [
       "<div>\n",
       "<style scoped>\n",
       "    .dataframe tbody tr th:only-of-type {\n",
       "        vertical-align: middle;\n",
       "    }\n",
       "\n",
       "    .dataframe tbody tr th {\n",
       "        vertical-align: top;\n",
       "    }\n",
       "\n",
       "    .dataframe thead th {\n",
       "        text-align: right;\n",
       "    }\n",
       "</style>\n",
       "<table border=\"1\" class=\"dataframe\">\n",
       "  <thead>\n",
       "    <tr style=\"text-align: right;\">\n",
       "      <th></th>\n",
       "      <th>name</th>\n",
       "      <th>birthday</th>\n",
       "      <th>height</th>\n",
       "      <th>weight</th>\n",
       "      <th>rating</th>\n",
       "      <th>finishing</th>\n",
       "      <th>short_pass</th>\n",
       "      <th>long_pass</th>\n",
       "      <th>defense</th>\n",
       "      <th>gk</th>\n",
       "    </tr>\n",
       "    <tr>\n",
       "      <th>id</th>\n",
       "      <th></th>\n",
       "      <th></th>\n",
       "      <th></th>\n",
       "      <th></th>\n",
       "      <th></th>\n",
       "      <th></th>\n",
       "      <th></th>\n",
       "      <th></th>\n",
       "      <th></th>\n",
       "      <th></th>\n",
       "    </tr>\n",
       "  </thead>\n",
       "  <tbody>\n",
       "    <tr>\n",
       "      <th>2625</th>\n",
       "      <td>Patryk Rachwal,18</td>\n",
       "      <td>1981-01-27</td>\n",
       "      <td>175.26</td>\n",
       "      <td>154</td>\n",
       "      <td>60.142857</td>\n",
       "      <td>47.285714</td>\n",
       "      <td>56.500000</td>\n",
       "      <td>65.571429</td>\n",
       "      <td>62.071429</td>\n",
       "      <td>12.428571</td>\n",
       "    </tr>\n",
       "    <tr>\n",
       "      <th>2752</th>\n",
       "      <td>Diego Mainz</td>\n",
       "      <td>1982-12-29</td>\n",
       "      <td>187.96</td>\n",
       "      <td>174</td>\n",
       "      <td>69.380952</td>\n",
       "      <td>37.428571</td>\n",
       "      <td>54.809524</td>\n",
       "      <td>59.571429</td>\n",
       "      <td>71.428571</td>\n",
       "      <td>11.095238</td>\n",
       "    </tr>\n",
       "    <tr>\n",
       "      <th>2768</th>\n",
       "      <td>Jose Dorado</td>\n",
       "      <td>1982-07-10</td>\n",
       "      <td>180.34</td>\n",
       "      <td>154</td>\n",
       "      <td>69.285714</td>\n",
       "      <td>42.761905</td>\n",
       "      <td>64.714286</td>\n",
       "      <td>57.000000</td>\n",
       "      <td>74.714286</td>\n",
       "      <td>10.761905</td>\n",
       "    </tr>\n",
       "    <tr>\n",
       "      <th>2770</th>\n",
       "      <td>Ignacio Gonzalez</td>\n",
       "      <td>1982-05-14</td>\n",
       "      <td>180.34</td>\n",
       "      <td>161</td>\n",
       "      <td>71.133333</td>\n",
       "      <td>67.666667</td>\n",
       "      <td>72.533333</td>\n",
       "      <td>70.266667</td>\n",
       "      <td>44.933333</td>\n",
       "      <td>8.666667</td>\n",
       "    </tr>\n",
       "    <tr>\n",
       "      <th>2790</th>\n",
       "      <td>Alberto Rey</td>\n",
       "      <td>1974-02-15</td>\n",
       "      <td>175.26</td>\n",
       "      <td>163</td>\n",
       "      <td>70.200000</td>\n",
       "      <td>37.400000</td>\n",
       "      <td>68.000000</td>\n",
       "      <td>69.800000</td>\n",
       "      <td>63.400000</td>\n",
       "      <td>8.000000</td>\n",
       "    </tr>\n",
       "  </tbody>\n",
       "</table>\n",
       "</div>"
      ],
      "text/plain": [
       "                   name   birthday  height  weight     rating  finishing  \\\n",
       "id                                                                         \n",
       "2625  Patryk Rachwal,18 1981-01-27  175.26     154  60.142857  47.285714   \n",
       "2752        Diego Mainz 1982-12-29  187.96     174  69.380952  37.428571   \n",
       "2768        Jose Dorado 1982-07-10  180.34     154  69.285714  42.761905   \n",
       "2770   Ignacio Gonzalez 1982-05-14  180.34     161  71.133333  67.666667   \n",
       "2790        Alberto Rey 1974-02-15  175.26     163  70.200000  37.400000   \n",
       "\n",
       "      short_pass  long_pass    defense         gk  \n",
       "id                                                 \n",
       "2625   56.500000  65.571429  62.071429  12.428571  \n",
       "2752   54.809524  59.571429  71.428571  11.095238  \n",
       "2768   64.714286  57.000000  74.714286  10.761905  \n",
       "2770   72.533333  70.266667  44.933333   8.666667  \n",
       "2790   68.000000  69.800000  63.400000   8.000000  "
      ]
     },
     "execution_count": 3,
     "metadata": {},
     "output_type": "execute_result"
    }
   ],
   "source": [
    "D.head()"
   ]
  },
  {
   "cell_type": "code",
   "execution_count": 52,
   "metadata": {},
   "outputs": [],
   "source": [
    "class Player(object):\n",
    "    \n",
    "    def __init__(self, pid, data, pos):\n",
    "        self.name = data.loc[pid]['name']\n",
    "        self.short_pass = data.loc[pid].short_pass / 100\n",
    "        self.x, self.y = pos\n",
    "        self.pos = np.array([self.x, self.y])\n",
    "        self.max_dist = np.linalg.norm(\n",
    "            np.array([0,0]) - np.array([9,9]))\n",
    "        \n",
    "    def ball_pass(self, target):\n",
    "        d = np.linalg.norm(self.pos - target.pos)\n",
    "        f_d = 1 - (d / self.max_dist)\n",
    "        p = (f_d + self.short_pass) / 2\n",
    "        if np.random.uniform() < p:\n",
    "            return True\n",
    "        else:\n",
    "            return False"
   ]
  },
  {
   "cell_type": "code",
   "execution_count": 53,
   "metadata": {},
   "outputs": [],
   "source": [
    "p = Player(2790, D, pos=(3, 5))\n",
    "x = Player(2770, D, pos=(5, 5))"
   ]
  },
  {
   "cell_type": "code",
   "execution_count": 54,
   "metadata": {},
   "outputs": [
    {
     "name": "stdout",
     "output_type": "stream",
     "text": [
      "12.727922061357855 2.0\n",
      "0.8428651597363228\n"
     ]
    },
    {
     "data": {
      "text/plain": [
       "False"
      ]
     },
     "execution_count": 54,
     "metadata": {},
     "output_type": "execute_result"
    }
   ],
   "source": [
    "p.ball_pass(x)"
   ]
  },
  {
   "cell_type": "code",
   "execution_count": 31,
   "metadata": {},
   "outputs": [],
   "source": [
    "trial = np.array([1 if p.ball_pass() else 0 for x in range(100)])"
   ]
  },
  {
   "cell_type": "code",
   "execution_count": 32,
   "metadata": {},
   "outputs": [
    {
     "data": {
      "text/plain": [
       "0.19"
      ]
     },
     "execution_count": 32,
     "metadata": {},
     "output_type": "execute_result"
    }
   ],
   "source": [
    "trial.sum() / len(trial)"
   ]
  },
  {
   "cell_type": "code",
   "execution_count": null,
   "metadata": {},
   "outputs": [],
   "source": []
  }
 ],
 "metadata": {
  "kernelspec": {
   "display_name": "Python 3",
   "language": "python",
   "name": "python3"
  },
  "language_info": {
   "codemirror_mode": {
    "name": "ipython",
    "version": 3
   },
   "file_extension": ".py",
   "mimetype": "text/x-python",
   "name": "python",
   "nbconvert_exporter": "python",
   "pygments_lexer": "ipython3",
   "version": "3.7.1"
  }
 },
 "nbformat": 4,
 "nbformat_minor": 2
}
