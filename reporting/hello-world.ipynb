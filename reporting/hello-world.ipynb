{
 "cells": [
  {
   "cell_type": "code",
   "execution_count": 1,
   "id": "f4016685",
   "metadata": {},
   "outputs": [],
   "source": [
    "a = 4 + 5"
   ]
  },
  {
   "cell_type": "markdown",
   "id": "488e3dca",
   "metadata": {},
   "source": [
    "# Titolo del notebook\n",
    "\n",
    "## Titolo secondo livello\n",
    "- primo item\n",
    "- secondo item\n",
    "- terzo item\n",
    "\n",
    "$$\n",
    "a = \\sum\\limits_{i=n}^{N} x_i + \\log(2)\n",
    "$$"
   ]
  },
  {
   "cell_type": "code",
   "execution_count": null,
   "id": "5044f818",
   "metadata": {},
   "outputs": [],
   "source": [
    "print(a)"
   ]
  },
  {
   "cell_type": "code",
   "execution_count": null,
   "id": "852255bd",
   "metadata": {},
   "outputs": [],
   "source": [
    "a = 9 + 8"
   ]
  },
  {
   "cell_type": "code",
   "execution_count": null,
   "id": "cabb935b",
   "metadata": {},
   "outputs": [],
   "source": []
  }
 ],
 "metadata": {
  "kernelspec": {
   "display_name": "Python 3 (ipykernel)",
   "language": "python",
   "name": "python3"
  },
  "language_info": {
   "codemirror_mode": {
    "name": "ipython",
    "version": 3
   },
   "file_extension": ".py",
   "mimetype": "text/x-python",
   "name": "python",
   "nbconvert_exporter": "python",
   "pygments_lexer": "ipython3",
   "version": "3.8.8"
  },
  "toc": {
   "base_numbering": 1,
   "nav_menu": {},
   "number_sections": true,
   "sideBar": true,
   "skip_h1_title": false,
   "title_cell": "Table of Contents",
   "title_sidebar": "Contents",
   "toc_cell": false,
   "toc_position": {},
   "toc_section_display": true,
   "toc_window_display": false
  }
 },
 "nbformat": 4,
 "nbformat_minor": 5
}
