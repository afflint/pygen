{
 "cells": [
  {
   "cell_type": "markdown",
   "id": "051d0a72",
   "metadata": {},
   "source": [
    "# Introduction to dynamic typing"
   ]
  },
  {
   "cell_type": "markdown",
   "id": "2798d7b2",
   "metadata": {},
   "source": [
    "## Conditionals"
   ]
  },
  {
   "cell_type": "markdown",
   "id": "d16e2794",
   "metadata": {},
   "source": [
    "```\n",
    "if condizione:\n",
    "    codice da eseguire se condizione è True\n",
    "elif altra condizione:\n",
    "    codice da eseguire se altra condizione è True\n",
    "else:\n",
    "    codice da eseguire altrimenti\n",
    "```"
   ]
  },
  {
   "cell_type": "code",
   "execution_count": 2,
   "id": "6259c9ae",
   "metadata": {},
   "outputs": [
    {
     "name": "stdout",
     "output_type": "stream",
     "text": [
      "Seconda età\n"
     ]
    }
   ],
   "source": [
    "age = 34\n",
    "if age <= 20:\n",
    "    print('Prima età')\n",
    "elif 20 < age <= 60:\n",
    "    print('Seconda età')\n",
    "else:\n",
    "    print('Terza età')"
   ]
  },
  {
   "cell_type": "markdown",
   "id": "994fdd1a",
   "metadata": {},
   "source": [
    "## List comprehension"
   ]
  },
  {
   "cell_type": "code",
   "execution_count": 9,
   "id": "b31e30d9",
   "metadata": {},
   "outputs": [],
   "source": [
    "even = [x for x in range(0, 10001) if x % 2 == 0]"
   ]
  },
  {
   "cell_type": "code",
   "execution_count": 10,
   "id": "a63797bf",
   "metadata": {},
   "outputs": [
    {
     "name": "stdout",
     "output_type": "stream",
     "text": [
      "1.2\n",
      "1\n",
      "1\n"
     ]
    }
   ],
   "source": [
    "print(6 / 5)\n",
    "print(6 // 5)\n",
    "print(6 % 5)"
   ]
  },
  {
   "cell_type": "markdown",
   "id": "b046c1c1",
   "metadata": {},
   "source": [
    "## Cycles"
   ]
  },
  {
   "cell_type": "code",
   "execution_count": 12,
   "id": "4e2e7880",
   "metadata": {},
   "outputs": [],
   "source": [
    "s = 0\n",
    "even = []\n",
    "while s <= 100:\n",
    "    even.append(s)\n",
    "    s += 2"
   ]
  },
  {
   "cell_type": "code",
   "execution_count": 16,
   "id": "fc0aa2df",
   "metadata": {},
   "outputs": [],
   "source": [
    "even_square = []\n",
    "for num in even:\n",
    "    even_square.append(num**2)"
   ]
  },
  {
   "cell_type": "markdown",
   "id": "52ddc380",
   "metadata": {},
   "source": [
    "### Break"
   ]
  },
  {
   "cell_type": "code",
   "execution_count": 18,
   "id": "bfe018e0",
   "metadata": {},
   "outputs": [
    {
     "name": "stdout",
     "output_type": "stream",
     "text": [
      "0\n",
      "10\n",
      "20\n",
      "30\n",
      "40\n",
      "50\n",
      "60\n",
      "70\n",
      "80\n",
      "90\n",
      "100\n"
     ]
    }
   ],
   "source": [
    "c = 0\n",
    "while True:\n",
    "    print(c)\n",
    "    c += 10\n",
    "    if c > 100:\n",
    "        break"
   ]
  },
  {
   "cell_type": "markdown",
   "id": "d8558f16",
   "metadata": {},
   "source": [
    "## Numpy"
   ]
  },
  {
   "cell_type": "code",
   "execution_count": 19,
   "id": "0ac1c8b6",
   "metadata": {},
   "outputs": [],
   "source": [
    "import numpy as np"
   ]
  },
  {
   "cell_type": "markdown",
   "id": "5efb9825",
   "metadata": {},
   "source": [
    "### Permutation"
   ]
  },
  {
   "cell_type": "code",
   "execution_count": 52,
   "id": "652a1772",
   "metadata": {},
   "outputs": [],
   "source": [
    "a = [1, 2, 3, 4, 5, 6, 7, 8]\n",
    "np.random.shuffle(a)"
   ]
  },
  {
   "cell_type": "code",
   "execution_count": 121,
   "id": "06c18fca",
   "metadata": {},
   "outputs": [],
   "source": [
    "for x in range(20):\n",
    "    try:\n",
    "        # try something\n",
    "        a.pop()\n",
    "    except IndexError:\n",
    "        #do something else\n",
    "        break"
   ]
  },
  {
   "cell_type": "markdown",
   "id": "a86579cd",
   "metadata": {},
   "source": [
    "### Generate index"
   ]
  },
  {
   "cell_type": "code",
   "execution_count": 96,
   "id": "22d78dae",
   "metadata": {},
   "outputs": [],
   "source": [
    "a = ['a', 'b', 'c', 'd', 'e', 'f', 'g', 'h']"
   ]
  },
  {
   "cell_type": "code",
   "execution_count": 97,
   "id": "678ddc50",
   "metadata": {},
   "outputs": [
    {
     "name": "stdout",
     "output_type": "stream",
     "text": [
      "4 e\n"
     ]
    }
   ],
   "source": [
    "i = np.random.randint(0, len(a))\n",
    "print(i, a[i])\n",
    "del(a[i])\n",
    "# si può usare anche a.pop(i)"
   ]
  },
  {
   "cell_type": "code",
   "execution_count": 94,
   "id": "483d11a8",
   "metadata": {},
   "outputs": [
    {
     "data": {
      "text/plain": [
       "'e'"
      ]
     },
     "execution_count": 94,
     "metadata": {},
     "output_type": "execute_result"
    }
   ],
   "source": [
    "a.pop(4)"
   ]
  },
  {
   "cell_type": "code",
   "execution_count": 95,
   "id": "fc7aff44",
   "metadata": {},
   "outputs": [
    {
     "data": {
      "text/plain": [
       "['a', 'b', 'c', 'd', 'f', 'g', 'h']"
      ]
     },
     "execution_count": 95,
     "metadata": {},
     "output_type": "execute_result"
    }
   ],
   "source": [
    "a"
   ]
  },
  {
   "cell_type": "markdown",
   "id": "5a97ea7d",
   "metadata": {},
   "source": [
    "### Choice"
   ]
  },
  {
   "cell_type": "code",
   "execution_count": 120,
   "id": "ba87b69a",
   "metadata": {},
   "outputs": [
    {
     "name": "stdout",
     "output_type": "stream",
     "text": [
      "['e', 'f']\n"
     ]
    }
   ],
   "source": [
    "a = ['a', 'b', 'c', 'd', 'e', 'f', 'g', 'h']\n",
    "hand = list(np.random.choice(a, size=2, replace=False, p=[.4, .1, .1, .1, .1, .1, .1, 0]))\n",
    "print(hand)"
   ]
  },
  {
   "cell_type": "code",
   "execution_count": 125,
   "id": "3522cd1d",
   "metadata": {},
   "outputs": [
    {
     "data": {
      "text/plain": [
       "array([3, 0])"
      ]
     },
     "execution_count": 125,
     "metadata": {},
     "output_type": "execute_result"
    }
   ],
   "source": [
    "b = [(1, 2), (4, 5), (6, 5), (4, 6)]\n",
    "np.random.choice(range(len(b)), size=2, replace=False)"
   ]
  },
  {
   "cell_type": "code",
   "execution_count": 132,
   "id": "a2fffa4f",
   "metadata": {},
   "outputs": [],
   "source": [
    "def serve_hand_shuffle(deck: list) -> list:\n",
    "    hand = []\n",
    "    np.random.shuffle(deck)\n",
    "    for i in range(2):\n",
    "        try:\n",
    "            card = deck.pop()\n",
    "            hand.append(card)\n",
    "        except:\n",
    "            return None\n",
    "    return hand"
   ]
  },
  {
   "cell_type": "code",
   "execution_count": 133,
   "id": "830ac6da",
   "metadata": {},
   "outputs": [],
   "source": [
    "def serve_hand_index(deck: list) -> list:\n",
    "    hand = []\n",
    "    for x in range(2):\n",
    "        try:\n",
    "            i = np.random.randint(0, len(deck))\n",
    "            card = deck.pop(i)\n",
    "            hand.append(card)\n",
    "        except:\n",
    "            return None\n",
    "    return hand"
   ]
  },
  {
   "cell_type": "code",
   "execution_count": 144,
   "id": "e11a3fac",
   "metadata": {},
   "outputs": [],
   "source": [
    "def serve_hand_choice(deck: list) -> list:\n",
    "    hand = []\n",
    "    card_indexes = np.random.choice(range(len(deck)), size=2, replace=False)\n",
    "    for i in card_indexes:\n",
    "        hand.append(deck[i])\n",
    "    return hand"
   ]
  },
  {
   "cell_type": "code",
   "execution_count": 150,
   "id": "f63d2b6b",
   "metadata": {},
   "outputs": [
    {
     "data": {
      "text/plain": [
       "[(6, 5), (4, 5)]"
      ]
     },
     "execution_count": 150,
     "metadata": {},
     "output_type": "execute_result"
    }
   ],
   "source": [
    "b = [(1, 2), (4, 5), (6, 5), (4, 6)]\n",
    "serve_hand_choice(b)"
   ]
  },
  {
   "cell_type": "markdown",
   "id": "dddadf62",
   "metadata": {},
   "source": [
    "## Dictionary"
   ]
  },
  {
   "cell_type": "code",
   "execution_count": 156,
   "id": "9aa1b79e",
   "metadata": {},
   "outputs": [],
   "source": [
    "demo_dict = {'nome': 'Alfio', 'cognome': 'Ferrara'}"
   ]
  },
  {
   "cell_type": "code",
   "execution_count": 162,
   "id": "42581dbd",
   "metadata": {},
   "outputs": [],
   "source": [
    "demo_dict['eta'] = 34"
   ]
  },
  {
   "cell_type": "code",
   "execution_count": 163,
   "id": "8d9c7f16",
   "metadata": {},
   "outputs": [
    {
     "data": {
      "text/plain": [
       "{'nome': 'Alfio', 'cognome': 'Rossi', 'eta': 34}"
      ]
     },
     "execution_count": 163,
     "metadata": {},
     "output_type": "execute_result"
    }
   ],
   "source": [
    "demo_dict"
   ]
  },
  {
   "cell_type": "code",
   "execution_count": 167,
   "id": "33eb9309",
   "metadata": {},
   "outputs": [
    {
     "data": {
      "text/plain": [
       "[('nome', 'Alfio'), ('cognome', 'Rossi'), ('eta', 34)]"
      ]
     },
     "execution_count": 167,
     "metadata": {},
     "output_type": "execute_result"
    }
   ],
   "source": [
    "list(demo_dict.items())"
   ]
  },
  {
   "cell_type": "markdown",
   "id": "a6f0c40f",
   "metadata": {},
   "source": [
    "### Dictionary as counter"
   ]
  },
  {
   "cell_type": "code",
   "execution_count": 168,
   "id": "93100e94",
   "metadata": {},
   "outputs": [],
   "source": [
    "nums = np.random.randint(0, 10, size=100)\n",
    "stats = {}\n",
    "for n in nums:\n",
    "    if n in stats.keys():\n",
    "        stats[n] += 1\n",
    "    else:\n",
    "        stats[n] = 1"
   ]
  },
  {
   "cell_type": "code",
   "execution_count": 173,
   "id": "47841f40",
   "metadata": {},
   "outputs": [],
   "source": [
    "nums = np.random.randint(0, 10, size=100)\n",
    "stats = {}\n",
    "for n in nums:\n",
    "    try:\n",
    "        stats[n] = stats[n] +  1\n",
    "    except KeyError:\n",
    "        stats[n] = 1"
   ]
  },
  {
   "cell_type": "code",
   "execution_count": 174,
   "id": "a67b6ab7",
   "metadata": {},
   "outputs": [
    {
     "name": "stdout",
     "output_type": "stream",
     "text": [
      "1 7\n",
      "2 10\n",
      "6 11\n",
      "8 7\n",
      "7 12\n",
      "4 14\n",
      "5 7\n",
      "3 9\n",
      "9 10\n",
      "0 13\n"
     ]
    }
   ],
   "source": [
    "for k, v in stats.items():\n",
    "    print(k, v)"
   ]
  },
  {
   "cell_type": "markdown",
   "id": "0b3e7870",
   "metadata": {},
   "source": [
    "## Recap of tuples, lists, dictionaries and sets"
   ]
  },
  {
   "cell_type": "code",
   "execution_count": 8,
   "id": "b7eb7499",
   "metadata": {},
   "outputs": [],
   "source": [
    "import numpy as np"
   ]
  },
  {
   "cell_type": "code",
   "execution_count": 9,
   "id": "292811d8",
   "metadata": {},
   "outputs": [],
   "source": [
    "a = list(np.random.randint(0, 100, size=10))\n",
    "b = list(np.random.randint(0, 100, size=10))"
   ]
  },
  {
   "cell_type": "code",
   "execution_count": 47,
   "id": "07c8f1a0",
   "metadata": {},
   "outputs": [
    {
     "name": "stdout",
     "output_type": "stream",
     "text": [
      "<class 'list'> <class 'list'>\n"
     ]
    }
   ],
   "source": [
    "print(type(a), type(b))"
   ]
  },
  {
   "cell_type": "code",
   "execution_count": 10,
   "id": "dedeb451",
   "metadata": {},
   "outputs": [
    {
     "name": "stdout",
     "output_type": "stream",
     "text": [
      "[98, 60, 78, 85, 47, 20, 59, 69, 1, 60]\n",
      "[74, 87, 44, 94, 73, 13, 27, 99, 32, 52]\n"
     ]
    }
   ],
   "source": [
    "print(a)\n",
    "print(b)"
   ]
  },
  {
   "cell_type": "code",
   "execution_count": 20,
   "id": "2e8b0055",
   "metadata": {},
   "outputs": [
    {
     "name": "stdout",
     "output_type": "stream",
     "text": [
      "98 74\n",
      "60 87\n",
      "78 44\n",
      "85 94\n",
      "47 73\n",
      "20 13\n",
      "59 27\n",
      "69 99\n",
      "1 32\n",
      "60 52\n"
     ]
    }
   ],
   "source": [
    "for x, y in zip(a, b):\n",
    "    print(x, y)"
   ]
  },
  {
   "cell_type": "code",
   "execution_count": 24,
   "id": "dc9008db",
   "metadata": {},
   "outputs": [
    {
     "name": "stdout",
     "output_type": "stream",
     "text": [
      "98 74\n",
      "60 87\n",
      "78 44\n",
      "85 94\n",
      "47 73\n",
      "20 13\n",
      "59 27\n",
      "69 99\n",
      "1 32\n",
      "60 52\n"
     ]
    }
   ],
   "source": [
    "for i, x in enumerate(a):\n",
    "    print(x, b[i])"
   ]
  },
  {
   "cell_type": "code",
   "execution_count": 25,
   "id": "aa981691",
   "metadata": {},
   "outputs": [],
   "source": [
    "d = dict(zip(a, b))"
   ]
  },
  {
   "cell_type": "code",
   "execution_count": 29,
   "id": "f34e3767",
   "metadata": {},
   "outputs": [],
   "source": [
    "d[101] = 0"
   ]
  },
  {
   "cell_type": "code",
   "execution_count": 35,
   "id": "7a2e910b",
   "metadata": {},
   "outputs": [
    {
     "name": "stdout",
     "output_type": "stream",
     "text": [
      "chiave 98, valore 74\n",
      "chiave 60, valore 52\n",
      "chiave 78, valore 44\n",
      "chiave 85, valore 94\n",
      "chiave 47, valore 73\n",
      "chiave 20, valore 13\n",
      "chiave 59, valore 27\n",
      "chiave 69, valore 99\n",
      "chiave 1, valore 32\n",
      "chiave 101, valore 0\n"
     ]
    }
   ],
   "source": [
    "for k, v in d.items():\n",
    "    print('chiave {}, valore {}'.format(k, v))"
   ]
  },
  {
   "cell_type": "code",
   "execution_count": 44,
   "id": "53785f3e",
   "metadata": {},
   "outputs": [],
   "source": [
    "s = set(a)\n",
    "j = set(b + [60])"
   ]
  },
  {
   "cell_type": "code",
   "execution_count": 45,
   "id": "79368b99",
   "metadata": {},
   "outputs": [
    {
     "name": "stdout",
     "output_type": "stream",
     "text": [
      "{1, 98, 69, 78, 47, 20, 85, 59, 60}\n",
      "{32, 99, 73, 74, 44, 13, 52, 87, 27, 60, 94}\n"
     ]
    }
   ],
   "source": [
    "print(s)\n",
    "print(j)"
   ]
  },
  {
   "cell_type": "code",
   "execution_count": 46,
   "id": "c80ae722",
   "metadata": {},
   "outputs": [
    {
     "name": "stdout",
     "output_type": "stream",
     "text": [
      "{60}\n",
      "{1, 69, 73, 74, 13, 78, 20, 85, 87, 27, 94, 32, 98, 99, 44, 47, 52, 59, 60}\n",
      "{1, 98, 69, 78, 47, 20, 85, 59}\n"
     ]
    }
   ],
   "source": [
    "print(s.intersection(j))\n",
    "print(s.union(j))\n",
    "print(s.difference(j))"
   ]
  },
  {
   "cell_type": "code",
   "execution_count": null,
   "id": "3163196c",
   "metadata": {},
   "outputs": [],
   "source": []
  }
 ],
 "metadata": {
  "kernelspec": {
   "display_name": "Python 3 (ipykernel)",
   "language": "python",
   "name": "python3"
  },
  "language_info": {
   "codemirror_mode": {
    "name": "ipython",
    "version": 3
   },
   "file_extension": ".py",
   "mimetype": "text/x-python",
   "name": "python",
   "nbconvert_exporter": "python",
   "pygments_lexer": "ipython3",
   "version": "3.8.8"
  },
  "toc": {
   "base_numbering": 1,
   "nav_menu": {},
   "number_sections": true,
   "sideBar": true,
   "skip_h1_title": false,
   "title_cell": "Table of Contents",
   "title_sidebar": "Contents",
   "toc_cell": false,
   "toc_position": {},
   "toc_section_display": true,
   "toc_window_display": false
  }
 },
 "nbformat": 4,
 "nbformat_minor": 5
}
