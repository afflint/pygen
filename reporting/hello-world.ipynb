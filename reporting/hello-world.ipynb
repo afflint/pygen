{
 "cells": [
  {
   "cell_type": "markdown",
   "id": "051d0a72",
   "metadata": {},
   "source": [
    "# Introduction to dynamic typing"
   ]
  },
  {
   "cell_type": "markdown",
   "id": "decb99a2",
   "metadata": {},
   "source": [
    "## Conditionals"
   ]
  },
  {
   "cell_type": "markdown",
   "id": "c2b43177",
   "metadata": {},
   "source": [
    "```\n",
    "if condizione:\n",
    "    codice da eseguire se condizione è True\n",
    "elif altra condizione:\n",
    "    codice da eseguire se altra condizione è True\n",
    "else:\n",
    "    codice da eseguire altrimenti\n",
    "```"
   ]
  },
  {
   "cell_type": "code",
   "execution_count": 2,
   "id": "7a68d575",
   "metadata": {},
   "outputs": [
    {
     "name": "stdout",
     "output_type": "stream",
     "text": [
      "Seconda età\n"
     ]
    }
   ],
   "source": [
    "age = 34\n",
    "if age <= 20:\n",
    "    print('Prima età')\n",
    "elif 20 < age <= 60:\n",
    "    print('Seconda età')\n",
    "else:\n",
    "    print('Terza età')"
   ]
  },
  {
   "cell_type": "markdown",
   "id": "8ba03931",
   "metadata": {},
   "source": [
    "## List comprehension"
   ]
  },
  {
   "cell_type": "code",
   "execution_count": 9,
   "id": "c55e5db9",
   "metadata": {},
   "outputs": [],
   "source": [
    "even = [x for x in range(0, 10001) if x % 2 == 0]"
   ]
  },
  {
   "cell_type": "code",
   "execution_count": 10,
   "id": "eb3e9346",
   "metadata": {},
   "outputs": [
    {
     "name": "stdout",
     "output_type": "stream",
     "text": [
      "1.2\n",
      "1\n",
      "1\n"
     ]
    }
   ],
   "source": [
    "print(6 / 5)\n",
    "print(6 // 5)\n",
    "print(6 % 5)"
   ]
  },
  {
   "cell_type": "markdown",
   "id": "e56e40f7",
   "metadata": {},
   "source": [
    "## Cycles"
   ]
  },
  {
   "cell_type": "code",
   "execution_count": 12,
   "id": "abd81937",
   "metadata": {},
   "outputs": [],
   "source": [
    "s = 0\n",
    "even = []\n",
    "while s <= 100:\n",
    "    even.append(s)\n",
    "    s += 2"
   ]
  },
  {
   "cell_type": "code",
   "execution_count": 16,
   "id": "a2991c3a",
   "metadata": {},
   "outputs": [],
   "source": [
    "even_square = []\n",
    "for num in even:\n",
    "    even_square.append(num**2)"
   ]
  },
  {
   "cell_type": "markdown",
   "id": "7d9df7b0",
   "metadata": {},
   "source": [
    "### Break"
   ]
  },
  {
   "cell_type": "code",
   "execution_count": 18,
   "id": "fe0d3892",
   "metadata": {},
   "outputs": [
    {
     "name": "stdout",
     "output_type": "stream",
     "text": [
      "0\n",
      "10\n",
      "20\n",
      "30\n",
      "40\n",
      "50\n",
      "60\n",
      "70\n",
      "80\n",
      "90\n",
      "100\n"
     ]
    }
   ],
   "source": [
    "c = 0\n",
    "while True:\n",
    "    print(c)\n",
    "    c += 10\n",
    "    if c > 100:\n",
    "        break"
   ]
  },
  {
   "cell_type": "code",
   "execution_count": null,
   "id": "e2adaf56",
   "metadata": {},
   "outputs": [],
   "source": []
  }
 ],
 "metadata": {
  "kernelspec": {
   "display_name": "Python 3 (ipykernel)",
   "language": "python",
   "name": "python3"
  },
  "language_info": {
   "codemirror_mode": {
    "name": "ipython",
    "version": 3
   },
   "file_extension": ".py",
   "mimetype": "text/x-python",
   "name": "python",
   "nbconvert_exporter": "python",
   "pygments_lexer": "ipython3",
   "version": "3.8.8"
  },
  "toc": {
   "base_numbering": 1,
   "nav_menu": {},
   "number_sections": true,
   "sideBar": true,
   "skip_h1_title": false,
   "title_cell": "Table of Contents",
   "title_sidebar": "Contents",
   "toc_cell": false,
   "toc_position": {},
   "toc_section_display": true,
   "toc_window_display": false
  }
 },
 "nbformat": 4,
 "nbformat_minor": 5
}
