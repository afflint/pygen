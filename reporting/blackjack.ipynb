{
 "cells": [
  {
   "cell_type": "markdown",
   "id": "40fe3cbf",
   "metadata": {},
   "source": [
    "# Blackjack playground\n",
    "\n",
    "- mazzo di carte\n",
    "- carte\n",
    "- giocatore\n",
    "- banco\n",
    "- flusso di gioco"
   ]
  },
  {
   "cell_type": "markdown",
   "id": "73139123",
   "metadata": {},
   "source": [
    "## Carta da gioco\n",
    "- seme (seed) => str\n",
    "- surface value (A, 2-10, J, Q, K) => str\n",
    "- *game value*"
   ]
  },
  {
   "cell_type": "markdown",
   "id": "d638bda3",
   "metadata": {},
   "source": [
    "## Tuple and Lists"
   ]
  },
  {
   "cell_type": "code",
   "execution_count": 54,
   "id": "b2ac8fbe",
   "metadata": {},
   "outputs": [],
   "source": [
    "def create_deck(range_limit: int = 11, symbols: list = None, \n",
    "                seeds: tuple = None):\n",
    "    if seeds is None:\n",
    "        seeds = ('C', 'Q', 'F', 'P')\n",
    "    if symbols is None:\n",
    "        symbols = ['A', 'J', 'K', 'Q']\n",
    "    surface_values = [str(x) for x in range(2, range_limit)]\n",
    "    surface_values += symbols\n",
    "    seeds = seeds\n",
    "    deck = []\n",
    "    for s_value in surface_values:\n",
    "        chunk = [(s_value, seed) for seed in seeds]\n",
    "        deck.extend(chunk)\n",
    "    return deck"
   ]
  },
  {
   "cell_type": "code",
   "execution_count": 59,
   "id": "dc1aad4d",
   "metadata": {},
   "outputs": [],
   "source": [
    "deck = create_deck()"
   ]
  },
  {
   "cell_type": "code",
   "execution_count": 60,
   "id": "ae005e64",
   "metadata": {},
   "outputs": [
    {
     "name": "stdout",
     "output_type": "stream",
     "text": [
      "[('2', 'C'), ('2', 'Q'), ('2', 'F'), ('2', 'P'), ('3', 'C'), ('3', 'Q'), ('3', 'F'), ('3', 'P'), ('4', 'C'), ('4', 'Q'), ('4', 'F'), ('4', 'P'), ('5', 'C'), ('5', 'Q'), ('5', 'F'), ('5', 'P'), ('6', 'C'), ('6', 'Q'), ('6', 'F'), ('6', 'P'), ('7', 'C'), ('7', 'Q'), ('7', 'F'), ('7', 'P'), ('A', 'C'), ('A', 'Q'), ('A', 'F'), ('A', 'P'), ('J', 'C'), ('J', 'Q'), ('J', 'F'), ('J', 'P'), ('K', 'C'), ('K', 'Q'), ('K', 'F'), ('K', 'P'), ('Q', 'C'), ('Q', 'Q'), ('Q', 'F'), ('Q', 'P')]\n"
     ]
    }
   ],
   "source": [
    "print(deck)"
   ]
  },
  {
   "cell_type": "code",
   "execution_count": null,
   "id": "ee6da8f1",
   "metadata": {},
   "outputs": [],
   "source": []
  }
 ],
 "metadata": {
  "kernelspec": {
   "display_name": "Python 3 (ipykernel)",
   "language": "python",
   "name": "python3"
  },
  "language_info": {
   "codemirror_mode": {
    "name": "ipython",
    "version": 3
   },
   "file_extension": ".py",
   "mimetype": "text/x-python",
   "name": "python",
   "nbconvert_exporter": "python",
   "pygments_lexer": "ipython3",
   "version": "3.8.8"
  },
  "toc": {
   "base_numbering": 1,
   "nav_menu": {},
   "number_sections": true,
   "sideBar": true,
   "skip_h1_title": false,
   "title_cell": "Table of Contents",
   "title_sidebar": "Contents",
   "toc_cell": false,
   "toc_position": {},
   "toc_section_display": true,
   "toc_window_display": false
  }
 },
 "nbformat": 4,
 "nbformat_minor": 5
}
