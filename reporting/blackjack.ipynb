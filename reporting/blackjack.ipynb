{
 "cells": [
  {
   "cell_type": "markdown",
   "id": "b0c6b0b2",
   "metadata": {},
   "source": [
    "# Blackjack playground\n",
    "\n",
    "- mazzo di carte\n",
    "- carte\n",
    "- giocatore\n",
    "- banco\n",
    "- flusso di gioco"
   ]
  },
  {
   "cell_type": "markdown",
   "id": "1235b18b",
   "metadata": {},
   "source": [
    "## Carta da gioco\n",
    "- seme (seed) => str\n",
    "- surface value (A, 2-10, J, Q, K) => str\n",
    "- *game value*"
   ]
  },
  {
   "cell_type": "markdown",
   "id": "fc1bd0a3",
   "metadata": {},
   "source": [
    "### Decks"
   ]
  },
  {
   "cell_type": "code",
   "execution_count": null,
   "id": "15a0f03d",
   "metadata": {},
   "outputs": [],
   "source": [
    "# import cards.decks as dk\n",
    "import cards.decks as dk\n",
    "import numpy as np"
   ]
  },
  {
   "cell_type": "code",
   "execution_count": null,
   "id": "b533f316",
   "metadata": {},
   "outputs": [],
   "source": [
    "deck = dk.create_deck()"
   ]
  },
  {
   "cell_type": "markdown",
   "id": "429e18dd",
   "metadata": {},
   "source": [
    "## Distribution of values\n",
    "### shuffle\n",
    "- shuffle deck\n",
    "- serve cards"
   ]
  },
  {
   "cell_type": "code",
   "execution_count": null,
   "id": "21f55a8e",
   "metadata": {},
   "outputs": [],
   "source": [
    "hand = dk.serve_hand_shuffle(deck)\n",
    "print(hand)"
   ]
  },
  {
   "cell_type": "markdown",
   "id": "a0e12953",
   "metadata": {},
   "source": [
    "### random pick\n",
    "- generate random number (index of card in deck)\n",
    "- serve card with the extracted index"
   ]
  },
  {
   "cell_type": "code",
   "execution_count": null,
   "id": "ac5ca6f1",
   "metadata": {},
   "outputs": [],
   "source": [
    "hand = dk.serve_hand_index(deck)\n",
    "print(hand)"
   ]
  },
  {
   "cell_type": "markdown",
   "id": "1b7251c6",
   "metadata": {},
   "source": [
    "## Statistics\n",
    "- generare molte mani di carte\n",
    "- per ogni mano di carte (due carte) vogliamo calcolarne il valore di gioco\n",
    "- per ogni valore ottenuto, contare quante volte si è verificato"
   ]
  },
  {
   "cell_type": "code",
   "execution_count": null,
   "id": "276a5302",
   "metadata": {},
   "outputs": [],
   "source": [
    "many_hands = dk.serve_many_hands(deck, number_of_hands=10000)"
   ]
  },
  {
   "cell_type": "code",
   "execution_count": null,
   "id": "8aa895b1",
   "metadata": {},
   "outputs": [],
   "source": [
    "stats = {}\n",
    "for hand in many_hands:\n",
    "    v = dk.blackjack_hand_value(hand)\n",
    "    try:\n",
    "        stats[v] += 1\n",
    "    except KeyError:\n",
    "        stats[v] = 1"
   ]
  },
  {
   "cell_type": "code",
   "execution_count": null,
   "id": "dcb280b3",
   "metadata": {},
   "outputs": [],
   "source": [
    "total = sum(stats.values())\n",
    "for value, occurrences in stats.items():\n",
    "    print(value, 100*occurrences / total)"
   ]
  },
  {
   "cell_type": "code",
   "execution_count": null,
   "id": "322e3154",
   "metadata": {},
   "outputs": [],
   "source": []
  }
 ],
 "metadata": {
  "kernelspec": {
   "display_name": "Python 3 (ipykernel)",
   "language": "python",
   "name": "python3"
  },
  "language_info": {
   "codemirror_mode": {
    "name": "ipython",
    "version": 3
   },
   "file_extension": ".py",
   "mimetype": "text/x-python",
   "name": "python",
   "nbconvert_exporter": "python",
   "pygments_lexer": "ipython3",
   "version": "3.8.8"
  },
  "toc": {
   "base_numbering": 1,
   "nav_menu": {},
   "number_sections": true,
   "sideBar": true,
   "skip_h1_title": false,
   "title_cell": "Table of Contents",
   "title_sidebar": "Contents",
   "toc_cell": false,
   "toc_position": {},
   "toc_section_display": true,
   "toc_window_display": false
  }
 },
 "nbformat": 4,
 "nbformat_minor": 5
}
