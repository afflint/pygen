{
 "cells": [
  {
   "cell_type": "markdown",
   "id": "b0c6b0b2",
   "metadata": {},
   "source": [
    "# Blackjack playground\n",
    "\n",
    "- mazzo di carte\n",
    "- carte\n",
    "- giocatore\n",
    "- banco\n",
    "- flusso di gioco"
   ]
  },
  {
   "cell_type": "markdown",
   "id": "1235b18b",
   "metadata": {},
   "source": [
    "## Carta da gioco\n",
    "- seme (seed) => str\n",
    "- surface value (A, 2-10, J, Q, K) => str\n",
    "- *game value*"
   ]
  },
  {
   "cell_type": "markdown",
   "id": "fc1bd0a3",
   "metadata": {},
   "source": [
    "### Decks"
   ]
  },
  {
   "cell_type": "code",
   "execution_count": 3,
   "id": "15a0f03d",
   "metadata": {},
   "outputs": [],
   "source": [
    "# import cards.decks as dk\n",
    "from cards.decks import create_deck"
   ]
  },
  {
   "cell_type": "code",
   "execution_count": 4,
   "id": "b533f316",
   "metadata": {},
   "outputs": [],
   "source": [
    "deck = create_deck()"
   ]
  },
  {
   "cell_type": "code",
   "execution_count": null,
   "id": "2e4d7182",
   "metadata": {},
   "outputs": [],
   "source": [
    "print(deck)"
   ]
  },
  {
   "cell_type": "code",
   "execution_count": null,
   "id": "fe506cdc",
   "metadata": {},
   "outputs": [],
   "source": []
  }
 ],
 "metadata": {
  "kernelspec": {
   "display_name": "Python 3 (ipykernel)",
   "language": "python",
   "name": "python3"
  },
  "language_info": {
   "codemirror_mode": {
    "name": "ipython",
    "version": 3
   },
   "file_extension": ".py",
   "mimetype": "text/x-python",
   "name": "python",
   "nbconvert_exporter": "python",
   "pygments_lexer": "ipython3",
   "version": "3.8.8"
  },
  "toc": {
   "base_numbering": 1,
   "nav_menu": {},
   "number_sections": true,
   "sideBar": true,
   "skip_h1_title": false,
   "title_cell": "Table of Contents",
   "title_sidebar": "Contents",
   "toc_cell": false,
   "toc_position": {},
   "toc_section_display": true,
   "toc_window_display": false
  }
 },
 "nbformat": 4,
 "nbformat_minor": 5
}
