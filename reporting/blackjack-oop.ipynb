{
 "cells": [
  {
   "cell_type": "markdown",
   "id": "18c95267",
   "metadata": {},
   "source": [
    "# OOP implementation of the blackjack game"
   ]
  },
  {
   "cell_type": "code",
   "execution_count": 1,
   "id": "9b041041",
   "metadata": {},
   "outputs": [],
   "source": [
    "from cards.blackjack import Player, HumanPlayer, Dealer\n",
    "from cards.deck import BlackJackDeck"
   ]
  },
  {
   "cell_type": "code",
   "execution_count": 2,
   "id": "ce714699",
   "metadata": {},
   "outputs": [],
   "source": [
    "deck = BlackJackDeck()"
   ]
  },
  {
   "cell_type": "code",
   "execution_count": 3,
   "id": "1bff60b4",
   "metadata": {},
   "outputs": [],
   "source": [
    "p1 = HumanPlayer(name='A', initial_capital=200)\n",
    "p2 = HumanPlayer(name='B', initial_capital=200)"
   ]
  },
  {
   "cell_type": "code",
   "execution_count": 4,
   "id": "c66a3189",
   "metadata": {},
   "outputs": [],
   "source": [
    "dealer = Dealer(deck=deck, initial_capital=200)"
   ]
  },
  {
   "cell_type": "code",
   "execution_count": 5,
   "id": "59430609",
   "metadata": {},
   "outputs": [
    {
     "name": "stdout",
     "output_type": "stream",
     "text": [
      "A actual value: 11\t10\n",
      "B actual value: 9\t15\n"
     ]
    }
   ],
   "source": [
    "for p in [p1, p2]:\n",
    "    dealer.add_player(p)\n",
    "dealer.serve()\n",
    "dealer.collect_bets()"
   ]
  },
  {
   "cell_type": "code",
   "execution_count": 6,
   "id": "cddd84c2",
   "metadata": {},
   "outputs": [
    {
     "name": "stdout",
     "output_type": "stream",
     "text": [
      "A Actual value: 11\thit\n",
      "A Actual value: 17\tstay\n",
      "B Actual value: 9\thit\n",
      "B Actual value: 17\thit\n",
      "B Actual value: 20\tstay\n"
     ]
    }
   ],
   "source": [
    "dealer.game()"
   ]
  },
  {
   "cell_type": "code",
   "execution_count": 7,
   "id": "38a936e4",
   "metadata": {},
   "outputs": [
    {
     "name": "stdout",
     "output_type": "stream",
     "text": [
      "[K-P, 3-F, 8-P] 21\n"
     ]
    }
   ],
   "source": [
    "print(dealer.hand, dealer.value_hand())"
   ]
  },
  {
   "cell_type": "code",
   "execution_count": 8,
   "id": "7ccf99f2",
   "metadata": {},
   "outputs": [],
   "source": [
    "dealer.pay()"
   ]
  },
  {
   "cell_type": "code",
   "execution_count": 9,
   "id": "3295feb7",
   "metadata": {},
   "outputs": [
    {
     "data": {
      "text/plain": [
       "225.0"
      ]
     },
     "execution_count": 9,
     "metadata": {},
     "output_type": "execute_result"
    }
   ],
   "source": [
    "dealer.capital"
   ]
  },
  {
   "cell_type": "code",
   "execution_count": 10,
   "id": "f8b2843a",
   "metadata": {},
   "outputs": [
    {
     "name": "stdout",
     "output_type": "stream",
     "text": [
      "190.0\n",
      "185.0\n"
     ]
    }
   ],
   "source": [
    "for p in [p1, p2]:\n",
    "    print(p.capital)"
   ]
  },
  {
   "cell_type": "code",
   "execution_count": null,
   "id": "1ebf79fc",
   "metadata": {},
   "outputs": [],
   "source": []
  }
 ],
 "metadata": {
  "kernelspec": {
   "display_name": "Python 3 (ipykernel)",
   "language": "python",
   "name": "python3"
  },
  "language_info": {
   "codemirror_mode": {
    "name": "ipython",
    "version": 3
   },
   "file_extension": ".py",
   "mimetype": "text/x-python",
   "name": "python",
   "nbconvert_exporter": "python",
   "pygments_lexer": "ipython3",
   "version": "3.8.8"
  },
  "toc": {
   "base_numbering": 1,
   "nav_menu": {},
   "number_sections": true,
   "sideBar": true,
   "skip_h1_title": false,
   "title_cell": "Table of Contents",
   "title_sidebar": "Contents",
   "toc_cell": false,
   "toc_position": {},
   "toc_section_display": true,
   "toc_window_display": false
  }
 },
 "nbformat": 4,
 "nbformat_minor": 5
}
