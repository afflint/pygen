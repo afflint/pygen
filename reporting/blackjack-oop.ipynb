{
 "cells": [
  {
   "cell_type": "markdown",
   "id": "18c95267",
   "metadata": {},
   "source": [
    "# OOP implementation of the blackjack game"
   ]
  },
  {
   "cell_type": "code",
   "execution_count": 1,
   "id": "9b041041",
   "metadata": {},
   "outputs": [],
   "source": [
    "from cards.blackjack import Player, HumanPlayer\n",
    "from cards.deck import BlackJackDeck"
   ]
  },
  {
   "cell_type": "code",
   "execution_count": 2,
   "id": "ce714699",
   "metadata": {},
   "outputs": [],
   "source": [
    "deck = BlackJackDeck()"
   ]
  },
  {
   "cell_type": "code",
   "execution_count": 3,
   "id": "1bff60b4",
   "metadata": {},
   "outputs": [],
   "source": [
    "p1 = HumanPlayer(name='Primo giocatore', initial_capital=200)"
   ]
  },
  {
   "cell_type": "code",
   "execution_count": 4,
   "id": "c66a3189",
   "metadata": {},
   "outputs": [
    {
     "name": "stdout",
     "output_type": "stream",
     "text": [
      "Actual value: 0\thit\n",
      "Actual value: 10\thit\n",
      "Actual value: 20\thit\n"
     ]
    }
   ],
   "source": [
    "p1.play(deck)"
   ]
  },
  {
   "cell_type": "code",
   "execution_count": 6,
   "id": "59430609",
   "metadata": {},
   "outputs": [
    {
     "data": {
      "text/plain": [
       "False"
      ]
     },
     "execution_count": 6,
     "metadata": {},
     "output_type": "execute_result"
    }
   ],
   "source": [
    "p1.status_in_game"
   ]
  },
  {
   "cell_type": "code",
   "execution_count": null,
   "id": "f3f6e925",
   "metadata": {},
   "outputs": [],
   "source": []
  },
  {
   "cell_type": "code",
   "execution_count": null,
   "id": "7ccf99f2",
   "metadata": {},
   "outputs": [],
   "source": []
  }
 ],
 "metadata": {
  "kernelspec": {
   "display_name": "Python 3 (ipykernel)",
   "language": "python",
   "name": "python3"
  },
  "language_info": {
   "codemirror_mode": {
    "name": "ipython",
    "version": 3
   },
   "file_extension": ".py",
   "mimetype": "text/x-python",
   "name": "python",
   "nbconvert_exporter": "python",
   "pygments_lexer": "ipython3",
   "version": "3.8.8"
  },
  "toc": {
   "base_numbering": 1,
   "nav_menu": {},
   "number_sections": true,
   "sideBar": true,
   "skip_h1_title": false,
   "title_cell": "Table of Contents",
   "title_sidebar": "Contents",
   "toc_cell": false,
   "toc_position": {},
   "toc_section_display": true,
   "toc_window_display": false
  }
 },
 "nbformat": 4,
 "nbformat_minor": 5
}
