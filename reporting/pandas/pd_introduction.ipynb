{
 "cells": [
  {
   "cell_type": "markdown",
   "metadata": {},
   "source": [
    "# High-level introduction to <code>pandas</code>\n",
    "For a more complete introduction to <code>pandas</code>, see [https://pandas.pydata.org/](https://pandas.pydata.org/)."
   ]
  },
  {
   "cell_type": "code",
   "execution_count": 1,
   "metadata": {},
   "outputs": [],
   "source": [
    "import pandas as pd\n",
    "import numpy as np\n",
    "import matplotlib.pyplot as plt"
   ]
  },
  {
   "cell_type": "markdown",
   "metadata": {},
   "source": [
    "Let's start from a dictionary"
   ]
  },
  {
   "cell_type": "code",
   "execution_count": 20,
   "metadata": {},
   "outputs": [],
   "source": [
    "data = {\n",
    "    'normal': np.random.normal(),\n",
    "    'poisson': np.random.poisson(),\n",
    "    'power': np.random.power(4),\n",
    "    'test': .4\n",
    "}"
   ]
  },
  {
   "cell_type": "code",
   "execution_count": 21,
   "metadata": {},
   "outputs": [
    {
     "data": {
      "text/plain": [
       "{'normal': -1.6819264871938433,\n",
       " 'poisson': 0,\n",
       " 'power': 0.7334288857032495,\n",
       " 'test': 0.4}"
      ]
     },
     "execution_count": 21,
     "metadata": {},
     "output_type": "execute_result"
    }
   ],
   "source": [
    "data"
   ]
  },
  {
   "cell_type": "code",
   "execution_count": 22,
   "metadata": {},
   "outputs": [],
   "source": [
    "s = pd.Series(data)"
   ]
  },
  {
   "cell_type": "code",
   "execution_count": 73,
   "metadata": {},
   "outputs": [],
   "source": [
    "x = pd.Series(np.random.normal(size=10), index=[\"A{}\".format(i) for i in range(1, 11)])\n",
    "y = pd.Series(np.random.normal(size=10), index=[\"A{}\".format(i) for i in range(1, 11)])\n",
    "z = pd.Series(np.random.normal(size=10), index=[\"A{}\".format(i+1) for i in range(1, 11)])"
   ]
  },
  {
   "cell_type": "code",
   "execution_count": 74,
   "metadata": {},
   "outputs": [
    {
     "data": {
      "text/plain": [
       "A1    -1.481735\n",
       "A2    -0.530766\n",
       "A3     0.741117\n",
       "A4    -0.236254\n",
       "A5     0.324146\n",
       "A6     0.065857\n",
       "A7     1.101097\n",
       "A8    -2.149840\n",
       "A9    -0.112824\n",
       "A10   -1.435166\n",
       "dtype: float64"
      ]
     },
     "execution_count": 74,
     "metadata": {},
     "output_type": "execute_result"
    }
   ],
   "source": [
    "x"
   ]
  },
  {
   "cell_type": "code",
   "execution_count": 75,
   "metadata": {},
   "outputs": [
    {
     "data": {
      "text/plain": [
       "A2    -0.665768\n",
       "A3    -1.137023\n",
       "A4    -0.944024\n",
       "A5     1.480276\n",
       "A6     1.866718\n",
       "A7    -0.087496\n",
       "A8     0.082559\n",
       "A9    -2.368238\n",
       "A10   -0.849144\n",
       "A11   -1.323347\n",
       "dtype: float64"
      ]
     },
     "execution_count": 75,
     "metadata": {},
     "output_type": "execute_result"
    }
   ],
   "source": [
    "z"
   ]
  },
  {
   "cell_type": "markdown",
   "metadata": {},
   "source": [
    "## DataFrame"
   ]
  },
  {
   "cell_type": "code",
   "execution_count": 82,
   "metadata": {},
   "outputs": [],
   "source": [
    "df = pd.DataFrame([x, y, z], index=['K', 'J', 'N']).T"
   ]
  },
  {
   "cell_type": "code",
   "execution_count": 85,
   "metadata": {},
   "outputs": [
    {
     "data": {
      "text/html": [
       "<div>\n",
       "<style scoped>\n",
       "    .dataframe tbody tr th:only-of-type {\n",
       "        vertical-align: middle;\n",
       "    }\n",
       "\n",
       "    .dataframe tbody tr th {\n",
       "        vertical-align: top;\n",
       "    }\n",
       "\n",
       "    .dataframe thead th {\n",
       "        text-align: right;\n",
       "    }\n",
       "</style>\n",
       "<table border=\"1\" class=\"dataframe\">\n",
       "  <thead>\n",
       "    <tr style=\"text-align: right;\">\n",
       "      <th></th>\n",
       "      <th>K</th>\n",
       "      <th>J</th>\n",
       "      <th>N</th>\n",
       "    </tr>\n",
       "  </thead>\n",
       "  <tbody>\n",
       "    <tr>\n",
       "      <th>A1</th>\n",
       "      <td>-1.481735</td>\n",
       "      <td>0.344560</td>\n",
       "      <td>-0.394549</td>\n",
       "    </tr>\n",
       "    <tr>\n",
       "      <th>A2</th>\n",
       "      <td>-0.530766</td>\n",
       "      <td>0.042843</td>\n",
       "      <td>-0.665768</td>\n",
       "    </tr>\n",
       "    <tr>\n",
       "      <th>A3</th>\n",
       "      <td>0.741117</td>\n",
       "      <td>-0.029433</td>\n",
       "      <td>-1.137023</td>\n",
       "    </tr>\n",
       "    <tr>\n",
       "      <th>A4</th>\n",
       "      <td>-0.236254</td>\n",
       "      <td>1.609100</td>\n",
       "      <td>-0.944024</td>\n",
       "    </tr>\n",
       "    <tr>\n",
       "      <th>A5</th>\n",
       "      <td>0.324146</td>\n",
       "      <td>0.410940</td>\n",
       "      <td>1.480276</td>\n",
       "    </tr>\n",
       "    <tr>\n",
       "      <th>A6</th>\n",
       "      <td>0.065857</td>\n",
       "      <td>0.407629</td>\n",
       "      <td>1.866718</td>\n",
       "    </tr>\n",
       "    <tr>\n",
       "      <th>A7</th>\n",
       "      <td>1.101097</td>\n",
       "      <td>1.249623</td>\n",
       "      <td>-0.087496</td>\n",
       "    </tr>\n",
       "    <tr>\n",
       "      <th>A8</th>\n",
       "      <td>-2.149840</td>\n",
       "      <td>0.935750</td>\n",
       "      <td>0.082559</td>\n",
       "    </tr>\n",
       "    <tr>\n",
       "      <th>A9</th>\n",
       "      <td>-0.112824</td>\n",
       "      <td>0.118366</td>\n",
       "      <td>-2.368238</td>\n",
       "    </tr>\n",
       "    <tr>\n",
       "      <th>A10</th>\n",
       "      <td>-1.435166</td>\n",
       "      <td>-0.154789</td>\n",
       "      <td>-0.849144</td>\n",
       "    </tr>\n",
       "    <tr>\n",
       "      <th>A11</th>\n",
       "      <td>-0.371437</td>\n",
       "      <td>0.493459</td>\n",
       "      <td>-1.323347</td>\n",
       "    </tr>\n",
       "  </tbody>\n",
       "</table>\n",
       "</div>"
      ],
      "text/plain": [
       "            K         J         N\n",
       "A1  -1.481735  0.344560 -0.394549\n",
       "A2  -0.530766  0.042843 -0.665768\n",
       "A3   0.741117 -0.029433 -1.137023\n",
       "A4  -0.236254  1.609100 -0.944024\n",
       "A5   0.324146  0.410940  1.480276\n",
       "A6   0.065857  0.407629  1.866718\n",
       "A7   1.101097  1.249623 -0.087496\n",
       "A8  -2.149840  0.935750  0.082559\n",
       "A9  -0.112824  0.118366 -2.368238\n",
       "A10 -1.435166 -0.154789 -0.849144\n",
       "A11 -0.371437  0.493459 -1.323347"
      ]
     },
     "execution_count": 85,
     "metadata": {},
     "output_type": "execute_result"
    }
   ],
   "source": [
    "df.fillna(df.mean())"
   ]
  },
  {
   "cell_type": "markdown",
   "metadata": {},
   "source": [
    "## Create from dictionaries"
   ]
  },
  {
   "cell_type": "code",
   "execution_count": 87,
   "metadata": {},
   "outputs": [
    {
     "name": "stdout",
     "output_type": "stream",
     "text": [
      "{'normal': 0.4968019506553213, 'poisson': 0, 'power': 0.7736863493930786, 'test': 0.4}\n"
     ]
    }
   ],
   "source": [
    "data_list = []\n",
    "for i in range(4):\n",
    "    d = {\n",
    "        'normal': np.random.normal(),\n",
    "        'poisson': np.random.poisson(),\n",
    "        'power': np.random.power(4),\n",
    "        'test': .4\n",
    "    }\n",
    "    data_list.append(d)"
   ]
  },
  {
   "cell_type": "code",
   "execution_count": 88,
   "metadata": {},
   "outputs": [],
   "source": [
    "data_list = [{\n",
    "    'normal': np.random.normal(),\n",
    "    'poisson': np.random.poisson(),\n",
    "    'power': np.random.power(4),\n",
    "    'test': .4\n",
    "} for i in range(4)]"
   ]
  },
  {
   "cell_type": "code",
   "execution_count": 91,
   "metadata": {},
   "outputs": [],
   "source": [
    "df = pd.DataFrame(data_list, index=[\"Esperimento {}\".format(i+1) for i in range(len(data_list))])"
   ]
  },
  {
   "cell_type": "code",
   "execution_count": 97,
   "metadata": {},
   "outputs": [
    {
     "data": {
      "text/html": [
       "<div>\n",
       "<style scoped>\n",
       "    .dataframe tbody tr th:only-of-type {\n",
       "        vertical-align: middle;\n",
       "    }\n",
       "\n",
       "    .dataframe tbody tr th {\n",
       "        vertical-align: top;\n",
       "    }\n",
       "\n",
       "    .dataframe thead th {\n",
       "        text-align: right;\n",
       "    }\n",
       "</style>\n",
       "<table border=\"1\" class=\"dataframe\">\n",
       "  <thead>\n",
       "    <tr style=\"text-align: right;\">\n",
       "      <th></th>\n",
       "      <th>normal</th>\n",
       "      <th>poisson</th>\n",
       "      <th>power</th>\n",
       "      <th>test</th>\n",
       "    </tr>\n",
       "  </thead>\n",
       "  <tbody>\n",
       "    <tr>\n",
       "      <th>Esperimento 1</th>\n",
       "      <td>-1.508587</td>\n",
       "      <td>0</td>\n",
       "      <td>0.927200</td>\n",
       "      <td>0.4</td>\n",
       "    </tr>\n",
       "    <tr>\n",
       "      <th>Esperimento 2</th>\n",
       "      <td>0.317827</td>\n",
       "      <td>0</td>\n",
       "      <td>0.843600</td>\n",
       "      <td>0.4</td>\n",
       "    </tr>\n",
       "    <tr>\n",
       "      <th>Esperimento 3</th>\n",
       "      <td>0.033654</td>\n",
       "      <td>1</td>\n",
       "      <td>0.985012</td>\n",
       "      <td>0.4</td>\n",
       "    </tr>\n",
       "    <tr>\n",
       "      <th>Esperimento 4</th>\n",
       "      <td>-0.106855</td>\n",
       "      <td>1</td>\n",
       "      <td>0.704291</td>\n",
       "      <td>0.4</td>\n",
       "    </tr>\n",
       "  </tbody>\n",
       "</table>\n",
       "</div>"
      ],
      "text/plain": [
       "                 normal  poisson     power  test\n",
       "Esperimento 1 -1.508587        0  0.927200   0.4\n",
       "Esperimento 2  0.317827        0  0.843600   0.4\n",
       "Esperimento 3  0.033654        1  0.985012   0.4\n",
       "Esperimento 4 -0.106855        1  0.704291   0.4"
      ]
     },
     "execution_count": 97,
     "metadata": {},
     "output_type": "execute_result"
    }
   ],
   "source": [
    "df"
   ]
  },
  {
   "cell_type": "code",
   "execution_count": 96,
   "metadata": {},
   "outputs": [
    {
     "data": {
      "text/html": [
       "<div>\n",
       "<style scoped>\n",
       "    .dataframe tbody tr th:only-of-type {\n",
       "        vertical-align: middle;\n",
       "    }\n",
       "\n",
       "    .dataframe tbody tr th {\n",
       "        vertical-align: top;\n",
       "    }\n",
       "\n",
       "    .dataframe thead th {\n",
       "        text-align: right;\n",
       "    }\n",
       "</style>\n",
       "<table border=\"1\" class=\"dataframe\">\n",
       "  <thead>\n",
       "    <tr style=\"text-align: right;\">\n",
       "      <th></th>\n",
       "      <th>power</th>\n",
       "      <th>test</th>\n",
       "    </tr>\n",
       "  </thead>\n",
       "  <tbody>\n",
       "    <tr>\n",
       "      <th>Esperimento 2</th>\n",
       "      <td>0.843600</td>\n",
       "      <td>0.4</td>\n",
       "    </tr>\n",
       "    <tr>\n",
       "      <th>Esperimento 3</th>\n",
       "      <td>0.985012</td>\n",
       "      <td>0.4</td>\n",
       "    </tr>\n",
       "  </tbody>\n",
       "</table>\n",
       "</div>"
      ],
      "text/plain": [
       "                  power  test\n",
       "Esperimento 2  0.843600   0.4\n",
       "Esperimento 3  0.985012   0.4"
      ]
     },
     "execution_count": 96,
     "metadata": {},
     "output_type": "execute_result"
    }
   ],
   "source": [
    "df.loc[['Esperimento 2', 'Esperimento 3']][['power', 'test']]"
   ]
  },
  {
   "cell_type": "markdown",
   "metadata": {},
   "source": [
    "## Selection"
   ]
  },
  {
   "cell_type": "code",
   "execution_count": 103,
   "metadata": {},
   "outputs": [
    {
     "data": {
      "text/html": [
       "<div>\n",
       "<style scoped>\n",
       "    .dataframe tbody tr th:only-of-type {\n",
       "        vertical-align: middle;\n",
       "    }\n",
       "\n",
       "    .dataframe tbody tr th {\n",
       "        vertical-align: top;\n",
       "    }\n",
       "\n",
       "    .dataframe thead th {\n",
       "        text-align: right;\n",
       "    }\n",
       "</style>\n",
       "<table border=\"1\" class=\"dataframe\">\n",
       "  <thead>\n",
       "    <tr style=\"text-align: right;\">\n",
       "      <th></th>\n",
       "      <th>normal</th>\n",
       "      <th>poisson</th>\n",
       "      <th>power</th>\n",
       "      <th>test</th>\n",
       "    </tr>\n",
       "  </thead>\n",
       "  <tbody>\n",
       "    <tr>\n",
       "      <th>Esperimento 2</th>\n",
       "      <td>0.317827</td>\n",
       "      <td>0</td>\n",
       "      <td>0.843600</td>\n",
       "      <td>0.4</td>\n",
       "    </tr>\n",
       "    <tr>\n",
       "      <th>Esperimento 3</th>\n",
       "      <td>0.033654</td>\n",
       "      <td>1</td>\n",
       "      <td>0.985012</td>\n",
       "      <td>0.4</td>\n",
       "    </tr>\n",
       "  </tbody>\n",
       "</table>\n",
       "</div>"
      ],
      "text/plain": [
       "                 normal  poisson     power  test\n",
       "Esperimento 2  0.317827        0  0.843600   0.4\n",
       "Esperimento 3  0.033654        1  0.985012   0.4"
      ]
     },
     "execution_count": 103,
     "metadata": {},
     "output_type": "execute_result"
    }
   ],
   "source": [
    "df[df['normal'] > 0]"
   ]
  },
  {
   "cell_type": "code",
   "execution_count": 107,
   "metadata": {},
   "outputs": [
    {
     "data": {
      "text/html": [
       "<div>\n",
       "<style scoped>\n",
       "    .dataframe tbody tr th:only-of-type {\n",
       "        vertical-align: middle;\n",
       "    }\n",
       "\n",
       "    .dataframe tbody tr th {\n",
       "        vertical-align: top;\n",
       "    }\n",
       "\n",
       "    .dataframe thead th {\n",
       "        text-align: right;\n",
       "    }\n",
       "</style>\n",
       "<table border=\"1\" class=\"dataframe\">\n",
       "  <thead>\n",
       "    <tr style=\"text-align: right;\">\n",
       "      <th></th>\n",
       "      <th>poisson</th>\n",
       "      <th>normal</th>\n",
       "    </tr>\n",
       "  </thead>\n",
       "  <tbody>\n",
       "    <tr>\n",
       "      <th>Esperimento 1</th>\n",
       "      <td>0</td>\n",
       "      <td>-1.508587</td>\n",
       "    </tr>\n",
       "    <tr>\n",
       "      <th>Esperimento 2</th>\n",
       "      <td>0</td>\n",
       "      <td>0.317827</td>\n",
       "    </tr>\n",
       "    <tr>\n",
       "      <th>Esperimento 3</th>\n",
       "      <td>1</td>\n",
       "      <td>0.033654</td>\n",
       "    </tr>\n",
       "  </tbody>\n",
       "</table>\n",
       "</div>"
      ],
      "text/plain": [
       "               poisson    normal\n",
       "Esperimento 1        0 -1.508587\n",
       "Esperimento 2        0  0.317827\n",
       "Esperimento 3        1  0.033654"
      ]
     },
     "execution_count": 107,
     "metadata": {},
     "output_type": "execute_result"
    }
   ],
   "source": [
    "df[(df['power'] > 0.8) | (df['normal'] > 0)][['poisson', 'normal']]"
   ]
  },
  {
   "cell_type": "markdown",
   "metadata": {},
   "source": [
    "## From dict of dict"
   ]
  },
  {
   "cell_type": "code",
   "execution_count": 108,
   "metadata": {},
   "outputs": [],
   "source": [
    "auto = {\n",
    "    'persona 1': {\n",
    "        'targa': 'XYZ456',\n",
    "        'marca': 'fiat'\n",
    "    },\n",
    "    'persona 2': {\n",
    "        'targa': 'KJZ456',\n",
    "        'marca': 'bmw'\n",
    "    },\n",
    "    'persona 3': {\n",
    "        'targa': 'OKZ456',\n",
    "        'marca': 'audi'\n",
    "    }\n",
    "}"
   ]
  },
  {
   "cell_type": "code",
   "execution_count": 111,
   "metadata": {},
   "outputs": [],
   "source": [
    "df = pd.DataFrame(auto).T"
   ]
  },
  {
   "cell_type": "code",
   "execution_count": 112,
   "metadata": {},
   "outputs": [
    {
     "data": {
      "text/html": [
       "<div>\n",
       "<style scoped>\n",
       "    .dataframe tbody tr th:only-of-type {\n",
       "        vertical-align: middle;\n",
       "    }\n",
       "\n",
       "    .dataframe tbody tr th {\n",
       "        vertical-align: top;\n",
       "    }\n",
       "\n",
       "    .dataframe thead th {\n",
       "        text-align: right;\n",
       "    }\n",
       "</style>\n",
       "<table border=\"1\" class=\"dataframe\">\n",
       "  <thead>\n",
       "    <tr style=\"text-align: right;\">\n",
       "      <th></th>\n",
       "      <th>targa</th>\n",
       "      <th>marca</th>\n",
       "    </tr>\n",
       "  </thead>\n",
       "  <tbody>\n",
       "    <tr>\n",
       "      <th>persona 1</th>\n",
       "      <td>XYZ456</td>\n",
       "      <td>fiat</td>\n",
       "    </tr>\n",
       "    <tr>\n",
       "      <th>persona 2</th>\n",
       "      <td>KJZ456</td>\n",
       "      <td>bmw</td>\n",
       "    </tr>\n",
       "    <tr>\n",
       "      <th>persona 3</th>\n",
       "      <td>OKZ456</td>\n",
       "      <td>audi</td>\n",
       "    </tr>\n",
       "  </tbody>\n",
       "</table>\n",
       "</div>"
      ],
      "text/plain": [
       "            targa marca\n",
       "persona 1  XYZ456  fiat\n",
       "persona 2  KJZ456   bmw\n",
       "persona 3  OKZ456  audi"
      ]
     },
     "execution_count": 112,
     "metadata": {},
     "output_type": "execute_result"
    }
   ],
   "source": [
    "df"
   ]
  },
  {
   "cell_type": "markdown",
   "metadata": {},
   "source": [
    "# Data interaction (file, sql, etc.)"
   ]
  },
  {
   "cell_type": "code",
   "execution_count": null,
   "metadata": {},
   "outputs": [],
   "source": []
  }
 ],
 "metadata": {
  "kernelspec": {
   "display_name": "Python 3 (ipykernel)",
   "language": "python",
   "name": "python3"
  },
  "language_info": {
   "codemirror_mode": {
    "name": "ipython",
    "version": 3
   },
   "file_extension": ".py",
   "mimetype": "text/x-python",
   "name": "python",
   "nbconvert_exporter": "python",
   "pygments_lexer": "ipython3",
   "version": "3.8.8"
  },
  "toc": {
   "base_numbering": 1,
   "nav_menu": {},
   "number_sections": true,
   "sideBar": true,
   "skip_h1_title": false,
   "title_cell": "Table of Contents",
   "title_sidebar": "Contents",
   "toc_cell": false,
   "toc_position": {},
   "toc_section_display": true,
   "toc_window_display": false
  }
 },
 "nbformat": 4,
 "nbformat_minor": 2
}
