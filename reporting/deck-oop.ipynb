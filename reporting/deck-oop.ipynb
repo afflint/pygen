{
 "cells": [
  {
   "cell_type": "markdown",
   "id": "248d7e71",
   "metadata": {},
   "source": [
    "# Example of Object Oriented Programming"
   ]
  },
  {
   "cell_type": "code",
   "execution_count": 1,
   "id": "af4eecc1",
   "metadata": {},
   "outputs": [],
   "source": [
    "from cards.deck import Deck, Card, BlackJackCard"
   ]
  },
  {
   "cell_type": "markdown",
   "id": "7a9f2605",
   "metadata": {},
   "source": [
    "## Card design\n",
    "**Data**\n",
    "- symbol\n",
    "- seed\n",
    "\n",
    "**Functions**\n",
    "- create\n",
    "- to_string\n",
    "- value"
   ]
  },
  {
   "cell_type": "code",
   "execution_count": 12,
   "id": "18e43985",
   "metadata": {},
   "outputs": [],
   "source": [
    "x = Card('2', 'F')\n",
    "y = BlackJackCard('2', 'F')"
   ]
  },
  {
   "cell_type": "code",
   "execution_count": 16,
   "id": "b9cbec48",
   "metadata": {},
   "outputs": [
    {
     "data": {
      "text/plain": [
       "True"
      ]
     },
     "execution_count": 16,
     "metadata": {},
     "output_type": "execute_result"
    }
   ],
   "source": [
    "isinstance(y, Card)"
   ]
  },
  {
   "cell_type": "code",
   "execution_count": 6,
   "id": "f4cb3c5c",
   "metadata": {},
   "outputs": [
    {
     "data": {
      "text/plain": [
       "(10, 11)"
      ]
     },
     "execution_count": 6,
     "metadata": {},
     "output_type": "execute_result"
    }
   ],
   "source": [
    "x.value(), y.value()"
   ]
  },
  {
   "cell_type": "markdown",
   "id": "def59682",
   "metadata": {},
   "source": [
    "## Deck design\n",
    "**Data (variables, attributes, properties)**\n",
    "- list of cards\n",
    "\n",
    "**Functions (methods)**\n",
    "- create\n",
    "- shuffle\n",
    "- deal\n",
    "- distribute"
   ]
  },
  {
   "cell_type": "code",
   "execution_count": null,
   "id": "18a5661e",
   "metadata": {},
   "outputs": [],
   "source": [
    "deck1 = Deck(name=\"Primo DECK\")\n",
    "deck2 = Deck(name=\"Secondo DECK\")"
   ]
  },
  {
   "cell_type": "code",
   "execution_count": null,
   "id": "fe980751",
   "metadata": {},
   "outputs": [],
   "source": [
    "print(deck1.a)\n",
    "print(deck2.a)"
   ]
  },
  {
   "cell_type": "code",
   "execution_count": null,
   "id": "a9443b6c",
   "metadata": {},
   "outputs": [],
   "source": [
    "print(deck1)"
   ]
  },
  {
   "cell_type": "code",
   "execution_count": null,
   "id": "ba2e7b66",
   "metadata": {},
   "outputs": [],
   "source": []
  }
 ],
 "metadata": {
  "kernelspec": {
   "display_name": "Python 3 (ipykernel)",
   "language": "python",
   "name": "python3"
  },
  "language_info": {
   "codemirror_mode": {
    "name": "ipython",
    "version": 3
   },
   "file_extension": ".py",
   "mimetype": "text/x-python",
   "name": "python",
   "nbconvert_exporter": "python",
   "pygments_lexer": "ipython3",
   "version": "3.8.8"
  },
  "toc": {
   "base_numbering": 1,
   "nav_menu": {},
   "number_sections": true,
   "sideBar": true,
   "skip_h1_title": false,
   "title_cell": "Table of Contents",
   "title_sidebar": "Contents",
   "toc_cell": false,
   "toc_position": {},
   "toc_section_display": true,
   "toc_window_display": false
  }
 },
 "nbformat": 4,
 "nbformat_minor": 5
}
