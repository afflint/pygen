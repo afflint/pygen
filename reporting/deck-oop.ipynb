{
 "cells": [
  {
   "cell_type": "markdown",
   "id": "9bf396d9",
   "metadata": {},
   "source": [
    "# Example of Object Oriented Programming"
   ]
  },
  {
   "cell_type": "code",
   "execution_count": null,
   "id": "73816a27",
   "metadata": {},
   "outputs": [],
   "source": [
    "from cards.deck import Deck, Card, BlackJackCard"
   ]
  },
  {
   "cell_type": "markdown",
   "id": "b42863e2",
   "metadata": {},
   "source": [
    "## Card design\n",
    "**Data**\n",
    "- symbol\n",
    "- seed\n",
    "\n",
    "**Functions**\n",
    "- create\n",
    "- to_string\n",
    "- value"
   ]
  },
  {
   "cell_type": "code",
   "execution_count": null,
   "id": "ae9e8244",
   "metadata": {},
   "outputs": [],
   "source": [
    "x = Card('2', 'F')\n",
    "y = BlackJackCard('2', 'F')"
   ]
  },
  {
   "cell_type": "code",
   "execution_count": null,
   "id": "da433dad",
   "metadata": {},
   "outputs": [],
   "source": [
    "isinstance(y, Card)"
   ]
  },
  {
   "cell_type": "code",
   "execution_count": null,
   "id": "37610cfc",
   "metadata": {},
   "outputs": [],
   "source": [
    "x.value(), y.value()"
   ]
  },
  {
   "cell_type": "markdown",
   "id": "088c4180",
   "metadata": {},
   "source": [
    "## Deck design\n",
    "**Data (variables, attributes, properties)**\n",
    "- list of cards\n",
    "\n",
    "**Functions (methods)**\n",
    "- create\n",
    "- shuffle\n",
    "- deal\n",
    "- distribute"
   ]
  },
  {
   "cell_type": "code",
   "execution_count": 1,
   "id": "73a632fe",
   "metadata": {},
   "outputs": [],
   "source": [
    "from cards.deck import BlackJackDeck"
   ]
  },
  {
   "cell_type": "code",
   "execution_count": 2,
   "id": "4dbef867",
   "metadata": {},
   "outputs": [],
   "source": [
    "deck = BlackJackDeck()\n",
    "deck.shuffle()"
   ]
  },
  {
   "cell_type": "code",
   "execution_count": 3,
   "id": "3b13b762",
   "metadata": {},
   "outputs": [],
   "source": [
    "hands = deck.distribute(num_hands=5, num_cards=2)"
   ]
  },
  {
   "cell_type": "code",
   "execution_count": 4,
   "id": "f278f055",
   "metadata": {},
   "outputs": [
    {
     "data": {
      "text/plain": [
       "[[K-F, 9-P], [6-F, 2-P], [2-F, 4-Q], [5-F, 6-Q], [10-Q, A-P]]"
      ]
     },
     "execution_count": 4,
     "metadata": {},
     "output_type": "execute_result"
    }
   ],
   "source": [
    "hands"
   ]
  },
  {
   "cell_type": "code",
   "execution_count": null,
   "id": "1053d874",
   "metadata": {},
   "outputs": [],
   "source": []
  }
 ],
 "metadata": {
  "kernelspec": {
   "display_name": "Python 3 (ipykernel)",
   "language": "python",
   "name": "python3"
  },
  "language_info": {
   "codemirror_mode": {
    "name": "ipython",
    "version": 3
   },
   "file_extension": ".py",
   "mimetype": "text/x-python",
   "name": "python",
   "nbconvert_exporter": "python",
   "pygments_lexer": "ipython3",
   "version": "3.8.8"
  },
  "toc": {
   "base_numbering": 1,
   "nav_menu": {},
   "number_sections": true,
   "sideBar": true,
   "skip_h1_title": false,
   "title_cell": "Table of Contents",
   "title_sidebar": "Contents",
   "toc_cell": false,
   "toc_position": {},
   "toc_section_display": true,
   "toc_window_display": false
  }
 },
 "nbformat": 4,
 "nbformat_minor": 5
}
