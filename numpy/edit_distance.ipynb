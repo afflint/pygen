{
 "cells": [
  {
   "cell_type": "markdown",
   "metadata": {},
   "source": [
    "# EDIT DISTANCE\n",
    "**Problema:** date due stringhe $a$ e $b$, individuare una strategia per calcolare il numero minimo di operazioni necessario a trasformare $a$ in $b$, avendo come possibili operazioni l'inserimento di un carattere, la cancellazione di un carattere, e la sostituzione di un carattere."
   ]
  },
  {
   "cell_type": "markdown",
   "metadata": {},
   "source": [
    "## SOLUZIONE 1\n",
    "\n",
    "- Se $a$ è nulla allora occorre aggiungere un numero di caratteri pari alla lunghezza di $b$\n",
    "- Se $b$ è nulla allora occorre aggiungere un numero di caratteri pari alla lunghezza di $a$\n",
    "- Se l'ultimo carattere di $a$ e $b$, allora il costo è quello che calcoliamo per le sottostringhe $a_{-1}$ e $b_{-1}$\n",
    "- Se infine gli ultimi caratteri di $a$ e $b$ sono diversi, occorre fare un'operazione per l'ultimo carattere più il costo inferiore per le tre coppie di sottostringhe da cui è possibile arrivare all'ultimo carattere"
   ]
  },
  {
   "cell_type": "code",
   "execution_count": 9,
   "metadata": {},
   "outputs": [],
   "source": [
    "def edist(a, b, cost=0):\n",
    "    if len(a) == 0:\n",
    "        return len(b)\n",
    "    elif len(b) == 0:\n",
    "        return len(a)\n",
    "    elif a[-1] == b[-1]:\n",
    "        return edist(a[:-1], b[:-1], cost + 1)\n",
    "    else:\n",
    "        return 1 + min([\n",
    "            edist(a[:-1], b, cost + 1),\n",
    "            edist(a, b[:-1], cost + 1),\n",
    "            edist(a[:-1], b[:-1], cost + 1),\n",
    "        ])"
   ]
  },
  {
   "cell_type": "code",
   "execution_count": 10,
   "metadata": {},
   "outputs": [
    {
     "data": {
      "text/plain": [
       "2"
      ]
     },
     "execution_count": 10,
     "metadata": {},
     "output_type": "execute_result"
    }
   ],
   "source": [
    "edist('casa', 'casto')"
   ]
  },
  {
   "cell_type": "markdown",
   "metadata": {},
   "source": [
    "## SOLUZIONE 2"
   ]
  },
  {
   "cell_type": "code",
   "execution_count": null,
   "metadata": {},
   "outputs": [],
   "source": [
    "import numpy as np"
   ]
  },
  {
   "cell_type": "code",
   "execution_count": null,
   "metadata": {},
   "outputs": [],
   "source": [
    "def ddist(a, b):\n",
    "    m = np.zeros((len(a)+1, len(b)+1))\n",
    "    for v in range(len(b) + 1):\n",
    "        m[0][v] = v\n",
    "    for v in range(len(a) + 1):\n",
    "        m[v][0] = v\n",
    "    return m"
   ]
  },
  {
   "cell_type": "code",
   "execution_count": null,
   "metadata": {},
   "outputs": [],
   "source": [
    "x = ddist('casa', 'casto')"
   ]
  },
  {
   "cell_type": "code",
   "execution_count": 1,
   "metadata": {},
   "outputs": [],
   "source": [
    "import numpy as np"
   ]
  },
  {
   "cell_type": "code",
   "execution_count": 90,
   "metadata": {},
   "outputs": [],
   "source": [
    "def D(a, b):\n",
    "    row = range(0, len(b)+1)\n",
    "    col = range(0, len(a)+1)\n",
    "    m = np.zeros((len(a)+1, len(b)+1))\n",
    "    m[0,:] = row\n",
    "    m[:,0] = col\n",
    "    for i, x in enumerate(a):\n",
    "        iM = i + 1\n",
    "        for j, y in enumerate(b):\n",
    "            jM = j + 1 \n",
    "            if x == y:\n",
    "                cost = 0\n",
    "            else:\n",
    "                cost = 1\n",
    "            cost += min([\n",
    "                m[iM-1,jM-1], \n",
    "                m[iM,jM-1]+(1-cost),\n",
    "                m[iM-1,jM]+(1-cost),\n",
    "            ])\n",
    "            m[iM,jM] = cost\n",
    "    return m"
   ]
  },
  {
   "cell_type": "code",
   "execution_count": 91,
   "metadata": {},
   "outputs": [],
   "source": [
    "r = D('casa', 'casto')"
   ]
  },
  {
   "cell_type": "code",
   "execution_count": 92,
   "metadata": {},
   "outputs": [
    {
     "data": {
      "text/plain": [
       "array([[0., 1., 2., 3., 4., 5.],\n",
       "       [1., 0., 1., 2., 3., 4.],\n",
       "       [2., 1., 0., 1., 2., 3.],\n",
       "       [3., 2., 1., 0., 1., 2.],\n",
       "       [4., 3., 2., 1., 1., 2.]])"
      ]
     },
     "execution_count": 92,
     "metadata": {},
     "output_type": "execute_result"
    }
   ],
   "source": [
    "r"
   ]
  },
  {
   "cell_type": "code",
   "execution_count": null,
   "metadata": {},
   "outputs": [],
   "source": []
  },
  {
   "cell_type": "code",
   "execution_count": null,
   "metadata": {},
   "outputs": [],
   "source": []
  }
 ],
 "metadata": {
  "kernelspec": {
   "display_name": "Python 3",
   "language": "python",
   "name": "python3"
  },
  "language_info": {
   "codemirror_mode": {
    "name": "ipython",
    "version": 3
   },
   "file_extension": ".py",
   "mimetype": "text/x-python",
   "name": "python",
   "nbconvert_exporter": "python",
   "pygments_lexer": "ipython3",
   "version": "3.7.1"
  }
 },
 "nbformat": 4,
 "nbformat_minor": 2
}
