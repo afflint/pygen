{
 "cells": [
  {
   "cell_type": "markdown",
   "id": "d1b26a66",
   "metadata": {},
   "source": [
    "# Introduzione a numpy\n",
    "- caricare file coi dati\n",
    "- creare un `array` numpy per gestire i valori\n",
    "- creare un grafico con `matplotlib`"
   ]
  },
  {
   "cell_type": "markdown",
   "id": "70a352e8",
   "metadata": {},
   "source": [
    "## Caricare dati da file"
   ]
  },
  {
   "cell_type": "code",
   "execution_count": 1,
   "id": "04d4e18c",
   "metadata": {},
   "outputs": [],
   "source": [
    "import os\n",
    "import json"
   ]
  },
  {
   "cell_type": "code",
   "execution_count": 2,
   "id": "e9f19d6a",
   "metadata": {},
   "outputs": [],
   "source": [
    "filename = '../stats_data/guess_number.json'\n",
    "with open(filename, 'r') as infile:\n",
    "    stats = json.load(infile)"
   ]
  },
  {
   "cell_type": "markdown",
   "id": "9f2ad587",
   "metadata": {},
   "source": [
    "## NumPy\n",
    "$$\n",
    "\\begin{bmatrix}\n",
    "1\\\\\n",
    "5 \\\\\n",
    "\\end{bmatrix}\n",
    "$$\n",
    "\n",
    "$$\n",
    "\\begin{bmatrix}\n",
    "1 & 4\\\\\n",
    "5 & 6\\\\\n",
    "\\end{bmatrix}\n",
    "$$"
   ]
  },
  {
   "cell_type": "code",
   "execution_count": 5,
   "id": "0c87305e",
   "metadata": {},
   "outputs": [],
   "source": [
    "import numpy as np"
   ]
  },
  {
   "cell_type": "code",
   "execution_count": 52,
   "id": "d45a7e73",
   "metadata": {},
   "outputs": [],
   "source": [
    "labels, values = [], []\n",
    "for k, v in stats.items():\n",
    "    labels.append(k)\n",
    "    values.append(v)\n",
    "V = np.array(values).T"
   ]
  },
  {
   "cell_type": "code",
   "execution_count": 53,
   "id": "0bf3bf53",
   "metadata": {},
   "outputs": [
    {
     "data": {
      "text/plain": [
       "['RandomPlayer', 'Random2', 'OnePlayer']"
      ]
     },
     "execution_count": 53,
     "metadata": {},
     "output_type": "execute_result"
    }
   ],
   "source": [
    "labels"
   ]
  },
  {
   "cell_type": "code",
   "execution_count": 56,
   "id": "eb922d9e",
   "metadata": {},
   "outputs": [
    {
     "data": {
      "text/plain": [
       "1"
      ]
     },
     "execution_count": 56,
     "metadata": {},
     "output_type": "execute_result"
    }
   ],
   "source": [
    "labels.index('Random2')"
   ]
  },
  {
   "cell_type": "code",
   "execution_count": 54,
   "id": "7ded2f1e",
   "metadata": {},
   "outputs": [
    {
     "data": {
      "text/plain": [
       "(5000, 3)"
      ]
     },
     "execution_count": 54,
     "metadata": {},
     "output_type": "execute_result"
    }
   ],
   "source": [
    "V.shape"
   ]
  },
  {
   "cell_type": "code",
   "execution_count": 68,
   "id": "4ec0fe8d",
   "metadata": {},
   "outputs": [
    {
     "data": {
      "text/plain": [
       "array([[19,  1,  1],\n",
       "       [ 0,  0,  0],\n",
       "       [57, 11,  5],\n",
       "       ...,\n",
       "       [ 7, 45,  3],\n",
       "       [29, 45,  4],\n",
       "       [32,  8,  4]])"
      ]
     },
     "execution_count": 68,
     "metadata": {},
     "output_type": "execute_result"
    }
   ],
   "source": [
    "V"
   ]
  },
  {
   "cell_type": "markdown",
   "id": "de079bac",
   "metadata": {},
   "source": [
    "## Data visualization\n",
    "- [https://matplotlib.org/](https://matplotlib.org/)\n",
    "- [https://bokeh.org/](https://bokeh.org/)"
   ]
  },
  {
   "cell_type": "code",
   "execution_count": 84,
   "id": "6892d7de",
   "metadata": {},
   "outputs": [],
   "source": [
    "import matplotlib.pyplot as plt"
   ]
  },
  {
   "cell_type": "code",
   "execution_count": 100,
   "id": "a89c1311",
   "metadata": {},
   "outputs": [
    {
     "name": "stderr",
     "output_type": "stream",
     "text": [
      "No handles with labels found to put in legend.\n"
     ]
    },
    {
     "data": {
      "image/png": "[encoded data removed]",
      "text/plain": [
       "<Figure size 720x432 with 2 Axes>"
      ]
     },
     "metadata": {
      "needs_background": "light"
     },
     "output_type": "display_data"
    }
   ],
   "source": [
    "fig, ax = plt.subplots(figsize=(10, 6), ncols=2)\n",
    "for i, player in enumerate(labels):\n",
    "    ax[0].plot(np.cumsum(V[:,i]), label=player)\n",
    "plt.legend()\n",
    "plt.show()"
   ]
  },
  {
   "cell_type": "code",
   "execution_count": null,
   "id": "027062d9",
   "metadata": {},
   "outputs": [],
   "source": [
    "fig, ax = plt.subplots(figsize=(10, 6), ncols=2)\n",
    "for i, player in enumerate(labels):\n",
    "    ax[0].plot(np.cumsum(V[:,i]), label=player)\n",
    "plt.legend()\n",
    "plt.show()"
   ]
  },
  {
   "cell_type": "code",
   "execution_count": 107,
   "id": "6e9643c3",
   "metadata": {},
   "outputs": [
    {
     "data": {
      "image/png": "[encoded data removed]",
      "text/plain": [
       "<Figure size 720x432 with 1 Axes>"
      ]
     },
     "metadata": {
      "needs_background": "light"
     },
     "output_type": "display_data"
    }
   ],
   "source": [
    "fig, ax = plt.subplots(figsize=(10, 6))\n",
    "ax.imshow(V[:,[0,-1]])\n",
    "plt.show()"
   ]
  },
  {
   "cell_type": "code",
   "execution_count": null,
   "id": "3fa2738b",
   "metadata": {},
   "outputs": [],
   "source": []
  }
 ],
 "metadata": {
  "kernelspec": {
   "display_name": "Python 3 (ipykernel)",
   "language": "python",
   "name": "python3"
  },
  "language_info": {
   "codemirror_mode": {
    "name": "ipython",
    "version": 3
   },
   "file_extension": ".py",
   "mimetype": "text/x-python",
   "name": "python",
   "nbconvert_exporter": "python",
   "pygments_lexer": "ipython3",
   "version": "3.8.8"
  },
  "toc": {
   "base_numbering": 1,
   "nav_menu": {},
   "number_sections": true,
   "sideBar": true,
   "skip_h1_title": false,
   "title_cell": "Table of Contents",
   "title_sidebar": "Contents",
   "toc_cell": false,
   "toc_position": {},
   "toc_section_display": true,
   "toc_window_display": false
  }
 },
 "nbformat": 4,
 "nbformat_minor": 5
}
