{
 "cells": [
  {
   "cell_type": "markdown",
   "id": "9801b70d",
   "metadata": {},
   "source": [
    "# Dummy word generator\n",
    "- alfabeto + caratteri speciali\n",
    "- lunghezza (caratteri speciali: inizio e terminazione)\n",
    "- criterio di scelta\n",
    "- ciclo\n",
    "    - terminazione: carattere di terminazione\n",
    "    - inizio: prefisso"
   ]
  },
  {
   "cell_type": "markdown",
   "id": "54083cfb",
   "metadata": {},
   "source": [
    "$$\n",
    "p(c)\n",
    "$$"
   ]
  },
  {
   "cell_type": "code",
   "execution_count": 1,
   "id": "aeae10fc",
   "metadata": {},
   "outputs": [],
   "source": [
    "import string\n",
    "from wordgenerators import DummyWordGenerator\n",
    "import numpy as np"
   ]
  },
  {
   "cell_type": "code",
   "execution_count": 2,
   "id": "617f4cc0",
   "metadata": {},
   "outputs": [],
   "source": [
    "d = DummyWordGenerator(string.ascii_lowercase)"
   ]
  },
  {
   "cell_type": "code",
   "execution_count": 11,
   "id": "668fb4f6",
   "metadata": {},
   "outputs": [
    {
     "name": "stdout",
     "output_type": "stream",
     "text": [
      "slgfgvumudzhjmqdzcxbbbiewszuiojlkgqkkdae\n",
      "odctkkohylporqtfoqtknjwwfllrlaoiuewewrdaorzudyaqgdhlvzbkmbr\n",
      "waqdnrpmjabldnnhubezpnbkebwxsjpmqefsnzqtxzaj\n",
      "uucfhqbhslvqntgnsyrqduo\n",
      "\n",
      "vf\n",
      "w\n",
      "ymdt\n",
      "ivukwjwexenqhwmqykslhcceuajbr\n",
      "wnwfzlldpzlplphpygoxjyfupeegzyojbbfz\n",
      "bbzwzxlb\n",
      "vo\n",
      "sgrtpbpaennykmssnomczgz\n",
      "bxzncezvcpdwiarrqzcea\n",
      "lddoos\n",
      "hzlfsubhfdk\n",
      "uwbvcevnxkp\n",
      "ulkdgqisfvlcphhkcma\n",
      "rjvrjrp\n",
      "nheccbttlakyywjfjggehbvixmprblgxvz\n"
     ]
    }
   ],
   "source": [
    "for i in range(20):\n",
    "    print(d.generate())"
   ]
  },
  {
   "cell_type": "markdown",
   "id": "468ec217",
   "metadata": {},
   "source": [
    "## Stima della frequenza dei caratteri"
   ]
  },
  {
   "cell_type": "code",
   "execution_count": 4,
   "id": "d20b50e0",
   "metadata": {},
   "outputs": [],
   "source": [
    "file_path = '/Users/flint/Data/italian-texts/i_promessi sposi.txt'\n",
    "with open(file_path, 'r', encoding='latin-1') as f:\n",
    "    content = f.read()"
   ]
  },
  {
   "cell_type": "code",
   "execution_count": 5,
   "id": "38135df6",
   "metadata": {},
   "outputs": [],
   "source": [
    "idx = {}\n",
    "for c in content:\n",
    "    try:\n",
    "        idx[c] = idx[c] + 1\n",
    "    except KeyError:\n",
    "        idx[c] = 1"
   ]
  },
  {
   "cell_type": "code",
   "execution_count": 6,
   "id": "140b8eee",
   "metadata": {},
   "outputs": [],
   "source": [
    "scores = []\n",
    "for c in d.alpha:\n",
    "    if c == '#E':\n",
    "        n = idx[' '] + idx['.']\n",
    "    else:\n",
    "        n = idx[c]\n",
    "    scores.append(n)"
   ]
  },
  {
   "cell_type": "code",
   "execution_count": 7,
   "id": "572d7c9e",
   "metadata": {},
   "outputs": [],
   "source": [
    "sc = np.array(scores)"
   ]
  },
  {
   "cell_type": "code",
   "execution_count": 8,
   "id": "6daf4d4d",
   "metadata": {},
   "outputs": [],
   "source": [
    "p = sc / sc.sum()"
   ]
  },
  {
   "cell_type": "code",
   "execution_count": 9,
   "id": "7772516c",
   "metadata": {},
   "outputs": [
    {
     "data": {
      "text/plain": [
       "1.0"
      ]
     },
     "execution_count": 9,
     "metadata": {},
     "output_type": "execute_result"
    }
   ],
   "source": [
    "p.sum()"
   ]
  },
  {
   "cell_type": "code",
   "execution_count": 12,
   "id": "32082ca8",
   "metadata": {},
   "outputs": [
    {
     "name": "stdout",
     "output_type": "stream",
     "text": [
      "dv\n",
      "\n",
      "epseccnit\n",
      "o\n",
      "r\n",
      "liern\n",
      "eemctniei\n",
      "brgon\n",
      "epnt\n",
      "eoroit\n",
      "vn\n",
      "aa\n",
      "l\n",
      "\n",
      "pma\n",
      "rdaenlioo\n",
      "sl\n",
      "ueeni\n",
      "gdlaoniieca\n",
      "t\n"
     ]
    }
   ],
   "source": [
    "for i in range(20):\n",
    "    print(d.generate(p=p))"
   ]
  },
  {
   "cell_type": "markdown",
   "id": "81200666",
   "metadata": {},
   "source": [
    "$$\n",
    "p(c_i \\mid c_{i-1})\n",
    "$$\n",
    "\n",
    "$$\n",
    "P(A \\mid B)\n",
    "$$"
   ]
  },
  {
   "cell_type": "code",
   "execution_count": null,
   "id": "b37f83ac",
   "metadata": {},
   "outputs": [],
   "source": []
  }
 ],
 "metadata": {
  "kernelspec": {
   "display_name": "Python 3 (ipykernel)",
   "language": "python",
   "name": "python3"
  },
  "language_info": {
   "codemirror_mode": {
    "name": "ipython",
    "version": 3
   },
   "file_extension": ".py",
   "mimetype": "text/x-python",
   "name": "python",
   "nbconvert_exporter": "python",
   "pygments_lexer": "ipython3",
   "version": "3.8.8"
  },
  "toc": {
   "base_numbering": 1,
   "nav_menu": {},
   "number_sections": true,
   "sideBar": true,
   "skip_h1_title": false,
   "title_cell": "Table of Contents",
   "title_sidebar": "Contents",
   "toc_cell": false,
   "toc_position": {},
   "toc_section_display": true,
   "toc_window_display": false
  }
 },
 "nbformat": 4,
 "nbformat_minor": 5
}
