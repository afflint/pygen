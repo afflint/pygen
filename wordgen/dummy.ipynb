{
 "cells": [
  {
   "cell_type": "markdown",
   "id": "9801b70d",
   "metadata": {},
   "source": [
    "# Dummy word generator\n",
    "- alfabeto + caratteri speciali\n",
    "- lunghezza (caratteri speciali: inizio e terminazione)\n",
    "- criterio di scelta\n",
    "- ciclo\n",
    "    - terminazione: carattere di terminazione\n",
    "    - inizio: prefisso"
   ]
  },
  {
   "cell_type": "markdown",
   "id": "54083cfb",
   "metadata": {},
   "source": [
    "$$\n",
    "p(c)\n",
    "$$"
   ]
  },
  {
   "cell_type": "code",
   "execution_count": 1,
   "id": "aeae10fc",
   "metadata": {},
   "outputs": [],
   "source": [
    "import string\n",
    "from wordgenerators import DummyWordGenerator\n",
    "import numpy as np"
   ]
  },
  {
   "cell_type": "code",
   "execution_count": 2,
   "id": "617f4cc0",
   "metadata": {},
   "outputs": [],
   "source": [
    "d = DummyWordGenerator(string.ascii_lowercase)"
   ]
  },
  {
   "cell_type": "code",
   "execution_count": 3,
   "id": "668fb4f6",
   "metadata": {},
   "outputs": [
    {
     "name": "stdout",
     "output_type": "stream",
     "text": [
      "fmycwmitnebktpmrttpltqecetjvxzdcpvuv\n",
      "wyihmo\n",
      "rvkwljhkxwychvus\n",
      "\n",
      "hbielkcnggqrr\n",
      "aimu\n",
      "uxamoowzybet\n",
      "tvrv\n",
      "ssetfeoqrdbqwqtmt\n",
      "hw\n",
      "ginvmrpxzwxiblzriknbrgtqz\n",
      "osdgwktz\n",
      "ulczchjy\n",
      "ov\n",
      "ewntbolm\n",
      "buihxoscdqfxyqkhcqarwflrdj\n",
      "srjeclobfni\n",
      "gknjoznxuw\n",
      "fpyecvdntbupfmtozjlsaasbimiqmsivfqizorod\n",
      "fkblkccvdiockkbgfeedtfguyatnghvneyfafofqyyyw\n"
     ]
    }
   ],
   "source": [
    "for i in range(20):\n",
    "    print(d.generate())"
   ]
  },
  {
   "cell_type": "markdown",
   "id": "81200666",
   "metadata": {},
   "source": [
    "$$\n",
    "p(c_i \\mid c_{i-1})\n",
    "$$\n",
    "\n",
    "$$\n",
    "P(A \\mid B)\n",
    "$$"
   ]
  },
  {
   "cell_type": "code",
   "execution_count": null,
   "id": "b37f83ac",
   "metadata": {},
   "outputs": [],
   "source": []
  }
 ],
 "metadata": {
  "kernelspec": {
   "display_name": "Python 3 (ipykernel)",
   "language": "python",
   "name": "python3"
  },
  "language_info": {
   "codemirror_mode": {
    "name": "ipython",
    "version": 3
   },
   "file_extension": ".py",
   "mimetype": "text/x-python",
   "name": "python",
   "nbconvert_exporter": "python",
   "pygments_lexer": "ipython3",
   "version": "3.8.8"
  },
  "toc": {
   "base_numbering": 1,
   "nav_menu": {},
   "number_sections": true,
   "sideBar": true,
   "skip_h1_title": false,
   "title_cell": "Table of Contents",
   "title_sidebar": "Contents",
   "toc_cell": false,
   "toc_position": {},
   "toc_section_display": true,
   "toc_window_display": false
  }
 },
 "nbformat": 4,
 "nbformat_minor": 5
}
