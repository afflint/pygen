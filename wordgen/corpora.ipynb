{
 "cells": [
  {
   "cell_type": "markdown",
   "id": "893f7414",
   "metadata": {},
   "source": [
    "# Examples of text corpora from which get data"
   ]
  },
  {
   "cell_type": "markdown",
   "id": "7c7c6448",
   "metadata": {},
   "source": [
    "## Dialogues\n",
    "A high-quality multi-turn dialog dataset.\n",
    "> Li, Y., Su, H., Shen, X., Li, W., Cao, Z., & Niu, S. (2017). Dailydialog: A manually labelled multi-turn dialogue dataset. arXiv preprint arXiv:1710.03957. [download](https://aclanthology.org/I17-1099/)"
   ]
  },
  {
   "cell_type": "code",
   "execution_count": 1,
   "id": "81d1b7c5",
   "metadata": {},
   "outputs": [],
   "source": [
    "local_file = '/Users/flint/Data/daily-dialogue/EMNLP_dataset/dialogues_text.txt'\n",
    "with open(local_file, 'r') as infile:\n",
    "    raw = infile.read()\n",
    "sentences = [x.strip() for x in raw.split('__eou__')]"
   ]
  },
  {
   "cell_type": "code",
   "execution_count": 2,
   "id": "915ca20e",
   "metadata": {},
   "outputs": [
    {
     "data": {
      "text/plain": [
       "(['The kitchen stinks .', \"I'll throw out the garbage .\"], 102981)"
      ]
     },
     "execution_count": 2,
     "metadata": {},
     "output_type": "execute_result"
    }
   ],
   "source": [
    "sentences[:2], len(sentences)"
   ]
  },
  {
   "cell_type": "markdown",
   "id": "632d62f8",
   "metadata": {},
   "source": [
    "- input: list of strings\n",
    "- tokenization\n",
    "- storage: index"
   ]
  },
  {
   "cell_type": "code",
   "execution_count": 3,
   "id": "8858da88",
   "metadata": {},
   "outputs": [],
   "source": [
    "import nltk\n",
    "from collections import defaultdict"
   ]
  },
  {
   "cell_type": "code",
   "execution_count": 4,
   "id": "d63562d5",
   "metadata": {},
   "outputs": [
    {
     "data": {
      "text/plain": [
       "['I', \"'ll\", 'throw', 'out', 'the', 'garbage', '.']"
      ]
     },
     "execution_count": 4,
     "metadata": {},
     "output_type": "execute_result"
    }
   ],
   "source": [
    "nltk.word_tokenize(\"I'll throw out the garbage .\")"
   ]
  },
  {
   "cell_type": "code",
   "execution_count": null,
   "id": "6be1c9cf",
   "metadata": {},
   "outputs": [],
   "source": []
  }
 ],
 "metadata": {
  "kernelspec": {
   "display_name": "Python 3 (ipykernel)",
   "language": "python",
   "name": "python3"
  },
  "language_info": {
   "codemirror_mode": {
    "name": "ipython",
    "version": 3
   },
   "file_extension": ".py",
   "mimetype": "text/x-python",
   "name": "python",
   "nbconvert_exporter": "python",
   "pygments_lexer": "ipython3",
   "version": "3.8.8"
  },
  "toc": {
   "base_numbering": 1,
   "nav_menu": {},
   "number_sections": true,
   "sideBar": true,
   "skip_h1_title": false,
   "title_cell": "Table of Contents",
   "title_sidebar": "Contents",
   "toc_cell": false,
   "toc_position": {},
   "toc_section_display": true,
   "toc_window_display": false
  }
 },
 "nbformat": 4,
 "nbformat_minor": 5
}
