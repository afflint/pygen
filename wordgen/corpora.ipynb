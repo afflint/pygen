{
 "cells": [
  {
   "cell_type": "markdown",
   "id": "893f7414",
   "metadata": {},
   "source": [
    "# Examples of text corpora from which get data"
   ]
  },
  {
   "cell_type": "markdown",
   "id": "7c7c6448",
   "metadata": {},
   "source": [
    "## Dialogues\n",
    "A high-quality multi-turn dialog dataset.\n",
    "> Li, Y., Su, H., Shen, X., Li, W., Cao, Z., & Niu, S. (2017). Dailydialog: A manually labelled multi-turn dialogue dataset. arXiv preprint arXiv:1710.03957. [download](https://aclanthology.org/I17-1099/)"
   ]
  },
  {
   "cell_type": "code",
   "execution_count": 1,
   "id": "81d1b7c5",
   "metadata": {},
   "outputs": [],
   "source": [
    "local_file = '/Users/flint/Data/daily-dialogue/EMNLP_dataset/dialogues_text.txt'\n",
    "with open(local_file, 'r') as infile:\n",
    "    raw = infile.read()\n",
    "sentences = [x.strip() for x in raw.split('__eou__')]"
   ]
  },
  {
   "cell_type": "code",
   "execution_count": 2,
   "id": "915ca20e",
   "metadata": {},
   "outputs": [
    {
     "data": {
      "text/plain": [
       "(['The kitchen stinks .', \"I'll throw out the garbage .\"], 102981)"
      ]
     },
     "execution_count": 2,
     "metadata": {},
     "output_type": "execute_result"
    }
   ],
   "source": [
    "sentences[:2], len(sentences)"
   ]
  },
  {
   "cell_type": "markdown",
   "id": "632d62f8",
   "metadata": {},
   "source": [
    "- input: list of strings\n",
    "- tokenization\n",
    "- storage: index"
   ]
  },
  {
   "cell_type": "code",
   "execution_count": 3,
   "id": "8858da88",
   "metadata": {},
   "outputs": [],
   "source": [
    "import nltk\n",
    "from collections import defaultdict"
   ]
  },
  {
   "cell_type": "code",
   "execution_count": 4,
   "id": "d63562d5",
   "metadata": {},
   "outputs": [
    {
     "data": {
      "text/plain": [
       "['I', \"'ll\", 'throw', 'out', 'the', 'garbage', '.']"
      ]
     },
     "execution_count": 4,
     "metadata": {},
     "output_type": "execute_result"
    }
   ],
   "source": [
    "nltk.word_tokenize(\"I'll throw out the garbage .\")"
   ]
  },
  {
   "cell_type": "markdown",
   "id": "46d50409",
   "metadata": {},
   "source": [
    "## Indexing"
   ]
  },
  {
   "cell_type": "code",
   "execution_count": 5,
   "id": "d6c823da",
   "metadata": {},
   "outputs": [],
   "source": [
    "from collections import defaultdict"
   ]
  },
  {
   "cell_type": "code",
   "execution_count": 19,
   "id": "1d02241d",
   "metadata": {},
   "outputs": [],
   "source": [
    "I = defaultdict(lambda: 0)\n",
    "for sentence in sentences:\n",
    "    words = nltk.word_tokenize(sentence)\n",
    "    for word in words:\n",
    "        I[word.lower()] += 1"
   ]
  },
  {
   "cell_type": "code",
   "execution_count": 21,
   "id": "e03cc543",
   "metadata": {},
   "outputs": [],
   "source": [
    "vocabulary = I.keys()"
   ]
  },
  {
   "cell_type": "markdown",
   "id": "690833dc",
   "metadata": {},
   "source": [
    "## Check generator"
   ]
  },
  {
   "cell_type": "code",
   "execution_count": 31,
   "id": "ec0589e3",
   "metadata": {},
   "outputs": [],
   "source": [
    "import string\n",
    "from wordgenerators import DummyWordGenerator, END_CHAR\n",
    "import numpy as np"
   ]
  },
  {
   "cell_type": "code",
   "execution_count": 25,
   "id": "3779cd4c",
   "metadata": {},
   "outputs": [],
   "source": [
    "d = DummyWordGenerator(string.ascii_lowercase)"
   ]
  },
  {
   "cell_type": "code",
   "execution_count": 27,
   "id": "72c87b97",
   "metadata": {},
   "outputs": [],
   "source": [
    "words = [d.generate() for i in range(1000)]\n",
    "valid = [w for w in words if w in vocabulary]"
   ]
  },
  {
   "cell_type": "code",
   "execution_count": 28,
   "id": "6224a984",
   "metadata": {},
   "outputs": [
    {
     "data": {
      "text/plain": [
       "0.037"
      ]
     },
     "execution_count": 28,
     "metadata": {},
     "output_type": "execute_result"
    }
   ],
   "source": [
    "len(valid) / len(words)"
   ]
  },
  {
   "cell_type": "code",
   "execution_count": 29,
   "id": "3b66f6e3",
   "metadata": {},
   "outputs": [
    {
     "data": {
      "text/plain": [
       "['f', 'c', 'r', 'e', 'h']"
      ]
     },
     "execution_count": 29,
     "metadata": {},
     "output_type": "execute_result"
    }
   ],
   "source": [
    "valid[:5]"
   ]
  },
  {
   "cell_type": "markdown",
   "id": "8fd280d8",
   "metadata": {},
   "source": [
    "## Char Index\n",
    "$$\n",
    "p(c) = \\frac{count(c)}{\\sum\\limits_{i} count(c_i)}\n",
    "$$"
   ]
  },
  {
   "cell_type": "code",
   "execution_count": 37,
   "id": "b7c47447",
   "metadata": {},
   "outputs": [],
   "source": [
    "import pandas as pd"
   ]
  },
  {
   "cell_type": "code",
   "execution_count": 32,
   "id": "e597da02",
   "metadata": {},
   "outputs": [],
   "source": [
    "U = defaultdict(lambda: 0)\n",
    "for w, freq in I.items():\n",
    "    for c in w:\n",
    "        U[c] += freq\n",
    "    U[END_CHAR] += freq"
   ]
  },
  {
   "cell_type": "code",
   "execution_count": 38,
   "id": "6483bbd6",
   "metadata": {},
   "outputs": [],
   "source": [
    "Us = pd.Series(U)"
   ]
  },
  {
   "cell_type": "code",
   "execution_count": 43,
   "id": "7b7cf3f1",
   "metadata": {},
   "outputs": [],
   "source": [
    "p = lambda w: Us[w] / Us.sum()"
   ]
  },
  {
   "cell_type": "code",
   "execution_count": 44,
   "id": "90dc6c25",
   "metadata": {},
   "outputs": [
    {
     "data": {
      "text/plain": [
       "0.05562784943599184"
      ]
     },
     "execution_count": 44,
     "metadata": {},
     "output_type": "execute_result"
    }
   ],
   "source": [
    "p('a')"
   ]
  },
  {
   "cell_type": "markdown",
   "id": "c1ebc592",
   "metadata": {},
   "source": [
    "## N-gram Index\n",
    "\n",
    "$$\n",
    "p(c_i \\mid c_1, \\dots, c_{i-1}) = \\frac{count(c_1, \\dots, c_i)}{\\sum\\limits_{j} count(c_1, \\dots, c_j)} = \\frac{count(c_1, \\dots, c_i)}{count(c_1, \\dots, c_{i-1})}\n",
    "$$\n",
    "\n",
    "$$\n",
    "p(c_i \\mid c_{i-n}, \\dots, c_{i-1}) = \\frac{count(c_{i-n}, \\dots, c_i)}{count(c_{i-n}, \\dots, c_{i-1})}\n",
    "$$"
   ]
  },
  {
   "cell_type": "code",
   "execution_count": 60,
   "id": "22e234ae",
   "metadata": {},
   "outputs": [],
   "source": [
    "N = defaultdict(lambda: 0)\n",
    "for w, freq in I.items():\n",
    "    for i, c in enumerate(w):\n",
    "        if i == 0:\n",
    "            N[('', c)] += 1\n",
    "        else:\n",
    "            N[(w[i-1], c)] += 1"
   ]
  },
  {
   "cell_type": "markdown",
   "id": "2cff6a93",
   "metadata": {},
   "source": [
    "```\n",
    "{\n",
    "    a : {\n",
    "        t: v(a, t),\n",
    "        s: v(a, s),\n",
    "        ...\n",
    "    },\n",
    "    ...\n",
    "}\n",
    "```"
   ]
  },
  {
   "cell_type": "code",
   "execution_count": 87,
   "id": "f90579d5",
   "metadata": {},
   "outputs": [],
   "source": [
    "N = defaultdict(lambda: defaultdict(lambda: 0))\n",
    "alphabet = set(['', END_CHAR])"
   ]
  },
  {
   "cell_type": "code",
   "execution_count": 88,
   "id": "d67fb395",
   "metadata": {},
   "outputs": [],
   "source": [
    "for w, freq in I.items():\n",
    "    for i, c in enumerate(w):\n",
    "        alphabet.add(c)\n",
    "        if i == 0:\n",
    "            N[''][c] += freq\n",
    "        else:\n",
    "            N[w[i-1]][c] += freq\n",
    "    N[w[-1]][END_CHAR] += freq\n",
    "alphabet = list(alphabet)"
   ]
  },
  {
   "cell_type": "code",
   "execution_count": 74,
   "id": "bcfaee92",
   "metadata": {},
   "outputs": [],
   "source": [
    "p_ta = N['a']['t'] / sum(N['a'].values())"
   ]
  },
  {
   "cell_type": "code",
   "execution_count": 96,
   "id": "78aa0c88",
   "metadata": {},
   "outputs": [],
   "source": [
    "def get_prob(previous, alphabet, bindex):\n",
    "    p = np.zeros(len(alphabet))\n",
    "    for s, v in bindex[previous].items():\n",
    "        p_s = bindex[previous][s] / sum(bindex[previous].values())\n",
    "        p[alphabet.index(s)] = p_s\n",
    "    return p"
   ]
  },
  {
   "cell_type": "code",
   "execution_count": 97,
   "id": "949389c7",
   "metadata": {},
   "outputs": [],
   "source": [
    "def bigram_gen(bindex, alphabet, top_k=1000, previous_char=''):\n",
    "    word = []\n",
    "    for i in range(top_k):\n",
    "        p = get_prob(previous_char, alphabet, bindex)\n",
    "        next_char = np.random.choice(alphabet, p=p)\n",
    "        if next_char == END_CHAR:\n",
    "            break\n",
    "        previous_char = next_char\n",
    "        word.append(next_char)\n",
    "    return \"\".join(word)        "
   ]
  },
  {
   "cell_type": "code",
   "execution_count": 107,
   "id": "0311d056",
   "metadata": {},
   "outputs": [
    {
     "data": {
      "text/plain": [
       "'odaherr'"
      ]
     },
     "execution_count": 107,
     "metadata": {},
     "output_type": "execute_result"
    }
   ],
   "source": [
    "bigram_gen(N, alphabet)"
   ]
  },
  {
   "cell_type": "code",
   "execution_count": 108,
   "id": "35e3d0e7",
   "metadata": {},
   "outputs": [],
   "source": [
    "words = [bigram_gen(N, alphabet) for i in range(1000)]\n",
    "valid = [w for w in words if w in vocabulary]"
   ]
  },
  {
   "cell_type": "code",
   "execution_count": 109,
   "id": "0a6ec505",
   "metadata": {},
   "outputs": [
    {
     "data": {
      "text/plain": [
       "0.524"
      ]
     },
     "execution_count": 109,
     "metadata": {},
     "output_type": "execute_result"
    }
   ],
   "source": [
    "len(valid) / len(words)"
   ]
  },
  {
   "cell_type": "code",
   "execution_count": 112,
   "id": "51abb693",
   "metadata": {},
   "outputs": [
    {
     "data": {
      "text/plain": [
       "['ther',\n",
       " 'cred',\n",
       " 'that',\n",
       " 'meng',\n",
       " 'wore',\n",
       " 'wire',\n",
       " 'ream',\n",
       " 'that',\n",
       " 'care',\n",
       " 'wang',\n",
       " 'dork',\n",
       " 'dome',\n",
       " 'tans',\n",
       " 'there']"
      ]
     },
     "execution_count": 112,
     "metadata": {},
     "output_type": "execute_result"
    }
   ],
   "source": [
    "[x for x in valid if len(x) > 3]"
   ]
  },
  {
   "cell_type": "markdown",
   "id": "58d9616a",
   "metadata": {},
   "source": [
    "## Multilevel indexes"
   ]
  },
  {
   "cell_type": "markdown",
   "id": "fea27e2f",
   "metadata": {},
   "source": [
    "$$\n",
    "\\begin{bmatrix}\n",
    "1.3 & 3 & \\dots & 0 \\\\\n",
    "0 & 0 & \\dots & 4 \\\\\n",
    "\\end{bmatrix}\n",
    "$$"
   ]
  },
  {
   "cell_type": "code",
   "execution_count": 119,
   "id": "98300c65",
   "metadata": {},
   "outputs": [],
   "source": [
    "Ndf = pd.DataFrame(N).T.fillna(0)"
   ]
  },
  {
   "cell_type": "code",
   "execution_count": 120,
   "id": "caf8ed9f",
   "metadata": {},
   "outputs": [
    {
     "data": {
      "text/html": [
       "<div>\n",
       "<style scoped>\n",
       "    .dataframe tbody tr th:only-of-type {\n",
       "        vertical-align: middle;\n",
       "    }\n",
       "\n",
       "    .dataframe tbody tr th {\n",
       "        vertical-align: top;\n",
       "    }\n",
       "\n",
       "    .dataframe thead th {\n",
       "        text-align: right;\n",
       "    }\n",
       "</style>\n",
       "<table border=\"1\" class=\"dataframe\">\n",
       "  <thead>\n",
       "    <tr style=\"text-align: right;\">\n",
       "      <th></th>\n",
       "      <th>t</th>\n",
       "      <th>k</th>\n",
       "      <th>s</th>\n",
       "      <th>.</th>\n",
       "      <th>i</th>\n",
       "      <th>'</th>\n",
       "      <th>o</th>\n",
       "      <th>g</th>\n",
       "      <th>d</th>\n",
       "      <th>,</th>\n",
       "      <th>...</th>\n",
       "      <th>”</th>\n",
       "      <th>*</th>\n",
       "      <th></th>\n",
       "      <th>@</th>\n",
       "      <th>\\</th>\n",
       "      <th>、</th>\n",
       "      <th>+</th>\n",
       "      <th>#</th>\n",
       "      <th>#E</th>\n",
       "      <th>_</th>\n",
       "    </tr>\n",
       "  </thead>\n",
       "  <tbody>\n",
       "    <tr>\n",
       "      <th></th>\n",
       "      <td>162451.0</td>\n",
       "      <td>8608.0</td>\n",
       "      <td>74545.0</td>\n",
       "      <td>117890.0</td>\n",
       "      <td>121593.0</td>\n",
       "      <td>28542.0</td>\n",
       "      <td>52245.0</td>\n",
       "      <td>29304.0</td>\n",
       "      <td>42260.0</td>\n",
       "      <td>54565.0</td>\n",
       "      <td>...</td>\n",
       "      <td>91.0</td>\n",
       "      <td>5.0</td>\n",
       "      <td>1.0</td>\n",
       "      <td>9.0</td>\n",
       "      <td>6.0</td>\n",
       "      <td>3.0</td>\n",
       "      <td>10.0</td>\n",
       "      <td>1.0</td>\n",
       "      <td>0.0</td>\n",
       "      <td>0.0</td>\n",
       "    </tr>\n",
       "    <tr>\n",
       "      <th>t</th>\n",
       "      <td>6078.0</td>\n",
       "      <td>0.0</td>\n",
       "      <td>6266.0</td>\n",
       "      <td>477.0</td>\n",
       "      <td>23886.0</td>\n",
       "      <td>10.0</td>\n",
       "      <td>46703.0</td>\n",
       "      <td>65.0</td>\n",
       "      <td>58.0</td>\n",
       "      <td>0.0</td>\n",
       "      <td>...</td>\n",
       "      <td>0.0</td>\n",
       "      <td>0.0</td>\n",
       "      <td>0.0</td>\n",
       "      <td>0.0</td>\n",
       "      <td>0.0</td>\n",
       "      <td>0.0</td>\n",
       "      <td>0.0</td>\n",
       "      <td>0.0</td>\n",
       "      <td>154954.0</td>\n",
       "      <td>1.0</td>\n",
       "    </tr>\n",
       "    <tr>\n",
       "      <th>h</th>\n",
       "      <td>9079.0</td>\n",
       "      <td>4.0</td>\n",
       "      <td>384.0</td>\n",
       "      <td>107.0</td>\n",
       "      <td>29124.0</td>\n",
       "      <td>2.0</td>\n",
       "      <td>22977.0</td>\n",
       "      <td>0.0</td>\n",
       "      <td>373.0</td>\n",
       "      <td>0.0</td>\n",
       "      <td>...</td>\n",
       "      <td>0.0</td>\n",
       "      <td>0.0</td>\n",
       "      <td>0.0</td>\n",
       "      <td>0.0</td>\n",
       "      <td>0.0</td>\n",
       "      <td>0.0</td>\n",
       "      <td>0.0</td>\n",
       "      <td>0.0</td>\n",
       "      <td>25903.0</td>\n",
       "      <td>0.0</td>\n",
       "    </tr>\n",
       "    <tr>\n",
       "      <th>e</th>\n",
       "      <td>20908.0</td>\n",
       "      <td>1726.0</td>\n",
       "      <td>36610.0</td>\n",
       "      <td>696.0</td>\n",
       "      <td>3437.0</td>\n",
       "      <td>10.0</td>\n",
       "      <td>2497.0</td>\n",
       "      <td>1940.0</td>\n",
       "      <td>21389.0</td>\n",
       "      <td>0.0</td>\n",
       "      <td>...</td>\n",
       "      <td>0.0</td>\n",
       "      <td>0.0</td>\n",
       "      <td>0.0</td>\n",
       "      <td>0.0</td>\n",
       "      <td>0.0</td>\n",
       "      <td>0.0</td>\n",
       "      <td>0.0</td>\n",
       "      <td>0.0</td>\n",
       "      <td>221970.0</td>\n",
       "      <td>0.0</td>\n",
       "    </tr>\n",
       "    <tr>\n",
       "      <th>k</th>\n",
       "      <td>53.0</td>\n",
       "      <td>9.0</td>\n",
       "      <td>3732.0</td>\n",
       "      <td>132.0</td>\n",
       "      <td>6810.0</td>\n",
       "      <td>2.0</td>\n",
       "      <td>198.0</td>\n",
       "      <td>70.0</td>\n",
       "      <td>17.0</td>\n",
       "      <td>0.0</td>\n",
       "      <td>...</td>\n",
       "      <td>0.0</td>\n",
       "      <td>0.0</td>\n",
       "      <td>0.0</td>\n",
       "      <td>0.0</td>\n",
       "      <td>0.0</td>\n",
       "      <td>0.0</td>\n",
       "      <td>0.0</td>\n",
       "      <td>0.0</td>\n",
       "      <td>24836.0</td>\n",
       "      <td>0.0</td>\n",
       "    </tr>\n",
       "  </tbody>\n",
       "</table>\n",
       "<p>5 rows × 73 columns</p>\n",
       "</div>"
      ],
      "text/plain": [
       "          t       k        s         .         i        '        o        g  \\\n",
       "   162451.0  8608.0  74545.0  117890.0  121593.0  28542.0  52245.0  29304.0   \n",
       "t    6078.0     0.0   6266.0     477.0   23886.0     10.0  46703.0     65.0   \n",
       "h    9079.0     4.0    384.0     107.0   29124.0      2.0  22977.0      0.0   \n",
       "e   20908.0  1726.0  36610.0     696.0    3437.0     10.0   2497.0   1940.0   \n",
       "k      53.0     9.0   3732.0     132.0    6810.0      2.0    198.0     70.0   \n",
       "\n",
       "         d        ,  ...     ”    *        @    \\    、     +    #        #E  \\\n",
       "   42260.0  54565.0  ...  91.0  5.0  1.0  9.0  6.0  3.0  10.0  1.0       0.0   \n",
       "t     58.0      0.0  ...   0.0  0.0  0.0  0.0  0.0  0.0   0.0  0.0  154954.0   \n",
       "h    373.0      0.0  ...   0.0  0.0  0.0  0.0  0.0  0.0   0.0  0.0   25903.0   \n",
       "e  21389.0      0.0  ...   0.0  0.0  0.0  0.0  0.0  0.0   0.0  0.0  221970.0   \n",
       "k     17.0      0.0  ...   0.0  0.0  0.0  0.0  0.0  0.0   0.0  0.0   24836.0   \n",
       "\n",
       "     _  \n",
       "   0.0  \n",
       "t  1.0  \n",
       "h  0.0  \n",
       "e  0.0  \n",
       "k  0.0  \n",
       "\n",
       "[5 rows x 73 columns]"
      ]
     },
     "execution_count": 120,
     "metadata": {},
     "output_type": "execute_result"
    }
   ],
   "source": [
    "Ndf.head()"
   ]
  },
  {
   "cell_type": "code",
   "execution_count": 131,
   "id": "256a92aa",
   "metadata": {},
   "outputs": [
    {
     "data": {
      "text/html": [
       "<div>\n",
       "<style scoped>\n",
       "    .dataframe tbody tr th:only-of-type {\n",
       "        vertical-align: middle;\n",
       "    }\n",
       "\n",
       "    .dataframe tbody tr th {\n",
       "        vertical-align: top;\n",
       "    }\n",
       "\n",
       "    .dataframe thead th {\n",
       "        text-align: right;\n",
       "    }\n",
       "</style>\n",
       "<table border=\"1\" class=\"dataframe\">\n",
       "  <thead>\n",
       "    <tr style=\"text-align: right;\">\n",
       "      <th></th>\n",
       "      <th>s</th>\n",
       "      <th>.</th>\n",
       "      <th>o</th>\n",
       "    </tr>\n",
       "  </thead>\n",
       "  <tbody>\n",
       "    <tr>\n",
       "      <th>h</th>\n",
       "      <td>384.0</td>\n",
       "      <td>107.0</td>\n",
       "      <td>22977.0</td>\n",
       "    </tr>\n",
       "    <tr>\n",
       "      <th>e</th>\n",
       "      <td>36610.0</td>\n",
       "      <td>696.0</td>\n",
       "      <td>2497.0</td>\n",
       "    </tr>\n",
       "    <tr>\n",
       "      <th>k</th>\n",
       "      <td>3732.0</td>\n",
       "      <td>132.0</td>\n",
       "      <td>198.0</td>\n",
       "    </tr>\n",
       "    <tr>\n",
       "      <th>i</th>\n",
       "      <td>35310.0</td>\n",
       "      <td>13.0</td>\n",
       "      <td>9867.0</td>\n",
       "    </tr>\n",
       "    <tr>\n",
       "      <th>c</th>\n",
       "      <td>311.0</td>\n",
       "      <td>13.0</td>\n",
       "      <td>21982.0</td>\n",
       "    </tr>\n",
       "    <tr>\n",
       "      <th>n</th>\n",
       "      <td>6938.0</td>\n",
       "      <td>215.0</td>\n",
       "      <td>21261.0</td>\n",
       "    </tr>\n",
       "    <tr>\n",
       "      <th>s</th>\n",
       "      <td>8588.0</td>\n",
       "      <td>521.0</td>\n",
       "      <td>19879.0</td>\n",
       "    </tr>\n",
       "    <tr>\n",
       "      <th>.</th>\n",
       "      <td>251.0</td>\n",
       "      <td>3479.0</td>\n",
       "      <td>68.0</td>\n",
       "    </tr>\n",
       "  </tbody>\n",
       "</table>\n",
       "</div>"
      ],
      "text/plain": [
       "         s       .        o\n",
       "h    384.0   107.0  22977.0\n",
       "e  36610.0   696.0   2497.0\n",
       "k   3732.0   132.0    198.0\n",
       "i  35310.0    13.0   9867.0\n",
       "c    311.0    13.0  21982.0\n",
       "n   6938.0   215.0  21261.0\n",
       "s   8588.0   521.0  19879.0\n",
       ".    251.0  3479.0     68.0"
      ]
     },
     "execution_count": 131,
     "metadata": {},
     "output_type": "execute_result"
    }
   ],
   "source": [
    "Ndf.iloc[2:10][[x for i, x in enumerate(Ndf.columns) if i in [2, 3, 6]]]"
   ]
  },
  {
   "cell_type": "code",
   "execution_count": 133,
   "id": "c0f3cf1f",
   "metadata": {},
   "outputs": [
    {
     "data": {
      "text/html": [
       "<div>\n",
       "<style scoped>\n",
       "    .dataframe tbody tr th:only-of-type {\n",
       "        vertical-align: middle;\n",
       "    }\n",
       "\n",
       "    .dataframe tbody tr th {\n",
       "        vertical-align: top;\n",
       "    }\n",
       "\n",
       "    .dataframe thead th {\n",
       "        text-align: right;\n",
       "    }\n",
       "</style>\n",
       "<table border=\"1\" class=\"dataframe\">\n",
       "  <thead>\n",
       "    <tr style=\"text-align: right;\">\n",
       "      <th></th>\n",
       "      <th>t</th>\n",
       "      <th>k</th>\n",
       "      <th>s</th>\n",
       "      <th>.</th>\n",
       "      <th>i</th>\n",
       "      <th>'</th>\n",
       "      <th>o</th>\n",
       "      <th>g</th>\n",
       "      <th>d</th>\n",
       "      <th>,</th>\n",
       "      <th>...</th>\n",
       "      <th>”</th>\n",
       "      <th>*</th>\n",
       "      <th></th>\n",
       "      <th>@</th>\n",
       "      <th>\\</th>\n",
       "      <th>、</th>\n",
       "      <th>+</th>\n",
       "      <th>#</th>\n",
       "      <th>#E</th>\n",
       "      <th>_</th>\n",
       "    </tr>\n",
       "  </thead>\n",
       "  <tbody>\n",
       "    <tr>\n",
       "      <th>a</th>\n",
       "      <td>51425.0</td>\n",
       "      <td>8359.0</td>\n",
       "      <td>23126.0</td>\n",
       "      <td>38.0</td>\n",
       "      <td>9878.0</td>\n",
       "      <td>110.0</td>\n",
       "      <td>132.0</td>\n",
       "      <td>5449.0</td>\n",
       "      <td>9842.0</td>\n",
       "      <td>0.0</td>\n",
       "      <td>...</td>\n",
       "      <td>0.0</td>\n",
       "      <td>0.0</td>\n",
       "      <td>0.0</td>\n",
       "      <td>0.0</td>\n",
       "      <td>0.0</td>\n",
       "      <td>0.0</td>\n",
       "      <td>0.0</td>\n",
       "      <td>0.0</td>\n",
       "      <td>33778.0</td>\n",
       "      <td>1.0</td>\n",
       "    </tr>\n",
       "    <tr>\n",
       "      <th>s</th>\n",
       "      <td>31490.0</td>\n",
       "      <td>1967.0</td>\n",
       "      <td>8588.0</td>\n",
       "      <td>521.0</td>\n",
       "      <td>13072.0</td>\n",
       "      <td>15.0</td>\n",
       "      <td>19879.0</td>\n",
       "      <td>42.0</td>\n",
       "      <td>318.0</td>\n",
       "      <td>0.0</td>\n",
       "      <td>...</td>\n",
       "      <td>0.0</td>\n",
       "      <td>0.0</td>\n",
       "      <td>0.0</td>\n",
       "      <td>0.0</td>\n",
       "      <td>0.0</td>\n",
       "      <td>0.0</td>\n",
       "      <td>0.0</td>\n",
       "      <td>0.0</td>\n",
       "      <td>115570.0</td>\n",
       "      <td>2.0</td>\n",
       "    </tr>\n",
       "  </tbody>\n",
       "</table>\n",
       "<p>2 rows × 73 columns</p>\n",
       "</div>"
      ],
      "text/plain": [
       "         t       k        s      .        i      '        o       g       d  \\\n",
       "a  51425.0  8359.0  23126.0   38.0   9878.0  110.0    132.0  5449.0  9842.0   \n",
       "s  31490.0  1967.0   8588.0  521.0  13072.0   15.0  19879.0    42.0   318.0   \n",
       "\n",
       "     ,  ...    ”    *        @    \\    、    +    #        #E    _  \n",
       "a  0.0  ...  0.0  0.0  0.0  0.0  0.0  0.0  0.0  0.0   33778.0  1.0  \n",
       "s  0.0  ...  0.0  0.0  0.0  0.0  0.0  0.0  0.0  0.0  115570.0  2.0  \n",
       "\n",
       "[2 rows x 73 columns]"
      ]
     },
     "execution_count": 133,
     "metadata": {},
     "output_type": "execute_result"
    }
   ],
   "source": [
    "Ndf.loc[['a', 's']]"
   ]
  },
  {
   "cell_type": "code",
   "execution_count": null,
   "id": "fae46353",
   "metadata": {},
   "outputs": [],
   "source": []
  }
 ],
 "metadata": {
  "kernelspec": {
   "display_name": "Python 3 (ipykernel)",
   "language": "python",
   "name": "python3"
  },
  "language_info": {
   "codemirror_mode": {
    "name": "ipython",
    "version": 3
   },
   "file_extension": ".py",
   "mimetype": "text/x-python",
   "name": "python",
   "nbconvert_exporter": "python",
   "pygments_lexer": "ipython3",
   "version": "3.8.8"
  },
  "toc": {
   "base_numbering": 1,
   "nav_menu": {},
   "number_sections": true,
   "sideBar": true,
   "skip_h1_title": false,
   "title_cell": "Table of Contents",
   "title_sidebar": "Contents",
   "toc_cell": false,
   "toc_position": {},
   "toc_section_display": true,
   "toc_window_display": false
  }
 },
 "nbformat": 4,
 "nbformat_minor": 5
}
