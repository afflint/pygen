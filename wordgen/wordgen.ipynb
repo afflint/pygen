{
 "cells": [
  {
   "cell_type": "markdown",
   "id": "71819365",
   "metadata": {},
   "source": [
    "# Generate random words"
   ]
  },
  {
   "cell_type": "markdown",
   "id": "d1fed0f1",
   "metadata": {},
   "source": [
    "## Unigram uniform extraction from chars"
   ]
  },
  {
   "cell_type": "markdown",
   "id": "1b37fb09",
   "metadata": {},
   "source": [
    "## Loading real italian words from a corpus\n",
    "Using [I promessi sposi](https://rosada.yolasite.com/resources/i_promessi%20sposi.txt)"
   ]
  },
  {
   "cell_type": "code",
   "execution_count": 1,
   "id": "57f1f7b8",
   "metadata": {},
   "outputs": [],
   "source": [
    "from nltk.tokenize import sent_tokenize, word_tokenize"
   ]
  },
  {
   "cell_type": "code",
   "execution_count": 3,
   "id": "678ce372",
   "metadata": {},
   "outputs": [],
   "source": [
    "with open('/Users/flint/Data/italian-texts/i_promessi sposi.txt', 'r', encoding='latin-1') as infile:\n",
    "    data = infile.read()"
   ]
  },
  {
   "cell_type": "code",
   "execution_count": 4,
   "id": "59129a7d",
   "metadata": {},
   "outputs": [],
   "source": [
    "sentences = sent_tokenize(data)"
   ]
  },
  {
   "cell_type": "code",
   "execution_count": 14,
   "id": "a442dbff",
   "metadata": {},
   "outputs": [
    {
     "data": {
      "text/plain": [
       "['Ma', \"gl'illustri\", 'Campioni', 'che']"
      ]
     },
     "execution_count": 14,
     "metadata": {},
     "output_type": "execute_result"
    }
   ],
   "source": [
    "word_tokenize(sentences[5])[:4]"
   ]
  },
  {
   "cell_type": "markdown",
   "id": "e59860c3",
   "metadata": {},
   "source": [
    "## Dealing with word length"
   ]
  },
  {
   "cell_type": "markdown",
   "id": "28705af1",
   "metadata": {},
   "source": [
    "## Dealing with char frequency"
   ]
  },
  {
   "cell_type": "markdown",
   "id": "3b342b50",
   "metadata": {},
   "source": [
    "## Dealing with char sequences"
   ]
  },
  {
   "cell_type": "markdown",
   "id": "bd6fb70f",
   "metadata": {},
   "source": [
    "## Markov chain\n",
    "\n",
    "$$\n",
    "P(w_1 w_2 w_3 \\dots w_m) = \\prod\\limits_{i}^{m} P(w_i \\mid w_1, w_2, \\dots, w_{i-1})\n",
    "$$\n",
    "\n",
    "$$\n",
    "P(\\textrm{the taxi drivers are} \\dots) = P(\\textrm{the}) \\times P(\\textrm{taxi} \\mid \\textrm{the}) \\times P(\\textrm{drivers} \\mid \\textrm{the}, \\textrm{taxi}) \\times P(\\textrm{are} \\mid \\textrm{the}, \\textrm{taxi}, \\textrm{drivers}) \\times \\dots\n",
    "$$\n",
    "\n",
    "$$\n",
    "P(w_1 w_2 w_3 \\dots w_m) = \\prod\\limits_{i}^{m} P(w_i \\mid w_{i-n}, \\dots, w_{i-2}, w_{i-1})\n",
    "$$\n",
    "\n",
    "$$\n",
    "with\\ n=2: P(w_1 w_2 w_3 \\dots w_m) = \\prod\\limits_{i}^{m} P(w_i \\mid w_{i-2}, w_{i-1})\n",
    "$$"
   ]
  },
  {
   "cell_type": "code",
   "execution_count": null,
   "id": "78a9134f",
   "metadata": {},
   "outputs": [],
   "source": []
  }
 ],
 "metadata": {
  "kernelspec": {
   "display_name": "Python 3 (ipykernel)",
   "language": "python",
   "name": "python3"
  },
  "language_info": {
   "codemirror_mode": {
    "name": "ipython",
    "version": 3
   },
   "file_extension": ".py",
   "mimetype": "text/x-python",
   "name": "python",
   "nbconvert_exporter": "python",
   "pygments_lexer": "ipython3",
   "version": "3.8.8"
  },
  "toc": {
   "base_numbering": 1,
   "nav_menu": {},
   "number_sections": true,
   "sideBar": true,
   "skip_h1_title": false,
   "title_cell": "Table of Contents",
   "title_sidebar": "Contents",
   "toc_cell": false,
   "toc_position": {},
   "toc_section_display": true,
   "toc_window_display": false
  }
 },
 "nbformat": 4,
 "nbformat_minor": 5
}
