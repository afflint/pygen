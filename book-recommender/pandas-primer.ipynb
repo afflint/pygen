{
 "cells": [
  {
   "cell_type": "code",
   "execution_count": 1,
   "metadata": {},
   "outputs": [],
   "source": [
    "import pandas as pd "
   ]
  },
  {
   "cell_type": "code",
   "execution_count": 2,
   "metadata": {},
   "outputs": [
    {
     "name": "stdout",
     "output_type": "stream",
     "text": [
      "nome alfio\n",
      "cognome ferrara\n",
      "eta 25\n",
      "residenza milano\n",
      "altezza 180\n"
     ]
    }
   ],
   "source": [
    "c = {'nome': 'alfio', 'cognome': 'ferrara', 'eta': 25, 'residenza': 'milano'}\n",
    "c['altezza'] = 180"
   ]
  },
  {
   "cell_type": "code",
   "execution_count": 20,
   "metadata": {},
   "outputs": [
    {
     "data": {
      "text/plain": [
       "[('x0', 1), ('x1', 2), ('x2', 3), ('x3', 4), ('x4', 5)]"
      ]
     },
     "execution_count": 20,
     "metadata": {},
     "output_type": "execute_result"
    }
   ],
   "source": [
    "[('x' + str(i), e) for i, e in enumerate([1, 2, 3, 4, 5])]"
   ]
  },
  {
   "cell_type": "code",
   "execution_count": 22,
   "metadata": {},
   "outputs": [
    {
     "data": {
      "text/plain": [
       "x0    1\n",
       "x1    2\n",
       "x2    3\n",
       "x3    4\n",
       "x4    5\n",
       "dtype: int64"
      ]
     },
     "execution_count": 22,
     "metadata": {},
     "output_type": "execute_result"
    }
   ],
   "source": [
    "s = pd.Series(c)\n",
    "p = pd.Series(dict([('x' + str(i), e) for i, e in enumerate([1, 2, 3, 4, 5])]))\n",
    "p"
   ]
  },
  {
   "cell_type": "code",
   "execution_count": 68,
   "metadata": {},
   "outputs": [],
   "source": [
    "c = {'nome': 'alfio', 'cognome': 'ferrara', 'eta': 25, 'residenza': 'milano'}\n",
    "b = {'nome': 'maria', 'cognome': 'rossi', 'eta': 20, 'residenza': 'bologna', 'laurea': 'lettere', 'voto': 108}\n",
    "k = {'nome': 'gino', 'cognome': 'bianchi', 'eta': 30, 'residenza': 'milano', 'laurea': 'fisica', 'voto': 110}\n",
    "\n",
    "df = pd.DataFrame([c, b, k], index=['A5462', 'A6422', 'A3442'])"
   ]
  },
  {
   "cell_type": "code",
   "execution_count": 69,
   "metadata": {},
   "outputs": [
    {
     "data": {
      "text/html": [
       "<div>\n",
       "<style scoped>\n",
       "    .dataframe tbody tr th:only-of-type {\n",
       "        vertical-align: middle;\n",
       "    }\n",
       "\n",
       "    .dataframe tbody tr th {\n",
       "        vertical-align: top;\n",
       "    }\n",
       "\n",
       "    .dataframe thead th {\n",
       "        text-align: right;\n",
       "    }\n",
       "</style>\n",
       "<table border=\"1\" class=\"dataframe\">\n",
       "  <thead>\n",
       "    <tr style=\"text-align: right;\">\n",
       "      <th></th>\n",
       "      <th>eta</th>\n",
       "      <th>voto</th>\n",
       "    </tr>\n",
       "    <tr>\n",
       "      <th>residenza</th>\n",
       "      <th></th>\n",
       "      <th></th>\n",
       "    </tr>\n",
       "  </thead>\n",
       "  <tbody>\n",
       "    <tr>\n",
       "      <th>bologna</th>\n",
       "      <td>20.0</td>\n",
       "      <td>108.0</td>\n",
       "    </tr>\n",
       "    <tr>\n",
       "      <th>milano</th>\n",
       "      <td>27.5</td>\n",
       "      <td>110.0</td>\n",
       "    </tr>\n",
       "  </tbody>\n",
       "</table>\n",
       "</div>"
      ],
      "text/plain": [
       "            eta   voto\n",
       "residenza             \n",
       "bologna    20.0  108.0\n",
       "milano     27.5  110.0"
      ]
     },
     "execution_count": 69,
     "metadata": {},
     "output_type": "execute_result"
    }
   ],
   "source": [
    "df[['residenza', 'eta', 'voto']].groupby(by='residenza').median()"
   ]
  },
  {
   "cell_type": "markdown",
   "metadata": {},
   "source": []
  },
  {
   "cell_type": "code",
   "execution_count": 74,
   "metadata": {},
   "outputs": [
    {
     "data": {
      "text/html": [
       "<div>\n",
       "<style scoped>\n",
       "    .dataframe tbody tr th:only-of-type {\n",
       "        vertical-align: middle;\n",
       "    }\n",
       "\n",
       "    .dataframe tbody tr th {\n",
       "        vertical-align: top;\n",
       "    }\n",
       "\n",
       "    .dataframe thead th {\n",
       "        text-align: right;\n",
       "    }\n",
       "</style>\n",
       "<table border=\"1\" class=\"dataframe\">\n",
       "  <thead>\n",
       "    <tr style=\"text-align: right;\">\n",
       "      <th></th>\n",
       "      <th>index</th>\n",
       "      <th>nome</th>\n",
       "      <th>cognome</th>\n",
       "      <th>eta</th>\n",
       "      <th>residenza</th>\n",
       "      <th>laurea</th>\n",
       "      <th>voto</th>\n",
       "    </tr>\n",
       "  </thead>\n",
       "  <tbody>\n",
       "    <tr>\n",
       "      <th>0</th>\n",
       "      <td>A5462</td>\n",
       "      <td>alfio</td>\n",
       "      <td>ferrara</td>\n",
       "      <td>25</td>\n",
       "      <td>milano</td>\n",
       "      <td>NaN</td>\n",
       "      <td>NaN</td>\n",
       "    </tr>\n",
       "    <tr>\n",
       "      <th>1</th>\n",
       "      <td>A6422</td>\n",
       "      <td>maria</td>\n",
       "      <td>rossi</td>\n",
       "      <td>20</td>\n",
       "      <td>bologna</td>\n",
       "      <td>lettere</td>\n",
       "      <td>108.0</td>\n",
       "    </tr>\n",
       "    <tr>\n",
       "      <th>2</th>\n",
       "      <td>A3442</td>\n",
       "      <td>gino</td>\n",
       "      <td>bianchi</td>\n",
       "      <td>30</td>\n",
       "      <td>milano</td>\n",
       "      <td>fisica</td>\n",
       "      <td>110.0</td>\n",
       "    </tr>\n",
       "  </tbody>\n",
       "</table>\n",
       "</div>"
      ],
      "text/plain": [
       "   index   nome  cognome  eta residenza   laurea   voto\n",
       "0  A5462  alfio  ferrara   25    milano      NaN    NaN\n",
       "1  A6422  maria    rossi   20   bologna  lettere  108.0\n",
       "2  A3442   gino  bianchi   30    milano   fisica  110.0"
      ]
     },
     "execution_count": 74,
     "metadata": {},
     "output_type": "execute_result"
    }
   ],
   "source": [
    "df.reset_index()"
   ]
  },
  {
   "cell_type": "code",
   "execution_count": null,
   "metadata": {},
   "outputs": [],
   "source": []
  }
 ],
 "metadata": {
  "kernelspec": {
   "display_name": "nlp",
   "language": "python",
   "name": "python3"
  },
  "language_info": {
   "codemirror_mode": {
    "name": "ipython",
    "version": 3
   },
   "file_extension": ".py",
   "mimetype": "text/x-python",
   "name": "python",
   "nbconvert_exporter": "python",
   "pygments_lexer": "ipython3",
   "version": "3.9.17"
  }
 },
 "nbformat": 4,
 "nbformat_minor": 2
}
