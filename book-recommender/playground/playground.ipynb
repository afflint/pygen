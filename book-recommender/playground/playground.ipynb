{
 "cells": [
  {
   "cell_type": "markdown",
   "metadata": {},
   "source": [
    "## Serie di Fibonacci\n",
    "\n",
    "La serie di fibonacci è la serie composta dalla somma degli ultimi due valori secondo la formula\n",
    "\n",
    "$$\n",
    "x_i = x_{i-2} + x_{i-1}\n",
    "$$"
   ]
  },
  {
   "cell_type": "code",
   "execution_count": 3,
   "metadata": {},
   "outputs": [
    {
     "name": "stdout",
     "output_type": "stream",
     "text": [
      "[0, 1, 1, 2, 3, 5, 8, 13, 21, 34, 55, 89, 144, 233, 377, 610, 987, 1597, 2584, 4181, 6765, 10946]\n"
     ]
    }
   ],
   "source": [
    "output = [0, 1]\n",
    "for x in range(20):\n",
    "    output.append(output[-1] + output[-2])\n",
    "print(output)"
   ]
  },
  {
   "cell_type": "code",
   "execution_count": 2,
   "metadata": {},
   "outputs": [],
   "source": [
    "output = [4, 5]"
   ]
  },
  {
   "cell_type": "code",
   "execution_count": 4,
   "metadata": {},
   "outputs": [
    {
     "name": "stdout",
     "output_type": "stream",
     "text": [
      "[0, 1, 1, 2, 3, 5, 8, 13, 21, 34, 55, 89, 144, 233, 377, 610, 987, 1597, 2584, 4181, 6765, 10946]\n"
     ]
    }
   ],
   "source": [
    "print(output)"
   ]
  },
  {
   "cell_type": "markdown",
   "metadata": {},
   "source": [
    "## Dizionari"
   ]
  },
  {
   "cell_type": "code",
   "execution_count": 6,
   "metadata": {},
   "outputs": [],
   "source": [
    "c1 = ['gino', 'bianchi', 34, 'milano']\n",
    "c2 = ['maria', 'verdi', 24, 'torino']\n",
    "clients = [c1, c2]"
   ]
  },
  {
   "cell_type": "code",
   "execution_count": 7,
   "metadata": {},
   "outputs": [
    {
     "name": "stdout",
     "output_type": "stream",
     "text": [
      "bianchi 34\n",
      "verdi 24\n"
     ]
    }
   ],
   "source": [
    "for client in clients:\n",
    "    print(client[1], client[2])"
   ]
  },
  {
   "cell_type": "code",
   "execution_count": 14,
   "metadata": {},
   "outputs": [],
   "source": [
    "c1 = {'cognome': 'bianchi', 'nome': 'gino',  \n",
    "    'eta': 34, 'indirizzo': 'milano'}\n",
    "c2 = {'nome': 'maria', 'cognome': 'verdi', \n",
    "    'eta': 24, 'indirizzo': 'torino'}\n",
    "clients = [c1, c2]\n"
   ]
  },
  {
   "cell_type": "code",
   "execution_count": 15,
   "metadata": {},
   "outputs": [
    {
     "name": "stdout",
     "output_type": "stream",
     "text": [
      "bianchi 34\n",
      "verdi 24\n"
     ]
    }
   ],
   "source": [
    "for client in clients:\n",
    "    print(client['cognome'], client['eta'])"
   ]
  },
  {
   "cell_type": "code",
   "execution_count": 20,
   "metadata": {},
   "outputs": [],
   "source": [
    "c1['professione'], c1['civile'] = 'impiegato', 'celibe'"
   ]
  },
  {
   "cell_type": "code",
   "execution_count": 23,
   "metadata": {},
   "outputs": [
    {
     "data": {
      "text/plain": [
       "{'cognome': 'bianchi',\n",
       " 'nome': 'gino',\n",
       " 'eta': 34,\n",
       " 'indirizzo': 'milano',\n",
       " 'professione': 'impiegato',\n",
       " 'civile': 'coniugato'}"
      ]
     },
     "execution_count": 23,
     "metadata": {},
     "output_type": "execute_result"
    }
   ],
   "source": [
    "c1['civile'] = 'coniugato'\n",
    "c1"
   ]
  },
  {
   "cell_type": "code",
   "execution_count": 28,
   "metadata": {},
   "outputs": [
    {
     "name": "stdout",
     "output_type": "stream",
     "text": [
      "cognome bianchi\n",
      "nome gino\n",
      "eta 34\n",
      "indirizzo milano\n",
      "professione impiegato\n",
      "civile coniugato\n"
     ]
    }
   ],
   "source": [
    "for k, v in c1.items():\n",
    "    print(k, v)"
   ]
  },
  {
   "cell_type": "code",
   "execution_count": 29,
   "metadata": {},
   "outputs": [],
   "source": [
    "import numpy as np "
   ]
  },
  {
   "cell_type": "code",
   "execution_count": 43,
   "metadata": {},
   "outputs": [],
   "source": [
    "numbers = np.random.randint(0, 10, size=10000)"
   ]
  },
  {
   "cell_type": "code",
   "execution_count": 44,
   "metadata": {},
   "outputs": [],
   "source": [
    "output = {}\n",
    "for n in numbers:\n",
    "    if n in output.keys():\n",
    "        output[n] = output[n] + 1\n",
    "    else:\n",
    "        output[n] = 1"
   ]
  },
  {
   "cell_type": "code",
   "execution_count": 48,
   "metadata": {},
   "outputs": [],
   "source": [
    "output = {}\n",
    "for n in numbers:\n",
    "    try:\n",
    "        output[n] = output[n] + 1\n",
    "    except KeyError:\n",
    "        output[n] = 1\n",
    "#        raise Exception(\"attento la chiave non c'è\")\n"
   ]
  },
  {
   "cell_type": "code",
   "execution_count": null,
   "metadata": {},
   "outputs": [],
   "source": []
  }
 ],
 "metadata": {
  "kernelspec": {
   "display_name": "nlp",
   "language": "python",
   "name": "python3"
  },
  "language_info": {
   "codemirror_mode": {
    "name": "ipython",
    "version": 3
   },
   "file_extension": ".py",
   "mimetype": "text/x-python",
   "name": "python",
   "nbconvert_exporter": "python",
   "pygments_lexer": "ipython3",
   "version": "3.9.17"
  }
 },
 "nbformat": 4,
 "nbformat_minor": 2
}
