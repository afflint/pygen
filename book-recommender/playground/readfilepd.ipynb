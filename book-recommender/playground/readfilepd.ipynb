{
 "cells": [
  {
   "cell_type": "code",
   "execution_count": 2,
   "metadata": {},
   "outputs": [],
   "source": [
    "folder = \"/Users/flint/Data/kaggle/books/book-recommender/\"\n",
    "metadata_file = \"collaborative_book_metadata.csv\"\n",
    "ratings_file = \"collaborative_books_df.csv\""
   ]
  },
  {
   "cell_type": "markdown",
   "metadata": {},
   "source": [
    "## I/O generico da file"
   ]
  },
  {
   "cell_type": "code",
   "execution_count": 3,
   "metadata": {},
   "outputs": [],
   "source": [
    "metadata_f = folder + metadata_file\n",
    "ratings_f = folder + ratings_file\n",
    "reader = open(ratings_f, 'r')\n",
    "content = reader.readlines()\n",
    "reader.close()"
   ]
  },
  {
   "cell_type": "markdown",
   "metadata": {},
   "source": [
    "## Pandas"
   ]
  },
  {
   "cell_type": "code",
   "execution_count": 4,
   "metadata": {},
   "outputs": [],
   "source": [
    "import pandas as pd \n",
    "import numpy as np "
   ]
  },
  {
   "cell_type": "code",
   "execution_count": 5,
   "metadata": {},
   "outputs": [],
   "source": [
    "c1 = {\n",
    "    'nome': 'gino', 'cognome': 'bianchi', 'eta': 34}\n",
    "c2 = {'nome': 'maria', 'cognome': 'verdi', \n",
    "    'eta': 24, 'indirizzo': 'torino', 'civile': 'nubile'}\n",
    "c3 = {'nome': 'ettore', 'cognome': 'rossi', \n",
    "    'eta': 44, 'indirizzo': 'milano'}\n",
    "clients = [c1, c2, c3]\n",
    "\n",
    "df = pd.DataFrame(clients)"
   ]
  },
  {
   "cell_type": "code",
   "execution_count": 6,
   "metadata": {},
   "outputs": [
    {
     "data": {
      "text/html": [
       "<div>\n",
       "<style scoped>\n",
       "    .dataframe tbody tr th:only-of-type {\n",
       "        vertical-align: middle;\n",
       "    }\n",
       "\n",
       "    .dataframe tbody tr th {\n",
       "        vertical-align: top;\n",
       "    }\n",
       "\n",
       "    .dataframe thead th {\n",
       "        text-align: right;\n",
       "    }\n",
       "</style>\n",
       "<table border=\"1\" class=\"dataframe\">\n",
       "  <thead>\n",
       "    <tr style=\"text-align: right;\">\n",
       "      <th></th>\n",
       "      <th>nome</th>\n",
       "      <th>cognome</th>\n",
       "      <th>eta</th>\n",
       "      <th>indirizzo</th>\n",
       "      <th>civile</th>\n",
       "    </tr>\n",
       "  </thead>\n",
       "  <tbody>\n",
       "    <tr>\n",
       "      <th>0</th>\n",
       "      <td>gino</td>\n",
       "      <td>bianchi</td>\n",
       "      <td>34</td>\n",
       "      <td>NaN</td>\n",
       "      <td>NaN</td>\n",
       "    </tr>\n",
       "    <tr>\n",
       "      <th>1</th>\n",
       "      <td>maria</td>\n",
       "      <td>verdi</td>\n",
       "      <td>24</td>\n",
       "      <td>torino</td>\n",
       "      <td>nubile</td>\n",
       "    </tr>\n",
       "    <tr>\n",
       "      <th>2</th>\n",
       "      <td>ettore</td>\n",
       "      <td>rossi</td>\n",
       "      <td>44</td>\n",
       "      <td>milano</td>\n",
       "      <td>NaN</td>\n",
       "    </tr>\n",
       "  </tbody>\n",
       "</table>\n",
       "</div>"
      ],
      "text/plain": [
       "     nome  cognome  eta indirizzo  civile\n",
       "0    gino  bianchi   34       NaN     NaN\n",
       "1   maria    verdi   24    torino  nubile\n",
       "2  ettore    rossi   44    milano     NaN"
      ]
     },
     "execution_count": 6,
     "metadata": {},
     "output_type": "execute_result"
    }
   ],
   "source": [
    "df "
   ]
  },
  {
   "cell_type": "code",
   "execution_count": 7,
   "metadata": {},
   "outputs": [
    {
     "data": {
      "text/plain": [
       "indirizzo\n",
       "milano    44.0\n",
       "torino    24.0\n",
       "Name: eta, dtype: float64"
      ]
     },
     "execution_count": 7,
     "metadata": {},
     "output_type": "execute_result"
    }
   ],
   "source": [
    "df.groupby('indirizzo')['eta'].mean()"
   ]
  },
  {
   "cell_type": "code",
   "execution_count": 8,
   "metadata": {},
   "outputs": [],
   "source": [
    "numbers = np.random.randint(0, 10, size=10000)\n",
    "output = {}\n",
    "for n in numbers:\n",
    "    if n in output.keys():\n",
    "        output[n] = output[n] + 1\n",
    "    else:\n",
    "        output[n] = 1\n"
   ]
  },
  {
   "cell_type": "code",
   "execution_count": 9,
   "metadata": {},
   "outputs": [],
   "source": [
    "o = pd.Series(output)"
   ]
  },
  {
   "cell_type": "code",
   "execution_count": 10,
   "metadata": {},
   "outputs": [
    {
     "data": {
      "text/plain": [
       "9    1075\n",
       "3    1019\n",
       "7    1017\n",
       "4    1010\n",
       "0     998\n",
       "2     987\n",
       "6     987\n",
       "1     976\n",
       "5     975\n",
       "8     956\n",
       "dtype: int64"
      ]
     },
     "execution_count": 10,
     "metadata": {},
     "output_type": "execute_result"
    }
   ],
   "source": [
    "o.sort_values(ascending=False)"
   ]
  },
  {
   "cell_type": "markdown",
   "metadata": {},
   "source": [
    "## I/O con Pandas"
   ]
  },
  {
   "cell_type": "code",
   "execution_count": 11,
   "metadata": {},
   "outputs": [],
   "source": [
    "ratings = pd.read_csv(ratings_f, index_col=0)\n",
    "metadata = pd.read_csv(metadata_f, index_col=0)"
   ]
  },
  {
   "cell_type": "code",
   "execution_count": 12,
   "metadata": {},
   "outputs": [
    {
     "data": {
      "text/html": [
       "<div>\n",
       "<style scoped>\n",
       "    .dataframe tbody tr th:only-of-type {\n",
       "        vertical-align: middle;\n",
       "    }\n",
       "\n",
       "    .dataframe tbody tr th {\n",
       "        vertical-align: top;\n",
       "    }\n",
       "\n",
       "    .dataframe thead th {\n",
       "        text-align: right;\n",
       "    }\n",
       "</style>\n",
       "<table border=\"1\" class=\"dataframe\">\n",
       "  <thead>\n",
       "    <tr style=\"text-align: right;\">\n",
       "      <th></th>\n",
       "      <th>book_id</th>\n",
       "      <th>title</th>\n",
       "      <th>image_url</th>\n",
       "      <th>url</th>\n",
       "      <th>num_pages</th>\n",
       "      <th>ratings_count</th>\n",
       "      <th>description</th>\n",
       "      <th>genre</th>\n",
       "      <th>name</th>\n",
       "      <th>book_id_mapping</th>\n",
       "    </tr>\n",
       "  </thead>\n",
       "  <tbody>\n",
       "    <tr>\n",
       "      <th>0</th>\n",
       "      <td>5899779</td>\n",
       "      <td>Pride and Prejudice and Zombies Pride and Prej...</td>\n",
       "      <td>https://images.gr-assets.com/books/1320449653m...</td>\n",
       "      <td>https://www.goodreads.com/book/show/5899779-pr...</td>\n",
       "      <td>320</td>\n",
       "      <td>105537</td>\n",
       "      <td>The New York Times Best Seller is now a major ...</td>\n",
       "      <td>['fantasy, paranormal', 'romance', 'fiction', ...</td>\n",
       "      <td>Jane Austen</td>\n",
       "      <td>808</td>\n",
       "    </tr>\n",
       "    <tr>\n",
       "      <th>1</th>\n",
       "      <td>872333</td>\n",
       "      <td>Blue Bloods Blue Bloods 1</td>\n",
       "      <td>https://images.gr-assets.com/books/1322281515m...</td>\n",
       "      <td>https://www.goodreads.com/book/show/872333.Blu...</td>\n",
       "      <td>302</td>\n",
       "      <td>117633</td>\n",
       "      <td>When the Mayflower set sail in 1620, it carrie...</td>\n",
       "      <td>['young-adult', 'fantasy, paranormal', 'romanc...</td>\n",
       "      <td>Melissa de la Cruz</td>\n",
       "      <td>217</td>\n",
       "    </tr>\n",
       "    <tr>\n",
       "      <th>2</th>\n",
       "      <td>15507958</td>\n",
       "      <td>Me Before You Me Before You 1</td>\n",
       "      <td>https://images.gr-assets.com/books/1357108762m...</td>\n",
       "      <td>https://www.goodreads.com/book/show/15507958-m...</td>\n",
       "      <td>369</td>\n",
       "      <td>609327</td>\n",
       "      <td>Louisa Clark is an ordinary young woman living...</td>\n",
       "      <td>['romance', 'fiction']</td>\n",
       "      <td>Jojo Moyes</td>\n",
       "      <td>385</td>\n",
       "    </tr>\n",
       "  </tbody>\n",
       "</table>\n",
       "</div>"
      ],
      "text/plain": [
       "    book_id                                              title  \\\n",
       "0   5899779  Pride and Prejudice and Zombies Pride and Prej...   \n",
       "1    872333                          Blue Bloods Blue Bloods 1   \n",
       "2  15507958                      Me Before You Me Before You 1   \n",
       "\n",
       "                                           image_url  \\\n",
       "0  https://images.gr-assets.com/books/1320449653m...   \n",
       "1  https://images.gr-assets.com/books/1322281515m...   \n",
       "2  https://images.gr-assets.com/books/1357108762m...   \n",
       "\n",
       "                                                 url  num_pages  \\\n",
       "0  https://www.goodreads.com/book/show/5899779-pr...        320   \n",
       "1  https://www.goodreads.com/book/show/872333.Blu...        302   \n",
       "2  https://www.goodreads.com/book/show/15507958-m...        369   \n",
       "\n",
       "   ratings_count                                        description  \\\n",
       "0         105537  The New York Times Best Seller is now a major ...   \n",
       "1         117633  When the Mayflower set sail in 1620, it carrie...   \n",
       "2         609327  Louisa Clark is an ordinary young woman living...   \n",
       "\n",
       "                                               genre                name  \\\n",
       "0  ['fantasy, paranormal', 'romance', 'fiction', ...         Jane Austen   \n",
       "1  ['young-adult', 'fantasy, paranormal', 'romanc...  Melissa de la Cruz   \n",
       "2                             ['romance', 'fiction']          Jojo Moyes   \n",
       "\n",
       "   book_id_mapping  \n",
       "0              808  \n",
       "1              217  \n",
       "2              385  "
      ]
     },
     "execution_count": 12,
     "metadata": {},
     "output_type": "execute_result"
    }
   ],
   "source": [
    "metadata.head(3)"
   ]
  },
  {
   "cell_type": "code",
   "execution_count": 22,
   "metadata": {},
   "outputs": [
    {
     "data": {
      "text/plain": [
       "\"['fantasy, paranormal', 'romance', 'fiction', 'history, historical fiction, biography', 'young-adult', 'mystery, thriller, crime']\""
      ]
     },
     "execution_count": 22,
     "metadata": {},
     "output_type": "execute_result"
    }
   ],
   "source": [
    "metadata.iloc[0]['genre']"
   ]
  },
  {
   "cell_type": "code",
   "execution_count": 13,
   "metadata": {},
   "outputs": [
    {
     "data": {
      "text/html": [
       "<div>\n",
       "<style scoped>\n",
       "    .dataframe tbody tr th:only-of-type {\n",
       "        vertical-align: middle;\n",
       "    }\n",
       "\n",
       "    .dataframe tbody tr th {\n",
       "        vertical-align: top;\n",
       "    }\n",
       "\n",
       "    .dataframe thead th {\n",
       "        text-align: right;\n",
       "    }\n",
       "</style>\n",
       "<table border=\"1\" class=\"dataframe\">\n",
       "  <thead>\n",
       "    <tr style=\"text-align: right;\">\n",
       "      <th></th>\n",
       "      <th>title</th>\n",
       "      <th>book_id</th>\n",
       "      <th>user_id_mapping</th>\n",
       "      <th>book_id_mapping</th>\n",
       "      <th>Predicted Rating</th>\n",
       "      <th>Actual Rating</th>\n",
       "    </tr>\n",
       "  </thead>\n",
       "  <tbody>\n",
       "    <tr>\n",
       "      <th>196293</th>\n",
       "      <td>Coraline</td>\n",
       "      <td>17061</td>\n",
       "      <td>31383</td>\n",
       "      <td>106</td>\n",
       "      <td>3.6</td>\n",
       "      <td>3</td>\n",
       "    </tr>\n",
       "    <tr>\n",
       "      <th>196294</th>\n",
       "      <td>Coraline</td>\n",
       "      <td>17061</td>\n",
       "      <td>33833</td>\n",
       "      <td>106</td>\n",
       "      <td>3.7</td>\n",
       "      <td>5</td>\n",
       "    </tr>\n",
       "    <tr>\n",
       "      <th>196295</th>\n",
       "      <td>Coraline</td>\n",
       "      <td>17061</td>\n",
       "      <td>61413</td>\n",
       "      <td>106</td>\n",
       "      <td>3.8</td>\n",
       "      <td>4</td>\n",
       "    </tr>\n",
       "  </tbody>\n",
       "</table>\n",
       "</div>"
      ],
      "text/plain": [
       "           title  book_id  user_id_mapping  book_id_mapping  Predicted Rating  \\\n",
       "196293  Coraline    17061            31383              106               3.6   \n",
       "196294  Coraline    17061            33833              106               3.7   \n",
       "196295  Coraline    17061            61413              106               3.8   \n",
       "\n",
       "        Actual Rating  \n",
       "196293              3  \n",
       "196294              5  \n",
       "196295              4  "
      ]
     },
     "execution_count": 13,
     "metadata": {},
     "output_type": "execute_result"
    }
   ],
   "source": [
    "ratings.tail(3)"
   ]
  },
  {
   "cell_type": "markdown",
   "metadata": {},
   "source": [
    "### Note\n",
    "1. Libri\n",
    "   1. genere dei libri \n",
    "   2. autore \n",
    "   3. numero pagine (da verificare tramite correlazione)\n",
    "2. Utenti\n",
    "   1. simili se apprezzano le stesse cose (libri)\n",
    "   2. preferenze degli utenti rispetto ai generi \n",
    "   3. preferenze degli utenti rispetto agli autori"
   ]
  },
  {
   "cell_type": "code",
   "execution_count": 14,
   "metadata": {},
   "outputs": [],
   "source": [
    "books_data = ['book_id_mapping', 'title', 'num_pages', 'genre', 'name']\n",
    "ratings_data = ['book_id_mapping', 'user_id_mapping', 'Actual Rating']\n",
    "meta_df = metadata[books_data]\n",
    "ratings_df = ratings[ratings_data]"
   ]
  },
  {
   "cell_type": "code",
   "execution_count": 15,
   "metadata": {},
   "outputs": [
    {
     "data": {
      "text/html": [
       "<div>\n",
       "<style scoped>\n",
       "    .dataframe tbody tr th:only-of-type {\n",
       "        vertical-align: middle;\n",
       "    }\n",
       "\n",
       "    .dataframe tbody tr th {\n",
       "        vertical-align: top;\n",
       "    }\n",
       "\n",
       "    .dataframe thead th {\n",
       "        text-align: right;\n",
       "    }\n",
       "</style>\n",
       "<table border=\"1\" class=\"dataframe\">\n",
       "  <thead>\n",
       "    <tr style=\"text-align: right;\">\n",
       "      <th></th>\n",
       "      <th>book_id_mapping</th>\n",
       "      <th>title</th>\n",
       "      <th>num_pages</th>\n",
       "      <th>genre</th>\n",
       "      <th>name</th>\n",
       "    </tr>\n",
       "  </thead>\n",
       "  <tbody>\n",
       "    <tr>\n",
       "      <th>0</th>\n",
       "      <td>808</td>\n",
       "      <td>Pride and Prejudice and Zombies Pride and Prej...</td>\n",
       "      <td>320</td>\n",
       "      <td>['fantasy, paranormal', 'romance', 'fiction', ...</td>\n",
       "      <td>Jane Austen</td>\n",
       "    </tr>\n",
       "    <tr>\n",
       "      <th>1</th>\n",
       "      <td>217</td>\n",
       "      <td>Blue Bloods Blue Bloods 1</td>\n",
       "      <td>302</td>\n",
       "      <td>['young-adult', 'fantasy, paranormal', 'romanc...</td>\n",
       "      <td>Melissa de la Cruz</td>\n",
       "    </tr>\n",
       "    <tr>\n",
       "      <th>2</th>\n",
       "      <td>385</td>\n",
       "      <td>Me Before You Me Before You 1</td>\n",
       "      <td>369</td>\n",
       "      <td>['romance', 'fiction']</td>\n",
       "      <td>Jojo Moyes</td>\n",
       "    </tr>\n",
       "    <tr>\n",
       "      <th>3</th>\n",
       "      <td>192</td>\n",
       "      <td>Sharp Objects</td>\n",
       "      <td>254</td>\n",
       "      <td>['mystery, thriller, crime', 'fiction']</td>\n",
       "      <td>Gillian Flynn</td>\n",
       "    </tr>\n",
       "    <tr>\n",
       "      <th>4</th>\n",
       "      <td>873</td>\n",
       "      <td>The Way of Kings The Stormlight Archive 1</td>\n",
       "      <td>1007</td>\n",
       "      <td>['fantasy, paranormal', 'fiction']</td>\n",
       "      <td>Brandon Sanderson</td>\n",
       "    </tr>\n",
       "    <tr>\n",
       "      <th>...</th>\n",
       "      <td>...</td>\n",
       "      <td>...</td>\n",
       "      <td>...</td>\n",
       "      <td>...</td>\n",
       "      <td>...</td>\n",
       "    </tr>\n",
       "    <tr>\n",
       "      <th>91</th>\n",
       "      <td>356</td>\n",
       "      <td>How to Be a Woman</td>\n",
       "      <td>312</td>\n",
       "      <td>['non-fiction', 'history, historical fiction, ...</td>\n",
       "      <td>Caitlin Moran</td>\n",
       "    </tr>\n",
       "    <tr>\n",
       "      <th>92</th>\n",
       "      <td>708</td>\n",
       "      <td>Persepolis The Story of a Childhood Persepolis 1</td>\n",
       "      <td>153</td>\n",
       "      <td>['comics, graphic', 'non-fiction', 'history, h...</td>\n",
       "      <td>Mattias Ripa</td>\n",
       "    </tr>\n",
       "    <tr>\n",
       "      <th>93</th>\n",
       "      <td>175</td>\n",
       "      <td>The City of Ember Book of Ember 1</td>\n",
       "      <td>270</td>\n",
       "      <td>['young-adult', 'fantasy, paranormal', 'fictio...</td>\n",
       "      <td>Jeanne DuPrau</td>\n",
       "    </tr>\n",
       "    <tr>\n",
       "      <th>94</th>\n",
       "      <td>374</td>\n",
       "      <td>Wicked The Life and Times of the Wicked Witch ...</td>\n",
       "      <td>409</td>\n",
       "      <td>['fantasy, paranormal', 'fiction', 'young-adul...</td>\n",
       "      <td>Douglas Smith</td>\n",
       "    </tr>\n",
       "    <tr>\n",
       "      <th>95</th>\n",
       "      <td>508</td>\n",
       "      <td>Harry Potter and the Cursed Child Parts 1 2 Ha...</td>\n",
       "      <td>309</td>\n",
       "      <td>['fantasy, paranormal', 'fiction', 'young-adul...</td>\n",
       "      <td>Jack Thorne</td>\n",
       "    </tr>\n",
       "  </tbody>\n",
       "</table>\n",
       "<p>96 rows × 5 columns</p>\n",
       "</div>"
      ],
      "text/plain": [
       "    book_id_mapping                                              title  \\\n",
       "0               808  Pride and Prejudice and Zombies Pride and Prej...   \n",
       "1               217                          Blue Bloods Blue Bloods 1   \n",
       "2               385                      Me Before You Me Before You 1   \n",
       "3               192                                      Sharp Objects   \n",
       "4               873          The Way of Kings The Stormlight Archive 1   \n",
       "..              ...                                                ...   \n",
       "91              356                                  How to Be a Woman   \n",
       "92              708   Persepolis The Story of a Childhood Persepolis 1   \n",
       "93              175                  The City of Ember Book of Ember 1   \n",
       "94              374  Wicked The Life and Times of the Wicked Witch ...   \n",
       "95              508  Harry Potter and the Cursed Child Parts 1 2 Ha...   \n",
       "\n",
       "    num_pages                                              genre  \\\n",
       "0         320  ['fantasy, paranormal', 'romance', 'fiction', ...   \n",
       "1         302  ['young-adult', 'fantasy, paranormal', 'romanc...   \n",
       "2         369                             ['romance', 'fiction']   \n",
       "3         254            ['mystery, thriller, crime', 'fiction']   \n",
       "4        1007                 ['fantasy, paranormal', 'fiction']   \n",
       "..        ...                                                ...   \n",
       "91        312  ['non-fiction', 'history, historical fiction, ...   \n",
       "92        153  ['comics, graphic', 'non-fiction', 'history, h...   \n",
       "93        270  ['young-adult', 'fantasy, paranormal', 'fictio...   \n",
       "94        409  ['fantasy, paranormal', 'fiction', 'young-adul...   \n",
       "95        309  ['fantasy, paranormal', 'fiction', 'young-adul...   \n",
       "\n",
       "                  name  \n",
       "0          Jane Austen  \n",
       "1   Melissa de la Cruz  \n",
       "2           Jojo Moyes  \n",
       "3        Gillian Flynn  \n",
       "4    Brandon Sanderson  \n",
       "..                 ...  \n",
       "91       Caitlin Moran  \n",
       "92        Mattias Ripa  \n",
       "93       Jeanne DuPrau  \n",
       "94       Douglas Smith  \n",
       "95         Jack Thorne  \n",
       "\n",
       "[96 rows x 5 columns]"
      ]
     },
     "execution_count": 15,
     "metadata": {},
     "output_type": "execute_result"
    }
   ],
   "source": [
    "meta_df"
   ]
  },
  {
   "cell_type": "code",
   "execution_count": 16,
   "metadata": {},
   "outputs": [],
   "source": [
    "genre_values = meta_df['genre']"
   ]
  },
  {
   "cell_type": "code",
   "execution_count": 31,
   "metadata": {},
   "outputs": [],
   "source": [
    "mapping = []\n",
    "\n",
    "for k, v in genre_values.items():\n",
    "    x = v.replace('[', '').replace(']', '')\n",
    "    x = x.split(\"', '\")\n",
    "    x[0] = x[0].replace(\"'\", '')\n",
    "    x[-1] = x[-1].replace(\"'\", '')\n",
    "    for genre in x:\n",
    "        mapping.append((meta_df.loc[k].book_id_mapping, genre))"
   ]
  },
  {
   "cell_type": "code",
   "execution_count": 32,
   "metadata": {},
   "outputs": [
    {
     "data": {
      "text/plain": [
       "[(808, 'fantasy, paranormal'), (808, 'romance'), (808, 'fiction')]"
      ]
     },
     "execution_count": 32,
     "metadata": {},
     "output_type": "execute_result"
    }
   ],
   "source": [
    "mapping[:3]"
   ]
  },
  {
   "cell_type": "code",
   "execution_count": 33,
   "metadata": {},
   "outputs": [
    {
     "data": {
      "text/html": [
       "<div>\n",
       "<style scoped>\n",
       "    .dataframe tbody tr th:only-of-type {\n",
       "        vertical-align: middle;\n",
       "    }\n",
       "\n",
       "    .dataframe tbody tr th {\n",
       "        vertical-align: top;\n",
       "    }\n",
       "\n",
       "    .dataframe thead th {\n",
       "        text-align: right;\n",
       "    }\n",
       "</style>\n",
       "<table border=\"1\" class=\"dataframe\">\n",
       "  <thead>\n",
       "    <tr style=\"text-align: right;\">\n",
       "      <th></th>\n",
       "      <th>book</th>\n",
       "      <th>genre</th>\n",
       "    </tr>\n",
       "  </thead>\n",
       "  <tbody>\n",
       "    <tr>\n",
       "      <th>0</th>\n",
       "      <td>808</td>\n",
       "      <td>fantasy, paranormal</td>\n",
       "    </tr>\n",
       "    <tr>\n",
       "      <th>1</th>\n",
       "      <td>808</td>\n",
       "      <td>romance</td>\n",
       "    </tr>\n",
       "    <tr>\n",
       "      <th>2</th>\n",
       "      <td>808</td>\n",
       "      <td>fiction</td>\n",
       "    </tr>\n",
       "    <tr>\n",
       "      <th>3</th>\n",
       "      <td>808</td>\n",
       "      <td>history, historical fiction, biography</td>\n",
       "    </tr>\n",
       "    <tr>\n",
       "      <th>4</th>\n",
       "      <td>808</td>\n",
       "      <td>young-adult</td>\n",
       "    </tr>\n",
       "    <tr>\n",
       "      <th>...</th>\n",
       "      <td>...</td>\n",
       "      <td>...</td>\n",
       "    </tr>\n",
       "    <tr>\n",
       "      <th>372</th>\n",
       "      <td>508</td>\n",
       "      <td>fantasy, paranormal</td>\n",
       "    </tr>\n",
       "    <tr>\n",
       "      <th>373</th>\n",
       "      <td>508</td>\n",
       "      <td>fiction</td>\n",
       "    </tr>\n",
       "    <tr>\n",
       "      <th>374</th>\n",
       "      <td>508</td>\n",
       "      <td>young-adult</td>\n",
       "    </tr>\n",
       "    <tr>\n",
       "      <th>375</th>\n",
       "      <td>508</td>\n",
       "      <td>children</td>\n",
       "    </tr>\n",
       "    <tr>\n",
       "      <th>376</th>\n",
       "      <td>508</td>\n",
       "      <td>mystery, thriller, crime</td>\n",
       "    </tr>\n",
       "  </tbody>\n",
       "</table>\n",
       "<p>377 rows × 2 columns</p>\n",
       "</div>"
      ],
      "text/plain": [
       "     book                                   genre\n",
       "0     808                     fantasy, paranormal\n",
       "1     808                                 romance\n",
       "2     808                                 fiction\n",
       "3     808  history, historical fiction, biography\n",
       "4     808                             young-adult\n",
       "..    ...                                     ...\n",
       "372   508                     fantasy, paranormal\n",
       "373   508                                 fiction\n",
       "374   508                             young-adult\n",
       "375   508                                children\n",
       "376   508                mystery, thriller, crime\n",
       "\n",
       "[377 rows x 2 columns]"
      ]
     },
     "execution_count": 33,
     "metadata": {},
     "output_type": "execute_result"
    }
   ],
   "source": [
    "map_genre = pd.DataFrame(mapping, columns=['book', 'genre'])\n",
    "map_genre"
   ]
  },
  {
   "cell_type": "code",
   "execution_count": 34,
   "metadata": {},
   "outputs": [],
   "source": [
    "meta_df = meta_df[['book_id_mapping', 'title', 'num_pages', 'name']]"
   ]
  },
  {
   "cell_type": "code",
   "execution_count": 35,
   "metadata": {},
   "outputs": [
    {
     "data": {
      "text/html": [
       "<div>\n",
       "<style scoped>\n",
       "    .dataframe tbody tr th:only-of-type {\n",
       "        vertical-align: middle;\n",
       "    }\n",
       "\n",
       "    .dataframe tbody tr th {\n",
       "        vertical-align: top;\n",
       "    }\n",
       "\n",
       "    .dataframe thead th {\n",
       "        text-align: right;\n",
       "    }\n",
       "</style>\n",
       "<table border=\"1\" class=\"dataframe\">\n",
       "  <thead>\n",
       "    <tr style=\"text-align: right;\">\n",
       "      <th></th>\n",
       "      <th>book_id_mapping</th>\n",
       "      <th>title</th>\n",
       "      <th>num_pages</th>\n",
       "      <th>name</th>\n",
       "    </tr>\n",
       "  </thead>\n",
       "  <tbody>\n",
       "    <tr>\n",
       "      <th>0</th>\n",
       "      <td>808</td>\n",
       "      <td>Pride and Prejudice and Zombies Pride and Prej...</td>\n",
       "      <td>320</td>\n",
       "      <td>Jane Austen</td>\n",
       "    </tr>\n",
       "    <tr>\n",
       "      <th>1</th>\n",
       "      <td>217</td>\n",
       "      <td>Blue Bloods Blue Bloods 1</td>\n",
       "      <td>302</td>\n",
       "      <td>Melissa de la Cruz</td>\n",
       "    </tr>\n",
       "  </tbody>\n",
       "</table>\n",
       "</div>"
      ],
      "text/plain": [
       "   book_id_mapping                                              title  \\\n",
       "0              808  Pride and Prejudice and Zombies Pride and Prej...   \n",
       "1              217                          Blue Bloods Blue Bloods 1   \n",
       "\n",
       "   num_pages                name  \n",
       "0        320         Jane Austen  \n",
       "1        302  Melissa de la Cruz  "
      ]
     },
     "execution_count": 35,
     "metadata": {},
     "output_type": "execute_result"
    }
   ],
   "source": [
    "meta_df.head(2)"
   ]
  },
  {
   "cell_type": "code",
   "execution_count": 36,
   "metadata": {},
   "outputs": [
    {
     "data": {
      "text/html": [
       "<div>\n",
       "<style scoped>\n",
       "    .dataframe tbody tr th:only-of-type {\n",
       "        vertical-align: middle;\n",
       "    }\n",
       "\n",
       "    .dataframe tbody tr th {\n",
       "        vertical-align: top;\n",
       "    }\n",
       "\n",
       "    .dataframe thead th {\n",
       "        text-align: right;\n",
       "    }\n",
       "</style>\n",
       "<table border=\"1\" class=\"dataframe\">\n",
       "  <thead>\n",
       "    <tr style=\"text-align: right;\">\n",
       "      <th></th>\n",
       "      <th>book_id_mapping</th>\n",
       "      <th>user_id_mapping</th>\n",
       "      <th>Actual Rating</th>\n",
       "    </tr>\n",
       "  </thead>\n",
       "  <tbody>\n",
       "    <tr>\n",
       "      <th>0</th>\n",
       "      <td>299</td>\n",
       "      <td>1537</td>\n",
       "      <td>5</td>\n",
       "    </tr>\n",
       "    <tr>\n",
       "      <th>1</th>\n",
       "      <td>299</td>\n",
       "      <td>23039</td>\n",
       "      <td>3</td>\n",
       "    </tr>\n",
       "  </tbody>\n",
       "</table>\n",
       "</div>"
      ],
      "text/plain": [
       "   book_id_mapping  user_id_mapping  Actual Rating\n",
       "0              299             1537              5\n",
       "1              299            23039              3"
      ]
     },
     "execution_count": 36,
     "metadata": {},
     "output_type": "execute_result"
    }
   ],
   "source": [
    "ratings_df.head(2)"
   ]
  },
  {
   "cell_type": "code",
   "execution_count": 37,
   "metadata": {},
   "outputs": [
    {
     "data": {
      "text/html": [
       "<div>\n",
       "<style scoped>\n",
       "    .dataframe tbody tr th:only-of-type {\n",
       "        vertical-align: middle;\n",
       "    }\n",
       "\n",
       "    .dataframe tbody tr th {\n",
       "        vertical-align: top;\n",
       "    }\n",
       "\n",
       "    .dataframe thead th {\n",
       "        text-align: right;\n",
       "    }\n",
       "</style>\n",
       "<table border=\"1\" class=\"dataframe\">\n",
       "  <thead>\n",
       "    <tr style=\"text-align: right;\">\n",
       "      <th></th>\n",
       "      <th>book</th>\n",
       "      <th>genre</th>\n",
       "    </tr>\n",
       "  </thead>\n",
       "  <tbody>\n",
       "    <tr>\n",
       "      <th>0</th>\n",
       "      <td>808</td>\n",
       "      <td>fantasy, paranormal</td>\n",
       "    </tr>\n",
       "    <tr>\n",
       "      <th>1</th>\n",
       "      <td>808</td>\n",
       "      <td>romance</td>\n",
       "    </tr>\n",
       "    <tr>\n",
       "      <th>2</th>\n",
       "      <td>808</td>\n",
       "      <td>fiction</td>\n",
       "    </tr>\n",
       "    <tr>\n",
       "      <th>3</th>\n",
       "      <td>808</td>\n",
       "      <td>history, historical fiction, biography</td>\n",
       "    </tr>\n",
       "    <tr>\n",
       "      <th>4</th>\n",
       "      <td>808</td>\n",
       "      <td>young-adult</td>\n",
       "    </tr>\n",
       "    <tr>\n",
       "      <th>5</th>\n",
       "      <td>808</td>\n",
       "      <td>mystery, thriller, crime</td>\n",
       "    </tr>\n",
       "    <tr>\n",
       "      <th>6</th>\n",
       "      <td>217</td>\n",
       "      <td>young-adult</td>\n",
       "    </tr>\n",
       "    <tr>\n",
       "      <th>7</th>\n",
       "      <td>217</td>\n",
       "      <td>fantasy, paranormal</td>\n",
       "    </tr>\n",
       "    <tr>\n",
       "      <th>8</th>\n",
       "      <td>217</td>\n",
       "      <td>romance</td>\n",
       "    </tr>\n",
       "    <tr>\n",
       "      <th>9</th>\n",
       "      <td>217</td>\n",
       "      <td>fiction</td>\n",
       "    </tr>\n",
       "  </tbody>\n",
       "</table>\n",
       "</div>"
      ],
      "text/plain": [
       "   book                                   genre\n",
       "0   808                     fantasy, paranormal\n",
       "1   808                                 romance\n",
       "2   808                                 fiction\n",
       "3   808  history, historical fiction, biography\n",
       "4   808                             young-adult\n",
       "5   808                mystery, thriller, crime\n",
       "6   217                             young-adult\n",
       "7   217                     fantasy, paranormal\n",
       "8   217                                 romance\n",
       "9   217                                 fiction"
      ]
     },
     "execution_count": 37,
     "metadata": {},
     "output_type": "execute_result"
    }
   ],
   "source": [
    "map_genre.head(10)"
   ]
  },
  {
   "cell_type": "markdown",
   "metadata": {},
   "source": [
    "## Interazione con database relazionale (sqlite)"
   ]
  },
  {
   "cell_type": "code",
   "execution_count": 38,
   "metadata": {},
   "outputs": [],
   "source": [
    "from sqlalchemy import create_engine, text "
   ]
  },
  {
   "cell_type": "code",
   "execution_count": 39,
   "metadata": {},
   "outputs": [],
   "source": [
    "connection_string = \"sqlite:////Users/flint/Data/kaggle/books/book-recommender/booksdb2.sql\"\n",
    "engine = create_engine(connection_string)\n",
    "conn = engine.connect()\n",
    "ratings_df.to_sql('ratings', con=conn, if_exists='replace', index=False)\n",
    "meta_df.to_sql('books', con=conn, if_exists='replace', index=False)\n",
    "map_genre.to_sql('genre', con=conn, if_exists='replace', index=False)\n",
    "conn.close()"
   ]
  },
  {
   "cell_type": "code",
   "execution_count": null,
   "metadata": {},
   "outputs": [],
   "source": []
  }
 ],
 "metadata": {
  "kernelspec": {
   "display_name": "nlp",
   "language": "python",
   "name": "python3"
  },
  "language_info": {
   "codemirror_mode": {
    "name": "ipython",
    "version": 3
   },
   "file_extension": ".py",
   "mimetype": "text/x-python",
   "name": "python",
   "nbconvert_exporter": "python",
   "pygments_lexer": "ipython3",
   "version": "3.9.17"
  }
 },
 "nbformat": 4,
 "nbformat_minor": 2
}
