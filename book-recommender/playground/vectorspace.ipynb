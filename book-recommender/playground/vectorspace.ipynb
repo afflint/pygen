{
 "cells": [
  {
   "cell_type": "code",
   "execution_count": 32,
   "metadata": {},
   "outputs": [],
   "source": [
    "from sqlalchemy import create_engine, text \n",
    "import pandas as pd \n",
    "import numpy as np "
   ]
  },
  {
   "cell_type": "code",
   "execution_count": 20,
   "metadata": {},
   "outputs": [],
   "source": [
    "sql = \"SELECT * FROM books\"\n",
    "connection_string = \"sqlite:////Users/flint/Data/kaggle/books/book-recommender/booksdb2.sql\""
   ]
  },
  {
   "cell_type": "code",
   "execution_count": 21,
   "metadata": {},
   "outputs": [],
   "source": [
    "engine = create_engine(connection_string)\n",
    "conn = engine.connect()\n",
    "books = pd.read_sql(text(sql), con=conn)\n",
    "conn.close()"
   ]
  },
  {
   "cell_type": "code",
   "execution_count": 22,
   "metadata": {},
   "outputs": [
    {
     "data": {
      "text/html": [
       "<div>\n",
       "<style scoped>\n",
       "    .dataframe tbody tr th:only-of-type {\n",
       "        vertical-align: middle;\n",
       "    }\n",
       "\n",
       "    .dataframe tbody tr th {\n",
       "        vertical-align: top;\n",
       "    }\n",
       "\n",
       "    .dataframe thead th {\n",
       "        text-align: right;\n",
       "    }\n",
       "</style>\n",
       "<table border=\"1\" class=\"dataframe\">\n",
       "  <thead>\n",
       "    <tr style=\"text-align: right;\">\n",
       "      <th></th>\n",
       "      <th>book_id_mapping</th>\n",
       "      <th>title</th>\n",
       "      <th>num_pages</th>\n",
       "      <th>name</th>\n",
       "    </tr>\n",
       "  </thead>\n",
       "  <tbody>\n",
       "    <tr>\n",
       "      <th>0</th>\n",
       "      <td>808</td>\n",
       "      <td>Pride and Prejudice and Zombies Pride and Prej...</td>\n",
       "      <td>320</td>\n",
       "      <td>Jane Austen</td>\n",
       "    </tr>\n",
       "    <tr>\n",
       "      <th>1</th>\n",
       "      <td>217</td>\n",
       "      <td>Blue Bloods Blue Bloods 1</td>\n",
       "      <td>302</td>\n",
       "      <td>Melissa de la Cruz</td>\n",
       "    </tr>\n",
       "  </tbody>\n",
       "</table>\n",
       "</div>"
      ],
      "text/plain": [
       "   book_id_mapping                                              title  \\\n",
       "0              808  Pride and Prejudice and Zombies Pride and Prej...   \n",
       "1              217                          Blue Bloods Blue Bloods 1   \n",
       "\n",
       "   num_pages                name  \n",
       "0        320         Jane Austen  \n",
       "1        302  Melissa de la Cruz  "
      ]
     },
     "execution_count": 22,
     "metadata": {},
     "output_type": "execute_result"
    }
   ],
   "source": [
    "books.head(2)"
   ]
  },
  {
   "cell_type": "markdown",
   "metadata": {},
   "source": [
    "## Raccomandazione\n",
    "Voglio raccomandare a un utente libri che non ha ancora letto (votato) ma che sono stati letti da utenti simili a lui\n",
    "1. Criterio di similarità fra utenti\n",
    "2. (Clustering)\n",
    "3. Preso un utente $u$:\n",
    "   1. Estraggo i $k$ utenti più simili (K)\n",
    "   2. L'insieme dei libri letti (votati) da K\n",
    "   3. Determino l'insieme $U$ dei libri letti da $u$ e calcolo $C = K - U$\n",
    "   4. Faccio un ranking di $C$"
   ]
  },
  {
   "cell_type": "markdown",
   "metadata": {},
   "source": [
    "### Similarità fra utenti\n",
    "- Due utenti sono simili se danno voti simili alle stesse **cose** \n",
    "- Dove **cose** può riferirsi a:\n",
    "  - libri\n",
    "  - <u>generi</u>\n",
    "  - autori"
   ]
  },
  {
   "cell_type": "markdown",
   "metadata": {},
   "source": [
    "### Task 1: rappresentare le preferenze degli utenti per i generi letterari"
   ]
  },
  {
   "cell_type": "code",
   "execution_count": 23,
   "metadata": {},
   "outputs": [],
   "source": [
    "user_profile = \"\"\"\n",
    "SELECT R.user_id_mapping, G.genre,\n",
    "    AVG(R.\"Actual Rating\") AS score\n",
    "FROM genre AS G JOIN ratings AS R\n",
    "ON G.book = R.book_id_mapping\n",
    "GROUP BY user_id_mapping, genre\n",
    "\"\"\""
   ]
  },
  {
   "cell_type": "code",
   "execution_count": 24,
   "metadata": {},
   "outputs": [],
   "source": [
    "conn = engine.connect()\n",
    "profiles = pd.read_sql(text(user_profile), con=conn)\n",
    "conn.close()"
   ]
  },
  {
   "cell_type": "code",
   "execution_count": 34,
   "metadata": {},
   "outputs": [
    {
     "data": {
      "text/plain": [
       "(10,\n",
       " ['fantasy, paranormal',\n",
       "  'fiction',\n",
       "  'romance',\n",
       "  'young-adult',\n",
       "  'children',\n",
       "  'comics, graphic',\n",
       "  'history, historical fiction, biography',\n",
       "  'non-fiction',\n",
       "  'mystery, thriller, crime',\n",
       "  'poetry'])"
      ]
     },
     "execution_count": 34,
     "metadata": {},
     "output_type": "execute_result"
    }
   ],
   "source": [
    "genre_list = list(profiles.genre.unique())\n",
    "n = len(profiles.genre.unique())\n",
    "n, genre_list"
   ]
  },
  {
   "cell_type": "code",
   "execution_count": 48,
   "metadata": {},
   "outputs": [],
   "source": [
    "u2 = np.zeros(n)\n",
    "u5 = np.zeros(n)"
   ]
  },
  {
   "cell_type": "code",
   "execution_count": 49,
   "metadata": {},
   "outputs": [],
   "source": [
    "u2p = profiles[profiles['user_id_mapping'] == 2][['genre', 'score']]\n",
    "u5p = profiles[profiles['user_id_mapping'] == 55][['genre', 'score']]"
   ]
  },
  {
   "cell_type": "code",
   "execution_count": 50,
   "metadata": {},
   "outputs": [],
   "source": [
    "for i, row in u2p.iterrows():\n",
    "    g, s = row['genre'], row['score']\n",
    "    i_g = genre_list.index(g)\n",
    "    u2[i_g] = s \n",
    "for i, row in u5p.iterrows():\n",
    "    g, s = row['genre'], row['score']\n",
    "    i_g = genre_list.index(g)\n",
    "    u5[i_g] = s "
   ]
  },
  {
   "cell_type": "code",
   "execution_count": 56,
   "metadata": {},
   "outputs": [
    {
     "data": {
      "text/plain": [
       "5.787918451395113"
      ]
     },
     "execution_count": 56,
     "metadata": {},
     "output_type": "execute_result"
    }
   ],
   "source": [
    "np.sqrt(np.power(u2 - u5, 2).sum())"
   ]
  },
  {
   "cell_type": "code",
   "execution_count": 29,
   "metadata": {},
   "outputs": [
    {
     "data": {
      "text/html": [
       "<div>\n",
       "<style scoped>\n",
       "    .dataframe tbody tr th:only-of-type {\n",
       "        vertical-align: middle;\n",
       "    }\n",
       "\n",
       "    .dataframe tbody tr th {\n",
       "        vertical-align: top;\n",
       "    }\n",
       "\n",
       "    .dataframe thead th {\n",
       "        text-align: right;\n",
       "    }\n",
       "</style>\n",
       "<table border=\"1\" class=\"dataframe\">\n",
       "  <thead>\n",
       "    <tr style=\"text-align: right;\">\n",
       "      <th></th>\n",
       "      <th>genre</th>\n",
       "      <th>score</th>\n",
       "    </tr>\n",
       "  </thead>\n",
       "  <tbody>\n",
       "    <tr>\n",
       "      <th>36</th>\n",
       "      <td>children</td>\n",
       "      <td>5.0</td>\n",
       "    </tr>\n",
       "    <tr>\n",
       "      <th>37</th>\n",
       "      <td>fantasy, paranormal</td>\n",
       "      <td>2.0</td>\n",
       "    </tr>\n",
       "    <tr>\n",
       "      <th>38</th>\n",
       "      <td>fiction</td>\n",
       "      <td>3.5</td>\n",
       "    </tr>\n",
       "    <tr>\n",
       "      <th>39</th>\n",
       "      <td>romance</td>\n",
       "      <td>2.0</td>\n",
       "    </tr>\n",
       "    <tr>\n",
       "      <th>40</th>\n",
       "      <td>young-adult</td>\n",
       "      <td>3.5</td>\n",
       "    </tr>\n",
       "  </tbody>\n",
       "</table>\n",
       "</div>"
      ],
      "text/plain": [
       "                  genre  score\n",
       "36             children    5.0\n",
       "37  fantasy, paranormal    2.0\n",
       "38              fiction    3.5\n",
       "39              romance    2.0\n",
       "40          young-adult    3.5"
      ]
     },
     "execution_count": 29,
     "metadata": {},
     "output_type": "execute_result"
    }
   ],
   "source": [
    "profiles[profiles['user_id_mapping'] == 55][['genre', 'score']]"
   ]
  },
  {
   "cell_type": "code",
   "execution_count": null,
   "metadata": {},
   "outputs": [],
   "source": []
  }
 ],
 "metadata": {
  "kernelspec": {
   "display_name": "nlp",
   "language": "python",
   "name": "python3"
  },
  "language_info": {
   "codemirror_mode": {
    "name": "ipython",
    "version": 3
   },
   "file_extension": ".py",
   "mimetype": "text/x-python",
   "name": "python",
   "nbconvert_exporter": "python",
   "pygments_lexer": "ipython3",
   "version": "3.9.17"
  }
 },
 "nbformat": 4,
 "nbformat_minor": 2
}
