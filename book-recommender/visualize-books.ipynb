{
 "cells": [
  {
   "cell_type": "code",
   "execution_count": 1,
   "metadata": {},
   "outputs": [],
   "source": [
    "import os\n",
    "import pandas as pd\n",
    "import numpy as np \n",
    "from datareader import read_csv"
   ]
  },
  {
   "cell_type": "code",
   "execution_count": null,
   "metadata": {},
   "outputs": [],
   "source": []
  },
  {
   "cell_type": "code",
   "execution_count": 2,
   "metadata": {},
   "outputs": [],
   "source": [
    "folder = \"/Users/flint/Data/kaggle/books/book-recommender\"\n",
    "metadata_file = \"collaborative_book_metadata.csv\"\n",
    "ratings_file = \"collaborative_books_df.csv\"\n",
    "\n",
    "def to_float(x):\n",
    "    return float(x)\n",
    "\n",
    "def transform(x, f):\n",
    "    return f(x)\n",
    "\n",
    "metadata = pd.read_csv(os.path.join(folder, metadata_file), \n",
    "                    index_col=0, \n",
    "                    header=0, \n",
    "                    converters={'ratings_count': to_float})\n",
    "ratings = pd.read_csv(os.path.join(folder, ratings_file), \n",
    "                    index_col=0, \n",
    "                    header=0, \n",
    "                    converters={'Actual Rating': to_float})"
   ]
  },
  {
   "cell_type": "code",
   "execution_count": 3,
   "metadata": {},
   "outputs": [
    {
     "data": {
      "text/html": [
       "<div>\n",
       "<style scoped>\n",
       "    .dataframe tbody tr th:only-of-type {\n",
       "        vertical-align: middle;\n",
       "    }\n",
       "\n",
       "    .dataframe tbody tr th {\n",
       "        vertical-align: top;\n",
       "    }\n",
       "\n",
       "    .dataframe thead th {\n",
       "        text-align: right;\n",
       "    }\n",
       "</style>\n",
       "<table border=\"1\" class=\"dataframe\">\n",
       "  <thead>\n",
       "    <tr style=\"text-align: right;\">\n",
       "      <th></th>\n",
       "      <th>book_id</th>\n",
       "      <th>title</th>\n",
       "      <th>image_url</th>\n",
       "      <th>url</th>\n",
       "      <th>num_pages</th>\n",
       "      <th>ratings_count</th>\n",
       "      <th>description</th>\n",
       "      <th>genre</th>\n",
       "      <th>name</th>\n",
       "      <th>book_id_mapping</th>\n",
       "    </tr>\n",
       "  </thead>\n",
       "  <tbody>\n",
       "    <tr>\n",
       "      <th>0</th>\n",
       "      <td>5899779</td>\n",
       "      <td>Pride and Prejudice and Zombies Pride and Prej...</td>\n",
       "      <td>https://images.gr-assets.com/books/1320449653m...</td>\n",
       "      <td>https://www.goodreads.com/book/show/5899779-pr...</td>\n",
       "      <td>320</td>\n",
       "      <td>105537.0</td>\n",
       "      <td>The New York Times Best Seller is now a major ...</td>\n",
       "      <td>['fantasy, paranormal', 'romance', 'fiction', ...</td>\n",
       "      <td>Jane Austen</td>\n",
       "      <td>808</td>\n",
       "    </tr>\n",
       "    <tr>\n",
       "      <th>1</th>\n",
       "      <td>872333</td>\n",
       "      <td>Blue Bloods Blue Bloods 1</td>\n",
       "      <td>https://images.gr-assets.com/books/1322281515m...</td>\n",
       "      <td>https://www.goodreads.com/book/show/872333.Blu...</td>\n",
       "      <td>302</td>\n",
       "      <td>117633.0</td>\n",
       "      <td>When the Mayflower set sail in 1620, it carrie...</td>\n",
       "      <td>['young-adult', 'fantasy, paranormal', 'romanc...</td>\n",
       "      <td>Melissa de la Cruz</td>\n",
       "      <td>217</td>\n",
       "    </tr>\n",
       "  </tbody>\n",
       "</table>\n",
       "</div>"
      ],
      "text/plain": [
       "   book_id                                              title  \\\n",
       "0  5899779  Pride and Prejudice and Zombies Pride and Prej...   \n",
       "1   872333                          Blue Bloods Blue Bloods 1   \n",
       "\n",
       "                                           image_url  \\\n",
       "0  https://images.gr-assets.com/books/1320449653m...   \n",
       "1  https://images.gr-assets.com/books/1322281515m...   \n",
       "\n",
       "                                                 url  num_pages  \\\n",
       "0  https://www.goodreads.com/book/show/5899779-pr...        320   \n",
       "1  https://www.goodreads.com/book/show/872333.Blu...        302   \n",
       "\n",
       "   ratings_count                                        description  \\\n",
       "0       105537.0  The New York Times Best Seller is now a major ...   \n",
       "1       117633.0  When the Mayflower set sail in 1620, it carrie...   \n",
       "\n",
       "                                               genre                name  \\\n",
       "0  ['fantasy, paranormal', 'romance', 'fiction', ...         Jane Austen   \n",
       "1  ['young-adult', 'fantasy, paranormal', 'romanc...  Melissa de la Cruz   \n",
       "\n",
       "   book_id_mapping  \n",
       "0              808  \n",
       "1              217  "
      ]
     },
     "execution_count": 3,
     "metadata": {},
     "output_type": "execute_result"
    }
   ],
   "source": [
    "metadata.head(2)"
   ]
  },
  {
   "cell_type": "code",
   "execution_count": 4,
   "metadata": {},
   "outputs": [
    {
     "data": {
      "text/html": [
       "<div>\n",
       "<style scoped>\n",
       "    .dataframe tbody tr th:only-of-type {\n",
       "        vertical-align: middle;\n",
       "    }\n",
       "\n",
       "    .dataframe tbody tr th {\n",
       "        vertical-align: top;\n",
       "    }\n",
       "\n",
       "    .dataframe thead th {\n",
       "        text-align: right;\n",
       "    }\n",
       "</style>\n",
       "<table border=\"1\" class=\"dataframe\">\n",
       "  <thead>\n",
       "    <tr style=\"text-align: right;\">\n",
       "      <th></th>\n",
       "      <th>title</th>\n",
       "      <th>book_id</th>\n",
       "      <th>user_id_mapping</th>\n",
       "      <th>book_id_mapping</th>\n",
       "      <th>Predicted Rating</th>\n",
       "      <th>Actual Rating</th>\n",
       "    </tr>\n",
       "  </thead>\n",
       "  <tbody>\n",
       "    <tr>\n",
       "      <th>0</th>\n",
       "      <td>I Am the Messenger</td>\n",
       "      <td>19057</td>\n",
       "      <td>1537</td>\n",
       "      <td>299</td>\n",
       "      <td>4.5</td>\n",
       "      <td>5.0</td>\n",
       "    </tr>\n",
       "    <tr>\n",
       "      <th>1</th>\n",
       "      <td>I Am the Messenger</td>\n",
       "      <td>19057</td>\n",
       "      <td>23039</td>\n",
       "      <td>299</td>\n",
       "      <td>4.9</td>\n",
       "      <td>3.0</td>\n",
       "    </tr>\n",
       "  </tbody>\n",
       "</table>\n",
       "</div>"
      ],
      "text/plain": [
       "                title  book_id  user_id_mapping  book_id_mapping  \\\n",
       "0  I Am the Messenger    19057             1537              299   \n",
       "1  I Am the Messenger    19057            23039              299   \n",
       "\n",
       "   Predicted Rating  Actual Rating  \n",
       "0               4.5            5.0  \n",
       "1               4.9            3.0  "
      ]
     },
     "execution_count": 4,
     "metadata": {},
     "output_type": "execute_result"
    }
   ],
   "source": [
    "ratings.head(2)"
   ]
  },
  {
   "cell_type": "markdown",
   "metadata": {},
   "source": [
    "## Data manipulation\n",
    "- selezionare la colonna genere\n",
    "- parsing: dalla `stringa` alla `lista`\n",
    "- scorrimento delle liste e creazione del mapping: book_id <-> singolo genere"
   ]
  },
  {
   "cell_type": "markdown",
   "metadata": {},
   "source": [
    "**Selezionare la colonna genere**"
   ]
  },
  {
   "cell_type": "code",
   "execution_count": 5,
   "metadata": {},
   "outputs": [],
   "source": [
    "genre_strings = metadata['genre'].values"
   ]
  },
  {
   "cell_type": "code",
   "execution_count": 6,
   "metadata": {},
   "outputs": [
    {
     "data": {
      "text/plain": [
       "array([\"['fantasy, paranormal', 'romance', 'fiction', 'history, historical fiction, biography', 'young-adult', 'mystery, thriller, crime']\",\n",
       "       \"['young-adult', 'fantasy, paranormal', 'romance', 'fiction', 'mystery, thriller, crime']\",\n",
       "       \"['romance', 'fiction']\",\n",
       "       \"['mystery, thriller, crime', 'fiction']\"], dtype=object)"
      ]
     },
     "execution_count": 6,
     "metadata": {},
     "output_type": "execute_result"
    }
   ],
   "source": [
    "genre_strings[:4]"
   ]
  },
  {
   "cell_type": "markdown",
   "metadata": {},
   "source": [
    "**Parsing**"
   ]
  },
  {
   "cell_type": "code",
   "execution_count": 7,
   "metadata": {},
   "outputs": [],
   "source": [
    "genre_list = []\n",
    "for s in genre_strings:\n",
    "    clean_str = s[2:-2]\n",
    "    str_list = clean_str.split(\"', '\")\n",
    "    genre_list.append(str_list)"
   ]
  },
  {
   "cell_type": "code",
   "execution_count": 8,
   "metadata": {},
   "outputs": [
    {
     "data": {
      "text/plain": [
       "[['fantasy, paranormal',\n",
       "  'romance',\n",
       "  'fiction',\n",
       "  'history, historical fiction, biography',\n",
       "  'young-adult',\n",
       "  'mystery, thriller, crime'],\n",
       " ['young-adult',\n",
       "  'fantasy, paranormal',\n",
       "  'romance',\n",
       "  'fiction',\n",
       "  'mystery, thriller, crime'],\n",
       " ['romance', 'fiction'],\n",
       " ['mystery, thriller, crime', 'fiction']]"
      ]
     },
     "execution_count": 8,
     "metadata": {},
     "output_type": "execute_result"
    }
   ],
   "source": [
    "genre_list[:4]"
   ]
  },
  {
   "cell_type": "markdown",
   "metadata": {},
   "source": [
    "**with list coprehension**"
   ]
  },
  {
   "cell_type": "code",
   "execution_count": null,
   "metadata": {},
   "outputs": [],
   "source": [
    "genre_list = [x[2:-2].split(\"', '\") for x in genre_strings]"
   ]
  },
  {
   "cell_type": "markdown",
   "metadata": {},
   "source": [
    "**Creazione del mapping book <-> genre**"
   ]
  },
  {
   "cell_type": "code",
   "execution_count": 9,
   "metadata": {},
   "outputs": [],
   "source": [
    "mappings = []\n",
    "books = metadata['book_id'].values\n",
    "for i, genres in enumerate(genre_list):\n",
    "    book = books[i]\n",
    "    for genre in genres:\n",
    "        for g in genre.split(', '):\n",
    "            mappings.append((book, g))"
   ]
  },
  {
   "cell_type": "code",
   "execution_count": 10,
   "metadata": {},
   "outputs": [
    {
     "data": {
      "text/plain": [
       "[(5899779, 'fantasy'),\n",
       " (5899779, 'paranormal'),\n",
       " (5899779, 'romance'),\n",
       " (5899779, 'fiction')]"
      ]
     },
     "execution_count": 10,
     "metadata": {},
     "output_type": "execute_result"
    }
   ],
   "source": [
    "mappings[:4]"
   ]
  },
  {
   "cell_type": "code",
   "execution_count": 11,
   "metadata": {},
   "outputs": [],
   "source": [
    "book_genres = pd.DataFrame(mappings, columns=['book', 'genre'])"
   ]
  },
  {
   "cell_type": "code",
   "execution_count": 12,
   "metadata": {},
   "outputs": [
    {
     "data": {
      "text/html": [
       "<div>\n",
       "<style scoped>\n",
       "    .dataframe tbody tr th:only-of-type {\n",
       "        vertical-align: middle;\n",
       "    }\n",
       "\n",
       "    .dataframe tbody tr th {\n",
       "        vertical-align: top;\n",
       "    }\n",
       "\n",
       "    .dataframe thead th {\n",
       "        text-align: right;\n",
       "    }\n",
       "</style>\n",
       "<table border=\"1\" class=\"dataframe\">\n",
       "  <thead>\n",
       "    <tr style=\"text-align: right;\">\n",
       "      <th></th>\n",
       "      <th>book</th>\n",
       "      <th>genre</th>\n",
       "    </tr>\n",
       "  </thead>\n",
       "  <tbody>\n",
       "    <tr>\n",
       "      <th>0</th>\n",
       "      <td>5899779</td>\n",
       "      <td>fantasy</td>\n",
       "    </tr>\n",
       "    <tr>\n",
       "      <th>1</th>\n",
       "      <td>5899779</td>\n",
       "      <td>paranormal</td>\n",
       "    </tr>\n",
       "    <tr>\n",
       "      <th>2</th>\n",
       "      <td>5899779</td>\n",
       "      <td>romance</td>\n",
       "    </tr>\n",
       "    <tr>\n",
       "      <th>3</th>\n",
       "      <td>5899779</td>\n",
       "      <td>fiction</td>\n",
       "    </tr>\n",
       "    <tr>\n",
       "      <th>4</th>\n",
       "      <td>5899779</td>\n",
       "      <td>history</td>\n",
       "    </tr>\n",
       "    <tr>\n",
       "      <th>...</th>\n",
       "      <td>...</td>\n",
       "      <td>...</td>\n",
       "    </tr>\n",
       "    <tr>\n",
       "      <th>548</th>\n",
       "      <td>29069989</td>\n",
       "      <td>young-adult</td>\n",
       "    </tr>\n",
       "    <tr>\n",
       "      <th>549</th>\n",
       "      <td>29069989</td>\n",
       "      <td>children</td>\n",
       "    </tr>\n",
       "    <tr>\n",
       "      <th>550</th>\n",
       "      <td>29069989</td>\n",
       "      <td>mystery</td>\n",
       "    </tr>\n",
       "    <tr>\n",
       "      <th>551</th>\n",
       "      <td>29069989</td>\n",
       "      <td>thriller</td>\n",
       "    </tr>\n",
       "    <tr>\n",
       "      <th>552</th>\n",
       "      <td>29069989</td>\n",
       "      <td>crime</td>\n",
       "    </tr>\n",
       "  </tbody>\n",
       "</table>\n",
       "<p>553 rows × 2 columns</p>\n",
       "</div>"
      ],
      "text/plain": [
       "         book        genre\n",
       "0     5899779      fantasy\n",
       "1     5899779   paranormal\n",
       "2     5899779      romance\n",
       "3     5899779      fiction\n",
       "4     5899779      history\n",
       "..        ...          ...\n",
       "548  29069989  young-adult\n",
       "549  29069989     children\n",
       "550  29069989      mystery\n",
       "551  29069989     thriller\n",
       "552  29069989        crime\n",
       "\n",
       "[553 rows x 2 columns]"
      ]
     },
     "execution_count": 12,
     "metadata": {},
     "output_type": "execute_result"
    }
   ],
   "source": [
    "book_genres "
   ]
  },
  {
   "cell_type": "code",
   "execution_count": 13,
   "metadata": {},
   "outputs": [],
   "source": [
    "meta = metadata[[x for x in metadata.columns if x not in ['genre']]]"
   ]
  },
  {
   "cell_type": "code",
   "execution_count": 15,
   "metadata": {},
   "outputs": [
    {
     "data": {
      "text/html": [
       "<div>\n",
       "<style scoped>\n",
       "    .dataframe tbody tr th:only-of-type {\n",
       "        vertical-align: middle;\n",
       "    }\n",
       "\n",
       "    .dataframe tbody tr th {\n",
       "        vertical-align: top;\n",
       "    }\n",
       "\n",
       "    .dataframe thead th {\n",
       "        text-align: right;\n",
       "    }\n",
       "</style>\n",
       "<table border=\"1\" class=\"dataframe\">\n",
       "  <thead>\n",
       "    <tr style=\"text-align: right;\">\n",
       "      <th></th>\n",
       "      <th>book_id</th>\n",
       "      <th>title</th>\n",
       "      <th>image_url</th>\n",
       "      <th>url</th>\n",
       "      <th>num_pages</th>\n",
       "      <th>ratings_count</th>\n",
       "      <th>description</th>\n",
       "      <th>name</th>\n",
       "      <th>book_id_mapping</th>\n",
       "    </tr>\n",
       "  </thead>\n",
       "  <tbody>\n",
       "    <tr>\n",
       "      <th>0</th>\n",
       "      <td>5899779</td>\n",
       "      <td>Pride and Prejudice and Zombies Pride and Prej...</td>\n",
       "      <td>https://images.gr-assets.com/books/1320449653m...</td>\n",
       "      <td>https://www.goodreads.com/book/show/5899779-pr...</td>\n",
       "      <td>320</td>\n",
       "      <td>105537.0</td>\n",
       "      <td>The New York Times Best Seller is now a major ...</td>\n",
       "      <td>Jane Austen</td>\n",
       "      <td>808</td>\n",
       "    </tr>\n",
       "    <tr>\n",
       "      <th>1</th>\n",
       "      <td>872333</td>\n",
       "      <td>Blue Bloods Blue Bloods 1</td>\n",
       "      <td>https://images.gr-assets.com/books/1322281515m...</td>\n",
       "      <td>https://www.goodreads.com/book/show/872333.Blu...</td>\n",
       "      <td>302</td>\n",
       "      <td>117633.0</td>\n",
       "      <td>When the Mayflower set sail in 1620, it carrie...</td>\n",
       "      <td>Melissa de la Cruz</td>\n",
       "      <td>217</td>\n",
       "    </tr>\n",
       "  </tbody>\n",
       "</table>\n",
       "</div>"
      ],
      "text/plain": [
       "   book_id                                              title  \\\n",
       "0  5899779  Pride and Prejudice and Zombies Pride and Prej...   \n",
       "1   872333                          Blue Bloods Blue Bloods 1   \n",
       "\n",
       "                                           image_url  \\\n",
       "0  https://images.gr-assets.com/books/1320449653m...   \n",
       "1  https://images.gr-assets.com/books/1322281515m...   \n",
       "\n",
       "                                                 url  num_pages  \\\n",
       "0  https://www.goodreads.com/book/show/5899779-pr...        320   \n",
       "1  https://www.goodreads.com/book/show/872333.Blu...        302   \n",
       "\n",
       "   ratings_count                                        description  \\\n",
       "0       105537.0  The New York Times Best Seller is now a major ...   \n",
       "1       117633.0  When the Mayflower set sail in 1620, it carrie...   \n",
       "\n",
       "                 name  book_id_mapping  \n",
       "0         Jane Austen              808  \n",
       "1  Melissa de la Cruz              217  "
      ]
     },
     "execution_count": 15,
     "metadata": {},
     "output_type": "execute_result"
    }
   ],
   "source": [
    "meta.head(2)"
   ]
  },
  {
   "cell_type": "code",
   "execution_count": 16,
   "metadata": {},
   "outputs": [
    {
     "data": {
      "text/html": [
       "<div>\n",
       "<style scoped>\n",
       "    .dataframe tbody tr th:only-of-type {\n",
       "        vertical-align: middle;\n",
       "    }\n",
       "\n",
       "    .dataframe tbody tr th {\n",
       "        vertical-align: top;\n",
       "    }\n",
       "\n",
       "    .dataframe thead th {\n",
       "        text-align: right;\n",
       "    }\n",
       "</style>\n",
       "<table border=\"1\" class=\"dataframe\">\n",
       "  <thead>\n",
       "    <tr style=\"text-align: right;\">\n",
       "      <th></th>\n",
       "      <th>title</th>\n",
       "      <th>book_id</th>\n",
       "      <th>user_id_mapping</th>\n",
       "      <th>book_id_mapping</th>\n",
       "      <th>Predicted Rating</th>\n",
       "      <th>Actual Rating</th>\n",
       "    </tr>\n",
       "  </thead>\n",
       "  <tbody>\n",
       "    <tr>\n",
       "      <th>0</th>\n",
       "      <td>I Am the Messenger</td>\n",
       "      <td>19057</td>\n",
       "      <td>1537</td>\n",
       "      <td>299</td>\n",
       "      <td>4.5</td>\n",
       "      <td>5.0</td>\n",
       "    </tr>\n",
       "    <tr>\n",
       "      <th>1</th>\n",
       "      <td>I Am the Messenger</td>\n",
       "      <td>19057</td>\n",
       "      <td>23039</td>\n",
       "      <td>299</td>\n",
       "      <td>4.9</td>\n",
       "      <td>3.0</td>\n",
       "    </tr>\n",
       "  </tbody>\n",
       "</table>\n",
       "</div>"
      ],
      "text/plain": [
       "                title  book_id  user_id_mapping  book_id_mapping  \\\n",
       "0  I Am the Messenger    19057             1537              299   \n",
       "1  I Am the Messenger    19057            23039              299   \n",
       "\n",
       "   Predicted Rating  Actual Rating  \n",
       "0               4.5            5.0  \n",
       "1               4.9            3.0  "
      ]
     },
     "execution_count": 16,
     "metadata": {},
     "output_type": "execute_result"
    }
   ],
   "source": [
    "ratings.head(2)"
   ]
  },
  {
   "cell_type": "code",
   "execution_count": 17,
   "metadata": {},
   "outputs": [
    {
     "data": {
      "text/html": [
       "<div>\n",
       "<style scoped>\n",
       "    .dataframe tbody tr th:only-of-type {\n",
       "        vertical-align: middle;\n",
       "    }\n",
       "\n",
       "    .dataframe tbody tr th {\n",
       "        vertical-align: top;\n",
       "    }\n",
       "\n",
       "    .dataframe thead th {\n",
       "        text-align: right;\n",
       "    }\n",
       "</style>\n",
       "<table border=\"1\" class=\"dataframe\">\n",
       "  <thead>\n",
       "    <tr style=\"text-align: right;\">\n",
       "      <th></th>\n",
       "      <th>book</th>\n",
       "      <th>genre</th>\n",
       "    </tr>\n",
       "  </thead>\n",
       "  <tbody>\n",
       "    <tr>\n",
       "      <th>0</th>\n",
       "      <td>5899779</td>\n",
       "      <td>fantasy</td>\n",
       "    </tr>\n",
       "    <tr>\n",
       "      <th>1</th>\n",
       "      <td>5899779</td>\n",
       "      <td>paranormal</td>\n",
       "    </tr>\n",
       "  </tbody>\n",
       "</table>\n",
       "</div>"
      ],
      "text/plain": [
       "      book       genre\n",
       "0  5899779     fantasy\n",
       "1  5899779  paranormal"
      ]
     },
     "execution_count": 17,
     "metadata": {},
     "output_type": "execute_result"
    }
   ],
   "source": [
    "book_genres.head(2)"
   ]
  },
  {
   "cell_type": "code",
   "execution_count": null,
   "metadata": {},
   "outputs": [],
   "source": [
    "book_genres[book_genres['book'] == 19057]"
   ]
  },
  {
   "cell_type": "markdown",
   "metadata": {},
   "source": [
    "## Preparazione per il database \n",
    "Vogliamo ottenere uno schema con le seguenti tabelle, assumendo che un libro abbia un solo autore:\n",
    "```\n",
    "book(id, title, pages, author, rating_count, description)\n",
    "rating(book, user, rating)\n",
    "genre(book, genre)\n",
    "```"
   ]
  },
  {
   "cell_type": "code",
   "execution_count": 48,
   "metadata": {},
   "outputs": [
    {
     "data": {
      "text/html": [
       "<div>\n",
       "<style scoped>\n",
       "    .dataframe tbody tr th:only-of-type {\n",
       "        vertical-align: middle;\n",
       "    }\n",
       "\n",
       "    .dataframe tbody tr th {\n",
       "        vertical-align: top;\n",
       "    }\n",
       "\n",
       "    .dataframe thead th {\n",
       "        text-align: right;\n",
       "    }\n",
       "</style>\n",
       "<table border=\"1\" class=\"dataframe\">\n",
       "  <thead>\n",
       "    <tr style=\"text-align: right;\">\n",
       "      <th></th>\n",
       "      <th>book</th>\n",
       "      <th>user</th>\n",
       "      <th>rating</th>\n",
       "    </tr>\n",
       "  </thead>\n",
       "  <tbody>\n",
       "    <tr>\n",
       "      <th>0</th>\n",
       "      <td>19057</td>\n",
       "      <td>1537</td>\n",
       "      <td>4.5</td>\n",
       "    </tr>\n",
       "    <tr>\n",
       "      <th>1</th>\n",
       "      <td>19057</td>\n",
       "      <td>23039</td>\n",
       "      <td>4.9</td>\n",
       "    </tr>\n",
       "    <tr>\n",
       "      <th>2</th>\n",
       "      <td>19057</td>\n",
       "      <td>39096</td>\n",
       "      <td>3.9</td>\n",
       "    </tr>\n",
       "    <tr>\n",
       "      <th>3</th>\n",
       "      <td>19057</td>\n",
       "      <td>14631</td>\n",
       "      <td>4.7</td>\n",
       "    </tr>\n",
       "    <tr>\n",
       "      <th>4</th>\n",
       "      <td>19057</td>\n",
       "      <td>32816</td>\n",
       "      <td>4.3</td>\n",
       "    </tr>\n",
       "  </tbody>\n",
       "</table>\n",
       "</div>"
      ],
      "text/plain": [
       "    book   user  rating\n",
       "0  19057   1537     4.5\n",
       "1  19057  23039     4.9\n",
       "2  19057  39096     3.9\n",
       "3  19057  14631     4.7\n",
       "4  19057  32816     4.3"
      ]
     },
     "execution_count": 48,
     "metadata": {},
     "output_type": "execute_result"
    }
   ],
   "source": [
    "rating_db = ratings[['book_id', 'user_id_mapping', 'Predicted Rating']]\n",
    "rating_db.columns = ['book', 'user', 'rating']\n",
    "rating_db.head()"
   ]
  },
  {
   "cell_type": "code",
   "execution_count": 49,
   "metadata": {},
   "outputs": [
    {
     "data": {
      "text/html": [
       "<div>\n",
       "<style scoped>\n",
       "    .dataframe tbody tr th:only-of-type {\n",
       "        vertical-align: middle;\n",
       "    }\n",
       "\n",
       "    .dataframe tbody tr th {\n",
       "        vertical-align: top;\n",
       "    }\n",
       "\n",
       "    .dataframe thead th {\n",
       "        text-align: right;\n",
       "    }\n",
       "</style>\n",
       "<table border=\"1\" class=\"dataframe\">\n",
       "  <thead>\n",
       "    <tr style=\"text-align: right;\">\n",
       "      <th></th>\n",
       "      <th>id</th>\n",
       "      <th>title</th>\n",
       "      <th>pages</th>\n",
       "      <th>rating_count</th>\n",
       "      <th>description</th>\n",
       "      <th>author</th>\n",
       "    </tr>\n",
       "  </thead>\n",
       "  <tbody>\n",
       "    <tr>\n",
       "      <th>0</th>\n",
       "      <td>5899779</td>\n",
       "      <td>Pride and Prejudice and Zombies Pride and Prej...</td>\n",
       "      <td>320</td>\n",
       "      <td>105537.0</td>\n",
       "      <td>The New York Times Best Seller is now a major ...</td>\n",
       "      <td>Jane Austen</td>\n",
       "    </tr>\n",
       "    <tr>\n",
       "      <th>1</th>\n",
       "      <td>872333</td>\n",
       "      <td>Blue Bloods Blue Bloods 1</td>\n",
       "      <td>302</td>\n",
       "      <td>117633.0</td>\n",
       "      <td>When the Mayflower set sail in 1620, it carrie...</td>\n",
       "      <td>Melissa de la Cruz</td>\n",
       "    </tr>\n",
       "  </tbody>\n",
       "</table>\n",
       "</div>"
      ],
      "text/plain": [
       "        id                                              title  pages  \\\n",
       "0  5899779  Pride and Prejudice and Zombies Pride and Prej...    320   \n",
       "1   872333                          Blue Bloods Blue Bloods 1    302   \n",
       "\n",
       "   rating_count                                        description  \\\n",
       "0      105537.0  The New York Times Best Seller is now a major ...   \n",
       "1      117633.0  When the Mayflower set sail in 1620, it carrie...   \n",
       "\n",
       "               author  \n",
       "0         Jane Austen  \n",
       "1  Melissa de la Cruz  "
      ]
     },
     "execution_count": 49,
     "metadata": {},
     "output_type": "execute_result"
    }
   ],
   "source": [
    "books_db = meta[['book_id', 'title', 'num_pages', 'ratings_count', \n",
    "    'description', 'name']]\n",
    "books_db.columns = ['id', 'title', 'pages', 'rating_count', \n",
    "                    'description', 'author']\n",
    "books_db.head(2)"
   ]
  },
  {
   "cell_type": "markdown",
   "metadata": {},
   "source": [
    "## Creazione del database e popolamento delle tabelle\n",
    "1. inizializzare sqlalchemy engine \n",
    "2. connessione col db \n",
    "3. scrittura e lettura (tramite pandas)\n",
    "4. chiusura conessione"
   ]
  },
  {
   "cell_type": "code",
   "execution_count": 50,
   "metadata": {},
   "outputs": [],
   "source": [
    "from sqlalchemy import create_engine, text"
   ]
  },
  {
   "cell_type": "code",
   "execution_count": 51,
   "metadata": {},
   "outputs": [],
   "source": [
    "engine = create_engine(\"sqlite:////Users/flint/Data/kaggle/books/book-recommender/booksdb.sql\")"
   ]
  },
  {
   "cell_type": "code",
   "execution_count": 52,
   "metadata": {},
   "outputs": [],
   "source": [
    "conn = engine.connect()\n",
    "book_genres.to_sql('genre', con=conn, if_exists='replace', index=False)\n",
    "rating_db.to_sql('rating', con=conn, if_exists='replace', index=False)\n",
    "books_db.to_sql('books', con=conn, if_exists='replace', index=False)\n",
    "conn.close()"
   ]
  },
  {
   "cell_type": "markdown",
   "metadata": {},
   "source": [
    "## Leggere da DB"
   ]
  },
  {
   "cell_type": "code",
   "execution_count": 45,
   "metadata": {},
   "outputs": [],
   "source": [
    "sql = \"\"\"\n",
    "SELECT B.author, B.pages, G.genre\n",
    "FROM books AS B JOIN genre AS G\n",
    "ON B.id = G.book\n",
    "WHERE B.title = 'Freakonomics A Rogue Economist Explores the Hidden Side of Everything Freakonomics 1'\n",
    "\"\"\"\n",
    "sql2 = \"SELECT COUNT(*) AS rating_num FROM rating\""
   ]
  },
  {
   "cell_type": "code",
   "execution_count": 46,
   "metadata": {},
   "outputs": [],
   "source": [
    "conn = engine.connect()\n",
    "query_answer = pd.read_sql(sql=text(sql2), con=conn)\n",
    "conn.close()"
   ]
  },
  {
   "cell_type": "code",
   "execution_count": 47,
   "metadata": {},
   "outputs": [
    {
     "data": {
      "text/html": [
       "<div>\n",
       "<style scoped>\n",
       "    .dataframe tbody tr th:only-of-type {\n",
       "        vertical-align: middle;\n",
       "    }\n",
       "\n",
       "    .dataframe tbody tr th {\n",
       "        vertical-align: top;\n",
       "    }\n",
       "\n",
       "    .dataframe thead th {\n",
       "        text-align: right;\n",
       "    }\n",
       "</style>\n",
       "<table border=\"1\" class=\"dataframe\">\n",
       "  <thead>\n",
       "    <tr style=\"text-align: right;\">\n",
       "      <th></th>\n",
       "      <th>rating_num</th>\n",
       "    </tr>\n",
       "  </thead>\n",
       "  <tbody>\n",
       "    <tr>\n",
       "      <th>0</th>\n",
       "      <td>196296</td>\n",
       "    </tr>\n",
       "  </tbody>\n",
       "</table>\n",
       "</div>"
      ],
      "text/plain": [
       "   rating_num\n",
       "0      196296"
      ]
     },
     "execution_count": 47,
     "metadata": {},
     "output_type": "execute_result"
    }
   ],
   "source": [
    "query_answer"
   ]
  },
  {
   "cell_type": "code",
   "execution_count": null,
   "metadata": {},
   "outputs": [],
   "source": []
  }
 ],
 "metadata": {
  "kernelspec": {
   "display_name": "nlp",
   "language": "python",
   "name": "python3"
  },
  "language_info": {
   "codemirror_mode": {
    "name": "ipython",
    "version": 3
   },
   "file_extension": ".py",
   "mimetype": "text/x-python",
   "name": "python",
   "nbconvert_exporter": "python",
   "pygments_lexer": "ipython3",
   "version": "3.9.17"
  }
 },
 "nbformat": 4,
 "nbformat_minor": 2
}
