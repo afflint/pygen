{
 "cells": [
  {
   "cell_type": "code",
   "execution_count": 1,
   "metadata": {},
   "outputs": [],
   "source": [
    "from sqlalchemy import create_engine, text \n",
    "import pandas as pd \n",
    "import dbutils as db \n",
    "import numpy as np \n",
    "from sklearn.preprocessing import MinMaxScaler"
   ]
  },
  {
   "cell_type": "markdown",
   "metadata": {},
   "source": [
    "## Domande sui dati\n",
    "1. Raggruppare gli utenti con simili profili di interessi per i generi letterari (clustering)\n",
    "2. Preso un utente, suggerire un libro che non ha letto sulla base del gradimento per i vari libri da parte di utenti con il profilo simile\n",
    "   \n",
    "```\n",
    "book(id, title, pages, author, rating_count, description)\n",
    "rating(book, user, rating)\n",
    "genre(book, genre)\n",
    "```"
   ]
  },
  {
   "cell_type": "code",
   "execution_count": 2,
   "metadata": {},
   "outputs": [],
   "source": [
    "connection_string = \"sqlite:////Users/flint/Data/kaggle/books/book-recommender/booksdb.sql\"\n",
    "books = db.Books(connection_string=connection_string)"
   ]
  },
  {
   "cell_type": "markdown",
   "metadata": {},
   "source": [
    "## Visualize users"
   ]
  },
  {
   "cell_type": "code",
   "execution_count": 6,
   "metadata": {},
   "outputs": [],
   "source": [
    "from sklearn.manifold import TSNE"
   ]
  },
  {
   "cell_type": "code",
   "execution_count": 4,
   "metadata": {},
   "outputs": [],
   "source": [
    "tsne = TSNE(n_components=2)\n",
    "p2d = tsne.fit_transform(books.profile.iloc[:1000])"
   ]
  },
  {
   "cell_type": "code",
   "execution_count": 5,
   "metadata": {},
   "outputs": [],
   "source": [
    "import seaborn as sns\n",
    "import matplotlib.pyplot as plt"
   ]
  },
  {
   "cell_type": "code",
   "execution_count": null,
   "metadata": {},
   "outputs": [],
   "source": [
    "p2d "
   ]
  },
  {
   "cell_type": "code",
   "execution_count": null,
   "metadata": {},
   "outputs": [],
   "source": [
    "fig, ax = plt.subplots(figsize=(8, 8))\n",
    "ax.scatter(x=p2d[:,0], y=p2d[:,1], alpha=0.2, s=10, c=assignment)\n",
    "ax.scatter(x=centroids[:,0], y=centroids[:,1], \n",
    "        c=range(centroids.shape[0]), s=120)\n",
    "ax.set_xlim(-60, 60)\n",
    "ax.set_ylim(-60, 60)\n",
    "plt.tight_layout()\n",
    "plt.show()"
   ]
  },
  {
   "cell_type": "markdown",
   "metadata": {},
   "source": [
    "## KMeans from scratch\n",
    "1. decidere il parametro k (in questo esempio useremo il valore 6)\n",
    "2. Generare casualmente k punti di partenza (centroidi)\n",
    "3. Assegnare ogni punto al centroide più vicino\n",
    "   1. Calcolare la distanza fra i punti e tutti i centroidi\n",
    "   2. Assegnare i punti\n",
    "4. Calcolare la RSS\n",
    "5. Sostituire i centroidi con la media del cluster corrispondente"
   ]
  },
  {
   "cell_type": "code",
   "execution_count": 8,
   "metadata": {},
   "outputs": [],
   "source": [
    "k = 6\n",
    "indexes = np.random.choice(range(p2d.shape[0]), size=k, replace=False)\n",
    "centroids = p2d[indexes]"
   ]
  },
  {
   "cell_type": "markdown",
   "metadata": {},
   "source": [
    "#### Distanza"
   ]
  },
  {
   "cell_type": "code",
   "execution_count": 9,
   "metadata": {},
   "outputs": [],
   "source": [
    "from sklearn.metrics import pairwise_distances"
   ]
  },
  {
   "cell_type": "code",
   "execution_count": 49,
   "metadata": {},
   "outputs": [],
   "source": [
    "delta = pairwise_distances(p2d, centroids)"
   ]
  },
  {
   "cell_type": "code",
   "execution_count": 50,
   "metadata": {},
   "outputs": [],
   "source": [
    "assignment = []\n",
    "for user in delta:\n",
    "    assignment.append(np.argmin(user))"
   ]
  },
  {
   "cell_type": "code",
   "execution_count": null,
   "metadata": {},
   "outputs": [],
   "source": [
    "assignment[:6]"
   ]
  },
  {
   "cell_type": "markdown",
   "metadata": {},
   "source": [
    "#### RSS"
   ]
  },
  {
   "cell_type": "code",
   "execution_count": 52,
   "metadata": {},
   "outputs": [],
   "source": [
    "rss = 0\n",
    "for i, user in enumerate(delta):\n",
    "    d = delta[i, assignment[i]]\n",
    "    rss += d"
   ]
  },
  {
   "cell_type": "code",
   "execution_count": null,
   "metadata": {},
   "outputs": [],
   "source": [
    "rss "
   ]
  },
  {
   "cell_type": "markdown",
   "metadata": {},
   "source": [
    "#### Ridefinire i centroidi"
   ]
  },
  {
   "cell_type": "code",
   "execution_count": 45,
   "metadata": {},
   "outputs": [],
   "source": [
    "clusters = {}\n",
    "for i in range(centroids.shape[0]):\n",
    "    cluster_points = []\n",
    "    for j, a in enumerate(assignment):\n",
    "        if a == i:\n",
    "            cluster_points.append(p2d[j])\n",
    "    clusters[i] = np.array(cluster_points)"
   ]
  },
  {
   "cell_type": "code",
   "execution_count": null,
   "metadata": {},
   "outputs": [],
   "source": [
    "cluster_0 = clusters[1]\n",
    "\n",
    "fig, ax = plt.subplots(figsize=(6, 6))\n",
    "ax.scatter(x=cluster_0[:,0], y=cluster_0[:,1], alpha=0.2, \n",
    "        s=20)\n",
    "ax.set_xlim(-60, 60)\n",
    "ax.set_ylim(-60, 60)\n",
    "plt.tight_layout()\n",
    "plt.show()"
   ]
  },
  {
   "cell_type": "code",
   "execution_count": 47,
   "metadata": {},
   "outputs": [],
   "source": [
    "for k, v in clusters.items():\n",
    "    centroids[k] = v.mean(axis=0)"
   ]
  },
  {
   "cell_type": "code",
   "execution_count": null,
   "metadata": {},
   "outputs": [],
   "source": [
    "centroids"
   ]
  },
  {
   "cell_type": "markdown",
   "metadata": {},
   "source": [
    "# Implementazione a oggetti"
   ]
  },
  {
   "cell_type": "code",
   "execution_count": 10,
   "metadata": {},
   "outputs": [],
   "source": [
    "import dbutils as db \n",
    "import seaborn as sns\n",
    "import matplotlib.pyplot as plt"
   ]
  },
  {
   "cell_type": "code",
   "execution_count": 2,
   "metadata": {},
   "outputs": [],
   "source": [
    "connection_string = \"sqlite:////Users/flint/Data/kaggle/books/book-recommender/booksdb.sql\"\n",
    "books = db.Books(connection_string=connection_string)"
   ]
  },
  {
   "cell_type": "code",
   "execution_count": 3,
   "metadata": {},
   "outputs": [],
   "source": [
    "kmeans = db.KMeans(k=6, data=books.profile.iloc[:1000].to_numpy())"
   ]
  },
  {
   "cell_type": "code",
   "execution_count": 4,
   "metadata": {},
   "outputs": [],
   "source": [
    "history = kmeans.run(max_iterations=1000)"
   ]
  },
  {
   "cell_type": "code",
   "execution_count": 5,
   "metadata": {},
   "outputs": [
    {
     "data": {
      "text/plain": [
       "[414.2428487017326,\n",
       " 340.4854638455204,\n",
       " 328.65802642622015,\n",
       " 319.5794035754243,\n",
       " 317.1368971438352,\n",
       " 316.5388869189807,\n",
       " 316.0807599267053,\n",
       " 315.69609089839486,\n",
       " 315.6226977602821,\n",
       " 315.47072801617867,\n",
       " 315.41006730998504,\n",
       " 315.41006730998504]"
      ]
     },
     "execution_count": 5,
     "metadata": {},
     "output_type": "execute_result"
    }
   ],
   "source": [
    "history "
   ]
  },
  {
   "cell_type": "code",
   "execution_count": 7,
   "metadata": {},
   "outputs": [],
   "source": [
    "tsne = TSNE(n_components=2)\n",
    "p2d = tsne.fit_transform(books.profile.iloc[:1000])"
   ]
  },
  {
   "cell_type": "code",
   "execution_count": 11,
   "metadata": {},
   "outputs": [
    {
     "data": {
      "image/png": "[encoded data removed]",
      "text/plain": [
       "<Figure size 800x800 with 1 Axes>"
      ]
     },
     "metadata": {},
     "output_type": "display_data"
    }
   ],
   "source": [
    "fig, ax = plt.subplots(figsize=(8, 8))\n",
    "ax.scatter(x=p2d[:,0], y=p2d[:,1], alpha=0.2, s=20, c=kmeans.assignment)\n",
    "ax.set_xlim(-60, 60)\n",
    "ax.set_ylim(-60, 60)\n",
    "plt.tight_layout()\n",
    "plt.show()"
   ]
  },
  {
   "cell_type": "code",
   "execution_count": 13,
   "metadata": {},
   "outputs": [],
   "source": [
    "from collections import defaultdict"
   ]
  },
  {
   "cell_type": "code",
   "execution_count": 15,
   "metadata": {},
   "outputs": [],
   "source": [
    "clusters = defaultdict(list)\n",
    "for i, cluster in enumerate(kmeans.assignment):\n",
    "    clusters[cluster].append(i)"
   ]
  },
  {
   "cell_type": "code",
   "execution_count": 33,
   "metadata": {},
   "outputs": [
    {
     "data": {
      "text/plain": [
       "[0, 9, 12, 16, 17, 61]"
      ]
     },
     "execution_count": 33,
     "metadata": {},
     "output_type": "execute_result"
    }
   ],
   "source": [
    "cl0 = clusters[5]\n",
    "cl0[:6]"
   ]
  },
  {
   "cell_type": "code",
   "execution_count": 29,
   "metadata": {},
   "outputs": [],
   "source": [
    "users = books.profile.iloc[:1000]"
   ]
  },
  {
   "cell_type": "code",
   "execution_count": 30,
   "metadata": {},
   "outputs": [
    {
     "data": {
      "text/plain": [
       "biography             0.295238\n",
       "historical fiction    0.295238\n",
       "history               0.295238\n",
       "fiction               0.291005\n",
       "non-fiction           0.186047\n",
       "fantasy               0.178161\n",
       "paranormal            0.178161\n",
       "romance               0.126984\n",
       "young-adult           0.126984\n",
       "children              0.000000\n",
       "comics                0.000000\n",
       "crime                 0.000000\n",
       "graphic               0.000000\n",
       "mystery               0.000000\n",
       "thriller              0.000000\n",
       "poetry                0.000000\n",
       "Name: 55, dtype: float64"
      ]
     },
     "execution_count": 30,
     "metadata": {},
     "output_type": "execute_result"
    }
   ],
   "source": [
    "users.iloc[13].sort_values(ascending=False)"
   ]
  },
  {
   "cell_type": "code",
   "execution_count": 31,
   "metadata": {},
   "outputs": [
    {
     "data": {
      "text/plain": [
       "biography             0.390476\n",
       "historical fiction    0.390476\n",
       "history               0.390476\n",
       "non-fiction           0.317829\n",
       "comics                0.282759\n",
       "graphic               0.282759\n",
       "young-adult           0.216931\n",
       "children              0.000000\n",
       "crime                 0.000000\n",
       "fantasy               0.000000\n",
       "fiction               0.000000\n",
       "mystery               0.000000\n",
       "paranormal            0.000000\n",
       "romance               0.000000\n",
       "thriller              0.000000\n",
       "poetry                0.000000\n",
       "Name: 61, dtype: float64"
      ]
     },
     "execution_count": 31,
     "metadata": {},
     "output_type": "execute_result"
    }
   ],
   "source": [
    "users.iloc[14].sort_values(ascending=False)"
   ]
  },
  {
   "cell_type": "code",
   "execution_count": 34,
   "metadata": {},
   "outputs": [
    {
     "data": {
      "text/plain": [
       "biography             0.434716\n",
       "historical fiction    0.434716\n",
       "history               0.434716\n",
       "crime                 0.361592\n",
       "mystery               0.361592\n",
       "thriller              0.361592\n",
       "fiction               0.320362\n",
       "fantasy               0.268570\n",
       "paranormal            0.268570\n",
       "young-adult           0.194459\n",
       "romance               0.125277\n",
       "comics                0.109677\n",
       "graphic               0.109677\n",
       "poetry                0.076105\n",
       "children              0.052310\n",
       "non-fiction           0.048679\n",
       "dtype: float64"
      ]
     },
     "execution_count": 34,
     "metadata": {},
     "output_type": "execute_result"
    }
   ],
   "source": [
    "users.iloc[cl0].mean(axis=0).sort_values(ascending=False)"
   ]
  },
  {
   "cell_type": "code",
   "execution_count": null,
   "metadata": {},
   "outputs": [],
   "source": []
  }
 ],
 "metadata": {
  "kernelspec": {
   "display_name": "nlp",
   "language": "python",
   "name": "python3"
  },
  "language_info": {
   "codemirror_mode": {
    "name": "ipython",
    "version": 3
   },
   "file_extension": ".py",
   "mimetype": "text/x-python",
   "name": "python",
   "nbconvert_exporter": "python",
   "pygments_lexer": "ipython3",
   "version": "3.9.17"
  }
 },
 "nbformat": 4,
 "nbformat_minor": 2
}
