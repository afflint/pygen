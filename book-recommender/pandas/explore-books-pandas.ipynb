{
 "cells": [
  {
   "cell_type": "markdown",
   "metadata": {},
   "source": [
    "# Esplorazione dati con ``pandas``\n",
    "\n",
    "Questo tutorial è l'applicazione al nostro caso di studio del tutorial ufficiale [pandas](https://pandas.pydata.org/docs/getting_started/intro_tutorials/01_table_oriented.html).\n",
    "\n",
    "``pandas`` è una libreria Python utile per manipolare e analizzare dati. Questa libreria fornisce due tipi di strutture dati: ``Series`` e ``DataFrame``. \n",
    "\n",
    "Ci immaginiamo i nostri dati in una struttura a tabella, come in excel. Ogni colonna è rappresentata con una ``Series``, e l'intera tabella è rappresentata com un ``DataFrame``.\n",
    "\n",
    "<img src=\"table.png\" style = \"width:1182px; height=702px;\">"
   ]
  },
  {
   "cell_type": "markdown",
   "metadata": {},
   "source": [
    "## Importazione e lettura file"
   ]
  },
  {
   "cell_type": "markdown",
   "metadata": {},
   "source": [
    "### Importare pandas"
   ]
  },
  {
   "cell_type": "code",
   "execution_count": 2,
   "metadata": {},
   "outputs": [],
   "source": [
    "import pandas as pd"
   ]
  },
  {
   "cell_type": "code",
   "execution_count": 3,
   "metadata": {},
   "outputs": [],
   "source": [
    "metadata_file = \"collaborative_book_metadata.csv\""
   ]
  },
  {
   "cell_type": "markdown",
   "metadata": {},
   "source": [
    "### Lettura dataset"
   ]
  },
  {
   "cell_type": "code",
   "execution_count": 4,
   "metadata": {},
   "outputs": [],
   "source": [
    "books_df = pd.read_csv(\"data/\"+metadata_file, index_col=0)"
   ]
  },
  {
   "cell_type": "markdown",
   "metadata": {},
   "source": [
    "### Visualizzazione dataset"
   ]
  },
  {
   "cell_type": "code",
   "execution_count": null,
   "metadata": {},
   "outputs": [],
   "source": [
    "books_df"
   ]
  },
  {
   "cell_type": "markdown",
   "metadata": {},
   "source": [
    "Un ``DataFrame`` è una struttura di dati bidimensionale che può memorizzare dati di diverso tipo (compresi caratteri, numeri interi, valori in virgola mobile, dati categorici e altro) in colonne. È simile a un foglio di calcolo, a una tabella SQL o a data.frame in R.\n",
    "\n",
    "Per visualizzare le prime N righe di un ``DataFrame``, utilizzare il metodo ``head()`` con il numero di righe richiesto (in questo caso 20) come argomento."
   ]
  },
  {
   "cell_type": "code",
   "execution_count": null,
   "metadata": {},
   "outputs": [],
   "source": [
    "books_df.head(20)"
   ]
  },
  {
   "cell_type": "markdown",
   "metadata": {},
   "source": [
    "### Tipi di dato nel DataFrame\n",
    "\n",
    "Per verificare come pandas ha interpretato ciascuno dei tipi di dati delle colonne, si può richiedere l'attributo pandas ``dtypes``.\n",
    "\n",
    "Per ciascuna colonna, viene elencato il tipo di dati utilizzato."
   ]
  },
  {
   "cell_type": "code",
   "execution_count": null,
   "metadata": {},
   "outputs": [],
   "source": [
    "books_df.dtypes"
   ]
  },
  {
   "cell_type": "markdown",
   "metadata": {},
   "source": [
    "### Sommario di un DataFrame"
   ]
  },
  {
   "cell_type": "code",
   "execution_count": null,
   "metadata": {},
   "outputs": [],
   "source": [
    "books_df.info()"
   ]
  },
  {
   "cell_type": "markdown",
   "metadata": {},
   "source": [
    "Il metodo ``info()`` fornisce informazioni tecniche su un DataFrame, quindi spieghiamo l'output in modo più dettagliato:\n",
    "\n",
    "- Si tratta effettivamente di un DataFrame.\n",
    "- Ci sono 96 voci, cioè 96 righe.\n",
    "- Ogni riga ha un'etichetta di riga (alias l'indice) con valori che vanno da 0 a 95.\n",
    "- La tabella ha 10 colonne. La maggior parte delle colonne ha un valore per ciascuna riga (tutti gli 96 valori sono non nulli). Nessuna colonna ha valori mancanti.\n",
    "- Le colonne book_id, num_pages, ratings_count e book_id_mapping sono costituite da dati interi. Le altre colonne sono dati testuali (stringhe, aliasi object).\n",
    "- Il tipo di dati (caratteri, interi,...) nelle diverse colonne è riassunto dall'elenco dei tipi di dati.\n",
    "- Viene fornita anche la quantità approssimativa di RAM utilizzata per contenere il DataFrame."
   ]
  },
  {
   "cell_type": "markdown",
   "metadata": {},
   "source": [
    "### Statistiche di base"
   ]
  },
  {
   "cell_type": "code",
   "execution_count": null,
   "metadata": {},
   "outputs": [],
   "source": [
    "books_df[[\"title\",\"name\"]]"
   ]
  },
  {
   "cell_type": "markdown",
   "metadata": {},
   "source": [
    "Il metodo ``describe()`` fornisce una rapida panoramica dei dati numerici di un ``DataFrame``. Le colonne contenenti dati testuali, per impostazione predefinita, non vengono prese in considerazione dal metodo ``describe()``.\n",
    "\n",
    "Molte operazioni di pandas restituiscono un ``DataFrame`` o una ``Series``. Il metodo ``describe()`` è un esempio di operazione pandas che restituisce una ``Series`` o un ``DataFrame`` pandas."
   ]
  },
  {
   "cell_type": "markdown",
   "metadata": {},
   "source": [
    "## Selezione di colonne e righe"
   ]
  },
  {
   "cell_type": "markdown",
   "metadata": {},
   "source": [
    "### Selezionare una colonna\n",
    "\n",
    "Per selezionare la colonna, utilizzare l'etichetta della colonna tra parentesi quadre ``[]``."
   ]
  },
  {
   "cell_type": "code",
   "execution_count": null,
   "metadata": {},
   "outputs": [],
   "source": [
    "books_df[\"title\"]"
   ]
  },
  {
   "cell_type": "markdown",
   "metadata": {},
   "source": [
    "Quando si seleziona una singola colonna di un ``DataFrame`` pandas, il risultato è una ``Series`` pandas . "
   ]
  },
  {
   "cell_type": "code",
   "execution_count": null,
   "metadata": {},
   "outputs": [],
   "source": [
    "type(books_df[\"title\"])"
   ]
  },
  {
   "cell_type": "markdown",
   "metadata": {},
   "source": [
    "Possiamo vedere quante righe abbiamo estratto"
   ]
  },
  {
   "cell_type": "code",
   "execution_count": null,
   "metadata": {},
   "outputs": [],
   "source": [
    "books_df[\"title\"].shape"
   ]
  },
  {
   "cell_type": "markdown",
   "metadata": {},
   "source": [
    "``DataFrame.shape`` è un attributo (ricordate il tutorial sulla lettura e la scrittura, non usate le parentesi per gli attributi) di una ``Series`` pandas e di un ``DataFrame`` che contiene il numero di righe e colonne: ``(nrows, ncolumns)``. Una serie pandas è unidimensionale e viene restituito solo il numero di righe."
   ]
  },
  {
   "cell_type": "markdown",
   "metadata": {},
   "source": [
    "### Selezionare più colonne\n",
    "\n",
    "Per selezionare più colonne, utilizzare un elenco di nomi di colonne all'interno delle parentesi di selezione ``[]``."
   ]
  },
  {
   "cell_type": "code",
   "execution_count": null,
   "metadata": {},
   "outputs": [],
   "source": [
    "books_df[[\"title\",\"name\"]]"
   ]
  },
  {
   "cell_type": "code",
   "execution_count": null,
   "metadata": {},
   "outputs": [],
   "source": [
    "type(books_df[[\"title\",\"name\"]])"
   ]
  },
  {
   "cell_type": "code",
   "execution_count": null,
   "metadata": {},
   "outputs": [],
   "source": [
    "books_df[[\"title\",\"name\"]].shape"
   ]
  },
  {
   "cell_type": "markdown",
   "metadata": {},
   "source": [
    "### Filtrare righe\n",
    "\n",
    "Per selezionare le righe in base a un'espressione condizionale, utilizzare una condizione all'interno delle parentesi di selezione ``[]``."
   ]
  },
  {
   "cell_type": "code",
   "execution_count": 16,
   "metadata": {},
   "outputs": [],
   "source": [
    "long_books = books_df[books_df['num_pages']>1000]"
   ]
  },
  {
   "cell_type": "code",
   "execution_count": null,
   "metadata": {},
   "outputs": [],
   "source": [
    "long_books"
   ]
  },
  {
   "cell_type": "markdown",
   "metadata": {},
   "source": [
    "La condizione all'interno delle parentesi di selezione ``books_df['num_pages']>1000`` verifica per quali righe la colonna ``num_pages``ha un valore superiore a 1000:"
   ]
  },
  {
   "cell_type": "code",
   "execution_count": null,
   "metadata": {},
   "outputs": [],
   "source": [
    "books_df['num_pages']>1000"
   ]
  },
  {
   "cell_type": "markdown",
   "metadata": {},
   "source": [
    "L'output dell'espressione condizionale (>, ma anche ==, !=, <, <=,...) è in realtà una serie pandas di valori booleani (veri o falsi) con lo stesso numero di righe del ``DataFrame`` originale. Una ``Series`` di valori booleani di questo tipo può essere usata per filtrare il ``DataFrame`` inserendola tra le parentesi di selezione ``[]``. Verranno selezionate solo le righe per le quali il valore è ``True``.\n",
    "\n",
    "Quante righe avremo selezionato?"
   ]
  },
  {
   "cell_type": "code",
   "execution_count": null,
   "metadata": {},
   "outputs": [],
   "source": [
    "long_books.shape"
   ]
  },
  {
   "cell_type": "markdown",
   "metadata": {},
   "source": [
    "### Filtrare righe con più condizioni"
   ]
  },
  {
   "cell_type": "markdown",
   "metadata": {},
   "source": [
    "Proviamo a selezionare i libri di Stephen King e J.K. Rowling."
   ]
  },
  {
   "cell_type": "code",
   "execution_count": null,
   "metadata": {},
   "outputs": [],
   "source": [
    "king_rowling = books_df[books_df['name'].isin([\"J.K. Rowling\", \"Stephen King\"])]\n",
    "king_rowling.head()"
   ]
  },
  {
   "cell_type": "markdown",
   "metadata": {},
   "source": [
    "Simile all'espressione condizionale, la funzione condizionale ``isin()`` restituisce un ``True`` per ogni riga i cui valori sono presenti nell'elenco fornito. Per filtrare le righe in base a tale funzione, utilizzare la funzione condizionale all'interno delle parentesi di selezione ``[]``. In questo caso, la condizione all'interno delle parentesi di selezione ``books_df['name'].isin([\"J.K. Rowling\", \"Stephen King\"]`` verifica per quali righe la colonna ``name`` è pari a J.K. Rowling o Stephen King.\n",
    "\n",
    "Quanto sopra è equivalente a filtrare le righe per le quali l'autore è J.K. Rowling o Stephen King e a combinare le due affermazioni con l'operatore ``|`` (o):"
   ]
  },
  {
   "cell_type": "code",
   "execution_count": 21,
   "metadata": {},
   "outputs": [],
   "source": [
    "king_rowling = books_df[(books_df['name']==\"J.K. Rowling\")|(books_df['name']==\"Stephen King\")]"
   ]
  },
  {
   "cell_type": "markdown",
   "metadata": {},
   "source": [
    "Quando si combinano più affermazioni condizionali, ogni condizione deve essere circondata da parentesi ``()``. Inoltre, non è possibile utilizzare ``or``/``and`` ma è necessario utilizzare l'operatore o ``|`` e l'operatore e ``&``."
   ]
  },
  {
   "cell_type": "markdown",
   "metadata": {},
   "source": [
    "### Filtrare righe con valori nulli\n",
    "\n",
    "La funzione condizionale ``notna()`` restituisce un ``True`` per ogni riga i cui valori non sono ``Null``. Per questo motivo, può essere combinata con le parentesi di selezione ``[]`` per filtrare la tabella dei dati."
   ]
  },
  {
   "cell_type": "code",
   "execution_count": null,
   "metadata": {},
   "outputs": [],
   "source": [
    "print(books_df.shape)\n",
    "print(books_df.notna().shape)"
   ]
  },
  {
   "cell_type": "markdown",
   "metadata": {},
   "source": [
    "### Selezionare righe e colonne contemporaneamente"
   ]
  },
  {
   "cell_type": "markdown",
   "metadata": {},
   "source": [
    "Quando selezioniamo righe e colonne insieme, l'uso delle parentesi ``[]`` non è più sufficiente. Gli operatori ``loc``/``iloc`` sono necessari davanti alle parentesi di selezione ``[]``. Quando si usa ``loc``/``iloc``, la parte prima della virgola è la riga desiderata e la parte dopo la virgola è la colonna che si desidera selezionare."
   ]
  },
  {
   "cell_type": "code",
   "execution_count": null,
   "metadata": {},
   "outputs": [],
   "source": [
    "books_df.loc[books_df['num_pages']>1000, \"name\"]"
   ]
  },
  {
   "cell_type": "markdown",
   "metadata": {},
   "source": [
    "### Selezionare righe in base alla loro posizione\n",
    "\n",
    "Quando si è interessati a determinate righe e/o colonne in base alla loro posizione nella tabella, si usa l'operatore ``iloc`` davanti alle parentesi di selezione ``[]``."
   ]
  },
  {
   "cell_type": "code",
   "execution_count": null,
   "metadata": {},
   "outputs": [],
   "source": [
    "books_df.iloc[10:15]"
   ]
  },
  {
   "cell_type": "code",
   "execution_count": null,
   "metadata": {},
   "outputs": [],
   "source": [
    "books_df.iloc[10:15, 1:5]"
   ]
  },
  {
   "cell_type": "code",
   "execution_count": null,
   "metadata": {},
   "outputs": [],
   "source": [
    "books_df.iloc[0:3, [1,5,8]]"
   ]
  },
  {
   "cell_type": "markdown",
   "metadata": {},
   "source": [
    "### Cambiare il valore dei dati della selezione effettuata\n",
    "\n",
    "Quando si selezionano righe e/o colonne specifiche con ``loc`` o ``iloc``, è possibile assegnare nuovi valori ai dati selezionati. Ad esempio, per assegnare il nome anonimo ai primi 3 elementi della colonna autore."
   ]
  },
  {
   "cell_type": "code",
   "execution_count": null,
   "metadata": {},
   "outputs": [],
   "source": [
    "books_df.iloc[0:3, 8] = \"Autore Anonimo\"\n",
    "books_df.iloc[0:3, [1,8]]"
   ]
  },
  {
   "cell_type": "markdown",
   "metadata": {},
   "source": [
    "## Calcolo delle statistiche descrittive\n",
    "\n",
    "Sono disponibili diverse statistiche che possono essere applicate alle colonne con dati numerici. Le operazioni in generale escludono i dati mancanti e operano di default sulle righe."
   ]
  },
  {
   "cell_type": "markdown",
   "metadata": {},
   "source": [
    "### Massimo e minimo\n"
   ]
  },
  {
   "cell_type": "code",
   "execution_count": null,
   "metadata": {},
   "outputs": [],
   "source": [
    "print(f\"Massimo numero di pagine: {books_df['num_pages'].max()}\")"
   ]
  },
  {
   "cell_type": "code",
   "execution_count": null,
   "metadata": {},
   "outputs": [],
   "source": [
    "print(f\"Minimo numero di pagine: {books_df['num_pages'].min()}\")"
   ]
  },
  {
   "cell_type": "markdown",
   "metadata": {},
   "source": [
    "Come illustrato dal metodo ``max()``, si possono fare cose con un ``DataFrame`` o una ``Series``. pandas fornisce molte funzionalità, ognuna delle quali è un metodo che si può applicare a un ``DataFrame`` o a una ``Series``. Poiché i metodi sono funzioni, non dimenticate di usare le parentesi ``()``."
   ]
  },
  {
   "cell_type": "markdown",
   "metadata": {},
   "source": [
    "### Media, mediana"
   ]
  },
  {
   "cell_type": "code",
   "execution_count": null,
   "metadata": {},
   "outputs": [],
   "source": [
    "print(f\"Media numero di pagine: {books_df['num_pages'].mean()}\")\n",
    "print(f\"Mediana numero di pagine: {books_df['num_pages'].median()}\")"
   ]
  },
  {
   "cell_type": "markdown",
   "metadata": {},
   "source": [
    "### Calcolo su più colonne"
   ]
  },
  {
   "cell_type": "code",
   "execution_count": null,
   "metadata": {},
   "outputs": [],
   "source": [
    "books_df[['num_pages', 'ratings_count']].mean()"
   ]
  },
  {
   "cell_type": "markdown",
   "metadata": {},
   "source": [
    "### Raggruppamento per valori categorici\n",
    "\n",
    "Il calcolo di una determinata statistica (ad esempio, il numero di pagine medio) per ogni categoria di una colonna (ad esempio, nome dell'autore nella colonna ``name``) è uno schema comune. Il metodo ``groupby`` è utilizzato per supportare questo tipo di operazioni. Questo rientra nello schema più generale split-apply-combine:\n",
    "\n",
    "- Dividere i dati in gruppi\n",
    "- Applicare una funzione a ciascun gruppo in modo indipendente\n",
    "- Combinare i risultati in una struttura di dati"
   ]
  },
  {
   "cell_type": "code",
   "execution_count": null,
   "metadata": {},
   "outputs": [],
   "source": [
    "books_df[['num_pages', 'name']].groupby(\"name\").mean()"
   ]
  },
  {
   "cell_type": "markdown",
   "metadata": {},
   "source": [
    "Poiché il nostro interesse è il numero medio di pagine per ogni autore, viene effettuata prima una sotto-selezione su queste due colonne: ``books_df[['num_pages', 'name']]``. Successivamente, si applica il metodo ``groupby()`` alla colonna ``name`` per creare un gruppo per categoria. Viene calcolato e restituito il numero medio di pagine per ogni autore.\n",
    "\n",
    "Nell'esempio precedente, abbiamo prima selezionato esplicitamente le 2 colonne. In caso contrario, il metodo della media viene applicato a ogni colonna contenente colonne numeriche passando ``numeric_only=True``:"
   ]
  },
  {
   "cell_type": "code",
   "execution_count": null,
   "metadata": {},
   "outputs": [],
   "source": [
    "books_df.groupby(\"name\").mean(numeric_only=True)"
   ]
  },
  {
   "cell_type": "markdown",
   "metadata": {},
   "source": [
    "La selezione delle colonne (parentesi rettangolari ``[]`` come di consueto) è supportata anche sui dati raggruppati.\n",
    "\n",
    "Inoltre, possiamo raggruppare il ``DataFrame`` per più colonne, ottenendone le combinazioni dei valori."
   ]
  },
  {
   "cell_type": "code",
   "execution_count": null,
   "metadata": {},
   "outputs": [],
   "source": [
    "books_df.groupby([\"name\",\"genre\"])[\"num_pages\"].mean().tail(20)"
   ]
  },
  {
   "cell_type": "markdown",
   "metadata": {},
   "source": [
    "### Conteggio del numero di righe per gruppo"
   ]
  },
  {
   "cell_type": "markdown",
   "metadata": {},
   "source": [
    "Il metodo ``value_counts()`` conta il numero di record per ogni categoria in una colonna."
   ]
  },
  {
   "cell_type": "code",
   "execution_count": null,
   "metadata": {},
   "outputs": [],
   "source": [
    "books_df[\"name\"].value_counts()"
   ]
  },
  {
   "cell_type": "markdown",
   "metadata": {},
   "source": [
    "La funzione è una scorciatoia, poiché si tratta in realtà di un'operazione di ``groupby`` in combinazione con il conteggio del numero di record all'interno di ciascun gruppo."
   ]
  },
  {
   "cell_type": "code",
   "execution_count": null,
   "metadata": {},
   "outputs": [],
   "source": [
    "books_df.groupby(\"name\")[\"name\"].count()"
   ]
  },
  {
   "cell_type": "markdown",
   "metadata": {},
   "source": [
    "## Gestione delle colonne\n",
    "\n",
    "### Creare nuove colonne derivate da colonne esistenti\n",
    "\n",
    "Creare una nuova colonna assegnando l'output al ``DataFrame`` con un nuovo nome di colonna tra i ``[]``. Il calcolo dei valori delle nuove righe è eseguito elemento per elemento, perciò l'operazione utilizzata viene applicata riga per riga per ottenere il valore della nuova riga."
   ]
  },
  {
   "cell_type": "code",
   "execution_count": null,
   "metadata": {},
   "outputs": [],
   "source": [
    "books_df['famous'] = books_df['ratings_count'] > 100000\n",
    "books_df"
   ]
  },
  {
   "cell_type": "markdown",
   "metadata": {},
   "source": [
    "### Rinominare colonne\n",
    "\n",
    "La funzione ``rename()`` può essere utilizzata sia per le etichette di riga che per quelle di colonna. Fornire un dizionario con le chiavi i nomi correnti e i valori i nuovi nomi per aggiornare i nomi corrispondenti."
   ]
  },
  {
   "cell_type": "code",
   "execution_count": null,
   "metadata": {},
   "outputs": [],
   "source": [
    "books_df_renamed = books_df.rename(columns={'name':'author'})\n",
    "books_df_renamed"
   ]
  },
  {
   "cell_type": "markdown",
   "metadata": {},
   "source": [
    "La mappatura non deve essere limitata ai soli nomi fissi, ma può essere anche una funzione di mappatura. Ad esempio, anche la conversione dei nomi delle colonne in lettere minuscole può essere eseguita con una funzione."
   ]
  },
  {
   "cell_type": "code",
   "execution_count": null,
   "metadata": {},
   "outputs": [],
   "source": [
    "books_df_renamed = books_df.rename(columns=str.upper)\n",
    "books_df_renamed"
   ]
  },
  {
   "cell_type": "markdown",
   "metadata": {},
   "source": [
    "## Combinare più DataFrame diversi\n",
    "\n",
    "### Concatenazione"
   ]
  },
  {
   "cell_type": "code",
   "execution_count": null,
   "metadata": {},
   "outputs": [],
   "source": [
    "ratings_file = \"collaborative_books_df.csv\"\n",
    "ratings_df = pd.read_csv(\"data/\"+ratings_file, index_col=0)\n",
    "ratings_df"
   ]
  },
  {
   "cell_type": "markdown",
   "metadata": {},
   "source": [
    "La funzione ``concat()`` esegue operazioni di concatenazione di più tabelle lungo uno degli assi (riga o colonna).\n",
    "\n",
    "<img src=\"concat.svg\" style = \"width:1182px; height=702px;\">\n",
    "\n",
    "Per impostazione predefinita, la concatenazione avviene lungo l'asse 0, quindi la tabella risultante combina le righe delle tabelle di input."
   ]
  },
  {
   "cell_type": "code",
   "execution_count": 64,
   "metadata": {},
   "outputs": [],
   "source": [
    "books_and_ratings = pd.concat([books_df, ratings_df])"
   ]
  },
  {
   "cell_type": "markdown",
   "metadata": {},
   "source": [
    " Controlliamo la ``shape`` della tabella originale e di quella concatenata per verificare l'operazione."
   ]
  },
  {
   "cell_type": "code",
   "execution_count": null,
   "metadata": {},
   "outputs": [],
   "source": [
    "print('Shape di ``books_df``: ', books_df.shape)\n",
    "print('Shape di ``ratings_df``: ', ratings_df.shape)\n",
    "print('Shape della tabella risultante ``books_and_ratings``: ', books_and_ratings.shape)"
   ]
  },
  {
   "cell_type": "markdown",
   "metadata": {},
   "source": [
    "### Unione tramite chiave comune\n",
    "\n",
    "Utilizzando la funzione ``merge()``, per ogni riga della tabella ``books_df`` vengono aggiunte le coordinate corrispondenti dalla tabella ``ratings_df``. Entrambe le tabelle hanno in comune la colonna ``book_id_mapping``, utilizzata come chiave per combinare le informazioni. La funzione ``merge()`` supporta diverse opzioni di unione, simili alle operazioni di tipo database.\n",
    "\n",
    "<img src=\"merge.svg\" style = \"width:1182px; height=702px;\">\n",
    "\n",
    "Più informazioni sulla funzione ``merge``: https://pandas.pydata.org/docs/reference/api/pandas.merge.html#pandas.merge ."
   ]
  },
  {
   "cell_type": "code",
   "execution_count": null,
   "metadata": {},
   "outputs": [],
   "source": [
    "books_ratings_merge = pd.merge(books_df, ratings_df, on=\"book_id_mapping\")\n",
    "books_ratings_merge"
   ]
  },
  {
   "cell_type": "code",
   "execution_count": null,
   "metadata": {},
   "outputs": [],
   "source": [
    "print('Shape della tabella risultante ``books_ratings_merge``: ', books_ratings_merge.shape)"
   ]
  },
  {
   "cell_type": "code",
   "execution_count": null,
   "metadata": {},
   "outputs": [],
   "source": []
  }
 ],
 "metadata": {
  "kernelspec": {
   "display_name": "python-generali",
   "language": "python",
   "name": "python3"
  },
  "language_info": {
   "codemirror_mode": {
    "name": "ipython",
    "version": 3
   },
   "file_extension": ".py",
   "mimetype": "text/x-python",
   "name": "python",
   "nbconvert_exporter": "python",
   "pygments_lexer": "ipython3",
   "version": "3.10.9"
  }
 },
 "nbformat": 4,
 "nbformat_minor": 2
}
